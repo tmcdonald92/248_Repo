{
 "cells": [
  {
   "cell_type": "code",
   "execution_count": 208,
   "metadata": {},
   "outputs": [],
   "source": [
    "import requests as r\n",
    "from bs4 import BeautifulSoup\n",
    "import pandas as pd\n",
    "from time import sleep\n",
    "from random import randint"
   ]
  },
  {
   "cell_type": "code",
   "execution_count": 6,
   "metadata": {},
   "outputs": [],
   "source": [
    "url = 'https://www.darty.com/nav/achat/gros_electromenager/lave-linge/page1.html'"
   ]
  },
  {
   "cell_type": "code",
   "execution_count": 9,
   "metadata": {},
   "outputs": [],
   "source": [
    "headers = \"\"\"accept: text/html,application/xhtml+xml,application/xml;q=0.9,image/avif,image/webp,image/apng,*/*;q=0.8,application/signed-exchange;v=b3;q=0.9\n",
    "accept-encoding: gzip, deflate, br\n",
    "accept-language: pt-PT,pt;q=0.9,en-US;q=0.8,en;q=0.7,fr;q=0.6,cs;q=0.5,es;q=0.4\n",
    "cache-control: no-cache\n",
    "cookie: rxVisitor=1590242224286J69VFHRIQQ1S8B9U5GF1UJ80DRQ0G9V6; tCdebugLib=1; s_ecid=MCMID%7C12464273977194400053212204472571811876; segm=30; kameleoonVisitorCode=_js_2pjr0b13qqm0pmtx; cikneeto_uuid=id:4af89f12-80b5-46aa-8b30-ee6b90a27b33; OptanonAlertBoxClosed=2020-07-11T08:53:59.109Z; _gcl_au=1.1.336720708.1594457640; sto__vuid=c342c0ee9c87f7a5df2a12b21358c3da; _ga=GA1.2.791524087.1594457815; eb-profile-cluster=3; basket=%7B%22channel%22%3A%22DOT_COM%22%2C%22lines%22%3A%5B%5D%2C%22coursierSlotCheck%22%3Afalse%7D; PCKORDER=0_0_0.00; USERZIPCODE=78100; USERINSEECODE=78551; PCKCITY=ST GERMAIN EN LAYE; _hjid=42759858-8ae4-4966-a4aa-bf4b73f155ef; DARTY_COM_COMPARATOR=4213297:4045360:4084535:4010051; _pin_unauth=dWlkPU1XWTBOMk0yTXpJdE5HVmhNeTAwT0Rrd0xXRXpPVGt0TkdOa056bGhNR1EzT1RFdyZycD1kSEoxWlE; eb-profile-clusters={%22587747fbec8040bea82640dc%22:{%221599007678673%22:15%2C%221598921331813%22:3}}; session_user=w4halw2Ewr9LuyndtVgK; eb-lastactivity-hash=-833916260; dartLev63=SEO_www.google.com_classique_www.google.com%7C1599134590358; _derived_epik=dj0yJnU9VzJlLW9ieUpKTmNQbFZlU01PZXFINU9HX1pyTjlOdlEmbj1iVE1LU040ZzhLZVZMUjBoQWpKY3hBJm09MSZ0PUFBQUFBRjlTQWhZJnJtPTEmcnQ9QUFBQUFGOVNBaFk; uuid230=85A56553-6EA6-4D7F-A931-9534618E5BE6; tc_payment=1; PCKEMAIL=-x0j0iajxD4Ick-03_kshJVayi6_fI0keLYacxFxThM; PCKFIRSTNAME=TIAGO; PCKECSESSION=eEJaBmjDQ8eryHbdLu7Q3fqoxM-luydblsDcsJHZipA; sid_dv=5f5629f6a6d345f5629f6a6d78; s_dartCanStc=SEO%3EReferents%3ESEO%3EReferents; s_dartCode=SEO_www.google.com_classique_www.google.com%7C1594457602058%3Eref_www.mistergooddeal.com_www.mistergooddeal.com_www.mistergooddeal.com%7C1596798480688%3ESEO_www.google.com_classique_www.google.com%7C1599128658447%3Eref_abonnes.fnac.com_abonnes.fnac.com_abonnes.fnac.com%7C1599485436030%3Eref_localhost%3A8888_localhost%3A8888_localhost%3A8888%7C1599581524687; dartLev=ref_localhost%3A8888_localhost%3A8888_localhost%3A8888%7C1599581532657; etuix=4b7jvovUimcWB45TLDSKbaShByfuKJJeM9VeT3qiR6WP93h9p7Z_qA--; ak_bmsc=B76FA556EB7627B6430CC8B6DC4E2E5558DD91969B570000CD125A5F5BC5FD5A~plGYWc/H0gfvSlPU51rDLlJ4KbnWje+4YBzY3PjSHkyHpn7s40zSl45iVabK0yyHZFmDkohYDlt5zqoYj4QBmQKRwguqJnq4NUNcLuPDOt5onqd+0lH2C55QLUzzBqcp2Ik5abARxxZ0HLpBQwdTNJkn9kTaf6akqz2j5IUj1rUdf0LAw+aclA6QB8sDRTtsJeVtj0fPgxWHJUMHlX2RN1QA9srEuw9bnkC5Lkoj67ztA=; JSESSIONID=0000mLrl_uOjy4t6iAcff7baPe3:19858inu2; session=bgw1bo2e4ionn24md4a34p; tc_cj_v2=m_iZZZ%22**%22%27%20ZZZKOSSKLRPORLJOZZZ%5D777%5Ecl_%5Dny%5B%5D%5D_mmZZZZZZKOSSKLRPPSSJMZZZ%5D777m_iZZZ%22**%22%27%20ZZZKOSSKLSQJKSMPZZZ%5D777%5Ecl_%5Dny%5B%5D%5D_mmZZZZZZKOSSKMLORPRJQZZZ%5D777m_iZZZ%22**%22%27%20ZZZKOSSKMNOSJLNQZZZ%5D777%5Ecl_%5Dny%5B%5D%5D_mmZZZZZZKOSSNROMMPRKPZZZ%5D777_rn_lh%5BfyfcheZZZ%7B%7C*%29%29%20.H%21%29%7B%7DH%7D*%28ZZZKOSSNRONMSSRQZZZ%5D777%5Ecl_%5Dny%5B%5D%5D_mmZZZZZZKOSSOQRLLJKJNZZZ%5D777_rn_lh%5BfyfcheZZZ%27*%7D%7B%27%23*./TRRRRZZZKOSSORKOMJSOOZZZ%5D777%5Ecl_%5Dny%5B%5D%5D_mmZZZZZZKOSSQMROQNKPSZZZ%5D; sto__session=1599738576144; _hjIncludedInSessionSample=1; _hjTLDTest=1; _hjAbsoluteSessionInProgress=0; AMCVS_0C4B401053DABFF10A490D4C%40AdobeOrg=1; AMCV_0C4B401053DABFF10A490D4C%40AdobeOrg=870038026%7CMCIDTS%7C18515%7CMCMID%7C12464273977194400053212204472571811876%7CMCAAMLH-1600343376%7C6%7CMCAAMB-1600343376%7CRKhpRz8krg2tLO6pguXWp5olkAcUniQYPHaMWWgdJ3xzPWQmdj0y%7CMCOPTOUT-1599745776s%7CNONE%7CMCAID%7CNONE%7CvVersion%7C5.0.0; s_cc=true; eb-profile=89b357b3-626d-47bf-9507-3a58d97443a9:149609516:1599738576446; dtLatC=50; OptanonConsent=isIABGlobal=false&datestamp=Thu+Sep+10+2020+13%3A49%3A40+GMT%2B0200+(Hora+de+ver%C3%A3o+da+Europa+Central)&version=6.1.0&consentId=285cc4d2-c883-4da4-864a-843719390514&interactionCount=1&landingPath=NotLandingPage&groups=C0001%3A1%2CC0002%3A1%2CC0003%3A1%2CC0004%3A1&hosts=&legInt=&geolocation=%3B&AwaitingReconsent=false; sto__count=1; dartProfPa=2; gpv_p3=www%2Fcatalogue%2Fgros_electromenager%2Flave_linge; dartDateLastCall=1599738581472; bm_sv=B05361CCCB8562BDB702EFE2422BE6DC~eOK/bmsMER3KZM3QNJa5LtzIH9T0OJM8YCmmSa7iRFzXoKJbe/ACML41Sq9zHOzA5Weqc9PFLnVwQZz5QcM3KEAsAG9AdvxYyOleClyhlQZ9BUFUkY69O87cKS2topMNW4Wgn8/h9COaihqUjmP3m6DhycL3X5LKg3bW2IHDWB4=; dtPC=2$138579168_518h-vPPRPUPKKBFAOMTKTHMBHMERQTNHLBJPP-0e3; akavpau_VP_WaitingRoom=1599738883~id=163eb1d47c1531bc8fccd8ee06125efd; datadome=30TYCErqR80OhnQqLltvFtELNKHDUxIMIZL-O9fYiQCx051VsCTNL9dfzcmOvz-MTZlRqLlc.g~2ovVfa8jlSYMqGS0XqlXdNYuLNGyIwH; rxvt=1599740392859|1599738573344; s_sq=darty-prod%3D%2526c.%2526a.%2526activitymap.%2526page%253Dwww%25252Fcatalogue%25252Fgros_electromenager%25252Flave_linge%2526link%253D2%2526region%253Dmain_pagination_top%2526pageIDType%253D1%2526.activitymap%2526.a%2526.c%2526pid%253Dwww%25252Fcatalogue%25252Fgros_electromenager%25252Flave_linge%2526pidt%253D1%2526oid%253Dhttps%25253A%25252F%25252Fwww.darty.com%25252Fnav%25252Fachat%25252Fgros_electromenager%25252Flave-linge%25252Fpage2.html%2526ot%253DA; cikneeto=date:1599738595976; dtSa=true%7CC%7C-1%7C2%7C-%7C1599738595961%7C138579168_518%7Chttps%3A%2F%2Fwww.darty.com%2Fnav%2Fachat%2Fgros_5Felectromenager%2Flave-linge%2Findex.html%7CLave-linge%20-%20Livr%C3%A9%5Ec%20install%C3%A9%20gratuitement%7C1599738589229%7Cdartyclic%3DX_gros-elec_lave-ling%7C; dtCookie=v_4_srv_2_sn_UC49D3F8UIIA1FTO2K7JNDQGNFK5JSNB_app-3Ae8e01c74db6645d0_0_ol_0_perc_100000_mul_1\n",
    "pragma: no-cache\n",
    "referer: https://www.darty.com/nav/achat/gros_electromenager/lave-linge/index.html\n",
    "sec-fetch-dest: document\n",
    "sec-fetch-mode: navigate\n",
    "sec-fetch-site: same-origin\n",
    "sec-fetch-user: ?1\n",
    "upgrade-insecure-requests: 1\n",
    "user-agent: Mozilla/5.0 (Windows NT 10.0; Win64; x64) AppleWebKit/537.36 (KHTML, like Gecko) Chrome/85.0.4183.102 Safari/537.36\"\"\"\n",
    "headers=dict([i.strip().split(': ') for i in headers.split('\\n')])"
   ]
  },
  {
   "cell_type": "code",
   "execution_count": 42,
   "metadata": {},
   "outputs": [
    {
     "data": {
      "text/plain": [
       "<Response [200]>"
      ]
     },
     "execution_count": 42,
     "metadata": {},
     "output_type": "execute_result"
    }
   ],
   "source": [
    "response = r.get(url, headers=headers)\n",
    "response"
   ]
  },
  {
   "cell_type": "code",
   "execution_count": 47,
   "metadata": {},
   "outputs": [],
   "source": [
    "soup = BeautifulSoup(response.content)"
   ]
  },
  {
   "cell_type": "code",
   "execution_count": 169,
   "metadata": {},
   "outputs": [],
   "source": [
    "ratings = []\n",
    "prices = []\n",
    "info = []\n",
    "name = []\n",
    "category = []\n",
    "discount = []\n",
    "stock = []\n",
    "container = soup.select('div.product_main_container')\n",
    "\n",
    "for i in container:\n",
    "    l=[i.text.strip() for i in i.select('span.rating_avis')]\n",
    "    if len(l)==0:\n",
    "        ratings.append('0')\n",
    "    else:\n",
    "        ratings.append(''.join(l))\n",
    "\n",
    "for i in container:\n",
    "    l=[i.text.strip() for i in i.select('span.darty_prix')]\n",
    "    if len(l)==0:\n",
    "        prices.append('0')\n",
    "    else:\n",
    "        prices.append(''.join(l))\n",
    "\n",
    "for i in container:\n",
    "    l=[i.text.strip() for i in i.select('ul.infos_strenghts')]\n",
    "    if len(l)==0:\n",
    "        info.append('0')\n",
    "    else:\n",
    "        info.append(''.join(l))\n",
    "\n",
    "for i in container:\n",
    "    l=[i.text.strip() for i in i.select('div.prd-family')]\n",
    "    if len(l)==0:\n",
    "        name.append('0')\n",
    "    else:\n",
    "        name.append(''.join(l))\n",
    "\n",
    "for i in container:\n",
    "    l=[i.text.strip().replace('- ','') for i in i.select('span.striped_price')]\n",
    "    if len(l)==0:\n",
    "        discount.append('0')\n",
    "    else:\n",
    "        discount.append(''.join(l))\n",
    "\n",
    "for i in container:\n",
    "    l=[i.text.strip() for i in i.select('div.status_delivery p.delivery_date')]\n",
    "    if len(l)==0:\n",
    "        stock.append('0')\n",
    "    else:\n",
    "        stock.append(''.join(l))"
   ]
  },
  {
   "cell_type": "code",
   "execution_count": 170,
   "metadata": {},
   "outputs": [],
   "source": [
    "df = pd.DataFrame(\n",
    "    {'Name': name,\n",
    "     'Info': info,\n",
    "     'Price': prices,\n",
    "     'Discount': discount,\n",
    "     'Stock': stock,\n",
    "     'Ratings': ratings\n",
    "    })"
   ]
  },
  {
   "cell_type": "markdown",
   "metadata": {},
   "source": [
    "### It is necessary to split the column Ratings because it has the Ratings and the Number of Reviews"
   ]
  },
  {
   "cell_type": "code",
   "execution_count": 171,
   "metadata": {},
   "outputs": [],
   "source": [
    "split_ratings = df.Ratings.str.split('(',1, expand = True)"
   ]
  },
  {
   "cell_type": "markdown",
   "metadata": {},
   "source": [
    "### Two new columns are built from the variable split_ratings: Ratings and Total_Reviews"
   ]
  },
  {
   "cell_type": "code",
   "execution_count": 172,
   "metadata": {},
   "outputs": [],
   "source": [
    "df['Ratings']= split_ratings[0]\n",
    "df['Total_Reviews'] = split_ratings[1]"
   ]
  },
  {
   "cell_type": "markdown",
   "metadata": {},
   "source": [
    "### The Name column contains not only the name but also the category of the appliance. We will remove the category and put it in another column"
   ]
  },
  {
   "cell_type": "code",
   "execution_count": 173,
   "metadata": {},
   "outputs": [],
   "source": [
    "categories = []\n",
    "\n",
    "for i in df.Name:\n",
    "    if i.find('hublot') != -1:\n",
    "        categories.append('Lave linge hublot')\n",
    "    elif i.find('top') != -1:\n",
    "        categories.append('Lave-linge top')\n",
    "    elif i.find('séchant') != -1:\n",
    "        categories.append('Lave linge séchant')\n",
    "    elif i.find('mini') != -1:\n",
    "        categories.append('Mini lave linge')\n",
    "    else:\n",
    "        categories.append('Other')"
   ]
  },
  {
   "cell_type": "markdown",
   "metadata": {},
   "source": [
    "### Next step: Insert the categories in the df as a new column"
   ]
  },
  {
   "cell_type": "code",
   "execution_count": 174,
   "metadata": {},
   "outputs": [],
   "source": [
    "df.insert(0, 'Category', categories)"
   ]
  },
  {
   "cell_type": "markdown",
   "metadata": {},
   "source": [
    "### Next step: Remove the categories from the Name column"
   ]
  },
  {
   "cell_type": "code",
   "execution_count": 198,
   "metadata": {},
   "outputs": [],
   "source": [
    "df.Name = df.Name.str.replace('Lave linge hublot','')\n",
    "df.Name = df.Name.str.replace('Lave-linge top','')\n",
    "df.Name = df.Name.str.replace('Lave linge séchant','')\n",
    "df.Name = df.Name.str.replace('Mini lave linge','')"
   ]
  },
  {
   "cell_type": "code",
   "execution_count": 190,
   "metadata": {},
   "outputs": [],
   "source": [
    "df.Total_Reviews = df.Total_Reviews.str.replace(' avis\\)','')"
   ]
  },
  {
   "cell_type": "code",
   "execution_count": 192,
   "metadata": {},
   "outputs": [],
   "source": [
    "df.Ratings = df.Ratings.str.replace('/5','')"
   ]
  },
  {
   "cell_type": "code",
   "execution_count": 194,
   "metadata": {},
   "outputs": [],
   "source": [
    "df.Price = df.Price.str.replace('*','')"
   ]
  },
  {
   "cell_type": "markdown",
   "metadata": {},
   "source": [
    "## Automate the process to web scrape every page"
   ]
  },
  {
   "cell_type": "code",
   "execution_count": 215,
   "metadata": {},
   "outputs": [],
   "source": [
    "def extract():\n",
    "\n",
    "    pages = [*range(1,6)]\n",
    "    ratings = []\n",
    "    prices = []\n",
    "    info = []\n",
    "    name = []\n",
    "    category = []\n",
    "    discount = []\n",
    "    stock = []\n",
    "\n",
    "    for page in pages:\n",
    "        response = r.get('https://www.darty.com/nav/achat/gros_electromenager/lave-linge/page'+str(page)+'.html', headers=headers)\n",
    "        soup = BeautifulSoup(response.content)\n",
    "        container = soup.select('div.product_main_container')\n",
    "\n",
    "        print('Retrieving data from page '+str(page))\n",
    "        sleep(randint(2,6))\n",
    "\n",
    "        for i in container:\n",
    "            l=[i.text.strip() for i in i.select('span.rating_avis')]\n",
    "            if len(l)==0:\n",
    "                ratings.append('0')\n",
    "            else:\n",
    "                ratings.append(''.join(l))\n",
    "\n",
    "        for i in container:\n",
    "            l=[i.text.strip() for i in i.select('span.darty_prix')]\n",
    "            if len(l)==0:\n",
    "                prices.append('0')\n",
    "            else:\n",
    "                prices.append(''.join(l))\n",
    "\n",
    "        for i in container:\n",
    "            l=[i.text.strip() for i in i.select('ul.infos_strenghts')]\n",
    "            if len(l)==0:\n",
    "                info.append('0')\n",
    "            else:\n",
    "                info.append(''.join(l))\n",
    "\n",
    "        for i in container:\n",
    "            l=[i.text.strip() for i in i.select('div.prd-family')]\n",
    "            if len(l)==0:\n",
    "                name.append('0')\n",
    "            else:\n",
    "                name.append(''.join(l))\n",
    "\n",
    "        for i in container:\n",
    "            l=[i.text.strip().replace('- ','') for i in i.select('span.striped_price')]\n",
    "            if len(l)==0:\n",
    "                discount.append('0')\n",
    "            else:\n",
    "                discount.append(''.join(l))\n",
    "\n",
    "        for i in container:\n",
    "            l=[i.text.strip() for i in i.select('div.status_delivery p.delivery_date')]\n",
    "            if len(l)==0:\n",
    "                stock.append('0')\n",
    "            else:\n",
    "                stock.append(''.join(l))\n",
    "\n",
    "    df = pd.DataFrame(\n",
    "        {'Name': name,\n",
    "         'Info': info,\n",
    "         'Price': prices,\n",
    "         'Discount': discount,\n",
    "         'Stock': stock,\n",
    "         'Ratings': ratings\n",
    "        })\n",
    "    \n",
    "    return df"
   ]
  },
  {
   "cell_type": "code",
   "execution_count": 214,
   "metadata": {},
   "outputs": [
    {
     "name": "stdout",
     "output_type": "stream",
     "text": [
      "Retrieving data from page1\n",
      "Retrieving data from page2\n",
      "Retrieving data from page3\n",
      "Retrieving data from page4\n",
      "Retrieving data from page5\n"
     ]
    },
    {
     "data": {
      "text/html": [
       "<div>\n",
       "<style scoped>\n",
       "    .dataframe tbody tr th:only-of-type {\n",
       "        vertical-align: middle;\n",
       "    }\n",
       "\n",
       "    .dataframe tbody tr th {\n",
       "        vertical-align: top;\n",
       "    }\n",
       "\n",
       "    .dataframe thead th {\n",
       "        text-align: right;\n",
       "    }\n",
       "</style>\n",
       "<table border=\"1\" class=\"dataframe\">\n",
       "  <thead>\n",
       "    <tr style=\"text-align: right;\">\n",
       "      <th></th>\n",
       "      <th>Name</th>\n",
       "      <th>Info</th>\n",
       "      <th>Price</th>\n",
       "      <th>Discount</th>\n",
       "      <th>Stock</th>\n",
       "      <th>Ratings</th>\n",
       "    </tr>\n",
       "  </thead>\n",
       "  <tbody>\n",
       "    <tr>\n",
       "      <th>0</th>\n",
       "      <td>Lave linge hublotIndesit XWA71452WFR</td>\n",
       "      <td>Capacité 7 kg (tambour 52 L) - Classe A++\\nEss...</td>\n",
       "      <td>299,99€*</td>\n",
       "      <td>0</td>\n",
       "      <td>En stock</td>\n",
       "      <td>4,5/5 (613 avis)</td>\n",
       "    </tr>\n",
       "    <tr>\n",
       "      <th>1</th>\n",
       "      <td>Lave-linge topIndesit BTWCA51052</td>\n",
       "      <td>Capacité 5 kg (tambour 42 L) - Classe A++\\nEss...</td>\n",
       "      <td>299,99€*</td>\n",
       "      <td>21%</td>\n",
       "      <td>En stock</td>\n",
       "      <td>4,4/5 (245 avis)</td>\n",
       "    </tr>\n",
       "    <tr>\n",
       "      <th>2</th>\n",
       "      <td>Lave linge hublotThomson TW714</td>\n",
       "      <td>Capacité 7 kg (tambour 45.5 L) - Classe A+++\\n...</td>\n",
       "      <td>299,99€*</td>\n",
       "      <td>25%</td>\n",
       "      <td>En stock à partir du 23/09</td>\n",
       "      <td>4,7/5 (95 avis)</td>\n",
       "    </tr>\n",
       "    <tr>\n",
       "      <th>3</th>\n",
       "      <td>Lave linge hublotProline FP 610 W</td>\n",
       "      <td>Capacité 6 kg (tambour 44 L) - Classe A++\\nEss...</td>\n",
       "      <td>229,99€*</td>\n",
       "      <td>0</td>\n",
       "      <td>En stock à partir du 18/09</td>\n",
       "      <td>4,3/5 (430 avis)</td>\n",
       "    </tr>\n",
       "    <tr>\n",
       "      <th>4</th>\n",
       "      <td>Lave linge hublotWhirlpool FFDD9448BSVFR</td>\n",
       "      <td>Capacité 9 kg (tambour 62 L) - Classe A+++ -30...</td>\n",
       "      <td>449,00€*</td>\n",
       "      <td>10%</td>\n",
       "      <td>En stock</td>\n",
       "      <td>4/5 (1 avis)</td>\n",
       "    </tr>\n",
       "    <tr>\n",
       "      <th>...</th>\n",
       "      <td>...</td>\n",
       "      <td>...</td>\n",
       "      <td>...</td>\n",
       "      <td>...</td>\n",
       "      <td>...</td>\n",
       "      <td>...</td>\n",
       "    </tr>\n",
       "    <tr>\n",
       "      <th>145</th>\n",
       "      <td>Lave linge hublotHaier HW120-BD14889U1</td>\n",
       "      <td>Capacité 12 kg (tambour 78 L) - A+++ -50%\\nEss...</td>\n",
       "      <td>849,00€*</td>\n",
       "      <td>0</td>\n",
       "      <td>En stock à partir du 16/09</td>\n",
       "      <td>0</td>\n",
       "    </tr>\n",
       "    <tr>\n",
       "      <th>146</th>\n",
       "      <td>Lave linge hublotSiemens WM12N118FF</td>\n",
       "      <td>Capacité 8 kg (tambour 55 L) - Classe A+++\\nEs...</td>\n",
       "      <td>599,00€*</td>\n",
       "      <td>0</td>\n",
       "      <td>En stock</td>\n",
       "      <td>4,6/5 (59 avis)</td>\n",
       "    </tr>\n",
       "    <tr>\n",
       "      <th>147</th>\n",
       "      <td>Lave-linge topCandy TLCS 803D/1</td>\n",
       "      <td>Capacité 8 kg (Volume du tambour 50 L)\\nEssora...</td>\n",
       "      <td>449,00€*</td>\n",
       "      <td>0</td>\n",
       "      <td>0</td>\n",
       "      <td>4,5/5 (6 avis)</td>\n",
       "    </tr>\n",
       "    <tr>\n",
       "      <th>148</th>\n",
       "      <td>Lave-linge topMiele W679</td>\n",
       "      <td>Capacité 6 kg (tambour 48 L) - Classe A+++\\nEs...</td>\n",
       "      <td>1 499,00€*</td>\n",
       "      <td>0</td>\n",
       "      <td>En stock</td>\n",
       "      <td>4,4/5 (30 avis)</td>\n",
       "    </tr>\n",
       "    <tr>\n",
       "      <th>149</th>\n",
       "      <td>Lave linge hublotCandy GVF1413LHB3/1-47</td>\n",
       "      <td>Capacité 13 kg (Volume du tambour 80 L)\\nEssor...</td>\n",
       "      <td>699,00€*</td>\n",
       "      <td>0</td>\n",
       "      <td>0</td>\n",
       "      <td>4,6/5 (16 avis)</td>\n",
       "    </tr>\n",
       "  </tbody>\n",
       "</table>\n",
       "<p>150 rows × 6 columns</p>\n",
       "</div>"
      ],
      "text/plain": [
       "                                         Name  \\\n",
       "0        Lave linge hublotIndesit XWA71452WFR   \n",
       "1            Lave-linge topIndesit BTWCA51052   \n",
       "2              Lave linge hublotThomson TW714   \n",
       "3           Lave linge hublotProline FP 610 W   \n",
       "4    Lave linge hublotWhirlpool FFDD9448BSVFR   \n",
       "..                                        ...   \n",
       "145    Lave linge hublotHaier HW120-BD14889U1   \n",
       "146       Lave linge hublotSiemens WM12N118FF   \n",
       "147           Lave-linge topCandy TLCS 803D/1   \n",
       "148                  Lave-linge topMiele W679   \n",
       "149   Lave linge hublotCandy GVF1413LHB3/1-47   \n",
       "\n",
       "                                                  Info       Price Discount  \\\n",
       "0    Capacité 7 kg (tambour 52 L) - Classe A++\\nEss...    299,99€*        0   \n",
       "1    Capacité 5 kg (tambour 42 L) - Classe A++\\nEss...    299,99€*      21%   \n",
       "2    Capacité 7 kg (tambour 45.5 L) - Classe A+++\\n...    299,99€*      25%   \n",
       "3    Capacité 6 kg (tambour 44 L) - Classe A++\\nEss...    229,99€*        0   \n",
       "4    Capacité 9 kg (tambour 62 L) - Classe A+++ -30...    449,00€*      10%   \n",
       "..                                                 ...         ...      ...   \n",
       "145  Capacité 12 kg (tambour 78 L) - A+++ -50%\\nEss...    849,00€*        0   \n",
       "146  Capacité 8 kg (tambour 55 L) - Classe A+++\\nEs...    599,00€*        0   \n",
       "147  Capacité 8 kg (Volume du tambour 50 L)\\nEssora...    449,00€*        0   \n",
       "148  Capacité 6 kg (tambour 48 L) - Classe A+++\\nEs...  1 499,00€*        0   \n",
       "149  Capacité 13 kg (Volume du tambour 80 L)\\nEssor...    699,00€*        0   \n",
       "\n",
       "                          Stock           Ratings  \n",
       "0                      En stock  4,5/5 (613 avis)  \n",
       "1                      En stock  4,4/5 (245 avis)  \n",
       "2    En stock à partir du 23/09   4,7/5 (95 avis)  \n",
       "3    En stock à partir du 18/09  4,3/5 (430 avis)  \n",
       "4                      En stock      4/5 (1 avis)  \n",
       "..                          ...               ...  \n",
       "145  En stock à partir du 16/09                 0  \n",
       "146                    En stock   4,6/5 (59 avis)  \n",
       "147                           0    4,5/5 (6 avis)  \n",
       "148                    En stock   4,4/5 (30 avis)  \n",
       "149                           0   4,6/5 (16 avis)  \n",
       "\n",
       "[150 rows x 6 columns]"
      ]
     },
     "execution_count": 214,
     "metadata": {},
     "output_type": "execute_result"
    }
   ],
   "source": [
    "extract()"
   ]
  }
 ],
 "metadata": {
  "kernelspec": {
   "display_name": "Python 3",
   "language": "python",
   "name": "python3"
  },
  "language_info": {
   "codemirror_mode": {
    "name": "ipython",
    "version": 3
   },
   "file_extension": ".py",
   "mimetype": "text/x-python",
   "name": "python",
   "nbconvert_exporter": "python",
   "pygments_lexer": "ipython3",
   "version": "3.8.5"
  }
 },
 "nbformat": 4,
 "nbformat_minor": 4
}
