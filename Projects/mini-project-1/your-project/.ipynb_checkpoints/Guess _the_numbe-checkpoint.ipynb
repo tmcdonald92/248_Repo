{
 "cells": [
  {
   "cell_type": "markdown",
   "metadata": {},
   "source": [
    "# GUESS THE NUMBER"
   ]
  },
  {
   "cell_type": "markdown",
   "metadata": {},
   "source": [
    "WELCOME TO THE GAME WHERE YOU HAVE TO GUESS A NUMBER! SOUNDS EASY RIGHT? THEN GIVE IT A TRY!"
   ]
  },
  {
   "cell_type": "code",
   "execution_count": 27,
   "metadata": {},
   "outputs": [],
   "source": [
    "def guess_game():\n",
    "    import random\n",
    "    range_flag = 1\n",
    "    guess_check_flag = 1\n",
    "    min_range = None\n",
    "    max_range = None\n",
    "    x = None\n",
    "    number_of_guesses = 5\n",
    "    first_flag = 1\n",
    "    second_flag = 1\n",
    "    \n",
    "    number = input('Welcome to Guess the Number! Before we start guessing, give me a random number higher than 0: ')\n",
    "    \n",
    "    while first_flag:\n",
    "        # Error Handling: validate if the number given is actually a number\n",
    "        if (number.isdigit() == False) or (int(number) == 0):\n",
    "            print('You didn\\'t read the rules! It has to be a number higher than 0! ')\n",
    "            number = input('Let\\'s try again. Give me a number higher than 0: ')\n",
    "            continue\n",
    "        elif (int(number) - 20) <= 0:\n",
    "            min_range = 1\n",
    "            max_range = 40\n",
    "            print('Thank you for the number!')\n",
    "            first_flag = 0\n",
    "        else:\n",
    "            min_range = int(number) - 20\n",
    "            max_range = int(number) + 20\n",
    "            print('Thank you for the number!')\n",
    "            first_flag = 0\n",
    "\n",
    "    number_guess = input('Guess a number between '+str(min_range)+' and '+str(max_range)+'. You have '+str(number_of_guesses)+' guesses. Good luck! ')\n",
    "            \n",
    "    while second_flag:\n",
    "        \n",
    "    #Error handling: Check if it's a number\n",
    "    \n",
    "        if (number_guess.isdigit() == False) or (int(number_guess) == 0):\n",
    "            print('You didn\\'t read the rules! It has to be a number higher than 0!')\n",
    "            number_of_guesses -= 1\n",
    "            if number_of_guesses == 0:\n",
    "                print('You have lost! You have no more chances to guess. The correct number was '+str(random_number))\n",
    "                break\n",
    "            else:\n",
    "                number_guess = input('Let\\'s try again. Guess a number between '+str(min_range)+' and '+str(max_range)+'. You have '+str(number_of_guesses)+' guesses left: ')\n",
    "                continue\n",
    "                \n",
    "    #Error handling: Check if number is in the interval\n",
    "    \n",
    "        elif int(number_guess) not in range(min_range,max_range):\n",
    "            print('Your number is not in range! It has to be a number between '+str(min_range)+' and '+str(max_range)+'.')\n",
    "            number_of_guesses -= 1\n",
    "            if number_of_guesses == 0:\n",
    "                print('You have lost! You have no more chances to guess. The correct number was '+str(random_number))\n",
    "                break\n",
    "            else:\n",
    "                number_guess = input('Let\\'s try again. Guess a number between '+str(min_range)+' and '+str(max_range)+'. You have '+str(number_of_guesses)+' guesses left: ')\n",
    "                continue\n",
    "                \n",
    "    # Check if the number guessed is correct\n",
    "    \n",
    "        else:\n",
    "            x = int(number_guess)\n",
    "            if x != random_number:\n",
    "                if abs(random_number - x) > 12:\n",
    "                    print('So cold! Try again!')\n",
    "                    number_of_guesses -= 1\n",
    "                    if number_of_guesses == 0:\n",
    "                        print('You have lost! You have no more chances to guess. The correct number was '+str(random_number))\n",
    "                        #guess_check_flag = 0\n",
    "                        #flag = 0\n",
    "                        break\n",
    "                    else:\n",
    "                        number_guess = input('Come on, try again. Guess another number. You have '+str(number_of_guesses)+' guesses left: ')\n",
    "                        continue\n",
    "                elif abs(random_number - x) <= 12 & abs(random_number - x) > 7:\n",
    "                    print('Getting warm! You are almost there!')\n",
    "                    number_of_guesses -= 1\n",
    "                    if number_of_guesses == 0:\n",
    "                        print('You have lost! You have no more chances to guess. The correct number was '+str(random_number))\n",
    "                        #guess_check_flag = 0\n",
    "                        #flag = 0\n",
    "                        break\n",
    "                    else:\n",
    "                        number_guess = input('Come on, try again. Guess another number. You have '+str(number_of_guesses)+' guesses left: ')\n",
    "                elif abs(random_number - x) <= 7 & abs(random_number - x) > 3:\n",
    "                    print('Hot! Getting closer!')\n",
    "                    number_of_guesses -= 1\n",
    "                    if number_of_guesses == 0:\n",
    "                        print('You have lost! You have no more chances to guess. The correct number was '+str(random_number))\n",
    "                        #guess_check_flag = 0\n",
    "                        #flag = 0\n",
    "                        break\n",
    "                    else:\n",
    "                        number_guess = input('Come on, try again. Guess another number. You have '+str(number_of_guesses)+' guesses left: ')                \n",
    "                else:\n",
    "                    print('Very hot! You are so close!')\n",
    "                    number_of_guesses -= 1\n",
    "                    if number_of_guesses == 0:\n",
    "                        print('You have lost! You have no more chances to guess. The correct number was '+str(random_number))\n",
    "                        #guess_check_flag = 0\n",
    "                        #flag = 0\n",
    "                        break\n",
    "                    else:\n",
    "                        number_guess = input('Come on, try again. Guess another number. You have '+str(number_of_guesses)+' guesses left: ')\n",
    "                        continue\n",
    "            else:\n",
    "                print('You guessed it! The correct number was '+str(random_number))\n",
    "                break"
   ]
  },
  {
   "cell_type": "code",
   "execution_count": 28,
   "metadata": {},
   "outputs": [
    {
     "name": "stdout",
     "output_type": "stream",
     "text": [
      "Welcome to Guess the Number! Before we start guessing, give me a random number higher than 0: 20\n",
      "Thank you for the number!\n",
      "Guess a number between 1 and 40. You have 5 guesses. Good luck! 30\n",
      "Very hot! You are so close!\n",
      "Come on, try again. Guess another number. You have 4 guesses left: 32\n",
      "You guessed it! The correct number was 32\n"
     ]
    }
   ],
   "source": [
    "guess_game()"
   ]
  }
 ],
 "metadata": {
  "kernelspec": {
   "display_name": "Python 3",
   "language": "python",
   "name": "python3"
  },
  "language_info": {
   "codemirror_mode": {
    "name": "ipython",
    "version": 3
   },
   "file_extension": ".py",
   "mimetype": "text/x-python",
   "name": "python",
   "nbconvert_exporter": "python",
   "pygments_lexer": "ipython3",
   "version": "3.8.5"
  }
 },
 "nbformat": 4,
 "nbformat_minor": 4
}
