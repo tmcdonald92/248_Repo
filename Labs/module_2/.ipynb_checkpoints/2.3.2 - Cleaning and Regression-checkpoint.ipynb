{
 "cells": [
  {
   "cell_type": "markdown",
   "metadata": {
    "toc": true
   },
   "source": [
    "<h1>Table of Contents<span class=\"tocSkip\"></span></h1>\n",
    "<div class=\"toc\"><ul class=\"toc-item\"><li><span><a href=\"#Scipy\" data-toc-modified-id=\"Scipy-1\"><span class=\"toc-item-num\">1&nbsp;&nbsp;</span>Scipy</a></span><ul class=\"toc-item\"><li><span><a href=\"#Stats\" data-toc-modified-id=\"Stats-1.1\"><span class=\"toc-item-num\">1.1&nbsp;&nbsp;</span>Stats</a></span></li><li><span><a href=\"#LinAlg\" data-toc-modified-id=\"LinAlg-1.2\"><span class=\"toc-item-num\">1.2&nbsp;&nbsp;</span>LinAlg</a></span></li><li><span><a href=\"#Interpolate\" data-toc-modified-id=\"Interpolate-1.3\"><span class=\"toc-item-num\">1.3&nbsp;&nbsp;</span>Interpolate</a></span></li></ul></li><li><span><a href=\"#Some-optimization-problems\" data-toc-modified-id=\"Some-optimization-problems-2\"><span class=\"toc-item-num\">2&nbsp;&nbsp;</span>Some optimization problems</a></span><ul class=\"toc-item\"><li><span><a href=\"#Ads-in-90s\" data-toc-modified-id=\"Ads-in-90s-2.1\"><span class=\"toc-item-num\">2.1&nbsp;&nbsp;</span>Ads in 90s</a></span></li><li><span><a href=\"#Modern-one\" data-toc-modified-id=\"Modern-one-2.2\"><span class=\"toc-item-num\">2.2&nbsp;&nbsp;</span>Modern one</a></span></li><li><span><a href=\"#Logistics-problem\" data-toc-modified-id=\"Logistics-problem-2.3\"><span class=\"toc-item-num\">2.3&nbsp;&nbsp;</span>Logistics problem</a></span></li></ul></li><li><span><a href=\"#Linear-Regression\" data-toc-modified-id=\"Linear-Regression-3\"><span class=\"toc-item-num\">3&nbsp;&nbsp;</span>Linear Regression</a></span><ul class=\"toc-item\"><li><span><a href=\"#Intro\" data-toc-modified-id=\"Intro-3.1\"><span class=\"toc-item-num\">3.1&nbsp;&nbsp;</span>Intro</a></span></li><li><span><a href=\"#Missing-values\" data-toc-modified-id=\"Missing-values-3.2\"><span class=\"toc-item-num\">3.2&nbsp;&nbsp;</span>Missing values</a></span></li><li><span><a href=\"#Modelling\" data-toc-modified-id=\"Modelling-3.3\"><span class=\"toc-item-num\">3.3&nbsp;&nbsp;</span>Modelling</a></span></li><li><span><a href=\"#P-hacking\" data-toc-modified-id=\"P-hacking-3.4\"><span class=\"toc-item-num\">3.4&nbsp;&nbsp;</span>P hacking</a></span></li></ul></li></ul></div>"
   ]
  },
  {
   "cell_type": "code",
   "execution_count": 1,
   "metadata": {},
   "outputs": [],
   "source": [
    "import numpy as np\n",
    "import pandas as pd\n",
    "import matplotlib.pyplot as plt\n",
    "%matplotlib inline"
   ]
  },
  {
   "cell_type": "markdown",
   "metadata": {
    "heading_collapsed": true
   },
   "source": [
    "# Scipy"
   ]
  },
  {
   "cell_type": "markdown",
   "metadata": {
    "heading_collapsed": true,
    "hidden": true
   },
   "source": [
    "## Stats"
   ]
  },
  {
   "cell_type": "code",
   "execution_count": 2,
   "metadata": {
    "hidden": true
   },
   "outputs": [],
   "source": [
    "import scipy.stats as scs"
   ]
  },
  {
   "cell_type": "code",
   "execution_count": 4,
   "metadata": {
    "hidden": true
   },
   "outputs": [],
   "source": [
    "normal=scs.norm()"
   ]
  },
  {
   "cell_type": "code",
   "execution_count": 5,
   "metadata": {
    "hidden": true
   },
   "outputs": [
    {
     "data": {
      "text/plain": [
       "<scipy.stats._distn_infrastructure.rv_frozen at 0x7fd045d70b10>"
      ]
     },
     "execution_count": 5,
     "metadata": {},
     "output_type": "execute_result"
    }
   ],
   "source": [
    "normal"
   ]
  },
  {
   "cell_type": "code",
   "execution_count": 6,
   "metadata": {
    "hidden": true
   },
   "outputs": [
    {
     "data": {
      "text/plain": [
       "0.0"
      ]
     },
     "execution_count": 6,
     "metadata": {},
     "output_type": "execute_result"
    }
   ],
   "source": [
    "normal.mean()"
   ]
  },
  {
   "cell_type": "code",
   "execution_count": 7,
   "metadata": {
    "hidden": true
   },
   "outputs": [
    {
     "data": {
      "text/plain": [
       "1.0"
      ]
     },
     "execution_count": 7,
     "metadata": {},
     "output_type": "execute_result"
    }
   ],
   "source": [
    "normal.std()"
   ]
  },
  {
   "cell_type": "code",
   "execution_count": 8,
   "metadata": {
    "hidden": true
   },
   "outputs": [
    {
     "data": {
      "text/plain": [
       "0.5"
      ]
     },
     "execution_count": 8,
     "metadata": {},
     "output_type": "execute_result"
    }
   ],
   "source": [
    "normal.cdf(0)"
   ]
  },
  {
   "cell_type": "code",
   "execution_count": 10,
   "metadata": {
    "hidden": true
   },
   "outputs": [
    {
     "data": {
      "text/plain": [
       "0.058440944333451476"
      ]
     },
     "execution_count": 10,
     "metadata": {},
     "output_type": "execute_result"
    }
   ],
   "source": [
    "normal.pdf(-1.96)"
   ]
  },
  {
   "cell_type": "code",
   "execution_count": 11,
   "metadata": {
    "hidden": true
   },
   "outputs": [],
   "source": [
    "heights=scs.norm(174.5, 7)"
   ]
  },
  {
   "cell_type": "code",
   "execution_count": 13,
   "metadata": {
    "hidden": true
   },
   "outputs": [
    {
     "data": {
      "text/plain": [
       "174.5"
      ]
     },
     "execution_count": 13,
     "metadata": {},
     "output_type": "execute_result"
    }
   ],
   "source": [
    "heights.mean()"
   ]
  },
  {
   "cell_type": "code",
   "execution_count": 14,
   "metadata": {
    "hidden": true
   },
   "outputs": [
    {
     "data": {
      "text/plain": [
       "0.01915938157470678"
      ]
     },
     "execution_count": 14,
     "metadata": {},
     "output_type": "execute_result"
    }
   ],
   "source": [
    "heights.cdf(160)"
   ]
  },
  {
   "cell_type": "code",
   "execution_count": 15,
   "metadata": {
    "hidden": true
   },
   "outputs": [],
   "source": [
    "random_peple=np.arange(160,190,0.1)"
   ]
  },
  {
   "cell_type": "code",
   "execution_count": 16,
   "metadata": {
    "collapsed": true,
    "hidden": true
   },
   "outputs": [
    {
     "data": {
      "text/plain": [
       "array([160. , 160.1, 160.2, 160.3, 160.4, 160.5, 160.6, 160.7, 160.8,\n",
       "       160.9, 161. , 161.1, 161.2, 161.3, 161.4, 161.5, 161.6, 161.7,\n",
       "       161.8, 161.9, 162. , 162.1, 162.2, 162.3, 162.4, 162.5, 162.6,\n",
       "       162.7, 162.8, 162.9, 163. , 163.1, 163.2, 163.3, 163.4, 163.5,\n",
       "       163.6, 163.7, 163.8, 163.9, 164. , 164.1, 164.2, 164.3, 164.4,\n",
       "       164.5, 164.6, 164.7, 164.8, 164.9, 165. , 165.1, 165.2, 165.3,\n",
       "       165.4, 165.5, 165.6, 165.7, 165.8, 165.9, 166. , 166.1, 166.2,\n",
       "       166.3, 166.4, 166.5, 166.6, 166.7, 166.8, 166.9, 167. , 167.1,\n",
       "       167.2, 167.3, 167.4, 167.5, 167.6, 167.7, 167.8, 167.9, 168. ,\n",
       "       168.1, 168.2, 168.3, 168.4, 168.5, 168.6, 168.7, 168.8, 168.9,\n",
       "       169. , 169.1, 169.2, 169.3, 169.4, 169.5, 169.6, 169.7, 169.8,\n",
       "       169.9, 170. , 170.1, 170.2, 170.3, 170.4, 170.5, 170.6, 170.7,\n",
       "       170.8, 170.9, 171. , 171.1, 171.2, 171.3, 171.4, 171.5, 171.6,\n",
       "       171.7, 171.8, 171.9, 172. , 172.1, 172.2, 172.3, 172.4, 172.5,\n",
       "       172.6, 172.7, 172.8, 172.9, 173. , 173.1, 173.2, 173.3, 173.4,\n",
       "       173.5, 173.6, 173.7, 173.8, 173.9, 174. , 174.1, 174.2, 174.3,\n",
       "       174.4, 174.5, 174.6, 174.7, 174.8, 174.9, 175. , 175.1, 175.2,\n",
       "       175.3, 175.4, 175.5, 175.6, 175.7, 175.8, 175.9, 176. , 176.1,\n",
       "       176.2, 176.3, 176.4, 176.5, 176.6, 176.7, 176.8, 176.9, 177. ,\n",
       "       177.1, 177.2, 177.3, 177.4, 177.5, 177.6, 177.7, 177.8, 177.9,\n",
       "       178. , 178.1, 178.2, 178.3, 178.4, 178.5, 178.6, 178.7, 178.8,\n",
       "       178.9, 179. , 179.1, 179.2, 179.3, 179.4, 179.5, 179.6, 179.7,\n",
       "       179.8, 179.9, 180. , 180.1, 180.2, 180.3, 180.4, 180.5, 180.6,\n",
       "       180.7, 180.8, 180.9, 181. , 181.1, 181.2, 181.3, 181.4, 181.5,\n",
       "       181.6, 181.7, 181.8, 181.9, 182. , 182.1, 182.2, 182.3, 182.4,\n",
       "       182.5, 182.6, 182.7, 182.8, 182.9, 183. , 183.1, 183.2, 183.3,\n",
       "       183.4, 183.5, 183.6, 183.7, 183.8, 183.9, 184. , 184.1, 184.2,\n",
       "       184.3, 184.4, 184.5, 184.6, 184.7, 184.8, 184.9, 185. , 185.1,\n",
       "       185.2, 185.3, 185.4, 185.5, 185.6, 185.7, 185.8, 185.9, 186. ,\n",
       "       186.1, 186.2, 186.3, 186.4, 186.5, 186.6, 186.7, 186.8, 186.9,\n",
       "       187. , 187.1, 187.2, 187.3, 187.4, 187.5, 187.6, 187.7, 187.8,\n",
       "       187.9, 188. , 188.1, 188.2, 188.3, 188.4, 188.5, 188.6, 188.7,\n",
       "       188.8, 188.9, 189. , 189.1, 189.2, 189.3, 189.4, 189.5, 189.6,\n",
       "       189.7, 189.8, 189.9])"
      ]
     },
     "execution_count": 16,
     "metadata": {},
     "output_type": "execute_result"
    }
   ],
   "source": [
    "random_peple"
   ]
  },
  {
   "cell_type": "code",
   "execution_count": 17,
   "metadata": {
    "hidden": true
   },
   "outputs": [
    {
     "data": {
      "text/plain": [
       "[<matplotlib.lines.Line2D at 0x7fd044b4d3d0>]"
      ]
     },
     "execution_count": 17,
     "metadata": {},
     "output_type": "execute_result"
    },
    {
     "data": {
      "image/png": "[encoded data removed]",
      "text/plain": [
       "<Figure size 432x288 with 1 Axes>"
      ]
     },
     "metadata": {
      "needs_background": "light"
     },
     "output_type": "display_data"
    }
   ],
   "source": [
    "plt.plot(random_peple, heights.pdf(random_peple))"
   ]
  },
  {
   "cell_type": "code",
   "execution_count": 18,
   "metadata": {
    "hidden": true
   },
   "outputs": [
    {
     "data": {
      "text/plain": [
       "[<matplotlib.lines.Line2D at 0x7fd0448c36d0>]"
      ]
     },
     "execution_count": 18,
     "metadata": {},
     "output_type": "execute_result"
    },
    {
     "data": {
      "image/png": "[encoded data removed]",
      "text/plain": [
       "<Figure size 432x288 with 1 Axes>"
      ]
     },
     "metadata": {
      "needs_background": "light"
     },
     "output_type": "display_data"
    }
   ],
   "source": [
    "plt.plot(random_peple, heights.cdf(random_peple))"
   ]
  },
  {
   "cell_type": "code",
   "execution_count": 19,
   "metadata": {
    "hidden": true
   },
   "outputs": [
    {
     "data": {
      "text/plain": [
       "(array([ 4., 12., 13., 40., 49., 23., 29., 12., 11.,  7.]),\n",
       " array([158.10808916, 161.54147584, 164.97486251, 168.40824918,\n",
       "        171.84163585, 175.27502252, 178.70840919, 182.14179587,\n",
       "        185.57518254, 189.00856921, 192.44195588]),\n",
       " <a list of 10 Patch objects>)"
      ]
     },
     "execution_count": 19,
     "metadata": {},
     "output_type": "execute_result"
    },
    {
     "data": {
      "image/png": "[encoded data removed]",
      "text/plain": [
       "<Figure size 432x288 with 1 Axes>"
      ]
     },
     "metadata": {
      "needs_background": "light"
     },
     "output_type": "display_data"
    }
   ],
   "source": [
    "plt.hist(heights.rvs(200)) #generate 200 random numbers from distribution of heights"
   ]
  },
  {
   "cell_type": "code",
   "execution_count": 20,
   "metadata": {
    "hidden": true
   },
   "outputs": [
    {
     "data": {
      "text/plain": [
       "(array([ 12.,  52., 112., 192., 244., 196., 140.,  38.,  13.,   1.]),\n",
       " array([154.63226654, 159.07061243, 163.50895831, 167.9473042 ,\n",
       "        172.38565009, 176.82399598, 181.26234186, 185.70068775,\n",
       "        190.13903364, 194.57737953, 199.01572541]),\n",
       " <a list of 10 Patch objects>)"
      ]
     },
     "execution_count": 20,
     "metadata": {},
     "output_type": "execute_result"
    },
    {
     "data": {
      "image/png": "[encoded data removed]",
      "text/plain": [
       "<Figure size 432x288 with 1 Axes>"
      ]
     },
     "metadata": {
      "needs_background": "light"
     },
     "output_type": "display_data"
    }
   ],
   "source": [
    "plt.hist(heights.rvs(1000)) #generate 1000 random numbers from distribution of heights"
   ]
  },
  {
   "cell_type": "markdown",
   "metadata": {
    "heading_collapsed": true,
    "hidden": true
   },
   "source": [
    "## LinAlg"
   ]
  },
  {
   "cell_type": "code",
   "execution_count": 21,
   "metadata": {
    "hidden": true
   },
   "outputs": [],
   "source": [
    "A=np.array(((5,6),(2,4)))"
   ]
  },
  {
   "cell_type": "code",
   "execution_count": 25,
   "metadata": {
    "hidden": true
   },
   "outputs": [],
   "source": [
    "C=np.array(([10],[8]))"
   ]
  },
  {
   "cell_type": "code",
   "execution_count": 23,
   "metadata": {
    "hidden": true
   },
   "outputs": [
    {
     "data": {
      "text/plain": [
       "array([[5, 6],\n",
       "       [2, 4]])"
      ]
     },
     "execution_count": 23,
     "metadata": {},
     "output_type": "execute_result"
    }
   ],
   "source": [
    "A"
   ]
  },
  {
   "cell_type": "code",
   "execution_count": 26,
   "metadata": {
    "hidden": true,
    "scrolled": true
   },
   "outputs": [
    {
     "data": {
      "text/plain": [
       "array([[10],\n",
       "       [ 8]])"
      ]
     },
     "execution_count": 26,
     "metadata": {},
     "output_type": "execute_result"
    }
   ],
   "source": [
    "C"
   ]
  },
  {
   "cell_type": "code",
   "execution_count": 27,
   "metadata": {
    "hidden": true
   },
   "outputs": [],
   "source": [
    "import scipy.linalg as scl"
   ]
  },
  {
   "cell_type": "code",
   "execution_count": 28,
   "metadata": {
    "hidden": true
   },
   "outputs": [],
   "source": [
    "# First approach\n",
    "A_inv=scl.inv(A)"
   ]
  },
  {
   "cell_type": "code",
   "execution_count": 29,
   "metadata": {
    "hidden": true
   },
   "outputs": [
    {
     "data": {
      "text/plain": [
       "array([[ 0.5  , -0.75 ],\n",
       "       [-0.25 ,  0.625]])"
      ]
     },
     "execution_count": 29,
     "metadata": {},
     "output_type": "execute_result"
    }
   ],
   "source": [
    "A_inv"
   ]
  },
  {
   "cell_type": "code",
   "execution_count": 30,
   "metadata": {
    "hidden": true
   },
   "outputs": [
    {
     "data": {
      "text/plain": [
       "array([[ 1.0000000e+00, -4.4408921e-16],\n",
       "       [ 0.0000000e+00,  1.0000000e+00]])"
      ]
     },
     "execution_count": 30,
     "metadata": {},
     "output_type": "execute_result"
    }
   ],
   "source": [
    "A_inv @ A"
   ]
  },
  {
   "cell_type": "code",
   "execution_count": 31,
   "metadata": {
    "hidden": true
   },
   "outputs": [
    {
     "data": {
      "text/plain": [
       "array([[-1. ],\n",
       "       [ 2.5]])"
      ]
     },
     "execution_count": 31,
     "metadata": {},
     "output_type": "execute_result"
    }
   ],
   "source": [
    "A_inv @ C"
   ]
  },
  {
   "cell_type": "code",
   "execution_count": 32,
   "metadata": {
    "hidden": true
   },
   "outputs": [],
   "source": [
    "#second approach"
   ]
  },
  {
   "cell_type": "code",
   "execution_count": 35,
   "metadata": {
    "hidden": true
   },
   "outputs": [
    {
     "data": {
      "text/plain": [
       "array([[-1. ],\n",
       "       [ 2.5]])"
      ]
     },
     "execution_count": 35,
     "metadata": {},
     "output_type": "execute_result"
    }
   ],
   "source": [
    "scl.solve(A,C)"
   ]
  },
  {
   "cell_type": "markdown",
   "metadata": {
    "heading_collapsed": true,
    "hidden": true
   },
   "source": [
    "## Interpolate"
   ]
  },
  {
   "cell_type": "code",
   "execution_count": 36,
   "metadata": {
    "hidden": true
   },
   "outputs": [],
   "source": [
    "from scipy.interpolate import interp1d"
   ]
  },
  {
   "cell_type": "code",
   "execution_count": 37,
   "metadata": {
    "hidden": true
   },
   "outputs": [],
   "source": [
    "x=np.arange(0,11,0.1)"
   ]
  },
  {
   "cell_type": "code",
   "execution_count": 38,
   "metadata": {
    "hidden": true
   },
   "outputs": [],
   "source": [
    "y=np.sin(x)"
   ]
  },
  {
   "cell_type": "code",
   "execution_count": 46,
   "metadata": {
    "hidden": true
   },
   "outputs": [
    {
     "data": {
      "text/plain": [
       "[<matplotlib.lines.Line2D at 0x7fd043237c90>]"
      ]
     },
     "execution_count": 46,
     "metadata": {},
     "output_type": "execute_result"
    },
    {
     "data": {
      "image/png": "[encoded data removed]",
      "text/plain": [
       "<Figure size 432x288 with 1 Axes>"
      ]
     },
     "metadata": {
      "needs_background": "light"
     },
     "output_type": "display_data"
    }
   ],
   "source": [
    "plt.plot(x,y)"
   ]
  },
  {
   "cell_type": "code",
   "execution_count": 41,
   "metadata": {
    "hidden": true
   },
   "outputs": [],
   "source": [
    "x_new=np.arange(0,10.25,0.25)"
   ]
  },
  {
   "cell_type": "code",
   "execution_count": 42,
   "metadata": {
    "hidden": true
   },
   "outputs": [
    {
     "data": {
      "text/plain": [
       "array([ 0.  ,  0.25,  0.5 ,  0.75,  1.  ,  1.25,  1.5 ,  1.75,  2.  ,\n",
       "        2.25,  2.5 ,  2.75,  3.  ,  3.25,  3.5 ,  3.75,  4.  ,  4.25,\n",
       "        4.5 ,  4.75,  5.  ,  5.25,  5.5 ,  5.75,  6.  ,  6.25,  6.5 ,\n",
       "        6.75,  7.  ,  7.25,  7.5 ,  7.75,  8.  ,  8.25,  8.5 ,  8.75,\n",
       "        9.  ,  9.25,  9.5 ,  9.75, 10.  ])"
      ]
     },
     "execution_count": 42,
     "metadata": {},
     "output_type": "execute_result"
    }
   ],
   "source": [
    "x_new"
   ]
  },
  {
   "cell_type": "code",
   "execution_count": 43,
   "metadata": {
    "hidden": true
   },
   "outputs": [
    {
     "data": {
      "text/plain": [
       "array([ 0. ,  0.1,  0.2,  0.3,  0.4,  0.5,  0.6,  0.7,  0.8,  0.9,  1. ,\n",
       "        1.1,  1.2,  1.3,  1.4,  1.5,  1.6,  1.7,  1.8,  1.9,  2. ,  2.1,\n",
       "        2.2,  2.3,  2.4,  2.5,  2.6,  2.7,  2.8,  2.9,  3. ,  3.1,  3.2,\n",
       "        3.3,  3.4,  3.5,  3.6,  3.7,  3.8,  3.9,  4. ,  4.1,  4.2,  4.3,\n",
       "        4.4,  4.5,  4.6,  4.7,  4.8,  4.9,  5. ,  5.1,  5.2,  5.3,  5.4,\n",
       "        5.5,  5.6,  5.7,  5.8,  5.9,  6. ,  6.1,  6.2,  6.3,  6.4,  6.5,\n",
       "        6.6,  6.7,  6.8,  6.9,  7. ,  7.1,  7.2,  7.3,  7.4,  7.5,  7.6,\n",
       "        7.7,  7.8,  7.9,  8. ,  8.1,  8.2,  8.3,  8.4,  8.5,  8.6,  8.7,\n",
       "        8.8,  8.9,  9. ,  9.1,  9.2,  9.3,  9.4,  9.5,  9.6,  9.7,  9.8,\n",
       "        9.9, 10. , 10.1, 10.2, 10.3, 10.4, 10.5, 10.6, 10.7, 10.8, 10.9])"
      ]
     },
     "execution_count": 43,
     "metadata": {},
     "output_type": "execute_result"
    }
   ],
   "source": [
    "x"
   ]
  },
  {
   "cell_type": "code",
   "execution_count": 45,
   "metadata": {
    "hidden": true
   },
   "outputs": [],
   "source": [
    "f=interp1d(x,y)"
   ]
  },
  {
   "cell_type": "code",
   "execution_count": 47,
   "metadata": {
    "hidden": true
   },
   "outputs": [
    {
     "data": {
      "text/plain": [
       "[<matplotlib.lines.Line2D at 0x7fd043e88d50>]"
      ]
     },
     "execution_count": 47,
     "metadata": {},
     "output_type": "execute_result"
    },
    {
     "data": {
      "image/png": "[encoded data removed]",
      "text/plain": [
       "<Figure size 432x288 with 1 Axes>"
      ]
     },
     "metadata": {
      "needs_background": "light"
     },
     "output_type": "display_data"
    }
   ],
   "source": [
    "plt.plot(x_new, f(x_new))"
   ]
  },
  {
   "cell_type": "code",
   "execution_count": 48,
   "metadata": {
    "hidden": true
   },
   "outputs": [
    {
     "data": {
      "text/plain": [
       "array([ 0.        ,  0.24709477,  0.47942554,  0.68078689,  0.84147098,\n",
       "        0.94779864,  0.99749499,  0.98275622,  0.90929743,  0.77710081,\n",
       "        0.59847214,  0.38118402,  0.14112001, -0.10805992, -0.35078323,\n",
       "       -0.57084702, -0.7568025 , -0.89387085, -0.97753012, -0.99804393,\n",
       "       -0.95892427, -0.85786105, -0.70554033, -0.50764386, -0.2794155 ,\n",
       "       -0.03313775,  0.21511999,  0.44948164,  0.6569866 ,  0.82205224,\n",
       "        0.93799998,  0.99335579,  0.98935825,  0.9214512 ,  0.79848711,\n",
       "        0.62394321,  0.41211849,  0.17367217, -0.07515112, -0.31911988,\n",
       "       -0.54402111])"
      ]
     },
     "execution_count": 48,
     "metadata": {},
     "output_type": "execute_result"
    }
   ],
   "source": [
    "f(x_new)"
   ]
  },
  {
   "cell_type": "code",
   "execution_count": 49,
   "metadata": {
    "hidden": true
   },
   "outputs": [],
   "source": [
    "x=np.arange(0,11,1)\n",
    "y=np.sin(x)"
   ]
  },
  {
   "cell_type": "code",
   "execution_count": 51,
   "metadata": {
    "hidden": true
   },
   "outputs": [
    {
     "data": {
      "text/plain": [
       "[<matplotlib.lines.Line2D at 0x7fd042efce50>]"
      ]
     },
     "execution_count": 51,
     "metadata": {},
     "output_type": "execute_result"
    },
    {
     "data": {
      "image/png": "[encoded data removed]",
      "text/plain": [
       "<Figure size 432x288 with 1 Axes>"
      ]
     },
     "metadata": {
      "needs_background": "light"
     },
     "output_type": "display_data"
    }
   ],
   "source": [
    "plt.plot(x,y, 'o')"
   ]
  },
  {
   "cell_type": "code",
   "execution_count": 53,
   "metadata": {
    "hidden": true
   },
   "outputs": [
    {
     "data": {
      "text/plain": [
       "array([ 0.  ,  0.25,  0.5 ,  0.75,  1.  ,  1.25,  1.5 ,  1.75,  2.  ,\n",
       "        2.25,  2.5 ,  2.75,  3.  ,  3.25,  3.5 ,  3.75,  4.  ,  4.25,\n",
       "        4.5 ,  4.75,  5.  ,  5.25,  5.5 ,  5.75,  6.  ,  6.25,  6.5 ,\n",
       "        6.75,  7.  ,  7.25,  7.5 ,  7.75,  8.  ,  8.25,  8.5 ,  8.75,\n",
       "        9.  ,  9.25,  9.5 ,  9.75, 10.  ])"
      ]
     },
     "execution_count": 53,
     "metadata": {},
     "output_type": "execute_result"
    }
   ],
   "source": [
    "x_new"
   ]
  },
  {
   "cell_type": "code",
   "execution_count": 54,
   "metadata": {
    "hidden": true
   },
   "outputs": [
    {
     "data": {
      "text/plain": [
       "[<matplotlib.lines.Line2D at 0x7fd042ecbad0>]"
      ]
     },
     "execution_count": 54,
     "metadata": {},
     "output_type": "execute_result"
    },
    {
     "data": {
      "image/png": "[encoded data removed]",
      "text/plain": [
       "<Figure size 432x288 with 1 Axes>"
      ]
     },
     "metadata": {
      "needs_background": "light"
     },
     "output_type": "display_data"
    }
   ],
   "source": [
    "f=interp1d(x,y)\n",
    "plt.plot(x_new, f(x_new))"
   ]
  },
  {
   "cell_type": "code",
   "execution_count": 55,
   "metadata": {
    "hidden": true
   },
   "outputs": [
    {
     "data": {
      "text/plain": [
       "[<matplotlib.lines.Line2D at 0x7fd0432163d0>]"
      ]
     },
     "execution_count": 55,
     "metadata": {},
     "output_type": "execute_result"
    },
    {
     "data": {
      "image/png": "[encoded data removed]",
      "text/plain": [
       "<Figure size 432x288 with 1 Axes>"
      ]
     },
     "metadata": {
      "needs_background": "light"
     },
     "output_type": "display_data"
    }
   ],
   "source": [
    "plt.plot(x,y)"
   ]
  },
  {
   "cell_type": "code",
   "execution_count": 56,
   "metadata": {
    "hidden": true
   },
   "outputs": [
    {
     "data": {
      "text/plain": [
       "[<matplotlib.lines.Line2D at 0x7fd0430e8f10>]"
      ]
     },
     "execution_count": 56,
     "metadata": {},
     "output_type": "execute_result"
    },
    {
     "data": {
      "image/png": "[encoded data removed]",
      "text/plain": [
       "<Figure size 432x288 with 1 Axes>"
      ]
     },
     "metadata": {
      "needs_background": "light"
     },
     "output_type": "display_data"
    }
   ],
   "source": [
    "f=interp1d(x,y, 'quadratic')\n",
    "plt.plot(x_new, f(x_new))"
   ]
  },
  {
   "cell_type": "code",
   "execution_count": 58,
   "metadata": {
    "hidden": true
   },
   "outputs": [
    {
     "data": {
      "image/png": "[encoded data removed]",
      "text/plain": [
       "<Figure size 432x288 with 1 Axes>"
      ]
     },
     "metadata": {
      "needs_background": "light"
     },
     "output_type": "display_data"
    }
   ],
   "source": [
    "f=interp1d(x,y, 'quadratic')\n",
    "plt.plot(x_new, f(x_new),'o', label='interpolated')\n",
    "plt.plot(x,y, 'o',label='original')\n",
    "plt.legend()\n",
    "plt.show()"
   ]
  },
  {
   "cell_type": "markdown",
   "metadata": {
    "heading_collapsed": true
   },
   "source": [
    "# Some optimization problems"
   ]
  },
  {
   "cell_type": "markdown",
   "metadata": {
    "heading_collapsed": true,
    "hidden": true
   },
   "source": [
    "## Ads in 90s"
   ]
  },
  {
   "cell_type": "markdown",
   "metadata": {
    "hidden": true
   },
   "source": [
    "You are a cleric in Marketing Department of a company. You are launching a new campaign. You need to advertise it. And you are in 90s. \n",
    "You have a budget of 1000€. \n",
    "Main channels:  \n",
    "    1. TV ads;  \n",
    "    2. Radio ads.  \n",
    "According to the historical data of previous campaigns in the company:  \n",
    "    * 1 minute of TV ads in 30 times more effective than 1 minute of radio ads.  \n",
    "    * Your boss is a hugh fan of Radio (He is from 60s, so could be expected), so he wants you to use radio 3 times more then tv.  \n",
    "Prices:  \n",
    "    * TV - 90€  \n",
    "    * Radio - 5€  \n",
    "Try to maximize the effectiveness of your ads campaign! You have 1 minute. "
   ]
  },
  {
   "cell_type": "markdown",
   "metadata": {
    "hidden": true
   },
   "source": [
    "Let's rewrite the task in Math language:  \n",
    "Let $x$ and $y$ be the amount of time on TV and radio accordingly. Then:  \n",
    "$30x+y \\rightarrow max$  \n",
    "$90x+5y\\leq1000$  \n",
    "$y=3x$   "
   ]
  },
  {
   "cell_type": "code",
   "execution_count": 59,
   "metadata": {
    "hidden": true
   },
   "outputs": [],
   "source": [
    "from scipy.optimize import linprog"
   ]
  },
  {
   "cell_type": "code",
   "execution_count": 60,
   "metadata": {
    "hidden": true
   },
   "outputs": [],
   "source": [
    "#goal function \n",
    "c=[-30,-1]\n",
    "#inequalities\n",
    "A_ub=[[90,5]]\n",
    "b_ub=[[1000]]\n",
    "#equalities\n",
    "A_eq=[[3,-1]]\n",
    "b_eq=[[0]]"
   ]
  },
  {
   "cell_type": "code",
   "execution_count": 61,
   "metadata": {
    "hidden": true
   },
   "outputs": [],
   "source": [
    "result=linprog(c, A_ub, b_ub, A_eq, b_eq)"
   ]
  },
  {
   "cell_type": "code",
   "execution_count": 62,
   "metadata": {
    "hidden": true
   },
   "outputs": [
    {
     "data": {
      "text/plain": [
       "     con: array([-1.14184218e-11])\n",
       "     fun: -314.28571428394264\n",
       " message: 'Optimization terminated successfully.'\n",
       "     nit: 5\n",
       "   slack: array([5.65762548e-09])\n",
       "  status: 0\n",
       " success: True\n",
       "       x: array([ 9.52380952, 28.57142857])"
      ]
     },
     "execution_count": 62,
     "metadata": {},
     "output_type": "execute_result"
    }
   ],
   "source": [
    "result"
   ]
  },
  {
   "cell_type": "markdown",
   "metadata": {
    "heading_collapsed": true,
    "hidden": true
   },
   "source": [
    "## Modern one"
   ]
  },
  {
   "cell_type": "markdown",
   "metadata": {
    "hidden": true
   },
   "source": [
    "Facebook ads are 1.3times more efficient then Google Ads;  \n",
    "TV Ads are barely efficient, but your company wants to keep the branding level, so you have to use this channel.   But budget shouldn't exceed 200€;  \n",
    "Banners efficiency can be compared with 30% of online channels all together (facebook+ google);  \n",
    "TV efficiency is 15% of banners efficiency;   \n",
    "Facebook ads should represent 10% of total ads."
   ]
  },
  {
   "cell_type": "markdown",
   "metadata": {
    "hidden": true
   },
   "source": [
    "Facebook - 1€ per ad  \n",
    "Google - 0.7€ per ad  \n",
    "TV - 3€ per ad  \n",
    "Banners - 4€ per ad.  "
   ]
  },
  {
   "cell_type": "markdown",
   "metadata": {
    "hidden": true
   },
   "source": [
    "Your budget is 10`000€."
   ]
  },
  {
   "cell_type": "markdown",
   "metadata": {
    "hidden": true
   },
   "source": [
    "$1facebook+0.7google+3TV+4banner\\leq10000$"
   ]
  },
  {
   "cell_type": "markdown",
   "metadata": {
    "hidden": true
   },
   "source": [
    "$9facebook=google+tv+banner$"
   ]
  },
  {
   "cell_type": "markdown",
   "metadata": {
    "hidden": true
   },
   "source": [
    "$3tv\\leq200$"
   ]
  },
  {
   "cell_type": "markdown",
   "metadata": {
    "hidden": true
   },
   "source": [
    "$tv + 20/3banner + 200/9(google)+200/9*1.3(facebook) \\rightarrow max$"
   ]
  },
  {
   "cell_type": "code",
   "execution_count": 17,
   "metadata": {
    "hidden": true
   },
   "outputs": [],
   "source": [
    "c=[-200/9*1.3, -200/9, -20/3, -1]"
   ]
  },
  {
   "cell_type": "code",
   "execution_count": 25,
   "metadata": {
    "hidden": true
   },
   "outputs": [],
   "source": [
    "A_ub=[[1,0.7,4,3],[0,0,0,3],[0,0,0,-1]]\n",
    "b_ub=[[10000],[200],[-1]]\n",
    "A_eq=[[9,-1,-1,-1]]\n",
    "b_eq=[[0]]\n",
    "result=linprog(c,A_ub,b_ub,A_eq,b_eq)"
   ]
  },
  {
   "cell_type": "code",
   "execution_count": 26,
   "metadata": {
    "hidden": true
   },
   "outputs": [
    {
     "data": {
      "text/plain": [
       "     con: array([7.03876957e-11])\n",
       "     fun: -313453.08521438605\n",
       " message: 'Optimization terminated successfully.'\n",
       "     nit: 7\n",
       "   slack: array([6.83932740e-07, 1.97000000e+02, 2.73028267e-11])\n",
       "  status: 0\n",
       " success: True\n",
       "       x: array([1.36954795e+03, 1.23249315e+04, 7.37938864e-10, 1.00000000e+00])"
      ]
     },
     "execution_count": 26,
     "metadata": {},
     "output_type": "execute_result"
    }
   ],
   "source": [
    "result"
   ]
  },
  {
   "cell_type": "code",
   "execution_count": 27,
   "metadata": {
    "hidden": true
   },
   "outputs": [
    {
     "data": {
      "text/plain": [
       "array([1.3700e+03, 1.2325e+04, 0.0000e+00, 1.0000e+00])"
      ]
     },
     "execution_count": 27,
     "metadata": {},
     "output_type": "execute_result"
    }
   ],
   "source": [
    "result.x.round()"
   ]
  },
  {
   "cell_type": "markdown",
   "metadata": {
    "heading_collapsed": true,
    "hidden": true
   },
   "source": [
    "## Logistics problem"
   ]
  },
  {
   "cell_type": "code",
   "execution_count": 42,
   "metadata": {
    "hidden": true
   },
   "outputs": [
    {
     "data": {
      "text/plain": [
       "array([[ 0., 20.,  0.],\n",
       "       [ 9.,  0., 36.],\n",
       "       [30.,  0.,  0.]])"
      ]
     },
     "execution_count": 42,
     "metadata": {},
     "output_type": "execute_result"
    }
   ],
   "source": [
    "result.x.round().reshape((3,3))"
   ]
  },
  {
   "cell_type": "markdown",
   "metadata": {
    "hidden": true
   },
   "source": [
    "3 producers A. Each producer has a stock of a1,a2,a3 goods.\n",
    "3 customers B. Each customer has b1,b2,b3 of goods needed.\n",
    "Delivery has a price. The price from A to B is given as C in the table below.\n",
    "\n",
    "<img src=\"https://habrastorage.org/web/a49/8a1/d95/a498a1d9541a459594c3cb118a61762c.JPG\">"
   ]
  },
  {
   "cell_type": "markdown",
   "metadata": {
    "hidden": true
   },
   "source": [
    "Total Price of delivery:\n",
    "\n",
    "$F(x)=c_1*x_1+c_2*x_2+c_3*x_3+c_4*x_4+c_5*x_5+c_6*x_6+c_7*x_7+c_8*x_8+c_9*x_9$"
   ]
  },
  {
   "cell_type": "markdown",
   "metadata": {
    "hidden": true
   },
   "source": [
    "Capacity constrains:  \n",
    "$x_1+x_2+x_3= a_1$  \n",
    "$x_4+x_5+x_6= a_2$  \n",
    "$x_7+x_8+x_9= a_3$"
   ]
  },
  {
   "cell_type": "markdown",
   "metadata": {
    "hidden": true
   },
   "source": [
    "Delivery constrains:  \n",
    "$x_1+x_4+x_7\\leq b_1$  \n",
    "$x_2+x_5+x_8\\leq b_2$  \n",
    "$x_3+x_6+x_9\\leq b_3$  \n"
   ]
  },
  {
   "cell_type": "code",
   "execution_count": 32,
   "metadata": {
    "hidden": true
   },
   "outputs": [],
   "source": [
    "c=[7,3,6,4,8,2,1,5,9]\n",
    "A_eq=[[1,1,1,0,0,0,0,0,0],[0,0,0,1,1,1,0,0,0],[0,0,0,0,0,0,1,1,1]]\n",
    "b_eq=[[20],[45],[30]]\n",
    "\n",
    "A_ub=[[1,0,0,1,0,0,1,0,0],[0,1,0,0,1,0,0,1,0],[0,0,1,0,0,1,0,0,1]]\n",
    "b_ub=[[74],[40],[36]]"
   ]
  },
  {
   "cell_type": "code",
   "execution_count": 35,
   "metadata": {
    "hidden": true
   },
   "outputs": [
    {
     "data": {
      "text/plain": [
       "[7, 3, 6, 4, 8, 2, 1, 5, 9]"
      ]
     },
     "execution_count": 35,
     "metadata": {},
     "output_type": "execute_result"
    }
   ],
   "source": [
    "c"
   ]
  },
  {
   "cell_type": "code",
   "execution_count": 33,
   "metadata": {
    "hidden": true
   },
   "outputs": [
    {
     "data": {
      "text/plain": [
       "[[1, 1, 1, 0, 0, 0, 0, 0, 0],\n",
       " [0, 0, 0, 1, 1, 1, 0, 0, 0],\n",
       " [0, 0, 0, 0, 0, 0, 1, 1, 1]]"
      ]
     },
     "execution_count": 33,
     "metadata": {},
     "output_type": "execute_result"
    }
   ],
   "source": [
    "A_eq"
   ]
  },
  {
   "cell_type": "code",
   "execution_count": 34,
   "metadata": {
    "hidden": true
   },
   "outputs": [
    {
     "data": {
      "text/plain": [
       "[[1, 0, 0, 1, 0, 0, 1, 0, 0],\n",
       " [0, 1, 0, 0, 1, 0, 0, 1, 0],\n",
       " [0, 0, 1, 0, 0, 1, 0, 0, 1]]"
      ]
     },
     "execution_count": 34,
     "metadata": {},
     "output_type": "execute_result"
    }
   ],
   "source": [
    "A_ub"
   ]
  },
  {
   "cell_type": "code",
   "execution_count": 37,
   "metadata": {
    "hidden": true
   },
   "outputs": [],
   "source": [
    "result=linprog(c,A_ub,b_ub,A_eq,b_eq)"
   ]
  },
  {
   "cell_type": "code",
   "execution_count": 41,
   "metadata": {
    "hidden": true,
    "scrolled": true
   },
   "outputs": [
    {
     "data": {
      "text/plain": [
       "array([[ 0., 20.,  0.],\n",
       "       [ 9.,  0., 36.],\n",
       "       [30.,  0.,  0.]])"
      ]
     },
     "execution_count": 41,
     "metadata": {},
     "output_type": "execute_result"
    }
   ],
   "source": [
    "result.x.round().reshape((3,3))"
   ]
  },
  {
   "cell_type": "markdown",
   "metadata": {
    "heading_collapsed": true
   },
   "source": [
    "# Linear Regression"
   ]
  },
  {
   "cell_type": "markdown",
   "metadata": {
    "heading_collapsed": true,
    "hidden": true
   },
   "source": [
    "## Intro"
   ]
  },
  {
   "cell_type": "code",
   "execution_count": 64,
   "metadata": {
    "hidden": true
   },
   "outputs": [],
   "source": [
    "import pandas as pd"
   ]
  },
  {
   "cell_type": "code",
   "execution_count": 65,
   "metadata": {
    "hidden": true
   },
   "outputs": [],
   "source": [
    "df=pd.read_csv('/home/mauritian/Documents/housing_prices.csv')"
   ]
  },
  {
   "cell_type": "code",
   "execution_count": 66,
   "metadata": {
    "hidden": true
   },
   "outputs": [
    {
     "data": {
      "text/html": [
       "<div>\n",
       "<style scoped>\n",
       "    .dataframe tbody tr th:only-of-type {\n",
       "        vertical-align: middle;\n",
       "    }\n",
       "\n",
       "    .dataframe tbody tr th {\n",
       "        vertical-align: top;\n",
       "    }\n",
       "\n",
       "    .dataframe thead th {\n",
       "        text-align: right;\n",
       "    }\n",
       "</style>\n",
       "<table border=\"1\" class=\"dataframe\">\n",
       "  <thead>\n",
       "    <tr style=\"text-align: right;\">\n",
       "      <th></th>\n",
       "      <th>Id</th>\n",
       "      <th>MSSubClass</th>\n",
       "      <th>MSZoning</th>\n",
       "      <th>LotFrontage</th>\n",
       "      <th>LotArea</th>\n",
       "      <th>Street</th>\n",
       "      <th>Alley</th>\n",
       "      <th>LotShape</th>\n",
       "      <th>LandContour</th>\n",
       "      <th>Utilities</th>\n",
       "      <th>...</th>\n",
       "      <th>PoolArea</th>\n",
       "      <th>PoolQC</th>\n",
       "      <th>Fence</th>\n",
       "      <th>MiscFeature</th>\n",
       "      <th>MiscVal</th>\n",
       "      <th>MoSold</th>\n",
       "      <th>YrSold</th>\n",
       "      <th>SaleType</th>\n",
       "      <th>SaleCondition</th>\n",
       "      <th>SalePrice</th>\n",
       "    </tr>\n",
       "  </thead>\n",
       "  <tbody>\n",
       "    <tr>\n",
       "      <th>0</th>\n",
       "      <td>1</td>\n",
       "      <td>60</td>\n",
       "      <td>RL</td>\n",
       "      <td>65.0</td>\n",
       "      <td>8450</td>\n",
       "      <td>Pave</td>\n",
       "      <td>NaN</td>\n",
       "      <td>Reg</td>\n",
       "      <td>Lvl</td>\n",
       "      <td>AllPub</td>\n",
       "      <td>...</td>\n",
       "      <td>0</td>\n",
       "      <td>NaN</td>\n",
       "      <td>NaN</td>\n",
       "      <td>NaN</td>\n",
       "      <td>0</td>\n",
       "      <td>2</td>\n",
       "      <td>2008</td>\n",
       "      <td>WD</td>\n",
       "      <td>Normal</td>\n",
       "      <td>208500</td>\n",
       "    </tr>\n",
       "    <tr>\n",
       "      <th>1</th>\n",
       "      <td>2</td>\n",
       "      <td>20</td>\n",
       "      <td>RL</td>\n",
       "      <td>80.0</td>\n",
       "      <td>9600</td>\n",
       "      <td>Pave</td>\n",
       "      <td>NaN</td>\n",
       "      <td>Reg</td>\n",
       "      <td>Lvl</td>\n",
       "      <td>AllPub</td>\n",
       "      <td>...</td>\n",
       "      <td>0</td>\n",
       "      <td>NaN</td>\n",
       "      <td>NaN</td>\n",
       "      <td>NaN</td>\n",
       "      <td>0</td>\n",
       "      <td>5</td>\n",
       "      <td>2007</td>\n",
       "      <td>WD</td>\n",
       "      <td>Normal</td>\n",
       "      <td>181500</td>\n",
       "    </tr>\n",
       "    <tr>\n",
       "      <th>2</th>\n",
       "      <td>3</td>\n",
       "      <td>60</td>\n",
       "      <td>RL</td>\n",
       "      <td>68.0</td>\n",
       "      <td>11250</td>\n",
       "      <td>Pave</td>\n",
       "      <td>NaN</td>\n",
       "      <td>IR1</td>\n",
       "      <td>Lvl</td>\n",
       "      <td>AllPub</td>\n",
       "      <td>...</td>\n",
       "      <td>0</td>\n",
       "      <td>NaN</td>\n",
       "      <td>NaN</td>\n",
       "      <td>NaN</td>\n",
       "      <td>0</td>\n",
       "      <td>9</td>\n",
       "      <td>2008</td>\n",
       "      <td>WD</td>\n",
       "      <td>Normal</td>\n",
       "      <td>223500</td>\n",
       "    </tr>\n",
       "    <tr>\n",
       "      <th>3</th>\n",
       "      <td>4</td>\n",
       "      <td>70</td>\n",
       "      <td>RL</td>\n",
       "      <td>60.0</td>\n",
       "      <td>9550</td>\n",
       "      <td>Pave</td>\n",
       "      <td>NaN</td>\n",
       "      <td>IR1</td>\n",
       "      <td>Lvl</td>\n",
       "      <td>AllPub</td>\n",
       "      <td>...</td>\n",
       "      <td>0</td>\n",
       "      <td>NaN</td>\n",
       "      <td>NaN</td>\n",
       "      <td>NaN</td>\n",
       "      <td>0</td>\n",
       "      <td>2</td>\n",
       "      <td>2006</td>\n",
       "      <td>WD</td>\n",
       "      <td>Abnorml</td>\n",
       "      <td>140000</td>\n",
       "    </tr>\n",
       "    <tr>\n",
       "      <th>4</th>\n",
       "      <td>5</td>\n",
       "      <td>60</td>\n",
       "      <td>RL</td>\n",
       "      <td>84.0</td>\n",
       "      <td>14260</td>\n",
       "      <td>Pave</td>\n",
       "      <td>NaN</td>\n",
       "      <td>IR1</td>\n",
       "      <td>Lvl</td>\n",
       "      <td>AllPub</td>\n",
       "      <td>...</td>\n",
       "      <td>0</td>\n",
       "      <td>NaN</td>\n",
       "      <td>NaN</td>\n",
       "      <td>NaN</td>\n",
       "      <td>0</td>\n",
       "      <td>12</td>\n",
       "      <td>2008</td>\n",
       "      <td>WD</td>\n",
       "      <td>Normal</td>\n",
       "      <td>250000</td>\n",
       "    </tr>\n",
       "  </tbody>\n",
       "</table>\n",
       "<p>5 rows × 81 columns</p>\n",
       "</div>"
      ],
      "text/plain": [
       "   Id  MSSubClass MSZoning  LotFrontage  LotArea Street Alley LotShape  \\\n",
       "0   1          60       RL         65.0     8450   Pave   NaN      Reg   \n",
       "1   2          20       RL         80.0     9600   Pave   NaN      Reg   \n",
       "2   3          60       RL         68.0    11250   Pave   NaN      IR1   \n",
       "3   4          70       RL         60.0     9550   Pave   NaN      IR1   \n",
       "4   5          60       RL         84.0    14260   Pave   NaN      IR1   \n",
       "\n",
       "  LandContour Utilities  ... PoolArea PoolQC Fence MiscFeature MiscVal MoSold  \\\n",
       "0         Lvl    AllPub  ...        0    NaN   NaN         NaN       0      2   \n",
       "1         Lvl    AllPub  ...        0    NaN   NaN         NaN       0      5   \n",
       "2         Lvl    AllPub  ...        0    NaN   NaN         NaN       0      9   \n",
       "3         Lvl    AllPub  ...        0    NaN   NaN         NaN       0      2   \n",
       "4         Lvl    AllPub  ...        0    NaN   NaN         NaN       0     12   \n",
       "\n",
       "  YrSold  SaleType  SaleCondition  SalePrice  \n",
       "0   2008        WD         Normal     208500  \n",
       "1   2007        WD         Normal     181500  \n",
       "2   2008        WD         Normal     223500  \n",
       "3   2006        WD        Abnorml     140000  \n",
       "4   2008        WD         Normal     250000  \n",
       "\n",
       "[5 rows x 81 columns]"
      ]
     },
     "execution_count": 66,
     "metadata": {},
     "output_type": "execute_result"
    }
   ],
   "source": [
    "df.head()"
   ]
  },
  {
   "cell_type": "code",
   "execution_count": 67,
   "metadata": {
    "hidden": true
   },
   "outputs": [
    {
     "data": {
      "text/plain": [
       "Index(['Id', 'MSSubClass', 'MSZoning', 'LotFrontage', 'LotArea', 'Street',\n",
       "       'Alley', 'LotShape', 'LandContour', 'Utilities', 'LotConfig',\n",
       "       'LandSlope', 'Neighborhood', 'Condition1', 'Condition2', 'BldgType',\n",
       "       'HouseStyle', 'OverallQual', 'OverallCond', 'YearBuilt', 'YearRemodAdd',\n",
       "       'RoofStyle', 'RoofMatl', 'Exterior1st', 'Exterior2nd', 'MasVnrType',\n",
       "       'MasVnrArea', 'ExterQual', 'ExterCond', 'Foundation', 'BsmtQual',\n",
       "       'BsmtCond', 'BsmtExposure', 'BsmtFinType1', 'BsmtFinSF1',\n",
       "       'BsmtFinType2', 'BsmtFinSF2', 'BsmtUnfSF', 'TotalBsmtSF', 'Heating',\n",
       "       'HeatingQC', 'CentralAir', 'Electrical', '1stFlrSF', '2ndFlrSF',\n",
       "       'LowQualFinSF', 'GrLivArea', 'BsmtFullBath', 'BsmtHalfBath', 'FullBath',\n",
       "       'HalfBath', 'BedroomAbvGr', 'KitchenAbvGr', 'KitchenQual',\n",
       "       'TotRmsAbvGrd', 'Functional', 'Fireplaces', 'FireplaceQu', 'GarageType',\n",
       "       'GarageYrBlt', 'GarageFinish', 'GarageCars', 'GarageArea', 'GarageQual',\n",
       "       'GarageCond', 'PavedDrive', 'WoodDeckSF', 'OpenPorchSF',\n",
       "       'EnclosedPorch', '3SsnPorch', 'ScreenPorch', 'PoolArea', 'PoolQC',\n",
       "       'Fence', 'MiscFeature', 'MiscVal', 'MoSold', 'YrSold', 'SaleType',\n",
       "       'SaleCondition', 'SalePrice'],\n",
       "      dtype='object')"
      ]
     },
     "execution_count": 67,
     "metadata": {},
     "output_type": "execute_result"
    }
   ],
   "source": [
    "df.columns"
   ]
  },
  {
   "cell_type": "code",
   "execution_count": 68,
   "metadata": {
    "hidden": true
   },
   "outputs": [
    {
     "name": "stdout",
     "output_type": "stream",
     "text": [
      "<class 'pandas.core.frame.DataFrame'>\n",
      "RangeIndex: 1460 entries, 0 to 1459\n",
      "Data columns (total 81 columns):\n",
      " #   Column         Non-Null Count  Dtype  \n",
      "---  ------         --------------  -----  \n",
      " 0   Id             1460 non-null   int64  \n",
      " 1   MSSubClass     1460 non-null   int64  \n",
      " 2   MSZoning       1460 non-null   object \n",
      " 3   LotFrontage    1201 non-null   float64\n",
      " 4   LotArea        1460 non-null   int64  \n",
      " 5   Street         1460 non-null   object \n",
      " 6   Alley          91 non-null     object \n",
      " 7   LotShape       1460 non-null   object \n",
      " 8   LandContour    1460 non-null   object \n",
      " 9   Utilities      1460 non-null   object \n",
      " 10  LotConfig      1460 non-null   object \n",
      " 11  LandSlope      1460 non-null   object \n",
      " 12  Neighborhood   1460 non-null   object \n",
      " 13  Condition1     1460 non-null   object \n",
      " 14  Condition2     1460 non-null   object \n",
      " 15  BldgType       1460 non-null   object \n",
      " 16  HouseStyle     1460 non-null   object \n",
      " 17  OverallQual    1460 non-null   int64  \n",
      " 18  OverallCond    1460 non-null   int64  \n",
      " 19  YearBuilt      1460 non-null   int64  \n",
      " 20  YearRemodAdd   1460 non-null   int64  \n",
      " 21  RoofStyle      1460 non-null   object \n",
      " 22  RoofMatl       1460 non-null   object \n",
      " 23  Exterior1st    1460 non-null   object \n",
      " 24  Exterior2nd    1460 non-null   object \n",
      " 25  MasVnrType     1452 non-null   object \n",
      " 26  MasVnrArea     1452 non-null   float64\n",
      " 27  ExterQual      1460 non-null   object \n",
      " 28  ExterCond      1460 non-null   object \n",
      " 29  Foundation     1460 non-null   object \n",
      " 30  BsmtQual       1423 non-null   object \n",
      " 31  BsmtCond       1423 non-null   object \n",
      " 32  BsmtExposure   1422 non-null   object \n",
      " 33  BsmtFinType1   1423 non-null   object \n",
      " 34  BsmtFinSF1     1460 non-null   int64  \n",
      " 35  BsmtFinType2   1422 non-null   object \n",
      " 36  BsmtFinSF2     1460 non-null   int64  \n",
      " 37  BsmtUnfSF      1460 non-null   int64  \n",
      " 38  TotalBsmtSF    1460 non-null   int64  \n",
      " 39  Heating        1460 non-null   object \n",
      " 40  HeatingQC      1460 non-null   object \n",
      " 41  CentralAir     1460 non-null   object \n",
      " 42  Electrical     1459 non-null   object \n",
      " 43  1stFlrSF       1460 non-null   int64  \n",
      " 44  2ndFlrSF       1460 non-null   int64  \n",
      " 45  LowQualFinSF   1460 non-null   int64  \n",
      " 46  GrLivArea      1460 non-null   int64  \n",
      " 47  BsmtFullBath   1460 non-null   int64  \n",
      " 48  BsmtHalfBath   1460 non-null   int64  \n",
      " 49  FullBath       1460 non-null   int64  \n",
      " 50  HalfBath       1460 non-null   int64  \n",
      " 51  BedroomAbvGr   1460 non-null   int64  \n",
      " 52  KitchenAbvGr   1460 non-null   int64  \n",
      " 53  KitchenQual    1460 non-null   object \n",
      " 54  TotRmsAbvGrd   1460 non-null   int64  \n",
      " 55  Functional     1460 non-null   object \n",
      " 56  Fireplaces     1460 non-null   int64  \n",
      " 57  FireplaceQu    770 non-null    object \n",
      " 58  GarageType     1379 non-null   object \n",
      " 59  GarageYrBlt    1379 non-null   float64\n",
      " 60  GarageFinish   1379 non-null   object \n",
      " 61  GarageCars     1460 non-null   int64  \n",
      " 62  GarageArea     1460 non-null   int64  \n",
      " 63  GarageQual     1379 non-null   object \n",
      " 64  GarageCond     1379 non-null   object \n",
      " 65  PavedDrive     1460 non-null   object \n",
      " 66  WoodDeckSF     1460 non-null   int64  \n",
      " 67  OpenPorchSF    1460 non-null   int64  \n",
      " 68  EnclosedPorch  1460 non-null   int64  \n",
      " 69  3SsnPorch      1460 non-null   int64  \n",
      " 70  ScreenPorch    1460 non-null   int64  \n",
      " 71  PoolArea       1460 non-null   int64  \n",
      " 72  PoolQC         7 non-null      object \n",
      " 73  Fence          281 non-null    object \n",
      " 74  MiscFeature    54 non-null     object \n",
      " 75  MiscVal        1460 non-null   int64  \n",
      " 76  MoSold         1460 non-null   int64  \n",
      " 77  YrSold         1460 non-null   int64  \n",
      " 78  SaleType       1460 non-null   object \n",
      " 79  SaleCondition  1460 non-null   object \n",
      " 80  SalePrice      1460 non-null   int64  \n",
      "dtypes: float64(3), int64(35), object(43)\n",
      "memory usage: 924.0+ KB\n"
     ]
    }
   ],
   "source": [
    "df.info()"
   ]
  },
  {
   "cell_type": "code",
   "execution_count": 69,
   "metadata": {
    "hidden": true
   },
   "outputs": [
    {
     "data": {
      "text/html": [
       "<div>\n",
       "<style scoped>\n",
       "    .dataframe tbody tr th:only-of-type {\n",
       "        vertical-align: middle;\n",
       "    }\n",
       "\n",
       "    .dataframe tbody tr th {\n",
       "        vertical-align: top;\n",
       "    }\n",
       "\n",
       "    .dataframe thead th {\n",
       "        text-align: right;\n",
       "    }\n",
       "</style>\n",
       "<table border=\"1\" class=\"dataframe\">\n",
       "  <thead>\n",
       "    <tr style=\"text-align: right;\">\n",
       "      <th></th>\n",
       "      <th>Id</th>\n",
       "      <th>MSSubClass</th>\n",
       "      <th>LotFrontage</th>\n",
       "      <th>LotArea</th>\n",
       "      <th>OverallQual</th>\n",
       "      <th>OverallCond</th>\n",
       "      <th>YearBuilt</th>\n",
       "      <th>YearRemodAdd</th>\n",
       "      <th>MasVnrArea</th>\n",
       "      <th>BsmtFinSF1</th>\n",
       "      <th>...</th>\n",
       "      <th>WoodDeckSF</th>\n",
       "      <th>OpenPorchSF</th>\n",
       "      <th>EnclosedPorch</th>\n",
       "      <th>3SsnPorch</th>\n",
       "      <th>ScreenPorch</th>\n",
       "      <th>PoolArea</th>\n",
       "      <th>MiscVal</th>\n",
       "      <th>MoSold</th>\n",
       "      <th>YrSold</th>\n",
       "      <th>SalePrice</th>\n",
       "    </tr>\n",
       "  </thead>\n",
       "  <tbody>\n",
       "    <tr>\n",
       "      <th>count</th>\n",
       "      <td>1460.000000</td>\n",
       "      <td>1460.000000</td>\n",
       "      <td>1201.000000</td>\n",
       "      <td>1460.000000</td>\n",
       "      <td>1460.000000</td>\n",
       "      <td>1460.000000</td>\n",
       "      <td>1460.000000</td>\n",
       "      <td>1460.000000</td>\n",
       "      <td>1452.000000</td>\n",
       "      <td>1460.000000</td>\n",
       "      <td>...</td>\n",
       "      <td>1460.000000</td>\n",
       "      <td>1460.000000</td>\n",
       "      <td>1460.000000</td>\n",
       "      <td>1460.000000</td>\n",
       "      <td>1460.000000</td>\n",
       "      <td>1460.000000</td>\n",
       "      <td>1460.000000</td>\n",
       "      <td>1460.000000</td>\n",
       "      <td>1460.000000</td>\n",
       "      <td>1460.000000</td>\n",
       "    </tr>\n",
       "    <tr>\n",
       "      <th>mean</th>\n",
       "      <td>730.500000</td>\n",
       "      <td>56.897260</td>\n",
       "      <td>70.049958</td>\n",
       "      <td>10516.828082</td>\n",
       "      <td>6.099315</td>\n",
       "      <td>5.575342</td>\n",
       "      <td>1971.267808</td>\n",
       "      <td>1984.865753</td>\n",
       "      <td>103.685262</td>\n",
       "      <td>443.639726</td>\n",
       "      <td>...</td>\n",
       "      <td>94.244521</td>\n",
       "      <td>46.660274</td>\n",
       "      <td>21.954110</td>\n",
       "      <td>3.409589</td>\n",
       "      <td>15.060959</td>\n",
       "      <td>2.758904</td>\n",
       "      <td>43.489041</td>\n",
       "      <td>6.321918</td>\n",
       "      <td>2007.815753</td>\n",
       "      <td>180921.195890</td>\n",
       "    </tr>\n",
       "    <tr>\n",
       "      <th>std</th>\n",
       "      <td>421.610009</td>\n",
       "      <td>42.300571</td>\n",
       "      <td>24.284752</td>\n",
       "      <td>9981.264932</td>\n",
       "      <td>1.382997</td>\n",
       "      <td>1.112799</td>\n",
       "      <td>30.202904</td>\n",
       "      <td>20.645407</td>\n",
       "      <td>181.066207</td>\n",
       "      <td>456.098091</td>\n",
       "      <td>...</td>\n",
       "      <td>125.338794</td>\n",
       "      <td>66.256028</td>\n",
       "      <td>61.119149</td>\n",
       "      <td>29.317331</td>\n",
       "      <td>55.757415</td>\n",
       "      <td>40.177307</td>\n",
       "      <td>496.123024</td>\n",
       "      <td>2.703626</td>\n",
       "      <td>1.328095</td>\n",
       "      <td>79442.502883</td>\n",
       "    </tr>\n",
       "    <tr>\n",
       "      <th>min</th>\n",
       "      <td>1.000000</td>\n",
       "      <td>20.000000</td>\n",
       "      <td>21.000000</td>\n",
       "      <td>1300.000000</td>\n",
       "      <td>1.000000</td>\n",
       "      <td>1.000000</td>\n",
       "      <td>1872.000000</td>\n",
       "      <td>1950.000000</td>\n",
       "      <td>0.000000</td>\n",
       "      <td>0.000000</td>\n",
       "      <td>...</td>\n",
       "      <td>0.000000</td>\n",
       "      <td>0.000000</td>\n",
       "      <td>0.000000</td>\n",
       "      <td>0.000000</td>\n",
       "      <td>0.000000</td>\n",
       "      <td>0.000000</td>\n",
       "      <td>0.000000</td>\n",
       "      <td>1.000000</td>\n",
       "      <td>2006.000000</td>\n",
       "      <td>34900.000000</td>\n",
       "    </tr>\n",
       "    <tr>\n",
       "      <th>25%</th>\n",
       "      <td>365.750000</td>\n",
       "      <td>20.000000</td>\n",
       "      <td>59.000000</td>\n",
       "      <td>7553.500000</td>\n",
       "      <td>5.000000</td>\n",
       "      <td>5.000000</td>\n",
       "      <td>1954.000000</td>\n",
       "      <td>1967.000000</td>\n",
       "      <td>0.000000</td>\n",
       "      <td>0.000000</td>\n",
       "      <td>...</td>\n",
       "      <td>0.000000</td>\n",
       "      <td>0.000000</td>\n",
       "      <td>0.000000</td>\n",
       "      <td>0.000000</td>\n",
       "      <td>0.000000</td>\n",
       "      <td>0.000000</td>\n",
       "      <td>0.000000</td>\n",
       "      <td>5.000000</td>\n",
       "      <td>2007.000000</td>\n",
       "      <td>129975.000000</td>\n",
       "    </tr>\n",
       "    <tr>\n",
       "      <th>50%</th>\n",
       "      <td>730.500000</td>\n",
       "      <td>50.000000</td>\n",
       "      <td>69.000000</td>\n",
       "      <td>9478.500000</td>\n",
       "      <td>6.000000</td>\n",
       "      <td>5.000000</td>\n",
       "      <td>1973.000000</td>\n",
       "      <td>1994.000000</td>\n",
       "      <td>0.000000</td>\n",
       "      <td>383.500000</td>\n",
       "      <td>...</td>\n",
       "      <td>0.000000</td>\n",
       "      <td>25.000000</td>\n",
       "      <td>0.000000</td>\n",
       "      <td>0.000000</td>\n",
       "      <td>0.000000</td>\n",
       "      <td>0.000000</td>\n",
       "      <td>0.000000</td>\n",
       "      <td>6.000000</td>\n",
       "      <td>2008.000000</td>\n",
       "      <td>163000.000000</td>\n",
       "    </tr>\n",
       "    <tr>\n",
       "      <th>75%</th>\n",
       "      <td>1095.250000</td>\n",
       "      <td>70.000000</td>\n",
       "      <td>80.000000</td>\n",
       "      <td>11601.500000</td>\n",
       "      <td>7.000000</td>\n",
       "      <td>6.000000</td>\n",
       "      <td>2000.000000</td>\n",
       "      <td>2004.000000</td>\n",
       "      <td>166.000000</td>\n",
       "      <td>712.250000</td>\n",
       "      <td>...</td>\n",
       "      <td>168.000000</td>\n",
       "      <td>68.000000</td>\n",
       "      <td>0.000000</td>\n",
       "      <td>0.000000</td>\n",
       "      <td>0.000000</td>\n",
       "      <td>0.000000</td>\n",
       "      <td>0.000000</td>\n",
       "      <td>8.000000</td>\n",
       "      <td>2009.000000</td>\n",
       "      <td>214000.000000</td>\n",
       "    </tr>\n",
       "    <tr>\n",
       "      <th>max</th>\n",
       "      <td>1460.000000</td>\n",
       "      <td>190.000000</td>\n",
       "      <td>313.000000</td>\n",
       "      <td>215245.000000</td>\n",
       "      <td>10.000000</td>\n",
       "      <td>9.000000</td>\n",
       "      <td>2010.000000</td>\n",
       "      <td>2010.000000</td>\n",
       "      <td>1600.000000</td>\n",
       "      <td>5644.000000</td>\n",
       "      <td>...</td>\n",
       "      <td>857.000000</td>\n",
       "      <td>547.000000</td>\n",
       "      <td>552.000000</td>\n",
       "      <td>508.000000</td>\n",
       "      <td>480.000000</td>\n",
       "      <td>738.000000</td>\n",
       "      <td>15500.000000</td>\n",
       "      <td>12.000000</td>\n",
       "      <td>2010.000000</td>\n",
       "      <td>755000.000000</td>\n",
       "    </tr>\n",
       "  </tbody>\n",
       "</table>\n",
       "<p>8 rows × 38 columns</p>\n",
       "</div>"
      ],
      "text/plain": [
       "                Id   MSSubClass  LotFrontage        LotArea  OverallQual  \\\n",
       "count  1460.000000  1460.000000  1201.000000    1460.000000  1460.000000   \n",
       "mean    730.500000    56.897260    70.049958   10516.828082     6.099315   \n",
       "std     421.610009    42.300571    24.284752    9981.264932     1.382997   \n",
       "min       1.000000    20.000000    21.000000    1300.000000     1.000000   \n",
       "25%     365.750000    20.000000    59.000000    7553.500000     5.000000   \n",
       "50%     730.500000    50.000000    69.000000    9478.500000     6.000000   \n",
       "75%    1095.250000    70.000000    80.000000   11601.500000     7.000000   \n",
       "max    1460.000000   190.000000   313.000000  215245.000000    10.000000   \n",
       "\n",
       "       OverallCond    YearBuilt  YearRemodAdd   MasVnrArea   BsmtFinSF1  ...  \\\n",
       "count  1460.000000  1460.000000   1460.000000  1452.000000  1460.000000  ...   \n",
       "mean      5.575342  1971.267808   1984.865753   103.685262   443.639726  ...   \n",
       "std       1.112799    30.202904     20.645407   181.066207   456.098091  ...   \n",
       "min       1.000000  1872.000000   1950.000000     0.000000     0.000000  ...   \n",
       "25%       5.000000  1954.000000   1967.000000     0.000000     0.000000  ...   \n",
       "50%       5.000000  1973.000000   1994.000000     0.000000   383.500000  ...   \n",
       "75%       6.000000  2000.000000   2004.000000   166.000000   712.250000  ...   \n",
       "max       9.000000  2010.000000   2010.000000  1600.000000  5644.000000  ...   \n",
       "\n",
       "        WoodDeckSF  OpenPorchSF  EnclosedPorch    3SsnPorch  ScreenPorch  \\\n",
       "count  1460.000000  1460.000000    1460.000000  1460.000000  1460.000000   \n",
       "mean     94.244521    46.660274      21.954110     3.409589    15.060959   \n",
       "std     125.338794    66.256028      61.119149    29.317331    55.757415   \n",
       "min       0.000000     0.000000       0.000000     0.000000     0.000000   \n",
       "25%       0.000000     0.000000       0.000000     0.000000     0.000000   \n",
       "50%       0.000000    25.000000       0.000000     0.000000     0.000000   \n",
       "75%     168.000000    68.000000       0.000000     0.000000     0.000000   \n",
       "max     857.000000   547.000000     552.000000   508.000000   480.000000   \n",
       "\n",
       "          PoolArea       MiscVal       MoSold       YrSold      SalePrice  \n",
       "count  1460.000000   1460.000000  1460.000000  1460.000000    1460.000000  \n",
       "mean      2.758904     43.489041     6.321918  2007.815753  180921.195890  \n",
       "std      40.177307    496.123024     2.703626     1.328095   79442.502883  \n",
       "min       0.000000      0.000000     1.000000  2006.000000   34900.000000  \n",
       "25%       0.000000      0.000000     5.000000  2007.000000  129975.000000  \n",
       "50%       0.000000      0.000000     6.000000  2008.000000  163000.000000  \n",
       "75%       0.000000      0.000000     8.000000  2009.000000  214000.000000  \n",
       "max     738.000000  15500.000000    12.000000  2010.000000  755000.000000  \n",
       "\n",
       "[8 rows x 38 columns]"
      ]
     },
     "execution_count": 69,
     "metadata": {},
     "output_type": "execute_result"
    }
   ],
   "source": [
    "df.describe()"
   ]
  },
  {
   "cell_type": "markdown",
   "metadata": {
    "hidden": true
   },
   "source": [
    "So, based on the previous 2 tables:\n",
    "* we have 43 object columns, that should be converted into numeric. \n",
    "* we have a lot of columns with a bunch of missing values\n",
    "* Masonry Veneer Area we have 50% of data 0 (corresponds to no MsnrVnr)\n",
    "* Same situation for Pool and porch. Lots of houses simply dont have it\n",
    "* We have outliers in LotFrontage - with the aberage size being 70, we have a house with 313feet connected to the street. \n",
    "* Same wth LotArea. House of 215k SF vs 10k on average. + Average is above Median and almost equal to 75%, which tells us that data is highly skewed.\n",
    "* The oldest year was built in 1872. The newest - 2010. YearRemodAdd oldest - 1950, telling us that the ldest house is actually not in the worst condition. \n",
    "* The last sale was made in 2010, indicating the year of dataset. And in terms of prices we have an outlier (potentially), given the 75% being 214k, and max - 755k"
   ]
  },
  {
   "cell_type": "code",
   "execution_count": 72,
   "metadata": {
    "hidden": true
   },
   "outputs": [
    {
     "data": {
      "text/plain": [
       "True"
      ]
     },
     "execution_count": 72,
     "metadata": {},
     "output_type": "execute_result"
    }
   ],
   "source": [
    "df.Id.nunique()==df.shape[0]"
   ]
  },
  {
   "cell_type": "code",
   "execution_count": 73,
   "metadata": {
    "hidden": true
   },
   "outputs": [],
   "source": [
    "df.drop('Id',axis=1, inplace=True)"
   ]
  },
  {
   "cell_type": "code",
   "execution_count": 75,
   "metadata": {
    "hidden": true
   },
   "outputs": [
    {
     "data": {
      "text/html": [
       "<div>\n",
       "<style scoped>\n",
       "    .dataframe tbody tr th:only-of-type {\n",
       "        vertical-align: middle;\n",
       "    }\n",
       "\n",
       "    .dataframe tbody tr th {\n",
       "        vertical-align: top;\n",
       "    }\n",
       "\n",
       "    .dataframe thead th {\n",
       "        text-align: right;\n",
       "    }\n",
       "</style>\n",
       "<table border=\"1\" class=\"dataframe\">\n",
       "  <thead>\n",
       "    <tr style=\"text-align: right;\">\n",
       "      <th></th>\n",
       "      <th>MSSubClass</th>\n",
       "      <th>MSZoning</th>\n",
       "      <th>LotFrontage</th>\n",
       "      <th>LotArea</th>\n",
       "      <th>Street</th>\n",
       "      <th>Alley</th>\n",
       "      <th>LotShape</th>\n",
       "      <th>LandContour</th>\n",
       "      <th>Utilities</th>\n",
       "      <th>LotConfig</th>\n",
       "      <th>...</th>\n",
       "      <th>PoolArea</th>\n",
       "      <th>PoolQC</th>\n",
       "      <th>Fence</th>\n",
       "      <th>MiscFeature</th>\n",
       "      <th>MiscVal</th>\n",
       "      <th>MoSold</th>\n",
       "      <th>YrSold</th>\n",
       "      <th>SaleType</th>\n",
       "      <th>SaleCondition</th>\n",
       "      <th>SalePrice</th>\n",
       "    </tr>\n",
       "  </thead>\n",
       "  <tbody>\n",
       "    <tr>\n",
       "      <th>630</th>\n",
       "      <td>70</td>\n",
       "      <td>RM</td>\n",
       "      <td>50.0</td>\n",
       "      <td>9000</td>\n",
       "      <td>Pave</td>\n",
       "      <td>Grvl</td>\n",
       "      <td>Reg</td>\n",
       "      <td>Lvl</td>\n",
       "      <td>AllPub</td>\n",
       "      <td>Corner</td>\n",
       "      <td>...</td>\n",
       "      <td>0</td>\n",
       "      <td>NaN</td>\n",
       "      <td>MnPrv</td>\n",
       "      <td>NaN</td>\n",
       "      <td>0</td>\n",
       "      <td>6</td>\n",
       "      <td>2006</td>\n",
       "      <td>WD</td>\n",
       "      <td>Abnorml</td>\n",
       "      <td>124000</td>\n",
       "    </tr>\n",
       "  </tbody>\n",
       "</table>\n",
       "<p>1 rows × 80 columns</p>\n",
       "</div>"
      ],
      "text/plain": [
       "     MSSubClass MSZoning  LotFrontage  LotArea Street Alley LotShape  \\\n",
       "630          70       RM         50.0     9000   Pave  Grvl      Reg   \n",
       "\n",
       "    LandContour Utilities LotConfig  ... PoolArea PoolQC  Fence MiscFeature  \\\n",
       "630         Lvl    AllPub    Corner  ...        0    NaN  MnPrv         NaN   \n",
       "\n",
       "    MiscVal MoSold  YrSold  SaleType  SaleCondition  SalePrice  \n",
       "630       0      6    2006        WD        Abnorml     124000  \n",
       "\n",
       "[1 rows x 80 columns]"
      ]
     },
     "execution_count": 75,
     "metadata": {},
     "output_type": "execute_result"
    }
   ],
   "source": [
    "df.sample()"
   ]
  },
  {
   "cell_type": "markdown",
   "metadata": {
    "heading_collapsed": true,
    "hidden": true
   },
   "source": [
    "## Missing values"
   ]
  },
  {
   "cell_type": "code",
   "execution_count": 81,
   "metadata": {
    "hidden": true
   },
   "outputs": [
    {
     "data": {
      "text/plain": [
       "LotFrontage     17.739726\n",
       "Alley           93.767123\n",
       "MasVnrType       0.547945\n",
       "MasVnrArea       0.547945\n",
       "BsmtQual         2.534247\n",
       "BsmtCond         2.534247\n",
       "BsmtExposure     2.602740\n",
       "BsmtFinType1     2.534247\n",
       "BsmtFinType2     2.602740\n",
       "Electrical       0.068493\n",
       "FireplaceQu     47.260274\n",
       "GarageType       5.547945\n",
       "GarageYrBlt      5.547945\n",
       "GarageFinish     5.547945\n",
       "GarageQual       5.547945\n",
       "GarageCond       5.547945\n",
       "PoolQC          99.520548\n",
       "Fence           80.753425\n",
       "MiscFeature     96.301370\n",
       "dtype: float64"
      ]
     },
     "execution_count": 81,
     "metadata": {},
     "output_type": "execute_result"
    }
   ],
   "source": [
    "na=df.isna().sum()\n",
    "(na[na>0]/df.shape[0]*100)"
   ]
  },
  {
   "cell_type": "code",
   "execution_count": 83,
   "metadata": {
    "hidden": true
   },
   "outputs": [
    {
     "data": {
      "text/plain": [
       "Shed    49\n",
       "Othr     2\n",
       "Gar2     2\n",
       "TenC     1\n",
       "Name: MiscFeature, dtype: int64"
      ]
     },
     "execution_count": 83,
     "metadata": {},
     "output_type": "execute_result"
    }
   ],
   "source": [
    "df.MiscFeature.value_counts()"
   ]
  },
  {
   "cell_type": "code",
   "execution_count": 84,
   "metadata": {
    "hidden": true
   },
   "outputs": [],
   "source": [
    "NA_dummies=[]\n",
    "dummies=[]"
   ]
  },
  {
   "cell_type": "code",
   "execution_count": 85,
   "metadata": {
    "hidden": true
   },
   "outputs": [],
   "source": [
    "NA_dummies.append('MiscFeature')"
   ]
  },
  {
   "cell_type": "code",
   "execution_count": 87,
   "metadata": {
    "hidden": true
   },
   "outputs": [
    {
     "data": {
      "text/plain": [
       "MnPrv    157\n",
       "GdPrv     59\n",
       "GdWo      54\n",
       "MnWw      11\n",
       "Name: Fence, dtype: int64"
      ]
     },
     "execution_count": 87,
     "metadata": {},
     "output_type": "execute_result"
    }
   ],
   "source": [
    "df.Fence.value_counts()"
   ]
  },
  {
   "cell_type": "code",
   "execution_count": 89,
   "metadata": {
    "hidden": true
   },
   "outputs": [],
   "source": [
    "df['Privacy']=np.where(df.Fence=='MnPrv',1,0)\n",
    "df['Privacy']=np.where(df.Fence=='GdPrv',2,df['Privacy'])\n"
   ]
  },
  {
   "cell_type": "code",
   "execution_count": 90,
   "metadata": {
    "hidden": true
   },
   "outputs": [
    {
     "data": {
      "text/plain": [
       "0    1244\n",
       "1     157\n",
       "2      59\n",
       "Name: Privacy, dtype: int64"
      ]
     },
     "execution_count": 90,
     "metadata": {},
     "output_type": "execute_result"
    }
   ],
   "source": [
    "df.Privacy.value_counts()"
   ]
  },
  {
   "cell_type": "code",
   "execution_count": 91,
   "metadata": {
    "hidden": true
   },
   "outputs": [],
   "source": [
    "df['Wood']=np.where(df.Fence=='MnWw',1,0)\n",
    "df['Wood']=np.where(df.Fence=='GdWo',2,df['Wood'])\n"
   ]
  },
  {
   "cell_type": "code",
   "execution_count": 93,
   "metadata": {
    "hidden": true
   },
   "outputs": [
    {
     "data": {
      "text/plain": [
       "0    1395\n",
       "2      54\n",
       "1      11\n",
       "Name: Wood, dtype: int64"
      ]
     },
     "execution_count": 93,
     "metadata": {},
     "output_type": "execute_result"
    }
   ],
   "source": [
    "df.Wood.value_counts()"
   ]
  },
  {
   "cell_type": "code",
   "execution_count": 94,
   "metadata": {
    "hidden": true
   },
   "outputs": [],
   "source": [
    "drop_cols=['Fence']"
   ]
  },
  {
   "cell_type": "code",
   "execution_count": 96,
   "metadata": {
    "hidden": true
   },
   "outputs": [
    {
     "data": {
      "text/plain": [
       "Gd    3\n",
       "Fa    2\n",
       "Ex    2\n",
       "Name: PoolQC, dtype: int64"
      ]
     },
     "execution_count": 96,
     "metadata": {},
     "output_type": "execute_result"
    }
   ],
   "source": [
    "df.PoolQC.value_counts()"
   ]
  },
  {
   "cell_type": "markdown",
   "metadata": {
    "hidden": true
   },
   "source": [
    "PoolQC: Pool quality\n",
    "        \n",
    "       * Ex   Excellent\n",
    "       * Gd   Good\n",
    "       * TA   Average/Typical\n",
    "       * Fa   Fair\n",
    "       * NA   No Pool\n",
    "       \n",
    "GarageQual: Garage quality\n",
    "\n",
    "       * Ex   Excellent\n",
    "       * Gd   Good\n",
    "       * TA   Typical/Average\n",
    "       * Fa   Fair\n",
    "       * Po   Poor\n",
    "       * NA   No Garage\n"
   ]
  },
  {
   "cell_type": "code",
   "execution_count": 97,
   "metadata": {
    "hidden": true
   },
   "outputs": [],
   "source": [
    "dct={\n",
    "    'Ex':5,\n",
    "    'Gd':4,\n",
    "    'TA':3,\n",
    "    'Fa':2,\n",
    "    'Po':1\n",
    "    }"
   ]
  },
  {
   "cell_type": "code",
   "execution_count": 104,
   "metadata": {
    "hidden": true
   },
   "outputs": [],
   "source": [
    "df.PoolQC=df.PoolQC.map(dct).fillna(0)"
   ]
  },
  {
   "cell_type": "code",
   "execution_count": 106,
   "metadata": {
    "hidden": true
   },
   "outputs": [
    {
     "data": {
      "text/plain": [
       "array(['TA', 'Fa', 'Gd', nan, 'Ex', 'Po'], dtype=object)"
      ]
     },
     "execution_count": 106,
     "metadata": {},
     "output_type": "execute_result"
    }
   ],
   "source": [
    "df.GarageQual.unique()"
   ]
  },
  {
   "cell_type": "code",
   "execution_count": 107,
   "metadata": {
    "hidden": true
   },
   "outputs": [],
   "source": [
    "df.GarageQual=df.GarageQual.map(dct).fillna(0)"
   ]
  },
  {
   "cell_type": "code",
   "execution_count": 109,
   "metadata": {
    "hidden": true
   },
   "outputs": [],
   "source": [
    "df.GarageCond=df.GarageCond.map(dct).fillna(0)"
   ]
  },
  {
   "cell_type": "code",
   "execution_count": 111,
   "metadata": {
    "hidden": true
   },
   "outputs": [
    {
     "data": {
      "text/plain": [
       "array(['Attchd', 'Detchd', 'BuiltIn', 'CarPort', nan, 'Basment', '2Types'],\n",
       "      dtype=object)"
      ]
     },
     "execution_count": 111,
     "metadata": {},
     "output_type": "execute_result"
    }
   ],
   "source": [
    "df.GarageType.unique()"
   ]
  },
  {
   "cell_type": "code",
   "execution_count": 112,
   "metadata": {
    "hidden": true
   },
   "outputs": [],
   "source": [
    "NA_dummies.append('GarageType')"
   ]
  },
  {
   "cell_type": "code",
   "execution_count": 114,
   "metadata": {
    "hidden": true
   },
   "outputs": [],
   "source": [
    "drop_cols.append('GarageYrBlt')"
   ]
  },
  {
   "cell_type": "code",
   "execution_count": 116,
   "metadata": {
    "hidden": true
   },
   "outputs": [
    {
     "data": {
      "text/plain": [
       "array(['RFn', 'Unf', 'Fin', nan], dtype=object)"
      ]
     },
     "execution_count": 116,
     "metadata": {},
     "output_type": "execute_result"
    }
   ],
   "source": [
    "df.GarageFinish.unique()"
   ]
  },
  {
   "cell_type": "code",
   "execution_count": 118,
   "metadata": {
    "hidden": true
   },
   "outputs": [],
   "source": [
    "dct_garagefinish={'RFn':2, 'Unf':1, 'Fin':3}"
   ]
  },
  {
   "cell_type": "code",
   "execution_count": 119,
   "metadata": {
    "hidden": true
   },
   "outputs": [],
   "source": [
    "df.GarageFinish=df.GarageFinish.map(dct_garagefinish).fillna(0)"
   ]
  },
  {
   "cell_type": "code",
   "execution_count": null,
   "metadata": {
    "hidden": true
   },
   "outputs": [],
   "source": [
    "LotFrontage     17.739726\n",
    "Alley           93.767123\n",
    "MasVnrType       0.547945\n",
    "MasVnrArea       0.547945\n",
    "BsmtQual         2.534247\n",
    "BsmtCond         2.534247\n",
    "BsmtExposure     2.602740\n",
    "BsmtFinType1     2.534247\n",
    "BsmtFinType2     2.602740\n",
    "Electrical       0.068493\n",
    "FireplaceQu "
   ]
  },
  {
   "cell_type": "code",
   "execution_count": 120,
   "metadata": {
    "hidden": true
   },
   "outputs": [
    {
     "data": {
      "text/plain": [
       "array([nan, 'TA', 'Gd', 'Fa', 'Ex', 'Po'], dtype=object)"
      ]
     },
     "execution_count": 120,
     "metadata": {},
     "output_type": "execute_result"
    }
   ],
   "source": [
    "df.FireplaceQu.unique()"
   ]
  },
  {
   "cell_type": "code",
   "execution_count": 121,
   "metadata": {
    "hidden": true
   },
   "outputs": [],
   "source": [
    "df.FireplaceQu=df.FireplaceQu.map(dct).fillna(0)"
   ]
  },
  {
   "cell_type": "code",
   "execution_count": 122,
   "metadata": {
    "hidden": true
   },
   "outputs": [
    {
     "data": {
      "text/plain": [
       "array(['SBrkr', 'FuseF', 'FuseA', 'FuseP', 'Mix', nan], dtype=object)"
      ]
     },
     "execution_count": 122,
     "metadata": {},
     "output_type": "execute_result"
    }
   ],
   "source": [
    "df.Electrical.unique()"
   ]
  },
  {
   "cell_type": "code",
   "execution_count": 125,
   "metadata": {
    "hidden": true
   },
   "outputs": [
    {
     "data": {
      "text/html": [
       "<div>\n",
       "<style scoped>\n",
       "    .dataframe tbody tr th:only-of-type {\n",
       "        vertical-align: middle;\n",
       "    }\n",
       "\n",
       "    .dataframe tbody tr th {\n",
       "        vertical-align: top;\n",
       "    }\n",
       "\n",
       "    .dataframe thead th {\n",
       "        text-align: right;\n",
       "    }\n",
       "</style>\n",
       "<table border=\"1\" class=\"dataframe\">\n",
       "  <thead>\n",
       "    <tr style=\"text-align: right;\">\n",
       "      <th></th>\n",
       "      <th>count</th>\n",
       "      <th>mean</th>\n",
       "      <th>std</th>\n",
       "      <th>min</th>\n",
       "      <th>25%</th>\n",
       "      <th>50%</th>\n",
       "      <th>75%</th>\n",
       "      <th>max</th>\n",
       "    </tr>\n",
       "    <tr>\n",
       "      <th>Electrical</th>\n",
       "      <th></th>\n",
       "      <th></th>\n",
       "      <th></th>\n",
       "      <th></th>\n",
       "      <th></th>\n",
       "      <th></th>\n",
       "      <th></th>\n",
       "      <th></th>\n",
       "    </tr>\n",
       "  </thead>\n",
       "  <tbody>\n",
       "    <tr>\n",
       "      <th>FuseA</th>\n",
       "      <td>94.0</td>\n",
       "      <td>122196.893617</td>\n",
       "      <td>37511.376615</td>\n",
       "      <td>34900.0</td>\n",
       "      <td>98500.0</td>\n",
       "      <td>121250.0</td>\n",
       "      <td>143531.25</td>\n",
       "      <td>239000.0</td>\n",
       "    </tr>\n",
       "    <tr>\n",
       "      <th>FuseF</th>\n",
       "      <td>27.0</td>\n",
       "      <td>107675.444444</td>\n",
       "      <td>30636.507376</td>\n",
       "      <td>39300.0</td>\n",
       "      <td>88500.0</td>\n",
       "      <td>115000.0</td>\n",
       "      <td>129950.00</td>\n",
       "      <td>169500.0</td>\n",
       "    </tr>\n",
       "    <tr>\n",
       "      <th>FuseP</th>\n",
       "      <td>3.0</td>\n",
       "      <td>97333.333333</td>\n",
       "      <td>34645.827070</td>\n",
       "      <td>73000.0</td>\n",
       "      <td>77500.0</td>\n",
       "      <td>82000.0</td>\n",
       "      <td>109500.00</td>\n",
       "      <td>137000.0</td>\n",
       "    </tr>\n",
       "    <tr>\n",
       "      <th>Mix</th>\n",
       "      <td>1.0</td>\n",
       "      <td>67000.000000</td>\n",
       "      <td>NaN</td>\n",
       "      <td>67000.0</td>\n",
       "      <td>67000.0</td>\n",
       "      <td>67000.0</td>\n",
       "      <td>67000.00</td>\n",
       "      <td>67000.0</td>\n",
       "    </tr>\n",
       "    <tr>\n",
       "      <th>SBrkr</th>\n",
       "      <td>1334.0</td>\n",
       "      <td>186825.113193</td>\n",
       "      <td>79856.458326</td>\n",
       "      <td>37900.0</td>\n",
       "      <td>134575.0</td>\n",
       "      <td>170000.0</td>\n",
       "      <td>220750.00</td>\n",
       "      <td>755000.0</td>\n",
       "    </tr>\n",
       "  </tbody>\n",
       "</table>\n",
       "</div>"
      ],
      "text/plain": [
       "             count           mean           std      min       25%       50%  \\\n",
       "Electrical                                                                     \n",
       "FuseA         94.0  122196.893617  37511.376615  34900.0   98500.0  121250.0   \n",
       "FuseF         27.0  107675.444444  30636.507376  39300.0   88500.0  115000.0   \n",
       "FuseP          3.0   97333.333333  34645.827070  73000.0   77500.0   82000.0   \n",
       "Mix            1.0   67000.000000           NaN  67000.0   67000.0   67000.0   \n",
       "SBrkr       1334.0  186825.113193  79856.458326  37900.0  134575.0  170000.0   \n",
       "\n",
       "                  75%       max  \n",
       "Electrical                       \n",
       "FuseA       143531.25  239000.0  \n",
       "FuseF       129950.00  169500.0  \n",
       "FuseP       109500.00  137000.0  \n",
       "Mix          67000.00   67000.0  \n",
       "SBrkr       220750.00  755000.0  "
      ]
     },
     "execution_count": 125,
     "metadata": {},
     "output_type": "execute_result"
    }
   ],
   "source": [
    "df.groupby('Electrical').SalePrice.describe()"
   ]
  },
  {
   "cell_type": "code",
   "execution_count": 126,
   "metadata": {
    "hidden": true
   },
   "outputs": [],
   "source": [
    "drop_cols.append('Electrical')"
   ]
  },
  {
   "cell_type": "code",
   "execution_count": 128,
   "metadata": {
    "hidden": true
   },
   "outputs": [
    {
     "data": {
      "text/plain": [
       "array(['GLQ', 'ALQ', 'Unf', 'Rec', 'BLQ', nan, 'LwQ'], dtype=object)"
      ]
     },
     "execution_count": 128,
     "metadata": {},
     "output_type": "execute_result"
    }
   ],
   "source": [
    "df.BsmtFinType1.unique()"
   ]
  },
  {
   "cell_type": "markdown",
   "metadata": {
    "hidden": true
   },
   "source": [
    "BsmtFinType1: Rating of basement finished area (if multiple types)  \n",
    "* GLQ  Good Living Quarters\n",
    "    * 5\n",
    "* ALQ  Average Living Quarters\n",
    "    * 4\n",
    "* BLQ  Below Average Living Quarters   \n",
    "    * 3\n",
    "* Rec  Average Rec Room\n",
    "    * 2.5\n",
    "* LwQ  Low Quality\n",
    "    * 2\n",
    "* Unf  Unfinshed\n",
    "    * 1\n",
    "* NA   No Basement"
   ]
  },
  {
   "cell_type": "code",
   "execution_count": 129,
   "metadata": {
    "hidden": true
   },
   "outputs": [],
   "source": [
    "dct_bsmthtype={\n",
    "    'GLQ':5,\n",
    "    'ALQ':4,\n",
    "    'BLQ':3,\n",
    "    'Rec':2.5,\n",
    "    'LwQ':2,\n",
    "    'Unf':1\n",
    "}"
   ]
  },
  {
   "cell_type": "code",
   "execution_count": 131,
   "metadata": {
    "hidden": true
   },
   "outputs": [],
   "source": [
    "df.BsmtFinType1=df.BsmtFinType1.map(dct_bsmthtype).fillna(0)"
   ]
  },
  {
   "cell_type": "code",
   "execution_count": 132,
   "metadata": {
    "hidden": true
   },
   "outputs": [],
   "source": [
    "df.BsmtFinType2=df.BsmtFinType2.map(dct_bsmthtype).fillna(0)"
   ]
  },
  {
   "cell_type": "code",
   "execution_count": 134,
   "metadata": {
    "hidden": true
   },
   "outputs": [
    {
     "data": {
      "text/plain": [
       "array(['No', 'Gd', 'Mn', 'Av', nan], dtype=object)"
      ]
     },
     "execution_count": 134,
     "metadata": {},
     "output_type": "execute_result"
    }
   ],
   "source": [
    "df.BsmtExposure.unique()"
   ]
  },
  {
   "cell_type": "markdown",
   "metadata": {
    "hidden": true
   },
   "source": [
    "BsmtExposure: Refers to walkout or garden level walls  \n",
    "4        Gd   Good Exposure  \n",
    "3        Av   Average Exposure (split levels or foyers typically score average or above)   \n",
    "2        Mn   Mimimum Exposure  \n",
    "1        No   No Exposure  \n",
    "0        NA   No Basement  "
   ]
  },
  {
   "cell_type": "code",
   "execution_count": 135,
   "metadata": {
    "hidden": true
   },
   "outputs": [],
   "source": [
    "dct_BsmtExposure={\n",
    "    'Gd':4,\n",
    "    'Av':3,\n",
    "    'Mn':2,\n",
    "    'No':1\n",
    "}"
   ]
  },
  {
   "cell_type": "code",
   "execution_count": 136,
   "metadata": {
    "hidden": true
   },
   "outputs": [],
   "source": [
    "df.BsmtExposure=df.BsmtExposure.map(dct_BsmtExposure).fillna(0)"
   ]
  },
  {
   "cell_type": "code",
   "execution_count": 139,
   "metadata": {
    "hidden": true
   },
   "outputs": [],
   "source": [
    "df.BsmtCond=df.BsmtCond.map(dct)\n",
    "df.BsmtQual=df.BsmtQual.map(dct)"
   ]
  },
  {
   "cell_type": "code",
   "execution_count": 141,
   "metadata": {
    "hidden": true
   },
   "outputs": [],
   "source": [
    "df.BsmtCond=df.BsmtCond.fillna(0)\n",
    "df.BsmtQual=df.BsmtQual.fillna(0)"
   ]
  },
  {
   "cell_type": "code",
   "execution_count": 143,
   "metadata": {
    "hidden": true
   },
   "outputs": [],
   "source": [
    "df.MasVnrArea=df.MasVnrArea.fillna(0)"
   ]
  },
  {
   "cell_type": "markdown",
   "metadata": {
    "hidden": true
   },
   "source": [
    "MasVnrType: Masonry veneer type\n",
    "       BrkCmn   Brick Common\n",
    "       BrkFace  Brick Face\n",
    "       CBlock   Cinder Block\n",
    "       None None\n",
    "       Stone    Stone"
   ]
  },
  {
   "cell_type": "code",
   "execution_count": 145,
   "metadata": {
    "hidden": true
   },
   "outputs": [
    {
     "data": {
      "text/plain": [
       "array(['BrkFace', 'None', 'Stone', 'BrkCmn', nan], dtype=object)"
      ]
     },
     "execution_count": 145,
     "metadata": {},
     "output_type": "execute_result"
    }
   ],
   "source": [
    "df.MasVnrType.unique()"
   ]
  },
  {
   "cell_type": "code",
   "execution_count": 146,
   "metadata": {
    "hidden": true
   },
   "outputs": [],
   "source": [
    "df.MasVnrType.fillna('None', inplace=True)"
   ]
  },
  {
   "cell_type": "code",
   "execution_count": 148,
   "metadata": {
    "hidden": true
   },
   "outputs": [],
   "source": [
    "dummies.append('MasVnrType')"
   ]
  },
  {
   "cell_type": "code",
   "execution_count": 149,
   "metadata": {
    "hidden": true
   },
   "outputs": [],
   "source": [
    "drop_cols.append('Alley')"
   ]
  },
  {
   "cell_type": "code",
   "execution_count": 152,
   "metadata": {
    "hidden": true
   },
   "outputs": [],
   "source": [
    "df.LotFrontage.fillna(0, inplace=True)"
   ]
  },
  {
   "cell_type": "code",
   "execution_count": 153,
   "metadata": {
    "hidden": true
   },
   "outputs": [
    {
     "data": {
      "text/plain": [
       "Alley          1369\n",
       "Electrical        1\n",
       "GarageType       81\n",
       "GarageYrBlt      81\n",
       "Fence          1179\n",
       "MiscFeature    1406\n",
       "dtype: int64"
      ]
     },
     "execution_count": 153,
     "metadata": {},
     "output_type": "execute_result"
    }
   ],
   "source": [
    "na=df.isna().sum()\n",
    "na[na>0]"
   ]
  },
  {
   "cell_type": "code",
   "execution_count": 154,
   "metadata": {
    "hidden": true
   },
   "outputs": [],
   "source": [
    "df.drop(drop_cols, axis=1, inplace=True)"
   ]
  },
  {
   "cell_type": "code",
   "execution_count": 155,
   "metadata": {
    "hidden": true
   },
   "outputs": [],
   "source": [
    "drop_cols=[]"
   ]
  },
  {
   "cell_type": "code",
   "execution_count": 156,
   "metadata": {
    "hidden": true
   },
   "outputs": [
    {
     "data": {
      "text/plain": [
       "(1460, 78)"
      ]
     },
     "execution_count": 156,
     "metadata": {},
     "output_type": "execute_result"
    }
   ],
   "source": [
    "df.shape"
   ]
  },
  {
   "cell_type": "code",
   "execution_count": 158,
   "metadata": {
    "hidden": true
   },
   "outputs": [
    {
     "name": "stdout",
     "output_type": "stream",
     "text": [
      "<class 'pandas.core.frame.DataFrame'>\n",
      "RangeIndex: 1460 entries, 0 to 1459\n",
      "Data columns (total 78 columns):\n",
      " #   Column         Non-Null Count  Dtype  \n",
      "---  ------         --------------  -----  \n",
      " 0   MSSubClass     1460 non-null   int64  \n",
      " 1   MSZoning       1460 non-null   object \n",
      " 2   LotFrontage    1460 non-null   float64\n",
      " 3   LotArea        1460 non-null   int64  \n",
      " 4   Street         1460 non-null   object \n",
      " 5   LotShape       1460 non-null   object \n",
      " 6   LandContour    1460 non-null   object \n",
      " 7   Utilities      1460 non-null   object \n",
      " 8   LotConfig      1460 non-null   object \n",
      " 9   LandSlope      1460 non-null   object \n",
      " 10  Neighborhood   1460 non-null   object \n",
      " 11  Condition1     1460 non-null   object \n",
      " 12  Condition2     1460 non-null   object \n",
      " 13  BldgType       1460 non-null   object \n",
      " 14  HouseStyle     1460 non-null   object \n",
      " 15  OverallQual    1460 non-null   int64  \n",
      " 16  OverallCond    1460 non-null   int64  \n",
      " 17  YearBuilt      1460 non-null   int64  \n",
      " 18  YearRemodAdd   1460 non-null   int64  \n",
      " 19  RoofStyle      1460 non-null   object \n",
      " 20  RoofMatl       1460 non-null   object \n",
      " 21  Exterior1st    1460 non-null   object \n",
      " 22  Exterior2nd    1460 non-null   object \n",
      " 23  MasVnrType     1460 non-null   object \n",
      " 24  MasVnrArea     1460 non-null   float64\n",
      " 25  ExterQual      1460 non-null   object \n",
      " 26  ExterCond      1460 non-null   object \n",
      " 27  Foundation     1460 non-null   object \n",
      " 28  BsmtQual       1460 non-null   float64\n",
      " 29  BsmtCond       1460 non-null   float64\n",
      " 30  BsmtExposure   1460 non-null   float64\n",
      " 31  BsmtFinType1   1460 non-null   float64\n",
      " 32  BsmtFinSF1     1460 non-null   int64  \n",
      " 33  BsmtFinType2   1460 non-null   float64\n",
      " 34  BsmtFinSF2     1460 non-null   int64  \n",
      " 35  BsmtUnfSF      1460 non-null   int64  \n",
      " 36  TotalBsmtSF    1460 non-null   int64  \n",
      " 37  Heating        1460 non-null   object \n",
      " 38  HeatingQC      1460 non-null   object \n",
      " 39  CentralAir     1460 non-null   object \n",
      " 40  1stFlrSF       1460 non-null   int64  \n",
      " 41  2ndFlrSF       1460 non-null   int64  \n",
      " 42  LowQualFinSF   1460 non-null   int64  \n",
      " 43  GrLivArea      1460 non-null   int64  \n",
      " 44  BsmtFullBath   1460 non-null   int64  \n",
      " 45  BsmtHalfBath   1460 non-null   int64  \n",
      " 46  FullBath       1460 non-null   int64  \n",
      " 47  HalfBath       1460 non-null   int64  \n",
      " 48  BedroomAbvGr   1460 non-null   int64  \n",
      " 49  KitchenAbvGr   1460 non-null   int64  \n",
      " 50  KitchenQual    1460 non-null   object \n",
      " 51  TotRmsAbvGrd   1460 non-null   int64  \n",
      " 52  Functional     1460 non-null   object \n",
      " 53  Fireplaces     1460 non-null   int64  \n",
      " 54  FireplaceQu    1460 non-null   float64\n",
      " 55  GarageType     1379 non-null   object \n",
      " 56  GarageFinish   1460 non-null   float64\n",
      " 57  GarageCars     1460 non-null   int64  \n",
      " 58  GarageArea     1460 non-null   int64  \n",
      " 59  GarageQual     1460 non-null   float64\n",
      " 60  GarageCond     1460 non-null   float64\n",
      " 61  PavedDrive     1460 non-null   object \n",
      " 62  WoodDeckSF     1460 non-null   int64  \n",
      " 63  OpenPorchSF    1460 non-null   int64  \n",
      " 64  EnclosedPorch  1460 non-null   int64  \n",
      " 65  3SsnPorch      1460 non-null   int64  \n",
      " 66  ScreenPorch    1460 non-null   int64  \n",
      " 67  PoolArea       1460 non-null   int64  \n",
      " 68  PoolQC         1460 non-null   float64\n",
      " 69  MiscFeature    54 non-null     object \n",
      " 70  MiscVal        1460 non-null   int64  \n",
      " 71  MoSold         1460 non-null   int64  \n",
      " 72  YrSold         1460 non-null   int64  \n",
      " 73  SaleType       1460 non-null   object \n",
      " 74  SaleCondition  1460 non-null   object \n",
      " 75  SalePrice      1460 non-null   int64  \n",
      " 76  Privacy        1460 non-null   int64  \n",
      " 77  Wood           1460 non-null   int64  \n",
      "dtypes: float64(12), int64(36), object(30)\n",
      "memory usage: 889.8+ KB\n"
     ]
    }
   ],
   "source": [
    "df.info()"
   ]
  },
  {
   "cell_type": "code",
   "execution_count": 163,
   "metadata": {
    "hidden": true
   },
   "outputs": [
    {
     "data": {
      "text/plain": [
       "Index(['MSZoning', 'Street', 'LotShape', 'LandContour', 'Utilities',\n",
       "       'LotConfig', 'LandSlope', 'Neighborhood', 'Condition1', 'Condition2',\n",
       "       'BldgType', 'HouseStyle', 'RoofStyle', 'RoofMatl', 'Exterior1st',\n",
       "       'Exterior2nd', 'MasVnrType', 'ExterQual', 'ExterCond', 'Foundation',\n",
       "       'Heating', 'HeatingQC', 'CentralAir', 'KitchenQual', 'Functional',\n",
       "       'GarageType', 'PavedDrive', 'MiscFeature', 'SaleType', 'SaleCondition'],\n",
       "      dtype='object')"
      ]
     },
     "execution_count": 163,
     "metadata": {},
     "output_type": "execute_result"
    }
   ],
   "source": [
    "df.columns[~df.columns.isin(df._get_numeric_data().columns)]"
   ]
  },
  {
   "cell_type": "code",
   "execution_count": 165,
   "metadata": {
    "hidden": true
   },
   "outputs": [
    {
     "data": {
      "text/plain": [
       "array(['RL', 'RM', 'C (all)', 'FV', 'RH'], dtype=object)"
      ]
     },
     "execution_count": 165,
     "metadata": {},
     "output_type": "execute_result"
    }
   ],
   "source": [
    "df.MSZoning.unique()"
   ]
  },
  {
   "cell_type": "code",
   "execution_count": 166,
   "metadata": {
    "hidden": true
   },
   "outputs": [],
   "source": [
    "dummies.append('MSZoning')"
   ]
  },
  {
   "cell_type": "code",
   "execution_count": 167,
   "metadata": {
    "hidden": true
   },
   "outputs": [
    {
     "data": {
      "text/plain": [
       "array(['Pave', 'Grvl'], dtype=object)"
      ]
     },
     "execution_count": 167,
     "metadata": {},
     "output_type": "execute_result"
    }
   ],
   "source": [
    "df.Street.unique()"
   ]
  },
  {
   "cell_type": "code",
   "execution_count": 168,
   "metadata": {
    "hidden": true
   },
   "outputs": [],
   "source": [
    "dummies.append('Street')"
   ]
  },
  {
   "cell_type": "code",
   "execution_count": 170,
   "metadata": {
    "hidden": true
   },
   "outputs": [
    {
     "data": {
      "text/plain": [
       "array(['Reg', 'IR1', 'IR2', 'IR3'], dtype=object)"
      ]
     },
     "execution_count": 170,
     "metadata": {},
     "output_type": "execute_result"
    }
   ],
   "source": [
    "df.LotShape.unique()"
   ]
  },
  {
   "cell_type": "code",
   "execution_count": 179,
   "metadata": {
    "hidden": true
   },
   "outputs": [],
   "source": [
    "dct_LotShape=dict(i.split(':') for i in \"\"\"Reg: 0\n",
    "IR1:1\n",
    "IR2:2\n",
    "IR3:3\"\"\".split('\\n'))"
   ]
  },
  {
   "cell_type": "code",
   "execution_count": 174,
   "metadata": {
    "hidden": true
   },
   "outputs": [],
   "source": [
    "df['PriceSF']=df.SalePrice/df.LotArea"
   ]
  },
  {
   "cell_type": "code",
   "execution_count": 175,
   "metadata": {
    "hidden": true
   },
   "outputs": [],
   "source": [
    "def test(x, df=df):\n",
    "    return df.groupby(x).PriceSF.describe()"
   ]
  },
  {
   "cell_type": "code",
   "execution_count": 176,
   "metadata": {
    "hidden": true
   },
   "outputs": [
    {
     "data": {
      "text/html": [
       "<div>\n",
       "<style scoped>\n",
       "    .dataframe tbody tr th:only-of-type {\n",
       "        vertical-align: middle;\n",
       "    }\n",
       "\n",
       "    .dataframe tbody tr th {\n",
       "        vertical-align: top;\n",
       "    }\n",
       "\n",
       "    .dataframe thead th {\n",
       "        text-align: right;\n",
       "    }\n",
       "</style>\n",
       "<table border=\"1\" class=\"dataframe\">\n",
       "  <thead>\n",
       "    <tr style=\"text-align: right;\">\n",
       "      <th></th>\n",
       "      <th>count</th>\n",
       "      <th>mean</th>\n",
       "      <th>std</th>\n",
       "      <th>min</th>\n",
       "      <th>25%</th>\n",
       "      <th>50%</th>\n",
       "      <th>75%</th>\n",
       "      <th>max</th>\n",
       "    </tr>\n",
       "    <tr>\n",
       "      <th>LotShape</th>\n",
       "      <th></th>\n",
       "      <th></th>\n",
       "      <th></th>\n",
       "      <th></th>\n",
       "      <th></th>\n",
       "      <th></th>\n",
       "      <th></th>\n",
       "      <th></th>\n",
       "    </tr>\n",
       "  </thead>\n",
       "  <tbody>\n",
       "    <tr>\n",
       "      <th>IR1</th>\n",
       "      <td>484.0</td>\n",
       "      <td>19.638735</td>\n",
       "      <td>9.018781</td>\n",
       "      <td>1.390441</td>\n",
       "      <td>13.829316</td>\n",
       "      <td>18.180216</td>\n",
       "      <td>23.087580</td>\n",
       "      <td>71.577303</td>\n",
       "    </tr>\n",
       "    <tr>\n",
       "      <th>IR2</th>\n",
       "      <td>41.0</td>\n",
       "      <td>16.479469</td>\n",
       "      <td>10.252156</td>\n",
       "      <td>1.742138</td>\n",
       "      <td>11.104257</td>\n",
       "      <td>14.388765</td>\n",
       "      <td>20.243109</td>\n",
       "      <td>50.420168</td>\n",
       "    </tr>\n",
       "    <tr>\n",
       "      <th>IR3</th>\n",
       "      <td>10.0</td>\n",
       "      <td>10.706161</td>\n",
       "      <td>5.494221</td>\n",
       "      <td>1.742201</td>\n",
       "      <td>7.690338</td>\n",
       "      <td>12.543728</td>\n",
       "      <td>13.827263</td>\n",
       "      <td>17.773813</td>\n",
       "    </tr>\n",
       "    <tr>\n",
       "      <th>Reg</th>\n",
       "      <td>925.0</td>\n",
       "      <td>22.134221</td>\n",
       "      <td>13.807046</td>\n",
       "      <td>3.923444</td>\n",
       "      <td>14.064016</td>\n",
       "      <td>17.850288</td>\n",
       "      <td>24.794929</td>\n",
       "      <td>95.384615</td>\n",
       "    </tr>\n",
       "  </tbody>\n",
       "</table>\n",
       "</div>"
      ],
      "text/plain": [
       "          count       mean        std       min        25%        50%  \\\n",
       "LotShape                                                                \n",
       "IR1       484.0  19.638735   9.018781  1.390441  13.829316  18.180216   \n",
       "IR2        41.0  16.479469  10.252156  1.742138  11.104257  14.388765   \n",
       "IR3        10.0  10.706161   5.494221  1.742201   7.690338  12.543728   \n",
       "Reg       925.0  22.134221  13.807046  3.923444  14.064016  17.850288   \n",
       "\n",
       "                75%        max  \n",
       "LotShape                        \n",
       "IR1       23.087580  71.577303  \n",
       "IR2       20.243109  50.420168  \n",
       "IR3       13.827263  17.773813  \n",
       "Reg       24.794929  95.384615  "
      ]
     },
     "execution_count": 176,
     "metadata": {},
     "output_type": "execute_result"
    }
   ],
   "source": [
    "test('LotShape')"
   ]
  },
  {
   "cell_type": "code",
   "execution_count": 182,
   "metadata": {
    "hidden": true
   },
   "outputs": [],
   "source": [
    "df.LotShape=df.LotShape.map(dct_LotShape)"
   ]
  },
  {
   "cell_type": "code",
   "execution_count": 184,
   "metadata": {
    "hidden": true
   },
   "outputs": [
    {
     "data": {
      "text/plain": [
       "array(['Lvl', 'Bnk', 'Low', 'HLS'], dtype=object)"
      ]
     },
     "execution_count": 184,
     "metadata": {},
     "output_type": "execute_result"
    }
   ],
   "source": [
    "df.LandContour.unique()"
   ]
  },
  {
   "cell_type": "code",
   "execution_count": 185,
   "metadata": {
    "hidden": true
   },
   "outputs": [
    {
     "data": {
      "text/html": [
       "<div>\n",
       "<style scoped>\n",
       "    .dataframe tbody tr th:only-of-type {\n",
       "        vertical-align: middle;\n",
       "    }\n",
       "\n",
       "    .dataframe tbody tr th {\n",
       "        vertical-align: top;\n",
       "    }\n",
       "\n",
       "    .dataframe thead th {\n",
       "        text-align: right;\n",
       "    }\n",
       "</style>\n",
       "<table border=\"1\" class=\"dataframe\">\n",
       "  <thead>\n",
       "    <tr style=\"text-align: right;\">\n",
       "      <th></th>\n",
       "      <th>count</th>\n",
       "      <th>mean</th>\n",
       "      <th>std</th>\n",
       "      <th>min</th>\n",
       "      <th>25%</th>\n",
       "      <th>50%</th>\n",
       "      <th>75%</th>\n",
       "      <th>max</th>\n",
       "    </tr>\n",
       "    <tr>\n",
       "      <th>LandContour</th>\n",
       "      <th></th>\n",
       "      <th></th>\n",
       "      <th></th>\n",
       "      <th></th>\n",
       "      <th></th>\n",
       "      <th></th>\n",
       "      <th></th>\n",
       "      <th></th>\n",
       "    </tr>\n",
       "  </thead>\n",
       "  <tbody>\n",
       "    <tr>\n",
       "      <th>Bnk</th>\n",
       "      <td>63.0</td>\n",
       "      <td>15.836262</td>\n",
       "      <td>6.299672</td>\n",
       "      <td>2.504422</td>\n",
       "      <td>12.896365</td>\n",
       "      <td>15.666667</td>\n",
       "      <td>18.582752</td>\n",
       "      <td>35.429778</td>\n",
       "    </tr>\n",
       "    <tr>\n",
       "      <th>HLS</th>\n",
       "      <td>50.0</td>\n",
       "      <td>23.461415</td>\n",
       "      <td>15.241742</td>\n",
       "      <td>1.390441</td>\n",
       "      <td>14.826807</td>\n",
       "      <td>19.812941</td>\n",
       "      <td>29.228577</td>\n",
       "      <td>71.577303</td>\n",
       "    </tr>\n",
       "    <tr>\n",
       "      <th>Low</th>\n",
       "      <td>36.0</td>\n",
       "      <td>11.908760</td>\n",
       "      <td>9.209887</td>\n",
       "      <td>1.742138</td>\n",
       "      <td>5.575130</td>\n",
       "      <td>8.792919</td>\n",
       "      <td>15.208889</td>\n",
       "      <td>41.901569</td>\n",
       "    </tr>\n",
       "    <tr>\n",
       "      <th>Lvl</th>\n",
       "      <td>1311.0</td>\n",
       "      <td>21.481733</td>\n",
       "      <td>12.412075</td>\n",
       "      <td>3.923444</td>\n",
       "      <td>14.031587</td>\n",
       "      <td>18.133333</td>\n",
       "      <td>24.079789</td>\n",
       "      <td>95.384615</td>\n",
       "    </tr>\n",
       "  </tbody>\n",
       "</table>\n",
       "</div>"
      ],
      "text/plain": [
       "              count       mean        std       min        25%        50%  \\\n",
       "LandContour                                                                 \n",
       "Bnk            63.0  15.836262   6.299672  2.504422  12.896365  15.666667   \n",
       "HLS            50.0  23.461415  15.241742  1.390441  14.826807  19.812941   \n",
       "Low            36.0  11.908760   9.209887  1.742138   5.575130   8.792919   \n",
       "Lvl          1311.0  21.481733  12.412075  3.923444  14.031587  18.133333   \n",
       "\n",
       "                   75%        max  \n",
       "LandContour                        \n",
       "Bnk          18.582752  35.429778  \n",
       "HLS          29.228577  71.577303  \n",
       "Low          15.208889  41.901569  \n",
       "Lvl          24.079789  95.384615  "
      ]
     },
     "execution_count": 185,
     "metadata": {},
     "output_type": "execute_result"
    }
   ],
   "source": [
    "test('LandContour')"
   ]
  },
  {
   "cell_type": "markdown",
   "metadata": {
    "hidden": true
   },
   "source": [
    "LandContour: Flatness of the property\n",
    "* Lvl  Near Flat/Level \n",
    "* Bnk  Banked - Quick and significant rise from street grade to building\n",
    "* HLS  Hillside - Significant slope from side to side\n",
    "* Low  Depression"
   ]
  },
  {
   "cell_type": "code",
   "execution_count": 186,
   "metadata": {
    "hidden": true
   },
   "outputs": [],
   "source": [
    "dummies.append('LandContour')"
   ]
  },
  {
   "cell_type": "code",
   "execution_count": 188,
   "metadata": {
    "hidden": true
   },
   "outputs": [
    {
     "data": {
      "text/plain": [
       "AllPub    1459\n",
       "NoSeWa       1\n",
       "Name: Utilities, dtype: int64"
      ]
     },
     "execution_count": 188,
     "metadata": {},
     "output_type": "execute_result"
    }
   ],
   "source": [
    "df.Utilities.value_counts()"
   ]
  },
  {
   "cell_type": "code",
   "execution_count": 195,
   "metadata": {
    "hidden": true
   },
   "outputs": [],
   "source": [
    "qqq=df.loc[df.Utilities=='NoSeWa']"
   ]
  },
  {
   "cell_type": "code",
   "execution_count": 196,
   "metadata": {
    "hidden": true
   },
   "outputs": [
    {
     "data": {
      "text/plain": [
       "<matplotlib.collections.PathCollection at 0x7fd03fd69d10>"
      ]
     },
     "execution_count": 196,
     "metadata": {},
     "output_type": "execute_result"
    },
    {
     "data": {
      "image/png": "[encoded data removed]",
      "text/plain": [
       "<Figure size 432x288 with 1 Axes>"
      ]
     },
     "metadata": {
      "needs_background": "light"
     },
     "output_type": "display_data"
    }
   ],
   "source": [
    "plt.scatter(df.SalePrice, df.LotArea)\n",
    "plt.scatter(qqq.SalePrice, qqq.LotArea)\n"
   ]
  },
  {
   "cell_type": "code",
   "execution_count": 197,
   "metadata": {
    "hidden": true
   },
   "outputs": [
    {
     "data": {
      "text/plain": [
       "<matplotlib.collections.PathCollection at 0x7fd03f9ccad0>"
      ]
     },
     "execution_count": 197,
     "metadata": {},
     "output_type": "execute_result"
    },
    {
     "data": {
      "image/png": "[encoded data removed]",
      "text/plain": [
       "<Figure size 432x288 with 1 Axes>"
      ]
     },
     "metadata": {
      "needs_background": "light"
     },
     "output_type": "display_data"
    }
   ],
   "source": [
    "plt.scatter(df.PriceSF, df.LotArea)\n",
    "plt.scatter(qqq.PriceSF, qqq.LotArea)\n"
   ]
  },
  {
   "cell_type": "code",
   "execution_count": 198,
   "metadata": {
    "hidden": true
   },
   "outputs": [
    {
     "data": {
      "text/plain": [
       "<matplotlib.collections.PathCollection at 0x7fd03fac3e10>"
      ]
     },
     "execution_count": 198,
     "metadata": {},
     "output_type": "execute_result"
    },
    {
     "data": {
      "image/png": "[encoded data removed]",
      "text/plain": [
       "<Figure size 432x288 with 1 Axes>"
      ]
     },
     "metadata": {
      "needs_background": "light"
     },
     "output_type": "display_data"
    }
   ],
   "source": [
    "plt.scatter(df.PriceSF, df.SalePrice)\n",
    "plt.scatter(qqq.PriceSF, qqq.SalePrice)\n"
   ]
  },
  {
   "cell_type": "code",
   "execution_count": 199,
   "metadata": {
    "hidden": true
   },
   "outputs": [],
   "source": [
    "drop_cols.append('Utilities')"
   ]
  },
  {
   "cell_type": "code",
   "execution_count": 200,
   "metadata": {
    "hidden": true
   },
   "outputs": [
    {
     "data": {
      "text/plain": [
       "Index(['MSZoning', 'Street', 'LotShape', 'LandContour', 'Utilities',\n",
       "       'LotConfig', 'LandSlope', 'Neighborhood', 'Condition1', 'Condition2',\n",
       "       'BldgType', 'HouseStyle', 'RoofStyle', 'RoofMatl', 'Exterior1st',\n",
       "       'Exterior2nd', 'MasVnrType', 'ExterQual', 'ExterCond', 'Foundation',\n",
       "       'Heating', 'HeatingQC', 'CentralAir', 'KitchenQual', 'Functional',\n",
       "       'GarageType', 'PavedDrive', 'MiscFeature', 'SaleType', 'SaleCondition'],\n",
       "      dtype='object')"
      ]
     },
     "execution_count": 200,
     "metadata": {},
     "output_type": "execute_result"
    }
   ],
   "source": [
    "df.columns[~df.columns.isin(df._get_numeric_data().columns)]"
   ]
  },
  {
   "cell_type": "code",
   "execution_count": 202,
   "metadata": {
    "hidden": true
   },
   "outputs": [
    {
     "data": {
      "text/plain": [
       "Inside     1052\n",
       "Corner      263\n",
       "CulDSac      94\n",
       "FR2          47\n",
       "FR3           4\n",
       "Name: LotConfig, dtype: int64"
      ]
     },
     "execution_count": 202,
     "metadata": {},
     "output_type": "execute_result"
    }
   ],
   "source": [
    "df.LotConfig.value_counts()"
   ]
  },
  {
   "cell_type": "code",
   "execution_count": 203,
   "metadata": {
    "hidden": true
   },
   "outputs": [],
   "source": [
    "dummies.append('LotConfig')"
   ]
  },
  {
   "cell_type": "code",
   "execution_count": 205,
   "metadata": {
    "hidden": true
   },
   "outputs": [
    {
     "data": {
      "text/plain": [
       "array(['Gtl', 'Mod', 'Sev'], dtype=object)"
      ]
     },
     "execution_count": 205,
     "metadata": {},
     "output_type": "execute_result"
    }
   ],
   "source": [
    "df.LandSlope.unique()"
   ]
  },
  {
   "cell_type": "markdown",
   "metadata": {
    "hidden": true
   },
   "source": [
    "LandSlope: Slope of property\n",
    "        \n",
    "       Gtl  Gentle slope\n",
    "       Mod  Moderate Slope  \n",
    "       Sev  Severe Slope"
   ]
  },
  {
   "cell_type": "code",
   "execution_count": 206,
   "metadata": {
    "hidden": true
   },
   "outputs": [
    {
     "data": {
      "text/html": [
       "<div>\n",
       "<style scoped>\n",
       "    .dataframe tbody tr th:only-of-type {\n",
       "        vertical-align: middle;\n",
       "    }\n",
       "\n",
       "    .dataframe tbody tr th {\n",
       "        vertical-align: top;\n",
       "    }\n",
       "\n",
       "    .dataframe thead th {\n",
       "        text-align: right;\n",
       "    }\n",
       "</style>\n",
       "<table border=\"1\" class=\"dataframe\">\n",
       "  <thead>\n",
       "    <tr style=\"text-align: right;\">\n",
       "      <th></th>\n",
       "      <th>count</th>\n",
       "      <th>mean</th>\n",
       "      <th>std</th>\n",
       "      <th>min</th>\n",
       "      <th>25%</th>\n",
       "      <th>50%</th>\n",
       "      <th>75%</th>\n",
       "      <th>max</th>\n",
       "    </tr>\n",
       "    <tr>\n",
       "      <th>LandSlope</th>\n",
       "      <th></th>\n",
       "      <th></th>\n",
       "      <th></th>\n",
       "      <th></th>\n",
       "      <th></th>\n",
       "      <th></th>\n",
       "      <th></th>\n",
       "      <th></th>\n",
       "    </tr>\n",
       "  </thead>\n",
       "  <tbody>\n",
       "    <tr>\n",
       "      <th>Gtl</th>\n",
       "      <td>1382.0</td>\n",
       "      <td>21.330778</td>\n",
       "      <td>12.312708</td>\n",
       "      <td>2.504422</td>\n",
       "      <td>14.018009</td>\n",
       "      <td>18.010998</td>\n",
       "      <td>23.892006</td>\n",
       "      <td>95.384615</td>\n",
       "    </tr>\n",
       "    <tr>\n",
       "      <th>Mod</th>\n",
       "      <td>65.0</td>\n",
       "      <td>18.416218</td>\n",
       "      <td>13.058650</td>\n",
       "      <td>3.956982</td>\n",
       "      <td>11.640212</td>\n",
       "      <td>15.627442</td>\n",
       "      <td>20.694444</td>\n",
       "      <td>71.577303</td>\n",
       "    </tr>\n",
       "    <tr>\n",
       "      <th>Sev</th>\n",
       "      <td>13.0</td>\n",
       "      <td>6.602588</td>\n",
       "      <td>5.290727</td>\n",
       "      <td>1.390441</td>\n",
       "      <td>2.622689</td>\n",
       "      <td>6.087824</td>\n",
       "      <td>8.390435</td>\n",
       "      <td>20.088889</td>\n",
       "    </tr>\n",
       "  </tbody>\n",
       "</table>\n",
       "</div>"
      ],
      "text/plain": [
       "            count       mean        std       min        25%        50%  \\\n",
       "LandSlope                                                                 \n",
       "Gtl        1382.0  21.330778  12.312708  2.504422  14.018009  18.010998   \n",
       "Mod          65.0  18.416218  13.058650  3.956982  11.640212  15.627442   \n",
       "Sev          13.0   6.602588   5.290727  1.390441   2.622689   6.087824   \n",
       "\n",
       "                 75%        max  \n",
       "LandSlope                        \n",
       "Gtl        23.892006  95.384615  \n",
       "Mod        20.694444  71.577303  \n",
       "Sev         8.390435  20.088889  "
      ]
     },
     "execution_count": 206,
     "metadata": {},
     "output_type": "execute_result"
    }
   ],
   "source": [
    "test('LandSlope')"
   ]
  },
  {
   "cell_type": "code",
   "execution_count": 207,
   "metadata": {
    "hidden": true
   },
   "outputs": [],
   "source": [
    "df.LandSlope=df.LandSlope.map({'Gtl':0, 'Mod':1, 'Sev':2})"
   ]
  },
  {
   "cell_type": "code",
   "execution_count": 209,
   "metadata": {
    "hidden": true
   },
   "outputs": [
    {
     "data": {
      "text/plain": [
       "array(['CollgCr', 'Veenker', 'Crawfor', 'NoRidge', 'Mitchel', 'Somerst',\n",
       "       'NWAmes', 'OldTown', 'BrkSide', 'Sawyer', 'NridgHt', 'NAmes',\n",
       "       'SawyerW', 'IDOTRR', 'MeadowV', 'Edwards', 'Timber', 'Gilbert',\n",
       "       'StoneBr', 'ClearCr', 'NPkVill', 'Blmngtn', 'BrDale', 'SWISU',\n",
       "       'Blueste'], dtype=object)"
      ]
     },
     "execution_count": 209,
     "metadata": {},
     "output_type": "execute_result"
    }
   ],
   "source": [
    "df.Neighborhood.unique()"
   ]
  },
  {
   "cell_type": "code",
   "execution_count": 210,
   "metadata": {
    "hidden": true
   },
   "outputs": [],
   "source": [
    "dummies.append('Neighborhood')"
   ]
  },
  {
   "cell_type": "code",
   "execution_count": 212,
   "metadata": {
    "hidden": true
   },
   "outputs": [
    {
     "data": {
      "text/plain": [
       "array(['Norm', 'Feedr', 'PosN', 'Artery', 'RRAe', 'RRNn', 'RRAn', 'PosA',\n",
       "       'RRNe'], dtype=object)"
      ]
     },
     "execution_count": 212,
     "metadata": {},
     "output_type": "execute_result"
    }
   ],
   "source": [
    "df.Condition1.unique()"
   ]
  },
  {
   "cell_type": "markdown",
   "metadata": {
    "hidden": true
   },
   "source": [
    "       Artery   Adjacent to arterial street\n",
    "       Feedr    Adjacent to feeder street   \n",
    "       Norm Normal  \n",
    "       RRNn Within 200' of North-South Railroad\n",
    "       RRAn Adjacent to North-South Railroad\n",
    "       PosN Near positive off-site feature--park, greenbelt, etc.\n",
    "       PosA Adjacent to postive off-site feature\n",
    "       RRNe Within 200' of East-West Railroad\n",
    "       RRAe Adjacent to East-West Railroad"
   ]
  },
  {
   "cell_type": "code",
   "execution_count": 213,
   "metadata": {
    "hidden": true
   },
   "outputs": [
    {
     "data": {
      "text/plain": [
       "array(['Norm', 'Artery', 'RRNn', 'Feedr', 'PosN', 'PosA', 'RRAn', 'RRAe'],\n",
       "      dtype=object)"
      ]
     },
     "execution_count": 213,
     "metadata": {},
     "output_type": "execute_result"
    }
   ],
   "source": [
    "df.Condition2.unique()"
   ]
  },
  {
   "cell_type": "code",
   "execution_count": 219,
   "metadata": {
    "hidden": true
   },
   "outputs": [],
   "source": [
    "conditions=(df.Condition1 +' '+df.Condition2).str.get_dummies(sep=' ')"
   ]
  },
  {
   "cell_type": "code",
   "execution_count": 220,
   "metadata": {
    "hidden": true
   },
   "outputs": [],
   "source": [
    "df[['Condition '+i for i in conditions.columns]]=conditions"
   ]
  },
  {
   "cell_type": "code",
   "execution_count": 222,
   "metadata": {
    "hidden": true
   },
   "outputs": [],
   "source": [
    "drop_cols.extend(['Condition1','Condition2'])"
   ]
  },
  {
   "cell_type": "code",
   "execution_count": 228,
   "metadata": {
    "hidden": true
   },
   "outputs": [
    {
     "data": {
      "text/plain": [
       "array(['1Fam', '2fmCon', 'Duplex', 'TwnhsE', 'Twnhs'], dtype=object)"
      ]
     },
     "execution_count": 228,
     "metadata": {},
     "output_type": "execute_result"
    }
   ],
   "source": [
    "df.BldgType.unique()"
   ]
  },
  {
   "cell_type": "code",
   "execution_count": 229,
   "metadata": {
    "hidden": true
   },
   "outputs": [],
   "source": [
    "dummies.append('BldgType')"
   ]
  },
  {
   "cell_type": "code",
   "execution_count": 230,
   "metadata": {
    "hidden": true
   },
   "outputs": [
    {
     "data": {
      "text/plain": [
       "Index(['MSZoning', 'Street', 'LotShape', 'LandContour', 'Utilities',\n",
       "       'LotConfig', 'Neighborhood', 'Condition1', 'Condition2', 'BldgType',\n",
       "       'HouseStyle', 'RoofStyle', 'RoofMatl', 'Exterior1st', 'Exterior2nd',\n",
       "       'MasVnrType', 'ExterQual', 'ExterCond', 'Foundation', 'Heating',\n",
       "       'HeatingQC', 'CentralAir', 'KitchenQual', 'Functional', 'GarageType',\n",
       "       'PavedDrive', 'MiscFeature', 'SaleType', 'SaleCondition'],\n",
       "      dtype='object')"
      ]
     },
     "execution_count": 230,
     "metadata": {},
     "output_type": "execute_result"
    }
   ],
   "source": [
    "df.columns[~df.columns.isin(df._get_numeric_data().columns)]"
   ]
  },
  {
   "cell_type": "code",
   "execution_count": 232,
   "metadata": {
    "hidden": true
   },
   "outputs": [
    {
     "data": {
      "text/plain": [
       "array(['2Story', '1Story', '1.5Fin', '1.5Unf', 'SFoyer', 'SLvl', '2.5Unf',\n",
       "       '2.5Fin'], dtype=object)"
      ]
     },
     "execution_count": 232,
     "metadata": {},
     "output_type": "execute_result"
    }
   ],
   "source": [
    "df.HouseStyle.unique()"
   ]
  },
  {
   "cell_type": "code",
   "execution_count": 234,
   "metadata": {
    "hidden": true
   },
   "outputs": [],
   "source": [
    "drop_cols.append('HouseStyle')"
   ]
  },
  {
   "cell_type": "code",
   "execution_count": 236,
   "metadata": {
    "hidden": true
   },
   "outputs": [
    {
     "data": {
      "text/plain": [
       "Gable      1141\n",
       "Hip         286\n",
       "Flat         13\n",
       "Gambrel      11\n",
       "Mansard       7\n",
       "Shed          2\n",
       "Name: RoofStyle, dtype: int64"
      ]
     },
     "execution_count": 236,
     "metadata": {},
     "output_type": "execute_result"
    }
   ],
   "source": [
    "df.RoofStyle.value_counts()"
   ]
  },
  {
   "cell_type": "code",
   "execution_count": 237,
   "metadata": {
    "hidden": true
   },
   "outputs": [
    {
     "data": {
      "text/html": [
       "<div>\n",
       "<style scoped>\n",
       "    .dataframe tbody tr th:only-of-type {\n",
       "        vertical-align: middle;\n",
       "    }\n",
       "\n",
       "    .dataframe tbody tr th {\n",
       "        vertical-align: top;\n",
       "    }\n",
       "\n",
       "    .dataframe thead th {\n",
       "        text-align: right;\n",
       "    }\n",
       "</style>\n",
       "<table border=\"1\" class=\"dataframe\">\n",
       "  <thead>\n",
       "    <tr style=\"text-align: right;\">\n",
       "      <th></th>\n",
       "      <th>count</th>\n",
       "      <th>mean</th>\n",
       "      <th>std</th>\n",
       "      <th>min</th>\n",
       "      <th>25%</th>\n",
       "      <th>50%</th>\n",
       "      <th>75%</th>\n",
       "      <th>max</th>\n",
       "    </tr>\n",
       "    <tr>\n",
       "      <th>RoofStyle</th>\n",
       "      <th></th>\n",
       "      <th></th>\n",
       "      <th></th>\n",
       "      <th></th>\n",
       "      <th></th>\n",
       "      <th></th>\n",
       "      <th></th>\n",
       "      <th></th>\n",
       "    </tr>\n",
       "  </thead>\n",
       "  <tbody>\n",
       "    <tr>\n",
       "      <th>Flat</th>\n",
       "      <td>13.0</td>\n",
       "      <td>10.218554</td>\n",
       "      <td>4.587796</td>\n",
       "      <td>4.809589</td>\n",
       "      <td>6.446442</td>\n",
       "      <td>8.390435</td>\n",
       "      <td>13.964957</td>\n",
       "      <td>17.407407</td>\n",
       "    </tr>\n",
       "    <tr>\n",
       "      <th>Gable</th>\n",
       "      <td>1141.0</td>\n",
       "      <td>21.314175</td>\n",
       "      <td>12.748096</td>\n",
       "      <td>1.390441</td>\n",
       "      <td>13.967904</td>\n",
       "      <td>18.010753</td>\n",
       "      <td>23.636364</td>\n",
       "      <td>95.384615</td>\n",
       "    </tr>\n",
       "    <tr>\n",
       "      <th>Gambrel</th>\n",
       "      <td>11.0</td>\n",
       "      <td>16.176340</td>\n",
       "      <td>7.861591</td>\n",
       "      <td>4.705882</td>\n",
       "      <td>13.129464</td>\n",
       "      <td>15.628300</td>\n",
       "      <td>17.660028</td>\n",
       "      <td>35.748726</td>\n",
       "    </tr>\n",
       "    <tr>\n",
       "      <th>Hip</th>\n",
       "      <td>286.0</td>\n",
       "      <td>20.970315</td>\n",
       "      <td>11.139810</td>\n",
       "      <td>1.742201</td>\n",
       "      <td>13.755179</td>\n",
       "      <td>17.887021</td>\n",
       "      <td>26.403839</td>\n",
       "      <td>71.577303</td>\n",
       "    </tr>\n",
       "    <tr>\n",
       "      <th>Mansard</th>\n",
       "      <td>7.0</td>\n",
       "      <td>16.168649</td>\n",
       "      <td>4.594686</td>\n",
       "      <td>9.259259</td>\n",
       "      <td>14.435218</td>\n",
       "      <td>14.957265</td>\n",
       "      <td>18.680168</td>\n",
       "      <td>22.733248</td>\n",
       "    </tr>\n",
       "    <tr>\n",
       "      <th>Shed</th>\n",
       "      <td>2.0</td>\n",
       "      <td>10.538758</td>\n",
       "      <td>0.679566</td>\n",
       "      <td>10.058232</td>\n",
       "      <td>10.298495</td>\n",
       "      <td>10.538758</td>\n",
       "      <td>10.779021</td>\n",
       "      <td>11.019284</td>\n",
       "    </tr>\n",
       "  </tbody>\n",
       "</table>\n",
       "</div>"
      ],
      "text/plain": [
       "            count       mean        std        min        25%        50%  \\\n",
       "RoofStyle                                                                  \n",
       "Flat         13.0  10.218554   4.587796   4.809589   6.446442   8.390435   \n",
       "Gable      1141.0  21.314175  12.748096   1.390441  13.967904  18.010753   \n",
       "Gambrel      11.0  16.176340   7.861591   4.705882  13.129464  15.628300   \n",
       "Hip         286.0  20.970315  11.139810   1.742201  13.755179  17.887021   \n",
       "Mansard       7.0  16.168649   4.594686   9.259259  14.435218  14.957265   \n",
       "Shed          2.0  10.538758   0.679566  10.058232  10.298495  10.538758   \n",
       "\n",
       "                 75%        max  \n",
       "RoofStyle                        \n",
       "Flat       13.964957  17.407407  \n",
       "Gable      23.636364  95.384615  \n",
       "Gambrel    17.660028  35.748726  \n",
       "Hip        26.403839  71.577303  \n",
       "Mansard    18.680168  22.733248  \n",
       "Shed       10.779021  11.019284  "
      ]
     },
     "execution_count": 237,
     "metadata": {},
     "output_type": "execute_result"
    }
   ],
   "source": [
    "test('RoofStyle')"
   ]
  },
  {
   "cell_type": "code",
   "execution_count": 238,
   "metadata": {
    "hidden": true
   },
   "outputs": [],
   "source": [
    "drop_cols.append('RoofStyle')"
   ]
  },
  {
   "cell_type": "code",
   "execution_count": 240,
   "metadata": {
    "hidden": true
   },
   "outputs": [
    {
     "data": {
      "text/plain": [
       "CompShg    1434\n",
       "Tar&Grv      11\n",
       "WdShngl       6\n",
       "WdShake       5\n",
       "Membran       1\n",
       "ClyTile       1\n",
       "Metal         1\n",
       "Roll          1\n",
       "Name: RoofMatl, dtype: int64"
      ]
     },
     "execution_count": 240,
     "metadata": {},
     "output_type": "execute_result"
    }
   ],
   "source": [
    "df.RoofMatl.value_counts()"
   ]
  },
  {
   "cell_type": "code",
   "execution_count": 241,
   "metadata": {
    "hidden": true
   },
   "outputs": [],
   "source": [
    "drop_cols.append('RoofMatl')"
   ]
  },
  {
   "cell_type": "code",
   "execution_count": 244,
   "metadata": {
    "hidden": true
   },
   "outputs": [
    {
     "data": {
      "text/plain": [
       "VinylSd    515\n",
       "HdBoard    222\n",
       "MetalSd    220\n",
       "Wd Sdng    206\n",
       "Plywood    108\n",
       "CemntBd     61\n",
       "BrkFace     50\n",
       "WdShing     26\n",
       "Stucco      25\n",
       "AsbShng     20\n",
       "Stone        2\n",
       "BrkComm      2\n",
       "ImStucc      1\n",
       "AsphShn      1\n",
       "CBlock       1\n",
       "Name: Exterior1st, dtype: int64"
      ]
     },
     "execution_count": 244,
     "metadata": {},
     "output_type": "execute_result"
    }
   ],
   "source": [
    "df.Exterior1st.value_counts()"
   ]
  },
  {
   "cell_type": "code",
   "execution_count": 245,
   "metadata": {
    "hidden": true
   },
   "outputs": [
    {
     "data": {
      "text/plain": [
       "VinylSd    504\n",
       "MetalSd    214\n",
       "HdBoard    207\n",
       "Wd Sdng    197\n",
       "Plywood    142\n",
       "CmentBd     60\n",
       "Wd Shng     38\n",
       "Stucco      26\n",
       "BrkFace     25\n",
       "AsbShng     20\n",
       "ImStucc     10\n",
       "Brk Cmn      7\n",
       "Stone        5\n",
       "AsphShn      3\n",
       "Other        1\n",
       "CBlock       1\n",
       "Name: Exterior2nd, dtype: int64"
      ]
     },
     "execution_count": 245,
     "metadata": {},
     "output_type": "execute_result"
    }
   ],
   "source": [
    "df.Exterior2nd.value_counts()"
   ]
  },
  {
   "cell_type": "markdown",
   "metadata": {
    "hidden": true
   },
   "source": [
    "Exterior1st: Exterior covering on house\n",
    "* AsbShng  Asbestos Shingles\n",
    "* AsphShn  Asphalt Shingles\n",
    "* BrkComm  Brick Common\n",
    "* BrkFace  Brick Face\n",
    "* CBlock   Cinder Block\n",
    "* CemntBd  Cement Board\n",
    "* HdBoard  Hard Board\n",
    "* ImStucc  Imitation Stucco\n",
    "* MetalSd  Metal Siding\n",
    "* Other    Other\n",
    "* Plywood  Plywood\n",
    "* PreCast  PreCast \n",
    "* Stone    Stone\n",
    "* Stucco   Stucco\n",
    "* VinylSd  Vinyl Siding\n",
    "* Wd Sdng  Wood Siding\n",
    "* WdShing  Wood Shingles"
   ]
  },
  {
   "cell_type": "code",
   "execution_count": 247,
   "metadata": {
    "hidden": true
   },
   "outputs": [],
   "source": [
    "exteriors=(df.Exterior1st +' '+df.Exterior2nd).str.get_dummies(sep=' ')\n",
    "df[['Exterior '+i for i in exteriors.columns]]=exteriors\n",
    "drop_cols.extend(['Exterior1st','Exterior2nd'])"
   ]
  },
  {
   "cell_type": "code",
   "execution_count": 249,
   "metadata": {
    "hidden": true
   },
   "outputs": [
    {
     "data": {
      "text/plain": [
       "array(['BrkFace', 'None', 'Stone', 'BrkCmn'], dtype=object)"
      ]
     },
     "execution_count": 249,
     "metadata": {},
     "output_type": "execute_result"
    }
   ],
   "source": [
    "df.MasVnrType.unique()"
   ]
  },
  {
   "cell_type": "code",
   "execution_count": 250,
   "metadata": {
    "hidden": true
   },
   "outputs": [
    {
     "data": {
      "text/plain": [
       "['MasVnrType',\n",
       " 'MSZoning',\n",
       " 'Street',\n",
       " 'LandContour',\n",
       " 'LotConfig',\n",
       " 'Neighborhood',\n",
       " 'BldgType']"
      ]
     },
     "execution_count": 250,
     "metadata": {},
     "output_type": "execute_result"
    }
   ],
   "source": [
    "dummies"
   ]
  },
  {
   "cell_type": "code",
   "execution_count": 251,
   "metadata": {
    "hidden": true
   },
   "outputs": [
    {
     "data": {
      "text/plain": [
       "Index(['MSZoning', 'Street', 'LotShape', 'LandContour', 'Utilities',\n",
       "       'LotConfig', 'Neighborhood', 'Condition1', 'Condition2', 'BldgType',\n",
       "       'HouseStyle', 'RoofStyle', 'RoofMatl', 'Exterior1st', 'Exterior2nd',\n",
       "       'MasVnrType', 'ExterQual', 'ExterCond', 'Foundation', 'Heating',\n",
       "       'HeatingQC', 'CentralAir', 'KitchenQual', 'Functional', 'GarageType',\n",
       "       'PavedDrive', 'MiscFeature', 'SaleType', 'SaleCondition'],\n",
       "      dtype='object')"
      ]
     },
     "execution_count": 251,
     "metadata": {},
     "output_type": "execute_result"
    }
   ],
   "source": [
    "df.columns[~df.columns.isin(df._get_numeric_data().columns)]"
   ]
  },
  {
   "cell_type": "code",
   "execution_count": 254,
   "metadata": {
    "hidden": true
   },
   "outputs": [],
   "source": [
    "df.ExterQual=df.ExterQual.map(dct)"
   ]
  },
  {
   "cell_type": "code",
   "execution_count": 256,
   "metadata": {
    "hidden": true
   },
   "outputs": [],
   "source": [
    "df.ExterCond=df.ExterCond.map(dct)"
   ]
  },
  {
   "cell_type": "code",
   "execution_count": 258,
   "metadata": {
    "hidden": true
   },
   "outputs": [
    {
     "data": {
      "text/plain": [
       "array(['PConc', 'CBlock', 'BrkTil', 'Wood', 'Slab', 'Stone'], dtype=object)"
      ]
     },
     "execution_count": 258,
     "metadata": {},
     "output_type": "execute_result"
    }
   ],
   "source": [
    "df.Foundation.unique()"
   ]
  },
  {
   "cell_type": "code",
   "execution_count": 259,
   "metadata": {
    "hidden": true
   },
   "outputs": [],
   "source": [
    "dummies.append('Foundation')"
   ]
  },
  {
   "cell_type": "code",
   "execution_count": 261,
   "metadata": {
    "hidden": true
   },
   "outputs": [
    {
     "data": {
      "text/plain": [
       "GasA     1428\n",
       "GasW       18\n",
       "Grav        7\n",
       "Wall        4\n",
       "OthW        2\n",
       "Floor       1\n",
       "Name: Heating, dtype: int64"
      ]
     },
     "execution_count": 261,
     "metadata": {},
     "output_type": "execute_result"
    }
   ],
   "source": [
    "df.Heating.value_counts()"
   ]
  },
  {
   "cell_type": "code",
   "execution_count": 262,
   "metadata": {
    "hidden": true
   },
   "outputs": [],
   "source": [
    "drop_cols.append('Heating')"
   ]
  },
  {
   "cell_type": "code",
   "execution_count": 264,
   "metadata": {
    "hidden": true
   },
   "outputs": [],
   "source": [
    "df.HeatingQC=df.HeatingQC.map(dct)"
   ]
  },
  {
   "cell_type": "code",
   "execution_count": 265,
   "metadata": {
    "hidden": true
   },
   "outputs": [
    {
     "data": {
      "text/plain": [
       "Y    1365\n",
       "N      95\n",
       "Name: CentralAir, dtype: int64"
      ]
     },
     "execution_count": 265,
     "metadata": {},
     "output_type": "execute_result"
    }
   ],
   "source": [
    "df.CentralAir.value_counts()"
   ]
  },
  {
   "cell_type": "code",
   "execution_count": 267,
   "metadata": {
    "hidden": true
   },
   "outputs": [],
   "source": [
    "df.CentralAir=df.CentralAir.map({'Y':1, 'N':0})"
   ]
  },
  {
   "cell_type": "code",
   "execution_count": 269,
   "metadata": {
    "hidden": true
   },
   "outputs": [],
   "source": [
    "df.KitchenQual=df.KitchenQual.map(dct)"
   ]
  },
  {
   "cell_type": "code",
   "execution_count": 271,
   "metadata": {
    "hidden": true
   },
   "outputs": [
    {
     "data": {
      "text/plain": [
       "Typ     1360\n",
       "Min2      34\n",
       "Min1      31\n",
       "Mod       15\n",
       "Maj1      14\n",
       "Maj2       5\n",
       "Sev        1\n",
       "Name: Functional, dtype: int64"
      ]
     },
     "execution_count": 271,
     "metadata": {},
     "output_type": "execute_result"
    }
   ],
   "source": [
    "df.Functional.value_counts()"
   ]
  },
  {
   "cell_type": "markdown",
   "metadata": {
    "hidden": true
   },
   "source": [
    "       Typ  Typical Functionality\n",
    "       Min1 Minor Deductions 1\n",
    "       Min2 Minor Deductions 2\n",
    "       Mod  Moderate Deductions\n",
    "       Maj1 Major Deductions 1\n",
    "       Maj2 Major Deductions 2\n",
    "       Sev  Severely Damaged\n",
    "       Sal  Salvage only\n"
   ]
  },
  {
   "cell_type": "code",
   "execution_count": 276,
   "metadata": {
    "hidden": true
   },
   "outputs": [],
   "source": [
    "df.Functional=df.Functional.map(dict(i.split() for i in \"\"\"Typ     0\n",
    "Min2      2\n",
    "Min1      1\n",
    "Mod       3\n",
    "Maj1      4\n",
    "Maj2       5\n",
    "Sev        6\n",
    "Sal   7\"\"\".split('\\n'))).astype(int)"
   ]
  },
  {
   "cell_type": "code",
   "execution_count": 281,
   "metadata": {
    "hidden": true
   },
   "outputs": [],
   "source": [
    "df.PavedDrive=df.PavedDrive.map({'Y':1, 'N':0})"
   ]
  },
  {
   "cell_type": "code",
   "execution_count": 283,
   "metadata": {
    "hidden": true
   },
   "outputs": [],
   "source": [
    "df.PavedDrive=df.PavedDrive.fillna(0)"
   ]
  },
  {
   "cell_type": "code",
   "execution_count": 284,
   "metadata": {
    "hidden": true
   },
   "outputs": [
    {
     "data": {
      "text/plain": [
       "0        NaN\n",
       "1        NaN\n",
       "2        NaN\n",
       "3        NaN\n",
       "4        NaN\n",
       "        ... \n",
       "1455     NaN\n",
       "1456     NaN\n",
       "1457    Shed\n",
       "1458     NaN\n",
       "1459     NaN\n",
       "Name: MiscFeature, Length: 1460, dtype: object"
      ]
     },
     "execution_count": 284,
     "metadata": {},
     "output_type": "execute_result"
    }
   ],
   "source": [
    "df.MiscFeature"
   ]
  },
  {
   "cell_type": "code",
   "execution_count": 287,
   "metadata": {
    "hidden": true
   },
   "outputs": [
    {
     "data": {
      "text/plain": [
       "WD       1267\n",
       "New       122\n",
       "COD        43\n",
       "ConLD       9\n",
       "ConLI       5\n",
       "ConLw       5\n",
       "CWD         4\n",
       "Oth         3\n",
       "Con         2\n",
       "Name: SaleType, dtype: int64"
      ]
     },
     "execution_count": 287,
     "metadata": {},
     "output_type": "execute_result"
    }
   ],
   "source": [
    "df.SaleType.value_counts()"
   ]
  },
  {
   "cell_type": "code",
   "execution_count": 288,
   "metadata": {
    "hidden": true
   },
   "outputs": [],
   "source": [
    "drop_cols.append('SaleType')"
   ]
  },
  {
   "cell_type": "code",
   "execution_count": 291,
   "metadata": {
    "hidden": true
   },
   "outputs": [],
   "source": [
    "drop_cols.append('SaleCondition')"
   ]
  },
  {
   "cell_type": "code",
   "execution_count": 293,
   "metadata": {
    "hidden": true
   },
   "outputs": [],
   "source": [
    "df.drop(drop_cols,axis=1, inplace=True)"
   ]
  },
  {
   "cell_type": "code",
   "execution_count": 294,
   "metadata": {
    "hidden": true
   },
   "outputs": [
    {
     "data": {
      "text/plain": [
       "['MiscFeature', 'GarageType']"
      ]
     },
     "execution_count": 294,
     "metadata": {},
     "output_type": "execute_result"
    }
   ],
   "source": [
    "NA_dummies"
   ]
  },
  {
   "cell_type": "code",
   "execution_count": 296,
   "metadata": {
    "hidden": true
   },
   "outputs": [],
   "source": [
    "df1=pd.get_dummies(data=df, columns=NA_dummies)"
   ]
  },
  {
   "cell_type": "code",
   "execution_count": 297,
   "metadata": {
    "hidden": true
   },
   "outputs": [],
   "source": [
    "df2=pd.get_dummies(data=df1, columns=dummies, drop_first=True)"
   ]
  },
  {
   "cell_type": "code",
   "execution_count": 300,
   "metadata": {
    "hidden": true
   },
   "outputs": [],
   "source": [
    "df2.drop('MSSubClass', axis=1, inplace=True)"
   ]
  },
  {
   "cell_type": "code",
   "execution_count": 301,
   "metadata": {
    "hidden": true
   },
   "outputs": [
    {
     "name": "stdout",
     "output_type": "stream",
     "text": [
      "<class 'pandas.core.frame.DataFrame'>\n",
      "RangeIndex: 1460 entries, 0 to 1459\n",
      "Columns: 145 entries, LotFrontage to Foundation_Wood\n",
      "dtypes: float64(14), int64(72), object(1), uint8(58)\n",
      "memory usage: 1.0+ MB\n"
     ]
    }
   ],
   "source": [
    "df2.info()"
   ]
  },
  {
   "cell_type": "code",
   "execution_count": 302,
   "metadata": {
    "hidden": true
   },
   "outputs": [
    {
     "data": {
      "text/plain": [
       "Index(['LotShape'], dtype='object')"
      ]
     },
     "execution_count": 302,
     "metadata": {},
     "output_type": "execute_result"
    }
   ],
   "source": [
    "df2.columns[~df2.columns.isin(df2._get_numeric_data().columns)]"
   ]
  },
  {
   "cell_type": "code",
   "execution_count": 307,
   "metadata": {
    "hidden": true
   },
   "outputs": [],
   "source": [
    "df2.LotShape=df2.LotShape.astype(int)"
   ]
  },
  {
   "cell_type": "code",
   "execution_count": 308,
   "metadata": {
    "hidden": true
   },
   "outputs": [
    {
     "name": "stdout",
     "output_type": "stream",
     "text": [
      "<class 'pandas.core.frame.DataFrame'>\n",
      "RangeIndex: 1460 entries, 0 to 1459\n",
      "Columns: 145 entries, LotFrontage to Foundation_Wood\n",
      "dtypes: float64(14), int64(73), uint8(58)\n",
      "memory usage: 1.0 MB\n"
     ]
    }
   ],
   "source": [
    "df2.info()"
   ]
  },
  {
   "cell_type": "code",
   "execution_count": 309,
   "metadata": {
    "hidden": true
   },
   "outputs": [
    {
     "data": {
      "text/plain": [
       "Index(['LotFrontage', 'LotArea', 'LotShape', 'LandSlope', 'OverallQual',\n",
       "       'OverallCond', 'YearBuilt', 'YearRemodAdd', 'MasVnrArea', 'ExterQual',\n",
       "       ...\n",
       "       'Neighborhood_Veenker', 'BldgType_2fmCon', 'BldgType_Duplex',\n",
       "       'BldgType_Twnhs', 'BldgType_TwnhsE', 'Foundation_CBlock',\n",
       "       'Foundation_PConc', 'Foundation_Slab', 'Foundation_Stone',\n",
       "       'Foundation_Wood'],\n",
       "      dtype='object', length=145)"
      ]
     },
     "execution_count": 309,
     "metadata": {},
     "output_type": "execute_result"
    }
   ],
   "source": [
    "df2.columns"
   ]
  },
  {
   "cell_type": "code",
   "execution_count": 311,
   "metadata": {
    "hidden": true
   },
   "outputs": [],
   "source": [
    "df2.drop('SalePrice', axis=1, inplace=True)"
   ]
  },
  {
   "cell_type": "code",
   "execution_count": 312,
   "metadata": {
    "hidden": true
   },
   "outputs": [],
   "source": [
    "y=df2.PriceSF\n",
    "X=df2.drop('PriceSF', axis=1)"
   ]
  },
  {
   "cell_type": "markdown",
   "metadata": {
    "heading_collapsed": true,
    "hidden": true
   },
   "source": [
    "## Modelling "
   ]
  },
  {
   "cell_type": "markdown",
   "metadata": {
    "hidden": true
   },
   "source": [
    "How do I select fetures:\n",
    "1. From 1 to max\n",
    "2. From max to 1\n",
    "3. Adaptive"
   ]
  },
  {
   "cell_type": "code",
   "execution_count": 313,
   "metadata": {
    "hidden": true
   },
   "outputs": [],
   "source": [
    "from statsmodels.formula.api import ols\n",
    "from statsmodels.api import OLS"
   ]
  },
  {
   "cell_type": "code",
   "execution_count": 319,
   "metadata": {
    "hidden": true
   },
   "outputs": [
    {
     "data": {
      "text/html": [
       "<table class=\"simpletable\">\n",
       "<caption>OLS Regression Results</caption>\n",
       "<tr>\n",
       "  <th>Dep. Variable:</th>         <td>PriceSF</td>     <th>  R-squared:         </th> <td>   0.130</td> \n",
       "</tr>\n",
       "<tr>\n",
       "  <th>Model:</th>                   <td>OLS</td>       <th>  Adj. R-squared:    </th> <td>   0.129</td> \n",
       "</tr>\n",
       "<tr>\n",
       "  <th>Method:</th>             <td>Least Squares</td>  <th>  F-statistic:       </th> <td>   108.7</td> \n",
       "</tr>\n",
       "<tr>\n",
       "  <th>Date:</th>             <td>Tue, 29 Sep 2020</td> <th>  Prob (F-statistic):</th> <td>9.92e-45</td> \n",
       "</tr>\n",
       "<tr>\n",
       "  <th>Time:</th>                 <td>17:22:11</td>     <th>  Log-Likelihood:    </th> <td> -5644.0</td> \n",
       "</tr>\n",
       "<tr>\n",
       "  <th>No. Observations:</th>      <td>  1460</td>      <th>  AIC:               </th> <td>1.129e+04</td>\n",
       "</tr>\n",
       "<tr>\n",
       "  <th>Df Residuals:</th>          <td>  1457</td>      <th>  BIC:               </th> <td>1.131e+04</td>\n",
       "</tr>\n",
       "<tr>\n",
       "  <th>Df Model:</th>              <td>     2</td>      <th>                     </th>     <td> </td>    \n",
       "</tr>\n",
       "<tr>\n",
       "  <th>Covariance Type:</th>      <td>nonrobust</td>    <th>                     </th>     <td> </td>    \n",
       "</tr>\n",
       "</table>\n",
       "<table class=\"simpletable\">\n",
       "<tr>\n",
       "       <td></td>          <th>coef</th>     <th>std err</th>      <th>t</th>      <th>P>|t|</th>  <th>[0.025</th>    <th>0.975]</th>  \n",
       "</tr>\n",
       "<tr>\n",
       "  <th>Intercept</th>   <td>   28.2079</td> <td>    0.646</td> <td>   43.654</td> <td> 0.000</td> <td>   26.940</td> <td>   29.475</td>\n",
       "</tr>\n",
       "<tr>\n",
       "  <th>LotArea</th>     <td>   -0.0004</td> <td> 3.05e-05</td> <td>  -12.795</td> <td> 0.000</td> <td>   -0.000</td> <td>   -0.000</td>\n",
       "</tr>\n",
       "<tr>\n",
       "  <th>LotFrontage</th> <td>   -0.0527</td> <td>    0.009</td> <td>   -6.002</td> <td> 0.000</td> <td>   -0.070</td> <td>   -0.035</td>\n",
       "</tr>\n",
       "</table>\n",
       "<table class=\"simpletable\">\n",
       "<tr>\n",
       "  <th>Omnibus:</th>       <td>636.438</td> <th>  Durbin-Watson:     </th> <td>   2.053</td>\n",
       "</tr>\n",
       "<tr>\n",
       "  <th>Prob(Omnibus):</th> <td> 0.000</td>  <th>  Jarque-Bera (JB):  </th> <td>2882.410</td>\n",
       "</tr>\n",
       "<tr>\n",
       "  <th>Skew:</th>          <td> 2.076</td>  <th>  Prob(JB):          </th> <td>    0.00</td>\n",
       "</tr>\n",
       "<tr>\n",
       "  <th>Kurtosis:</th>      <td> 8.490</td>  <th>  Cond. No.          </th> <td>3.10e+04</td>\n",
       "</tr>\n",
       "</table><br/><br/>Warnings:<br/>[1] Standard Errors assume that the covariance matrix of the errors is correctly specified.<br/>[2] The condition number is large, 3.1e+04. This might indicate that there are<br/>strong multicollinearity or other numerical problems."
      ],
      "text/plain": [
       "<class 'statsmodels.iolib.summary.Summary'>\n",
       "\"\"\"\n",
       "                            OLS Regression Results                            \n",
       "==============================================================================\n",
       "Dep. Variable:                PriceSF   R-squared:                       0.130\n",
       "Model:                            OLS   Adj. R-squared:                  0.129\n",
       "Method:                 Least Squares   F-statistic:                     108.7\n",
       "Date:                Tue, 29 Sep 2020   Prob (F-statistic):           9.92e-45\n",
       "Time:                        17:22:11   Log-Likelihood:                -5644.0\n",
       "No. Observations:                1460   AIC:                         1.129e+04\n",
       "Df Residuals:                    1457   BIC:                         1.131e+04\n",
       "Df Model:                           2                                         \n",
       "Covariance Type:            nonrobust                                         \n",
       "===============================================================================\n",
       "                  coef    std err          t      P>|t|      [0.025      0.975]\n",
       "-------------------------------------------------------------------------------\n",
       "Intercept      28.2079      0.646     43.654      0.000      26.940      29.475\n",
       "LotArea        -0.0004   3.05e-05    -12.795      0.000      -0.000      -0.000\n",
       "LotFrontage    -0.0527      0.009     -6.002      0.000      -0.070      -0.035\n",
       "==============================================================================\n",
       "Omnibus:                      636.438   Durbin-Watson:                   2.053\n",
       "Prob(Omnibus):                  0.000   Jarque-Bera (JB):             2882.410\n",
       "Skew:                           2.076   Prob(JB):                         0.00\n",
       "Kurtosis:                       8.490   Cond. No.                     3.10e+04\n",
       "==============================================================================\n",
       "\n",
       "Warnings:\n",
       "[1] Standard Errors assume that the covariance matrix of the errors is correctly specified.\n",
       "[2] The condition number is large, 3.1e+04. This might indicate that there are\n",
       "strong multicollinearity or other numerical problems.\n",
       "\"\"\""
      ]
     },
     "execution_count": 319,
     "metadata": {},
     "output_type": "execute_result"
    }
   ],
   "source": [
    "ols('PriceSF ~ LotArea + LotFrontage', data=df2).fit().summary()"
   ]
  },
  {
   "cell_type": "markdown",
   "metadata": {
    "hidden": true
   },
   "source": [
    "The first approach requires you to know the list of columns that you have in db and basically, you select which column to add based on p value of the coefficient for this parameter. "
   ]
  },
  {
   "cell_type": "code",
   "execution_count": 321,
   "metadata": {
    "hidden": true
   },
   "outputs": [],
   "source": [
    "from statsmodels.api import add_constant"
   ]
  },
  {
   "cell_type": "code",
   "execution_count": 322,
   "metadata": {
    "hidden": true
   },
   "outputs": [
    {
     "data": {
      "text/html": [
       "<table class=\"simpletable\">\n",
       "<caption>OLS Regression Results</caption>\n",
       "<tr>\n",
       "  <th>Dep. Variable:</th>         <td>PriceSF</td>     <th>  R-squared:         </th> <td>   0.851</td>\n",
       "</tr>\n",
       "<tr>\n",
       "  <th>Model:</th>                   <td>OLS</td>       <th>  Adj. R-squared:    </th> <td>   0.835</td>\n",
       "</tr>\n",
       "<tr>\n",
       "  <th>Method:</th>             <td>Least Squares</td>  <th>  F-statistic:       </th> <td>   53.84</td>\n",
       "</tr>\n",
       "<tr>\n",
       "  <th>Date:</th>             <td>Tue, 29 Sep 2020</td> <th>  Prob (F-statistic):</th>  <td>  0.00</td> \n",
       "</tr>\n",
       "<tr>\n",
       "  <th>Time:</th>                 <td>17:24:27</td>     <th>  Log-Likelihood:    </th> <td> -4355.4</td>\n",
       "</tr>\n",
       "<tr>\n",
       "  <th>No. Observations:</th>      <td>  1460</td>      <th>  AIC:               </th> <td>   8993.</td>\n",
       "</tr>\n",
       "<tr>\n",
       "  <th>Df Residuals:</th>          <td>  1319</td>      <th>  BIC:               </th> <td>   9738.</td>\n",
       "</tr>\n",
       "<tr>\n",
       "  <th>Df Model:</th>              <td>   140</td>      <th>                     </th>     <td> </td>   \n",
       "</tr>\n",
       "<tr>\n",
       "  <th>Covariance Type:</th>      <td>nonrobust</td>    <th>                     </th>     <td> </td>   \n",
       "</tr>\n",
       "</table>\n",
       "<table class=\"simpletable\">\n",
       "<tr>\n",
       "            <td></td>              <th>coef</th>     <th>std err</th>      <th>t</th>      <th>P>|t|</th>  <th>[0.025</th>    <th>0.975]</th>  \n",
       "</tr>\n",
       "<tr>\n",
       "  <th>const</th>                <td>  -42.5977</td> <td>  218.701</td> <td>   -0.195</td> <td> 0.846</td> <td> -471.638</td> <td>  386.443</td>\n",
       "</tr>\n",
       "<tr>\n",
       "  <th>LotFrontage</th>          <td>   -0.0264</td> <td>    0.005</td> <td>   -5.573</td> <td> 0.000</td> <td>   -0.036</td> <td>   -0.017</td>\n",
       "</tr>\n",
       "<tr>\n",
       "  <th>LotArea</th>              <td>   -0.0002</td> <td> 1.85e-05</td> <td>  -12.793</td> <td> 0.000</td> <td>   -0.000</td> <td>   -0.000</td>\n",
       "</tr>\n",
       "<tr>\n",
       "  <th>LotShape</th>             <td>   -1.6000</td> <td>    0.291</td> <td>   -5.503</td> <td> 0.000</td> <td>   -2.170</td> <td>   -1.030</td>\n",
       "</tr>\n",
       "<tr>\n",
       "  <th>LandSlope</th>            <td>    1.5925</td> <td>    0.702</td> <td>    2.268</td> <td> 0.023</td> <td>    0.215</td> <td>    2.970</td>\n",
       "</tr>\n",
       "<tr>\n",
       "  <th>OverallQual</th>          <td>    0.7656</td> <td>    0.206</td> <td>    3.721</td> <td> 0.000</td> <td>    0.362</td> <td>    1.169</td>\n",
       "</tr>\n",
       "<tr>\n",
       "  <th>OverallCond</th>          <td>    0.6699</td> <td>    0.180</td> <td>    3.713</td> <td> 0.000</td> <td>    0.316</td> <td>    1.024</td>\n",
       "</tr>\n",
       "<tr>\n",
       "  <th>YearBuilt</th>            <td>    0.0417</td> <td>    0.015</td> <td>    2.775</td> <td> 0.006</td> <td>    0.012</td> <td>    0.071</td>\n",
       "</tr>\n",
       "<tr>\n",
       "  <th>YearRemodAdd</th>         <td>    0.0253</td> <td>    0.011</td> <td>    2.239</td> <td> 0.025</td> <td>    0.003</td> <td>    0.048</td>\n",
       "</tr>\n",
       "<tr>\n",
       "  <th>MasVnrArea</th>           <td>    0.0017</td> <td>    0.001</td> <td>    1.381</td> <td> 0.168</td> <td>   -0.001</td> <td>    0.004</td>\n",
       "</tr>\n",
       "<tr>\n",
       "  <th>ExterQual</th>            <td>    0.2175</td> <td>    0.441</td> <td>    0.493</td> <td> 0.622</td> <td>   -0.647</td> <td>    1.083</td>\n",
       "</tr>\n",
       "<tr>\n",
       "  <th>ExterCond</th>            <td>   -0.9297</td> <td>    0.444</td> <td>   -2.095</td> <td> 0.036</td> <td>   -1.800</td> <td>   -0.059</td>\n",
       "</tr>\n",
       "<tr>\n",
       "  <th>BsmtQual</th>             <td>    0.1337</td> <td>    0.352</td> <td>    0.380</td> <td> 0.704</td> <td>   -0.557</td> <td>    0.825</td>\n",
       "</tr>\n",
       "<tr>\n",
       "  <th>BsmtCond</th>             <td>   -0.0835</td> <td>    0.440</td> <td>   -0.190</td> <td> 0.850</td> <td>   -0.947</td> <td>    0.780</td>\n",
       "</tr>\n",
       "<tr>\n",
       "  <th>BsmtExposure</th>         <td>    0.1529</td> <td>    0.167</td> <td>    0.918</td> <td> 0.359</td> <td>   -0.174</td> <td>    0.480</td>\n",
       "</tr>\n",
       "<tr>\n",
       "  <th>BsmtFinType1</th>         <td>    0.3554</td> <td>    0.136</td> <td>    2.610</td> <td> 0.009</td> <td>    0.088</td> <td>    0.622</td>\n",
       "</tr>\n",
       "<tr>\n",
       "  <th>BsmtFinSF1</th>           <td>    0.0006</td> <td>    0.001</td> <td>    1.179</td> <td> 0.238</td> <td>   -0.000</td> <td>    0.002</td>\n",
       "</tr>\n",
       "<tr>\n",
       "  <th>BsmtFinType2</th>         <td>   -0.2914</td> <td>    0.366</td> <td>   -0.797</td> <td> 0.425</td> <td>   -1.009</td> <td>    0.426</td>\n",
       "</tr>\n",
       "<tr>\n",
       "  <th>BsmtFinSF2</th>           <td>    0.0007</td> <td>    0.001</td> <td>    0.651</td> <td> 0.515</td> <td>   -0.001</td> <td>    0.003</td>\n",
       "</tr>\n",
       "<tr>\n",
       "  <th>BsmtUnfSF</th>            <td>   -0.0002</td> <td>    0.001</td> <td>   -0.431</td> <td> 0.667</td> <td>   -0.001</td> <td>    0.001</td>\n",
       "</tr>\n",
       "<tr>\n",
       "  <th>TotalBsmtSF</th>          <td>    0.0012</td> <td>    0.001</td> <td>    1.640</td> <td> 0.101</td> <td>   -0.000</td> <td>    0.003</td>\n",
       "</tr>\n",
       "<tr>\n",
       "  <th>HeatingQC</th>            <td>    0.4574</td> <td>    0.200</td> <td>    2.282</td> <td> 0.023</td> <td>    0.064</td> <td>    0.851</td>\n",
       "</tr>\n",
       "<tr>\n",
       "  <th>CentralAir</th>           <td>    0.0671</td> <td>    0.717</td> <td>    0.094</td> <td> 0.925</td> <td>   -1.339</td> <td>    1.473</td>\n",
       "</tr>\n",
       "<tr>\n",
       "  <th>1stFlrSF</th>             <td>    0.0010</td> <td>    0.001</td> <td>    1.009</td> <td> 0.313</td> <td>   -0.001</td> <td>    0.003</td>\n",
       "</tr>\n",
       "<tr>\n",
       "  <th>2ndFlrSF</th>             <td>    0.0015</td> <td>    0.001</td> <td>    1.684</td> <td> 0.092</td> <td>   -0.000</td> <td>    0.003</td>\n",
       "</tr>\n",
       "<tr>\n",
       "  <th>LowQualFinSF</th>         <td>   -0.0015</td> <td>    0.002</td> <td>   -0.639</td> <td> 0.523</td> <td>   -0.006</td> <td>    0.003</td>\n",
       "</tr>\n",
       "<tr>\n",
       "  <th>GrLivArea</th>            <td>    0.0011</td> <td>    0.001</td> <td>    1.144</td> <td> 0.253</td> <td>   -0.001</td> <td>    0.003</td>\n",
       "</tr>\n",
       "<tr>\n",
       "  <th>BsmtFullBath</th>         <td>    0.6829</td> <td>    0.414</td> <td>    1.651</td> <td> 0.099</td> <td>   -0.129</td> <td>    1.494</td>\n",
       "</tr>\n",
       "<tr>\n",
       "  <th>BsmtHalfBath</th>         <td>    0.7886</td> <td>    0.632</td> <td>    1.247</td> <td> 0.213</td> <td>   -0.452</td> <td>    2.029</td>\n",
       "</tr>\n",
       "<tr>\n",
       "  <th>FullBath</th>             <td>    1.2458</td> <td>    0.457</td> <td>    2.724</td> <td> 0.007</td> <td>    0.349</td> <td>    2.143</td>\n",
       "</tr>\n",
       "<tr>\n",
       "  <th>HalfBath</th>             <td>    0.8598</td> <td>    0.432</td> <td>    1.990</td> <td> 0.047</td> <td>    0.012</td> <td>    1.708</td>\n",
       "</tr>\n",
       "<tr>\n",
       "  <th>BedroomAbvGr</th>         <td>    0.0619</td> <td>    0.281</td> <td>    0.220</td> <td> 0.826</td> <td>   -0.489</td> <td>    0.613</td>\n",
       "</tr>\n",
       "<tr>\n",
       "  <th>KitchenAbvGr</th>         <td>    0.4922</td> <td>    1.133</td> <td>    0.434</td> <td> 0.664</td> <td>   -1.731</td> <td>    2.715</td>\n",
       "</tr>\n",
       "<tr>\n",
       "  <th>KitchenQual</th>          <td>    0.5290</td> <td>    0.343</td> <td>    1.540</td> <td> 0.124</td> <td>   -0.145</td> <td>    1.203</td>\n",
       "</tr>\n",
       "<tr>\n",
       "  <th>TotRmsAbvGrd</th>         <td>   -0.2201</td> <td>    0.199</td> <td>   -1.105</td> <td> 0.269</td> <td>   -0.611</td> <td>    0.171</td>\n",
       "</tr>\n",
       "<tr>\n",
       "  <th>Functional</th>           <td>   -0.4670</td> <td>    0.230</td> <td>   -2.035</td> <td> 0.042</td> <td>   -0.917</td> <td>   -0.017</td>\n",
       "</tr>\n",
       "<tr>\n",
       "  <th>Fireplaces</th>           <td>   -0.0493</td> <td>    0.468</td> <td>   -0.105</td> <td> 0.916</td> <td>   -0.967</td> <td>    0.868</td>\n",
       "</tr>\n",
       "<tr>\n",
       "  <th>FireplaceQu</th>          <td>    0.0415</td> <td>    0.170</td> <td>    0.245</td> <td> 0.807</td> <td>   -0.291</td> <td>    0.374</td>\n",
       "</tr>\n",
       "<tr>\n",
       "  <th>GarageFinish</th>         <td>    0.1380</td> <td>    0.256</td> <td>    0.539</td> <td> 0.590</td> <td>   -0.364</td> <td>    0.640</td>\n",
       "</tr>\n",
       "<tr>\n",
       "  <th>GarageCars</th>           <td>    1.1143</td> <td>    0.471</td> <td>    2.365</td> <td> 0.018</td> <td>    0.190</td> <td>    2.039</td>\n",
       "</tr>\n",
       "<tr>\n",
       "  <th>GarageArea</th>           <td>   -0.0050</td> <td>    0.002</td> <td>   -3.141</td> <td> 0.002</td> <td>   -0.008</td> <td>   -0.002</td>\n",
       "</tr>\n",
       "<tr>\n",
       "  <th>GarageQual</th>           <td>    0.2809</td> <td>    0.763</td> <td>    0.368</td> <td> 0.713</td> <td>   -1.216</td> <td>    1.777</td>\n",
       "</tr>\n",
       "<tr>\n",
       "  <th>GarageCond</th>           <td>    0.5092</td> <td>    0.794</td> <td>    0.641</td> <td> 0.522</td> <td>   -1.049</td> <td>    2.067</td>\n",
       "</tr>\n",
       "<tr>\n",
       "  <th>PavedDrive</th>           <td>    1.2478</td> <td>    0.616</td> <td>    2.024</td> <td> 0.043</td> <td>    0.039</td> <td>    2.457</td>\n",
       "</tr>\n",
       "<tr>\n",
       "  <th>WoodDeckSF</th>           <td>   -0.0020</td> <td>    0.001</td> <td>   -1.629</td> <td> 0.104</td> <td>   -0.004</td> <td>    0.000</td>\n",
       "</tr>\n",
       "<tr>\n",
       "  <th>OpenPorchSF</th>          <td>   -0.0028</td> <td>    0.002</td> <td>   -1.184</td> <td> 0.236</td> <td>   -0.007</td> <td>    0.002</td>\n",
       "</tr>\n",
       "<tr>\n",
       "  <th>EnclosedPorch</th>        <td>   -0.0016</td> <td>    0.003</td> <td>   -0.630</td> <td> 0.529</td> <td>   -0.007</td> <td>    0.003</td>\n",
       "</tr>\n",
       "<tr>\n",
       "  <th>3SsnPorch</th>            <td>   -0.0016</td> <td>    0.005</td> <td>   -0.331</td> <td> 0.741</td> <td>   -0.011</td> <td>    0.008</td>\n",
       "</tr>\n",
       "<tr>\n",
       "  <th>ScreenPorch</th>          <td>    0.0026</td> <td>    0.003</td> <td>    0.984</td> <td> 0.325</td> <td>   -0.003</td> <td>    0.008</td>\n",
       "</tr>\n",
       "<tr>\n",
       "  <th>PoolArea</th>             <td>    0.0052</td> <td>    0.011</td> <td>    0.464</td> <td> 0.643</td> <td>   -0.017</td> <td>    0.027</td>\n",
       "</tr>\n",
       "<tr>\n",
       "  <th>PoolQC</th>               <td>   -0.5742</td> <td>    1.674</td> <td>   -0.343</td> <td> 0.732</td> <td>   -3.857</td> <td>    2.709</td>\n",
       "</tr>\n",
       "<tr>\n",
       "  <th>MiscVal</th>              <td>   -0.0003</td> <td>    0.001</td> <td>   -0.312</td> <td> 0.755</td> <td>   -0.002</td> <td>    0.001</td>\n",
       "</tr>\n",
       "<tr>\n",
       "  <th>MoSold</th>               <td>    0.0770</td> <td>    0.052</td> <td>    1.482</td> <td> 0.139</td> <td>   -0.025</td> <td>    0.179</td>\n",
       "</tr>\n",
       "<tr>\n",
       "  <th>YrSold</th>               <td>   -0.0341</td> <td>    0.107</td> <td>   -0.318</td> <td> 0.750</td> <td>   -0.245</td> <td>    0.176</td>\n",
       "</tr>\n",
       "<tr>\n",
       "  <th>Privacy</th>              <td>    0.1299</td> <td>    0.316</td> <td>    0.411</td> <td> 0.681</td> <td>   -0.491</td> <td>    0.751</td>\n",
       "</tr>\n",
       "<tr>\n",
       "  <th>Wood</th>                 <td>   -0.2528</td> <td>    0.370</td> <td>   -0.683</td> <td> 0.495</td> <td>   -0.979</td> <td>    0.473</td>\n",
       "</tr>\n",
       "<tr>\n",
       "  <th>Condition Artery</th>     <td>   -1.3985</td> <td>    0.846</td> <td>   -1.653</td> <td> 0.099</td> <td>   -3.058</td> <td>    0.261</td>\n",
       "</tr>\n",
       "<tr>\n",
       "  <th>Condition Feedr</th>      <td>    0.2451</td> <td>    0.642</td> <td>    0.382</td> <td> 0.703</td> <td>   -1.014</td> <td>    1.505</td>\n",
       "</tr>\n",
       "<tr>\n",
       "  <th>Condition Norm</th>       <td>    1.6990</td> <td>    1.660</td> <td>    1.023</td> <td> 0.306</td> <td>   -1.558</td> <td>    4.956</td>\n",
       "</tr>\n",
       "<tr>\n",
       "  <th>Condition PosA</th>       <td>   -1.8819</td> <td>    1.806</td> <td>   -1.042</td> <td> 0.298</td> <td>   -5.425</td> <td>    1.661</td>\n",
       "</tr>\n",
       "<tr>\n",
       "  <th>Condition PosN</th>       <td>    0.1058</td> <td>    1.265</td> <td>    0.084</td> <td> 0.933</td> <td>   -2.376</td> <td>    2.587</td>\n",
       "</tr>\n",
       "<tr>\n",
       "  <th>Condition RRAe</th>       <td>   -4.7445</td> <td>    1.625</td> <td>   -2.919</td> <td> 0.004</td> <td>   -7.933</td> <td>   -1.556</td>\n",
       "</tr>\n",
       "<tr>\n",
       "  <th>Condition RRAn</th>       <td>   -1.4555</td> <td>    1.119</td> <td>   -1.300</td> <td> 0.194</td> <td>   -3.651</td> <td>    0.740</td>\n",
       "</tr>\n",
       "<tr>\n",
       "  <th>Condition RRNe</th>       <td>    1.9724</td> <td>    3.734</td> <td>    0.528</td> <td> 0.597</td> <td>   -5.353</td> <td>    9.297</td>\n",
       "</tr>\n",
       "<tr>\n",
       "  <th>Condition RRNn</th>       <td>    2.2556</td> <td>    2.228</td> <td>    1.012</td> <td> 0.311</td> <td>   -2.115</td> <td>    6.626</td>\n",
       "</tr>\n",
       "<tr>\n",
       "  <th>Exterior AsbShng</th>     <td>    1.5884</td> <td>    1.292</td> <td>    1.229</td> <td> 0.219</td> <td>   -0.947</td> <td>    4.123</td>\n",
       "</tr>\n",
       "<tr>\n",
       "  <th>Exterior AsphShn</th>     <td>   -1.2038</td> <td>    3.064</td> <td>   -0.393</td> <td> 0.694</td> <td>   -7.215</td> <td>    4.807</td>\n",
       "</tr>\n",
       "<tr>\n",
       "  <th>Exterior Brk</th>         <td>   12.2300</td> <td>    1.748</td> <td>    6.995</td> <td> 0.000</td> <td>    8.800</td> <td>   15.660</td>\n",
       "</tr>\n",
       "<tr>\n",
       "  <th>Exterior BrkComm</th>     <td>  -24.0703</td> <td>    5.165</td> <td>   -4.660</td> <td> 0.000</td> <td>  -34.204</td> <td>  -13.937</td>\n",
       "</tr>\n",
       "<tr>\n",
       "  <th>Exterior BrkFace</th>     <td>    2.4893</td> <td>    0.895</td> <td>    2.780</td> <td> 0.006</td> <td>    0.733</td> <td>    4.246</td>\n",
       "</tr>\n",
       "<tr>\n",
       "  <th>Exterior CBlock</th>      <td>    6.2061</td> <td>    5.368</td> <td>    1.156</td> <td> 0.248</td> <td>   -4.325</td> <td>   16.737</td>\n",
       "</tr>\n",
       "<tr>\n",
       "  <th>Exterior CemntBd</th>     <td>   -9.5417</td> <td>    3.195</td> <td>   -2.987</td> <td> 0.003</td> <td>  -15.809</td> <td>   -3.275</td>\n",
       "</tr>\n",
       "<tr>\n",
       "  <th>Exterior CmentBd</th>     <td>   10.7998</td> <td>    3.218</td> <td>    3.356</td> <td> 0.001</td> <td>    4.487</td> <td>   17.112</td>\n",
       "</tr>\n",
       "<tr>\n",
       "  <th>Exterior Cmn</th>         <td>   12.2300</td> <td>    1.748</td> <td>    6.995</td> <td> 0.000</td> <td>    8.800</td> <td>   15.660</td>\n",
       "</tr>\n",
       "<tr>\n",
       "  <th>Exterior HdBoard</th>     <td>    0.6245</td> <td>    0.752</td> <td>    0.830</td> <td> 0.407</td> <td>   -0.851</td> <td>    2.100</td>\n",
       "</tr>\n",
       "<tr>\n",
       "  <th>Exterior ImStucc</th>     <td>    1.2168</td> <td>    1.727</td> <td>    0.705</td> <td> 0.481</td> <td>   -2.171</td> <td>    4.605</td>\n",
       "</tr>\n",
       "<tr>\n",
       "  <th>Exterior MetalSd</th>     <td>    1.9645</td> <td>    0.803</td> <td>    2.446</td> <td> 0.015</td> <td>    0.389</td> <td>    3.540</td>\n",
       "</tr>\n",
       "<tr>\n",
       "  <th>Exterior Other</th>       <td>   -2.3701</td> <td>    5.218</td> <td>   -0.454</td> <td> 0.650</td> <td>  -12.607</td> <td>    7.867</td>\n",
       "</tr>\n",
       "<tr>\n",
       "  <th>Exterior Plywood</th>     <td>   -0.1326</td> <td>    0.706</td> <td>   -0.188</td> <td> 0.851</td> <td>   -1.518</td> <td>    1.253</td>\n",
       "</tr>\n",
       "<tr>\n",
       "  <th>Exterior Sdng</th>        <td>   -2.9103</td> <td>    2.273</td> <td>   -1.281</td> <td> 0.201</td> <td>   -7.369</td> <td>    1.548</td>\n",
       "</tr>\n",
       "<tr>\n",
       "  <th>Exterior Shng</th>        <td>   -1.0358</td> <td>    1.806</td> <td>   -0.574</td> <td> 0.566</td> <td>   -4.578</td> <td>    2.507</td>\n",
       "</tr>\n",
       "<tr>\n",
       "  <th>Exterior Stone</th>       <td>   -1.3348</td> <td>    2.242</td> <td>   -0.595</td> <td> 0.552</td> <td>   -5.732</td> <td>    3.063</td>\n",
       "</tr>\n",
       "<tr>\n",
       "  <th>Exterior Stucco</th>      <td>    2.1322</td> <td>    1.189</td> <td>    1.794</td> <td> 0.073</td> <td>   -0.200</td> <td>    4.464</td>\n",
       "</tr>\n",
       "<tr>\n",
       "  <th>Exterior VinylSd</th>     <td>    0.5837</td> <td>    0.814</td> <td>    0.717</td> <td> 0.473</td> <td>   -1.013</td> <td>    2.180</td>\n",
       "</tr>\n",
       "<tr>\n",
       "  <th>Exterior Wd</th>          <td>    3.7663</td> <td>    2.241</td> <td>    1.681</td> <td> 0.093</td> <td>   -0.630</td> <td>    8.163</td>\n",
       "</tr>\n",
       "<tr>\n",
       "  <th>Exterior WdShing</th>     <td>   -1.1083</td> <td>    1.416</td> <td>   -0.782</td> <td> 0.434</td> <td>   -3.887</td> <td>    1.670</td>\n",
       "</tr>\n",
       "<tr>\n",
       "  <th>MiscFeature_Gar2</th>     <td>    2.2018</td> <td>   10.991</td> <td>    0.200</td> <td> 0.841</td> <td>  -19.361</td> <td>   23.765</td>\n",
       "</tr>\n",
       "<tr>\n",
       "  <th>MiscFeature_Othr</th>     <td>   -2.2433</td> <td>    4.023</td> <td>   -0.558</td> <td> 0.577</td> <td>  -10.135</td> <td>    5.648</td>\n",
       "</tr>\n",
       "<tr>\n",
       "  <th>MiscFeature_Shed</th>     <td>    0.2490</td> <td>    0.981</td> <td>    0.254</td> <td> 0.800</td> <td>   -1.675</td> <td>    2.173</td>\n",
       "</tr>\n",
       "<tr>\n",
       "  <th>MiscFeature_TenC</th>     <td>   -3.7731</td> <td>    6.304</td> <td>   -0.599</td> <td> 0.550</td> <td>  -16.139</td> <td>    8.593</td>\n",
       "</tr>\n",
       "<tr>\n",
       "  <th>GarageType_2Types</th>    <td>   -5.6273</td> <td>    3.141</td> <td>   -1.791</td> <td> 0.073</td> <td>  -11.790</td> <td>    0.535</td>\n",
       "</tr>\n",
       "<tr>\n",
       "  <th>GarageType_Attchd</th>    <td>   -3.7200</td> <td>    2.227</td> <td>   -1.671</td> <td> 0.095</td> <td>   -8.088</td> <td>    0.648</td>\n",
       "</tr>\n",
       "<tr>\n",
       "  <th>GarageType_Basment</th>   <td>   -3.1473</td> <td>    2.514</td> <td>   -1.252</td> <td> 0.211</td> <td>   -8.079</td> <td>    1.785</td>\n",
       "</tr>\n",
       "<tr>\n",
       "  <th>GarageType_BuiltIn</th>   <td>   -2.8334</td> <td>    2.326</td> <td>   -1.218</td> <td> 0.223</td> <td>   -7.397</td> <td>    1.730</td>\n",
       "</tr>\n",
       "<tr>\n",
       "  <th>GarageType_CarPort</th>   <td>   -5.2135</td> <td>    2.769</td> <td>   -1.883</td> <td> 0.060</td> <td>  -10.646</td> <td>    0.219</td>\n",
       "</tr>\n",
       "<tr>\n",
       "  <th>GarageType_Detchd</th>    <td>   -1.7866</td> <td>    2.183</td> <td>   -0.818</td> <td> 0.413</td> <td>   -6.070</td> <td>    2.497</td>\n",
       "</tr>\n",
       "<tr>\n",
       "  <th>MasVnrType_BrkFace</th>   <td>   -0.0102</td> <td>    1.423</td> <td>   -0.007</td> <td> 0.994</td> <td>   -2.802</td> <td>    2.781</td>\n",
       "</tr>\n",
       "<tr>\n",
       "  <th>MasVnrType_None</th>      <td>   -0.1549</td> <td>    1.437</td> <td>   -0.108</td> <td> 0.914</td> <td>   -2.974</td> <td>    2.664</td>\n",
       "</tr>\n",
       "<tr>\n",
       "  <th>MasVnrType_Stone</th>     <td>    1.5340</td> <td>    1.512</td> <td>    1.015</td> <td> 0.310</td> <td>   -1.432</td> <td>    4.499</td>\n",
       "</tr>\n",
       "<tr>\n",
       "  <th>MSZoning_FV</th>          <td>    9.6123</td> <td>    2.503</td> <td>    3.840</td> <td> 0.000</td> <td>    4.702</td> <td>   14.523</td>\n",
       "</tr>\n",
       "<tr>\n",
       "  <th>MSZoning_RH</th>          <td>    5.0871</td> <td>    2.503</td> <td>    2.033</td> <td> 0.042</td> <td>    0.177</td> <td>    9.997</td>\n",
       "</tr>\n",
       "<tr>\n",
       "  <th>MSZoning_RL</th>          <td>    2.4561</td> <td>    2.103</td> <td>    1.168</td> <td> 0.243</td> <td>   -1.670</td> <td>    6.582</td>\n",
       "</tr>\n",
       "<tr>\n",
       "  <th>MSZoning_RM</th>          <td>    4.2178</td> <td>    1.962</td> <td>    2.150</td> <td> 0.032</td> <td>    0.369</td> <td>    8.067</td>\n",
       "</tr>\n",
       "<tr>\n",
       "  <th>Street_Pave</th>          <td>   -2.1381</td> <td>    2.457</td> <td>   -0.870</td> <td> 0.384</td> <td>   -6.958</td> <td>    2.681</td>\n",
       "</tr>\n",
       "<tr>\n",
       "  <th>LandContour_HLS</th>      <td>    2.3368</td> <td>    1.074</td> <td>    2.176</td> <td> 0.030</td> <td>    0.230</td> <td>    4.443</td>\n",
       "</tr>\n",
       "<tr>\n",
       "  <th>LandContour_Low</th>      <td>   -1.2479</td> <td>    1.303</td> <td>   -0.958</td> <td> 0.338</td> <td>   -3.804</td> <td>    1.309</td>\n",
       "</tr>\n",
       "<tr>\n",
       "  <th>LandContour_Lvl</th>      <td>    0.1522</td> <td>    0.759</td> <td>    0.200</td> <td> 0.841</td> <td>   -1.337</td> <td>    1.642</td>\n",
       "</tr>\n",
       "<tr>\n",
       "  <th>LotConfig_CulDSac</th>    <td>   -0.8554</td> <td>    0.687</td> <td>   -1.245</td> <td> 0.213</td> <td>   -2.203</td> <td>    0.492</td>\n",
       "</tr>\n",
       "<tr>\n",
       "  <th>LotConfig_FR2</th>        <td>   -2.5318</td> <td>    0.857</td> <td>   -2.954</td> <td> 0.003</td> <td>   -4.213</td> <td>   -0.850</td>\n",
       "</tr>\n",
       "<tr>\n",
       "  <th>LotConfig_FR3</th>        <td>   -5.5641</td> <td>    2.684</td> <td>   -2.073</td> <td> 0.038</td> <td>  -10.830</td> <td>   -0.298</td>\n",
       "</tr>\n",
       "<tr>\n",
       "  <th>LotConfig_Inside</th>     <td>    0.4171</td> <td>    0.371</td> <td>    1.123</td> <td> 0.262</td> <td>   -0.311</td> <td>    1.145</td>\n",
       "</tr>\n",
       "<tr>\n",
       "  <th>Neighborhood_Blueste</th> <td>   23.0749</td> <td>    4.110</td> <td>    5.614</td> <td> 0.000</td> <td>   15.011</td> <td>   31.138</td>\n",
       "</tr>\n",
       "<tr>\n",
       "  <th>Neighborhood_BrDale</th>  <td>   -6.8413</td> <td>    2.329</td> <td>   -2.938</td> <td> 0.003</td> <td>  -11.410</td> <td>   -2.273</td>\n",
       "</tr>\n",
       "<tr>\n",
       "  <th>Neighborhood_BrkSide</th> <td>  -18.8141</td> <td>    1.961</td> <td>   -9.593</td> <td> 0.000</td> <td>  -22.662</td> <td>  -14.967</td>\n",
       "</tr>\n",
       "<tr>\n",
       "  <th>Neighborhood_ClearCr</th> <td>  -21.2384</td> <td>    1.927</td> <td>  -11.024</td> <td> 0.000</td> <td>  -25.018</td> <td>  -17.459</td>\n",
       "</tr>\n",
       "<tr>\n",
       "  <th>Neighborhood_CollgCr</th> <td>  -21.5587</td> <td>    1.552</td> <td>  -13.892</td> <td> 0.000</td> <td>  -24.603</td> <td>  -18.514</td>\n",
       "</tr>\n",
       "<tr>\n",
       "  <th>Neighborhood_Crawfor</th> <td>  -19.7751</td> <td>    1.821</td> <td>  -10.861</td> <td> 0.000</td> <td>  -23.347</td> <td>  -16.203</td>\n",
       "</tr>\n",
       "<tr>\n",
       "  <th>Neighborhood_Edwards</th> <td>  -22.7434</td> <td>    1.709</td> <td>  -13.304</td> <td> 0.000</td> <td>  -26.097</td> <td>  -19.390</td>\n",
       "</tr>\n",
       "<tr>\n",
       "  <th>Neighborhood_Gilbert</th> <td>  -22.6807</td> <td>    1.646</td> <td>  -13.775</td> <td> 0.000</td> <td>  -25.911</td> <td>  -19.451</td>\n",
       "</tr>\n",
       "<tr>\n",
       "  <th>Neighborhood_IDOTRR</th>  <td>  -21.3453</td> <td>    2.254</td> <td>   -9.472</td> <td> 0.000</td> <td>  -25.766</td> <td>  -16.924</td>\n",
       "</tr>\n",
       "<tr>\n",
       "  <th>Neighborhood_MeadowV</th> <td>  -13.3942</td> <td>    2.385</td> <td>   -5.616</td> <td> 0.000</td> <td>  -18.073</td> <td>   -8.715</td>\n",
       "</tr>\n",
       "<tr>\n",
       "  <th>Neighborhood_Mitchel</th> <td>  -22.8853</td> <td>    1.738</td> <td>  -13.169</td> <td> 0.000</td> <td>  -26.294</td> <td>  -19.476</td>\n",
       "</tr>\n",
       "<tr>\n",
       "  <th>Neighborhood_NAmes</th>   <td>  -21.9082</td> <td>    1.667</td> <td>  -13.142</td> <td> 0.000</td> <td>  -25.179</td> <td>  -18.638</td>\n",
       "</tr>\n",
       "<tr>\n",
       "  <th>Neighborhood_NPkVill</th> <td>  -20.7601</td> <td>    3.013</td> <td>   -6.891</td> <td> 0.000</td> <td>  -26.670</td> <td>  -14.850</td>\n",
       "</tr>\n",
       "<tr>\n",
       "  <th>Neighborhood_NWAmes</th>  <td>  -22.7934</td> <td>    1.701</td> <td>  -13.401</td> <td> 0.000</td> <td>  -26.130</td> <td>  -19.457</td>\n",
       "</tr>\n",
       "<tr>\n",
       "  <th>Neighborhood_NoRidge</th> <td>  -19.5154</td> <td>    1.789</td> <td>  -10.906</td> <td> 0.000</td> <td>  -23.026</td> <td>  -16.005</td>\n",
       "</tr>\n",
       "<tr>\n",
       "  <th>Neighborhood_NridgHt</th> <td>  -19.7508</td> <td>    1.583</td> <td>  -12.479</td> <td> 0.000</td> <td>  -22.856</td> <td>  -16.646</td>\n",
       "</tr>\n",
       "<tr>\n",
       "  <th>Neighborhood_OldTown</th> <td>  -20.0425</td> <td>    2.033</td> <td>   -9.857</td> <td> 0.000</td> <td>  -24.031</td> <td>  -16.054</td>\n",
       "</tr>\n",
       "<tr>\n",
       "  <th>Neighborhood_SWISU</th>   <td>  -19.1359</td> <td>    2.067</td> <td>   -9.257</td> <td> 0.000</td> <td>  -23.191</td> <td>  -15.081</td>\n",
       "</tr>\n",
       "<tr>\n",
       "  <th>Neighborhood_Sawyer</th>  <td>  -21.6579</td> <td>    1.738</td> <td>  -12.460</td> <td> 0.000</td> <td>  -25.068</td> <td>  -18.248</td>\n",
       "</tr>\n",
       "<tr>\n",
       "  <th>Neighborhood_SawyerW</th> <td>  -23.3722</td> <td>    1.668</td> <td>  -14.010</td> <td> 0.000</td> <td>  -26.645</td> <td>  -20.100</td>\n",
       "</tr>\n",
       "<tr>\n",
       "  <th>Neighborhood_Somerst</th> <td>  -20.2790</td> <td>    1.926</td> <td>  -10.527</td> <td> 0.000</td> <td>  -24.058</td> <td>  -16.500</td>\n",
       "</tr>\n",
       "<tr>\n",
       "  <th>Neighborhood_StoneBr</th> <td>  -15.3911</td> <td>    1.785</td> <td>   -8.621</td> <td> 0.000</td> <td>  -18.894</td> <td>  -11.889</td>\n",
       "</tr>\n",
       "<tr>\n",
       "  <th>Neighborhood_Timber</th>  <td>  -22.0792</td> <td>    1.731</td> <td>  -12.756</td> <td> 0.000</td> <td>  -25.475</td> <td>  -18.684</td>\n",
       "</tr>\n",
       "<tr>\n",
       "  <th>Neighborhood_Veenker</th> <td>  -24.7953</td> <td>    2.206</td> <td>  -11.239</td> <td> 0.000</td> <td>  -29.123</td> <td>  -20.467</td>\n",
       "</tr>\n",
       "<tr>\n",
       "  <th>BldgType_2fmCon</th>      <td>   -1.5035</td> <td>    1.195</td> <td>   -1.258</td> <td> 0.209</td> <td>   -3.848</td> <td>    0.841</td>\n",
       "</tr>\n",
       "<tr>\n",
       "  <th>BldgType_Duplex</th>      <td>   -1.3000</td> <td>    1.262</td> <td>   -1.030</td> <td> 0.303</td> <td>   -3.776</td> <td>    1.176</td>\n",
       "</tr>\n",
       "<tr>\n",
       "  <th>BldgType_Twnhs</th>       <td>   24.8907</td> <td>    1.168</td> <td>   21.313</td> <td> 0.000</td> <td>   22.600</td> <td>   27.182</td>\n",
       "</tr>\n",
       "<tr>\n",
       "  <th>BldgType_TwnhsE</th>      <td>   12.2462</td> <td>    0.793</td> <td>   15.437</td> <td> 0.000</td> <td>   10.690</td> <td>   13.802</td>\n",
       "</tr>\n",
       "<tr>\n",
       "  <th>Foundation_CBlock</th>    <td>    0.8398</td> <td>    0.652</td> <td>    1.288</td> <td> 0.198</td> <td>   -0.440</td> <td>    2.119</td>\n",
       "</tr>\n",
       "<tr>\n",
       "  <th>Foundation_PConc</th>     <td>    1.4402</td> <td>    0.720</td> <td>    2.000</td> <td> 0.046</td> <td>    0.028</td> <td>    2.853</td>\n",
       "</tr>\n",
       "<tr>\n",
       "  <th>Foundation_Slab</th>      <td>    2.9961</td> <td>    1.758</td> <td>    1.704</td> <td> 0.089</td> <td>   -0.453</td> <td>    6.446</td>\n",
       "</tr>\n",
       "<tr>\n",
       "  <th>Foundation_Stone</th>     <td>    2.2101</td> <td>    2.233</td> <td>    0.990</td> <td> 0.322</td> <td>   -2.170</td> <td>    6.590</td>\n",
       "</tr>\n",
       "<tr>\n",
       "  <th>Foundation_Wood</th>      <td>   -1.4088</td> <td>    3.189</td> <td>   -0.442</td> <td> 0.659</td> <td>   -7.666</td> <td>    4.848</td>\n",
       "</tr>\n",
       "</table>\n",
       "<table class=\"simpletable\">\n",
       "<tr>\n",
       "  <th>Omnibus:</th>       <td>447.097</td> <th>  Durbin-Watson:     </th> <td>   2.013</td>\n",
       "</tr>\n",
       "<tr>\n",
       "  <th>Prob(Omnibus):</th> <td> 0.000</td>  <th>  Jarque-Bera (JB):  </th> <td>4247.910</td>\n",
       "</tr>\n",
       "<tr>\n",
       "  <th>Skew:</th>          <td> 1.144</td>  <th>  Prob(JB):          </th> <td>    0.00</td>\n",
       "</tr>\n",
       "<tr>\n",
       "  <th>Kurtosis:</th>      <td>11.037</td>  <th>  Cond. No.          </th> <td>1.31e+16</td>\n",
       "</tr>\n",
       "</table><br/><br/>Warnings:<br/>[1] Standard Errors assume that the covariance matrix of the errors is correctly specified.<br/>[2] The smallest eigenvalue is 1.86e-21. This might indicate that there are<br/>strong multicollinearity problems or that the design matrix is singular."
      ],
      "text/plain": [
       "<class 'statsmodels.iolib.summary.Summary'>\n",
       "\"\"\"\n",
       "                            OLS Regression Results                            \n",
       "==============================================================================\n",
       "Dep. Variable:                PriceSF   R-squared:                       0.851\n",
       "Model:                            OLS   Adj. R-squared:                  0.835\n",
       "Method:                 Least Squares   F-statistic:                     53.84\n",
       "Date:                Tue, 29 Sep 2020   Prob (F-statistic):               0.00\n",
       "Time:                        17:24:27   Log-Likelihood:                -4355.4\n",
       "No. Observations:                1460   AIC:                             8993.\n",
       "Df Residuals:                    1319   BIC:                             9738.\n",
       "Df Model:                         140                                         \n",
       "Covariance Type:            nonrobust                                         \n",
       "========================================================================================\n",
       "                           coef    std err          t      P>|t|      [0.025      0.975]\n",
       "----------------------------------------------------------------------------------------\n",
       "const                  -42.5977    218.701     -0.195      0.846    -471.638     386.443\n",
       "LotFrontage             -0.0264      0.005     -5.573      0.000      -0.036      -0.017\n",
       "LotArea                 -0.0002   1.85e-05    -12.793      0.000      -0.000      -0.000\n",
       "LotShape                -1.6000      0.291     -5.503      0.000      -2.170      -1.030\n",
       "LandSlope                1.5925      0.702      2.268      0.023       0.215       2.970\n",
       "OverallQual              0.7656      0.206      3.721      0.000       0.362       1.169\n",
       "OverallCond              0.6699      0.180      3.713      0.000       0.316       1.024\n",
       "YearBuilt                0.0417      0.015      2.775      0.006       0.012       0.071\n",
       "YearRemodAdd             0.0253      0.011      2.239      0.025       0.003       0.048\n",
       "MasVnrArea               0.0017      0.001      1.381      0.168      -0.001       0.004\n",
       "ExterQual                0.2175      0.441      0.493      0.622      -0.647       1.083\n",
       "ExterCond               -0.9297      0.444     -2.095      0.036      -1.800      -0.059\n",
       "BsmtQual                 0.1337      0.352      0.380      0.704      -0.557       0.825\n",
       "BsmtCond                -0.0835      0.440     -0.190      0.850      -0.947       0.780\n",
       "BsmtExposure             0.1529      0.167      0.918      0.359      -0.174       0.480\n",
       "BsmtFinType1             0.3554      0.136      2.610      0.009       0.088       0.622\n",
       "BsmtFinSF1               0.0006      0.001      1.179      0.238      -0.000       0.002\n",
       "BsmtFinType2            -0.2914      0.366     -0.797      0.425      -1.009       0.426\n",
       "BsmtFinSF2               0.0007      0.001      0.651      0.515      -0.001       0.003\n",
       "BsmtUnfSF               -0.0002      0.001     -0.431      0.667      -0.001       0.001\n",
       "TotalBsmtSF              0.0012      0.001      1.640      0.101      -0.000       0.003\n",
       "HeatingQC                0.4574      0.200      2.282      0.023       0.064       0.851\n",
       "CentralAir               0.0671      0.717      0.094      0.925      -1.339       1.473\n",
       "1stFlrSF                 0.0010      0.001      1.009      0.313      -0.001       0.003\n",
       "2ndFlrSF                 0.0015      0.001      1.684      0.092      -0.000       0.003\n",
       "LowQualFinSF            -0.0015      0.002     -0.639      0.523      -0.006       0.003\n",
       "GrLivArea                0.0011      0.001      1.144      0.253      -0.001       0.003\n",
       "BsmtFullBath             0.6829      0.414      1.651      0.099      -0.129       1.494\n",
       "BsmtHalfBath             0.7886      0.632      1.247      0.213      -0.452       2.029\n",
       "FullBath                 1.2458      0.457      2.724      0.007       0.349       2.143\n",
       "HalfBath                 0.8598      0.432      1.990      0.047       0.012       1.708\n",
       "BedroomAbvGr             0.0619      0.281      0.220      0.826      -0.489       0.613\n",
       "KitchenAbvGr             0.4922      1.133      0.434      0.664      -1.731       2.715\n",
       "KitchenQual              0.5290      0.343      1.540      0.124      -0.145       1.203\n",
       "TotRmsAbvGrd            -0.2201      0.199     -1.105      0.269      -0.611       0.171\n",
       "Functional              -0.4670      0.230     -2.035      0.042      -0.917      -0.017\n",
       "Fireplaces              -0.0493      0.468     -0.105      0.916      -0.967       0.868\n",
       "FireplaceQu              0.0415      0.170      0.245      0.807      -0.291       0.374\n",
       "GarageFinish             0.1380      0.256      0.539      0.590      -0.364       0.640\n",
       "GarageCars               1.1143      0.471      2.365      0.018       0.190       2.039\n",
       "GarageArea              -0.0050      0.002     -3.141      0.002      -0.008      -0.002\n",
       "GarageQual               0.2809      0.763      0.368      0.713      -1.216       1.777\n",
       "GarageCond               0.5092      0.794      0.641      0.522      -1.049       2.067\n",
       "PavedDrive               1.2478      0.616      2.024      0.043       0.039       2.457\n",
       "WoodDeckSF              -0.0020      0.001     -1.629      0.104      -0.004       0.000\n",
       "OpenPorchSF             -0.0028      0.002     -1.184      0.236      -0.007       0.002\n",
       "EnclosedPorch           -0.0016      0.003     -0.630      0.529      -0.007       0.003\n",
       "3SsnPorch               -0.0016      0.005     -0.331      0.741      -0.011       0.008\n",
       "ScreenPorch              0.0026      0.003      0.984      0.325      -0.003       0.008\n",
       "PoolArea                 0.0052      0.011      0.464      0.643      -0.017       0.027\n",
       "PoolQC                  -0.5742      1.674     -0.343      0.732      -3.857       2.709\n",
       "MiscVal                 -0.0003      0.001     -0.312      0.755      -0.002       0.001\n",
       "MoSold                   0.0770      0.052      1.482      0.139      -0.025       0.179\n",
       "YrSold                  -0.0341      0.107     -0.318      0.750      -0.245       0.176\n",
       "Privacy                  0.1299      0.316      0.411      0.681      -0.491       0.751\n",
       "Wood                    -0.2528      0.370     -0.683      0.495      -0.979       0.473\n",
       "Condition Artery        -1.3985      0.846     -1.653      0.099      -3.058       0.261\n",
       "Condition Feedr          0.2451      0.642      0.382      0.703      -1.014       1.505\n",
       "Condition Norm           1.6990      1.660      1.023      0.306      -1.558       4.956\n",
       "Condition PosA          -1.8819      1.806     -1.042      0.298      -5.425       1.661\n",
       "Condition PosN           0.1058      1.265      0.084      0.933      -2.376       2.587\n",
       "Condition RRAe          -4.7445      1.625     -2.919      0.004      -7.933      -1.556\n",
       "Condition RRAn          -1.4555      1.119     -1.300      0.194      -3.651       0.740\n",
       "Condition RRNe           1.9724      3.734      0.528      0.597      -5.353       9.297\n",
       "Condition RRNn           2.2556      2.228      1.012      0.311      -2.115       6.626\n",
       "Exterior AsbShng         1.5884      1.292      1.229      0.219      -0.947       4.123\n",
       "Exterior AsphShn        -1.2038      3.064     -0.393      0.694      -7.215       4.807\n",
       "Exterior Brk            12.2300      1.748      6.995      0.000       8.800      15.660\n",
       "Exterior BrkComm       -24.0703      5.165     -4.660      0.000     -34.204     -13.937\n",
       "Exterior BrkFace         2.4893      0.895      2.780      0.006       0.733       4.246\n",
       "Exterior CBlock          6.2061      5.368      1.156      0.248      -4.325      16.737\n",
       "Exterior CemntBd        -9.5417      3.195     -2.987      0.003     -15.809      -3.275\n",
       "Exterior CmentBd        10.7998      3.218      3.356      0.001       4.487      17.112\n",
       "Exterior Cmn            12.2300      1.748      6.995      0.000       8.800      15.660\n",
       "Exterior HdBoard         0.6245      0.752      0.830      0.407      -0.851       2.100\n",
       "Exterior ImStucc         1.2168      1.727      0.705      0.481      -2.171       4.605\n",
       "Exterior MetalSd         1.9645      0.803      2.446      0.015       0.389       3.540\n",
       "Exterior Other          -2.3701      5.218     -0.454      0.650     -12.607       7.867\n",
       "Exterior Plywood        -0.1326      0.706     -0.188      0.851      -1.518       1.253\n",
       "Exterior Sdng           -2.9103      2.273     -1.281      0.201      -7.369       1.548\n",
       "Exterior Shng           -1.0358      1.806     -0.574      0.566      -4.578       2.507\n",
       "Exterior Stone          -1.3348      2.242     -0.595      0.552      -5.732       3.063\n",
       "Exterior Stucco          2.1322      1.189      1.794      0.073      -0.200       4.464\n",
       "Exterior VinylSd         0.5837      0.814      0.717      0.473      -1.013       2.180\n",
       "Exterior Wd              3.7663      2.241      1.681      0.093      -0.630       8.163\n",
       "Exterior WdShing        -1.1083      1.416     -0.782      0.434      -3.887       1.670\n",
       "MiscFeature_Gar2         2.2018     10.991      0.200      0.841     -19.361      23.765\n",
       "MiscFeature_Othr        -2.2433      4.023     -0.558      0.577     -10.135       5.648\n",
       "MiscFeature_Shed         0.2490      0.981      0.254      0.800      -1.675       2.173\n",
       "MiscFeature_TenC        -3.7731      6.304     -0.599      0.550     -16.139       8.593\n",
       "GarageType_2Types       -5.6273      3.141     -1.791      0.073     -11.790       0.535\n",
       "GarageType_Attchd       -3.7200      2.227     -1.671      0.095      -8.088       0.648\n",
       "GarageType_Basment      -3.1473      2.514     -1.252      0.211      -8.079       1.785\n",
       "GarageType_BuiltIn      -2.8334      2.326     -1.218      0.223      -7.397       1.730\n",
       "GarageType_CarPort      -5.2135      2.769     -1.883      0.060     -10.646       0.219\n",
       "GarageType_Detchd       -1.7866      2.183     -0.818      0.413      -6.070       2.497\n",
       "MasVnrType_BrkFace      -0.0102      1.423     -0.007      0.994      -2.802       2.781\n",
       "MasVnrType_None         -0.1549      1.437     -0.108      0.914      -2.974       2.664\n",
       "MasVnrType_Stone         1.5340      1.512      1.015      0.310      -1.432       4.499\n",
       "MSZoning_FV              9.6123      2.503      3.840      0.000       4.702      14.523\n",
       "MSZoning_RH              5.0871      2.503      2.033      0.042       0.177       9.997\n",
       "MSZoning_RL              2.4561      2.103      1.168      0.243      -1.670       6.582\n",
       "MSZoning_RM              4.2178      1.962      2.150      0.032       0.369       8.067\n",
       "Street_Pave             -2.1381      2.457     -0.870      0.384      -6.958       2.681\n",
       "LandContour_HLS          2.3368      1.074      2.176      0.030       0.230       4.443\n",
       "LandContour_Low         -1.2479      1.303     -0.958      0.338      -3.804       1.309\n",
       "LandContour_Lvl          0.1522      0.759      0.200      0.841      -1.337       1.642\n",
       "LotConfig_CulDSac       -0.8554      0.687     -1.245      0.213      -2.203       0.492\n",
       "LotConfig_FR2           -2.5318      0.857     -2.954      0.003      -4.213      -0.850\n",
       "LotConfig_FR3           -5.5641      2.684     -2.073      0.038     -10.830      -0.298\n",
       "LotConfig_Inside         0.4171      0.371      1.123      0.262      -0.311       1.145\n",
       "Neighborhood_Blueste    23.0749      4.110      5.614      0.000      15.011      31.138\n",
       "Neighborhood_BrDale     -6.8413      2.329     -2.938      0.003     -11.410      -2.273\n",
       "Neighborhood_BrkSide   -18.8141      1.961     -9.593      0.000     -22.662     -14.967\n",
       "Neighborhood_ClearCr   -21.2384      1.927    -11.024      0.000     -25.018     -17.459\n",
       "Neighborhood_CollgCr   -21.5587      1.552    -13.892      0.000     -24.603     -18.514\n",
       "Neighborhood_Crawfor   -19.7751      1.821    -10.861      0.000     -23.347     -16.203\n",
       "Neighborhood_Edwards   -22.7434      1.709    -13.304      0.000     -26.097     -19.390\n",
       "Neighborhood_Gilbert   -22.6807      1.646    -13.775      0.000     -25.911     -19.451\n",
       "Neighborhood_IDOTRR    -21.3453      2.254     -9.472      0.000     -25.766     -16.924\n",
       "Neighborhood_MeadowV   -13.3942      2.385     -5.616      0.000     -18.073      -8.715\n",
       "Neighborhood_Mitchel   -22.8853      1.738    -13.169      0.000     -26.294     -19.476\n",
       "Neighborhood_NAmes     -21.9082      1.667    -13.142      0.000     -25.179     -18.638\n",
       "Neighborhood_NPkVill   -20.7601      3.013     -6.891      0.000     -26.670     -14.850\n",
       "Neighborhood_NWAmes    -22.7934      1.701    -13.401      0.000     -26.130     -19.457\n",
       "Neighborhood_NoRidge   -19.5154      1.789    -10.906      0.000     -23.026     -16.005\n",
       "Neighborhood_NridgHt   -19.7508      1.583    -12.479      0.000     -22.856     -16.646\n",
       "Neighborhood_OldTown   -20.0425      2.033     -9.857      0.000     -24.031     -16.054\n",
       "Neighborhood_SWISU     -19.1359      2.067     -9.257      0.000     -23.191     -15.081\n",
       "Neighborhood_Sawyer    -21.6579      1.738    -12.460      0.000     -25.068     -18.248\n",
       "Neighborhood_SawyerW   -23.3722      1.668    -14.010      0.000     -26.645     -20.100\n",
       "Neighborhood_Somerst   -20.2790      1.926    -10.527      0.000     -24.058     -16.500\n",
       "Neighborhood_StoneBr   -15.3911      1.785     -8.621      0.000     -18.894     -11.889\n",
       "Neighborhood_Timber    -22.0792      1.731    -12.756      0.000     -25.475     -18.684\n",
       "Neighborhood_Veenker   -24.7953      2.206    -11.239      0.000     -29.123     -20.467\n",
       "BldgType_2fmCon         -1.5035      1.195     -1.258      0.209      -3.848       0.841\n",
       "BldgType_Duplex         -1.3000      1.262     -1.030      0.303      -3.776       1.176\n",
       "BldgType_Twnhs          24.8907      1.168     21.313      0.000      22.600      27.182\n",
       "BldgType_TwnhsE         12.2462      0.793     15.437      0.000      10.690      13.802\n",
       "Foundation_CBlock        0.8398      0.652      1.288      0.198      -0.440       2.119\n",
       "Foundation_PConc         1.4402      0.720      2.000      0.046       0.028       2.853\n",
       "Foundation_Slab          2.9961      1.758      1.704      0.089      -0.453       6.446\n",
       "Foundation_Stone         2.2101      2.233      0.990      0.322      -2.170       6.590\n",
       "Foundation_Wood         -1.4088      3.189     -0.442      0.659      -7.666       4.848\n",
       "==============================================================================\n",
       "Omnibus:                      447.097   Durbin-Watson:                   2.013\n",
       "Prob(Omnibus):                  0.000   Jarque-Bera (JB):             4247.910\n",
       "Skew:                           1.144   Prob(JB):                         0.00\n",
       "Kurtosis:                      11.037   Cond. No.                     1.31e+16\n",
       "==============================================================================\n",
       "\n",
       "Warnings:\n",
       "[1] Standard Errors assume that the covariance matrix of the errors is correctly specified.\n",
       "[2] The smallest eigenvalue is 1.86e-21. This might indicate that there are\n",
       "strong multicollinearity problems or that the design matrix is singular.\n",
       "\"\"\""
      ]
     },
     "execution_count": 322,
     "metadata": {},
     "output_type": "execute_result"
    }
   ],
   "source": [
    "OLS(y, add_constant(X)).fit().summary()"
   ]
  },
  {
   "cell_type": "markdown",
   "metadata": {
    "heading_collapsed": true,
    "hidden": true
   },
   "source": [
    "## P hacking"
   ]
  },
  {
   "cell_type": "code",
   "execution_count": 334,
   "metadata": {
    "hidden": true
   },
   "outputs": [],
   "source": [
    "def foo(col, X, y=y):\n",
    "    if col:\n",
    "        X1=X.drop(col, axis=1).copy()\n",
    "    else:\n",
    "        X1=X\n",
    "    display(OLS(y,add_constant(X1)).fit().summary())\n",
    "    return X1"
   ]
  },
  {
   "cell_type": "code",
   "execution_count": 425,
   "metadata": {
    "hidden": true,
    "scrolled": false
   },
   "outputs": [
    {
     "data": {
      "text/html": [
       "<table class=\"simpletable\">\n",
       "<caption>OLS Regression Results</caption>\n",
       "<tr>\n",
       "  <th>Dep. Variable:</th>         <td>PriceSF</td>     <th>  R-squared:         </th> <td>   0.841</td>\n",
       "</tr>\n",
       "<tr>\n",
       "  <th>Model:</th>                   <td>OLS</td>       <th>  Adj. R-squared:    </th> <td>   0.834</td>\n",
       "</tr>\n",
       "<tr>\n",
       "  <th>Method:</th>             <td>Least Squares</td>  <th>  F-statistic:       </th> <td>   132.3</td>\n",
       "</tr>\n",
       "<tr>\n",
       "  <th>Date:</th>             <td>Tue, 29 Sep 2020</td> <th>  Prob (F-statistic):</th>  <td>  0.00</td> \n",
       "</tr>\n",
       "<tr>\n",
       "  <th>Time:</th>                 <td>17:41:45</td>     <th>  Log-Likelihood:    </th> <td> -4404.4</td>\n",
       "</tr>\n",
       "<tr>\n",
       "  <th>No. Observations:</th>      <td>  1460</td>      <th>  AIC:               </th> <td>   8923.</td>\n",
       "</tr>\n",
       "<tr>\n",
       "  <th>Df Residuals:</th>          <td>  1403</td>      <th>  BIC:               </th> <td>   9224.</td>\n",
       "</tr>\n",
       "<tr>\n",
       "  <th>Df Model:</th>              <td>    56</td>      <th>                     </th>     <td> </td>   \n",
       "</tr>\n",
       "<tr>\n",
       "  <th>Covariance Type:</th>      <td>nonrobust</td>    <th>                     </th>     <td> </td>   \n",
       "</tr>\n",
       "</table>\n",
       "<table class=\"simpletable\">\n",
       "<tr>\n",
       "            <td></td>              <th>coef</th>     <th>std err</th>      <th>t</th>      <th>P>|t|</th>  <th>[0.025</th>    <th>0.975]</th>  \n",
       "</tr>\n",
       "<tr>\n",
       "  <th>const</th>                <td> -114.7228</td> <td>   22.558</td> <td>   -5.086</td> <td> 0.000</td> <td> -158.974</td> <td>  -70.472</td>\n",
       "</tr>\n",
       "<tr>\n",
       "  <th>LotFrontage</th>          <td>   -0.0247</td> <td>    0.004</td> <td>   -5.650</td> <td> 0.000</td> <td>   -0.033</td> <td>   -0.016</td>\n",
       "</tr>\n",
       "<tr>\n",
       "  <th>LotArea</th>              <td>   -0.0002</td> <td> 1.72e-05</td> <td>  -14.067</td> <td> 0.000</td> <td>   -0.000</td> <td>   -0.000</td>\n",
       "</tr>\n",
       "<tr>\n",
       "  <th>LotShape</th>             <td>   -1.7942</td> <td>    0.268</td> <td>   -6.700</td> <td> 0.000</td> <td>   -2.320</td> <td>   -1.269</td>\n",
       "</tr>\n",
       "<tr>\n",
       "  <th>LandSlope</th>            <td>    1.3654</td> <td>    0.586</td> <td>    2.328</td> <td> 0.020</td> <td>    0.215</td> <td>    2.516</td>\n",
       "</tr>\n",
       "<tr>\n",
       "  <th>OverallQual</th>          <td>    0.8986</td> <td>    0.183</td> <td>    4.919</td> <td> 0.000</td> <td>    0.540</td> <td>    1.257</td>\n",
       "</tr>\n",
       "<tr>\n",
       "  <th>OverallCond</th>          <td>    0.7792</td> <td>    0.146</td> <td>    5.332</td> <td> 0.000</td> <td>    0.493</td> <td>    1.066</td>\n",
       "</tr>\n",
       "<tr>\n",
       "  <th>YearBuilt</th>            <td>    0.0704</td> <td>    0.011</td> <td>    6.168</td> <td> 0.000</td> <td>    0.048</td> <td>    0.093</td>\n",
       "</tr>\n",
       "<tr>\n",
       "  <th>BsmtFinType1</th>         <td>    0.3920</td> <td>    0.122</td> <td>    3.203</td> <td> 0.001</td> <td>    0.152</td> <td>    0.632</td>\n",
       "</tr>\n",
       "<tr>\n",
       "  <th>BsmtFinSF1</th>           <td>    0.0014</td> <td>    0.000</td> <td>    2.945</td> <td> 0.003</td> <td>    0.000</td> <td>    0.002</td>\n",
       "</tr>\n",
       "<tr>\n",
       "  <th>HeatingQC</th>            <td>    0.5069</td> <td>    0.182</td> <td>    2.790</td> <td> 0.005</td> <td>    0.150</td> <td>    0.863</td>\n",
       "</tr>\n",
       "<tr>\n",
       "  <th>1stFlrSF</th>             <td>    0.0026</td> <td>    0.001</td> <td>    4.579</td> <td> 0.000</td> <td>    0.001</td> <td>    0.004</td>\n",
       "</tr>\n",
       "<tr>\n",
       "  <th>2ndFlrSF</th>             <td>    0.0029</td> <td>    0.000</td> <td>    7.069</td> <td> 0.000</td> <td>    0.002</td> <td>    0.004</td>\n",
       "</tr>\n",
       "<tr>\n",
       "  <th>KitchenQual</th>          <td>    0.7794</td> <td>    0.310</td> <td>    2.512</td> <td> 0.012</td> <td>    0.171</td> <td>    1.388</td>\n",
       "</tr>\n",
       "<tr>\n",
       "  <th>GarageCars</th>           <td>    1.2797</td> <td>    0.430</td> <td>    2.974</td> <td> 0.003</td> <td>    0.436</td> <td>    2.124</td>\n",
       "</tr>\n",
       "<tr>\n",
       "  <th>GarageArea</th>           <td>   -0.0054</td> <td>    0.001</td> <td>   -3.689</td> <td> 0.000</td> <td>   -0.008</td> <td>   -0.003</td>\n",
       "</tr>\n",
       "<tr>\n",
       "  <th>Condition RRAe</th>       <td>   -5.2703</td> <td>    1.541</td> <td>   -3.421</td> <td> 0.001</td> <td>   -8.292</td> <td>   -2.248</td>\n",
       "</tr>\n",
       "<tr>\n",
       "  <th>Exterior Brk</th>         <td>   12.0338</td> <td>    1.724</td> <td>    6.978</td> <td> 0.000</td> <td>    8.651</td> <td>   15.417</td>\n",
       "</tr>\n",
       "<tr>\n",
       "  <th>Exterior BrkComm</th>     <td>  -23.4647</td> <td>    5.011</td> <td>   -4.683</td> <td> 0.000</td> <td>  -33.294</td> <td>  -13.635</td>\n",
       "</tr>\n",
       "<tr>\n",
       "  <th>Exterior BrkFace</th>     <td>    2.1210</td> <td>    0.764</td> <td>    2.776</td> <td> 0.006</td> <td>    0.622</td> <td>    3.620</td>\n",
       "</tr>\n",
       "<tr>\n",
       "  <th>Exterior CemntBd</th>     <td>   -8.4638</td> <td>    3.048</td> <td>   -2.777</td> <td> 0.006</td> <td>  -14.442</td> <td>   -2.485</td>\n",
       "</tr>\n",
       "<tr>\n",
       "  <th>Exterior CmentBd</th>     <td>    9.2469</td> <td>    3.066</td> <td>    3.016</td> <td> 0.003</td> <td>    3.233</td> <td>   15.261</td>\n",
       "</tr>\n",
       "<tr>\n",
       "  <th>Exterior Cmn</th>         <td>   12.0338</td> <td>    1.724</td> <td>    6.978</td> <td> 0.000</td> <td>    8.651</td> <td>   15.417</td>\n",
       "</tr>\n",
       "<tr>\n",
       "  <th>Exterior MetalSd</th>     <td>    1.3507</td> <td>    0.409</td> <td>    3.301</td> <td> 0.001</td> <td>    0.548</td> <td>    2.153</td>\n",
       "</tr>\n",
       "<tr>\n",
       "  <th>Exterior Stucco</th>      <td>    2.1965</td> <td>    0.985</td> <td>    2.230</td> <td> 0.026</td> <td>    0.265</td> <td>    4.128</td>\n",
       "</tr>\n",
       "<tr>\n",
       "  <th>GarageType_Attchd</th>    <td>   -1.2924</td> <td>    0.352</td> <td>   -3.670</td> <td> 0.000</td> <td>   -1.983</td> <td>   -0.602</td>\n",
       "</tr>\n",
       "<tr>\n",
       "  <th>MasVnrType_Stone</th>     <td>    1.6900</td> <td>    0.571</td> <td>    2.958</td> <td> 0.003</td> <td>    0.569</td> <td>    2.811</td>\n",
       "</tr>\n",
       "<tr>\n",
       "  <th>MSZoning_FV</th>          <td>    7.5117</td> <td>    1.367</td> <td>    5.497</td> <td> 0.000</td> <td>    4.831</td> <td>   10.192</td>\n",
       "</tr>\n",
       "<tr>\n",
       "  <th>MSZoning_RM</th>          <td>    2.0661</td> <td>    0.695</td> <td>    2.971</td> <td> 0.003</td> <td>    0.702</td> <td>    3.430</td>\n",
       "</tr>\n",
       "<tr>\n",
       "  <th>LandContour_HLS</th>      <td>    2.6957</td> <td>    0.814</td> <td>    3.310</td> <td> 0.001</td> <td>    1.098</td> <td>    4.293</td>\n",
       "</tr>\n",
       "<tr>\n",
       "  <th>LotConfig_FR2</th>        <td>   -2.5639</td> <td>    0.774</td> <td>   -3.313</td> <td> 0.001</td> <td>   -4.082</td> <td>   -1.046</td>\n",
       "</tr>\n",
       "<tr>\n",
       "  <th>Neighborhood_Blueste</th> <td>   22.3991</td> <td>    3.942</td> <td>    5.681</td> <td> 0.000</td> <td>   14.665</td> <td>   30.133</td>\n",
       "</tr>\n",
       "<tr>\n",
       "  <th>Neighborhood_BrDale</th>  <td>   -6.7485</td> <td>    2.156</td> <td>   -3.130</td> <td> 0.002</td> <td>  -10.977</td> <td>   -2.520</td>\n",
       "</tr>\n",
       "<tr>\n",
       "  <th>Neighborhood_BrkSide</th> <td>  -19.5374</td> <td>    1.816</td> <td>  -10.760</td> <td> 0.000</td> <td>  -23.099</td> <td>  -15.976</td>\n",
       "</tr>\n",
       "<tr>\n",
       "  <th>Neighborhood_ClearCr</th> <td>  -21.8632</td> <td>    1.797</td> <td>  -12.170</td> <td> 0.000</td> <td>  -25.387</td> <td>  -18.339</td>\n",
       "</tr>\n",
       "<tr>\n",
       "  <th>Neighborhood_CollgCr</th> <td>  -21.6908</td> <td>    1.462</td> <td>  -14.832</td> <td> 0.000</td> <td>  -24.560</td> <td>  -18.822</td>\n",
       "</tr>\n",
       "<tr>\n",
       "  <th>Neighborhood_Crawfor</th> <td>  -20.0385</td> <td>    1.700</td> <td>  -11.790</td> <td> 0.000</td> <td>  -23.373</td> <td>  -16.704</td>\n",
       "</tr>\n",
       "<tr>\n",
       "  <th>Neighborhood_Edwards</th> <td>  -23.3159</td> <td>    1.592</td> <td>  -14.648</td> <td> 0.000</td> <td>  -26.438</td> <td>  -20.193</td>\n",
       "</tr>\n",
       "<tr>\n",
       "  <th>Neighborhood_Gilbert</th> <td>  -22.8169</td> <td>    1.556</td> <td>  -14.664</td> <td> 0.000</td> <td>  -25.869</td> <td>  -19.765</td>\n",
       "</tr>\n",
       "<tr>\n",
       "  <th>Neighborhood_IDOTRR</th>  <td>  -22.7647</td> <td>    1.979</td> <td>  -11.502</td> <td> 0.000</td> <td>  -26.647</td> <td>  -18.882</td>\n",
       "</tr>\n",
       "<tr>\n",
       "  <th>Neighborhood_MeadowV</th> <td>  -14.6544</td> <td>    2.230</td> <td>   -6.570</td> <td> 0.000</td> <td>  -19.030</td> <td>  -10.279</td>\n",
       "</tr>\n",
       "<tr>\n",
       "  <th>Neighborhood_Mitchel</th> <td>  -23.8993</td> <td>    1.611</td> <td>  -14.832</td> <td> 0.000</td> <td>  -27.060</td> <td>  -20.739</td>\n",
       "</tr>\n",
       "<tr>\n",
       "  <th>Neighborhood_NAmes</th>   <td>  -22.1019</td> <td>    1.535</td> <td>  -14.401</td> <td> 0.000</td> <td>  -25.113</td> <td>  -19.091</td>\n",
       "</tr>\n",
       "<tr>\n",
       "  <th>Neighborhood_NPkVill</th> <td>  -20.9285</td> <td>    2.864</td> <td>   -7.307</td> <td> 0.000</td> <td>  -26.547</td> <td>  -15.310</td>\n",
       "</tr>\n",
       "<tr>\n",
       "  <th>Neighborhood_NWAmes</th>  <td>  -23.0493</td> <td>    1.571</td> <td>  -14.673</td> <td> 0.000</td> <td>  -26.131</td> <td>  -19.968</td>\n",
       "</tr>\n",
       "<tr>\n",
       "  <th>Neighborhood_NoRidge</th> <td>  -19.2262</td> <td>    1.644</td> <td>  -11.698</td> <td> 0.000</td> <td>  -22.450</td> <td>  -16.002</td>\n",
       "</tr>\n",
       "<tr>\n",
       "  <th>Neighborhood_NridgHt</th> <td>  -19.5273</td> <td>    1.494</td> <td>  -13.072</td> <td> 0.000</td> <td>  -22.458</td> <td>  -16.597</td>\n",
       "</tr>\n",
       "<tr>\n",
       "  <th>Neighborhood_OldTown</th> <td>  -21.2389</td> <td>    1.867</td> <td>  -11.376</td> <td> 0.000</td> <td>  -24.901</td> <td>  -17.577</td>\n",
       "</tr>\n",
       "<tr>\n",
       "  <th>Neighborhood_SWISU</th>   <td>  -18.8713</td> <td>    1.901</td> <td>   -9.927</td> <td> 0.000</td> <td>  -22.600</td> <td>  -15.142</td>\n",
       "</tr>\n",
       "<tr>\n",
       "  <th>Neighborhood_Sawyer</th>  <td>  -22.0702</td> <td>    1.610</td> <td>  -13.708</td> <td> 0.000</td> <td>  -25.228</td> <td>  -18.912</td>\n",
       "</tr>\n",
       "<tr>\n",
       "  <th>Neighborhood_SawyerW</th> <td>  -23.4214</td> <td>    1.534</td> <td>  -15.272</td> <td> 0.000</td> <td>  -26.430</td> <td>  -20.413</td>\n",
       "</tr>\n",
       "<tr>\n",
       "  <th>Neighborhood_Somerst</th> <td>  -20.4965</td> <td>    1.830</td> <td>  -11.198</td> <td> 0.000</td> <td>  -24.087</td> <td>  -16.906</td>\n",
       "</tr>\n",
       "<tr>\n",
       "  <th>Neighborhood_StoneBr</th> <td>  -15.7636</td> <td>    1.680</td> <td>   -9.382</td> <td> 0.000</td> <td>  -19.060</td> <td>  -12.468</td>\n",
       "</tr>\n",
       "<tr>\n",
       "  <th>Neighborhood_Timber</th>  <td>  -22.1459</td> <td>    1.662</td> <td>  -13.323</td> <td> 0.000</td> <td>  -25.407</td> <td>  -18.885</td>\n",
       "</tr>\n",
       "<tr>\n",
       "  <th>Neighborhood_Veenker</th> <td>  -25.2071</td> <td>    2.079</td> <td>  -12.125</td> <td> 0.000</td> <td>  -29.285</td> <td>  -21.129</td>\n",
       "</tr>\n",
       "<tr>\n",
       "  <th>BldgType_Twnhs</th>       <td>   25.4361</td> <td>    1.094</td> <td>   23.254</td> <td> 0.000</td> <td>   23.290</td> <td>   27.582</td>\n",
       "</tr>\n",
       "<tr>\n",
       "  <th>BldgType_TwnhsE</th>      <td>   12.3681</td> <td>    0.717</td> <td>   17.242</td> <td> 0.000</td> <td>   10.961</td> <td>   13.775</td>\n",
       "</tr>\n",
       "<tr>\n",
       "  <th>Foundation_PConc</th>     <td>    0.9404</td> <td>    0.454</td> <td>    2.074</td> <td> 0.038</td> <td>    0.051</td> <td>    1.830</td>\n",
       "</tr>\n",
       "</table>\n",
       "<table class=\"simpletable\">\n",
       "<tr>\n",
       "  <th>Omnibus:</th>       <td>450.649</td> <th>  Durbin-Watson:     </th> <td>   2.013</td>\n",
       "</tr>\n",
       "<tr>\n",
       "  <th>Prob(Omnibus):</th> <td> 0.000</td>  <th>  Jarque-Bera (JB):  </th> <td>4002.171</td>\n",
       "</tr>\n",
       "<tr>\n",
       "  <th>Skew:</th>          <td> 1.177</td>  <th>  Prob(JB):          </th> <td>    0.00</td>\n",
       "</tr>\n",
       "<tr>\n",
       "  <th>Kurtosis:</th>      <td>10.762</td>  <th>  Cond. No.          </th> <td>1.36e+16</td>\n",
       "</tr>\n",
       "</table><br/><br/>Warnings:<br/>[1] Standard Errors assume that the covariance matrix of the errors is correctly specified.<br/>[2] The smallest eigenvalue is 1.7e-21. This might indicate that there are<br/>strong multicollinearity problems or that the design matrix is singular."
      ],
      "text/plain": [
       "<class 'statsmodels.iolib.summary.Summary'>\n",
       "\"\"\"\n",
       "                            OLS Regression Results                            \n",
       "==============================================================================\n",
       "Dep. Variable:                PriceSF   R-squared:                       0.841\n",
       "Model:                            OLS   Adj. R-squared:                  0.834\n",
       "Method:                 Least Squares   F-statistic:                     132.3\n",
       "Date:                Tue, 29 Sep 2020   Prob (F-statistic):               0.00\n",
       "Time:                        17:41:45   Log-Likelihood:                -4404.4\n",
       "No. Observations:                1460   AIC:                             8923.\n",
       "Df Residuals:                    1403   BIC:                             9224.\n",
       "Df Model:                          56                                         \n",
       "Covariance Type:            nonrobust                                         \n",
       "========================================================================================\n",
       "                           coef    std err          t      P>|t|      [0.025      0.975]\n",
       "----------------------------------------------------------------------------------------\n",
       "const                 -114.7228     22.558     -5.086      0.000    -158.974     -70.472\n",
       "LotFrontage             -0.0247      0.004     -5.650      0.000      -0.033      -0.016\n",
       "LotArea                 -0.0002   1.72e-05    -14.067      0.000      -0.000      -0.000\n",
       "LotShape                -1.7942      0.268     -6.700      0.000      -2.320      -1.269\n",
       "LandSlope                1.3654      0.586      2.328      0.020       0.215       2.516\n",
       "OverallQual              0.8986      0.183      4.919      0.000       0.540       1.257\n",
       "OverallCond              0.7792      0.146      5.332      0.000       0.493       1.066\n",
       "YearBuilt                0.0704      0.011      6.168      0.000       0.048       0.093\n",
       "BsmtFinType1             0.3920      0.122      3.203      0.001       0.152       0.632\n",
       "BsmtFinSF1               0.0014      0.000      2.945      0.003       0.000       0.002\n",
       "HeatingQC                0.5069      0.182      2.790      0.005       0.150       0.863\n",
       "1stFlrSF                 0.0026      0.001      4.579      0.000       0.001       0.004\n",
       "2ndFlrSF                 0.0029      0.000      7.069      0.000       0.002       0.004\n",
       "KitchenQual              0.7794      0.310      2.512      0.012       0.171       1.388\n",
       "GarageCars               1.2797      0.430      2.974      0.003       0.436       2.124\n",
       "GarageArea              -0.0054      0.001     -3.689      0.000      -0.008      -0.003\n",
       "Condition RRAe          -5.2703      1.541     -3.421      0.001      -8.292      -2.248\n",
       "Exterior Brk            12.0338      1.724      6.978      0.000       8.651      15.417\n",
       "Exterior BrkComm       -23.4647      5.011     -4.683      0.000     -33.294     -13.635\n",
       "Exterior BrkFace         2.1210      0.764      2.776      0.006       0.622       3.620\n",
       "Exterior CemntBd        -8.4638      3.048     -2.777      0.006     -14.442      -2.485\n",
       "Exterior CmentBd         9.2469      3.066      3.016      0.003       3.233      15.261\n",
       "Exterior Cmn            12.0338      1.724      6.978      0.000       8.651      15.417\n",
       "Exterior MetalSd         1.3507      0.409      3.301      0.001       0.548       2.153\n",
       "Exterior Stucco          2.1965      0.985      2.230      0.026       0.265       4.128\n",
       "GarageType_Attchd       -1.2924      0.352     -3.670      0.000      -1.983      -0.602\n",
       "MasVnrType_Stone         1.6900      0.571      2.958      0.003       0.569       2.811\n",
       "MSZoning_FV              7.5117      1.367      5.497      0.000       4.831      10.192\n",
       "MSZoning_RM              2.0661      0.695      2.971      0.003       0.702       3.430\n",
       "LandContour_HLS          2.6957      0.814      3.310      0.001       1.098       4.293\n",
       "LotConfig_FR2           -2.5639      0.774     -3.313      0.001      -4.082      -1.046\n",
       "Neighborhood_Blueste    22.3991      3.942      5.681      0.000      14.665      30.133\n",
       "Neighborhood_BrDale     -6.7485      2.156     -3.130      0.002     -10.977      -2.520\n",
       "Neighborhood_BrkSide   -19.5374      1.816    -10.760      0.000     -23.099     -15.976\n",
       "Neighborhood_ClearCr   -21.8632      1.797    -12.170      0.000     -25.387     -18.339\n",
       "Neighborhood_CollgCr   -21.6908      1.462    -14.832      0.000     -24.560     -18.822\n",
       "Neighborhood_Crawfor   -20.0385      1.700    -11.790      0.000     -23.373     -16.704\n",
       "Neighborhood_Edwards   -23.3159      1.592    -14.648      0.000     -26.438     -20.193\n",
       "Neighborhood_Gilbert   -22.8169      1.556    -14.664      0.000     -25.869     -19.765\n",
       "Neighborhood_IDOTRR    -22.7647      1.979    -11.502      0.000     -26.647     -18.882\n",
       "Neighborhood_MeadowV   -14.6544      2.230     -6.570      0.000     -19.030     -10.279\n",
       "Neighborhood_Mitchel   -23.8993      1.611    -14.832      0.000     -27.060     -20.739\n",
       "Neighborhood_NAmes     -22.1019      1.535    -14.401      0.000     -25.113     -19.091\n",
       "Neighborhood_NPkVill   -20.9285      2.864     -7.307      0.000     -26.547     -15.310\n",
       "Neighborhood_NWAmes    -23.0493      1.571    -14.673      0.000     -26.131     -19.968\n",
       "Neighborhood_NoRidge   -19.2262      1.644    -11.698      0.000     -22.450     -16.002\n",
       "Neighborhood_NridgHt   -19.5273      1.494    -13.072      0.000     -22.458     -16.597\n",
       "Neighborhood_OldTown   -21.2389      1.867    -11.376      0.000     -24.901     -17.577\n",
       "Neighborhood_SWISU     -18.8713      1.901     -9.927      0.000     -22.600     -15.142\n",
       "Neighborhood_Sawyer    -22.0702      1.610    -13.708      0.000     -25.228     -18.912\n",
       "Neighborhood_SawyerW   -23.4214      1.534    -15.272      0.000     -26.430     -20.413\n",
       "Neighborhood_Somerst   -20.4965      1.830    -11.198      0.000     -24.087     -16.906\n",
       "Neighborhood_StoneBr   -15.7636      1.680     -9.382      0.000     -19.060     -12.468\n",
       "Neighborhood_Timber    -22.1459      1.662    -13.323      0.000     -25.407     -18.885\n",
       "Neighborhood_Veenker   -25.2071      2.079    -12.125      0.000     -29.285     -21.129\n",
       "BldgType_Twnhs          25.4361      1.094     23.254      0.000      23.290      27.582\n",
       "BldgType_TwnhsE         12.3681      0.717     17.242      0.000      10.961      13.775\n",
       "Foundation_PConc         0.9404      0.454      2.074      0.038       0.051       1.830\n",
       "==============================================================================\n",
       "Omnibus:                      450.649   Durbin-Watson:                   2.013\n",
       "Prob(Omnibus):                  0.000   Jarque-Bera (JB):             4002.171\n",
       "Skew:                           1.177   Prob(JB):                         0.00\n",
       "Kurtosis:                      10.762   Cond. No.                     1.36e+16\n",
       "==============================================================================\n",
       "\n",
       "Warnings:\n",
       "[1] Standard Errors assume that the covariance matrix of the errors is correctly specified.\n",
       "[2] The smallest eigenvalue is 1.7e-21. This might indicate that there are\n",
       "strong multicollinearity problems or that the design matrix is singular.\n",
       "\"\"\""
      ]
     },
     "metadata": {},
     "output_type": "display_data"
    }
   ],
   "source": [
    "X=foo('MiscFeature_TenC',X)"
   ]
  },
  {
   "cell_type": "code",
   "execution_count": 426,
   "metadata": {
    "hidden": true
   },
   "outputs": [
    {
     "data": {
      "text/plain": [
       "(1460, 57)"
      ]
     },
     "execution_count": 426,
     "metadata": {},
     "output_type": "execute_result"
    }
   ],
   "source": [
    "X.shape"
   ]
  },
  {
   "cell_type": "code",
   "execution_count": 427,
   "metadata": {
    "hidden": true
   },
   "outputs": [],
   "source": [
    "from Assumptions import Assumption_Tester_OLS as ast"
   ]
  },
  {
   "cell_type": "code",
   "execution_count": 431,
   "metadata": {
    "hidden": true,
    "scrolled": true
   },
   "outputs": [
    {
     "name": "stdout",
     "output_type": "stream",
     "text": [
      "Fitting linear regression\n",
      "\n",
      "R^2: 0.840732125125384 \n",
      "\n",
      "Coefficients\n",
      "-------------------------------------\n",
      "Intercept: -114.7228481078788\n",
      "LotFrontage: -0.02\n",
      "LotArea: -0.0\n",
      "LotShape: -1.79\n",
      "LandSlope: 1.37\n",
      "OverallQual: 0.9\n",
      "OverallCond: 0.78\n",
      "YearBuilt: 0.07\n",
      "BsmtFinType1: 0.39\n",
      "BsmtFinSF1: 0.0\n",
      "HeatingQC: 0.51\n",
      "1stFlrSF: 0.0\n",
      "2ndFlrSF: 0.0\n",
      "KitchenQual: 0.78\n",
      "GarageCars: 1.28\n",
      "GarageArea: -0.01\n",
      "Condition RRAe: -5.27\n",
      "Exterior Brk: 12.03\n",
      "Exterior BrkComm: -23.46\n",
      "Exterior BrkFace: 2.12\n",
      "Exterior CemntBd: -8.46\n",
      "Exterior CmentBd: 9.25\n",
      "Exterior Cmn: 12.03\n",
      "Exterior MetalSd: 1.35\n",
      "Exterior Stucco: 2.2\n",
      "GarageType_Attchd: -1.29\n",
      "MasVnrType_Stone: 1.69\n",
      "MSZoning_FV: 7.51\n",
      "MSZoning_RM: 2.07\n",
      "LandContour_HLS: 2.7\n",
      "LotConfig_FR2: -2.56\n",
      "Neighborhood_Blueste: 22.4\n",
      "Neighborhood_BrDale: -6.75\n",
      "Neighborhood_BrkSide: -19.54\n",
      "Neighborhood_ClearCr: -21.86\n",
      "Neighborhood_CollgCr: -21.69\n",
      "Neighborhood_Crawfor: -20.04\n",
      "Neighborhood_Edwards: -23.32\n",
      "Neighborhood_Gilbert: -22.82\n",
      "Neighborhood_IDOTRR: -22.76\n",
      "Neighborhood_MeadowV: -14.65\n",
      "Neighborhood_Mitchel: -23.9\n",
      "Neighborhood_NAmes: -22.1\n",
      "Neighborhood_NPkVill: -20.93\n",
      "Neighborhood_NWAmes: -23.05\n",
      "Neighborhood_NoRidge: -19.23\n",
      "Neighborhood_NridgHt: -19.53\n",
      "Neighborhood_OldTown: -21.24\n",
      "Neighborhood_SWISU: -18.87\n",
      "Neighborhood_Sawyer: -22.07\n",
      "Neighborhood_SawyerW: -23.42\n",
      "Neighborhood_Somerst: -20.5\n",
      "Neighborhood_StoneBr: -15.76\n",
      "Neighborhood_Timber: -22.15\n",
      "Neighborhood_Veenker: -25.21\n",
      "BldgType_Twnhs: 25.44\n",
      "BldgType_TwnhsE: 12.37\n",
      "Foundation_PConc: 0.94\n",
      "\n",
      "=======================================================================================\n",
      "Assumption 1: Linear Relationship between the Target and the Features\n",
      "Checking with a scatter plot of actual vs. predicted. Predictions should follow the diagonal line.\n"
     ]
    },
    {
     "name": "stderr",
     "output_type": "stream",
     "text": [
      "/home/mauritian/yes/lib/python3.7/site-packages/seaborn/_decorators.py:43: FutureWarning: Pass the following variables as keyword args: x, y. From version 0.12, the only valid positional argument will be `data`, and passing other arguments without an explicit keyword will result in an error or misinterpretation.\n",
      "  FutureWarning\n"
     ]
    },
    {
     "data": {
      "image/png": "[encoded data removed]",
      "text/plain": [
       "<Figure size 432x288 with 1 Axes>"
      ]
     },
     "metadata": {},
     "output_type": "display_data"
    },
    {
     "name": "stdout",
     "output_type": "stream",
     "text": [
      "If non-linearity is apparent, consider adding a polynomial term \n",
      "\t\tor using box-cox transformation to make X or y follow normal distribution\n",
      "\n",
      "\n",
      "\n",
      "Building a correlation table\n",
      "\n",
      "=======================================================================================\n",
      "\n",
      "Parameters that are most likely VIOLATE linearity assumption and their correlation with PriceSF\n"
     ]
    },
    {
     "data": {
      "text/plain": [
       "LotFrontage    -0.179094\n",
       "LotShape       -0.131127\n",
       "LandSlope      -0.109893\n",
       "OverallCond    -0.072174\n",
       "BsmtFinType1    0.223618\n",
       "BsmtFinSF1      0.071860\n",
       "1stFlrSF        0.000885\n",
       "2ndFlrSF        0.137483\n",
       "GarageCars      0.206168\n",
       "GarageArea      0.131596\n",
       "Name: PriceSF, dtype: float64"
      ]
     },
     "metadata": {},
     "output_type": "display_data"
    },
    {
     "name": "stdout",
     "output_type": "stream",
     "text": [
      "\n",
      "Parameters that are most likely FOLLOW linearity assumption and their correlation with PriceSF\n"
     ]
    },
    {
     "data": {
      "text/plain": [
       "LotArea       -0.329131\n",
       "OverallQual    0.377578\n",
       "YearBuilt      0.392159\n",
       "HeatingQC      0.258050\n",
       "KitchenQual    0.341183\n",
       "Name: PriceSF, dtype: float64"
      ]
     },
     "metadata": {},
     "output_type": "display_data"
    },
    {
     "name": "stdout",
     "output_type": "stream",
     "text": [
      "\n",
      "=======================================================================================\n",
      "Assumption 2: Little to no multicollinearity among predictors\n"
     ]
    },
    {
     "data": {
      "image/png": "[encoded data removed]",
      "text/plain": [
       "<Figure size 720x576 with 2 Axes>"
      ]
     },
     "metadata": {},
     "output_type": "display_data"
    },
    {
     "name": "stdout",
     "output_type": "stream",
     "text": [
      "Variance Inflation Factors (VIF)\n",
      "> 10: An indication that multicollinearity may be present\n",
      "> 100: Certain multicollinearity among the variables\n",
      "-------------------------------------\n"
     ]
    },
    {
     "name": "stderr",
     "output_type": "stream",
     "text": [
      "/home/mauritian/yes/lib/python3.7/site-packages/statsmodels/stats/outliers_influence.py:193: RuntimeWarning: divide by zero encountered in double_scalars\n",
      "  vif = 1. / (1. - r_squared_i)\n"
     ]
    },
    {
     "name": "stdout",
     "output_type": "stream",
     "text": [
      "Exterior Brk: inf\n",
      "Exterior Cmn: inf\n",
      "YearBuilt: 243.58042223043972\n",
      "OverallQual: 74.31700313537648\n",
      "KitchenQual: 70.04564599700493\n",
      "GarageCars: 39.10281560431495\n",
      "OverallCond: 37.15465006510364\n",
      "HeatingQC: 33.968876228043854\n",
      "GarageArea: 33.458354027640794\n",
      "1stFlrSF: 26.749084859571067\n",
      "Exterior CemntBd: 22.29201751665983\n",
      "Exterior CmentBd: 22.179622211476175\n",
      "Neighborhood_NAmes: 19.82056138280785\n",
      "Neighborhood_OldTown: 12.968244966482846\n",
      "Neighborhood_CollgCr: 12.552796767390301\n",
      "Neighborhood_Somerst: 11.297298095452572\n",
      "BsmtFinType1: 9.904257381455496\n",
      "Neighborhood_Edwards: 9.361778287122815\n",
      "Neighborhood_Gilbert: 7.50712245567726\n",
      "Neighborhood_Sawyer: 7.255973161088883\n",
      "Neighborhood_NWAmes: 6.984290909577058\n",
      "Neighborhood_NridgHt: 6.717242021098501\n",
      "Neighborhood_BrkSide: 6.5633871975469775\n",
      "Neighborhood_SawyerW: 5.402774204289834\n",
      "Neighborhood_Crawfor: 5.2300780505730735\n",
      "BsmtFinSF1: 5.209548777094435\n",
      "Foundation_PConc: 4.969179277457511\n",
      "LotFrontage: 4.96466841823024\n",
      "Neighborhood_IDOTRR: 4.95382445751775\n",
      "Neighborhood_Mitchel: 4.936162436799189\n",
      "MSZoning_FV: 4.771601224745752\n",
      "Neighborhood_NoRidge: 4.323932533463568\n",
      "GarageType_Attchd: 4.224561541573809\n",
      "MSZoning_RM: 4.110687303742049\n",
      "Neighborhood_Timber: 4.103514934841332\n",
      "LotArea: 3.5211039018474293\n",
      "Neighborhood_ClearCr: 3.462014783326407\n",
      "Neighborhood_MeadowV: 3.252312200609367\n",
      "Neighborhood_SWISU: 3.0840047351295063\n",
      "2ndFlrSF: 3.0046242549379527\n",
      "Neighborhood_NPkVill: 2.8891355365445035\n",
      "Neighborhood_BrDale: 2.867363550897971\n",
      "Neighborhood_StoneBr: 2.744630897521352\n",
      "BldgType_TwnhsE: 2.3077890570619193\n",
      "LotShape: 2.0607439211890606\n",
      "BldgType_Twnhs: 2.0191147289151212\n",
      "Exterior BrkComm: 1.9757449963299383\n",
      "Neighborhood_Veenker: 1.8553900528410903\n",
      "MasVnrType_Stone: 1.6333604548521488\n",
      "LandSlope: 1.5830272930368485\n",
      "Exterior MetalSd: 1.4613570247079297\n",
      "LandContour_HLS: 1.3011234042112618\n",
      "Neighborhood_Blueste: 1.2202446378568796\n",
      "Exterior BrkFace: 1.1703028780609828\n",
      "Exterior Stucco: 1.1465253236371131\n",
      "Condition RRAe: 1.1142485285287986\n",
      "LotConfig_FR2: 1.1073479232835146\n",
      "\n",
      "16 cases of possible multicollinearity\n",
      "3 cases of definite multicollinearity\n",
      "\n",
      "Assumption not satisfied\n",
      "\n",
      "Coefficient interpretability will be problematic\n",
      "Consider removing variables with a high Variance Inflation Factor (VIF)\n",
      "\n",
      "=======================================================================================\n",
      "Assumption 3: No Autocorrelation\n",
      "\n",
      "Performing Durbin-Watson Test\n",
      "Values of 1.5 < d < 2.5 generally show that there is no autocorrelation in the data\n",
      "0 to 2< is positive autocorrelation\n",
      ">2 to 4 is negative autocorrelation\n",
      "-------------------------------------\n",
      "Durbin-Watson: 2.0132640854946016\n",
      "Little to no autocorrelation \n",
      "\n",
      "Assumption satisfied\n",
      "\n",
      "=======================================================================================\n",
      "Assumption 4: Homoskedasticity of Error Terms\n",
      "Residuals should have relative constant variance\n"
     ]
    },
    {
     "data": {
      "image/png": "[encoded data removed]",
      "text/plain": [
       "<Figure size 864x432 with 1 Axes>"
      ]
     },
     "metadata": {},
     "output_type": "display_data"
    },
    {
     "name": "stdout",
     "output_type": "stream",
     "text": [
      "If heteroskedasticity is apparent, confidence intervals and predictions will be affected\n",
      "\n",
      "Consider removing outliers and preprocessing features - nonlinear transformation can help\n"
     ]
    },
    {
     "data": {
      "text/plain": [
       "{'Lagrange Multiplier': 465.6774775489109,\n",
       " 'pvalue for LM': 6.400054372859819e-66,\n",
       " 'F stats': 11.741863783704906,\n",
       " 'pvalue for Fstats': 3.725814024847095e-82}"
      ]
     },
     "metadata": {},
     "output_type": "display_data"
    },
    {
     "name": "stdout",
     "output_type": "stream",
     "text": [
      "Signs of positive autocorrelation \n",
      "\n",
      "Assumption potentially not satisfied \n",
      "\n",
      "\n",
      "=======================================================================================\n",
      "Assumption 5: The error terms are kinda normally distributed\n",
      "\n",
      "Using the Anderson-Darling test for normal distribution\n",
      "p-value from the test - below 0.05 generally means non-normal: 0.0\n",
      "Residuals are not normally distributed\n"
     ]
    },
    {
     "name": "stderr",
     "output_type": "stream",
     "text": [
      "/home/mauritian/yes/lib/python3.7/site-packages/seaborn/distributions.py:2551: FutureWarning: `distplot` is a deprecated function and will be removed in a future version. Please adapt your code to use either `displot` (a figure-level function with similar flexibility) or `histplot` (an axes-level function for histograms).\n",
      "  warnings.warn(msg, FutureWarning)\n"
     ]
    },
    {
     "data": {
      "image/png": "[encoded data removed]",
      "text/plain": [
       "<Figure size 864x432 with 1 Axes>"
      ]
     },
     "metadata": {},
     "output_type": "display_data"
    },
    {
     "name": "stdout",
     "output_type": "stream",
     "text": [
      "\n",
      "Assumption not satisfied\n",
      "\n",
      "Confidence intervals will likely be affected\n",
      "Try performing nonlinear transformations on variables\n",
      "Building a probability plot\n"
     ]
    },
    {
     "data": {
      "image/png": "[encoded data removed]",
      "text/plain": [
       "<Figure size 432x288 with 1 Axes>"
      ]
     },
     "metadata": {},
     "output_type": "display_data"
    },
    {
     "name": "stdout",
     "output_type": "stream",
     "text": [
      "\n",
      "In your dataset you quite fat tails. You have 0.016 potential outliers (24 rows)\n"
     ]
    },
    {
     "data": {
      "text/plain": [
       "{'Satisfied': ['Autocorrelation'],\n",
       " 'Potentially': ['Linearity', 'Autocorrelation', 'Sub-Normality'],\n",
       " 'Violated': ['Multicollinearity', 'Normality']}"
      ]
     },
     "metadata": {},
     "output_type": "display_data"
    }
   ],
   "source": [
    "ast(X,y).run_all()"
   ]
  },
  {
   "cell_type": "code",
   "execution_count": 432,
   "metadata": {
    "collapsed": true,
    "hidden": true
   },
   "outputs": [
    {
     "name": "stdout",
     "output_type": "stream",
     "text": [
      "Fitting linear regression\n",
      "\n",
      "=======================================================================================\n",
      "Assumption 2: Little to no multicollinearity among predictors\n"
     ]
    },
    {
     "data": {
      "image/png": "[encoded data removed]",
      "text/plain": [
       "<Figure size 720x576 with 2 Axes>"
      ]
     },
     "metadata": {},
     "output_type": "display_data"
    },
    {
     "name": "stdout",
     "output_type": "stream",
     "text": [
      "Variance Inflation Factors (VIF)\n",
      "> 10: An indication that multicollinearity may be present\n",
      "> 100: Certain multicollinearity among the variables\n",
      "-------------------------------------\n"
     ]
    },
    {
     "name": "stderr",
     "output_type": "stream",
     "text": [
      "/home/mauritian/yes/lib/python3.7/site-packages/statsmodels/stats/outliers_influence.py:193: RuntimeWarning: divide by zero encountered in double_scalars\n",
      "  vif = 1. / (1. - r_squared_i)\n"
     ]
    },
    {
     "name": "stdout",
     "output_type": "stream",
     "text": [
      "Exterior Brk: inf\n",
      "Exterior Cmn: inf\n",
      "YearBuilt: 243.58042223043972\n",
      "OverallQual: 74.31700313537648\n",
      "KitchenQual: 70.04564599700493\n",
      "GarageCars: 39.10281560431495\n",
      "OverallCond: 37.15465006510364\n",
      "HeatingQC: 33.968876228043854\n",
      "GarageArea: 33.458354027640794\n",
      "1stFlrSF: 26.749084859571067\n",
      "Exterior CemntBd: 22.29201751665983\n",
      "Exterior CmentBd: 22.179622211476175\n",
      "Neighborhood_NAmes: 19.82056138280785\n",
      "Neighborhood_OldTown: 12.968244966482846\n",
      "Neighborhood_CollgCr: 12.552796767390301\n",
      "Neighborhood_Somerst: 11.297298095452572\n",
      "BsmtFinType1: 9.904257381455496\n",
      "Neighborhood_Edwards: 9.361778287122815\n",
      "Neighborhood_Gilbert: 7.50712245567726\n",
      "Neighborhood_Sawyer: 7.255973161088883\n",
      "Neighborhood_NWAmes: 6.984290909577058\n",
      "Neighborhood_NridgHt: 6.717242021098501\n",
      "Neighborhood_BrkSide: 6.5633871975469775\n",
      "Neighborhood_SawyerW: 5.402774204289834\n",
      "Neighborhood_Crawfor: 5.2300780505730735\n",
      "BsmtFinSF1: 5.209548777094435\n",
      "Foundation_PConc: 4.969179277457511\n",
      "LotFrontage: 4.96466841823024\n",
      "Neighborhood_IDOTRR: 4.95382445751775\n",
      "Neighborhood_Mitchel: 4.936162436799189\n",
      "MSZoning_FV: 4.771601224745752\n",
      "Neighborhood_NoRidge: 4.323932533463568\n",
      "GarageType_Attchd: 4.224561541573809\n",
      "MSZoning_RM: 4.110687303742049\n",
      "Neighborhood_Timber: 4.103514934841332\n",
      "LotArea: 3.5211039018474293\n",
      "Neighborhood_ClearCr: 3.462014783326407\n",
      "Neighborhood_MeadowV: 3.252312200609367\n",
      "Neighborhood_SWISU: 3.0840047351295063\n",
      "2ndFlrSF: 3.0046242549379527\n",
      "Neighborhood_NPkVill: 2.8891355365445035\n",
      "Neighborhood_BrDale: 2.867363550897971\n",
      "Neighborhood_StoneBr: 2.744630897521352\n",
      "BldgType_TwnhsE: 2.3077890570619193\n",
      "LotShape: 2.0607439211890606\n",
      "BldgType_Twnhs: 2.0191147289151212\n",
      "Exterior BrkComm: 1.9757449963299383\n",
      "Neighborhood_Veenker: 1.8553900528410903\n",
      "MasVnrType_Stone: 1.6333604548521488\n",
      "LandSlope: 1.5830272930368485\n",
      "Exterior MetalSd: 1.4613570247079297\n",
      "LandContour_HLS: 1.3011234042112618\n",
      "Neighborhood_Blueste: 1.2202446378568796\n",
      "Exterior BrkFace: 1.1703028780609828\n",
      "Exterior Stucco: 1.1465253236371131\n",
      "Condition RRAe: 1.1142485285287986\n",
      "LotConfig_FR2: 1.1073479232835146\n",
      "\n",
      "16 cases of possible multicollinearity\n",
      "3 cases of definite multicollinearity\n",
      "\n",
      "Assumption not satisfied\n",
      "\n",
      "Coefficient interpretability will be problematic\n",
      "Consider removing variables with a high Variance Inflation Factor (VIF)\n"
     ]
    }
   ],
   "source": [
    "ast(X,y).multicollinearity()"
   ]
  },
  {
   "cell_type": "code",
   "execution_count": 436,
   "metadata": {
    "hidden": true
   },
   "outputs": [
    {
     "data": {
      "text/plain": [
       "['1Fam', '2fmCon', 'Duplex', 'Twnhs', 'TwnhsE']"
      ]
     },
     "execution_count": 436,
     "metadata": {},
     "output_type": "execute_result"
    }
   ],
   "source": [
    "sorted(df.BldgType.unique())"
   ]
  }
 ],
 "metadata": {
  "kernelspec": {
   "display_name": "Python 3",
   "language": "python",
   "name": "python3"
  },
  "language_info": {
   "codemirror_mode": {
    "name": "ipython",
    "version": 3
   },
   "file_extension": ".py",
   "mimetype": "text/x-python",
   "name": "python",
   "nbconvert_exporter": "python",
   "pygments_lexer": "ipython3",
   "version": "3.7.6"
  },
  "toc": {
   "base_numbering": 1,
   "nav_menu": {},
   "number_sections": true,
   "sideBar": true,
   "skip_h1_title": false,
   "title_cell": "Table of Contents",
   "title_sidebar": "Contents",
   "toc_cell": true,
   "toc_position": {},
   "toc_section_display": true,
   "toc_window_display": false
  }
 },
 "nbformat": 4,
 "nbformat_minor": 4
}
