{
 "cells": [
  {
   "cell_type": "markdown",
   "metadata": {
    "toc": true
   },
   "source": [
    "<h1>Table of Contents<span class=\"tocSkip\"></span></h1>\n",
    "<div class=\"toc\"><ul class=\"toc-item\"><li><span><a href=\"#Lab-review\" data-toc-modified-id=\"Lab-review-1\"><span class=\"toc-item-num\">1&nbsp;&nbsp;</span>Lab review</a></span><ul class=\"toc-item\"><li><span><a href=\"#Challenge-1\" data-toc-modified-id=\"Challenge-1-1.1\"><span class=\"toc-item-num\">1.1&nbsp;&nbsp;</span>Challenge 1</a></span></li><li><span><a href=\"#Challenge-2\" data-toc-modified-id=\"Challenge-2-1.2\"><span class=\"toc-item-num\">1.2&nbsp;&nbsp;</span>Challenge 2</a></span></li><li><span><a href=\"#Challenge-3\" data-toc-modified-id=\"Challenge-3-1.3\"><span class=\"toc-item-num\">1.3&nbsp;&nbsp;</span>Challenge 3</a></span></li><li><span><a href=\"#Challenge-4\" data-toc-modified-id=\"Challenge-4-1.4\"><span class=\"toc-item-num\">1.4&nbsp;&nbsp;</span>Challenge 4</a></span></li></ul></li><li><span><a href=\"#Lecture\" data-toc-modified-id=\"Lecture-2\"><span class=\"toc-item-num\">2&nbsp;&nbsp;</span>Lecture</a></span></li></ul></div>"
   ]
  },
  {
   "cell_type": "markdown",
   "metadata": {
    "heading_collapsed": true
   },
   "source": [
    "# Lab review"
   ]
  },
  {
   "cell_type": "markdown",
   "metadata": {
    "heading_collapsed": true,
    "hidden": true
   },
   "source": [
    "## Challenge 1"
   ]
  },
  {
   "cell_type": "markdown",
   "metadata": {
    "hidden": true
   },
   "source": [
    "\n",
    "A and B are events of a certain probability space $(\\omega, \\sigma, P)$ such that $P(A) = 0.3$, $P(B) = 0.6$ and $P(A \\cap B) = 0.1$.\n",
    "\n",
    "Which are false?\n",
    "* $P(A \\cup B) = 0.6$\n",
    "* $P(A \\cap B^{C}) = 0.2$\n",
    "* $P(A \\cap (B \\cup B^{C})) = 0.4$\n",
    "* $P(A^{C} \\cap B^{C}) = 0.3$\n",
    "* $P((A \\cap B)^{C}) = 0.9$"
   ]
  },
  {
   "cell_type": "markdown",
   "metadata": {
    "hidden": true
   },
   "source": [
    "$P(A \\cup B) = p(A)+P(B)-P(A \\cup B) = 0.3+0.6-0.1=0.8$\n",
    "\n",
    "$P((A \\cap B)^C) = 1-P(A \\cap B) = 1-0.1=0.9$"
   ]
  },
  {
   "cell_type": "markdown",
   "metadata": {
    "heading_collapsed": true,
    "hidden": true
   },
   "source": [
    "## Challenge 2"
   ]
  },
  {
   "cell_type": "markdown",
   "metadata": {
    "hidden": true
   },
   "source": [
    "We have an urn with 10 white balls, 12 red balls and 8 black balls. Calculate the probability of:\n",
    "* Taking a white ball.\n",
    "* Taking a white ball after taking a black ball.\n",
    "* Taking a red ball after taking a black and a red ball.\n",
    "* Taking a red ball after taking a black and a red ball with reposition (that means after taking a ball I put it back to the urn).\n"
   ]
  },
  {
   "cell_type": "markdown",
   "metadata": {
    "hidden": true
   },
   "source": [
    "* $1/3$\n",
    "* $8/30*10/29$\n",
    "* $12/30*8/29*11/28$\n",
    "* $12/30*8/30*12/30$"
   ]
  },
  {
   "cell_type": "markdown",
   "metadata": {
    "heading_collapsed": true,
    "hidden": true
   },
   "source": [
    "## Challenge 3\n"
   ]
  },
  {
   "cell_type": "markdown",
   "metadata": {
    "hidden": true
   },
   "source": [
    "\n",
    "You are planning a picnic today, but the morning is cloudy. So you look for some data:\n",
    "* 50% of all rainy days start off cloudy!\n",
    "* But cloudy mornings are common (about 40% of days start cloudy)\n",
    "* And this is usually a dry month (only 3 of 30 days (10%) tend to be rainy)\n",
    "\n",
    "What is the chance of rain during the day?\n",
    "\n"
   ]
  },
  {
   "cell_type": "markdown",
   "metadata": {
    "hidden": true
   },
   "source": [
    "$p(A|B)=P(B|A)*P(A)/p(B)=0.5*0.1/0.4=1/8=0.125$"
   ]
  },
  {
   "cell_type": "markdown",
   "metadata": {
    "heading_collapsed": true,
    "hidden": true
   },
   "source": [
    "## Challenge 4"
   ]
  },
  {
   "cell_type": "markdown",
   "metadata": {
    "hidden": true
   },
   "source": [
    "\n",
    "By conducting a telephone survey, we asked 1000 people if they thought it is necessary to have more street lighting at night.\n",
    "\n",
    "We have met 480 men, 324 of which answered yes and 156 no, as well as 520 women, 351 of which answered yes and 169 no. We wonder if men and women have a different opinion or if gender is irrelevant to the question.\n",
    "\n",
    "(To see more clearly what they told us, it is best to place the data in a table)\n",
    "\n",
    "\n",
    "Consider the following events:\n",
    "- Wants more light (answered yes)\n",
    "- A man answered\n",
    "\n",
    "\n",
    "We ask ourselves if these events are independent, that is, if the fact of wanting more light depends on whether one is male or female. Are these events independent or not?"
   ]
  },
  {
   "cell_type": "code",
   "execution_count": 1,
   "metadata": {
    "hidden": true
   },
   "outputs": [],
   "source": [
    "import pandas as pd"
   ]
  },
  {
   "cell_type": "code",
   "execution_count": 4,
   "metadata": {
    "hidden": true
   },
   "outputs": [],
   "source": [
    "df=pd.DataFrame({'Yes':[324,351],'No':[156,169]}, index=['Men','Women'])"
   ]
  },
  {
   "cell_type": "code",
   "execution_count": 15,
   "metadata": {
    "hidden": true
   },
   "outputs": [],
   "source": [
    "ss=df.sum(axis=1)"
   ]
  },
  {
   "cell_type": "code",
   "execution_count": 19,
   "metadata": {
    "hidden": true
   },
   "outputs": [
    {
     "data": {
      "text/html": [
       "<div>\n",
       "<style scoped>\n",
       "    .dataframe tbody tr th:only-of-type {\n",
       "        vertical-align: middle;\n",
       "    }\n",
       "\n",
       "    .dataframe tbody tr th {\n",
       "        vertical-align: top;\n",
       "    }\n",
       "\n",
       "    .dataframe thead th {\n",
       "        text-align: right;\n",
       "    }\n",
       "</style>\n",
       "<table border=\"1\" class=\"dataframe\">\n",
       "  <thead>\n",
       "    <tr style=\"text-align: right;\">\n",
       "      <th></th>\n",
       "      <th>Yes</th>\n",
       "      <th>No</th>\n",
       "    </tr>\n",
       "  </thead>\n",
       "  <tbody>\n",
       "    <tr>\n",
       "      <th>Men</th>\n",
       "      <td>324</td>\n",
       "      <td>156</td>\n",
       "    </tr>\n",
       "    <tr>\n",
       "      <th>Women</th>\n",
       "      <td>351</td>\n",
       "      <td>169</td>\n",
       "    </tr>\n",
       "  </tbody>\n",
       "</table>\n",
       "</div>"
      ],
      "text/plain": [
       "       Yes   No\n",
       "Men    324  156\n",
       "Women  351  169"
      ]
     },
     "execution_count": 19,
     "metadata": {},
     "output_type": "execute_result"
    }
   ],
   "source": [
    "df"
   ]
  },
  {
   "cell_type": "code",
   "execution_count": 18,
   "metadata": {
    "hidden": true
   },
   "outputs": [
    {
     "data": {
      "text/html": [
       "<div>\n",
       "<style scoped>\n",
       "    .dataframe tbody tr th:only-of-type {\n",
       "        vertical-align: middle;\n",
       "    }\n",
       "\n",
       "    .dataframe tbody tr th {\n",
       "        vertical-align: top;\n",
       "    }\n",
       "\n",
       "    .dataframe thead th {\n",
       "        text-align: right;\n",
       "    }\n",
       "</style>\n",
       "<table border=\"1\" class=\"dataframe\">\n",
       "  <thead>\n",
       "    <tr style=\"text-align: right;\">\n",
       "      <th></th>\n",
       "      <th>Yes</th>\n",
       "      <th>No</th>\n",
       "    </tr>\n",
       "  </thead>\n",
       "  <tbody>\n",
       "    <tr>\n",
       "      <th>Men</th>\n",
       "      <td>NaN</td>\n",
       "      <td>NaN</td>\n",
       "    </tr>\n",
       "    <tr>\n",
       "      <th>Women</th>\n",
       "      <td>NaN</td>\n",
       "      <td>NaN</td>\n",
       "    </tr>\n",
       "  </tbody>\n",
       "</table>\n",
       "</div>"
      ],
      "text/plain": [
       "       Yes  No\n",
       "Men    NaN NaN\n",
       "Women  NaN NaN"
      ]
     },
     "execution_count": 18,
     "metadata": {},
     "output_type": "execute_result"
    }
   ],
   "source": [
    "df.apply(lambda x: x/ss[x.index],axis=1)"
   ]
  },
  {
   "cell_type": "markdown",
   "metadata": {},
   "source": [
    "# Lecture\n"
   ]
  },
  {
   "cell_type": "code",
   "execution_count": 20,
   "metadata": {},
   "outputs": [],
   "source": [
    "import numpy as np\n",
    "import pandas as pd"
   ]
  },
  {
   "cell_type": "code",
   "execution_count": 21,
   "metadata": {},
   "outputs": [],
   "source": [
    "df=pd.read_csv('https://ironhack.school/asset-v1:IRONHACK+DAFT+201910_PAR+type@asset+block@IMDB-Movie-Data.csv')"
   ]
  },
  {
   "cell_type": "code",
   "execution_count": 23,
   "metadata": {},
   "outputs": [
    {
     "data": {
      "text/html": [
       "<div>\n",
       "<style scoped>\n",
       "    .dataframe tbody tr th:only-of-type {\n",
       "        vertical-align: middle;\n",
       "    }\n",
       "\n",
       "    .dataframe tbody tr th {\n",
       "        vertical-align: top;\n",
       "    }\n",
       "\n",
       "    .dataframe thead th {\n",
       "        text-align: right;\n",
       "    }\n",
       "</style>\n",
       "<table border=\"1\" class=\"dataframe\">\n",
       "  <thead>\n",
       "    <tr style=\"text-align: right;\">\n",
       "      <th></th>\n",
       "      <th>Rank</th>\n",
       "      <th>Title</th>\n",
       "      <th>Genre</th>\n",
       "      <th>Description</th>\n",
       "      <th>Director</th>\n",
       "      <th>Actors</th>\n",
       "      <th>Year</th>\n",
       "      <th>Runtime (Minutes)</th>\n",
       "      <th>Rating</th>\n",
       "      <th>Votes</th>\n",
       "      <th>Revenue (Millions)</th>\n",
       "      <th>Metascore</th>\n",
       "    </tr>\n",
       "  </thead>\n",
       "  <tbody>\n",
       "    <tr>\n",
       "      <th>0</th>\n",
       "      <td>1</td>\n",
       "      <td>Guardians of the Galaxy</td>\n",
       "      <td>Action,Adventure,Sci-Fi</td>\n",
       "      <td>A group of intergalactic criminals are forced ...</td>\n",
       "      <td>James Gunn</td>\n",
       "      <td>Chris Pratt, Vin Diesel, Bradley Cooper, Zoe S...</td>\n",
       "      <td>2014</td>\n",
       "      <td>121</td>\n",
       "      <td>8.1</td>\n",
       "      <td>757074</td>\n",
       "      <td>333.13</td>\n",
       "      <td>76.0</td>\n",
       "    </tr>\n",
       "    <tr>\n",
       "      <th>1</th>\n",
       "      <td>2</td>\n",
       "      <td>Prometheus</td>\n",
       "      <td>Adventure,Mystery,Sci-Fi</td>\n",
       "      <td>Following clues to the origin of mankind, a te...</td>\n",
       "      <td>Ridley Scott</td>\n",
       "      <td>Noomi Rapace, Logan Marshall-Green, Michael Fa...</td>\n",
       "      <td>2012</td>\n",
       "      <td>124</td>\n",
       "      <td>7.0</td>\n",
       "      <td>485820</td>\n",
       "      <td>126.46</td>\n",
       "      <td>65.0</td>\n",
       "    </tr>\n",
       "    <tr>\n",
       "      <th>2</th>\n",
       "      <td>3</td>\n",
       "      <td>Split</td>\n",
       "      <td>Horror,Thriller</td>\n",
       "      <td>Three girls are kidnapped by a man with a diag...</td>\n",
       "      <td>M. Night Shyamalan</td>\n",
       "      <td>James McAvoy, Anya Taylor-Joy, Haley Lu Richar...</td>\n",
       "      <td>2016</td>\n",
       "      <td>117</td>\n",
       "      <td>7.3</td>\n",
       "      <td>157606</td>\n",
       "      <td>138.12</td>\n",
       "      <td>62.0</td>\n",
       "    </tr>\n",
       "    <tr>\n",
       "      <th>3</th>\n",
       "      <td>4</td>\n",
       "      <td>Sing</td>\n",
       "      <td>Animation,Comedy,Family</td>\n",
       "      <td>In a city of humanoid animals, a hustling thea...</td>\n",
       "      <td>Christophe Lourdelet</td>\n",
       "      <td>Matthew McConaughey,Reese Witherspoon, Seth Ma...</td>\n",
       "      <td>2016</td>\n",
       "      <td>108</td>\n",
       "      <td>7.2</td>\n",
       "      <td>60545</td>\n",
       "      <td>270.32</td>\n",
       "      <td>59.0</td>\n",
       "    </tr>\n",
       "    <tr>\n",
       "      <th>4</th>\n",
       "      <td>5</td>\n",
       "      <td>Suicide Squad</td>\n",
       "      <td>Action,Adventure,Fantasy</td>\n",
       "      <td>A secret government agency recruits some of th...</td>\n",
       "      <td>David Ayer</td>\n",
       "      <td>Will Smith, Jared Leto, Margot Robbie, Viola D...</td>\n",
       "      <td>2016</td>\n",
       "      <td>123</td>\n",
       "      <td>6.2</td>\n",
       "      <td>393727</td>\n",
       "      <td>325.02</td>\n",
       "      <td>40.0</td>\n",
       "    </tr>\n",
       "  </tbody>\n",
       "</table>\n",
       "</div>"
      ],
      "text/plain": [
       "   Rank                    Title                     Genre  \\\n",
       "0     1  Guardians of the Galaxy   Action,Adventure,Sci-Fi   \n",
       "1     2               Prometheus  Adventure,Mystery,Sci-Fi   \n",
       "2     3                    Split           Horror,Thriller   \n",
       "3     4                     Sing   Animation,Comedy,Family   \n",
       "4     5            Suicide Squad  Action,Adventure,Fantasy   \n",
       "\n",
       "                                         Description              Director  \\\n",
       "0  A group of intergalactic criminals are forced ...            James Gunn   \n",
       "1  Following clues to the origin of mankind, a te...          Ridley Scott   \n",
       "2  Three girls are kidnapped by a man with a diag...    M. Night Shyamalan   \n",
       "3  In a city of humanoid animals, a hustling thea...  Christophe Lourdelet   \n",
       "4  A secret government agency recruits some of th...            David Ayer   \n",
       "\n",
       "                                              Actors  Year  Runtime (Minutes)  \\\n",
       "0  Chris Pratt, Vin Diesel, Bradley Cooper, Zoe S...  2014                121   \n",
       "1  Noomi Rapace, Logan Marshall-Green, Michael Fa...  2012                124   \n",
       "2  James McAvoy, Anya Taylor-Joy, Haley Lu Richar...  2016                117   \n",
       "3  Matthew McConaughey,Reese Witherspoon, Seth Ma...  2016                108   \n",
       "4  Will Smith, Jared Leto, Margot Robbie, Viola D...  2016                123   \n",
       "\n",
       "   Rating   Votes  Revenue (Millions)  Metascore  \n",
       "0     8.1  757074              333.13       76.0  \n",
       "1     7.0  485820              126.46       65.0  \n",
       "2     7.3  157606              138.12       62.0  \n",
       "3     7.2   60545              270.32       59.0  \n",
       "4     6.2  393727              325.02       40.0  "
      ]
     },
     "execution_count": 23,
     "metadata": {},
     "output_type": "execute_result"
    }
   ],
   "source": [
    "df.head()"
   ]
  },
  {
   "cell_type": "code",
   "execution_count": 24,
   "metadata": {},
   "outputs": [
    {
     "data": {
      "text/html": [
       "<div>\n",
       "<style scoped>\n",
       "    .dataframe tbody tr th:only-of-type {\n",
       "        vertical-align: middle;\n",
       "    }\n",
       "\n",
       "    .dataframe tbody tr th {\n",
       "        vertical-align: top;\n",
       "    }\n",
       "\n",
       "    .dataframe thead th {\n",
       "        text-align: right;\n",
       "    }\n",
       "</style>\n",
       "<table border=\"1\" class=\"dataframe\">\n",
       "  <thead>\n",
       "    <tr style=\"text-align: right;\">\n",
       "      <th></th>\n",
       "      <th>Rank</th>\n",
       "      <th>Year</th>\n",
       "      <th>Runtime (Minutes)</th>\n",
       "      <th>Rating</th>\n",
       "      <th>Votes</th>\n",
       "      <th>Revenue (Millions)</th>\n",
       "      <th>Metascore</th>\n",
       "    </tr>\n",
       "  </thead>\n",
       "  <tbody>\n",
       "    <tr>\n",
       "      <th>Rank</th>\n",
       "      <td>1.000000</td>\n",
       "      <td>-0.261605</td>\n",
       "      <td>-0.221739</td>\n",
       "      <td>-0.219555</td>\n",
       "      <td>-0.283876</td>\n",
       "      <td>-0.271592</td>\n",
       "      <td>-0.191869</td>\n",
       "    </tr>\n",
       "    <tr>\n",
       "      <th>Year</th>\n",
       "      <td>-0.261605</td>\n",
       "      <td>1.000000</td>\n",
       "      <td>-0.164900</td>\n",
       "      <td>-0.211219</td>\n",
       "      <td>-0.411904</td>\n",
       "      <td>-0.126790</td>\n",
       "      <td>-0.079305</td>\n",
       "    </tr>\n",
       "    <tr>\n",
       "      <th>Runtime (Minutes)</th>\n",
       "      <td>-0.221739</td>\n",
       "      <td>-0.164900</td>\n",
       "      <td>1.000000</td>\n",
       "      <td>0.392214</td>\n",
       "      <td>0.407062</td>\n",
       "      <td>0.267953</td>\n",
       "      <td>0.211978</td>\n",
       "    </tr>\n",
       "    <tr>\n",
       "      <th>Rating</th>\n",
       "      <td>-0.219555</td>\n",
       "      <td>-0.211219</td>\n",
       "      <td>0.392214</td>\n",
       "      <td>1.000000</td>\n",
       "      <td>0.511537</td>\n",
       "      <td>0.217654</td>\n",
       "      <td>0.631897</td>\n",
       "    </tr>\n",
       "    <tr>\n",
       "      <th>Votes</th>\n",
       "      <td>-0.283876</td>\n",
       "      <td>-0.411904</td>\n",
       "      <td>0.407062</td>\n",
       "      <td>0.511537</td>\n",
       "      <td>1.000000</td>\n",
       "      <td>0.639661</td>\n",
       "      <td>0.325684</td>\n",
       "    </tr>\n",
       "    <tr>\n",
       "      <th>Revenue (Millions)</th>\n",
       "      <td>-0.271592</td>\n",
       "      <td>-0.126790</td>\n",
       "      <td>0.267953</td>\n",
       "      <td>0.217654</td>\n",
       "      <td>0.639661</td>\n",
       "      <td>1.000000</td>\n",
       "      <td>0.142397</td>\n",
       "    </tr>\n",
       "    <tr>\n",
       "      <th>Metascore</th>\n",
       "      <td>-0.191869</td>\n",
       "      <td>-0.079305</td>\n",
       "      <td>0.211978</td>\n",
       "      <td>0.631897</td>\n",
       "      <td>0.325684</td>\n",
       "      <td>0.142397</td>\n",
       "      <td>1.000000</td>\n",
       "    </tr>\n",
       "  </tbody>\n",
       "</table>\n",
       "</div>"
      ],
      "text/plain": [
       "                        Rank      Year  Runtime (Minutes)    Rating     Votes  \\\n",
       "Rank                1.000000 -0.261605          -0.221739 -0.219555 -0.283876   \n",
       "Year               -0.261605  1.000000          -0.164900 -0.211219 -0.411904   \n",
       "Runtime (Minutes)  -0.221739 -0.164900           1.000000  0.392214  0.407062   \n",
       "Rating             -0.219555 -0.211219           0.392214  1.000000  0.511537   \n",
       "Votes              -0.283876 -0.411904           0.407062  0.511537  1.000000   \n",
       "Revenue (Millions) -0.271592 -0.126790           0.267953  0.217654  0.639661   \n",
       "Metascore          -0.191869 -0.079305           0.211978  0.631897  0.325684   \n",
       "\n",
       "                    Revenue (Millions)  Metascore  \n",
       "Rank                         -0.271592  -0.191869  \n",
       "Year                         -0.126790  -0.079305  \n",
       "Runtime (Minutes)             0.267953   0.211978  \n",
       "Rating                        0.217654   0.631897  \n",
       "Votes                         0.639661   0.325684  \n",
       "Revenue (Millions)            1.000000   0.142397  \n",
       "Metascore                     0.142397   1.000000  "
      ]
     },
     "execution_count": 24,
     "metadata": {},
     "output_type": "execute_result"
    }
   ],
   "source": [
    "df.corr()"
   ]
  },
  {
   "cell_type": "code",
   "execution_count": 25,
   "metadata": {},
   "outputs": [
    {
     "data": {
      "text/html": [
       "<div>\n",
       "<style scoped>\n",
       "    .dataframe tbody tr th:only-of-type {\n",
       "        vertical-align: middle;\n",
       "    }\n",
       "\n",
       "    .dataframe tbody tr th {\n",
       "        vertical-align: top;\n",
       "    }\n",
       "\n",
       "    .dataframe thead th {\n",
       "        text-align: right;\n",
       "    }\n",
       "</style>\n",
       "<table border=\"1\" class=\"dataframe\">\n",
       "  <thead>\n",
       "    <tr style=\"text-align: right;\">\n",
       "      <th></th>\n",
       "      <th>Rank</th>\n",
       "      <th>Year</th>\n",
       "      <th>Runtime (Minutes)</th>\n",
       "      <th>Rating</th>\n",
       "      <th>Votes</th>\n",
       "      <th>Revenue (Millions)</th>\n",
       "      <th>Metascore</th>\n",
       "    </tr>\n",
       "  </thead>\n",
       "  <tbody>\n",
       "    <tr>\n",
       "      <th>Rank</th>\n",
       "      <td>1.000000</td>\n",
       "      <td>-0.289760</td>\n",
       "      <td>-0.223655</td>\n",
       "      <td>-0.228584</td>\n",
       "      <td>-0.202266</td>\n",
       "      <td>-0.233246</td>\n",
       "      <td>-0.192747</td>\n",
       "    </tr>\n",
       "    <tr>\n",
       "      <th>Year</th>\n",
       "      <td>-0.289760</td>\n",
       "      <td>1.000000</td>\n",
       "      <td>-0.173570</td>\n",
       "      <td>-0.227647</td>\n",
       "      <td>-0.610024</td>\n",
       "      <td>-0.238762</td>\n",
       "      <td>-0.062607</td>\n",
       "    </tr>\n",
       "    <tr>\n",
       "      <th>Runtime (Minutes)</th>\n",
       "      <td>-0.223655</td>\n",
       "      <td>-0.173570</td>\n",
       "      <td>1.000000</td>\n",
       "      <td>0.383436</td>\n",
       "      <td>0.408226</td>\n",
       "      <td>0.247060</td>\n",
       "      <td>0.198993</td>\n",
       "    </tr>\n",
       "    <tr>\n",
       "      <th>Rating</th>\n",
       "      <td>-0.228584</td>\n",
       "      <td>-0.227647</td>\n",
       "      <td>0.383436</td>\n",
       "      <td>1.000000</td>\n",
       "      <td>0.520496</td>\n",
       "      <td>0.158990</td>\n",
       "      <td>0.664756</td>\n",
       "    </tr>\n",
       "    <tr>\n",
       "      <th>Votes</th>\n",
       "      <td>-0.202266</td>\n",
       "      <td>-0.610024</td>\n",
       "      <td>0.408226</td>\n",
       "      <td>0.520496</td>\n",
       "      <td>1.000000</td>\n",
       "      <td>0.700658</td>\n",
       "      <td>0.276072</td>\n",
       "    </tr>\n",
       "    <tr>\n",
       "      <th>Revenue (Millions)</th>\n",
       "      <td>-0.233246</td>\n",
       "      <td>-0.238762</td>\n",
       "      <td>0.247060</td>\n",
       "      <td>0.158990</td>\n",
       "      <td>0.700658</td>\n",
       "      <td>1.000000</td>\n",
       "      <td>0.053877</td>\n",
       "    </tr>\n",
       "    <tr>\n",
       "      <th>Metascore</th>\n",
       "      <td>-0.192747</td>\n",
       "      <td>-0.062607</td>\n",
       "      <td>0.198993</td>\n",
       "      <td>0.664756</td>\n",
       "      <td>0.276072</td>\n",
       "      <td>0.053877</td>\n",
       "      <td>1.000000</td>\n",
       "    </tr>\n",
       "  </tbody>\n",
       "</table>\n",
       "</div>"
      ],
      "text/plain": [
       "                        Rank      Year  Runtime (Minutes)    Rating     Votes  \\\n",
       "Rank                1.000000 -0.289760          -0.223655 -0.228584 -0.202266   \n",
       "Year               -0.289760  1.000000          -0.173570 -0.227647 -0.610024   \n",
       "Runtime (Minutes)  -0.223655 -0.173570           1.000000  0.383436  0.408226   \n",
       "Rating             -0.228584 -0.227647           0.383436  1.000000  0.520496   \n",
       "Votes              -0.202266 -0.610024           0.408226  0.520496  1.000000   \n",
       "Revenue (Millions) -0.233246 -0.238762           0.247060  0.158990  0.700658   \n",
       "Metascore          -0.192747 -0.062607           0.198993  0.664756  0.276072   \n",
       "\n",
       "                    Revenue (Millions)  Metascore  \n",
       "Rank                         -0.233246  -0.192747  \n",
       "Year                         -0.238762  -0.062607  \n",
       "Runtime (Minutes)             0.247060   0.198993  \n",
       "Rating                        0.158990   0.664756  \n",
       "Votes                         0.700658   0.276072  \n",
       "Revenue (Millions)            1.000000   0.053877  \n",
       "Metascore                     0.053877   1.000000  "
      ]
     },
     "execution_count": 25,
     "metadata": {},
     "output_type": "execute_result"
    }
   ],
   "source": [
    "df.corr(method='spearman')"
   ]
  },
  {
   "cell_type": "code",
   "execution_count": 26,
   "metadata": {},
   "outputs": [
    {
     "data": {
      "text/plain": [
       "array([[ 1.        , -0.21121876],\n",
       "       [-0.21121876,  1.        ]])"
      ]
     },
     "execution_count": 26,
     "metadata": {},
     "output_type": "execute_result"
    }
   ],
   "source": [
    "np.corrcoef(df.Year, df.Rating)"
   ]
  },
  {
   "cell_type": "code",
   "execution_count": 27,
   "metadata": {},
   "outputs": [],
   "source": [
    "import seaborn as sns"
   ]
  },
  {
   "cell_type": "code",
   "execution_count": 28,
   "metadata": {},
   "outputs": [
    {
     "data": {
      "text/plain": [
       "<matplotlib.axes._subplots.AxesSubplot at 0x7f5bacded750>"
      ]
     },
     "execution_count": 28,
     "metadata": {},
     "output_type": "execute_result"
    },
    {
     "data": {
      "image/png": "[encoded data removed]",
      "text/plain": [
       "<Figure size 432x288 with 2 Axes>"
      ]
     },
     "metadata": {
      "needs_background": "light"
     },
     "output_type": "display_data"
    }
   ],
   "source": [
    "sns.heatmap(df.corr())"
   ]
  },
  {
   "cell_type": "code",
   "execution_count": 30,
   "metadata": {},
   "outputs": [
    {
     "data": {
      "text/plain": [
       "<matplotlib.axes._subplots.AxesSubplot at 0x7f5baca96990>"
      ]
     },
     "execution_count": 30,
     "metadata": {},
     "output_type": "execute_result"
    },
    {
     "data": {
      "image/png": "[encoded data removed]",
      "text/plain": [
       "<Figure size 432x288 with 2 Axes>"
      ]
     },
     "metadata": {
      "needs_background": "light"
     },
     "output_type": "display_data"
    }
   ],
   "source": [
    "sns.heatmap(df.corr().abs())"
   ]
  },
  {
   "cell_type": "code",
   "execution_count": null,
   "metadata": {},
   "outputs": [],
   "source": []
  }
 ],
 "metadata": {
  "kernelspec": {
   "display_name": "Python 3",
   "language": "python",
   "name": "python3"
  },
  "language_info": {
   "codemirror_mode": {
    "name": "ipython",
    "version": 3
   },
   "file_extension": ".py",
   "mimetype": "text/x-python",
   "name": "python",
   "nbconvert_exporter": "python",
   "pygments_lexer": "ipython3",
   "version": "3.7.6"
  },
  "toc": {
   "base_numbering": 1,
   "nav_menu": {},
   "number_sections": true,
   "sideBar": true,
   "skip_h1_title": false,
   "title_cell": "Table of Contents",
   "title_sidebar": "Contents",
   "toc_cell": true,
   "toc_position": {},
   "toc_section_display": true,
   "toc_window_display": false
  }
 },
 "nbformat": 4,
 "nbformat_minor": 4
}
