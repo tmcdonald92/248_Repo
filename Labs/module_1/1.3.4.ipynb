{
 "cells": [
  {
   "cell_type": "markdown",
   "metadata": {
    "toc": true
   },
   "source": [
    "<h1>Table of Contents<span class=\"tocSkip\"></span></h1>\n",
    "<div class=\"toc\"><ul class=\"toc-item\"><li><span><a href=\"#Selenium-reasoning\" data-toc-modified-id=\"Selenium-reasoning-1\"><span class=\"toc-item-num\">1&nbsp;&nbsp;</span>Selenium reasoning</a></span></li><li><span><a href=\"#Pipelines\" data-toc-modified-id=\"Pipelines-2\"><span class=\"toc-item-num\">2&nbsp;&nbsp;</span>Pipelines</a></span></li><li><span><a href=\"#Error-Handling\" data-toc-modified-id=\"Error-Handling-3\"><span class=\"toc-item-num\">3&nbsp;&nbsp;</span>Error Handling</a></span><ul class=\"toc-item\"><li><span><a href=\"#Types-of-erros-we-can-meet\" data-toc-modified-id=\"Types-of-erros-we-can-meet-3.1\"><span class=\"toc-item-num\">3.1&nbsp;&nbsp;</span>Types of erros we can meet</a></span></li></ul></li></ul></div>"
   ]
  },
  {
   "cell_type": "markdown",
   "metadata": {
    "heading_collapsed": true
   },
   "source": [
    "# Selenium reasoning"
   ]
  },
  {
   "cell_type": "code",
   "execution_count": 1,
   "metadata": {
    "hidden": true
   },
   "outputs": [],
   "source": [
    "url='https://beta.systembolaget.se/sok/?categoryLevel1=Vin&categoryLevel2=Rött vin&page=1'"
   ]
  },
  {
   "cell_type": "code",
   "execution_count": 2,
   "metadata": {
    "hidden": true
   },
   "outputs": [],
   "source": [
    "import requests as r"
   ]
  },
  {
   "cell_type": "code",
   "execution_count": 3,
   "metadata": {
    "hidden": true
   },
   "outputs": [],
   "source": [
    "from bs4 import BeautifulSoup"
   ]
  },
  {
   "cell_type": "code",
   "execution_count": 4,
   "metadata": {
    "hidden": true
   },
   "outputs": [
    {
     "data": {
      "text/plain": [
       "<Response [403]>"
      ]
     },
     "execution_count": 4,
     "metadata": {},
     "output_type": "execute_result"
    }
   ],
   "source": [
    "r.get(url)"
   ]
  },
  {
   "cell_type": "code",
   "execution_count": 5,
   "metadata": {
    "hidden": true
   },
   "outputs": [],
   "source": [
    "headers=\"\"\"accept: text/html,application/xhtml+xml,application/xml;q=0.9,image/avif,image/webp,image/apng,*/*;q=0.8,application/signed-exchange;v=b3;q=0.9\n",
    "accept-encoding: gzip, deflate, br\n",
    "accept-language: en-US,en;q=0.9\n",
    "cache-control: no-cache\n",
    "cookie: ASP.NET_SessionId=gmjjenr3zk2of0jv55g02za4; ARRAffinity=8f28d2d316728d7f7fda986771662df6b9f715664f5354bd81fac60e76130b65; ai_user=Z645z|2020-09-10T07:24:39.101Z; vngage.id=66c78113-bedf-4e5a-ae57-585f5de0e95b+o176AyCO9QhFTb18aQmIWHxsA5Y8R9tjC1dd0HFVZY=; vngage.vid=668B250C-88AC-482D-891F-490572A7682A; vngage.lkvt=B48E843D-AD8C-40D4-BDE3-EA98DE171586; ai_session=YBh11|1599722679611|1599723001956.255; psCurrentState=Ready\n",
    "pragma: no-cache\n",
    "sec-fetch-dest: document\n",
    "sec-fetch-mode: navigate\n",
    "sec-fetch-site: none\n",
    "sec-fetch-user: ?1\n",
    "upgrade-insecure-requests: 1\n",
    "user-agent: Mozilla/5.0 (X11; Linux x86_64) AppleWebKit/537.36 (KHTML, like Gecko) Chrome/85.0.4183.84 Safari/537.36\"\"\""
   ]
  },
  {
   "cell_type": "code",
   "execution_count": 6,
   "metadata": {
    "hidden": true
   },
   "outputs": [],
   "source": [
    "headers=dict(i.split(': ') for i in headers.split('\\n'))"
   ]
  },
  {
   "cell_type": "code",
   "execution_count": 7,
   "metadata": {
    "collapsed": true,
    "hidden": true
   },
   "outputs": [
    {
     "data": {
      "text/plain": [
       "{'accept': 'text/html,application/xhtml+xml,application/xml;q=0.9,image/avif,image/webp,image/apng,*/*;q=0.8,application/signed-exchange;v=b3;q=0.9',\n",
       " 'accept-encoding': 'gzip, deflate, br',\n",
       " 'accept-language': 'en-US,en;q=0.9',\n",
       " 'cache-control': 'no-cache',\n",
       " 'cookie': 'ASP.NET_SessionId=gmjjenr3zk2of0jv55g02za4; ARRAffinity=8f28d2d316728d7f7fda986771662df6b9f715664f5354bd81fac60e76130b65; ai_user=Z645z|2020-09-10T07:24:39.101Z; vngage.id=66c78113-bedf-4e5a-ae57-585f5de0e95b+o176AyCO9QhFTb18aQmIWHxsA5Y8R9tjC1dd0HFVZY=; vngage.vid=668B250C-88AC-482D-891F-490572A7682A; vngage.lkvt=B48E843D-AD8C-40D4-BDE3-EA98DE171586; ai_session=YBh11|1599722679611|1599723001956.255; psCurrentState=Ready',\n",
       " 'pragma': 'no-cache',\n",
       " 'sec-fetch-dest': 'document',\n",
       " 'sec-fetch-mode': 'navigate',\n",
       " 'sec-fetch-site': 'none',\n",
       " 'sec-fetch-user': '?1',\n",
       " 'upgrade-insecure-requests': '1',\n",
       " 'user-agent': 'Mozilla/5.0 (X11; Linux x86_64) AppleWebKit/537.36 (KHTML, like Gecko) Chrome/85.0.4183.84 Safari/537.36'}"
      ]
     },
     "execution_count": 7,
     "metadata": {},
     "output_type": "execute_result"
    }
   ],
   "source": [
    "headers"
   ]
  },
  {
   "cell_type": "code",
   "execution_count": 10,
   "metadata": {
    "hidden": true
   },
   "outputs": [],
   "source": [
    "soup=BeautifulSoup(r.get(url, headers=headers).content)"
   ]
  },
  {
   "cell_type": "code",
   "execution_count": 11,
   "metadata": {
    "collapsed": true,
    "hidden": true
   },
   "outputs": [
    {
     "data": {
      "text/plain": [
       "<!DOCTYPE html>\n",
       "<html data-edit-mode=\"False\" lang=\"sv\">\n",
       "<head>\n",
       "<noscript>\n",
       "<meta content=\"0;url=/NoJScript\" http-equiv=\"refresh\"/>\n",
       "        Javascript är avaktiverat!\n",
       "    </noscript>\n",
       "<meta charset=\"utf-8\"/>\n",
       "<meta content=\"IE=Edge\" http-equiv=\"X-UA-Compatible\"/>\n",
       "<meta content=\"width=device-width, initial-scale=1.0\" name=\"viewport\"/>\n",
       "<title>Sök alkoholfritt rosévin | Systembolaget | Systembolaget</title>\n",
       "<meta content=\"Sök bland alkoholfria roséviner på Systembolaget.\" name=\"description\"/>\n",
       "<meta content=\"noindex\" name=\"robots\"/>\n",
       "<link crossorigin=\"\" href=\"https://api-extern.systembolaget.se/sb-api-ecommerce\" rel=\"preconnect\"/>\n",
       "<link href=\"https://api-extern.systembolaget.se/sb-api-ecommerce\" rel=\"dns-prefetch\"/>\n",
       "<link href=\"https://beta-cdn.systembolaget.se/\" rel=\"preconnect\"/>\n",
       "<link href=\"https://beta-cdn.systembolaget.se/\" rel=\"dns-prefetch\"/>\n",
       "<link href=\"https://content.psplugin.com/\" rel=\"dns-prefetch\"/>\n",
       "<link href=\"https://systembolaget.psplugin.com/\" rel=\"dns-prefetch\"/>\n",
       "<link href=\"https://beta-cdn.systembolaget.se/favicon.ico\" rel=\"shortcut icon\" type=\"image/x-icon\"/>\n",
       "<script rel=\"preload\" src=\"https://beta-cdn.systembolaget.se/appsettings.js\"></script>\n",
       "<link href=\"/sok/\" rel=\"canonical\"/>\n",
       "<script type=\"text/javascript\">\n",
       "        var appInsights=window.appInsights||function(a){\n",
       "            function b(a){c[a]=function(){var b=arguments;c.queue.push(function(){c[a].apply(c,b)})}}var c={config:a},d=document,e=window;setTimeout(function(){var b=d.createElement(\"script\");b.src=a.url||\"https://az416426.vo.msecnd.net/scripts/a/ai.0.js\",d.getElementsByTagName(\"script\")[0].parentNode.appendChild(b)});try{c.cookie=d.cookie}catch(a){}c.queue=[];for(var f=[\"Event\",\"Exception\",\"Metric\",\"PageView\",\"Trace\",\"Dependency\"];f.length;)b(\"track\"+f.pop());if(b(\"setAuthenticatedUserContext\"),b(\"clearAuthenticatedUserContext\"),b(\"startTrackEvent\"),b(\"stopTrackEvent\"),b(\"startTrackPage\"),b(\"stopTrackPage\"),b(\"flush\"),!a.disableExceptionTracking){f=\"onerror\",b(\"_\"+f);var g=e[f];e[f]=function(a,b,d,e,h){var i=g&&g(a,b,d,e,h);return!0!==i&&c[\"_\"+f](a,b,d,e,h),i}}return c\n",
       "        }({\n",
       "            instrumentationKey:\"005011a4-08da-408f-98ac-6a47ab855a55\"\n",
       "        });\n",
       "        window.appInsights=appInsights,appInsights.queue&&0===appInsights.queue.length&&appInsights.trackPageView();\n",
       "    </script>\n",
       "<script>window.dataLayer = window.dataLayer || [];</script>\n",
       "<style>\n",
       "        .async-hide {\n",
       "            opacity: 0 !important\n",
       "        }\n",
       "    </style>\n",
       "<script>\n",
       "            (function (a, s, y, n, c, h, i, d, e) {\n",
       "                s.className += ' ' + y;\n",
       "                h.end = i = function () { s.className = s.className.replace(RegExp(' ?' + y), '') };\n",
       "                (a[n] = a[n] || []).hide = h; setTimeout(function () { i(); h.end = null }, c);\n",
       "            })(window, document.documentElement, 'async-hide', 'dataLayer', 4000, { 'GTM-M4BMVB5': true });\n",
       "        </script>\n",
       "<script>\n",
       "            (function (i, s, o, g, r, a, m) {\n",
       "                i['GoogleAnalyticsObject'] = r; i[r] = i[r] || function () {\n",
       "                    (i[r].q = i[r].q || []).push(arguments)\n",
       "                }, i[r].l = 1 * new Date(); a = s.createElement(o),\n",
       "                    m = s.getElementsByTagName(o)[0]; a.async = 1; a.src = g; m.parentNode.insertBefore(a, m)\n",
       "            })(window, document, 'script', 'https://www.google-analytics.com/analytics.js', 'ga');\n",
       "            ga('create', 'UA-3024656-6', 'auto', { allowLinker: true });\n",
       "            ga('require', 'GTM-M4BMVB5');\n",
       "        </script>\n",
       "<script>\n",
       "            (function (w, d, s, l, i) {\n",
       "                w[l] = w[l] || []; w[l].push({\n",
       "                    'gtm.start':\n",
       "                        new Date().getTime(), event: 'gtm.js'\n",
       "                });\n",
       "                var f = d.getElementsByTagName(s)[0],\n",
       "                    j = d.createElement(s), dl = l != 'dataLayer' ? '&l=' + l : ''; j.async = true; j.src =\n",
       "                        'https://www.googletagmanager.com/gtm.js?id=' + i + dl; f.parentNode.insertBefore(j, f);\n",
       "            })(window, document, 'script', 'dataLayer', 'GTM-W9XN74J');\n",
       "        </script>\n",
       "<script>\n",
       "            (function (h, o, t, j, a, r) {\n",
       "                h.hj = h.hj || function () { (h.hj.q = h.hj.q || []).push(arguments) };\n",
       "                h._hjSettings = { hjid: 1313337, hjsv: 6 };\n",
       "                a = o.getElementsByTagName('head')[0];\n",
       "                r = o.createElement('script'); r.async = 1;\n",
       "                r.src = t + h._hjSettings.hjid + j + h._hjSettings.hjsv;\n",
       "                a.appendChild(r);\n",
       "            })(window, document, 'https://static.hotjar.com/c/hotjar-', '.js?sv=');\n",
       "        </script>\n",
       "<link as=\"font\" crossorigin=\"anonymous\" href=\"/dist/MonopolWebText-Italic.woff2\" rel=\"preload\"/><link as=\"font\" crossorigin=\"anonymous\" href=\"/dist/MonopolWebText-Regular.woff2\" rel=\"preload\"/><link as=\"font\" crossorigin=\"anonymous\" href=\"/dist/RobotoCondensed-Regular.woff2\" rel=\"preload\"/><link as=\"script\" href=\"https://beta-cdn.systembolaget.se/dist/main.321c90a115195ec70aaf.js\" rel=\"preload\"/></head>\n",
       "<body>\n",
       "<div id=\"mainContent\">\n",
       "<div data-props='{\"imageUrl\":\"https://beta-cdn.systembolaget.se/4a51ce/globalassets/logo.svg\",\"title\":\"20 år eller äldre?\",\"text\":\"Denna webbplats innehåller information om alkoholdrycker. För inköp och besök på denna webbplats måste du vara 20 år eller äldre.\",\"under20text\":\"Jag är under 20 år\",\"under20link\":\"https://www.systembolaget.se/under-20/\",\"over20text\":\"Jag är 20 år eller äldre\",\"subtitle\":\"&lt;p&gt;När jag bekräftar att jag är 20 år eller äldre godkänner jag också att systembolaget.se använder cookies. &lt;a href=\\\"https://www.systembolaget.se/under-20/om-cookies/\\\"&gt;Vad är cookies?&lt;/a&gt;&lt;/p&gt;\\n&lt;p&gt;&lt;a href=\\\"https://www.systembolaget.se/under-20/\\\"&gt;Varför är det åldersgräns&lt;/a&gt; på beta.systembolaget.se? (Du lämnar denna betasajt och slussas till systembolaget.se då samma information gäller båda webbplatserna.)&lt;/p&gt;\"}' data-react-component=\"AgeCheck\"></div>\n",
       "<div data-props='{\"titleStore\":\"Välj butik\",\"titleAgent\":\"Välj ombud\",\"titleHomedelivery\":\"Skriv ditt postnummer\",\"titleStoreByMap\":\"Butiker med varan\",\"subHeadingStoreByMap\":\"Finns i {0} butiker\",\"noStoresWithProduct\":\"Varan är slut i alla butiker.\",\"searchInput\":{\"placeholderStore\":\"Sök butik\",\"placeholderAgent\":\"Sök ombud\",\"placeholderHomedelivery\":\"Ditt postnummer\",\"inputAllyLabelStore\":\"Sök butik\",\"inputAllyLabelAgent\":\"Sök ombud\",\"inputAllyLabelHomedelivery\":\"Ditt postnummer\",\"homeDeliveryErrorText\":\"Postnumret finns inte. Försök igen.\",\"homeDeliveryNotApplicableText\":\"Vi kan ännu inte leverera till valt postnummer. \"},\"latestStoreSelectionHeading\":\"Senast valda butik\",\"latestAgentSelectionHeading\":\"Senast valda ombud\",\"latestHomedeliverySelectionHeading\":\"Senast valda postnummer\",\"selectDeliveryOptionLabel\":\"Välj leveranssätt \",\"noResultsText\":\"Din sökning gav ingen matchning, försök igen.\",\"deliveryOptions\":{\"store\":{\"label\":\"Hämta i butik\",\"freight\":\"0 kr\"},\"agent\":{\"label\":\"Hämta hos ombud\",\"freight\":\"0 kr\"},\"homeDelivery\":{\"label\":\"Hemleverans\",\"freight\":\"Från 120 kr\"}},\"isOnStartPage\":false,\"isOnSearchPage\":true,\"searchPageUrl\":\"/sok/\"}' data-react-component=\"LocationSelectionModalContainer\"></div>\n",
       "<div data-props='{\"betaBanner\":{\"contentItemId\":\"betaBanner\",\"text\":null,\"linkText\":null,\"url\":null,\"level\":\"4\"},\"isOnProductDetailPage\":false,\"productNumber\":null}' data-react-component=\"TopBannersWrapper\"></div>\n",
       "<div data-props='{\"header\":{\"logo\":{\"url\":\"/\",\"imgObj\":{\"src\":\"https://beta-cdn.systembolaget.se/4a51ce/globalassets/logo.svg\",\"alt\":\"Avsändare – Till startsidan\"}},\"menu\":{\"openText\":\"Meny\",\"closeText\":\"Stäng\"},\"searchInput\":{\"searchText\":\"Sök\",\"placeholder\":\"Sök dryck, land, varumärke, druva, veganvänligt…\",\"searchPageUrl\":\"/sok/\",\"isOnSearchPage\":true,\"latestSearchText\":\"Senaste sökningar\",\"latestSearchesResetButtonText\":\"Rensa senaste sökningar\",\"inputAllyLabel\":\"Sök. Sökförslag kommer visas under sökfältet.\",\"autocompleteHeading\":\"Kategori\",\"autocompleteShowAllButtonText\":\"Visa alla träffar för \\\"{0}\\\"\"},\"linkItems\":[{\"iconType\":\"clock\",\"itemIsInEditMode\":false,\"url\":\"https://www.systembolaget.se/butiker-ombud/\",\"text\":\"Öppettider\"}],\"login\":{\"iconType\":\"avatar\",\"itemIsInEditMode\":false,\"url\":\"/api/user/login\",\"text\":\"Logga in\"},\"logout\":{\"linkItems\":[{\"iconType\":null,\"itemIsInEditMode\":false,\"url\":\"https://www.systembolaget.se/mina-sidor/\",\"text\":\"Mina sidor\"}],\"iconType\":\"logout\",\"itemIsInEditMode\":false,\"url\":\"/api/user/logout\",\"text\":\"Logga ut\"},\"basket\":{\"iconType\":\"basket\",\"itemIsInEditMode\":false,\"url\":\"5\",\"text\":\"Varukorg\"},\"navBarLinkItems\":{\"linkItems\":[{\"contentLink\":50,\"headingLevel2\":\"Kunskap &amp; inspiration\",\"linkHeadingLevel2\":null,\"imageBlocks\":[{\"contentLink\":50,\"text\":\"Lär dig mer om vin \",\"url\":\"/vin/\",\"image\":\"https://beta-cdn.systembolaget.se/4a5003/globalassets/vin/100-druvor.jpg?w=358\",\"alt\":\"Närbild på blåa vindruvsklasar i en vinranka.\"}],\"shortcutCards\":[{\"contentLink\":50,\"numberOfProducts\":null,\"image\":\"\",\"backgroundcolor\":\"#F9F6D3\",\"url\":\"/sok/?textQuery=veganv%c3%a4nligt&amp;categoryLevel1=Vin\",\"text\":\"Veganvänligt vin\"},{\"contentLink\":50,\"numberOfProducts\":null,\"image\":\"\",\"backgroundcolor\":\"#D6E9DF\",\"url\":\"/sok/?textQuery=naturvin&amp;categoryLevel1=Vin\",\"text\":\"Naturvin\"},{\"contentLink\":50,\"numberOfProducts\":null,\"image\":\"\",\"backgroundcolor\":\"#FFCEB7\",\"url\":\"/sok/?textQuery=+lagras&amp;categoryLevel1=Vin\",\"text\":\"Lagringsbara viner\"}],\"productCategories\":[{\"contentLink\":50,\"numberOfProducts\":12512,\"url\":\"/sok/?categoryLevel1=Vin\",\"text\":\"Alla viner\"},{\"contentLink\":50,\"numberOfProducts\":5933,\"url\":\"/sok/?categoryLevel1=Vin&amp;categoryLevel2=R%C3%B6tt%20vin\",\"text\":\"Rött vin\"},{\"contentLink\":50,\"numberOfProducts\":3562,\"url\":\"/sok/?categoryLevel1=Vin&amp;categoryLevel2=Vitt%20vin\",\"text\":\"Vitt vin\"},{\"contentLink\":50,\"numberOfProducts\":1666,\"url\":\"/sok/?categoryLevel1=Vin&amp;categoryLevel2=Mousserande%20vin\",\"text\":\"Mousserande vin\"},{\"contentLink\":50,\"numberOfProducts\":642,\"url\":\"/sok/?categoryLevel1=Vin&amp;categoryLevel2=Aperitif%20%26%20Dessert\",\"text\":\"Aperitif &amp; Dessert\"},{\"contentLink\":50,\"numberOfProducts\":484,\"url\":\"/sok/?categoryLevel1=Vin&amp;categoryLevel2=Ros%C3%A9vin\",\"text\":\"Rosévin\"},{\"contentLink\":50,\"numberOfProducts\":216,\"url\":\"/sok/?categoryLevel1=Vin&amp;categoryLevel2=Blandl%C3%A5dor%20vin\",\"text\":\"Blandlådor vin\"},{\"contentLink\":50,\"numberOfProducts\":4,\"url\":\"/sok/?categoryLevel1=Vin&amp;categoryLevel2=Bl%C3%A5%20mousserande\",\"text\":\"Blå mousserande\"},{\"contentLink\":50,\"numberOfProducts\":1,\"url\":\"/sok/?categoryLevel1=Vin&amp;categoryLevel2=Ros%C3%A9%20-%20l%C3%A4gre%20alkoholhalt\",\"text\":\"Rosé - lägre alkoholhalt\"},{\"contentLink\":50,\"numberOfProducts\":1,\"url\":\"/sok/?categoryLevel1=Vin&amp;categoryLevel2=R%C3%B6da%20-%20l%C3%A4gre%20alkoholhalt\",\"text\":\"Röda - lägre alkoholhalt\"},{\"contentLink\":50,\"numberOfProducts\":1,\"url\":\"/sok/?categoryLevel1=Vin&amp;categoryLevel2=Vita%20-%20l%C3%A4gre%20alkoholhalt\",\"text\":\"Vita - lägre alkoholhalt\"}],\"children\":[{\"contentLink\":2237,\"children\":[{\"contentLink\":2260,\"children\":[],\"level\":2,\"hasSelectedChild\":false,\"url\":\"/vin/rott-vin/gora-rott-vin/\",\"text\":\"Göra rött vin\"},{\"contentLink\":2261,\"children\":[],\"level\":2,\"hasSelectedChild\":false,\"url\":\"/vin/rott-vin/smaktyper-och-klockor/\",\"text\":\"Rött vin: smaktyper &amp; klockor\"},{\"contentLink\":2265,\"children\":[],\"level\":2,\"hasSelectedChild\":false,\"url\":\"/vin/rott-vin/vad-ar-tanniner/\",\"text\":\"Vad är tanniner?\"}],\"level\":1,\"hasSelectedChild\":false,\"url\":\"/vin/rott-vin/\",\"text\":\"Om rött vin\"},{\"contentLink\":2238,\"children\":[{\"contentLink\":2267,\"children\":[],\"level\":2,\"hasSelectedChild\":false,\"url\":\"/vin/vitt-vin/gora-vitt-vin/\",\"text\":\"Göra vitt vin\"},{\"contentLink\":2268,\"children\":[],\"level\":2,\"hasSelectedChild\":false,\"url\":\"/vin/vitt-vin/smaktyper-och-klockor/\",\"text\":\"Vitt vin: smaktyper &amp; klockor\"},{\"contentLink\":2271,\"children\":[],\"level\":2,\"hasSelectedChild\":false,\"url\":\"/vin/vitt-vin/orange-vin/\",\"text\":\"Vad är orange vin?\"}],\"level\":1,\"hasSelectedChild\":false,\"url\":\"/vin/vitt-vin/\",\"text\":\"Om vitt vin\"},{\"contentLink\":2316,\"children\":[],\"level\":1,\"hasSelectedChild\":false,\"url\":\"/vin/dekantera-och-lufta-vin/\",\"text\":\"Dekantera &amp; lufta vin\"},{\"contentLink\":2239,\"children\":[{\"contentLink\":2273,\"children\":[],\"level\":2,\"hasSelectedChild\":false,\"url\":\"/vin/rosevin/gora-rosevin/\",\"text\":\"Göra rosévin\"},{\"contentLink\":2274,\"children\":[],\"level\":2,\"hasSelectedChild\":false,\"url\":\"/vin/rosevin/smaktyper-och-klockor/\",\"text\":\"Rosévin: smaktyper &amp; klockor\"},{\"contentLink\":2187,\"children\":[],\"level\":2,\"hasSelectedChild\":false,\"url\":\"/vin/rosevin/5-myter-om-rose/\",\"text\":\"5 myter om rosé\"}],\"level\":1,\"hasSelectedChild\":false,\"url\":\"/vin/rosevin/\",\"text\":\"Om rosévin\"},{\"contentLink\":2240,\"children\":[{\"contentLink\":57,\"children\":[{\"contentLink\":2279,\"children\":[],\"level\":3,\"hasSelectedChild\":false,\"url\":\"/vin/mousserande-vin/champagne/att-oppna-champagne/\",\"text\":\"Att öppna champagne\"}],\"level\":2,\"hasSelectedChild\":false,\"url\":\"/vin/mousserande-vin/champagne/\",\"text\":\"Champagne\"},{\"contentLink\":59,\"children\":[],\"level\":2,\"hasSelectedChild\":false,\"url\":\"/vin/mousserande-vin/prosecco/\",\"text\":\"Prosecco\"},{\"contentLink\":58,\"children\":[],\"level\":2,\"hasSelectedChild\":false,\"url\":\"/vin/mousserande-vin/cava/\",\"text\":\"Cava\"},{\"contentLink\":60,\"children\":[],\"level\":2,\"hasSelectedChild\":false,\"url\":\"/vin/mousserande-vin/cremant/\",\"text\":\"Crémant\"},{\"contentLink\":61,\"children\":[],\"level\":2,\"hasSelectedChild\":false,\"url\":\"/vin/mousserande-vin/ovrigt-mousserande/\",\"text\":\"Övrigt mousserande\"},{\"contentLink\":2278,\"children\":[],\"level\":2,\"hasSelectedChild\":false,\"url\":\"/vin/mousserande-vin/vilket-bubbel-ar-vad/\",\"text\":\"Vilket bubbel är vad?\"},{\"contentLink\":2284,\"children\":[],\"level\":2,\"hasSelectedChild\":false,\"url\":\"/vin/mousserande-vin/servera-mousserande/\",\"text\":\"Servera mousserande\"},{\"contentLink\":2286,\"children\":[],\"level\":2,\"hasSelectedChild\":false,\"url\":\"/vin/mousserande-vin/gora-mousserande-vin/\",\"text\":\"Göra mousserande vin\"}],\"level\":1,\"hasSelectedChild\":false,\"url\":\"/vin/mousserande-vin/\",\"text\":\"Om mousserande vin\"},{\"contentLink\":2241,\"children\":[{\"contentLink\":302,\"children\":[],\"level\":2,\"hasSelectedChild\":false,\"url\":\"/vin/aperitif-dessert-och-starkvin/portvin/\",\"text\":\"Portvin\"},{\"contentLink\":303,\"children\":[],\"level\":2,\"hasSelectedChild\":false,\"url\":\"/vin/aperitif-dessert-och-starkvin/sherry/\",\"text\":\"Sherry\"},{\"contentLink\":63,\"children\":[],\"level\":2,\"hasSelectedChild\":false,\"url\":\"/vin/aperitif-dessert-och-starkvin/sake/\",\"text\":\"Saké\"},{\"contentLink\":304,\"children\":[],\"level\":2,\"hasSelectedChild\":false,\"url\":\"/vin/aperitif-dessert-och-starkvin/madeira/\",\"text\":\"Madeira\"},{\"contentLink\":2524,\"children\":[],\"level\":2,\"hasSelectedChild\":false,\"url\":\"/vin/aperitif-dessert-och-starkvin/glogg/\",\"text\":\"Glögg\"},{\"contentLink\":2508,\"children\":[],\"level\":2,\"hasSelectedChild\":false,\"url\":\"/vin/aperitif-dessert-och-starkvin/vermouth/\",\"text\":\"Vermouth\"},{\"contentLink\":4915,\"children\":[],\"level\":2,\"hasSelectedChild\":false,\"url\":\"/vin/aperitif-dessert-och-starkvin/mjod/\",\"text\":\"Mjöd\"},{\"contentLink\":305,\"children\":[],\"level\":2,\"hasSelectedChild\":false,\"url\":\"/vin/aperitif-dessert-och-starkvin/ovriga-starkviner/\",\"text\":\"Övriga starkviner\"},{\"contentLink\":2297,\"children\":[],\"level\":2,\"hasSelectedChild\":false,\"url\":\"/vin/aperitif-dessert-och-starkvin/vilket-starkvin-ar-vad/\",\"text\":\"Vilket starkvin är vad?\"}],\"level\":1,\"hasSelectedChild\":false,\"url\":\"/vin/aperitif-dessert-och-starkvin/\",\"text\":\"Om aperitif, dessert- &amp; starkvin\"},{\"contentLink\":2242,\"children\":[{\"contentLink\":3562,\"children\":[],\"level\":2,\"hasSelectedChild\":false,\"url\":\"/vin/druvans-varld/beromda-blandningar/\",\"text\":\"Berömda blandningar\"},{\"contentLink\":2968,\"children\":[],\"level\":2,\"hasSelectedChild\":false,\"url\":\"/vin/druvans-varld/druvsorter/\",\"text\":\"Druvsorter\"},{\"contentLink\":2302,\"children\":[],\"level\":2,\"hasSelectedChild\":false,\"url\":\"/vin/druvans-varld/vinets-historia/\",\"text\":\"Vinets historia\"},{\"contentLink\":2304,\"children\":[],\"level\":2,\"hasSelectedChild\":false,\"url\":\"/vin/druvans-varld/odla-vindruvor/\",\"text\":\"Odla vindruvor\"},{\"contentLink\":2866,\"children\":[],\"level\":2,\"hasSelectedChild\":false,\"url\":\"/vin/druvans-varld/tre-bla-pa-tre-roda/\",\"text\":\"Tre blå på tre röda\"}],\"level\":1,\"hasSelectedChild\":false,\"url\":\"/vin/druvans-varld/\",\"text\":\"Druvans värld\"},{\"contentLink\":2243,\"children\":[{\"contentLink\":2315,\"children\":[],\"level\":2,\"hasSelectedChild\":false,\"url\":\"/vin/vinprovning/systembolaget/\",\"text\":\"Vinprovning på Systembolaget\"},{\"contentLink\":3121,\"children\":[{\"contentLink\":3122,\"children\":[],\"level\":3,\"hasSelectedChild\":false,\"url\":\"/vin/vinprovning/hemma/prova-olika-smaktyper-av-vin/\",\"text\":\"Prova olika smaktyper av vin\"},{\"contentLink\":3124,\"children\":[],\"level\":3,\"hasSelectedChild\":false,\"url\":\"/vin/vinprovning/hemma/prova-rott-vin-av-fyra-olika-druvor/\",\"text\":\"Prova rött vin av fyra olika druvor\"},{\"contentLink\":3123,\"children\":[],\"level\":3,\"hasSelectedChild\":false,\"url\":\"/vin/vinprovning/hemma/prova-syrah-shiraz-cabernet-sauvignon/\",\"text\":\"Prova syrah, shiraz och cabernet sauvignon\"},{\"contentLink\":3128,\"children\":[],\"level\":3,\"hasSelectedChild\":false,\"url\":\"/vin/vinprovning/hemma/prova-vitt-vin-av-fyra-olika-druvor/\",\"text\":\"Prova vitt vin av fyra olika druvor\"},{\"contentLink\":3129,\"children\":[],\"level\":3,\"hasSelectedChild\":false,\"url\":\"/vin/vinprovning/hemma/prova-riesling-chardonnay/\",\"text\":\"Prova riesling och chardonnay\"},{\"contentLink\":3133,\"children\":[],\"level\":3,\"hasSelectedChild\":false,\"url\":\"/vin/vinprovning/hemma/prova-olika-mousserande-vin/\",\"text\":\"Prova olika mousserande vin\"},{\"contentLink\":3130,\"children\":[],\"level\":3,\"hasSelectedChild\":false,\"url\":\"/vin/vinprovning/hemma/prova-vitt-vin-till-mat-hemma/\",\"text\":\"Prova vitt vin till mat hemma\"},{\"contentLink\":3134,\"children\":[],\"level\":3,\"hasSelectedChild\":false,\"url\":\"/vin/vinprovning/hemma/prova-mat-till-mousserande-vin/\",\"text\":\"Prova mat till mousserande vin\"},{\"contentLink\":3137,\"children\":[],\"level\":3,\"hasSelectedChild\":false,\"url\":\"/vin/vinprovning/hemma/prova-mat-till-rosevin/\",\"text\":\"Prova mat till rosévin\"},{\"contentLink\":3120,\"children\":[],\"level\":3,\"hasSelectedChild\":false,\"url\":\"/vin/vinprovning/hemma/vinprovningsprotokoll/\",\"text\":\"Vinprovningsprotokoll\"}],\"level\":2,\"hasSelectedChild\":false,\"url\":\"/vin/vinprovning/hemma/\",\"text\":\"Hemma\"},{\"contentLink\":2318,\"children\":[],\"level\":2,\"hasSelectedChild\":false,\"url\":\"/vin/vinprovning/hur-mycket-dryck-gar-det-at/\",\"text\":\"Hur mycket vin går det åt?\"},{\"contentLink\":2319,\"children\":[],\"level\":2,\"hasSelectedChild\":false,\"url\":\"/vin/vinprovning/hur-lange-haller-oppnat-vin/\",\"text\":\"Hur länge håller öppnat vin?\"},{\"contentLink\":2320,\"children\":[],\"level\":2,\"hasSelectedChild\":false,\"url\":\"/vin/vinprovning/defekt/\",\"text\":\"Defekt vin\"},{\"contentLink\":3140,\"children\":[{\"contentLink\":3141,\"children\":[],\"level\":3,\"hasSelectedChild\":false,\"url\":\"/vin/vinprovning/temperatur-vin/temperatur-rodvin/\",\"text\":\"Temperatur på rött vin\"},{\"contentLink\":3142,\"children\":[],\"level\":3,\"hasSelectedChild\":false,\"url\":\"/vin/vinprovning/temperatur-vin/temperatur-vitt-vin/\",\"text\":\"Temperatur på vitt vin\"},{\"contentLink\":3144,\"children\":[],\"level\":3,\"hasSelectedChild\":false,\"url\":\"/vin/vinprovning/temperatur-vin/temperatur-rosevin/\",\"text\":\"Temperatur på rosévin\"},{\"contentLink\":3145,\"children\":[],\"level\":3,\"hasSelectedChild\":false,\"url\":\"/vin/vinprovning/temperatur-vin/temperatur-mousserande-vin/\",\"text\":\"Temperatur på mousserande vin\"},{\"contentLink\":3143,\"children\":[],\"level\":3,\"hasSelectedChild\":false,\"url\":\"/vin/vinprovning/temperatur-vin/temperatur-dessertvin-sota-viner/\",\"text\":\"Temperatur på dessertvin\"}],\"level\":2,\"hasSelectedChild\":false,\"url\":\"/vin/vinprovning/temperatur-vin/\",\"text\":\"Temperatur på vin\"}],\"level\":1,\"hasSelectedChild\":false,\"url\":\"/vin/vinprovning/\",\"text\":\"Vinprovning\"},{\"contentLink\":2244,\"children\":[{\"contentLink\":2324,\"children\":[{\"contentLink\":3138,\"children\":[],\"level\":3,\"hasSelectedChild\":false,\"url\":\"/vin/argang-och-lagring/lagra-vin/vilka-viner-kan-man-lagra/\",\"text\":\"Vilka viner kan man lagra?\"}],\"level\":2,\"hasSelectedChild\":false,\"url\":\"/vin/argang-och-lagring/lagra-vin/\",\"text\":\"Lagra vin\"}],\"level\":1,\"hasSelectedChild\":false,\"url\":\"/vin/argang-och-lagring/\",\"text\":\"Årgång &amp; lagring\"},{\"contentLink\":2245,\"children\":[{\"contentLink\":2321,\"children\":[{\"contentLink\":3084,\"children\":[],\"level\":3,\"hasSelectedChild\":false,\"url\":\"/vin/vad-innehaller-vin/socker-i-vin/socker-i-mousserande-vin/\",\"text\":\"Socker i mousserande vin\"}],\"level\":2,\"hasSelectedChild\":false,\"url\":\"/vin/vad-innehaller-vin/socker-i-vin/\",\"text\":\"Socker i vin\"},{\"contentLink\":3276,\"children\":[],\"level\":2,\"hasSelectedChild\":false,\"url\":\"/vin/vad-innehaller-vin/sulfit-i-vin/\",\"text\":\"Sulfit i vin\"},{\"contentLink\":2337,\"children\":[{\"contentLink\":3101,\"children\":[],\"level\":3,\"hasSelectedChild\":false,\"url\":\"/vin/vad-innehaller-vin/vad-star-det-pa-vinets-etikett/aromlexikon-roda-viner/\",\"text\":\"Aromlexikon röda viner\"},{\"contentLink\":3100,\"children\":[],\"level\":3,\"hasSelectedChild\":false,\"url\":\"/vin/vad-innehaller-vin/vad-star-det-pa-vinets-etikett/aromlexikon-vita-viner/\",\"text\":\"Aromlexikon vita viner\"}],\"level\":2,\"hasSelectedChild\":false,\"url\":\"/vin/vad-innehaller-vin/vad-star-det-pa-vinets-etikett/\",\"text\":\"Vad står det på vinets etikett?\"}],\"level\":1,\"hasSelectedChild\":false,\"url\":\"/vin/vad-innehaller-vin/\",\"text\":\"Vad innehåller vin?\"},{\"contentLink\":2246,\"children\":[{\"contentLink\":2328,\"children\":[],\"level\":2,\"hasSelectedChild\":false,\"url\":\"/vin/eko-bio-vegan-natur/ekologiskt-vin/\",\"text\":\"Ekologiskt vin\"},{\"contentLink\":2329,\"children\":[],\"level\":2,\"hasSelectedChild\":false,\"url\":\"/vin/eko-bio-vegan-natur/veganskt-vin/\",\"text\":\"Veganskt vin\"},{\"contentLink\":65,\"children\":[],\"level\":2,\"hasSelectedChild\":false,\"url\":\"/vin/eko-bio-vegan-natur/naturvin/\",\"text\":\"Naturvin\"},{\"contentLink\":64,\"children\":[],\"level\":2,\"hasSelectedChild\":false,\"url\":\"/vin/eko-bio-vegan-natur/biodynamiska-viner/\",\"text\":\"Biodynamiska viner\"}],\"level\":1,\"hasSelectedChild\":false,\"url\":\"/vin/eko-bio-vegan-natur/\",\"text\":\"Eko, bio, vegan och natur\"},{\"contentLink\":3927,\"children\":[],\"level\":1,\"hasSelectedChild\":false,\"url\":\"/vin/vintermer/\",\"text\":\"Vintermer\"},{\"contentLink\":5221,\"children\":[{\"contentLink\":5484,\"children\":[],\"level\":2,\"hasSelectedChild\":false,\"url\":\"/vin/varldens-vinlander/kanada/\",\"text\":\"Kanada\"},{\"contentLink\":5359,\"children\":[{\"contentLink\":5391,\"children\":[],\"level\":3,\"hasSelectedChild\":false,\"url\":\"/vin/varldens-vinlander/usa/nordost---new-york-state/\",\"text\":\"Nordöst - New York State\"},{\"contentLink\":5390,\"children\":[],\"level\":3,\"hasSelectedChild\":false,\"url\":\"/vin/varldens-vinlander/usa/nordvast-oregon-och-washington/\",\"text\":\"Nordväst -Oregon och Washington\"},{\"contentLink\":5360,\"children\":[{\"contentLink\":5361,\"children\":[],\"level\":4,\"hasSelectedChild\":false,\"url\":\"/vin/varldens-vinlander/usa/kalifornien/central-coast/\",\"text\":\"Central Coast\"},{\"contentLink\":5362,\"children\":[],\"level\":4,\"hasSelectedChild\":false,\"url\":\"/vin/varldens-vinlander/usa/kalifornien/central-valley-och-sierra-foothills/\",\"text\":\"Central Valley och Sierra Foothills\"},{\"contentLink\":5363,\"children\":[],\"level\":4,\"hasSelectedChild\":false,\"url\":\"/vin/varldens-vinlander/usa/kalifornien/north-coast/\",\"text\":\"North Coast\"}],\"level\":3,\"hasSelectedChild\":false,\"url\":\"/vin/varldens-vinlander/usa/kalifornien/\",\"text\":\"Kalifornien\"}],\"level\":2,\"hasSelectedChild\":false,\"url\":\"/vin/varldens-vinlander/usa/\",\"text\":\"USA\"},{\"contentLink\":5356,\"children\":[{\"contentLink\":5357,\"children\":[],\"level\":3,\"hasSelectedChild\":false,\"url\":\"/vin/varldens-vinlander/sydamerika/argentina/\",\"text\":\"Argentina\"},{\"contentLink\":5358,\"children\":[],\"level\":3,\"hasSelectedChild\":false,\"url\":\"/vin/varldens-vinlander/sydamerika/chile/\",\"text\":\"Chile\"},{\"contentLink\":5955,\"children\":[],\"level\":3,\"hasSelectedChild\":false,\"url\":\"/vin/varldens-vinlander/sydamerika/uruguay/\",\"text\":\"Uruguay\"}],\"level\":2,\"hasSelectedChild\":false,\"url\":\"/vin/varldens-vinlander/sydamerika/\",\"text\":\"Sydamerika\"},{\"contentLink\":5256,\"children\":[{\"contentLink\":5260,\"children\":[],\"level\":3,\"hasSelectedChild\":false,\"url\":\"/vin/varldens-vinlander/sydafrika/coastal-region/\",\"text\":\"Coastal Region\"}],\"level\":2,\"hasSelectedChild\":false,\"url\":\"/vin/varldens-vinlander/sydafrika/\",\"text\":\"Sydafrika\"},{\"contentLink\":5253,\"children\":[],\"level\":2,\"hasSelectedChild\":false,\"url\":\"/vin/varldens-vinlander/nya-zeeland/\",\"text\":\"Nya Zeeland\"},{\"contentLink\":5247,\"children\":[],\"level\":2,\"hasSelectedChild\":false,\"url\":\"/vin/varldens-vinlander/nordafrika/\",\"text\":\"Nordafrika\"},{\"contentLink\":5246,\"children\":[],\"level\":2,\"hasSelectedChild\":false,\"url\":\"/vin/varldens-vinlander/mellanostern/\",\"text\":\"Mellanöstern\"},{\"contentLink\":5233,\"children\":[{\"contentLink\":5239,\"children\":[],\"level\":3,\"hasSelectedChild\":false,\"url\":\"/vin/varldens-vinlander/australien/victoria-och-tasmanien/\",\"text\":\"Victoria och Tasmanien\"},{\"contentLink\":5238,\"children\":[],\"level\":3,\"hasSelectedChild\":false,\"url\":\"/vin/varldens-vinlander/australien/western-australia/\",\"text\":\"Western Australia\"},{\"contentLink\":5237,\"children\":[],\"level\":3,\"hasSelectedChild\":false,\"url\":\"/vin/varldens-vinlander/australien/south-australia/\",\"text\":\"South Australia\"},{\"contentLink\":5236,\"children\":[],\"level\":3,\"hasSelectedChild\":false,\"url\":\"/vin/varldens-vinlander/australien/new-south-wales-och-queensland/\",\"text\":\"New South Wales och Queensland\"}],\"level\":2,\"hasSelectedChild\":false,\"url\":\"/vin/varldens-vinlander/australien/\",\"text\":\"Australien\"},{\"contentLink\":5222,\"children\":[{\"contentLink\":5341,\"children\":[{\"contentLink\":5959,\"children\":[],\"level\":4,\"hasSelectedChild\":false,\"url\":\"/vin/varldens-vinlander/europa/balkan/serbien/\",\"text\":\"Serbien\"},{\"contentLink\":5918,\"children\":[],\"level\":4,\"hasSelectedChild\":false,\"url\":\"/vin/varldens-vinlander/europa/balkan/kroatien/\",\"text\":\"Kroatien\"}],\"level\":3,\"hasSelectedChild\":false,\"url\":\"/vin/varldens-vinlander/europa/balkan/\",\"text\":\"Balkan\"},{\"contentLink\":5342,\"children\":[],\"level\":3,\"hasSelectedChild\":false,\"url\":\"/vin/varldens-vinlander/europa/osterrike/\",\"text\":\"Österrike\"},{\"contentLink\":5941,\"children\":[],\"level\":3,\"hasSelectedChild\":false,\"url\":\"/vin/varldens-vinlander/europa/georgien/\",\"text\":\"Georgien\"},{\"contentLink\":5339,\"children\":[],\"level\":3,\"hasSelectedChild\":false,\"url\":\"/vin/varldens-vinlander/europa/ungern/\",\"text\":\"Ungern\"},{\"contentLink\":5330,\"children\":[{\"contentLink\":5337,\"children\":[],\"level\":4,\"hasSelectedChild\":false,\"url\":\"/vin/varldens-vinlander/europa/tyskland/rheinhessen/\",\"text\":\"Rheinhessen\"},{\"contentLink\":5336,\"children\":[],\"level\":4,\"hasSelectedChild\":false,\"url\":\"/vin/varldens-vinlander/europa/tyskland/rheingau/\",\"text\":\"Rheingau\"},{\"contentLink\":5335,\"children\":[],\"level\":4,\"hasSelectedChild\":false,\"url\":\"/vin/varldens-vinlander/europa/tyskland/pfalz/\",\"text\":\"Pfalz\"},{\"contentLink\":5333,\"children\":[],\"level\":4,\"hasSelectedChild\":false,\"url\":\"/vin/varldens-vinlander/europa/tyskland/mosel/\",\"text\":\"Mosel\"},{\"contentLink\":5332,\"children\":[],\"level\":4,\"hasSelectedChild\":false,\"url\":\"/vin/varldens-vinlander/europa/tyskland/baden/\",\"text\":\"Baden\"}],\"level\":3,\"hasSelectedChild\":false,\"url\":\"/vin/varldens-vinlander/europa/tyskland/\",\"text\":\"Tyskland\"},{\"contentLink\":5329,\"children\":[],\"level\":3,\"hasSelectedChild\":false,\"url\":\"/vin/varldens-vinlander/europa/england/\",\"text\":\"England\"},{\"contentLink\":5314,\"children\":[{\"contentLink\":5694,\"children\":[],\"level\":4,\"hasSelectedChild\":false,\"url\":\"/vin/varldens-vinlander/europa/spanien/mallorca--balearerna/\",\"text\":\"Mallorca -Balearerna\"},{\"contentLink\":5328,\"children\":[],\"level\":4,\"hasSelectedChild\":false,\"url\":\"/vin/varldens-vinlander/europa/spanien/kanarieoarna/\",\"text\":\"Kanarieöarna\"},{\"contentLink\":5327,\"children\":[],\"level\":4,\"hasSelectedChild\":false,\"url\":\"/vin/varldens-vinlander/europa/spanien/norra-spanien-rioja/\",\"text\":\"Norra Spanien Rioja\"},{\"contentLink\":5325,\"children\":[],\"level\":4,\"hasSelectedChild\":false,\"url\":\"/vin/varldens-vinlander/europa/spanien/levanten/\",\"text\":\"Levanten\"},{\"contentLink\":5324,\"children\":[],\"level\":4,\"hasSelectedChild\":false,\"url\":\"/vin/varldens-vinlander/europa/spanien/katalonien/\",\"text\":\"Katalonien\"},{\"contentLink\":5322,\"children\":[],\"level\":4,\"hasSelectedChild\":false,\"url\":\"/vin/varldens-vinlander/europa/spanien/kastillien-leon/\",\"text\":\"Kastillien León\"},{\"contentLink\":5320,\"children\":[],\"level\":4,\"hasSelectedChild\":false,\"url\":\"/vin/varldens-vinlander/europa/spanien/kastillien-la-mancha/\",\"text\":\"Kastillien La Mancha\"},{\"contentLink\":5318,\"children\":[],\"level\":4,\"hasSelectedChild\":false,\"url\":\"/vin/varldens-vinlander/europa/spanien/galicien/\",\"text\":\"Galicien\"},{\"contentLink\":5317,\"children\":[],\"level\":4,\"hasSelectedChild\":false,\"url\":\"/vin/varldens-vinlander/europa/spanien/andalusien/\",\"text\":\"Andalusien\"}],\"level\":3,\"hasSelectedChild\":false,\"url\":\"/vin/varldens-vinlander/europa/spanien/\",\"text\":\"Spanien\"},{\"contentLink\":5312,\"children\":[],\"level\":3,\"hasSelectedChild\":false,\"url\":\"/vin/varldens-vinlander/europa/schweiz/\",\"text\":\"Schweiz\"},{\"contentLink\":5311,\"children\":[],\"level\":3,\"hasSelectedChild\":false,\"url\":\"/vin/varldens-vinlander/europa/rumanien/\",\"text\":\"Rumänien\"},{\"contentLink\":5309,\"children\":[{\"contentLink\":5310,\"children\":[],\"level\":4,\"hasSelectedChild\":false,\"url\":\"/vin/varldens-vinlander/europa/portugal/douro-port/\",\"text\":\"Douro och Porto\"}],\"level\":3,\"hasSelectedChild\":false,\"url\":\"/vin/varldens-vinlander/europa/portugal/\",\"text\":\"Portugal\"},{\"contentLink\":5307,\"children\":[{\"contentLink\":5394,\"children\":[],\"level\":4,\"hasSelectedChild\":false,\"url\":\"/vin/varldens-vinlander/europa/italien/centrala-italien/\",\"text\":\"Centrala Italien\"},{\"contentLink\":5402,\"children\":[{\"contentLink\":5483,\"children\":[],\"level\":5,\"hasSelectedChild\":false,\"url\":\"/vin/varldens-vinlander/europa/italien/nordostra-italien/hur-tillverkas-amarone-della-valpolicella/\",\"text\":\"Hur tillverkas Amarone della Valpolicella?\"}],\"level\":4,\"hasSelectedChild\":false,\"url\":\"/vin/varldens-vinlander/europa/italien/nordostra-italien/\",\"text\":\"Nordöstra Italien\"},{\"contentLink\":5401,\"children\":[],\"level\":4,\"hasSelectedChild\":false,\"url\":\"/vin/varldens-vinlander/europa/italien/nordvastra-italien/\",\"text\":\"Nordvästra Italien\"},{\"contentLink\":5400,\"children\":[],\"level\":4,\"hasSelectedChild\":false,\"url\":\"/vin/varldens-vinlander/europa/italien/sardinien/\",\"text\":\"Sardinien\"},{\"contentLink\":5398,\"children\":[],\"level\":4,\"hasSelectedChild\":false,\"url\":\"/vin/varldens-vinlander/europa/italien/sicilien/\",\"text\":\"Sicilien\"},{\"contentLink\":5396,\"children\":[],\"level\":4,\"hasSelectedChild\":false,\"url\":\"/vin/varldens-vinlander/europa/italien/sodra-italien/\",\"text\":\"Södra Italien\"}],\"level\":3,\"hasSelectedChild\":false,\"url\":\"/vin/varldens-vinlander/europa/italien/\",\"text\":\"Italien\"},{\"contentLink\":5306,\"children\":[],\"level\":3,\"hasSelectedChild\":false,\"url\":\"/vin/varldens-vinlander/europa/grekland/\",\"text\":\"Grekland\"},{\"contentLink\":5305,\"children\":[],\"level\":3,\"hasSelectedChild\":false,\"url\":\"/vin/varldens-vinlander/europa/cypern/\",\"text\":\"Cypern\"},{\"contentLink\":5304,\"children\":[],\"level\":3,\"hasSelectedChild\":false,\"url\":\"/vin/varldens-vinlander/europa/bulgarien/\",\"text\":\"Bulgarien\"},{\"contentLink\":5223,\"children\":[{\"contentLink\":5226,\"children\":[],\"level\":4,\"hasSelectedChild\":false,\"url\":\"/vin/varldens-vinlander/europa/frankrike/alsace/\",\"text\":\"Alsace\"},{\"contentLink\":5262,\"children\":[{\"contentLink\":5279,\"children\":[],\"level\":5,\"hasSelectedChild\":false,\"url\":\"/vin/varldens-vinlander/europa/frankrike/bourgogne/cote-chalonnaise/\",\"text\":\"Côte Chalonnaise\"},{\"contentLink\":5278,\"children\":[],\"level\":5,\"hasSelectedChild\":false,\"url\":\"/vin/varldens-vinlander/europa/frankrike/bourgogne/cote-de-nuits/\",\"text\":\"Côte de Nuits\"},{\"contentLink\":5276,\"children\":[],\"level\":5,\"hasSelectedChild\":false,\"url\":\"/vin/varldens-vinlander/europa/frankrike/bourgogne/maconnais/\",\"text\":\"Mâconnais\"},{\"contentLink\":5274,\"children\":[],\"level\":5,\"hasSelectedChild\":false,\"url\":\"/vin/varldens-vinlander/europa/frankrike/bourgogne/cote-de-beaune/\",\"text\":\"Côte de Beaune\"},{\"contentLink\":5272,\"children\":[],\"level\":5,\"hasSelectedChild\":false,\"url\":\"/vin/varldens-vinlander/europa/frankrike/bourgogne/chablis/\",\"text\":\"Chablis\"},{\"contentLink\":5268,\"children\":[],\"level\":5,\"hasSelectedChild\":false,\"url\":\"/vin/varldens-vinlander/europa/frankrike/bourgogne/beaujolais/\",\"text\":\"Beaujolais\"}],\"level\":4,\"hasSelectedChild\":false,\"url\":\"/vin/varldens-vinlander/europa/frankrike/bourgogne/\",\"text\":\"Bourgogne\"},{\"contentLink\":5224,\"children\":[{\"contentLink\":5254,\"children\":[],\"level\":5,\"hasSelectedChild\":false,\"url\":\"/vin/varldens-vinlander/europa/frankrike/bordeaux/ostra-bordeaux/\",\"text\":\"Östra Bordeaux\"},{\"contentLink\":5241,\"children\":[],\"level\":5,\"hasSelectedChild\":false,\"url\":\"/vin/varldens-vinlander/europa/frankrike/bordeaux/haut-medoc/\",\"text\":\"Haut-Médoc\"},{\"contentLink\":5240,\"children\":[],\"level\":5,\"hasSelectedChild\":false,\"url\":\"/vin/varldens-vinlander/europa/frankrike/bordeaux/graves--pessac-leognan/\",\"text\":\"Graves &amp; Pessac-Leognan\"},{\"contentLink\":5225,\"children\":[],\"level\":5,\"hasSelectedChild\":false,\"url\":\"/vin/varldens-vinlander/europa/frankrike/bordeaux/entre-deux-mers/\",\"text\":\"Entre-Deux-Mers\"}],\"level\":4,\"hasSelectedChild\":false,\"url\":\"/vin/varldens-vinlander/europa/frankrike/bordeaux/\",\"text\":\"Bordeaux\"},{\"contentLink\":5281,\"children\":[],\"level\":4,\"hasSelectedChild\":false,\"url\":\"/vin/varldens-vinlander/europa/frankrike/champagne/\",\"text\":\"Champagne\"},{\"contentLink\":5283,\"children\":[],\"level\":4,\"hasSelectedChild\":false,\"url\":\"/vin/varldens-vinlander/europa/frankrike/jura--savojen/\",\"text\":\"Jura och Savojen\"},{\"contentLink\":5285,\"children\":[],\"level\":4,\"hasSelectedChild\":false,\"url\":\"/vin/varldens-vinlander/europa/frankrike/korsika/\",\"text\":\"Korsika\"},{\"contentLink\":5286,\"children\":[],\"level\":4,\"hasSelectedChild\":false,\"url\":\"/vin/varldens-vinlander/europa/frankrike/languedoc/\",\"text\":\"Languedoc\"},{\"contentLink\":5288,\"children\":[{\"contentLink\":5294,\"children\":[],\"level\":5,\"hasSelectedChild\":false,\"url\":\"/vin/varldens-vinlander/europa/frankrike/loire/ovre-loire/\",\"text\":\"Övre Loire\"},{\"contentLink\":5293,\"children\":[],\"level\":5,\"hasSelectedChild\":false,\"url\":\"/vin/varldens-vinlander/europa/frankrike/loire/touraine/\",\"text\":\"Touraine\"},{\"contentLink\":5292,\"children\":[],\"level\":5,\"hasSelectedChild\":false,\"url\":\"/vin/varldens-vinlander/europa/frankrike/loire/pays-nantais/\",\"text\":\"Pays Nantais\"},{\"contentLink\":5291,\"children\":[],\"level\":5,\"hasSelectedChild\":false,\"url\":\"/vin/varldens-vinlander/europa/frankrike/loire/anjou-samur/\",\"text\":\"Anjou-Samur\"}],\"level\":4,\"hasSelectedChild\":false,\"url\":\"/vin/varldens-vinlander/europa/frankrike/loire/\",\"text\":\"Loire\"},{\"contentLink\":5295,\"children\":[],\"level\":4,\"hasSelectedChild\":false,\"url\":\"/vin/varldens-vinlander/europa/frankrike/rhonedalen-norra/\",\"text\":\"Rhônedalen norra\"},{\"contentLink\":5296,\"children\":[],\"level\":4,\"hasSelectedChild\":false,\"url\":\"/vin/varldens-vinlander/europa/frankrike/rhonedalen-sodra/\",\"text\":\"Rhônedalen södra\"},{\"contentLink\":5297,\"children\":[],\"level\":4,\"hasSelectedChild\":false,\"url\":\"/vin/varldens-vinlander/europa/frankrike/provence/\",\"text\":\"Provence\"},{\"contentLink\":5298,\"children\":[],\"level\":4,\"hasSelectedChild\":false,\"url\":\"/vin/varldens-vinlander/europa/frankrike/roussilion/\",\"text\":\"Roussilion\"},{\"contentLink\":5301,\"children\":[{\"contentLink\":5499,\"children\":[],\"level\":5,\"hasSelectedChild\":false,\"url\":\"/vin/varldens-vinlander/europa/frankrike/sydvastra-frankrike/dordogne/\",\"text\":\"Dordogne\"}],\"level\":4,\"hasSelectedChild\":false,\"url\":\"/vin/varldens-vinlander/europa/frankrike/sydvastra-frankrike/\",\"text\":\"Sydvästra Frankrike\"}],\"level\":3,\"hasSelectedChild\":false,\"url\":\"/vin/varldens-vinlander/europa/frankrike/\",\"text\":\"Frankrike\"}],\"level\":2,\"hasSelectedChild\":false,\"url\":\"/vin/varldens-vinlander/europa/\",\"text\":\"Europa\"}],\"level\":1,\"hasSelectedChild\":false,\"url\":\"/vin/varldens-vinlander/\",\"text\":\"Världens vinländer\"}],\"isExpandable\":true,\"linkLevel2\":null,\"contentSectionPageLinks\":null,\"hasSelectedChild\":false,\"url\":\"/vin/\",\"text\":\"Vin\"},{\"contentLink\":25,\"headingLevel2\":\"Kunskap &amp; inspiration\",\"linkHeadingLevel2\":null,\"imageBlocks\":[{\"contentLink\":25,\"text\":\"Lär dig mer om öl\",\"url\":\"/ol/\",\"image\":\"https://beta-cdn.systembolaget.se/4a3d7a/globalassets/ol/100-humle.jpg?w=358\",\"alt\":\"Humlekottar som står på ett bord\"}],\"shortcutCards\":[{\"contentLink\":25,\"numberOfProducts\":null,\"image\":\"\",\"backgroundcolor\":\"#FFCEB7\",\"url\":\"/sok/?categoryLevel1=%c3%96l&amp;newArrivalType=Nytt+senaste+m%c3%a5naden\",\"text\":\"Ölnyheter\"},{\"contentLink\":25,\"numberOfProducts\":null,\"image\":\"\",\"backgroundcolor\":\"#D6E9DF\",\"url\":\"/sok/?textQuery=&amp;categoryLevel1=%c3%96l&amp;isEcoFriendlyPackage=true\",\"text\":\"Klimatsmartare förpackningar\"},{\"contentLink\":25,\"numberOfProducts\":null,\"image\":\"\",\"backgroundcolor\":\"#F9F6D3\",\"url\":\"/sok/?textQuery=glutenfria+%c3%b6l&amp;categoryLevel1=%c3%96l\",\"text\":\"Glutenfri öl\"}],\"productCategories\":[{\"contentLink\":25,\"numberOfProducts\":3886,\"url\":\"/sok/?categoryLevel1=%C3%96l\",\"text\":\"Alla öl\"},{\"contentLink\":25,\"numberOfProducts\":1860,\"url\":\"/sok/?categoryLevel1=%C3%96l&amp;categoryLevel2=Ale\",\"text\":\"Ale\"},{\"contentLink\":25,\"numberOfProducts\":827,\"url\":\"/sok/?categoryLevel1=%C3%96l&amp;categoryLevel2=Ljus%20lager\",\"text\":\"Ljus lager\"},{\"contentLink\":25,\"numberOfProducts\":351,\"url\":\"/sok/?categoryLevel1=%C3%96l&amp;categoryLevel2=Porter%20%26%20Stout\",\"text\":\"Porter &amp; Stout\"},{\"contentLink\":25,\"numberOfProducts\":341,\"url\":\"/sok/?categoryLevel1=%C3%96l&amp;categoryLevel2=Syrlig%20%C3%B6l\",\"text\":\"Syrlig öl\"},{\"contentLink\":25,\"numberOfProducts\":210,\"url\":\"/sok/?categoryLevel1=%C3%96l&amp;categoryLevel2=Mellanm%C3%B6rk%20%26%20M%C3%B6rk%20lager\",\"text\":\"Mellanmörk &amp; Mörk lager\"},{\"contentLink\":25,\"numberOfProducts\":121,\"url\":\"/sok/?categoryLevel1=%C3%96l&amp;categoryLevel2=Vete%C3%B6l\",\"text\":\"Veteöl\"},{\"contentLink\":25,\"numberOfProducts\":88,\"url\":\"/sok/?categoryLevel1=%C3%96l&amp;categoryLevel2=Annan%20%C3%B6l\",\"text\":\"Annan öl\"}],\"children\":[{\"contentLink\":863,\"children\":[{\"contentLink\":374,\"children\":[],\"level\":2,\"hasSelectedChild\":false,\"url\":\"/ol/olstilar/skillnaden-mellan-lager-och-ale/\",\"text\":\"Skillnaden mellan lager och ale\"},{\"contentLink\":5078,\"children\":[],\"level\":2,\"hasSelectedChild\":false,\"url\":\"/ol/olstilar/syrlig-ol/\",\"text\":\"Syrlig öl\"}],\"level\":1,\"hasSelectedChild\":false,\"url\":\"/ol/olstilar/\",\"text\":\"Ölstilar\"},{\"contentLink\":793,\"children\":[{\"contentLink\":902,\"children\":[],\"level\":2,\"hasSelectedChild\":false,\"url\":\"/ol/humlens-varld/humlesorter/\",\"text\":\"Humlesorter\"},{\"contentLink\":426,\"children\":[],\"level\":2,\"hasSelectedChild\":false,\"url\":\"/ol/humlens-varld/humlens-magiska-egenskaper/\",\"text\":\"Humlens magiska egenskaper\"},{\"contentLink\":425,\"children\":[],\"level\":2,\"hasSelectedChild\":false,\"url\":\"/ol/humlens-varld/amerikansk-vs-europeisk-humle/\",\"text\":\"Amerikansk vs Europeisk humle\"},{\"contentLink\":424,\"children\":[],\"level\":2,\"hasSelectedChild\":false,\"url\":\"/ol/humlens-varld/humlefakta/\",\"text\":\"Humlefakta\"},{\"contentLink\":423,\"children\":[],\"level\":2,\"hasSelectedChild\":false,\"url\":\"/ol/humlens-varld/fem-humlesorter-att-ha-koll-pa/\",\"text\":\"5 humlesorter att ha koll på\"}],\"level\":1,\"hasSelectedChild\":false,\"url\":\"/ol/humlens-varld/\",\"text\":\"Humlens värld\"},{\"contentLink\":652,\"children\":[{\"contentLink\":146,\"children\":[],\"level\":2,\"hasSelectedChild\":false,\"url\":\"/ol/prova-servera-ol/prova-ol/\",\"text\":\"Ölprovning på Systembolaget\"},{\"contentLink\":147,\"children\":[{\"contentLink\":5077,\"children\":[],\"level\":3,\"hasSelectedChild\":false,\"url\":\"/ol/prova-servera-ol/hemma/felsmaker-i-ol/\",\"text\":\"Felsmaker i öl\"},{\"contentLink\":152,\"children\":[],\"level\":3,\"hasSelectedChild\":false,\"url\":\"/ol/prova-servera-ol/hemma/prova-olika-ol/\",\"text\":\"Prova olika öl\"},{\"contentLink\":151,\"children\":[],\"level\":3,\"hasSelectedChild\":false,\"url\":\"/ol/prova-servera-ol/hemma/prova-olika-beska/\",\"text\":\"Prova olika beska\"},{\"contentLink\":150,\"children\":[],\"level\":3,\"hasSelectedChild\":false,\"url\":\"/ol/prova-servera-ol/hemma/prova-ol-och-mat/\",\"text\":\"Prova öl och mat\"},{\"contentLink\":149,\"children\":[],\"level\":3,\"hasSelectedChild\":false,\"url\":\"/ol/prova-servera-ol/hemma/prova-ale/\",\"text\":\"Prova ale\"},{\"contentLink\":148,\"children\":[],\"level\":3,\"hasSelectedChild\":false,\"url\":\"/ol/prova-servera-ol/hemma/olprovningsprotokoll/\",\"text\":\"Ölprovningsprotokoll\"}],\"level\":2,\"hasSelectedChild\":false,\"url\":\"/ol/prova-servera-ol/hemma/\",\"text\":\"Ölprovning hemma\"},{\"contentLink\":375,\"children\":[],\"level\":2,\"hasSelectedChild\":false,\"url\":\"/ol/prova-servera-ol/ordlista/\",\"text\":\"Liten ordlista för öl\"},{\"contentLink\":156,\"children\":[],\"level\":2,\"hasSelectedChild\":false,\"url\":\"/ol/prova-servera-ol/att-halla-upp-ol/\",\"text\":\"Att hälla upp öl\"},{\"contentLink\":433,\"children\":[],\"level\":2,\"hasSelectedChild\":false,\"url\":\"/ol/prova-servera-ol/oltemperatur/\",\"text\":\"Öltemperatur\"},{\"contentLink\":157,\"children\":[],\"level\":2,\"hasSelectedChild\":false,\"url\":\"/ol/prova-servera-ol/vilket-olglas/\",\"text\":\"Vilket ölglas?\"}],\"level\":1,\"hasSelectedChild\":false,\"url\":\"/ol/prova-servera-ol/\",\"text\":\"Prova &amp; servera öl\"},{\"contentLink\":427,\"children\":[],\"level\":1,\"hasSelectedChild\":false,\"url\":\"/ol/ciceron-nordiga-olsamtal/\",\"text\":\"Ciceron - nördiga ölsamtal\"},{\"contentLink\":1181,\"children\":[{\"contentLink\":419,\"children\":[{\"contentLink\":1190,\"children\":[],\"level\":3,\"hasSelectedChild\":false,\"url\":\"/ol/oltillverkning-ingredienser/ingredienser-i-ol/malt/\",\"text\":\"Malt\"}],\"level\":2,\"hasSelectedChild\":false,\"url\":\"/ol/oltillverkning-ingredienser/ingredienser-i-ol/\",\"text\":\"Ingredienser i öl\"},{\"contentLink\":130,\"children\":[],\"level\":2,\"hasSelectedChild\":false,\"url\":\"/ol/oltillverkning-ingredienser/olbryggning/\",\"text\":\"Ölbryggning\"},{\"contentLink\":185,\"children\":[],\"level\":2,\"hasSelectedChild\":false,\"url\":\"/ol/oltillverkning-ingredienser/maltning/\",\"text\":\"Mältning\"},{\"contentLink\":186,\"children\":[],\"level\":2,\"hasSelectedChild\":false,\"url\":\"/ol/oltillverkning-ingredienser/maskning/\",\"text\":\"Mäskning\"},{\"contentLink\":1191,\"children\":[],\"level\":2,\"hasSelectedChild\":false,\"url\":\"/ol/oltillverkning-ingredienser/vortkokning/\",\"text\":\"Vörtkokning\"},{\"contentLink\":184,\"children\":[],\"level\":2,\"hasSelectedChild\":false,\"url\":\"/ol/oltillverkning-ingredienser/jasning/\",\"text\":\"Jäsning\"},{\"contentLink\":469,\"children\":[],\"level\":2,\"hasSelectedChild\":false,\"url\":\"/ol/oltillverkning-ingredienser/efterbehandling/\",\"text\":\"Efterbehandling\"},{\"contentLink\":450,\"children\":[],\"level\":2,\"hasSelectedChild\":false,\"url\":\"/ol/oltillverkning-ingredienser/vad-gor-vad-i-olet/\",\"text\":\"Vad gör vad i ölet?\"}],\"level\":1,\"hasSelectedChild\":false,\"url\":\"/ol/oltillverkning-ingredienser/\",\"text\":\"Öltillverkning &amp; ingredienser\"},{\"contentLink\":209,\"children\":[{\"contentLink\":132,\"children\":[],\"level\":2,\"hasSelectedChild\":false,\"url\":\"/ol/ursprung/amerikansk-ol/\",\"text\":\"Amerikansk öl\"},{\"contentLink\":133,\"children\":[],\"level\":2,\"hasSelectedChild\":false,\"url\":\"/ol/ursprung/belgisk-ol/\",\"text\":\"Belgisk öl\"},{\"contentLink\":134,\"children\":[],\"level\":2,\"hasSelectedChild\":false,\"url\":\"/ol/ursprung/engelsk-ol/\",\"text\":\"Engelsk öl\"},{\"contentLink\":135,\"children\":[],\"level\":2,\"hasSelectedChild\":false,\"url\":\"/ol/ursprung/italiensk-ol/\",\"text\":\"Italiensk öl\"},{\"contentLink\":136,\"children\":[],\"level\":2,\"hasSelectedChild\":false,\"url\":\"/ol/ursprung/svensk-ol/\",\"text\":\"Svensk öl\"},{\"contentLink\":137,\"children\":[],\"level\":2,\"hasSelectedChild\":false,\"url\":\"/ol/ursprung/tjeckisk-ol/\",\"text\":\"Tjeckisk öl\"},{\"contentLink\":138,\"children\":[],\"level\":2,\"hasSelectedChild\":false,\"url\":\"/ol/ursprung/tysk-ol/\",\"text\":\"Tysk öl\"}],\"level\":1,\"hasSelectedChild\":false,\"url\":\"/ol/ursprung/\",\"text\":\"Ursprung\"},{\"contentLink\":372,\"children\":[],\"level\":1,\"hasSelectedChild\":false,\"url\":\"/ol/ekologisk-ol/\",\"text\":\"Ekologisk öl\"},{\"contentLink\":373,\"children\":[],\"level\":1,\"hasSelectedChild\":false,\"url\":\"/ol/glutenfri-ol/\",\"text\":\"Glutenfri öl\"},{\"contentLink\":188,\"children\":[],\"level\":1,\"hasSelectedChild\":false,\"url\":\"/ol/lagra-ol/\",\"text\":\"Lagra öl\"},{\"contentLink\":155,\"children\":[],\"level\":1,\"hasSelectedChild\":false,\"url\":\"/ol/ol-beska/\",\"text\":\"Öl &amp; beska\"},{\"contentLink\":301,\"children\":[],\"level\":1,\"hasSelectedChild\":false,\"url\":\"/ol/olets-historia/\",\"text\":\"Ölets historia\"}],\"isExpandable\":true,\"linkLevel2\":null,\"contentSectionPageLinks\":null,\"hasSelectedChild\":false,\"url\":\"/ol/\",\"text\":\"Öl\"},{\"contentLink\":26,\"headingLevel2\":\"Kunskap &amp; inspiration\",\"linkHeadingLevel2\":null,\"imageBlocks\":[{\"contentLink\":26,\"text\":\"Lär dig mer om sprit\",\"url\":\"/sprit/\",\"image\":\"https://beta-cdn.systembolaget.se/4a3dc5/globalassets/sprit/100-vete.jpg?w=358\",\"alt\":\"Spritkunskap: Vetekorn.\"}],\"shortcutCards\":[{\"contentLink\":26,\"numberOfProducts\":null,\"image\":\"\",\"backgroundcolor\":\"#FFCEB7\",\"url\":\"/sok/?textQuery=&amp;newArrivalType=Nytt+senaste+3+m%c3%a5nader&amp;categoryLevel1=Sprit\",\"text\":\"Senaste spritnyheterna\"},{\"contentLink\":26,\"numberOfProducts\":null,\"image\":\"\",\"backgroundcolor\":\"#D6E9DF\",\"url\":\"/sok/?categoryLevel1=Sprit&amp;csr=Ekologiskt\",\"text\":\"Ekologisk sprit\"},{\"contentLink\":26,\"numberOfProducts\":null,\"image\":\"\",\"backgroundcolor\":\"#F9F6D3\",\"url\":\"/sok/?textQuery=mindre+flaska&amp;categoryLevel1=Sprit\",\"text\":\"Mindre flaskor (högst 500 ml)\"}],\"productCategories\":[{\"contentLink\":26,\"numberOfProducts\":3808,\"url\":\"/sok/?categoryLevel1=Sprit\",\"text\":\"Alla spritdrycker\"},{\"contentLink\":26,\"numberOfProducts\":1380,\"url\":\"/sok/?categoryLevel1=Sprit&amp;categoryLevel2=Whisky\",\"text\":\"Whisky\"},{\"contentLink\":26,\"numberOfProducts\":482,\"url\":\"/sok/?categoryLevel1=Sprit&amp;categoryLevel2=Rom\",\"text\":\"Rom\"},{\"contentLink\":26,\"numberOfProducts\":394,\"url\":\"/sok/?categoryLevel1=Sprit&amp;categoryLevel2=Gin%20%26%20Genever\",\"text\":\"Gin &amp; Genever\"},{\"contentLink\":26,\"numberOfProducts\":391,\"url\":\"/sok/?categoryLevel1=Sprit&amp;categoryLevel2=Lik%C3%B6r\",\"text\":\"Likör\"},{\"contentLink\":26,\"numberOfProducts\":242,\"url\":\"/sok/?categoryLevel1=Sprit&amp;categoryLevel2=Akvavit%20%26%20Kryddat%20br%C3%A4nnvin\",\"text\":\"Akvavit &amp; Kryddat brännvin\"},{\"contentLink\":26,\"numberOfProducts\":155,\"url\":\"/sok/?categoryLevel1=Sprit&amp;categoryLevel2=Cognac\",\"text\":\"Cognac\"},{\"contentLink\":26,\"numberOfProducts\":119,\"url\":\"/sok/?categoryLevel1=Sprit&amp;categoryLevel2=Tequila%20%26%20Mezcal\",\"text\":\"Tequila &amp; Mezcal\"},{\"contentLink\":26,\"numberOfProducts\":116,\"url\":\"/sok/?categoryLevel1=Sprit&amp;categoryLevel2=Vodka%20%26%20Okryddat%20br%C3%A4nnvin\",\"text\":\"Vodka &amp; Okryddat brännvin\"},{\"contentLink\":26,\"numberOfProducts\":113,\"url\":\"/sok/?categoryLevel1=Sprit&amp;categoryLevel2=Grappa%20%26%20Marc\",\"text\":\"Grappa &amp; Marc\"},{\"contentLink\":26,\"numberOfProducts\":88,\"url\":\"/sok/?categoryLevel1=Sprit&amp;categoryLevel2=Smaksatt%20sprit\",\"text\":\"Smaksatt sprit\"},{\"contentLink\":26,\"numberOfProducts\":76,\"url\":\"/sok/?categoryLevel1=Sprit&amp;categoryLevel2=Armagnac%20%26%20Brandy\",\"text\":\"Armagnac &amp; Brandy\"},{\"contentLink\":26,\"numberOfProducts\":55,\"url\":\"/sok/?categoryLevel1=Sprit&amp;categoryLevel2=Bitter\",\"text\":\"Bitter\"},{\"contentLink\":26,\"numberOfProducts\":55,\"url\":\"/sok/?categoryLevel1=Sprit&amp;categoryLevel2=Calvados\",\"text\":\"Calvados\"},{\"contentLink\":26,\"numberOfProducts\":44,\"url\":\"/sok/?categoryLevel1=Sprit&amp;categoryLevel2=Frukt%20%26%20Druvsprit\",\"text\":\"Frukt &amp; Druvsprit\"},{\"contentLink\":26,\"numberOfProducts\":25,\"url\":\"/sok/?categoryLevel1=Sprit&amp;categoryLevel2=Anissprit\",\"text\":\"Anissprit\"},{\"contentLink\":26,\"numberOfProducts\":23,\"url\":\"/sok/?categoryLevel1=Sprit&amp;categoryLevel2=Punsch\",\"text\":\"Punsch\"},{\"contentLink\":26,\"numberOfProducts\":18,\"url\":\"/sok/?categoryLevel1=Sprit&amp;categoryLevel2=Drinkar%20%26%20Cocktails\",\"text\":\"Drinkar &amp; Cocktails\"},{\"contentLink\":26,\"numberOfProducts\":4,\"url\":\"/sok/?categoryLevel1=Sprit&amp;categoryLevel2=Sprit%20av%20flera%20typer\",\"text\":\"Sprit av flera typer\"}],\"children\":[{\"contentLink\":351,\"children\":[{\"contentLink\":352,\"children\":[],\"level\":2,\"hasSelectedChild\":false,\"url\":\"/sprit/hur-tillverkas-sprit/destillering/\",\"text\":\"Destillering\"}],\"level\":1,\"hasSelectedChild\":false,\"url\":\"/sprit/hur-tillverkas-sprit/\",\"text\":\"Hur tillverkas sprit?\"},{\"contentLink\":1801,\"children\":[{\"contentLink\":362,\"children\":[{\"contentLink\":363,\"children\":[],\"level\":3,\"hasSelectedChild\":false,\"url\":\"/sprit/whisky/whiskysorter/maltwhisky/\",\"text\":\"Maltwhisky\"},{\"contentLink\":364,\"children\":[],\"level\":3,\"hasSelectedChild\":false,\"url\":\"/sprit/whisky/whiskysorter/blended-whisky/\",\"text\":\"Blended whisky\"},{\"contentLink\":365,\"children\":[],\"level\":3,\"hasSelectedChild\":false,\"url\":\"/sprit/whisky/whiskysorter/grain-whisky/\",\"text\":\"Grain whisky\"},{\"contentLink\":366,\"children\":[{\"contentLink\":367,\"children\":[],\"level\":4,\"hasSelectedChild\":false,\"url\":\"/sprit/whisky/whiskysorter/rokighet/rokighetsklockan/\",\"text\":\"Rökighetsklockan\"}],\"level\":3,\"hasSelectedChild\":false,\"url\":\"/sprit/whisky/whiskysorter/rokighet/\",\"text\":\"Rökig whisky\"}],\"level\":2,\"hasSelectedChild\":false,\"url\":\"/sprit/whisky/whiskysorter/\",\"text\":\"Single, blended, grain och rök\"},{\"contentLink\":355,\"children\":[{\"contentLink\":361,\"children\":[{\"contentLink\":447,\"children\":[],\"level\":4,\"hasSelectedChild\":false,\"url\":\"/sprit/whisky/whiskylander/skotsk-whisky/lar-dig-mer-om-speyside/\",\"text\":\"Lär dig mer om Speyside\"}],\"level\":3,\"hasSelectedChild\":false,\"url\":\"/sprit/whisky/whiskylander/skotsk-whisky/\",\"text\":\"Skotska whiskyregioner\"},{\"contentLink\":359,\"children\":[{\"contentLink\":1234,\"children\":[],\"level\":4,\"hasSelectedChild\":false,\"url\":\"/sprit/whisky/whiskylander/amerikansk-whiskey/lar-dig-mer-om-bourbon/\",\"text\":\"Lär dig mer om bourbon\"},{\"contentLink\":394,\"children\":[],\"level\":4,\"hasSelectedChild\":false,\"url\":\"/sprit/whisky/whiskylander/amerikansk-whiskey/lar-dig-mer-om-rye-whiskey/\",\"text\":\"Lär dig mer om rye whiskey\"}],\"level\":3,\"hasSelectedChild\":false,\"url\":\"/sprit/whisky/whiskylander/amerikansk-whiskey/\",\"text\":\"Amerikansk whiskey\"},{\"contentLink\":358,\"children\":[],\"level\":3,\"hasSelectedChild\":false,\"url\":\"/sprit/whisky/whiskylander/japansk-whisky/\",\"text\":\"Japansk whisky\"},{\"contentLink\":357,\"children\":[],\"level\":3,\"hasSelectedChild\":false,\"url\":\"/sprit/whisky/whiskylander/kanadensisk-whiskey/\",\"text\":\"Kanadensisk whiskey\"},{\"contentLink\":356,\"children\":[],\"level\":3,\"hasSelectedChild\":false,\"url\":\"/sprit/whisky/whiskylander/irlandsk-whiskey/\",\"text\":\"Irländsk whiskey\"},{\"contentLink\":360,\"children\":[],\"level\":3,\"hasSelectedChild\":false,\"url\":\"/sprit/whisky/whiskylander/svensk-whisky/\",\"text\":\"Svensk whisky\"}],\"level\":2,\"hasSelectedChild\":false,\"url\":\"/sprit/whisky/whiskylander/\",\"text\":\"Whiskyländer\"},{\"contentLink\":354,\"children\":[],\"level\":2,\"hasSelectedChild\":false,\"url\":\"/sprit/whisky/whiskyglas/\",\"text\":\"Whiskyglas\"}],\"level\":1,\"hasSelectedChild\":false,\"url\":\"/sprit/whisky/\",\"text\":\"Whiskykunskap\"},{\"contentLink\":330,\"children\":[{\"contentLink\":535,\"children\":[],\"level\":2,\"hasSelectedChild\":false,\"url\":\"/sprit/tequila/mezcal/\",\"text\":\"Mezcal\"}],\"level\":1,\"hasSelectedChild\":false,\"url\":\"/sprit/tequila/\",\"text\":\"Tequila &amp; mezcal\"},{\"contentLink\":331,\"children\":[{\"contentLink\":442,\"children\":[],\"level\":2,\"hasSelectedChild\":false,\"url\":\"/sprit/rom/rom-i-fransk-stil/\",\"text\":\"Rom i fransk stil\"},{\"contentLink\":441,\"children\":[],\"level\":2,\"hasSelectedChild\":false,\"url\":\"/sprit/rom/rom-i-brittisk-stil/\",\"text\":\"Rom i brittisk stil\"},{\"contentLink\":440,\"children\":[],\"level\":2,\"hasSelectedChild\":false,\"url\":\"/sprit/rom/rom-i-spansk-stil/\",\"text\":\"Rom i spansk stil\"}],\"level\":1,\"hasSelectedChild\":false,\"url\":\"/sprit/rom/\",\"text\":\"Rom – lär dig mer\"},{\"contentLink\":338,\"children\":[],\"level\":1,\"hasSelectedChild\":false,\"url\":\"/sprit/vodka/\",\"text\":\"Vad vet du om vodka?\"},{\"contentLink\":333,\"children\":[{\"contentLink\":449,\"children\":[],\"level\":2,\"hasSelectedChild\":false,\"url\":\"/sprit/gin-genever/tonic/\",\"text\":\"Tonic\"}],\"level\":1,\"hasSelectedChild\":false,\"url\":\"/sprit/gin-genever/\",\"text\":\"Gin &amp; genever\"},{\"contentLink\":334,\"children\":[{\"contentLink\":2398,\"children\":[],\"level\":2,\"hasSelectedChild\":false,\"url\":\"/sprit/cognac/karta-cognac/\",\"text\":\"Karta Cognac\"}],\"level\":1,\"hasSelectedChild\":false,\"url\":\"/sprit/cognac/\",\"text\":\"Kul kunskap om Cognac\"},{\"contentLink\":1806,\"children\":[{\"contentLink\":1931,\"children\":[],\"level\":2,\"hasSelectedChild\":false,\"url\":\"/sprit/andra-spritsorter/bitter/\",\"text\":\"Bitter\"},{\"contentLink\":393,\"children\":[],\"level\":2,\"hasSelectedChild\":false,\"url\":\"/sprit/andra-spritsorter/calvados/\",\"text\":\"Calvados\"},{\"contentLink\":345,\"children\":[{\"contentLink\":436,\"children\":[],\"level\":3,\"hasSelectedChild\":false,\"url\":\"/sprit/andra-spritsorter/brandy/armagnac/\",\"text\":\"Armagnac\"},{\"contentLink\":348,\"children\":[],\"level\":3,\"hasSelectedChild\":false,\"url\":\"/sprit/andra-spritsorter/brandy/spansk-brandy/\",\"text\":\"Spansk brandy\"},{\"contentLink\":347,\"children\":[],\"level\":3,\"hasSelectedChild\":false,\"url\":\"/sprit/andra-spritsorter/brandy/pisco/\",\"text\":\"Pisco\"}],\"level\":2,\"hasSelectedChild\":false,\"url\":\"/sprit/andra-spritsorter/brandy/\",\"text\":\"Brandy\"},{\"contentLink\":344,\"children\":[],\"level\":2,\"hasSelectedChild\":false,\"url\":\"/sprit/andra-spritsorter/likor/\",\"text\":\"Likör\"},{\"contentLink\":343,\"children\":[],\"level\":2,\"hasSelectedChild\":false,\"url\":\"/sprit/andra-spritsorter/grappa-och-marc/\",\"text\":\"Grappa och marc\"},{\"contentLink\":342,\"children\":[],\"level\":2,\"hasSelectedChild\":false,\"url\":\"/sprit/andra-spritsorter/fruktsprit/\",\"text\":\"Fruktsprit\"},{\"contentLink\":340,\"children\":[{\"contentLink\":2101,\"children\":[],\"level\":3,\"hasSelectedChild\":false,\"url\":\"/sprit/andra-spritsorter/akvavit-brannvin/snaps-till-mat/\",\"text\":\"Snaps till mat\"}],\"level\":2,\"hasSelectedChild\":false,\"url\":\"/sprit/andra-spritsorter/akvavit-brannvin/\",\"text\":\"Akvavit &amp; Brännvin\"},{\"contentLink\":339,\"children\":[],\"level\":2,\"hasSelectedChild\":false,\"url\":\"/sprit/andra-spritsorter/punsch-arrak/\",\"text\":\"Punsch &amp; arrak\"},{\"contentLink\":336,\"children\":[],\"level\":2,\"hasSelectedChild\":false,\"url\":\"/sprit/andra-spritsorter/anissprit/\",\"text\":\"Anissprit - smak av lakrits\"}],\"level\":1,\"hasSelectedChild\":false,\"url\":\"/sprit/andra-spritsorter/\",\"text\":\"Calvados, likör och andra spritsorter\"},{\"contentLink\":3691,\"children\":[{\"contentLink\":3698,\"children\":[],\"level\":2,\"hasSelectedChild\":false,\"url\":\"/sprit/drinkar-cocktails/tips-for-att-gora-drinkar/\",\"text\":\"Tips för att göra drinkar\"},{\"contentLink\":3692,\"children\":[{\"contentLink\":3714,\"children\":[],\"level\":3,\"hasSelectedChild\":false,\"url\":\"/sprit/drinkar-cocktails/bal/gron-bal-med-apple-och-lime/\",\"text\":\"Grön bål med äpple och lime\"},{\"contentLink\":3713,\"children\":[],\"level\":3,\"hasSelectedChild\":false,\"url\":\"/sprit/drinkar-cocktails/bal/jordgubbsbal/\",\"text\":\"Jordgubbsbål\"},{\"contentLink\":3712,\"children\":[],\"level\":3,\"hasSelectedChild\":false,\"url\":\"/sprit/drinkar-cocktails/bal/sangria/\",\"text\":\"Sangria\"},{\"contentLink\":3711,\"children\":[],\"level\":3,\"hasSelectedChild\":false,\"url\":\"/sprit/drinkar-cocktails/bal/vinbarsbal/\",\"text\":\"Vinbärsbål\"},{\"contentLink\":3699,\"children\":[],\"level\":3,\"hasSelectedChild\":false,\"url\":\"/sprit/drinkar-cocktails/bal/bellinibal/\",\"text\":\"Bellinibål\"}],\"level\":2,\"hasSelectedChild\":false,\"url\":\"/sprit/drinkar-cocktails/bal/\",\"text\":\"Bål\"},{\"contentLink\":3696,\"children\":[{\"contentLink\":3716,\"children\":[],\"level\":3,\"hasSelectedChild\":false,\"url\":\"/sprit/drinkar-cocktails/gindrinkar/dry-martini/\",\"text\":\"Dry Martini\"},{\"contentLink\":3718,\"children\":[],\"level\":3,\"hasSelectedChild\":false,\"url\":\"/sprit/drinkar-cocktails/gindrinkar/gin-sour/\",\"text\":\"Gin Sour\"},{\"contentLink\":3717,\"children\":[],\"level\":3,\"hasSelectedChild\":false,\"url\":\"/sprit/drinkar-cocktails/gindrinkar/negroni/\",\"text\":\"Negroni\"},{\"contentLink\":3719,\"children\":[],\"level\":3,\"hasSelectedChild\":false,\"url\":\"/sprit/drinkar-cocktails/gindrinkar/tom-collins/\",\"text\":\"Tom Collins\"}],\"level\":2,\"hasSelectedChild\":false,\"url\":\"/sprit/drinkar-cocktails/gindrinkar/\",\"text\":\"Gindrinkar\"},{\"contentLink\":3695,\"children\":[{\"contentLink\":3723,\"children\":[],\"level\":3,\"hasSelectedChild\":false,\"url\":\"/sprit/drinkar-cocktails/romdrinkar/daiquiri/\",\"text\":\"Daiquiri\"},{\"contentLink\":3722,\"children\":[],\"level\":3,\"hasSelectedChild\":false,\"url\":\"/sprit/drinkar-cocktails/romdrinkar/pina-colada/\",\"text\":\"Piña colada\"},{\"contentLink\":3721,\"children\":[],\"level\":3,\"hasSelectedChild\":false,\"url\":\"/sprit/drinkar-cocktails/romdrinkar/mojito/\",\"text\":\"Mojito\"}],\"level\":2,\"hasSelectedChild\":false,\"url\":\"/sprit/drinkar-cocktails/romdrinkar/\",\"text\":\"Romdrinkar\"},{\"contentLink\":3694,\"children\":[{\"contentLink\":3726,\"children\":[],\"level\":3,\"hasSelectedChild\":false,\"url\":\"/sprit/drinkar-cocktails/vodkadrinkar/bloody-mary/\",\"text\":\"Bloody Mary\"},{\"contentLink\":3725,\"children\":[],\"level\":3,\"hasSelectedChild\":false,\"url\":\"/sprit/drinkar-cocktails/vodkadrinkar/cosmopolitan/\",\"text\":\"Cosmopolitan\"},{\"contentLink\":3724,\"children\":[],\"level\":3,\"hasSelectedChild\":false,\"url\":\"/sprit/drinkar-cocktails/vodkadrinkar/white-russian/\",\"text\":\"White Russian\"}],\"level\":2,\"hasSelectedChild\":false,\"url\":\"/sprit/drinkar-cocktails/vodkadrinkar/\",\"text\":\"Vodkadrinkar\"},{\"contentLink\":3693,\"children\":[{\"contentLink\":3730,\"children\":[],\"level\":3,\"hasSelectedChild\":false,\"url\":\"/sprit/drinkar-cocktails/whiskydrinkar/irish-coffee/\",\"text\":\"Irish Coffee\"},{\"contentLink\":3729,\"children\":[],\"level\":3,\"hasSelectedChild\":false,\"url\":\"/sprit/drinkar-cocktails/whiskydrinkar/manhattan/\",\"text\":\"Manhattan\"},{\"contentLink\":3728,\"children\":[],\"level\":3,\"hasSelectedChild\":false,\"url\":\"/sprit/drinkar-cocktails/whiskydrinkar/whiskey-sour/\",\"text\":\"Whiskey Sour\"},{\"contentLink\":3727,\"children\":[],\"level\":3,\"hasSelectedChild\":false,\"url\":\"/sprit/drinkar-cocktails/whiskydrinkar/old-fashioned/\",\"text\":\"Old Fashioned\"}],\"level\":2,\"hasSelectedChild\":false,\"url\":\"/sprit/drinkar-cocktails/whiskydrinkar/\",\"text\":\"Whiskydrinkar\"},{\"contentLink\":3697,\"children\":[{\"contentLink\":3731,\"children\":[],\"level\":3,\"hasSelectedChild\":false,\"url\":\"/sprit/drinkar-cocktails/ovriga-drinkar/bellini/\",\"text\":\"Bellini\"},{\"contentLink\":3732,\"children\":[],\"level\":3,\"hasSelectedChild\":false,\"url\":\"/sprit/drinkar-cocktails/ovriga-drinkar/caipirinha/\",\"text\":\"Caipirinha\"},{\"contentLink\":3733,\"children\":[],\"level\":3,\"hasSelectedChild\":false,\"url\":\"/sprit/drinkar-cocktails/ovriga-drinkar/margarita/\",\"text\":\"Margarita\"},{\"contentLink\":3734,\"children\":[],\"level\":3,\"hasSelectedChild\":false,\"url\":\"/sprit/drinkar-cocktails/ovriga-drinkar/aggtoddy/\",\"text\":\"Äggtoddy\"}],\"level\":2,\"hasSelectedChild\":false,\"url\":\"/sprit/drinkar-cocktails/ovriga-drinkar/\",\"text\":\"Övriga drinkar\"}],\"level\":1,\"hasSelectedChild\":false,\"url\":\"/sprit/drinkar-cocktails/\",\"text\":\"Drinkar och cocktails\"},{\"contentLink\":3863,\"children\":[{\"contentLink\":3869,\"children\":[],\"level\":2,\"hasSelectedChild\":false,\"url\":\"/sprit/spritprovning/spritprovning-pa-systembolaget/\",\"text\":\"Spritprovning på Systembolaget\"},{\"contentLink\":3870,\"children\":[],\"level\":2,\"hasSelectedChild\":false,\"url\":\"/sprit/spritprovning/whiskyprovning-hemma/\",\"text\":\"Whiskyprovning hemma\"},{\"contentLink\":3871,\"children\":[],\"level\":2,\"hasSelectedChild\":false,\"url\":\"/sprit/spritprovning/spritprovningsprotokoll/\",\"text\":\"Spritprovningsprotokoll\"}],\"level\":1,\"hasSelectedChild\":false,\"url\":\"/sprit/spritprovning/\",\"text\":\"Spritprovning\"}],\"isExpandable\":true,\"linkLevel2\":null,\"contentSectionPageLinks\":null,\"hasSelectedChild\":false,\"url\":\"/sprit/\",\"text\":\"Sprit\"},{\"contentLink\":27,\"headingLevel2\":\"Kunskap &amp; inspiration\",\"linkHeadingLevel2\":null,\"imageBlocks\":[{\"contentLink\":27,\"text\":\"Lär dig mer om cider och blanddryck\",\"url\":\"/cider-blanddryck/\",\"image\":\"https://beta-cdn.systembolaget.se/4a37ec/globalassets/cider-och-blanddryck/100-applen.jpg?w=358\",\"alt\":\"Röda äpplen på träbordet\"}],\"shortcutCards\":[{\"contentLink\":27,\"numberOfProducts\":null,\"image\":\"\",\"backgroundcolor\":\"#D6E9DF\",\"url\":\"/sok/?categoryLevel1=Cider+%26+blanddrycker&amp;csr=Ekologiskt\",\"text\":\"Ekologisk cider och blanddryck\"},{\"contentLink\":27,\"numberOfProducts\":null,\"image\":\"\",\"backgroundcolor\":\"#F9F6D3\",\"url\":\"/sok/?categoryLevel1=Cider+%26+blanddrycker&amp;isEcoFriendlyPackage=true\",\"text\":\"Klimatsmartare förpackningar\"},{\"contentLink\":27,\"numberOfProducts\":null,\"image\":\"\",\"backgroundcolor\":\"#FFCEB7\",\"url\":\"/sok/?textQuery=&amp;categoryLevel1=Cider+%26+blanddrycker&amp;newArrivalType=Nytt+senaste+3+m%c3%a5nader\",\"text\":\"Senaste nyheterna\"}],\"productCategories\":[{\"contentLink\":27,\"numberOfProducts\":281,\"url\":\"/sok/?categoryLevel1=Cider%20%26%20blanddrycker\",\"text\":\"Alla cider och blanddrycker\"},{\"contentLink\":27,\"numberOfProducts\":196,\"url\":\"/sok/?categoryLevel1=Cider%20%26%20blanddrycker&amp;categoryLevel2=Cider\",\"text\":\"Cider\"},{\"contentLink\":27,\"numberOfProducts\":85,\"url\":\"/sok/?categoryLevel1=Cider%20%26%20blanddrycker&amp;categoryLevel2=Blanddrycker\",\"text\":\"Blanddrycker\"}],\"children\":[{\"contentLink\":2407,\"children\":[],\"level\":1,\"hasSelectedChild\":false,\"url\":\"/cider-blanddryck/popularaste-cidersmaken/\",\"text\":\"Sveriges populäraste smak\"},{\"contentLink\":2338,\"children\":[{\"contentLink\":2351,\"children\":[],\"level\":2,\"hasSelectedChild\":false,\"url\":\"/cider-blanddryck/ciderdrinkar/berry-mojito/\",\"text\":\"Berry Mojito\"},{\"contentLink\":2346,\"children\":[],\"level\":2,\"hasSelectedChild\":false,\"url\":\"/cider-blanddryck/ciderdrinkar/knockout-lemonade/\",\"text\":\"Knockout Lemonade\"},{\"contentLink\":2345,\"children\":[],\"level\":2,\"hasSelectedChild\":false,\"url\":\"/cider-blanddryck/ciderdrinkar/apple-cup/\",\"text\":\"Apple Cup\"},{\"contentLink\":2344,\"children\":[],\"level\":2,\"hasSelectedChild\":false,\"url\":\"/cider-blanddryck/ciderdrinkar/spicy-pear/\",\"text\":\"Spicy Pear\"},{\"contentLink\":2343,\"children\":[],\"level\":2,\"hasSelectedChild\":false,\"url\":\"/cider-blanddryck/ciderdrinkar/alkoholfri-hot-cin-punsch/\",\"text\":\"Hot Cin Punsch (alkoholfri)\"},{\"contentLink\":2342,\"children\":[],\"level\":2,\"hasSelectedChild\":false,\"url\":\"/cider-blanddryck/ciderdrinkar/app-tini/\",\"text\":\"App-tini\"},{\"contentLink\":2339,\"children\":[],\"level\":2,\"hasSelectedChild\":false,\"url\":\"/cider-blanddryck/ciderdrinkar/apple-twist/\",\"text\":\"Apple Twist\"}],\"level\":1,\"hasSelectedChild\":false,\"url\":\"/cider-blanddryck/ciderdrinkar/\",\"text\":\"Ciderdrinkar\"},{\"contentLink\":1208,\"children\":[],\"level\":1,\"hasSelectedChild\":false,\"url\":\"/cider-blanddryck/socker-i-cider/\",\"text\":\"Socker i cider och blanddryck\"},{\"contentLink\":4986,\"children\":[],\"level\":1,\"hasSelectedChild\":false,\"url\":\"/cider-blanddryck/cidertillverkning/\",\"text\":\"Cidertillverkning\"},{\"contentLink\":2350,\"children\":[{\"contentLink\":6049,\"children\":[],\"level\":2,\"hasSelectedChild\":false,\"url\":\"/cider-blanddryck/blanddryck/hard-seltzer/\",\"text\":\"Hard seltzer\"}],\"level\":1,\"hasSelectedChild\":false,\"url\":\"/cider-blanddryck/blanddryck/\",\"text\":\"Blanddryck\"},{\"contentLink\":1205,\"children\":[],\"level\":1,\"hasSelectedChild\":false,\"url\":\"/cider-blanddryck/ordlista/\",\"text\":\"Liten ordlista\"},{\"contentLink\":1209,\"children\":[],\"level\":1,\"hasSelectedChild\":false,\"url\":\"/cider-blanddryck/svensk-cider/\",\"text\":\"Svensk cider\"},{\"contentLink\":1211,\"children\":[],\"level\":1,\"hasSelectedChild\":false,\"url\":\"/cider-blanddryck/engelsk-cider/\",\"text\":\"Engelsk cider\"},{\"contentLink\":1210,\"children\":[],\"level\":1,\"hasSelectedChild\":false,\"url\":\"/cider-blanddryck/fransk-cider/\",\"text\":\"Fransk cider\"},{\"contentLink\":1212,\"children\":[],\"level\":1,\"hasSelectedChild\":false,\"url\":\"/cider-blanddryck/spansk-cider/\",\"text\":\"Spansk cider\"}],\"isExpandable\":true,\"linkLevel2\":null,\"contentSectionPageLinks\":null,\"hasSelectedChild\":false,\"url\":\"/cider-blanddryck/\",\"text\":\"Cider &amp; Blanddryck\"},{\"contentLink\":28,\"headingLevel2\":\"Kunskap &amp; inspiration\",\"linkHeadingLevel2\":null,\"imageBlocks\":[{\"contentLink\":28,\"text\":\"Lär dig mer om alkoholfritt\",\"url\":\"/alkoholfritt/\",\"image\":\"https://beta-cdn.systembolaget.se/49e7aa/globalassets/megamenyn/bjornbar.jpg?w=358\",\"alt\":null}],\"shortcutCards\":[{\"contentLink\":28,\"numberOfProducts\":null,\"image\":\"\",\"backgroundcolor\":\"#D6E9DF\",\"url\":\"/sok/?categoryLevel1=Alkoholfritt&amp;csr=Ekologiskt\",\"text\":\"Ekologiska alkoholfria drycker\"},{\"contentLink\":28,\"numberOfProducts\":null,\"image\":\"\",\"backgroundcolor\":\"#F9F6D3\",\"url\":\"/sok/?isEcoFriendlyPackage=true&amp;categoryLevel1=Alkoholfritt\",\"text\":\"Klimatsmartare förpackningar\"},{\"contentLink\":28,\"numberOfProducts\":null,\"image\":\"\",\"backgroundcolor\":\"#FFCEB7\",\"url\":\"/sok/?categoryLevel1=Alkoholfritt&amp;priceFrom=120\",\"text\":\"Alkoholfri sprit\"}],\"productCategories\":[{\"contentLink\":28,\"numberOfProducts\":147,\"url\":\"/sok/?categoryLevel1=Alkoholfritt\",\"text\":\"Alla alkoholfria drycker\"},{\"contentLink\":28,\"numberOfProducts\":41,\"url\":\"/sok/?categoryLevel1=Alkoholfritt&amp;categoryLevel2=%C3%96l\",\"text\":\"Öl\"},{\"contentLink\":28,\"numberOfProducts\":28,\"url\":\"/sok/?categoryLevel1=Alkoholfritt&amp;categoryLevel2=Must\",\"text\":\"Must\"},{\"contentLink\":28,\"numberOfProducts\":22,\"url\":\"/sok/?categoryLevel1=Alkoholfritt&amp;categoryLevel2=Mousserande\",\"text\":\"Mousserande\"},{\"contentLink\":28,\"numberOfProducts\":17,\"url\":\"/sok/?categoryLevel1=Alkoholfritt&amp;categoryLevel2=Cider%20%26%20Blanddryck\",\"text\":\"Cider &amp; Blanddryck\"},{\"contentLink\":28,\"numberOfProducts\":16,\"url\":\"/sok/?categoryLevel1=Alkoholfritt&amp;categoryLevel2=Gl%C3%B6gg%20%26%20andra%20juldrycker\",\"text\":\"Glögg &amp; andra juldrycker\"},{\"contentLink\":28,\"numberOfProducts\":8,\"url\":\"/sok/?categoryLevel1=Alkoholfritt&amp;categoryLevel2=Vitt%20\",\"text\":\"Vitt \"},{\"contentLink\":28,\"numberOfProducts\":7,\"url\":\"/sok/?categoryLevel1=Alkoholfritt&amp;categoryLevel2=Ros%C3%A9\",\"text\":\"Rosé\"},{\"contentLink\":28,\"numberOfProducts\":4,\"url\":\"/sok/?categoryLevel1=Alkoholfritt&amp;categoryLevel2=Aperitif%20%26%20Bitter\",\"text\":\"Aperitif &amp; Bitter\"},{\"contentLink\":28,\"numberOfProducts\":4,\"url\":\"/sok/?categoryLevel1=Alkoholfritt&amp;categoryLevel2=R%C3%B6tt\",\"text\":\"Rött\"}],\"children\":[{\"contentLink\":1180,\"children\":[{\"contentLink\":6518,\"children\":[],\"level\":2,\"hasSelectedChild\":false,\"url\":\"/alkoholfritt/alkoholfritt-till-mat/alkoholfritt-till-skaldjur/\",\"text\":\"Alkoholfritt till kräftor och andra skaldjur\"},{\"contentLink\":4761,\"children\":[],\"level\":2,\"hasSelectedChild\":false,\"url\":\"/alkoholfritt/alkoholfritt-till-mat/paskmaten/\",\"text\":\"Påskens mat\"},{\"contentLink\":4689,\"children\":[],\"level\":2,\"hasSelectedChild\":false,\"url\":\"/alkoholfritt/alkoholfritt-till-mat/julens-tilltugg/\",\"text\":\"Julens tilltugg\"},{\"contentLink\":4681,\"children\":[],\"level\":2,\"hasSelectedChild\":false,\"url\":\"/alkoholfritt/alkoholfritt-till-mat/vegetariska-julratter/\",\"text\":\"Vegetariska julrätter\"},{\"contentLink\":4679,\"children\":[],\"level\":2,\"hasSelectedChild\":false,\"url\":\"/alkoholfritt/alkoholfritt-till-mat/julmat/\",\"text\":\"Julmat\"},{\"contentLink\":4678,\"children\":[],\"level\":2,\"hasSelectedChild\":false,\"url\":\"/alkoholfritt/alkoholfritt-till-mat/nyarsmat/\",\"text\":\"Nyårsmaten\"},{\"contentLink\":4023,\"children\":[],\"level\":2,\"hasSelectedChild\":false,\"url\":\"/alkoholfritt/alkoholfritt-till-mat/grillat/\",\"text\":\"Grillat\"},{\"contentLink\":2177,\"children\":[],\"level\":2,\"hasSelectedChild\":false,\"url\":\"/alkoholfritt/alkoholfritt-till-mat/sommarmat/\",\"text\":\"Sommarens mat\"},{\"contentLink\":1193,\"children\":[],\"level\":2,\"hasSelectedChild\":false,\"url\":\"/alkoholfritt/alkoholfritt-till-mat/alkoholfri-ol-till-buffen/\",\"text\":\"Alkoholfri öl till buffén\"},{\"contentLink\":1177,\"children\":[],\"level\":2,\"hasSelectedChild\":false,\"url\":\"/alkoholfritt/alkoholfritt-till-mat/must/\",\"text\":\"Must &amp; Mat\"}],\"level\":1,\"hasSelectedChild\":false,\"url\":\"/alkoholfritt/alkoholfritt-till-mat/\",\"text\":\"Alkoholfritt till maten\"},{\"contentLink\":1179,\"children\":[{\"contentLink\":6538,\"children\":[],\"level\":2,\"hasSelectedChild\":false,\"url\":\"/alkoholfritt/drinkar/sommarlavendel/\",\"text\":\"Sommarlavendel\"},{\"contentLink\":6203,\"children\":[],\"level\":2,\"hasSelectedChild\":false,\"url\":\"/alkoholfritt/drinkar/radler-shandy/\",\"text\":\"Radler och shandy\"},{\"contentLink\":5139,\"children\":[],\"level\":2,\"hasSelectedChild\":false,\"url\":\"/alkoholfritt/drinkar/fankalssnaps/\",\"text\":\"Anis- och fänkålssnaps\"},{\"contentLink\":2227,\"children\":[],\"level\":2,\"hasSelectedChild\":false,\"url\":\"/alkoholfritt/drinkar/alkoholfria-snapsar/\",\"text\":\"Tre snapsar\"},{\"contentLink\":6327,\"children\":[],\"level\":2,\"hasSelectedChild\":false,\"url\":\"/alkoholfritt/drinkar/fidel-castro/\",\"text\":\"Fidel Castro\"},{\"contentLink\":2083,\"children\":[],\"level\":2,\"hasSelectedChild\":false,\"url\":\"/alkoholfritt/drinkar/cuba-libre/\",\"text\":\"Cuba Libre\"},{\"contentLink\":2068,\"children\":[],\"level\":2,\"hasSelectedChild\":false,\"url\":\"/alkoholfritt/drinkar/gin-tonic/\",\"text\":\"Gin &amp; Tonic\"},{\"contentLink\":1689,\"children\":[],\"level\":2,\"hasSelectedChild\":false,\"url\":\"/alkoholfritt/drinkar/iced-tea/\",\"text\":\"Iced Tea\"},{\"contentLink\":1688,\"children\":[],\"level\":2,\"hasSelectedChild\":false,\"url\":\"/alkoholfritt/drinkar/bellini/\",\"text\":\"Bellini\"},{\"contentLink\":1674,\"children\":[],\"level\":2,\"hasSelectedChild\":false,\"url\":\"/alkoholfritt/drinkar/bitter-sweet-summer/\",\"text\":\"Bitter Sweet Summer\"},{\"contentLink\":1654,\"children\":[],\"level\":2,\"hasSelectedChild\":false,\"url\":\"/alkoholfritt/drinkar/fladerdrink/\",\"text\":\"Drink med fläder\"},{\"contentLink\":1653,\"children\":[],\"level\":2,\"hasSelectedChild\":false,\"url\":\"/alkoholfritt/drinkar/pina-colada/\",\"text\":\"Piña Colada\"},{\"contentLink\":1652,\"children\":[],\"level\":2,\"hasSelectedChild\":false,\"url\":\"/alkoholfritt/drinkar/jordgubbsbal/\",\"text\":\"Jordgubbsbål\"},{\"contentLink\":1651,\"children\":[],\"level\":2,\"hasSelectedChild\":false,\"url\":\"/alkoholfritt/drinkar/frozen-strawberry-daiquiri/\",\"text\":\"Frozen Strawberry Daiquiri\"},{\"contentLink\":1650,\"children\":[],\"level\":2,\"hasSelectedChild\":false,\"url\":\"/alkoholfritt/drinkar/virgin-mary/\",\"text\":\"Virgin Mary\"},{\"contentLink\":1649,\"children\":[],\"level\":2,\"hasSelectedChild\":false,\"url\":\"/alkoholfritt/drinkar/mojito/\",\"text\":\"Mojito\"},{\"contentLink\":1648,\"children\":[],\"level\":2,\"hasSelectedChild\":false,\"url\":\"/alkoholfritt/drinkar/sangria/\",\"text\":\"Sangria\"}],\"level\":1,\"hasSelectedChild\":false,\"url\":\"/alkoholfritt/drinkar/\",\"text\":\"Alkoholfria drinkar &amp; Mocktails\"},{\"contentLink\":1178,\"children\":[],\"level\":1,\"hasSelectedChild\":false,\"url\":\"/alkoholfritt/appelmust/\",\"text\":\"Äppelmust\"},{\"contentLink\":1176,\"children\":[],\"level\":1,\"hasSelectedChild\":false,\"url\":\"/alkoholfritt/alkoholfri-cider/\",\"text\":\"Alkoholfri cider\"},{\"contentLink\":1175,\"children\":[],\"level\":1,\"hasSelectedChild\":false,\"url\":\"/alkoholfritt/alkoholfri-ol/\",\"text\":\"Alkoholfri öl\"},{\"contentLink\":1174,\"children\":[],\"level\":1,\"hasSelectedChild\":false,\"url\":\"/alkoholfritt/alkoholfritt-vin/\",\"text\":\"Alkoholfritt vin\"}],\"isExpandable\":true,\"linkLevel2\":null,\"contentSectionPageLinks\":null,\"hasSelectedChild\":false,\"url\":\"/alkoholfritt/\",\"text\":\"Alkoholfritt\"},{\"contentLink\":4047,\"headingLevel2\":null,\"linkHeadingLevel2\":null,\"imageBlocks\":null,\"shortcutCards\":null,\"productCategories\":null,\"children\":[{\"contentLink\":5072,\"children\":[],\"level\":1,\"hasSelectedChild\":false,\"url\":\"/nya-drycker/lanseringar-2020/\",\"text\":\"Lanseringar 2020\"},{\"contentLink\":4058,\"children\":[{\"contentLink\":4553,\"children\":[{\"contentLink\":5815,\"children\":[],\"level\":3,\"hasSelectedChild\":false,\"url\":\"/nya-drycker/premium/systembolagets-dryckesauktioner/sa-koper-du/\",\"text\":\"Så köper du\"},{\"contentLink\":6229,\"children\":[],\"level\":3,\"hasSelectedChild\":false,\"url\":\"/nya-drycker/premium/systembolagets-dryckesauktioner/att-salja-pa-auktion/\",\"text\":\"Att sälja på auktion\"},{\"contentLink\":6109,\"children\":[],\"level\":3,\"hasSelectedChild\":false,\"url\":\"/nya-drycker/premium/systembolagets-dryckesauktioner/aktuell-auktion/\",\"text\":\"Aktuell auktion\"},{\"contentLink\":6230,\"children\":[],\"level\":3,\"hasSelectedChild\":false,\"url\":\"/nya-drycker/premium/systembolagets-dryckesauktioner/vara-experter/\",\"text\":\"Våra experter\"}],\"level\":2,\"hasSelectedChild\":false,\"url\":\"/nya-drycker/premium/systembolagets-dryckesauktioner/\",\"text\":\"Systembolagets dryckesauktioner\"}],\"level\":1,\"hasSelectedChild\":false,\"url\":\"/nya-drycker/premium/\",\"text\":\"Premium\"}],\"isExpandable\":false,\"linkLevel2\":{\"url\":null,\"text\":null},\"contentSectionPageLinks\":null,\"hasSelectedChild\":false,\"url\":\"/nya-drycker/\",\"text\":\"Nya drycker\"},{\"contentLink\":78,\"headingLevel2\":\"Matcha mat &amp; dryck\",\"linkHeadingLevel2\":null,\"imageBlocks\":null,\"shortcutCards\":null,\"productCategories\":null,\"children\":[{\"contentLink\":4039,\"children\":[{\"contentLink\":3993,\"children\":[],\"level\":2,\"hasSelectedChild\":false,\"url\":\"/dryck-till-mat/varldens-mat/afrikansk-mat/\",\"text\":\"Afrikansk mat\"},{\"contentLink\":3994,\"children\":[],\"level\":2,\"hasSelectedChild\":false,\"url\":\"/dryck-till-mat/varldens-mat/amerikansk-mat/\",\"text\":\"Amerikansk mat\"},{\"contentLink\":3995,\"children\":[],\"level\":2,\"hasSelectedChild\":false,\"url\":\"/dryck-till-mat/varldens-mat/brittisk-mat/\",\"text\":\"Brittisk mat\"},{\"contentLink\":3996,\"children\":[],\"level\":2,\"hasSelectedChild\":false,\"url\":\"/dryck-till-mat/varldens-mat/fransk-mat/\",\"text\":\"Fransk mat\"},{\"contentLink\":3997,\"children\":[],\"level\":2,\"hasSelectedChild\":false,\"url\":\"/dryck-till-mat/varldens-mat/grekisk-mat/\",\"text\":\"Grekisk mat\"},{\"contentLink\":3998,\"children\":[],\"level\":2,\"hasSelectedChild\":false,\"url\":\"/dryck-till-mat/varldens-mat/indisk-mat/\",\"text\":\"Indisk mat\"},{\"contentLink\":3999,\"children\":[],\"level\":2,\"hasSelectedChild\":false,\"url\":\"/dryck-till-mat/varldens-mat/italiensk-mat/\",\"text\":\"Italiensk mat\"},{\"contentLink\":4000,\"children\":[],\"level\":2,\"hasSelectedChild\":false,\"url\":\"/dryck-till-mat/varldens-mat/japansk-mat/\",\"text\":\"Japansk mat\"},{\"contentLink\":4001,\"children\":[],\"level\":2,\"hasSelectedChild\":false,\"url\":\"/dryck-till-mat/varldens-mat/karibisk-mat/\",\"text\":\"Karibisk mat\"},{\"contentLink\":4002,\"children\":[],\"level\":2,\"hasSelectedChild\":false,\"url\":\"/dryck-till-mat/varldens-mat/kinesisk-mat/\",\"text\":\"Kinesisk mat\"},{\"contentLink\":4003,\"children\":[],\"level\":2,\"hasSelectedChild\":false,\"url\":\"/dryck-till-mat/varldens-mat/koreansk-mat/\",\"text\":\"Koreansk mat\"},{\"contentLink\":4004,\"children\":[],\"level\":2,\"hasSelectedChild\":false,\"url\":\"/dryck-till-mat/varldens-mat/libanesisk-mat/\",\"text\":\"Libanesisk mat\"},{\"contentLink\":4005,\"children\":[],\"level\":2,\"hasSelectedChild\":false,\"url\":\"/dryck-till-mat/varldens-mat/medelhavsmat/\",\"text\":\"Medelhavsmat\"},{\"contentLink\":4006,\"children\":[],\"level\":2,\"hasSelectedChild\":false,\"url\":\"/dryck-till-mat/varldens-mat/mexikansk-mat/\",\"text\":\"Mexikansk mat\"},{\"contentLink\":4007,\"children\":[],\"level\":2,\"hasSelectedChild\":false,\"url\":\"/dryck-till-mat/varldens-mat/spansk-mat/\",\"text\":\"Spansk mat\"},{\"contentLink\":4276,\"children\":[],\"level\":2,\"hasSelectedChild\":false,\"url\":\"/dryck-till-mat/varldens-mat/svensk-mat/\",\"text\":\"Svensk mat\"},{\"contentLink\":4008,\"children\":[],\"level\":2,\"hasSelectedChild\":false,\"url\":\"/dryck-till-mat/varldens-mat/thaimat/\",\"text\":\"Thailändsk mat\"},{\"contentLink\":4009,\"children\":[],\"level\":2,\"hasSelectedChild\":false,\"url\":\"/dryck-till-mat/varldens-mat/vietnamesisk-mat/\",\"text\":\"Vietnamesisk mat\"}],\"level\":1,\"hasSelectedChild\":false,\"url\":\"/dryck-till-mat/varldens-mat/\",\"text\":\"Världens mat\"},{\"contentLink\":4042,\"children\":[{\"contentLink\":4013,\"children\":[],\"level\":2,\"hasSelectedChild\":false,\"url\":\"/dryck-till-mat/kombinera-dryck-och-mat/dryck-till-dessert/\",\"text\":\"Desserter\"},{\"contentLink\":4014,\"children\":[],\"level\":2,\"hasSelectedChild\":false,\"url\":\"/dryck-till-mat/kombinera-dryck-och-mat/dryck-till-flaskkott/\",\"text\":\"Fläskkött\"},{\"contentLink\":3578,\"children\":[],\"level\":2,\"hasSelectedChild\":false,\"url\":\"/dryck-till-mat/kombinera-dryck-och-mat/matcha-drycken-till-fem-klassiska-svampratter/\",\"text\":\"Matcha drycken till fem klassiska svamprätter\"},{\"contentLink\":369,\"children\":[],\"level\":2,\"hasSelectedChild\":false,\"url\":\"/dryck-till-mat/kombinera-dryck-och-mat/dryck-till-ramen/\",\"text\":\"Ramen\"},{\"contentLink\":4801,\"children\":[],\"level\":2,\"hasSelectedChild\":false,\"url\":\"/dryck-till-mat/kombinera-dryck-och-mat/dryck-till-fisk/\",\"text\":\"Fisk\"},{\"contentLink\":4896,\"children\":[],\"level\":2,\"hasSelectedChild\":false,\"url\":\"/dryck-till-mat/kombinera-dryck-och-mat/dryck-till-fagel/\",\"text\":\"Fågel\"},{\"contentLink\":4019,\"children\":[],\"level\":2,\"hasSelectedChild\":false,\"url\":\"/dryck-till-mat/kombinera-dryck-och-mat/dryck-till-tapas/\",\"text\":\"Tapas\"},{\"contentLink\":4015,\"children\":[],\"level\":2,\"hasSelectedChild\":false,\"url\":\"/dryck-till-mat/kombinera-dryck-och-mat/dryck-till-lamm-not-och-vilt/\",\"text\":\"Lamm, nöt och vilt\"},{\"contentLink\":4016,\"children\":[],\"level\":2,\"hasSelectedChild\":false,\"url\":\"/dryck-till-mat/kombinera-dryck-och-mat/dryck-till-ost/\",\"text\":\"Dryck till ost\"},{\"contentLink\":4021,\"children\":[],\"level\":2,\"hasSelectedChild\":false,\"url\":\"/dryck-till-mat/kombinera-dryck-och-mat/dryck-till-smorgasbord-smorgastarta/\",\"text\":\"Smörgåsbord &amp; smörgåstårta\"},{\"contentLink\":4017,\"children\":[],\"level\":2,\"hasSelectedChild\":false,\"url\":\"/dryck-till-mat/kombinera-dryck-och-mat/dryck-till-soppa/\",\"text\":\"Soppa\"},{\"contentLink\":4803,\"children\":[],\"level\":2,\"hasSelectedChild\":false,\"url\":\"/dryck-till-mat/kombinera-dryck-och-mat/dryck-till-skaldjur/\",\"text\":\"Skaldjur\"},{\"contentLink\":4020,\"children\":[],\"level\":2,\"hasSelectedChild\":false,\"url\":\"/dryck-till-mat/kombinera-dryck-och-mat/dryck-till-sushi/\",\"text\":\"Sushi\"},{\"contentLink\":4018,\"children\":[],\"level\":2,\"hasSelectedChild\":false,\"url\":\"/dryck-till-mat/kombinera-dryck-och-mat/dryck-till-vegetarisk-mat/\",\"text\":\"Vegetarisk mat\"},{\"contentLink\":4688,\"children\":[],\"level\":2,\"hasSelectedChild\":false,\"url\":\"/dryck-till-mat/kombinera-dryck-och-mat/vegetariskt-julbord2/\",\"text\":\"Vegetariskt julbord\"}],\"level\":1,\"hasSelectedChild\":false,\"url\":\"/dryck-till-mat/kombinera-dryck-och-mat/\",\"text\":\"Kombinera dryck och mat\"},{\"contentLink\":4038,\"children\":[{\"contentLink\":3945,\"children\":[],\"level\":2,\"hasSelectedChild\":false,\"url\":\"/dryck-till-mat/smakskolan/grundsmaker/\",\"text\":\"Grundsmaker\"},{\"contentLink\":3946,\"children\":[],\"level\":2,\"hasSelectedChild\":false,\"url\":\"/dryck-till-mat/smakskolan/konsistens/\",\"text\":\"Konsistens\"},{\"contentLink\":3947,\"children\":[],\"level\":2,\"hasSelectedChild\":false,\"url\":\"/dryck-till-mat/smakskolan/aromer/\",\"text\":\"Aromer\"},{\"contentLink\":4033,\"children\":[],\"level\":2,\"hasSelectedChild\":false,\"url\":\"/dryck-till-mat/smakskolan/smakskolan--vitt-vin-till-mat/\",\"text\":\"Smakskolan Vitt vin till mat\"},{\"contentLink\":4032,\"children\":[],\"level\":2,\"hasSelectedChild\":false,\"url\":\"/dryck-till-mat/smakskolan/smakskolan-rott-vin-till-mat/\",\"text\":\"Smakskolan Rött vin till mat\"},{\"contentLink\":4030,\"children\":[],\"level\":2,\"hasSelectedChild\":false,\"url\":\"/dryck-till-mat/smakskolan/smakskolan-ol-till-mat/\",\"text\":\"Smakskolan Öl till mat\"},{\"contentLink\":4292,\"children\":[],\"level\":2,\"hasSelectedChild\":false,\"url\":\"/dryck-till-mat/smakskolan/mousserande-till-mat/\",\"text\":\"Smakteori mousserande  till mat\"},{\"contentLink\":4293,\"children\":[],\"level\":2,\"hasSelectedChild\":false,\"url\":\"/dryck-till-mat/smakskolan/smakteori-rosevin-till-mat/\",\"text\":\"Smakteori rosévin till mat\"},{\"contentLink\":4285,\"children\":[],\"level\":2,\"hasSelectedChild\":false,\"url\":\"/dryck-till-mat/smakskolan/fem-tips-som-raddar-midddagen/\",\"text\":\"Fem tips som räddar midddagen\"}],\"level\":1,\"hasSelectedChild\":false,\"url\":\"/dryck-till-mat/smakskolan/\",\"text\":\"Smakskolan\"},{\"contentLink\":1733,\"children\":[{\"contentLink\":5029,\"children\":[],\"level\":2,\"hasSelectedChild\":false,\"url\":\"/dryck-till-mat/vi-ar-systembolaget/dryck-kroppkakor/\",\"text\":\"Johanna Carlsson\"},{\"contentLink\":5028,\"children\":[],\"level\":2,\"hasSelectedChild\":false,\"url\":\"/dryck-till-mat/vi-ar-systembolaget/dryck-musslor/\",\"text\":\"Adam Dehlén\"},{\"contentLink\":5027,\"children\":[],\"level\":2,\"hasSelectedChild\":false,\"url\":\"/dryck-till-mat/vi-ar-systembolaget/dryck-viltkott/\",\"text\":\"Maud Andersson\"},{\"contentLink\":4978,\"children\":[],\"level\":2,\"hasSelectedChild\":false,\"url\":\"/dryck-till-mat/vi-ar-systembolaget/dryck-brioche/\",\"text\":\"Lisa Karlsson\"},{\"contentLink\":4045,\"children\":[],\"level\":2,\"hasSelectedChild\":false,\"url\":\"/dryck-till-mat/vi-ar-systembolaget/natali-olszewski/\",\"text\":\"Natali Olszewski\"},{\"contentLink\":3676,\"children\":[],\"level\":2,\"hasSelectedChild\":false,\"url\":\"/dryck-till-mat/vi-ar-systembolaget/dryck-vegansk-soppa/\",\"text\":\"Anna Gröning\"},{\"contentLink\":3675,\"children\":[],\"level\":2,\"hasSelectedChild\":false,\"url\":\"/dryck-till-mat/vi-ar-systembolaget/dryck-dillkott/\",\"text\":\"Linda Sahlin\"},{\"contentLink\":3674,\"children\":[],\"level\":2,\"hasSelectedChild\":false,\"url\":\"/dryck-till-mat/vi-ar-systembolaget/dryck-indisk-mat/\",\"text\":\"Andreas Solvang\"},{\"contentLink\":3673,\"children\":[],\"level\":2,\"hasSelectedChild\":false,\"url\":\"/dryck-till-mat/vi-ar-systembolaget/dryck-ribbolita/\",\"text\":\"Fredrik Karlsson\"},{\"contentLink\":3658,\"children\":[],\"level\":2,\"hasSelectedChild\":false,\"url\":\"/dryck-till-mat/vi-ar-systembolaget/dryck-till-glass/\",\"text\":\"Caroline Hedström\"},{\"contentLink\":2174,\"children\":[],\"level\":2,\"hasSelectedChild\":false,\"url\":\"/dryck-till-mat/vi-ar-systembolaget/dryck-confit-de-canard/\",\"text\":\"Robin Nilsson\"},{\"contentLink\":2172,\"children\":[],\"level\":2,\"hasSelectedChild\":false,\"url\":\"/dryck-till-mat/vi-ar-systembolaget/dryck-galetter/\",\"text\":\"Sebastian Fritzon\"},{\"contentLink\":2167,\"children\":[],\"level\":2,\"hasSelectedChild\":false,\"url\":\"/dryck-till-mat/vi-ar-systembolaget/dryck-moules-mariniere/\",\"text\":\"Linda Ekstedt\"},{\"contentLink\":2166,\"children\":[],\"level\":2,\"hasSelectedChild\":false,\"url\":\"/dryck-till-mat/vi-ar-systembolaget/dryck-svensk-husmanskost/\",\"text\":\"Anna Wilkmar\"},{\"contentLink\":2067,\"children\":[],\"level\":2,\"hasSelectedChild\":false,\"url\":\"/dryck-till-mat/vi-ar-systembolaget/dryck-chevre-chaud/\",\"text\":\"Kayleigh Bishop Källberg\"},{\"contentLink\":2048,\"children\":[],\"level\":2,\"hasSelectedChild\":false,\"url\":\"/dryck-till-mat/vi-ar-systembolaget/dryck-torskrygg/\",\"text\":\"Vito Zambrino\"},{\"contentLink\":1556,\"children\":[],\"level\":2,\"hasSelectedChild\":false,\"url\":\"/dryck-till-mat/vi-ar-systembolaget/christine-bouillabaisse/\",\"text\":\"Christine Strand\"},{\"contentLink\":1508,\"children\":[],\"level\":2,\"hasSelectedChild\":false,\"url\":\"/dryck-till-mat/vi-ar-systembolaget/orjans-renfile/\",\"text\":\"Örjan Noreheim\"},{\"contentLink\":1506,\"children\":[],\"level\":2,\"hasSelectedChild\":false,\"url\":\"/dryck-till-mat/vi-ar-systembolaget/andreas-risotto/\",\"text\":\"Andreas Wiman\"},{\"contentLink\":1484,\"children\":[],\"level\":2,\"hasSelectedChild\":false,\"url\":\"/dryck-till-mat/vi-ar-systembolaget/linnea-lammfarsbiffar/\",\"text\":\"Linnea Degerstedt\"},{\"contentLink\":1466,\"children\":[],\"level\":2,\"hasSelectedChild\":false,\"url\":\"/dryck-till-mat/vi-ar-systembolaget/matilda-renskav/\",\"text\":\"Matilda Berg\"}],\"level\":1,\"hasSelectedChild\":false,\"url\":\"/dryck-till-mat/vi-ar-systembolaget/\",\"text\":\"#viärsystembolaget\"},{\"contentLink\":4040,\"children\":[{\"contentLink\":4271,\"children\":[{\"contentLink\":4280,\"children\":[],\"level\":3,\"hasSelectedChild\":false,\"url\":\"/dryck-till-mat/dryck-i-mat/sprit-i-mat/sprit-sas-smaksattare/\",\"text\":\"Sprit i sås och som smaksättare\"},{\"contentLink\":3080,\"children\":[],\"level\":3,\"hasSelectedChild\":false,\"url\":\"/dryck-till-mat/dryck-i-mat/sprit-i-mat/flambera-sprit/\",\"text\":\"Flambera med sprit\"}],\"level\":2,\"hasSelectedChild\":false,\"url\":\"/dryck-till-mat/dryck-i-mat/sprit-i-mat/\",\"text\":\"Sprit i mat\"},{\"contentLink\":2985,\"children\":[{\"contentLink\":3004,\"children\":[],\"level\":3,\"hasSelectedChild\":false,\"url\":\"/dryck-till-mat/dryck-i-mat/vin-i-mat/vin-i-sas/\",\"text\":\"Vin i sås\"},{\"contentLink\":3002,\"children\":[],\"level\":3,\"hasSelectedChild\":false,\"url\":\"/dryck-till-mat/dryck-i-mat/vin-i-mat/rott-vin-i-mat/\",\"text\":\"Rött vin i mat\"},{\"contentLink\":3001,\"children\":[],\"level\":3,\"hasSelectedChild\":false,\"url\":\"/dryck-till-mat/dryck-i-mat/vin-i-mat/vitt-vin-i-mat/\",\"text\":\"Vitt vin i mat\"},{\"contentLink\":3003,\"children\":[],\"level\":3,\"hasSelectedChild\":false,\"url\":\"/dryck-till-mat/dryck-i-mat/vin-i-mat/starkvin-i-mat/\",\"text\":\"Starkvin i mat\"}],\"level\":2,\"hasSelectedChild\":false,\"url\":\"/dryck-till-mat/dryck-i-mat/vin-i-mat/\",\"text\":\"Vin i mat\"},{\"contentLink\":434,\"children\":[],\"level\":2,\"hasSelectedChild\":false,\"url\":\"/dryck-till-mat/dryck-i-mat/ol-i-grytor/\",\"text\":\"Öl i grytor och annan mat\"}],\"level\":1,\"hasSelectedChild\":false,\"url\":\"/dryck-till-mat/dryck-i-mat/\",\"text\":\"Dryck i mat\"},{\"contentLink\":4041,\"children\":[{\"contentLink\":5189,\"children\":[],\"level\":2,\"hasSelectedChild\":false,\"url\":\"/dryck-till-mat/tilltugg-till-drycker/bubblor-snacks/\",\"text\":\"Bubblor och snacks\"},{\"contentLink\":3883,\"children\":[],\"level\":2,\"hasSelectedChild\":false,\"url\":\"/dryck-till-mat/tilltugg-till-drycker/drinktilltugg/\",\"text\":\"Drinktilltugg\"},{\"contentLink\":2990,\"children\":[],\"level\":2,\"hasSelectedChild\":false,\"url\":\"/dryck-till-mat/tilltugg-till-drycker/tilltugg-till-champagne/\",\"text\":\"Tilltugg till champagne och mousserande\"},{\"contentLink\":2987,\"children\":[],\"level\":2,\"hasSelectedChild\":false,\"url\":\"/dryck-till-mat/tilltugg-till-drycker/tilltugg-till-vin/\",\"text\":\"Tilltugg till vin\"},{\"contentLink\":2409,\"children\":[],\"level\":2,\"hasSelectedChild\":false,\"url\":\"/dryck-till-mat/tilltugg-till-drycker/cider-ostbricka/\",\"text\":\"Cider till ostbrickan\"},{\"contentLink\":435,\"children\":[],\"level\":2,\"hasSelectedChild\":false,\"url\":\"/dryck-till-mat/tilltugg-till-drycker/tilltugg-till-ol/\",\"text\":\"Tilltugg till öl\"}],\"level\":1,\"hasSelectedChild\":false,\"url\":\"/dryck-till-mat/tilltugg-till-drycker/\",\"text\":\"Tilltugg och dryck\"}],\"isExpandable\":false,\"linkLevel2\":{\"url\":\"/link/2253565ee9d349cc91b8128d4af23410.aspx\",\"text\":\"Läs mer om matcha mat &amp; dryck\"},\"contentSectionPageLinks\":null,\"hasSelectedChild\":false,\"url\":\"/dryck-till-mat/\",\"text\":\"Dryck &amp; Mat\"},{\"contentLink\":1307,\"headingLevel2\":null,\"linkHeadingLevel2\":null,\"imageBlocks\":null,\"shortcutCards\":null,\"productCategories\":null,\"children\":[{\"contentLink\":1427,\"children\":[],\"level\":1,\"hasSelectedChild\":false,\"url\":\"/en-omtanksam-vard/alkoholfritt/\",\"text\":\"Alkoholfritt = ingen grej\"},{\"contentLink\":1426,\"children\":[],\"level\":1,\"hasSelectedChild\":false,\"url\":\"/en-omtanksam-vard/vatten/\",\"text\":\"Vatten = bättre fest\"},{\"contentLink\":1428,\"children\":[],\"level\":1,\"hasSelectedChild\":false,\"url\":\"/en-omtanksam-vard/barn/\",\"text\":\"Barn på fest?\"},{\"contentLink\":1815,\"children\":[],\"level\":1,\"hasSelectedChild\":false,\"url\":\"/en-omtanksam-vard/tips-till-vardfolk/\",\"text\":\"Tips till värdfolk\"},{\"contentLink\":1816,\"children\":[],\"level\":1,\"hasSelectedChild\":false,\"url\":\"/en-omtanksam-vard/avkoda-kladkoderna/\",\"text\":\"Avkoda klädkoderna\"},{\"contentLink\":1817,\"children\":[],\"level\":1,\"hasSelectedChild\":false,\"url\":\"/en-omtanksam-vard/konsten-att-skala/\",\"text\":\"Konsten att skåla\"},{\"contentLink\":1818,\"children\":[],\"level\":1,\"hasSelectedChild\":false,\"url\":\"/en-omtanksam-vard/dukning/\",\"text\":\"Dukning\"},{\"contentLink\":1819,\"children\":[],\"level\":1,\"hasSelectedChild\":false,\"url\":\"/en-omtanksam-vard/om-nagon-blir-for-full/\",\"text\":\"Om någon blir för full\"},{\"contentLink\":2235,\"children\":[],\"level\":1,\"hasSelectedChild\":false,\"url\":\"/en-omtanksam-vard/bli-ett-mingelproffs/\",\"text\":\"Bli ett mingelproffs\"}],\"isExpandable\":false,\"linkLevel2\":null,\"contentSectionPageLinks\":null,\"hasSelectedChild\":false,\"url\":\"/en-omtanksam-vard/\",\"text\":\"En omtänksam värd\"}],\"mobileMenuOpenText\":\"Meny\",\"mobileMenuCloseText\":\"Stäng\",\"goToMainContentButtonText\":\"Gå till huvudinnehåll\",\"selectedContentLink\":281,\"currentUrl\":\"/sok/?categoryLevel1=Vin&amp;categoryLevel2=R%C3%B6tt%20vin&amp;page=1\"},\"goToMainContentButtonText\":\"Gå till huvudinnehåll\",\"isOnStartPage\":false},\"tgm\":{\"selectDeliveryOptionLabel\":\"Välj leveranssätt \",\"selectedDeliveryOptionLabel\":\"Valt leveranssätt\",\"deliveryOptions\":{\"store\":{\"label\":\"Hämta i butik\",\"freight\":\"0 kr\"},\"agent\":{\"label\":\"Hämta hos ombud\",\"freight\":\"0 kr\"},\"homeDelivery\":{\"label\":\"Hemleverans\",\"freight\":\"Från 120 kr\"}},\"alertTexts\":{\"productLaunchText\":{\"title\":\"Säljstart\"},\"atSupplier\":{\"title\":\"Ordervara – längre leveranstid\"},\"existsInStore\":{\"title\":\"Till denna butik går det än så länge inte att beställa drycker som redan finns i butikens sortiment. \"},\"orderStockBalanceZeroText\":{\"title\":\"Slut i lager\"},\"notFullAssortmentStoreInformationText\":{\"title\":null},\"restrictedParcelQuantity\":{\"title\":\"På begäran av leverantören kan denna dryck endast handlas i hela kollin om {0}.\"},\"stockStatusList\":[{\"name\":\"TemporaryOutOfStock\",\"title\":\"Tillfälligt slut online\",\"text\":\"Drycken är tillfälligt slut online. Kan finnas i enstaka butiker.\",\"type\":\"Error\"},{\"name\":\"SupplierTemporaryNotAvailable\",\"title\":\"Tillfälligt slut online\",\"text\":\"Drycken är tillfälligt slut online. Kan finnas i enstaka butiker. \",\"type\":\"Error\"},{\"name\":\"SupplierNotAvailable\",\"title\":\"Utgått online\",\"text\":\"Drycken kan finnas kvar i enstaka butiker\",\"type\":\"Error\"},{\"name\":\"OutOfStockOnline\",\"title\":\"Utgått online\",\"text\":\"Drycken kan finnas kvar i enstaka butiker\",\"type\":\"Error\"},{\"name\":\"CompletelyOutOfStock\",\"title\":\"Utgått online\",\"text\":\"Drycken kan finnas kvar i enstaka butiker.\",\"type\":\"Error\"},{\"name\":\"StoreOnlyProduct\",\"title\":\"Lokal dryck, kan inte handlas online\",\"text\":\"Finns endast i vissa butiker, kan inte handlas online. \",\"type\":\"Error\"},{\"name\":\"StoreRegionalRestricted\",\"title\":\"Endast leverans till butiker i vissa län\",\"text\":\"På leverantörens begäran är drycken endast tillgänglig för leverans till butik i vissa län. \",\"type\":\"Error\"},{\"name\":\"AgentRegionalRestricted\",\"title\":\"Kan inte levereras till ombud\",\"text\":\"På leverantörens begäran är drycken endast tillgänglig för leverans till Systembolagets butiker i vissa län. \",\"type\":\"Error\"},{\"name\":\"HomeRegionalRestricted\",\"title\":\"Kan inte levereras hem\",\"text\":\"På leverantörens begäran är drycken endast tillgänglig för leverans till Systembolagets butiker i vissa län. \\n\",\"type\":\"Error\"},{\"name\":\"StoreBlockedForOrder\",\"title\":\"För tillfället går det inte att beställa till butiken.\",\"text\":\"Det kan bero på att vi inte kan ta hand om fler beställningar till butiken just idag eller att butiken är stängd. Det här kan du göra: 1. Prova att beställa i morgon. 2. Har du en annan butik i närheten, kan du prova att beställa dit. Klicka \\\"Byt leveranssätt\\\" en bit upp på sidan. 3. Beställ med hemleverans. Det finns i delar av Sverige och kostar från 120 kronor. \",\"type\":\"Error\"},{\"name\":\"AgentBlockedForOrder\",\"title\":\"För tilfället går det inte att beställa till ombudet.\",\"text\":\"Det kan bero på att ombudet inte kan ta hand om fler beställningar just idag eller att ombudet är stängt. Det här kan du göra: 1. Prova att beställa i morgon. 2. Kan du hämta i en Systembolaget-butik istället? Klicka på \\\"Byt leveranssätt\\\" en bit upp på sidan. \",\"type\":\"Error\"},{\"name\":\"NotSaleStarted\",\"title\":\"Ej säljstartad\",\"text\":\"Drycken går inte att beställa innan säljstart.\",\"type\":\"Error\"},{\"name\":\"NotHomeOrderable\",\"title\":\"Går inte att handla online.\",\"text\":\"Drycken kan inte handlas online. Är drycken i Tillfälligt sortiment? Då går den inte att beställa för närvarande. Sortimentet öppnar åter för beställning 22/9. Drycken kan finnas i butik.\",\"type\":\"Error\"},{\"name\":\"CouldNotBeOrdered\",\"title\":\"Går inte att handla online\",\"text\":\"Drycken går inte att handla online. Är drycken i Tillfälligt sortiment? Då går den inte att beställa för närvarande. Sortimentet öppnar åter för beställning 22/9. Drycken kan finnas i butik.\",\"type\":\"Error\"}]},\"storeDeliveryTimeText\":\"Hämta: ca {0} dagar från beställning\",\"agentDeliveryTimeText\":\"Hämta tidigast: {0} kl 16.00\",\"homeDeliveryTimeText\":\"Nästa möjliga leveransdag: {0}\",\"homeDeliveryTimeInformationText\":\"Du väljer leveranstid i kassan\",\"homeDeliveryFreightHeadingText\":\"Avgift från 120 kr\",\"homeDeliveryFreightTooltipText\":\"Avgiften beror på hur mycket du beställer. Första kollit kostar 120 kr, därefter 80 kr per kolli. Ett kolli rymmer som mest 12 flaskor, 6 boxar eller 24 burkar. En flaska tar upp en plats, en burk en halv plats och en box tar upp två platser.\\n\\nUndantag finns: Udda storlekar kan ta större plats och göra att avgiften blir högre.\"},\"basket\":{\"title\":\"Varukorg\",\"checkoutButtonText\":\"Till kassan\",\"basketUrl\":\"/varukorg/\",\"checkoutInformationText\":\"\",\"deliveryHomeText\":\"Hemleverans till:\",\"deliveryAgentText\":\"Hämta hos ombud:\",\"deliveryStoreText\":\"Hämta i butik:\",\"chooseDeliveryButtonText\":\"Välj leveranssätt\",\"chooseDeliveryText\":\"för att se lagerstatus\",\"emptyBasketText\":\"Varukorgen är tom, och det är helt okej.\",\"goToBasketText\":\"Fortsätt\",\"productAffectsDeliveryTimeText\":\"Drycken påverkar leveranstiden \",\"productsAffectsDeliveryTimeText\":\"Drycker som påverkar leveranstiden \",\"whyIsDeliveryTimeAffectedText\":\"Vissa drycker måste skickas mellan våra onlinelager, då tar leveransen längre tid.\\nOrdervaror finns hos våra leverantörer. Leveranstiden blir därför längre.  \\n\",\"productNotOrderableText\":\"Varan kan inte beställas\",\"productsNotOrderableText\":\"Varorna kan inte beställas\",\"whyIsProductNotOrderableText\":\"Drycken går inte att beställa just nu. Det kan bero på något av följande: 1. Drycken finns i Tillfälligt sortiment (öppnar åter för beställning 22/9). 2. Drycken är tillfälligt slut. 3. Drycken är stoppad för försäljning. 4. Drycken ännu inte har lanserats.\",\"extendedDeliveryTimeText\":\"Längre leveranstid\",\"inStockText\":\"i lager online\",\"removeBasketText\":\"Vill du tömma varukorgen?\",\"removeBasketItemText\":\"&lt;p&gt;Vill du ta bort &lt;strong&gt;{0}&lt;/strong&gt; från varukorgen?&lt;/p&gt;\"},\"generalImages\":[{\"type\":\"BottlePlaceHolder\",\"image\":\"https://beta-cdn.systembolaget.se/492c4d/contentassets/ef797556881d4e20b334529d96b975a2/placeholder-wine-bottle.png\"},{\"type\":\"CanPlaceHolder\",\"image\":\"https://beta-cdn.systembolaget.se/492c4d/contentassets/ef797556881d4e20b334529d96b975a2/placeholder-beer-bottle.png\"},{\"type\":\"BoxPlaceHolder\",\"image\":\"https://beta-cdn.systembolaget.se/492c4d/contentassets/ef797556881d4e20b334529d96b975a2/placeholder-bag-in-box.png\"},{\"type\":\"CasquePlaceHolder\",\"image\":\"https://beta-cdn.systembolaget.se/492c4d/contentassets/ef797556881d4e20b334529d96b975a2/placeholder-casque.png\"},{\"type\":\"TetraPlaceHolder\",\"image\":\"https://beta-cdn.systembolaget.se/492c4d/contentassets/ef797556881d4e20b334529d96b975a2/placeholder-tetra.png\"},{\"type\":\"GiftBagsPlaceHolder\",\"image\":\"https://beta-cdn.systembolaget.se/492c4d/contentassets/ef797556881d4e20b334529d96b975a2/placeholder-gift-bags.png\"},{\"type\":\"EmptyBasketPlaceHolder\",\"image\":\"https://beta-cdn.systembolaget.se/492c4d/contentassets/ef797556881d4e20b334529d96b975a2/placeholder-empty-basket.png\"},{\"type\":\"EcoTagLargeProductTile\",\"image\":\"https://beta-cdn.systembolaget.se/492c4d/contentassets/ef797556881d4e20b334529d96b975a2/eco-tag-large-vertical.png\"},{\"type\":\"EcoTagSmallProductTile\",\"image\":\"https://beta-cdn.systembolaget.se/492c4d/contentassets/ef797556881d4e20b334529d96b975a2/eco-tag-small-vertical.png\"},{\"type\":\"NewsTagLargeProductTile\",\"image\":\"https://beta-cdn.systembolaget.se/492c4d/contentassets/ef797556881d4e20b334529d96b975a2/news-tag-large-vertical.png\"},{\"type\":\"NewsTagSmallProductTile\",\"image\":\"https://beta-cdn.systembolaget.se/492c4d/contentassets/ef797556881d4e20b334529d96b975a2/news-tag-small-vertical.png\"}]}' data-react-component=\"HeaderContainer\"></div>\n",
       "<main style=\"outline: none\" tabindex=\"0\">\n",
       "<div id=\"pageLoading\">\n",
       "<style>\n",
       "                @keyframes spin {\n",
       "                    from {\n",
       "                        transform: rotate(0deg);\n",
       "                    }\n",
       "                    to {\n",
       "                        transform: rotate(360deg);\n",
       "                    }\n",
       "                }\n",
       "                .loader {\n",
       "                    width: 48px;\n",
       "                    border-radius: 50%;\n",
       "                    height: 48px;\n",
       "                    border: 3px solid rgb(50, 133, 100);\n",
       "                    border-top-color: transparent;\n",
       "                    animation: spin 1s infinite linear;\n",
       "                }\n",
       "                #pageLoading {\n",
       "                    display: flex;\n",
       "                    align-items: center;\n",
       "                    justify-content: center;\n",
       "                    position: absolute;\n",
       "                    top: 0;\n",
       "                    right: 0;\n",
       "                    left: 0;\n",
       "                    bottom: 0;\n",
       "                }\n",
       "            </style><div class=\"loader\"></div>\n",
       "</div>\n",
       "<div data-props=\"null\" data-react-component=\"MainSectionOverlayWrapper\"></div>\n",
       "<div data-props='{\"leftBackgroundImage\":\"https://beta-cdn.systembolaget.se/48e756/globalassets/australien.png\",\"rightBackgroundImage\":\"https://beta-cdn.systembolaget.se/49a968/globalassets/toppkartor/europa_hoger.png\",\"filterTitle\":\"Filtrera\",\"showProductsButtonText\":\"Visa sökträffar\",\"closeText\":\"Stäng\",\"sortOptions\":[{\"id\":0,\"label\":\"Relevans\",\"selected\":false,\"key\":\"sortingList\",\"value\":\"Score\"},{\"id\":1,\"label\":\"Volym\",\"selected\":false,\"key\":\"sortingList\",\"value\":\"Volume\"},{\"id\":2,\"label\":\"Pris\",\"selected\":false,\"key\":\"sortingList\",\"value\":\"Price\"},{\"id\":3,\"label\":\"Årgång\",\"selected\":false,\"key\":\"sortingList\",\"value\":\"Vintage\"},{\"id\":4,\"label\":\"Namn\",\"selected\":false,\"key\":\"sortingList\",\"value\":\"Name\"},{\"id\":5,\"label\":\"Säljstart\",\"selected\":false,\"key\":\"sortingList\",\"value\":\"ProductLaunchDate\"}],\"sortDirectionList\":[{\"id\":0,\"title\":\"Fallande\",\"selected\":false,\"iconType\":\"sort-descending\",\"value\":\"Descending\"},{\"id\":1,\"title\":\"Stigande\",\"selected\":false,\"iconType\":\"sort-ascending\",\"value\":\"Ascending\"}],\"showMoreProductsButtonText\":\"Visa fler \",\"productDescriptionBS\":\"Drycken finns i lager hos leverantör, inte hos Systembolaget. Den är inte provad av Systembolaget och därför visas ingen smakbeskrivning.\",\"noProductsResultText\":\"Inga sökträffar för\",\"didYouMeanText\":\"Menade du\",\"goBackBtnText\":\"Tillbaka\",\"clearSearchResultBtnText\":\"Rensa \",\"noProductsOnFilterResultText\":\"Inga sökträffar för\",\"nrOfProductsInFullAssortmentText\":\"Din sökning gav {0} träffar i\",\"oneProductInFullAssortmentText\":\"Din sökning gav {0} träff i\",\"fullAssortmentLinkText\":\"hela sortimentet\",\"productStatusTexts\":{\"productLaunchText\":\"Säljstart\",\"isCompletelyOutOfStockText\":\"Drycken har utgått\",\"isTemporaryOutOfStockText\":\"Tillfälligt slut hos leverantör\",\"bsAssortmentExtendedDeliveryTimeText\":\"Ordervara, längre leveranstid\"},\"filterChipsFilteredOnText\":\"Filtrerad på:\",\"deliveryOptions\":{\"store\":{\"label\":\"Hämta i butik\",\"freight\":\"0 kr\"},\"agent\":{\"label\":\"Hämta hos ombud\",\"freight\":\"0 kr\"},\"homeDelivery\":{\"label\":\"Hemleverans\",\"freight\":\"Från 120 kr\"}},\"storeDeliveryTimeText\":\"Hämta: ca {0} dagar från beställning\",\"agentDeliveryTimeText\":\"Hämta tidigast: {0} kl 16.00\",\"homeDeliveryTimeText\":\"Nästa möjliga leveransdag: {0}\",\"homeDeliveryTimeInformationText\":\"Du väljer leveranstid i kassan\",\"homeDeliveryFreightHeadingText\":\"Avgift från 120 kr\",\"homeDeliveryFreightTooltipText\":\"Avgiften beror på hur mycket du beställer. Första kollit kostar 120 kr, därefter 80 kr per kolli. Ett kolli rymmer som mest 12 flaskor, 6 boxar eller 24 burkar. En flaska tar upp en plats, en burk en halv plats och en box tar upp två platser.\\n\\nUndantag finns: Udda storlekar kan ta större plats och göra att avgiften blir högre.\",\"productSearchOptions\":{\"fullAssortmentText\":\"Alla drycker\",\"inStoreText\":\"Drycker i din butik\",\"onlineText\":\"Handla online\"},\"tgmOnlineDeliveryTimeText\":\"&lt;p&gt;* Leveranstid visas i Varukorgen. Ordervaror har längre leveranstid.&lt;/p&gt;\",\"tgmOnlineNotFullAssortmentStoreInformation\":\"I listan nedan visas enbart drycker som kan beställas till butiken. Än så länge går det inte att beställa drycker som redan finns i butikens sortiment. \",\"stockBalanceTexts\":{\"stockBalanceInStoreText\":\"i lager\",\"stockBalanceOnlineText\":\"i lager online\"},\"generalImages\":[{\"type\":\"BottlePlaceHolder\",\"image\":\"https://beta-cdn.systembolaget.se/492c4d/contentassets/ef797556881d4e20b334529d96b975a2/placeholder-wine-bottle.png\"},{\"type\":\"CanPlaceHolder\",\"image\":\"https://beta-cdn.systembolaget.se/492c4d/contentassets/ef797556881d4e20b334529d96b975a2/placeholder-beer-bottle.png\"},{\"type\":\"BoxPlaceHolder\",\"image\":\"https://beta-cdn.systembolaget.se/492c4d/contentassets/ef797556881d4e20b334529d96b975a2/placeholder-bag-in-box.png\"},{\"type\":\"CasquePlaceHolder\",\"image\":\"https://beta-cdn.systembolaget.se/492c4d/contentassets/ef797556881d4e20b334529d96b975a2/placeholder-casque.png\"},{\"type\":\"TetraPlaceHolder\",\"image\":\"https://beta-cdn.systembolaget.se/492c4d/contentassets/ef797556881d4e20b334529d96b975a2/placeholder-tetra.png\"},{\"type\":\"GiftBagsPlaceHolder\",\"image\":\"https://beta-cdn.systembolaget.se/492c4d/contentassets/ef797556881d4e20b334529d96b975a2/placeholder-gift-bags.png\"},{\"type\":\"EmptyBasketPlaceHolder\",\"image\":\"https://beta-cdn.systembolaget.se/492c4d/contentassets/ef797556881d4e20b334529d96b975a2/placeholder-empty-basket.png\"},{\"type\":\"EcoTagLargeProductTile\",\"image\":\"https://beta-cdn.systembolaget.se/492c4d/contentassets/ef797556881d4e20b334529d96b975a2/eco-tag-large-vertical.png\"},{\"type\":\"EcoTagSmallProductTile\",\"image\":\"https://beta-cdn.systembolaget.se/492c4d/contentassets/ef797556881d4e20b334529d96b975a2/eco-tag-small-vertical.png\"},{\"type\":\"NewsTagLargeProductTile\",\"image\":\"https://beta-cdn.systembolaget.se/492c4d/contentassets/ef797556881d4e20b334529d96b975a2/news-tag-large-vertical.png\"},{\"type\":\"NewsTagSmallProductTile\",\"image\":\"https://beta-cdn.systembolaget.se/492c4d/contentassets/ef797556881d4e20b334529d96b975a2/news-tag-small-vertical.png\"}]}' data-react-component=\"Search\"></div>\n",
       "<div class=\"container\">\n",
       "</div>\n",
       "<div>\n",
       "</div>\n",
       "</main>\n",
       "<footer>\n",
       "<div data-props='{\"items\":[{\"title\":\"Annonsfritt\",\"text\":\"Vi annonserar inte för att du ska köpa mer eller lockas till butik. Tycker du annorlunda?\",\"url\":\"https://www.systembolaget.se/tycktill/\",\"imageUrl\":\"https://beta-cdn.systembolaget.se/4ad352/globalassets/speaker.svg\",\"imageAlt\":null},{\"title\":\"Personligt\",\"text\":\"Vi ger personliga råd just för dig.\",\"url\":null,\"imageUrl\":\"https://beta-cdn.systembolaget.se/4ad352/globalassets/girl.svg\",\"imageAlt\":null},{\"title\":\"Märkesneutralt\",\"text\":\"Vi styrs inte av vad vi tjänar mest pengar på. Tycker du annorlunda? Berätta för oss!\",\"url\":\"https://www.systembolaget.se/tycktill/\",\"imageUrl\":\"https://beta-cdn.systembolaget.se/4ad352/globalassets/two-bottles.svg\",\"imageAlt\":null}]}' data-react-component=\"MessageBar\"></div>\n",
       "<div data-props='{\"lists\":[{\"titleUrl\":null,\"title\":\"Beställ &amp; Handla\",\"readMoreLinkText\":null,\"links\":[{\"url\":\"/bestalla-och-handla/till-butik/\",\"text\":\"Beställ till butik\"},{\"url\":\"/bestalla-och-handla/hemleverans/\",\"text\":\"Beställ hemleverans\"},{\"url\":\"/bestalla-och-handla/till-ombud/\",\"text\":\"Beställ till ombud\"},{\"url\":\"https://www.systembolaget.se/lanseringar/nyheter-i-sortimentet/webblanseringar/\",\"text\":\"Webblansering\"},{\"url\":\"/dryck-till-mat/dryckesprovningar/\",\"text\":\"Dryckesprovning\"},{\"url\":\"https://www.systembolaget.se/bestalla-drycker/privatimport/\",\"text\":\"Privatimportsförfrågan\"},{\"url\":\"/kopinformation/\",\"text\":\"Retur, ångerrätt och reklamation\"},{\"url\":\"/vara-markningar/\",\"text\":\"Våra märkningar\"},{\"url\":\"/nya-drycker/premium/systembolagets-dryckesauktioner/\",\"text\":\"Dryckesauktioner\"}]},{\"titleUrl\":null,\"title\":\"Kontakt\",\"readMoreLinkText\":null,\"links\":[{\"url\":\"/kontakta-oss/\",\"text\":\"Kontakta oss\"},{\"url\":\"https://www.systembolaget.se/butiker-ombud/\",\"text\":\"Butiker &amp; Ombud\"},{\"url\":\"https://vanligafragor.systembolaget.se/org/systembolaget/?_ga=2.11603383.2049959095.1549269507-1866095686.1537442918\",\"text\":\"Vanliga frågor\"},{\"url\":\"https://press.systembolaget.se/?_ga=2.11603383.2049959095.1549269507-1866095686.1537442918\",\"text\":\"Pressrum\"},{\"url\":\"https://www.systembolaget.se/om-att-bli-ombud/\",\"text\":\"Bli ombud\"},{\"url\":\"https://www.systembolaget.se/lanseringar/bli-leverantor/\",\"text\":\"Bli leverantör\"},{\"url\":\"https://auth.leverantorsportalen.systembolaget.se/logga-in?returnUrl=%2Fconnect%2Fauthorize%2Fcallback%3Fclient_id%3Dlpclient%26redirect_uri%3Dhttps%253A%252F%252Fleverantorsportalen.systembolaget.se%252Fauth-callback.html%26response_type%3Did_token%2520token%26scope%3Dopenid%2520sybLpIdentityResource%2520sybLpApiScope%26state%3D2b026a898ba443b2adb6ad242f0ebb65%26nonce%3D1a9be5abbc6e4efab645380a87acaa6a\",\"text\":\"Leverantörsportalen\"},{\"url\":\"https://www.omsystembolaget.se/hallbarhet/socialt-ansvar/whistleblowing/\",\"text\":\"Whistleblowing\"},{\"url\":\"https://www.omsystembolaget.se/jobba-hos-oss/?_ga=2.69356819.2049959095.1549269507-1866095686.1537442918\",\"text\":\"Jobba hos oss\"}]},{\"titleUrl\":null,\"title\":\"Om oss\",\"readMoreLinkText\":null,\"links\":[{\"url\":\"https://www.omsystembolaget.se/vart-uppdrag/\",\"text\":\"Vårt uppdrag\"},{\"url\":\"https://www.omsystembolaget.se/om-systembolaget/?_ga=2.15885877.2049959095.1549269507-1866095686.1537442918\",\"text\":\"Om Systembolaget\"},{\"url\":\"https://www.omsystembolaget.se/hallbarhet/\",\"text\":\"Hållbarhet\"},{\"url\":\"https://www.omsystembolaget.se/om-systembolaget/ansvarsredovisning/\",\"text\":\"Ansvarsredovisning\"},{\"url\":\"http://systembolagethistoria.se/\",\"text\":\"Systembolagets historia\"},{\"url\":\"https://www.omsystembolaget.se/english/?_ga=2.75263377.2049959095.1549269507-1866095686.1537442918\",\"text\":\"English\"},{\"url\":\"https://www.omsystembolaget.se/vart-uppdrag/om-uppdraget/varfor-har-systembolaget-stangt/\",\"text\":\"Varför har vi stängt?\"}]}]}' data-react-component=\"LinkListCollection\"></div>\n",
       "<div data-props='{\"links\":{\"titleUrl\":null,\"title\":\"Länkar\",\"readMoreLinkText\":null,\"links\":[{\"url\":\"/om-webbplatsen/\",\"text\":\"Om webbplatsen\"},{\"url\":\"/allmanna-villkor/\",\"text\":\"Allmänna villkor\"},{\"url\":\"/om-lankning/\",\"text\":\"Om länkning\"},{\"url\":\"/om-personuppgifter/\",\"text\":\"Om personuppgifter\"},{\"url\":\"https://api-portal.systembolaget.se/\",\"text\":\"Öppna API:er\"},{\"url\":\"/systembolagets-app/\",\"text\":\"Systembolagets app\"}]},\"social\":{\"title\":\"Följ oss\",\"titleUrl\":null,\"links\":[{\"icon\":\"facebook\",\"url\":\"https://www.facebook.com/systembolaget\",\"text\":\"Facebook\"},{\"icon\":\"twitter\",\"url\":\"https://twitter.com/systembolaget\",\"text\":\"Twitter\"},{\"icon\":\"linkedin\",\"url\":\"https://www.linkedin.com/company/systembolaget/?originalSubdomain=se\",\"text\":\"LinkedIn\"},{\"icon\":\"instagram\",\"url\":\"https://www.instagram.com/systembolaget/\",\"text\":\"Instagram\"}]},\"apps\":{\"title\":\"Vår app\",\"titleUrl\":null,\"links\":[{\"icon\":\"apple\",\"url\":\"https://itunes.apple.com/se/app/systembolaget-sok-hitta/id486802368\",\"text\":\"App Store\"},{\"icon\":\"android\",\"url\":\"https://play.google.com/store/apps/details?id=se.systembolaget.android&amp;gl=SE\",\"text\":\"Google Play\"}]}}' data-react-component=\"LinkRow\"></div>\n",
       "</footer>\n",
       "<div data-props=\"null\" data-react-component=\"Vergic\"></div>\n",
       "</div>\n",
       "<script src=\"https://beta-cdn.systembolaget.se/dist/main.321c90a115195ec70aaf.js\"></script></body>\n",
       "</html>"
      ]
     },
     "execution_count": 11,
     "metadata": {},
     "output_type": "execute_result"
    }
   ],
   "source": [
    "soup"
   ]
  },
  {
   "cell_type": "code",
   "execution_count": null,
   "metadata": {
    "hidden": true
   },
   "outputs": [],
   "source": []
  },
  {
   "cell_type": "code",
   "execution_count": null,
   "metadata": {
    "hidden": true
   },
   "outputs": [],
   "source": []
  },
  {
   "cell_type": "markdown",
   "metadata": {
    "heading_collapsed": true
   },
   "source": [
    "# Pipelines"
   ]
  },
  {
   "cell_type": "code",
   "execution_count": 15,
   "metadata": {
    "hidden": true
   },
   "outputs": [
    {
     "name": "stdout",
     "output_type": "stream",
     "text": [
      "Collecting quandl\n",
      "  Downloading Quandl-3.5.2-py2.py3-none-any.whl (25 kB)\n",
      "Requirement already satisfied: pandas>=0.14 in /home/mauritian/yes/lib/python3.7/site-packages (from quandl) (1.0.1)\n",
      "Requirement already satisfied: six in /home/mauritian/yes/lib/python3.7/site-packages (from quandl) (1.14.0)\n",
      "Requirement already satisfied: numpy>=1.8 in /home/mauritian/yes/lib/python3.7/site-packages (from quandl) (1.18.1)\n",
      "Requirement already satisfied: more-itertools in /home/mauritian/yes/lib/python3.7/site-packages (from quandl) (8.2.0)\n",
      "Requirement already satisfied: python-dateutil in /home/mauritian/yes/lib/python3.7/site-packages (from quandl) (2.8.1)\n",
      "Collecting inflection>=0.3.1\n",
      "  Downloading inflection-0.5.1-py2.py3-none-any.whl (9.5 kB)\n",
      "Requirement already satisfied: requests>=2.7.0 in /home/mauritian/yes/lib/python3.7/site-packages (from quandl) (2.22.0)\n",
      "Requirement already satisfied: pytz>=2017.2 in /home/mauritian/yes/lib/python3.7/site-packages (from pandas>=0.14->quandl) (2019.3)\n",
      "Requirement already satisfied: chardet<3.1.0,>=3.0.2 in /home/mauritian/yes/lib/python3.7/site-packages (from requests>=2.7.0->quandl) (3.0.4)\n",
      "Requirement already satisfied: urllib3!=1.25.0,!=1.25.1,<1.26,>=1.21.1 in /home/mauritian/yes/lib/python3.7/site-packages (from requests>=2.7.0->quandl) (1.24.3)\n",
      "Requirement already satisfied: idna<2.9,>=2.5 in /home/mauritian/yes/lib/python3.7/site-packages (from requests>=2.7.0->quandl) (2.8)\n",
      "Requirement already satisfied: certifi>=2017.4.17 in /home/mauritian/yes/lib/python3.7/site-packages (from requests>=2.7.0->quandl) (2019.11.28)\n",
      "Installing collected packages: inflection, quandl\n",
      "Successfully installed inflection-0.5.1 quandl-3.5.2\n"
     ]
    }
   ],
   "source": [
    "!pip install quandl"
   ]
  },
  {
   "cell_type": "code",
   "execution_count": 16,
   "metadata": {
    "hidden": true
   },
   "outputs": [],
   "source": [
    "import quandl"
   ]
  },
  {
   "cell_type": "code",
   "execution_count": 17,
   "metadata": {
    "hidden": true
   },
   "outputs": [
    {
     "name": "stdout",
     "output_type": "stream",
     "text": [
      "········\n"
     ]
    }
   ],
   "source": [
    "import getpass\n",
    "\n",
    "\n",
    "quandl.ApiConfig.api_key=getpass.getpass()"
   ]
  },
  {
   "cell_type": "code",
   "execution_count": 19,
   "metadata": {
    "hidden": true
   },
   "outputs": [],
   "source": [
    "import pandas as pd"
   ]
  },
  {
   "cell_type": "code",
   "execution_count": 20,
   "metadata": {
    "hidden": true
   },
   "outputs": [],
   "source": [
    "companies=pd.read_csv('https://s3-eu-west-1.amazonaws.com/ih-materials/uploads/data-static/data/module-1/companies.csv')"
   ]
  },
  {
   "cell_type": "code",
   "execution_count": 25,
   "metadata": {
    "hidden": true
   },
   "outputs": [],
   "source": [
    "ticker_list=companies.Ticker.to_list()"
   ]
  },
  {
   "cell_type": "code",
   "execution_count": 33,
   "metadata": {
    "collapsed": true,
    "hidden": true
   },
   "outputs": [
    {
     "data": {
      "text/html": [
       "<div>\n",
       "<style scoped>\n",
       "    .dataframe tbody tr th:only-of-type {\n",
       "        vertical-align: middle;\n",
       "    }\n",
       "\n",
       "    .dataframe tbody tr th {\n",
       "        vertical-align: top;\n",
       "    }\n",
       "\n",
       "    .dataframe thead th {\n",
       "        text-align: right;\n",
       "    }\n",
       "</style>\n",
       "<table border=\"1\" class=\"dataframe\">\n",
       "  <thead>\n",
       "    <tr style=\"text-align: right;\">\n",
       "      <th></th>\n",
       "      <th>Ticker</th>\n",
       "      <th>Company</th>\n",
       "    </tr>\n",
       "  </thead>\n",
       "  <tbody>\n",
       "    <tr>\n",
       "      <th>0</th>\n",
       "      <td>AAPL</td>\n",
       "      <td>Apple Inc.</td>\n",
       "    </tr>\n",
       "    <tr>\n",
       "      <th>1</th>\n",
       "      <td>NFLX</td>\n",
       "      <td>Netflix, Inc.</td>\n",
       "    </tr>\n",
       "    <tr>\n",
       "      <th>2</th>\n",
       "      <td>AMZN</td>\n",
       "      <td>Amazon.com, Inc.</td>\n",
       "    </tr>\n",
       "    <tr>\n",
       "      <th>3</th>\n",
       "      <td>MSFT</td>\n",
       "      <td>Microsoft Corporation</td>\n",
       "    </tr>\n",
       "    <tr>\n",
       "      <th>4</th>\n",
       "      <td>GOOG</td>\n",
       "      <td>Alphabet Inc.</td>\n",
       "    </tr>\n",
       "    <tr>\n",
       "      <th>5</th>\n",
       "      <td>TSLA</td>\n",
       "      <td>Tesla Motors, Inc.</td>\n",
       "    </tr>\n",
       "    <tr>\n",
       "      <th>6</th>\n",
       "      <td>FB</td>\n",
       "      <td>Facebook, Inc.</td>\n",
       "    </tr>\n",
       "    <tr>\n",
       "      <th>7</th>\n",
       "      <td>AAP</td>\n",
       "      <td>Advance Auto Parts Inc.</td>\n",
       "    </tr>\n",
       "    <tr>\n",
       "      <th>8</th>\n",
       "      <td>DIS</td>\n",
       "      <td>The Walt Disney Company</td>\n",
       "    </tr>\n",
       "    <tr>\n",
       "      <th>9</th>\n",
       "      <td>NKE</td>\n",
       "      <td>NIKE, Inc.</td>\n",
       "    </tr>\n",
       "    <tr>\n",
       "      <th>10</th>\n",
       "      <td>UA</td>\n",
       "      <td>Under Armour, Inc.</td>\n",
       "    </tr>\n",
       "    <tr>\n",
       "      <th>11</th>\n",
       "      <td>BAC</td>\n",
       "      <td>Bank of America Corporation</td>\n",
       "    </tr>\n",
       "    <tr>\n",
       "      <th>12</th>\n",
       "      <td>CCL</td>\n",
       "      <td>Carnival Corporation</td>\n",
       "    </tr>\n",
       "    <tr>\n",
       "      <th>13</th>\n",
       "      <td>CI</td>\n",
       "      <td>Cigna Corp.</td>\n",
       "    </tr>\n",
       "    <tr>\n",
       "      <th>14</th>\n",
       "      <td>AAL</td>\n",
       "      <td>American Airlines Group Inc.</td>\n",
       "    </tr>\n",
       "    <tr>\n",
       "      <th>15</th>\n",
       "      <td>LUV</td>\n",
       "      <td>Southwest Airlines Co.</td>\n",
       "    </tr>\n",
       "    <tr>\n",
       "      <th>16</th>\n",
       "      <td>WFC</td>\n",
       "      <td>Wells Fargo &amp; Company</td>\n",
       "    </tr>\n",
       "    <tr>\n",
       "      <th>17</th>\n",
       "      <td>WMT</td>\n",
       "      <td>Wal-Mart Stores Inc.</td>\n",
       "    </tr>\n",
       "    <tr>\n",
       "      <th>18</th>\n",
       "      <td>HD</td>\n",
       "      <td>The Home Depot, Inc.</td>\n",
       "    </tr>\n",
       "    <tr>\n",
       "      <th>19</th>\n",
       "      <td>ORCL</td>\n",
       "      <td>Oracle Corporation</td>\n",
       "    </tr>\n",
       "    <tr>\n",
       "      <th>20</th>\n",
       "      <td>IBM</td>\n",
       "      <td>International Business Machines Corporation</td>\n",
       "    </tr>\n",
       "    <tr>\n",
       "      <th>21</th>\n",
       "      <td>NCLH</td>\n",
       "      <td>Norwegian Cruise Line Holdings Ltd.</td>\n",
       "    </tr>\n",
       "    <tr>\n",
       "      <th>22</th>\n",
       "      <td>RCL</td>\n",
       "      <td>Royal Caribbean Cruises Ltd.</td>\n",
       "    </tr>\n",
       "    <tr>\n",
       "      <th>23</th>\n",
       "      <td>TWX</td>\n",
       "      <td>Time Warner Inc.</td>\n",
       "    </tr>\n",
       "    <tr>\n",
       "      <th>24</th>\n",
       "      <td>FOX</td>\n",
       "      <td>Twenty-First Century Fox, Inc.</td>\n",
       "    </tr>\n",
       "    <tr>\n",
       "      <th>25</th>\n",
       "      <td>F</td>\n",
       "      <td>Ford Motor Co.</td>\n",
       "    </tr>\n",
       "    <tr>\n",
       "      <th>26</th>\n",
       "      <td>GCI</td>\n",
       "      <td>Gannett Co., Inc.</td>\n",
       "    </tr>\n",
       "    <tr>\n",
       "      <th>27</th>\n",
       "      <td>XOM</td>\n",
       "      <td>Exxon Mobil Corporation</td>\n",
       "    </tr>\n",
       "    <tr>\n",
       "      <th>28</th>\n",
       "      <td>WWE</td>\n",
       "      <td>World Wrestling Entertainment Inc.</td>\n",
       "    </tr>\n",
       "    <tr>\n",
       "      <th>29</th>\n",
       "      <td>WM</td>\n",
       "      <td>Waste Management, Inc.</td>\n",
       "    </tr>\n",
       "  </tbody>\n",
       "</table>\n",
       "</div>"
      ],
      "text/plain": [
       "   Ticker                                      Company\n",
       "0    AAPL                                   Apple Inc.\n",
       "1    NFLX                                Netflix, Inc.\n",
       "2    AMZN                             Amazon.com, Inc.\n",
       "3    MSFT                        Microsoft Corporation\n",
       "4    GOOG                                Alphabet Inc.\n",
       "5    TSLA                           Tesla Motors, Inc.\n",
       "6      FB                               Facebook, Inc.\n",
       "7     AAP                      Advance Auto Parts Inc.\n",
       "8     DIS                      The Walt Disney Company\n",
       "9     NKE                                   NIKE, Inc.\n",
       "10     UA                           Under Armour, Inc.\n",
       "11    BAC                  Bank of America Corporation\n",
       "12    CCL                         Carnival Corporation\n",
       "13     CI                                  Cigna Corp.\n",
       "14    AAL                 American Airlines Group Inc.\n",
       "15    LUV                       Southwest Airlines Co.\n",
       "16    WFC                        Wells Fargo & Company\n",
       "17    WMT                         Wal-Mart Stores Inc.\n",
       "18     HD                         The Home Depot, Inc.\n",
       "19   ORCL                           Oracle Corporation\n",
       "20    IBM  International Business Machines Corporation\n",
       "21   NCLH          Norwegian Cruise Line Holdings Ltd.\n",
       "22    RCL                 Royal Caribbean Cruises Ltd.\n",
       "23    TWX                             Time Warner Inc.\n",
       "24    FOX               Twenty-First Century Fox, Inc.\n",
       "25      F                               Ford Motor Co.\n",
       "26    GCI                            Gannett Co., Inc.\n",
       "27    XOM                      Exxon Mobil Corporation\n",
       "28    WWE           World Wrestling Entertainment Inc.\n",
       "29     WM                       Waste Management, Inc."
      ]
     },
     "execution_count": 33,
     "metadata": {},
     "output_type": "execute_result"
    }
   ],
   "source": [
    "companies"
   ]
  },
  {
   "cell_type": "code",
   "execution_count": 32,
   "metadata": {
    "hidden": true
   },
   "outputs": [
    {
     "name": "stdout",
     "output_type": "stream",
     "text": [
      "retrieving data for F\n"
     ]
    }
   ],
   "source": [
    "print('retrieving data for',ticker_list[25])"
   ]
  },
  {
   "cell_type": "code",
   "execution_count": 38,
   "metadata": {
    "hidden": true
   },
   "outputs": [],
   "source": [
    "prices=quandl.get('WIKI/'+ticker_list[29])['Adj. Close'].reset_index()\n",
    "prices['Ticker']=ticker_list[29]"
   ]
  },
  {
   "cell_type": "code",
   "execution_count": 39,
   "metadata": {
    "hidden": true
   },
   "outputs": [
    {
     "data": {
      "text/html": [
       "<div>\n",
       "<style scoped>\n",
       "    .dataframe tbody tr th:only-of-type {\n",
       "        vertical-align: middle;\n",
       "    }\n",
       "\n",
       "    .dataframe tbody tr th {\n",
       "        vertical-align: top;\n",
       "    }\n",
       "\n",
       "    .dataframe thead th {\n",
       "        text-align: right;\n",
       "    }\n",
       "</style>\n",
       "<table border=\"1\" class=\"dataframe\">\n",
       "  <thead>\n",
       "    <tr style=\"text-align: right;\">\n",
       "      <th></th>\n",
       "      <th>Date</th>\n",
       "      <th>Adj. Close</th>\n",
       "      <th>Ticker</th>\n",
       "    </tr>\n",
       "  </thead>\n",
       "  <tbody>\n",
       "    <tr>\n",
       "      <th>0</th>\n",
       "      <td>1991-09-30</td>\n",
       "      <td>10.890339</td>\n",
       "      <td>WM</td>\n",
       "    </tr>\n",
       "    <tr>\n",
       "      <th>1</th>\n",
       "      <td>1991-10-01</td>\n",
       "      <td>11.211020</td>\n",
       "      <td>WM</td>\n",
       "    </tr>\n",
       "    <tr>\n",
       "      <th>2</th>\n",
       "      <td>1991-10-02</td>\n",
       "      <td>10.890339</td>\n",
       "      <td>WM</td>\n",
       "    </tr>\n",
       "    <tr>\n",
       "      <th>3</th>\n",
       "      <td>1991-10-03</td>\n",
       "      <td>11.371361</td>\n",
       "      <td>WM</td>\n",
       "    </tr>\n",
       "    <tr>\n",
       "      <th>4</th>\n",
       "      <td>1991-10-04</td>\n",
       "      <td>10.890339</td>\n",
       "      <td>WM</td>\n",
       "    </tr>\n",
       "    <tr>\n",
       "      <th>...</th>\n",
       "      <td>...</td>\n",
       "      <td>...</td>\n",
       "      <td>...</td>\n",
       "    </tr>\n",
       "    <tr>\n",
       "      <th>6668</th>\n",
       "      <td>2018-03-21</td>\n",
       "      <td>85.920000</td>\n",
       "      <td>WM</td>\n",
       "    </tr>\n",
       "    <tr>\n",
       "      <th>6669</th>\n",
       "      <td>2018-03-22</td>\n",
       "      <td>84.240000</td>\n",
       "      <td>WM</td>\n",
       "    </tr>\n",
       "    <tr>\n",
       "      <th>6670</th>\n",
       "      <td>2018-03-23</td>\n",
       "      <td>82.900000</td>\n",
       "      <td>WM</td>\n",
       "    </tr>\n",
       "    <tr>\n",
       "      <th>6671</th>\n",
       "      <td>2018-03-26</td>\n",
       "      <td>84.130000</td>\n",
       "      <td>WM</td>\n",
       "    </tr>\n",
       "    <tr>\n",
       "      <th>6672</th>\n",
       "      <td>2018-03-27</td>\n",
       "      <td>83.290000</td>\n",
       "      <td>WM</td>\n",
       "    </tr>\n",
       "  </tbody>\n",
       "</table>\n",
       "<p>6673 rows × 3 columns</p>\n",
       "</div>"
      ],
      "text/plain": [
       "           Date  Adj. Close Ticker\n",
       "0    1991-09-30   10.890339     WM\n",
       "1    1991-10-01   11.211020     WM\n",
       "2    1991-10-02   10.890339     WM\n",
       "3    1991-10-03   11.371361     WM\n",
       "4    1991-10-04   10.890339     WM\n",
       "...         ...         ...    ...\n",
       "6668 2018-03-21   85.920000     WM\n",
       "6669 2018-03-22   84.240000     WM\n",
       "6670 2018-03-23   82.900000     WM\n",
       "6671 2018-03-26   84.130000     WM\n",
       "6672 2018-03-27   83.290000     WM\n",
       "\n",
       "[6673 rows x 3 columns]"
      ]
     },
     "execution_count": 39,
     "metadata": {},
     "output_type": "execute_result"
    }
   ],
   "source": [
    "prices"
   ]
  },
  {
   "cell_type": "code",
   "execution_count": 41,
   "metadata": {
    "hidden": true
   },
   "outputs": [],
   "source": [
    "def get_tickers():\n",
    "    companies=pd.read_csv('https://s3-eu-west-1.amazonaws.com/ih-materials/uploads/data-static/data/module-1/companies.csv')\n",
    "    ticker_list=companies.Ticker.to_list()\n",
    "    print('Retrieved',len(ticker_list),'tickers')\n",
    "    return ticker_list"
   ]
  },
  {
   "cell_type": "code",
   "execution_count": 43,
   "metadata": {
    "hidden": true
   },
   "outputs": [
    {
     "name": "stdout",
     "output_type": "stream",
     "text": [
      "Retrieved 30 tickers\n"
     ]
    }
   ],
   "source": [
    "tickers=get_tickers()"
   ]
  },
  {
   "cell_type": "code",
   "execution_count": 49,
   "metadata": {
    "hidden": true
   },
   "outputs": [],
   "source": [
    "def get_prices(ticker):\n",
    "    print('retrieving data for',ticker)\n",
    "    prices=quandl.get('WIKI/'+ticker)['Adj. Close'].reset_index()\n",
    "    prices['Ticker']=ticker\n",
    "    return prices"
   ]
  },
  {
   "cell_type": "code",
   "execution_count": 50,
   "metadata": {
    "hidden": true
   },
   "outputs": [],
   "source": [
    "def acquisition():\n",
    "    \n",
    "    tickers=get_tickers() #get the list of companies\n",
    "    \n",
    "    data=[get_prices(ticker) for ticker in tickers] #get the list of dataframes with prices\n",
    "    \n",
    "    df=pd.concat(data, sort=True)\n",
    "    \n",
    "    print('Done!')\n",
    "    return df"
   ]
  },
  {
   "cell_type": "code",
   "execution_count": 55,
   "metadata": {
    "collapsed": true,
    "hidden": true
   },
   "outputs": [
    {
     "name": "stdout",
     "output_type": "stream",
     "text": [
      "Retrieved 30 tickers\n",
      "retrieving data for AAPL\n",
      "retrieving data for NFLX\n",
      "retrieving data for AMZN\n",
      "retrieving data for MSFT\n",
      "retrieving data for GOOG\n",
      "retrieving data for TSLA\n",
      "retrieving data for FB\n",
      "retrieving data for AAP\n",
      "retrieving data for DIS\n",
      "retrieving data for NKE\n",
      "retrieving data for UA\n",
      "retrieving data for BAC\n",
      "retrieving data for CCL\n",
      "retrieving data for CI\n",
      "retrieving data for AAL\n",
      "retrieving data for LUV\n",
      "retrieving data for WFC\n",
      "retrieving data for WMT\n",
      "retrieving data for HD\n",
      "retrieving data for ORCL\n",
      "retrieving data for IBM\n",
      "retrieving data for NCLH\n",
      "retrieving data for RCL\n",
      "retrieving data for TWX\n",
      "retrieving data for FOX\n",
      "retrieving data for F\n",
      "retrieving data for GCI\n",
      "retrieving data for XOM\n",
      "retrieving data for WWE\n",
      "retrieving data for WM\n"
     ]
    }
   ],
   "source": [
    "df=acquisition()"
   ]
  },
  {
   "cell_type": "code",
   "execution_count": 56,
   "metadata": {
    "hidden": true
   },
   "outputs": [],
   "source": [
    "def concat_pivot(df, rows='Date', columns='Ticker',values='Adj. Close'):\n",
    "    pivot=df.pivot_table(values=values, index=rows, columns=columns)\n",
    "    return pivot"
   ]
  },
  {
   "cell_type": "code",
   "execution_count": 64,
   "metadata": {
    "hidden": true
   },
   "outputs": [
    {
     "data": {
      "text/html": [
       "<div>\n",
       "<style scoped>\n",
       "    .dataframe tbody tr th:only-of-type {\n",
       "        vertical-align: middle;\n",
       "    }\n",
       "\n",
       "    .dataframe tbody tr th {\n",
       "        vertical-align: top;\n",
       "    }\n",
       "\n",
       "    .dataframe thead th {\n",
       "        text-align: right;\n",
       "    }\n",
       "</style>\n",
       "<table border=\"1\" class=\"dataframe\">\n",
       "  <thead>\n",
       "    <tr style=\"text-align: right;\">\n",
       "      <th>Ticker</th>\n",
       "      <th>AAL</th>\n",
       "      <th>AAP</th>\n",
       "      <th>AAPL</th>\n",
       "      <th>AMZN</th>\n",
       "      <th>BAC</th>\n",
       "      <th>CCL</th>\n",
       "      <th>CI</th>\n",
       "      <th>DIS</th>\n",
       "      <th>F</th>\n",
       "      <th>FB</th>\n",
       "      <th>...</th>\n",
       "      <th>ORCL</th>\n",
       "      <th>RCL</th>\n",
       "      <th>TSLA</th>\n",
       "      <th>TWX</th>\n",
       "      <th>UA</th>\n",
       "      <th>WFC</th>\n",
       "      <th>WM</th>\n",
       "      <th>WMT</th>\n",
       "      <th>WWE</th>\n",
       "      <th>XOM</th>\n",
       "    </tr>\n",
       "    <tr>\n",
       "      <th>Date</th>\n",
       "      <th></th>\n",
       "      <th></th>\n",
       "      <th></th>\n",
       "      <th></th>\n",
       "      <th></th>\n",
       "      <th></th>\n",
       "      <th></th>\n",
       "      <th></th>\n",
       "      <th></th>\n",
       "      <th></th>\n",
       "      <th></th>\n",
       "      <th></th>\n",
       "      <th></th>\n",
       "      <th></th>\n",
       "      <th></th>\n",
       "      <th></th>\n",
       "      <th></th>\n",
       "      <th></th>\n",
       "      <th></th>\n",
       "      <th></th>\n",
       "      <th></th>\n",
       "    </tr>\n",
       "  </thead>\n",
       "  <tbody>\n",
       "    <tr>\n",
       "      <th>1962-01-02</th>\n",
       "      <td>NaN</td>\n",
       "      <td>NaN</td>\n",
       "      <td>NaN</td>\n",
       "      <td>NaN</td>\n",
       "      <td>NaN</td>\n",
       "      <td>NaN</td>\n",
       "      <td>NaN</td>\n",
       "      <td>NaN</td>\n",
       "      <td>NaN</td>\n",
       "      <td>NaN</td>\n",
       "      <td>...</td>\n",
       "      <td>NaN</td>\n",
       "      <td>NaN</td>\n",
       "      <td>NaN</td>\n",
       "      <td>NaN</td>\n",
       "      <td>NaN</td>\n",
       "      <td>NaN</td>\n",
       "      <td>NaN</td>\n",
       "      <td>NaN</td>\n",
       "      <td>NaN</td>\n",
       "      <td>NaN</td>\n",
       "    </tr>\n",
       "    <tr>\n",
       "      <th>1962-01-03</th>\n",
       "      <td>NaN</td>\n",
       "      <td>NaN</td>\n",
       "      <td>NaN</td>\n",
       "      <td>NaN</td>\n",
       "      <td>NaN</td>\n",
       "      <td>NaN</td>\n",
       "      <td>NaN</td>\n",
       "      <td>0.013423</td>\n",
       "      <td>NaN</td>\n",
       "      <td>NaN</td>\n",
       "      <td>...</td>\n",
       "      <td>NaN</td>\n",
       "      <td>NaN</td>\n",
       "      <td>NaN</td>\n",
       "      <td>NaN</td>\n",
       "      <td>NaN</td>\n",
       "      <td>NaN</td>\n",
       "      <td>NaN</td>\n",
       "      <td>NaN</td>\n",
       "      <td>NaN</td>\n",
       "      <td>NaN</td>\n",
       "    </tr>\n",
       "    <tr>\n",
       "      <th>1962-01-04</th>\n",
       "      <td>NaN</td>\n",
       "      <td>NaN</td>\n",
       "      <td>NaN</td>\n",
       "      <td>NaN</td>\n",
       "      <td>NaN</td>\n",
       "      <td>NaN</td>\n",
       "      <td>NaN</td>\n",
       "      <td>0.000000</td>\n",
       "      <td>NaN</td>\n",
       "      <td>NaN</td>\n",
       "      <td>...</td>\n",
       "      <td>NaN</td>\n",
       "      <td>NaN</td>\n",
       "      <td>NaN</td>\n",
       "      <td>NaN</td>\n",
       "      <td>NaN</td>\n",
       "      <td>NaN</td>\n",
       "      <td>NaN</td>\n",
       "      <td>NaN</td>\n",
       "      <td>NaN</td>\n",
       "      <td>NaN</td>\n",
       "    </tr>\n",
       "    <tr>\n",
       "      <th>1962-01-05</th>\n",
       "      <td>NaN</td>\n",
       "      <td>NaN</td>\n",
       "      <td>NaN</td>\n",
       "      <td>NaN</td>\n",
       "      <td>NaN</td>\n",
       "      <td>NaN</td>\n",
       "      <td>NaN</td>\n",
       "      <td>0.003444</td>\n",
       "      <td>NaN</td>\n",
       "      <td>NaN</td>\n",
       "      <td>...</td>\n",
       "      <td>NaN</td>\n",
       "      <td>NaN</td>\n",
       "      <td>NaN</td>\n",
       "      <td>NaN</td>\n",
       "      <td>NaN</td>\n",
       "      <td>NaN</td>\n",
       "      <td>NaN</td>\n",
       "      <td>NaN</td>\n",
       "      <td>NaN</td>\n",
       "      <td>NaN</td>\n",
       "    </tr>\n",
       "    <tr>\n",
       "      <th>1962-01-08</th>\n",
       "      <td>NaN</td>\n",
       "      <td>NaN</td>\n",
       "      <td>NaN</td>\n",
       "      <td>NaN</td>\n",
       "      <td>NaN</td>\n",
       "      <td>NaN</td>\n",
       "      <td>NaN</td>\n",
       "      <td>-0.003432</td>\n",
       "      <td>NaN</td>\n",
       "      <td>NaN</td>\n",
       "      <td>...</td>\n",
       "      <td>NaN</td>\n",
       "      <td>NaN</td>\n",
       "      <td>NaN</td>\n",
       "      <td>NaN</td>\n",
       "      <td>NaN</td>\n",
       "      <td>NaN</td>\n",
       "      <td>NaN</td>\n",
       "      <td>NaN</td>\n",
       "      <td>NaN</td>\n",
       "      <td>NaN</td>\n",
       "    </tr>\n",
       "    <tr>\n",
       "      <th>...</th>\n",
       "      <td>...</td>\n",
       "      <td>...</td>\n",
       "      <td>...</td>\n",
       "      <td>...</td>\n",
       "      <td>...</td>\n",
       "      <td>...</td>\n",
       "      <td>...</td>\n",
       "      <td>...</td>\n",
       "      <td>...</td>\n",
       "      <td>...</td>\n",
       "      <td>...</td>\n",
       "      <td>...</td>\n",
       "      <td>...</td>\n",
       "      <td>...</td>\n",
       "      <td>...</td>\n",
       "      <td>...</td>\n",
       "      <td>...</td>\n",
       "      <td>...</td>\n",
       "      <td>...</td>\n",
       "      <td>...</td>\n",
       "      <td>...</td>\n",
       "    </tr>\n",
       "    <tr>\n",
       "      <th>2018-03-21</th>\n",
       "      <td>-0.022234</td>\n",
       "      <td>0.008665</td>\n",
       "      <td>-0.022655</td>\n",
       "      <td>-0.002931</td>\n",
       "      <td>-0.003440</td>\n",
       "      <td>-0.011643</td>\n",
       "      <td>0.012424</td>\n",
       "      <td>0.004637</td>\n",
       "      <td>0.010009</td>\n",
       "      <td>0.007374</td>\n",
       "      <td>...</td>\n",
       "      <td>-0.000638</td>\n",
       "      <td>-0.011933</td>\n",
       "      <td>0.019256</td>\n",
       "      <td>0.001156</td>\n",
       "      <td>0.004283</td>\n",
       "      <td>-0.002004</td>\n",
       "      <td>-0.004057</td>\n",
       "      <td>0.002615</td>\n",
       "      <td>-0.005207</td>\n",
       "      <td>0.014191</td>\n",
       "    </tr>\n",
       "    <tr>\n",
       "      <th>2018-03-22</th>\n",
       "      <td>-0.032908</td>\n",
       "      <td>-0.030632</td>\n",
       "      <td>-0.014159</td>\n",
       "      <td>-0.023871</td>\n",
       "      <td>-0.041418</td>\n",
       "      <td>-0.012824</td>\n",
       "      <td>-0.010236</td>\n",
       "      <td>-0.011982</td>\n",
       "      <td>-0.031532</td>\n",
       "      <td>-0.026566</td>\n",
       "      <td>...</td>\n",
       "      <td>-0.024032</td>\n",
       "      <td>-0.025857</td>\n",
       "      <td>-0.023473</td>\n",
       "      <td>-0.010809</td>\n",
       "      <td>-0.025586</td>\n",
       "      <td>-0.041248</td>\n",
       "      <td>-0.019553</td>\n",
       "      <td>-0.011794</td>\n",
       "      <td>-0.011019</td>\n",
       "      <td>-0.020522</td>\n",
       "    </tr>\n",
       "    <tr>\n",
       "      <th>2018-03-23</th>\n",
       "      <td>-0.024852</td>\n",
       "      <td>-0.007788</td>\n",
       "      <td>-0.023128</td>\n",
       "      <td>-0.031436</td>\n",
       "      <td>-0.045172</td>\n",
       "      <td>-0.027039</td>\n",
       "      <td>-0.008105</td>\n",
       "      <td>-0.020477</td>\n",
       "      <td>-0.017674</td>\n",
       "      <td>-0.033356</td>\n",
       "      <td>...</td>\n",
       "      <td>-0.023970</td>\n",
       "      <td>-0.026127</td>\n",
       "      <td>-0.024458</td>\n",
       "      <td>-0.017929</td>\n",
       "      <td>0.000729</td>\n",
       "      <td>-0.029507</td>\n",
       "      <td>-0.015907</td>\n",
       "      <td>-0.019738</td>\n",
       "      <td>-0.002228</td>\n",
       "      <td>-0.008299</td>\n",
       "    </tr>\n",
       "    <tr>\n",
       "      <th>2018-03-26</th>\n",
       "      <td>0.016663</td>\n",
       "      <td>0.035457</td>\n",
       "      <td>0.047472</td>\n",
       "      <td>0.040319</td>\n",
       "      <td>0.043538</td>\n",
       "      <td>0.021580</td>\n",
       "      <td>0.028537</td>\n",
       "      <td>0.021413</td>\n",
       "      <td>0.025568</td>\n",
       "      <td>0.004204</td>\n",
       "      <td>...</td>\n",
       "      <td>0.037732</td>\n",
       "      <td>0.024607</td>\n",
       "      <td>0.008755</td>\n",
       "      <td>0.015340</td>\n",
       "      <td>0.053936</td>\n",
       "      <td>0.025696</td>\n",
       "      <td>0.014837</td>\n",
       "      <td>0.024350</td>\n",
       "      <td>0.030151</td>\n",
       "      <td>0.015228</td>\n",
       "    </tr>\n",
       "    <tr>\n",
       "      <th>2018-03-27</th>\n",
       "      <td>-0.018511</td>\n",
       "      <td>0.002091</td>\n",
       "      <td>-0.025641</td>\n",
       "      <td>-0.037799</td>\n",
       "      <td>-0.030223</td>\n",
       "      <td>-0.001064</td>\n",
       "      <td>-0.018615</td>\n",
       "      <td>-0.012817</td>\n",
       "      <td>0.000000</td>\n",
       "      <td>-0.049169</td>\n",
       "      <td>...</td>\n",
       "      <td>-0.023666</td>\n",
       "      <td>-0.013509</td>\n",
       "      <td>-0.082188</td>\n",
       "      <td>0.002234</td>\n",
       "      <td>-0.009682</td>\n",
       "      <td>-0.022758</td>\n",
       "      <td>-0.009985</td>\n",
       "      <td>-0.016571</td>\n",
       "      <td>-0.019512</td>\n",
       "      <td>-0.004054</td>\n",
       "    </tr>\n",
       "  </tbody>\n",
       "</table>\n",
       "<p>14156 rows × 30 columns</p>\n",
       "</div>"
      ],
      "text/plain": [
       "Ticker           AAL       AAP      AAPL      AMZN       BAC       CCL  \\\n",
       "Date                                                                     \n",
       "1962-01-02       NaN       NaN       NaN       NaN       NaN       NaN   \n",
       "1962-01-03       NaN       NaN       NaN       NaN       NaN       NaN   \n",
       "1962-01-04       NaN       NaN       NaN       NaN       NaN       NaN   \n",
       "1962-01-05       NaN       NaN       NaN       NaN       NaN       NaN   \n",
       "1962-01-08       NaN       NaN       NaN       NaN       NaN       NaN   \n",
       "...              ...       ...       ...       ...       ...       ...   \n",
       "2018-03-21 -0.022234  0.008665 -0.022655 -0.002931 -0.003440 -0.011643   \n",
       "2018-03-22 -0.032908 -0.030632 -0.014159 -0.023871 -0.041418 -0.012824   \n",
       "2018-03-23 -0.024852 -0.007788 -0.023128 -0.031436 -0.045172 -0.027039   \n",
       "2018-03-26  0.016663  0.035457  0.047472  0.040319  0.043538  0.021580   \n",
       "2018-03-27 -0.018511  0.002091 -0.025641 -0.037799 -0.030223 -0.001064   \n",
       "\n",
       "Ticker            CI       DIS         F        FB  ...      ORCL       RCL  \\\n",
       "Date                                                ...                       \n",
       "1962-01-02       NaN       NaN       NaN       NaN  ...       NaN       NaN   \n",
       "1962-01-03       NaN  0.013423       NaN       NaN  ...       NaN       NaN   \n",
       "1962-01-04       NaN  0.000000       NaN       NaN  ...       NaN       NaN   \n",
       "1962-01-05       NaN  0.003444       NaN       NaN  ...       NaN       NaN   \n",
       "1962-01-08       NaN -0.003432       NaN       NaN  ...       NaN       NaN   \n",
       "...              ...       ...       ...       ...  ...       ...       ...   \n",
       "2018-03-21  0.012424  0.004637  0.010009  0.007374  ... -0.000638 -0.011933   \n",
       "2018-03-22 -0.010236 -0.011982 -0.031532 -0.026566  ... -0.024032 -0.025857   \n",
       "2018-03-23 -0.008105 -0.020477 -0.017674 -0.033356  ... -0.023970 -0.026127   \n",
       "2018-03-26  0.028537  0.021413  0.025568  0.004204  ...  0.037732  0.024607   \n",
       "2018-03-27 -0.018615 -0.012817  0.000000 -0.049169  ... -0.023666 -0.013509   \n",
       "\n",
       "Ticker          TSLA       TWX        UA       WFC        WM       WMT  \\\n",
       "Date                                                                     \n",
       "1962-01-02       NaN       NaN       NaN       NaN       NaN       NaN   \n",
       "1962-01-03       NaN       NaN       NaN       NaN       NaN       NaN   \n",
       "1962-01-04       NaN       NaN       NaN       NaN       NaN       NaN   \n",
       "1962-01-05       NaN       NaN       NaN       NaN       NaN       NaN   \n",
       "1962-01-08       NaN       NaN       NaN       NaN       NaN       NaN   \n",
       "...              ...       ...       ...       ...       ...       ...   \n",
       "2018-03-21  0.019256  0.001156  0.004283 -0.002004 -0.004057  0.002615   \n",
       "2018-03-22 -0.023473 -0.010809 -0.025586 -0.041248 -0.019553 -0.011794   \n",
       "2018-03-23 -0.024458 -0.017929  0.000729 -0.029507 -0.015907 -0.019738   \n",
       "2018-03-26  0.008755  0.015340  0.053936  0.025696  0.014837  0.024350   \n",
       "2018-03-27 -0.082188  0.002234 -0.009682 -0.022758 -0.009985 -0.016571   \n",
       "\n",
       "Ticker           WWE       XOM  \n",
       "Date                            \n",
       "1962-01-02       NaN       NaN  \n",
       "1962-01-03       NaN       NaN  \n",
       "1962-01-04       NaN       NaN  \n",
       "1962-01-05       NaN       NaN  \n",
       "1962-01-08       NaN       NaN  \n",
       "...              ...       ...  \n",
       "2018-03-21 -0.005207  0.014191  \n",
       "2018-03-22 -0.011019 -0.020522  \n",
       "2018-03-23 -0.002228 -0.008299  \n",
       "2018-03-26  0.030151  0.015228  \n",
       "2018-03-27 -0.019512 -0.004054  \n",
       "\n",
       "[14156 rows x 30 columns]"
      ]
     },
     "execution_count": 64,
     "metadata": {},
     "output_type": "execute_result"
    }
   ],
   "source": [
    "concat_pivot(df).pct_change()"
   ]
  },
  {
   "cell_type": "code",
   "execution_count": 63,
   "metadata": {
    "hidden": true
   },
   "outputs": [],
   "source": [
    "def compute_pct_change(df):\n",
    "    return df.pct_change()"
   ]
  },
  {
   "cell_type": "code",
   "execution_count": null,
   "metadata": {
    "hidden": true
   },
   "outputs": [],
   "source": [
    "df=acquisition()\n",
    "df=concat_pivot(df)\n",
    "df=compute_pct_change(df)"
   ]
  },
  {
   "cell_type": "code",
   "execution_count": 65,
   "metadata": {
    "hidden": true
   },
   "outputs": [
    {
     "name": "stdout",
     "output_type": "stream",
     "text": [
      "Retrieved 30 tickers\n",
      "retrieving data for AAPL\n",
      "retrieving data for NFLX\n",
      "retrieving data for AMZN\n",
      "retrieving data for MSFT\n",
      "retrieving data for GOOG\n",
      "retrieving data for TSLA\n",
      "retrieving data for FB\n",
      "retrieving data for AAP\n",
      "retrieving data for DIS\n",
      "retrieving data for NKE\n",
      "retrieving data for UA\n",
      "retrieving data for BAC\n",
      "retrieving data for CCL\n",
      "retrieving data for CI\n",
      "retrieving data for AAL\n",
      "retrieving data for LUV\n",
      "retrieving data for WFC\n",
      "retrieving data for WMT\n",
      "retrieving data for HD\n",
      "retrieving data for ORCL\n",
      "retrieving data for IBM\n",
      "retrieving data for NCLH\n",
      "retrieving data for RCL\n",
      "retrieving data for TWX\n",
      "retrieving data for FOX\n",
      "retrieving data for F\n",
      "retrieving data for GCI\n",
      "retrieving data for XOM\n",
      "retrieving data for WWE\n",
      "retrieving data for WM\n"
     ]
    },
    {
     "data": {
      "text/html": [
       "<div>\n",
       "<style scoped>\n",
       "    .dataframe tbody tr th:only-of-type {\n",
       "        vertical-align: middle;\n",
       "    }\n",
       "\n",
       "    .dataframe tbody tr th {\n",
       "        vertical-align: top;\n",
       "    }\n",
       "\n",
       "    .dataframe thead th {\n",
       "        text-align: right;\n",
       "    }\n",
       "</style>\n",
       "<table border=\"1\" class=\"dataframe\">\n",
       "  <thead>\n",
       "    <tr style=\"text-align: right;\">\n",
       "      <th>Ticker</th>\n",
       "      <th>AAL</th>\n",
       "      <th>AAP</th>\n",
       "      <th>AAPL</th>\n",
       "      <th>AMZN</th>\n",
       "      <th>BAC</th>\n",
       "      <th>CCL</th>\n",
       "      <th>CI</th>\n",
       "      <th>DIS</th>\n",
       "      <th>F</th>\n",
       "      <th>FB</th>\n",
       "      <th>...</th>\n",
       "      <th>ORCL</th>\n",
       "      <th>RCL</th>\n",
       "      <th>TSLA</th>\n",
       "      <th>TWX</th>\n",
       "      <th>UA</th>\n",
       "      <th>WFC</th>\n",
       "      <th>WM</th>\n",
       "      <th>WMT</th>\n",
       "      <th>WWE</th>\n",
       "      <th>XOM</th>\n",
       "    </tr>\n",
       "    <tr>\n",
       "      <th>Date</th>\n",
       "      <th></th>\n",
       "      <th></th>\n",
       "      <th></th>\n",
       "      <th></th>\n",
       "      <th></th>\n",
       "      <th></th>\n",
       "      <th></th>\n",
       "      <th></th>\n",
       "      <th></th>\n",
       "      <th></th>\n",
       "      <th></th>\n",
       "      <th></th>\n",
       "      <th></th>\n",
       "      <th></th>\n",
       "      <th></th>\n",
       "      <th></th>\n",
       "      <th></th>\n",
       "      <th></th>\n",
       "      <th></th>\n",
       "      <th></th>\n",
       "      <th></th>\n",
       "    </tr>\n",
       "  </thead>\n",
       "  <tbody>\n",
       "    <tr>\n",
       "      <th>1962-01-02</th>\n",
       "      <td>NaN</td>\n",
       "      <td>NaN</td>\n",
       "      <td>NaN</td>\n",
       "      <td>NaN</td>\n",
       "      <td>NaN</td>\n",
       "      <td>NaN</td>\n",
       "      <td>NaN</td>\n",
       "      <td>NaN</td>\n",
       "      <td>NaN</td>\n",
       "      <td>NaN</td>\n",
       "      <td>...</td>\n",
       "      <td>NaN</td>\n",
       "      <td>NaN</td>\n",
       "      <td>NaN</td>\n",
       "      <td>NaN</td>\n",
       "      <td>NaN</td>\n",
       "      <td>NaN</td>\n",
       "      <td>NaN</td>\n",
       "      <td>NaN</td>\n",
       "      <td>NaN</td>\n",
       "      <td>NaN</td>\n",
       "    </tr>\n",
       "    <tr>\n",
       "      <th>1962-01-03</th>\n",
       "      <td>NaN</td>\n",
       "      <td>NaN</td>\n",
       "      <td>NaN</td>\n",
       "      <td>NaN</td>\n",
       "      <td>NaN</td>\n",
       "      <td>NaN</td>\n",
       "      <td>NaN</td>\n",
       "      <td>0.013423</td>\n",
       "      <td>NaN</td>\n",
       "      <td>NaN</td>\n",
       "      <td>...</td>\n",
       "      <td>NaN</td>\n",
       "      <td>NaN</td>\n",
       "      <td>NaN</td>\n",
       "      <td>NaN</td>\n",
       "      <td>NaN</td>\n",
       "      <td>NaN</td>\n",
       "      <td>NaN</td>\n",
       "      <td>NaN</td>\n",
       "      <td>NaN</td>\n",
       "      <td>NaN</td>\n",
       "    </tr>\n",
       "    <tr>\n",
       "      <th>1962-01-04</th>\n",
       "      <td>NaN</td>\n",
       "      <td>NaN</td>\n",
       "      <td>NaN</td>\n",
       "      <td>NaN</td>\n",
       "      <td>NaN</td>\n",
       "      <td>NaN</td>\n",
       "      <td>NaN</td>\n",
       "      <td>0.000000</td>\n",
       "      <td>NaN</td>\n",
       "      <td>NaN</td>\n",
       "      <td>...</td>\n",
       "      <td>NaN</td>\n",
       "      <td>NaN</td>\n",
       "      <td>NaN</td>\n",
       "      <td>NaN</td>\n",
       "      <td>NaN</td>\n",
       "      <td>NaN</td>\n",
       "      <td>NaN</td>\n",
       "      <td>NaN</td>\n",
       "      <td>NaN</td>\n",
       "      <td>NaN</td>\n",
       "    </tr>\n",
       "    <tr>\n",
       "      <th>1962-01-05</th>\n",
       "      <td>NaN</td>\n",
       "      <td>NaN</td>\n",
       "      <td>NaN</td>\n",
       "      <td>NaN</td>\n",
       "      <td>NaN</td>\n",
       "      <td>NaN</td>\n",
       "      <td>NaN</td>\n",
       "      <td>0.003444</td>\n",
       "      <td>NaN</td>\n",
       "      <td>NaN</td>\n",
       "      <td>...</td>\n",
       "      <td>NaN</td>\n",
       "      <td>NaN</td>\n",
       "      <td>NaN</td>\n",
       "      <td>NaN</td>\n",
       "      <td>NaN</td>\n",
       "      <td>NaN</td>\n",
       "      <td>NaN</td>\n",
       "      <td>NaN</td>\n",
       "      <td>NaN</td>\n",
       "      <td>NaN</td>\n",
       "    </tr>\n",
       "    <tr>\n",
       "      <th>1962-01-08</th>\n",
       "      <td>NaN</td>\n",
       "      <td>NaN</td>\n",
       "      <td>NaN</td>\n",
       "      <td>NaN</td>\n",
       "      <td>NaN</td>\n",
       "      <td>NaN</td>\n",
       "      <td>NaN</td>\n",
       "      <td>-0.003432</td>\n",
       "      <td>NaN</td>\n",
       "      <td>NaN</td>\n",
       "      <td>...</td>\n",
       "      <td>NaN</td>\n",
       "      <td>NaN</td>\n",
       "      <td>NaN</td>\n",
       "      <td>NaN</td>\n",
       "      <td>NaN</td>\n",
       "      <td>NaN</td>\n",
       "      <td>NaN</td>\n",
       "      <td>NaN</td>\n",
       "      <td>NaN</td>\n",
       "      <td>NaN</td>\n",
       "    </tr>\n",
       "    <tr>\n",
       "      <th>...</th>\n",
       "      <td>...</td>\n",
       "      <td>...</td>\n",
       "      <td>...</td>\n",
       "      <td>...</td>\n",
       "      <td>...</td>\n",
       "      <td>...</td>\n",
       "      <td>...</td>\n",
       "      <td>...</td>\n",
       "      <td>...</td>\n",
       "      <td>...</td>\n",
       "      <td>...</td>\n",
       "      <td>...</td>\n",
       "      <td>...</td>\n",
       "      <td>...</td>\n",
       "      <td>...</td>\n",
       "      <td>...</td>\n",
       "      <td>...</td>\n",
       "      <td>...</td>\n",
       "      <td>...</td>\n",
       "      <td>...</td>\n",
       "      <td>...</td>\n",
       "    </tr>\n",
       "    <tr>\n",
       "      <th>2018-03-21</th>\n",
       "      <td>-0.022234</td>\n",
       "      <td>0.008665</td>\n",
       "      <td>-0.022655</td>\n",
       "      <td>-0.002931</td>\n",
       "      <td>-0.003440</td>\n",
       "      <td>-0.011643</td>\n",
       "      <td>0.012424</td>\n",
       "      <td>0.004637</td>\n",
       "      <td>0.010009</td>\n",
       "      <td>0.007374</td>\n",
       "      <td>...</td>\n",
       "      <td>-0.000638</td>\n",
       "      <td>-0.011933</td>\n",
       "      <td>0.019256</td>\n",
       "      <td>0.001156</td>\n",
       "      <td>0.004283</td>\n",
       "      <td>-0.002004</td>\n",
       "      <td>-0.004057</td>\n",
       "      <td>0.002615</td>\n",
       "      <td>-0.005207</td>\n",
       "      <td>0.014191</td>\n",
       "    </tr>\n",
       "    <tr>\n",
       "      <th>2018-03-22</th>\n",
       "      <td>-0.032908</td>\n",
       "      <td>-0.030632</td>\n",
       "      <td>-0.014159</td>\n",
       "      <td>-0.023871</td>\n",
       "      <td>-0.041418</td>\n",
       "      <td>-0.012824</td>\n",
       "      <td>-0.010236</td>\n",
       "      <td>-0.011982</td>\n",
       "      <td>-0.031532</td>\n",
       "      <td>-0.026566</td>\n",
       "      <td>...</td>\n",
       "      <td>-0.024032</td>\n",
       "      <td>-0.025857</td>\n",
       "      <td>-0.023473</td>\n",
       "      <td>-0.010809</td>\n",
       "      <td>-0.025586</td>\n",
       "      <td>-0.041248</td>\n",
       "      <td>-0.019553</td>\n",
       "      <td>-0.011794</td>\n",
       "      <td>-0.011019</td>\n",
       "      <td>-0.020522</td>\n",
       "    </tr>\n",
       "    <tr>\n",
       "      <th>2018-03-23</th>\n",
       "      <td>-0.024852</td>\n",
       "      <td>-0.007788</td>\n",
       "      <td>-0.023128</td>\n",
       "      <td>-0.031436</td>\n",
       "      <td>-0.045172</td>\n",
       "      <td>-0.027039</td>\n",
       "      <td>-0.008105</td>\n",
       "      <td>-0.020477</td>\n",
       "      <td>-0.017674</td>\n",
       "      <td>-0.033356</td>\n",
       "      <td>...</td>\n",
       "      <td>-0.023970</td>\n",
       "      <td>-0.026127</td>\n",
       "      <td>-0.024458</td>\n",
       "      <td>-0.017929</td>\n",
       "      <td>0.000729</td>\n",
       "      <td>-0.029507</td>\n",
       "      <td>-0.015907</td>\n",
       "      <td>-0.019738</td>\n",
       "      <td>-0.002228</td>\n",
       "      <td>-0.008299</td>\n",
       "    </tr>\n",
       "    <tr>\n",
       "      <th>2018-03-26</th>\n",
       "      <td>0.016663</td>\n",
       "      <td>0.035457</td>\n",
       "      <td>0.047472</td>\n",
       "      <td>0.040319</td>\n",
       "      <td>0.043538</td>\n",
       "      <td>0.021580</td>\n",
       "      <td>0.028537</td>\n",
       "      <td>0.021413</td>\n",
       "      <td>0.025568</td>\n",
       "      <td>0.004204</td>\n",
       "      <td>...</td>\n",
       "      <td>0.037732</td>\n",
       "      <td>0.024607</td>\n",
       "      <td>0.008755</td>\n",
       "      <td>0.015340</td>\n",
       "      <td>0.053936</td>\n",
       "      <td>0.025696</td>\n",
       "      <td>0.014837</td>\n",
       "      <td>0.024350</td>\n",
       "      <td>0.030151</td>\n",
       "      <td>0.015228</td>\n",
       "    </tr>\n",
       "    <tr>\n",
       "      <th>2018-03-27</th>\n",
       "      <td>-0.018511</td>\n",
       "      <td>0.002091</td>\n",
       "      <td>-0.025641</td>\n",
       "      <td>-0.037799</td>\n",
       "      <td>-0.030223</td>\n",
       "      <td>-0.001064</td>\n",
       "      <td>-0.018615</td>\n",
       "      <td>-0.012817</td>\n",
       "      <td>0.000000</td>\n",
       "      <td>-0.049169</td>\n",
       "      <td>...</td>\n",
       "      <td>-0.023666</td>\n",
       "      <td>-0.013509</td>\n",
       "      <td>-0.082188</td>\n",
       "      <td>0.002234</td>\n",
       "      <td>-0.009682</td>\n",
       "      <td>-0.022758</td>\n",
       "      <td>-0.009985</td>\n",
       "      <td>-0.016571</td>\n",
       "      <td>-0.019512</td>\n",
       "      <td>-0.004054</td>\n",
       "    </tr>\n",
       "  </tbody>\n",
       "</table>\n",
       "<p>14156 rows × 30 columns</p>\n",
       "</div>"
      ],
      "text/plain": [
       "Ticker           AAL       AAP      AAPL      AMZN       BAC       CCL  \\\n",
       "Date                                                                     \n",
       "1962-01-02       NaN       NaN       NaN       NaN       NaN       NaN   \n",
       "1962-01-03       NaN       NaN       NaN       NaN       NaN       NaN   \n",
       "1962-01-04       NaN       NaN       NaN       NaN       NaN       NaN   \n",
       "1962-01-05       NaN       NaN       NaN       NaN       NaN       NaN   \n",
       "1962-01-08       NaN       NaN       NaN       NaN       NaN       NaN   \n",
       "...              ...       ...       ...       ...       ...       ...   \n",
       "2018-03-21 -0.022234  0.008665 -0.022655 -0.002931 -0.003440 -0.011643   \n",
       "2018-03-22 -0.032908 -0.030632 -0.014159 -0.023871 -0.041418 -0.012824   \n",
       "2018-03-23 -0.024852 -0.007788 -0.023128 -0.031436 -0.045172 -0.027039   \n",
       "2018-03-26  0.016663  0.035457  0.047472  0.040319  0.043538  0.021580   \n",
       "2018-03-27 -0.018511  0.002091 -0.025641 -0.037799 -0.030223 -0.001064   \n",
       "\n",
       "Ticker            CI       DIS         F        FB  ...      ORCL       RCL  \\\n",
       "Date                                                ...                       \n",
       "1962-01-02       NaN       NaN       NaN       NaN  ...       NaN       NaN   \n",
       "1962-01-03       NaN  0.013423       NaN       NaN  ...       NaN       NaN   \n",
       "1962-01-04       NaN  0.000000       NaN       NaN  ...       NaN       NaN   \n",
       "1962-01-05       NaN  0.003444       NaN       NaN  ...       NaN       NaN   \n",
       "1962-01-08       NaN -0.003432       NaN       NaN  ...       NaN       NaN   \n",
       "...              ...       ...       ...       ...  ...       ...       ...   \n",
       "2018-03-21  0.012424  0.004637  0.010009  0.007374  ... -0.000638 -0.011933   \n",
       "2018-03-22 -0.010236 -0.011982 -0.031532 -0.026566  ... -0.024032 -0.025857   \n",
       "2018-03-23 -0.008105 -0.020477 -0.017674 -0.033356  ... -0.023970 -0.026127   \n",
       "2018-03-26  0.028537  0.021413  0.025568  0.004204  ...  0.037732  0.024607   \n",
       "2018-03-27 -0.018615 -0.012817  0.000000 -0.049169  ... -0.023666 -0.013509   \n",
       "\n",
       "Ticker          TSLA       TWX        UA       WFC        WM       WMT  \\\n",
       "Date                                                                     \n",
       "1962-01-02       NaN       NaN       NaN       NaN       NaN       NaN   \n",
       "1962-01-03       NaN       NaN       NaN       NaN       NaN       NaN   \n",
       "1962-01-04       NaN       NaN       NaN       NaN       NaN       NaN   \n",
       "1962-01-05       NaN       NaN       NaN       NaN       NaN       NaN   \n",
       "1962-01-08       NaN       NaN       NaN       NaN       NaN       NaN   \n",
       "...              ...       ...       ...       ...       ...       ...   \n",
       "2018-03-21  0.019256  0.001156  0.004283 -0.002004 -0.004057  0.002615   \n",
       "2018-03-22 -0.023473 -0.010809 -0.025586 -0.041248 -0.019553 -0.011794   \n",
       "2018-03-23 -0.024458 -0.017929  0.000729 -0.029507 -0.015907 -0.019738   \n",
       "2018-03-26  0.008755  0.015340  0.053936  0.025696  0.014837  0.024350   \n",
       "2018-03-27 -0.082188  0.002234 -0.009682 -0.022758 -0.009985 -0.016571   \n",
       "\n",
       "Ticker           WWE       XOM  \n",
       "Date                            \n",
       "1962-01-02       NaN       NaN  \n",
       "1962-01-03       NaN       NaN  \n",
       "1962-01-04       NaN       NaN  \n",
       "1962-01-05       NaN       NaN  \n",
       "1962-01-08       NaN       NaN  \n",
       "...              ...       ...  \n",
       "2018-03-21 -0.005207  0.014191  \n",
       "2018-03-22 -0.011019 -0.020522  \n",
       "2018-03-23 -0.002228 -0.008299  \n",
       "2018-03-26  0.030151  0.015228  \n",
       "2018-03-27 -0.019512 -0.004054  \n",
       "\n",
       "[14156 rows x 30 columns]"
      ]
     },
     "execution_count": 65,
     "metadata": {},
     "output_type": "execute_result"
    }
   ],
   "source": [
    "acquisition().pipe(concat_pivot).pipe(compute_pct_change)"
   ]
  },
  {
   "cell_type": "code",
   "execution_count": 67,
   "metadata": {
    "hidden": true
   },
   "outputs": [
    {
     "name": "stdout",
     "output_type": "stream",
     "text": [
      "Retrieved 30 tickers\n",
      "retrieving data for AAPL\n",
      "retrieving data for NFLX\n",
      "retrieving data for AMZN\n",
      "retrieving data for MSFT\n",
      "retrieving data for GOOG\n",
      "retrieving data for TSLA\n",
      "retrieving data for FB\n",
      "retrieving data for AAP\n",
      "retrieving data for DIS\n",
      "retrieving data for NKE\n",
      "retrieving data for UA\n",
      "retrieving data for BAC\n",
      "retrieving data for CCL\n",
      "retrieving data for CI\n",
      "retrieving data for AAL\n",
      "retrieving data for LUV\n",
      "retrieving data for WFC\n",
      "retrieving data for WMT\n",
      "retrieving data for HD\n",
      "retrieving data for ORCL\n",
      "retrieving data for IBM\n",
      "retrieving data for NCLH\n",
      "retrieving data for RCL\n",
      "retrieving data for TWX\n",
      "retrieving data for FOX\n",
      "retrieving data for F\n",
      "retrieving data for GCI\n",
      "retrieving data for XOM\n",
      "retrieving data for WWE\n",
      "retrieving data for WM\n"
     ]
    },
    {
     "data": {
      "text/html": [
       "<div>\n",
       "<style scoped>\n",
       "    .dataframe tbody tr th:only-of-type {\n",
       "        vertical-align: middle;\n",
       "    }\n",
       "\n",
       "    .dataframe tbody tr th {\n",
       "        vertical-align: top;\n",
       "    }\n",
       "\n",
       "    .dataframe thead th {\n",
       "        text-align: right;\n",
       "    }\n",
       "</style>\n",
       "<table border=\"1\" class=\"dataframe\">\n",
       "  <thead>\n",
       "    <tr style=\"text-align: right;\">\n",
       "      <th>Date</th>\n",
       "      <th>1962-01-02</th>\n",
       "      <th>1962-01-03</th>\n",
       "      <th>1962-01-04</th>\n",
       "      <th>1962-01-05</th>\n",
       "      <th>1962-01-08</th>\n",
       "      <th>1962-01-09</th>\n",
       "      <th>1962-01-10</th>\n",
       "      <th>1962-01-11</th>\n",
       "      <th>1962-01-12</th>\n",
       "      <th>1962-01-15</th>\n",
       "      <th>...</th>\n",
       "      <th>2018-03-14</th>\n",
       "      <th>2018-03-15</th>\n",
       "      <th>2018-03-16</th>\n",
       "      <th>2018-03-19</th>\n",
       "      <th>2018-03-20</th>\n",
       "      <th>2018-03-21</th>\n",
       "      <th>2018-03-22</th>\n",
       "      <th>2018-03-23</th>\n",
       "      <th>2018-03-26</th>\n",
       "      <th>2018-03-27</th>\n",
       "    </tr>\n",
       "    <tr>\n",
       "      <th>Ticker</th>\n",
       "      <th></th>\n",
       "      <th></th>\n",
       "      <th></th>\n",
       "      <th></th>\n",
       "      <th></th>\n",
       "      <th></th>\n",
       "      <th></th>\n",
       "      <th></th>\n",
       "      <th></th>\n",
       "      <th></th>\n",
       "      <th></th>\n",
       "      <th></th>\n",
       "      <th></th>\n",
       "      <th></th>\n",
       "      <th></th>\n",
       "      <th></th>\n",
       "      <th></th>\n",
       "      <th></th>\n",
       "      <th></th>\n",
       "      <th></th>\n",
       "      <th></th>\n",
       "    </tr>\n",
       "  </thead>\n",
       "  <tbody>\n",
       "    <tr>\n",
       "      <th>AAL</th>\n",
       "      <td>NaN</td>\n",
       "      <td>NaN</td>\n",
       "      <td>NaN</td>\n",
       "      <td>NaN</td>\n",
       "      <td>NaN</td>\n",
       "      <td>NaN</td>\n",
       "      <td>NaN</td>\n",
       "      <td>NaN</td>\n",
       "      <td>NaN</td>\n",
       "      <td>NaN</td>\n",
       "      <td>...</td>\n",
       "      <td>NaN</td>\n",
       "      <td>NaN</td>\n",
       "      <td>NaN</td>\n",
       "      <td>NaN</td>\n",
       "      <td>NaN</td>\n",
       "      <td>NaN</td>\n",
       "      <td>NaN</td>\n",
       "      <td>NaN</td>\n",
       "      <td>NaN</td>\n",
       "      <td>NaN</td>\n",
       "    </tr>\n",
       "    <tr>\n",
       "      <th>AAP</th>\n",
       "      <td>NaN</td>\n",
       "      <td>NaN</td>\n",
       "      <td>NaN</td>\n",
       "      <td>NaN</td>\n",
       "      <td>NaN</td>\n",
       "      <td>NaN</td>\n",
       "      <td>NaN</td>\n",
       "      <td>NaN</td>\n",
       "      <td>NaN</td>\n",
       "      <td>NaN</td>\n",
       "      <td>...</td>\n",
       "      <td>1.117583</td>\n",
       "      <td>1.122530</td>\n",
       "      <td>1.105235</td>\n",
       "      <td>1.121384</td>\n",
       "      <td>1.065257</td>\n",
       "      <td>1.130523</td>\n",
       "      <td>1.135538</td>\n",
       "      <td>1.172907</td>\n",
       "      <td>1.213074</td>\n",
       "      <td>1.259528</td>\n",
       "    </tr>\n",
       "    <tr>\n",
       "      <th>AAPL</th>\n",
       "      <td>NaN</td>\n",
       "      <td>NaN</td>\n",
       "      <td>NaN</td>\n",
       "      <td>NaN</td>\n",
       "      <td>NaN</td>\n",
       "      <td>NaN</td>\n",
       "      <td>NaN</td>\n",
       "      <td>NaN</td>\n",
       "      <td>NaN</td>\n",
       "      <td>NaN</td>\n",
       "      <td>...</td>\n",
       "      <td>0.524346</td>\n",
       "      <td>0.525619</td>\n",
       "      <td>0.526365</td>\n",
       "      <td>0.512902</td>\n",
       "      <td>0.533829</td>\n",
       "      <td>0.486203</td>\n",
       "      <td>0.511458</td>\n",
       "      <td>0.488091</td>\n",
       "      <td>0.505359</td>\n",
       "      <td>0.463699</td>\n",
       "    </tr>\n",
       "    <tr>\n",
       "      <th>AMZN</th>\n",
       "      <td>NaN</td>\n",
       "      <td>NaN</td>\n",
       "      <td>NaN</td>\n",
       "      <td>NaN</td>\n",
       "      <td>NaN</td>\n",
       "      <td>NaN</td>\n",
       "      <td>NaN</td>\n",
       "      <td>NaN</td>\n",
       "      <td>NaN</td>\n",
       "      <td>NaN</td>\n",
       "      <td>...</td>\n",
       "      <td>7.916162</td>\n",
       "      <td>7.857095</td>\n",
       "      <td>7.828671</td>\n",
       "      <td>7.813063</td>\n",
       "      <td>8.053355</td>\n",
       "      <td>8.236060</td>\n",
       "      <td>8.145074</td>\n",
       "      <td>8.067297</td>\n",
       "      <td>8.005383</td>\n",
       "      <td>7.893014</td>\n",
       "    </tr>\n",
       "    <tr>\n",
       "      <th>BAC</th>\n",
       "      <td>NaN</td>\n",
       "      <td>NaN</td>\n",
       "      <td>NaN</td>\n",
       "      <td>NaN</td>\n",
       "      <td>NaN</td>\n",
       "      <td>NaN</td>\n",
       "      <td>NaN</td>\n",
       "      <td>NaN</td>\n",
       "      <td>NaN</td>\n",
       "      <td>NaN</td>\n",
       "      <td>...</td>\n",
       "      <td>-0.979799</td>\n",
       "      <td>-0.979713</td>\n",
       "      <td>-0.979531</td>\n",
       "      <td>-0.979300</td>\n",
       "      <td>-0.979843</td>\n",
       "      <td>-0.979853</td>\n",
       "      <td>-0.980215</td>\n",
       "      <td>-0.980496</td>\n",
       "      <td>-0.980435</td>\n",
       "      <td>-0.980281</td>\n",
       "    </tr>\n",
       "    <tr>\n",
       "      <th>CCL</th>\n",
       "      <td>NaN</td>\n",
       "      <td>NaN</td>\n",
       "      <td>NaN</td>\n",
       "      <td>NaN</td>\n",
       "      <td>NaN</td>\n",
       "      <td>NaN</td>\n",
       "      <td>NaN</td>\n",
       "      <td>NaN</td>\n",
       "      <td>NaN</td>\n",
       "      <td>NaN</td>\n",
       "      <td>...</td>\n",
       "      <td>1.083385</td>\n",
       "      <td>1.078816</td>\n",
       "      <td>1.079888</td>\n",
       "      <td>1.114759</td>\n",
       "      <td>1.121639</td>\n",
       "      <td>1.104173</td>\n",
       "      <td>1.166939</td>\n",
       "      <td>1.208091</td>\n",
       "      <td>1.161629</td>\n",
       "      <td>1.226626</td>\n",
       "    </tr>\n",
       "    <tr>\n",
       "      <th>CI</th>\n",
       "      <td>NaN</td>\n",
       "      <td>NaN</td>\n",
       "      <td>NaN</td>\n",
       "      <td>NaN</td>\n",
       "      <td>NaN</td>\n",
       "      <td>NaN</td>\n",
       "      <td>NaN</td>\n",
       "      <td>NaN</td>\n",
       "      <td>NaN</td>\n",
       "      <td>NaN</td>\n",
       "      <td>...</td>\n",
       "      <td>1.492234</td>\n",
       "      <td>1.501124</td>\n",
       "      <td>1.520849</td>\n",
       "      <td>1.461038</td>\n",
       "      <td>1.431835</td>\n",
       "      <td>1.491053</td>\n",
       "      <td>1.497583</td>\n",
       "      <td>1.546188</td>\n",
       "      <td>1.563526</td>\n",
       "      <td>1.518485</td>\n",
       "    </tr>\n",
       "    <tr>\n",
       "      <th>DIS</th>\n",
       "      <td>NaN</td>\n",
       "      <td>NaN</td>\n",
       "      <td>NaN</td>\n",
       "      <td>NaN</td>\n",
       "      <td>NaN</td>\n",
       "      <td>NaN</td>\n",
       "      <td>NaN</td>\n",
       "      <td>NaN</td>\n",
       "      <td>NaN</td>\n",
       "      <td>NaN</td>\n",
       "      <td>...</td>\n",
       "      <td>-0.377397</td>\n",
       "      <td>-0.381426</td>\n",
       "      <td>-0.390111</td>\n",
       "      <td>-0.390291</td>\n",
       "      <td>-0.385758</td>\n",
       "      <td>-0.390482</td>\n",
       "      <td>-0.391557</td>\n",
       "      <td>-0.399146</td>\n",
       "      <td>-0.403308</td>\n",
       "      <td>-0.399783</td>\n",
       "    </tr>\n",
       "    <tr>\n",
       "      <th>F</th>\n",
       "      <td>0.000000</td>\n",
       "      <td>0.000000</td>\n",
       "      <td>0.000000</td>\n",
       "      <td>0.000000</td>\n",
       "      <td>0.00000</td>\n",
       "      <td>0.000000</td>\n",
       "      <td>0.000000</td>\n",
       "      <td>0.000000</td>\n",
       "      <td>0.000000</td>\n",
       "      <td>0.000000</td>\n",
       "      <td>...</td>\n",
       "      <td>-0.893936</td>\n",
       "      <td>-0.892774</td>\n",
       "      <td>-0.891611</td>\n",
       "      <td>-0.891506</td>\n",
       "      <td>-0.891564</td>\n",
       "      <td>-0.890984</td>\n",
       "      <td>-0.893141</td>\n",
       "      <td>-0.892835</td>\n",
       "      <td>-0.892399</td>\n",
       "      <td>-0.891002</td>\n",
       "    </tr>\n",
       "    <tr>\n",
       "      <th>FB</th>\n",
       "      <td>0.000000</td>\n",
       "      <td>0.000000</td>\n",
       "      <td>0.000000</td>\n",
       "      <td>0.000000</td>\n",
       "      <td>0.00000</td>\n",
       "      <td>0.000000</td>\n",
       "      <td>0.000000</td>\n",
       "      <td>0.000000</td>\n",
       "      <td>0.000000</td>\n",
       "      <td>0.000000</td>\n",
       "      <td>...</td>\n",
       "      <td>15.714156</td>\n",
       "      <td>15.608853</td>\n",
       "      <td>15.600000</td>\n",
       "      <td>14.673025</td>\n",
       "      <td>14.300273</td>\n",
       "      <td>14.260360</td>\n",
       "      <td>14.338605</td>\n",
       "      <td>14.093750</td>\n",
       "      <td>13.779317</td>\n",
       "      <td>13.052632</td>\n",
       "    </tr>\n",
       "    <tr>\n",
       "      <th>FOX</th>\n",
       "      <td>0.000000</td>\n",
       "      <td>0.000000</td>\n",
       "      <td>0.000000</td>\n",
       "      <td>0.000000</td>\n",
       "      <td>0.00000</td>\n",
       "      <td>0.000000</td>\n",
       "      <td>0.000000</td>\n",
       "      <td>0.000000</td>\n",
       "      <td>0.000000</td>\n",
       "      <td>0.000000</td>\n",
       "      <td>...</td>\n",
       "      <td>-0.797872</td>\n",
       "      <td>-0.800392</td>\n",
       "      <td>-0.802150</td>\n",
       "      <td>-0.789928</td>\n",
       "      <td>-0.784835</td>\n",
       "      <td>-0.785702</td>\n",
       "      <td>-0.780581</td>\n",
       "      <td>-0.777590</td>\n",
       "      <td>-0.771461</td>\n",
       "      <td>-0.762928</td>\n",
       "    </tr>\n",
       "    <tr>\n",
       "      <th>GCI</th>\n",
       "      <td>0.000000</td>\n",
       "      <td>0.000000</td>\n",
       "      <td>0.000000</td>\n",
       "      <td>0.000000</td>\n",
       "      <td>0.00000</td>\n",
       "      <td>0.000000</td>\n",
       "      <td>0.000000</td>\n",
       "      <td>0.000000</td>\n",
       "      <td>0.000000</td>\n",
       "      <td>0.000000</td>\n",
       "      <td>...</td>\n",
       "      <td>0.000000</td>\n",
       "      <td>0.000000</td>\n",
       "      <td>0.000000</td>\n",
       "      <td>0.000000</td>\n",
       "      <td>0.000000</td>\n",
       "      <td>0.000000</td>\n",
       "      <td>0.000000</td>\n",
       "      <td>0.000000</td>\n",
       "      <td>0.000000</td>\n",
       "      <td>0.000000</td>\n",
       "    </tr>\n",
       "    <tr>\n",
       "      <th>GOOG</th>\n",
       "      <td>0.000000</td>\n",
       "      <td>0.000000</td>\n",
       "      <td>0.000000</td>\n",
       "      <td>0.000000</td>\n",
       "      <td>0.00000</td>\n",
       "      <td>0.000000</td>\n",
       "      <td>0.000000</td>\n",
       "      <td>0.000000</td>\n",
       "      <td>0.000000</td>\n",
       "      <td>0.000000</td>\n",
       "      <td>...</td>\n",
       "      <td>29.875369</td>\n",
       "      <td>30.323706</td>\n",
       "      <td>30.013927</td>\n",
       "      <td>29.339862</td>\n",
       "      <td>29.340243</td>\n",
       "      <td>29.051791</td>\n",
       "      <td>27.996130</td>\n",
       "      <td>27.817207</td>\n",
       "      <td>27.791963</td>\n",
       "      <td>26.857539</td>\n",
       "    </tr>\n",
       "    <tr>\n",
       "      <th>HD</th>\n",
       "      <td>0.000000</td>\n",
       "      <td>0.000000</td>\n",
       "      <td>0.000000</td>\n",
       "      <td>0.000000</td>\n",
       "      <td>0.00000</td>\n",
       "      <td>0.000000</td>\n",
       "      <td>0.000000</td>\n",
       "      <td>0.000000</td>\n",
       "      <td>0.000000</td>\n",
       "      <td>0.000000</td>\n",
       "      <td>...</td>\n",
       "      <td>-0.845662</td>\n",
       "      <td>-0.845100</td>\n",
       "      <td>-0.842427</td>\n",
       "      <td>-0.838974</td>\n",
       "      <td>-0.837698</td>\n",
       "      <td>-0.836811</td>\n",
       "      <td>-0.832911</td>\n",
       "      <td>-0.831827</td>\n",
       "      <td>-0.832531</td>\n",
       "      <td>-0.826206</td>\n",
       "    </tr>\n",
       "    <tr>\n",
       "      <th>IBM</th>\n",
       "      <td>105.890866</td>\n",
       "      <td>105.397078</td>\n",
       "      <td>104.336795</td>\n",
       "      <td>101.907944</td>\n",
       "      <td>100.32616</td>\n",
       "      <td>99.527506</td>\n",
       "      <td>98.749677</td>\n",
       "      <td>96.975897</td>\n",
       "      <td>100.316048</td>\n",
       "      <td>100.765144</td>\n",
       "      <td>...</td>\n",
       "      <td>-0.108731</td>\n",
       "      <td>-0.103667</td>\n",
       "      <td>-0.104493</td>\n",
       "      <td>-0.111519</td>\n",
       "      <td>-0.123260</td>\n",
       "      <td>-0.119818</td>\n",
       "      <td>-0.132352</td>\n",
       "      <td>-0.133353</td>\n",
       "      <td>-0.130457</td>\n",
       "      <td>-0.130353</td>\n",
       "    </tr>\n",
       "    <tr>\n",
       "      <th>LUV</th>\n",
       "      <td>0.000000</td>\n",
       "      <td>0.000000</td>\n",
       "      <td>0.000000</td>\n",
       "      <td>0.000000</td>\n",
       "      <td>0.00000</td>\n",
       "      <td>0.000000</td>\n",
       "      <td>0.000000</td>\n",
       "      <td>0.000000</td>\n",
       "      <td>0.000000</td>\n",
       "      <td>0.000000</td>\n",
       "      <td>...</td>\n",
       "      <td>-0.622945</td>\n",
       "      <td>-0.624460</td>\n",
       "      <td>-0.619993</td>\n",
       "      <td>-0.614871</td>\n",
       "      <td>-0.611460</td>\n",
       "      <td>-0.631246</td>\n",
       "      <td>-0.625222</td>\n",
       "      <td>-0.619048</td>\n",
       "      <td>-0.624503</td>\n",
       "      <td>-0.626819</td>\n",
       "    </tr>\n",
       "    <tr>\n",
       "      <th>MSFT</th>\n",
       "      <td>0.000000</td>\n",
       "      <td>0.000000</td>\n",
       "      <td>0.000000</td>\n",
       "      <td>0.000000</td>\n",
       "      <td>0.00000</td>\n",
       "      <td>0.000000</td>\n",
       "      <td>0.000000</td>\n",
       "      <td>0.000000</td>\n",
       "      <td>0.000000</td>\n",
       "      <td>0.000000</td>\n",
       "      <td>...</td>\n",
       "      <td>0.574136</td>\n",
       "      <td>0.571238</td>\n",
       "      <td>0.553366</td>\n",
       "      <td>0.532838</td>\n",
       "      <td>0.534520</td>\n",
       "      <td>0.600554</td>\n",
       "      <td>0.575263</td>\n",
       "      <td>0.537024</td>\n",
       "      <td>0.628408</td>\n",
       "      <td>0.578232</td>\n",
       "    </tr>\n",
       "    <tr>\n",
       "      <th>NCLH</th>\n",
       "      <td>0.000000</td>\n",
       "      <td>0.000000</td>\n",
       "      <td>0.000000</td>\n",
       "      <td>0.000000</td>\n",
       "      <td>0.00000</td>\n",
       "      <td>0.000000</td>\n",
       "      <td>0.000000</td>\n",
       "      <td>0.000000</td>\n",
       "      <td>0.000000</td>\n",
       "      <td>0.000000</td>\n",
       "      <td>...</td>\n",
       "      <td>-0.403836</td>\n",
       "      <td>-0.412402</td>\n",
       "      <td>-0.406765</td>\n",
       "      <td>-0.403380</td>\n",
       "      <td>-0.401697</td>\n",
       "      <td>-0.414252</td>\n",
       "      <td>-0.412964</td>\n",
       "      <td>-0.410415</td>\n",
       "      <td>-0.440819</td>\n",
       "      <td>-0.409076</td>\n",
       "    </tr>\n",
       "    <tr>\n",
       "      <th>NFLX</th>\n",
       "      <td>0.000000</td>\n",
       "      <td>0.000000</td>\n",
       "      <td>0.000000</td>\n",
       "      <td>0.000000</td>\n",
       "      <td>0.00000</td>\n",
       "      <td>0.000000</td>\n",
       "      <td>0.000000</td>\n",
       "      <td>0.000000</td>\n",
       "      <td>0.000000</td>\n",
       "      <td>0.000000</td>\n",
       "      <td>...</td>\n",
       "      <td>4.747096</td>\n",
       "      <td>4.802132</td>\n",
       "      <td>4.674448</td>\n",
       "      <td>4.656442</td>\n",
       "      <td>4.698134</td>\n",
       "      <td>4.842348</td>\n",
       "      <td>4.818630</td>\n",
       "      <td>4.854864</td>\n",
       "      <td>5.108886</td>\n",
       "      <td>4.687346</td>\n",
       "    </tr>\n",
       "    <tr>\n",
       "      <th>NKE</th>\n",
       "      <td>0.000000</td>\n",
       "      <td>0.000000</td>\n",
       "      <td>0.000000</td>\n",
       "      <td>0.000000</td>\n",
       "      <td>0.00000</td>\n",
       "      <td>0.000000</td>\n",
       "      <td>0.000000</td>\n",
       "      <td>0.000000</td>\n",
       "      <td>0.000000</td>\n",
       "      <td>0.000000</td>\n",
       "      <td>...</td>\n",
       "      <td>-0.794122</td>\n",
       "      <td>-0.793236</td>\n",
       "      <td>-0.793029</td>\n",
       "      <td>-0.790385</td>\n",
       "      <td>-0.789606</td>\n",
       "      <td>-0.790350</td>\n",
       "      <td>-0.789958</td>\n",
       "      <td>-0.785240</td>\n",
       "      <td>-0.794287</td>\n",
       "      <td>-0.779939</td>\n",
       "    </tr>\n",
       "    <tr>\n",
       "      <th>ORCL</th>\n",
       "      <td>0.000000</td>\n",
       "      <td>0.000000</td>\n",
       "      <td>0.000000</td>\n",
       "      <td>0.000000</td>\n",
       "      <td>0.00000</td>\n",
       "      <td>0.000000</td>\n",
       "      <td>0.000000</td>\n",
       "      <td>0.000000</td>\n",
       "      <td>0.000000</td>\n",
       "      <td>0.000000</td>\n",
       "      <td>...</td>\n",
       "      <td>-0.209668</td>\n",
       "      <td>-0.211176</td>\n",
       "      <td>-0.206949</td>\n",
       "      <td>-0.209405</td>\n",
       "      <td>-0.295659</td>\n",
       "      <td>-0.291334</td>\n",
       "      <td>-0.287644</td>\n",
       "      <td>-0.306978</td>\n",
       "      <td>-0.294689</td>\n",
       "      <td>-0.314191</td>\n",
       "    </tr>\n",
       "    <tr>\n",
       "      <th>RCL</th>\n",
       "      <td>0.000000</td>\n",
       "      <td>0.000000</td>\n",
       "      <td>0.000000</td>\n",
       "      <td>0.000000</td>\n",
       "      <td>0.00000</td>\n",
       "      <td>0.000000</td>\n",
       "      <td>0.000000</td>\n",
       "      <td>0.000000</td>\n",
       "      <td>0.000000</td>\n",
       "      <td>0.000000</td>\n",
       "      <td>...</td>\n",
       "      <td>1.401185</td>\n",
       "      <td>1.380179</td>\n",
       "      <td>1.386646</td>\n",
       "      <td>1.394995</td>\n",
       "      <td>1.653773</td>\n",
       "      <td>1.623777</td>\n",
       "      <td>1.618871</td>\n",
       "      <td>1.613083</td>\n",
       "      <td>1.580034</td>\n",
       "      <td>1.606875</td>\n",
       "    </tr>\n",
       "    <tr>\n",
       "      <th>TSLA</th>\n",
       "      <td>0.000000</td>\n",
       "      <td>0.000000</td>\n",
       "      <td>0.000000</td>\n",
       "      <td>0.000000</td>\n",
       "      <td>0.00000</td>\n",
       "      <td>0.000000</td>\n",
       "      <td>0.000000</td>\n",
       "      <td>0.000000</td>\n",
       "      <td>0.000000</td>\n",
       "      <td>0.000000</td>\n",
       "      <td>...</td>\n",
       "      <td>1.599936</td>\n",
       "      <td>1.612114</td>\n",
       "      <td>1.575952</td>\n",
       "      <td>1.520174</td>\n",
       "      <td>1.487186</td>\n",
       "      <td>1.565697</td>\n",
       "      <td>1.571975</td>\n",
       "      <td>1.576384</td>\n",
       "      <td>1.536524</td>\n",
       "      <td>1.359932</td>\n",
       "    </tr>\n",
       "    <tr>\n",
       "      <th>TWX</th>\n",
       "      <td>0.000000</td>\n",
       "      <td>0.000000</td>\n",
       "      <td>0.000000</td>\n",
       "      <td>0.000000</td>\n",
       "      <td>0.00000</td>\n",
       "      <td>0.000000</td>\n",
       "      <td>0.000000</td>\n",
       "      <td>0.000000</td>\n",
       "      <td>0.000000</td>\n",
       "      <td>0.000000</td>\n",
       "      <td>...</td>\n",
       "      <td>-0.704865</td>\n",
       "      <td>-0.702457</td>\n",
       "      <td>-0.700389</td>\n",
       "      <td>-0.696868</td>\n",
       "      <td>-0.693512</td>\n",
       "      <td>-0.698954</td>\n",
       "      <td>-0.695050</td>\n",
       "      <td>-0.693009</td>\n",
       "      <td>-0.691005</td>\n",
       "      <td>-0.662583</td>\n",
       "    </tr>\n",
       "    <tr>\n",
       "      <th>UA</th>\n",
       "      <td>0.000000</td>\n",
       "      <td>0.000000</td>\n",
       "      <td>0.000000</td>\n",
       "      <td>0.000000</td>\n",
       "      <td>0.00000</td>\n",
       "      <td>0.000000</td>\n",
       "      <td>0.000000</td>\n",
       "      <td>0.000000</td>\n",
       "      <td>0.000000</td>\n",
       "      <td>0.000000</td>\n",
       "      <td>...</td>\n",
       "      <td>-0.854564</td>\n",
       "      <td>-0.857246</td>\n",
       "      <td>-0.853760</td>\n",
       "      <td>-0.851973</td>\n",
       "      <td>-0.852805</td>\n",
       "      <td>-0.852345</td>\n",
       "      <td>-0.854551</td>\n",
       "      <td>-0.851788</td>\n",
       "      <td>-0.846154</td>\n",
       "      <td>-0.847983</td>\n",
       "    </tr>\n",
       "    <tr>\n",
       "      <th>WFC</th>\n",
       "      <td>0.000000</td>\n",
       "      <td>0.000000</td>\n",
       "      <td>0.000000</td>\n",
       "      <td>0.000000</td>\n",
       "      <td>0.00000</td>\n",
       "      <td>0.000000</td>\n",
       "      <td>0.000000</td>\n",
       "      <td>0.000000</td>\n",
       "      <td>0.000000</td>\n",
       "      <td>0.000000</td>\n",
       "      <td>...</td>\n",
       "      <td>3.039230</td>\n",
       "      <td>3.109183</td>\n",
       "      <td>2.970170</td>\n",
       "      <td>2.943141</td>\n",
       "      <td>2.918630</td>\n",
       "      <td>2.894101</td>\n",
       "      <td>2.831510</td>\n",
       "      <td>2.715743</td>\n",
       "      <td>2.616183</td>\n",
       "      <td>2.568436</td>\n",
       "    </tr>\n",
       "    <tr>\n",
       "      <th>WM</th>\n",
       "      <td>0.000000</td>\n",
       "      <td>0.000000</td>\n",
       "      <td>0.000000</td>\n",
       "      <td>0.000000</td>\n",
       "      <td>0.00000</td>\n",
       "      <td>0.000000</td>\n",
       "      <td>0.000000</td>\n",
       "      <td>0.000000</td>\n",
       "      <td>0.000000</td>\n",
       "      <td>0.000000</td>\n",
       "      <td>...</td>\n",
       "      <td>0.525870</td>\n",
       "      <td>0.517684</td>\n",
       "      <td>0.545438</td>\n",
       "      <td>0.546503</td>\n",
       "      <td>0.571403</td>\n",
       "      <td>0.568169</td>\n",
       "      <td>0.603655</td>\n",
       "      <td>0.626128</td>\n",
       "      <td>0.608912</td>\n",
       "      <td>0.629941</td>\n",
       "    </tr>\n",
       "    <tr>\n",
       "      <th>WMT</th>\n",
       "      <td>0.000000</td>\n",
       "      <td>0.000000</td>\n",
       "      <td>0.000000</td>\n",
       "      <td>0.000000</td>\n",
       "      <td>0.00000</td>\n",
       "      <td>0.000000</td>\n",
       "      <td>0.000000</td>\n",
       "      <td>0.000000</td>\n",
       "      <td>0.000000</td>\n",
       "      <td>0.000000</td>\n",
       "      <td>...</td>\n",
       "      <td>0.014582</td>\n",
       "      <td>0.014609</td>\n",
       "      <td>0.032180</td>\n",
       "      <td>0.019231</td>\n",
       "      <td>0.019474</td>\n",
       "      <td>0.026304</td>\n",
       "      <td>0.034425</td>\n",
       "      <td>0.030398</td>\n",
       "      <td>0.040057</td>\n",
       "      <td>0.033137</td>\n",
       "    </tr>\n",
       "    <tr>\n",
       "      <th>WWE</th>\n",
       "      <td>0.000000</td>\n",
       "      <td>0.000000</td>\n",
       "      <td>0.000000</td>\n",
       "      <td>0.000000</td>\n",
       "      <td>0.00000</td>\n",
       "      <td>0.000000</td>\n",
       "      <td>0.000000</td>\n",
       "      <td>0.000000</td>\n",
       "      <td>0.000000</td>\n",
       "      <td>0.000000</td>\n",
       "      <td>...</td>\n",
       "      <td>-0.574085</td>\n",
       "      <td>-0.576048</td>\n",
       "      <td>-0.585287</td>\n",
       "      <td>-0.582847</td>\n",
       "      <td>-0.585105</td>\n",
       "      <td>-0.588342</td>\n",
       "      <td>-0.588019</td>\n",
       "      <td>-0.580660</td>\n",
       "      <td>-0.578286</td>\n",
       "      <td>-0.579547</td>\n",
       "    </tr>\n",
       "    <tr>\n",
       "      <th>XOM</th>\n",
       "      <td>0.000000</td>\n",
       "      <td>0.000000</td>\n",
       "      <td>0.000000</td>\n",
       "      <td>0.000000</td>\n",
       "      <td>0.00000</td>\n",
       "      <td>0.000000</td>\n",
       "      <td>0.000000</td>\n",
       "      <td>0.000000</td>\n",
       "      <td>0.000000</td>\n",
       "      <td>0.000000</td>\n",
       "      <td>...</td>\n",
       "      <td>0.971077</td>\n",
       "      <td>1.005930</td>\n",
       "      <td>1.031368</td>\n",
       "      <td>1.032621</td>\n",
       "      <td>1.027679</td>\n",
       "      <td>1.067218</td>\n",
       "      <td>1.047354</td>\n",
       "      <td>1.034897</td>\n",
       "      <td>1.005420</td>\n",
       "      <td>1.037037</td>\n",
       "    </tr>\n",
       "  </tbody>\n",
       "</table>\n",
       "<p>30 rows × 14156 columns</p>\n",
       "</div>"
      ],
      "text/plain": [
       "Date    1962-01-02  1962-01-03  1962-01-04  1962-01-05  1962-01-08  \\\n",
       "Ticker                                                               \n",
       "AAL            NaN         NaN         NaN         NaN         NaN   \n",
       "AAP            NaN         NaN         NaN         NaN         NaN   \n",
       "AAPL           NaN         NaN         NaN         NaN         NaN   \n",
       "AMZN           NaN         NaN         NaN         NaN         NaN   \n",
       "BAC            NaN         NaN         NaN         NaN         NaN   \n",
       "CCL            NaN         NaN         NaN         NaN         NaN   \n",
       "CI             NaN         NaN         NaN         NaN         NaN   \n",
       "DIS            NaN         NaN         NaN         NaN         NaN   \n",
       "F         0.000000    0.000000    0.000000    0.000000     0.00000   \n",
       "FB        0.000000    0.000000    0.000000    0.000000     0.00000   \n",
       "FOX       0.000000    0.000000    0.000000    0.000000     0.00000   \n",
       "GCI       0.000000    0.000000    0.000000    0.000000     0.00000   \n",
       "GOOG      0.000000    0.000000    0.000000    0.000000     0.00000   \n",
       "HD        0.000000    0.000000    0.000000    0.000000     0.00000   \n",
       "IBM     105.890866  105.397078  104.336795  101.907944   100.32616   \n",
       "LUV       0.000000    0.000000    0.000000    0.000000     0.00000   \n",
       "MSFT      0.000000    0.000000    0.000000    0.000000     0.00000   \n",
       "NCLH      0.000000    0.000000    0.000000    0.000000     0.00000   \n",
       "NFLX      0.000000    0.000000    0.000000    0.000000     0.00000   \n",
       "NKE       0.000000    0.000000    0.000000    0.000000     0.00000   \n",
       "ORCL      0.000000    0.000000    0.000000    0.000000     0.00000   \n",
       "RCL       0.000000    0.000000    0.000000    0.000000     0.00000   \n",
       "TSLA      0.000000    0.000000    0.000000    0.000000     0.00000   \n",
       "TWX       0.000000    0.000000    0.000000    0.000000     0.00000   \n",
       "UA        0.000000    0.000000    0.000000    0.000000     0.00000   \n",
       "WFC       0.000000    0.000000    0.000000    0.000000     0.00000   \n",
       "WM        0.000000    0.000000    0.000000    0.000000     0.00000   \n",
       "WMT       0.000000    0.000000    0.000000    0.000000     0.00000   \n",
       "WWE       0.000000    0.000000    0.000000    0.000000     0.00000   \n",
       "XOM       0.000000    0.000000    0.000000    0.000000     0.00000   \n",
       "\n",
       "Date    1962-01-09  1962-01-10  1962-01-11  1962-01-12  1962-01-15  ...  \\\n",
       "Ticker                                                              ...   \n",
       "AAL            NaN         NaN         NaN         NaN         NaN  ...   \n",
       "AAP            NaN         NaN         NaN         NaN         NaN  ...   \n",
       "AAPL           NaN         NaN         NaN         NaN         NaN  ...   \n",
       "AMZN           NaN         NaN         NaN         NaN         NaN  ...   \n",
       "BAC            NaN         NaN         NaN         NaN         NaN  ...   \n",
       "CCL            NaN         NaN         NaN         NaN         NaN  ...   \n",
       "CI             NaN         NaN         NaN         NaN         NaN  ...   \n",
       "DIS            NaN         NaN         NaN         NaN         NaN  ...   \n",
       "F         0.000000    0.000000    0.000000    0.000000    0.000000  ...   \n",
       "FB        0.000000    0.000000    0.000000    0.000000    0.000000  ...   \n",
       "FOX       0.000000    0.000000    0.000000    0.000000    0.000000  ...   \n",
       "GCI       0.000000    0.000000    0.000000    0.000000    0.000000  ...   \n",
       "GOOG      0.000000    0.000000    0.000000    0.000000    0.000000  ...   \n",
       "HD        0.000000    0.000000    0.000000    0.000000    0.000000  ...   \n",
       "IBM      99.527506   98.749677   96.975897  100.316048  100.765144  ...   \n",
       "LUV       0.000000    0.000000    0.000000    0.000000    0.000000  ...   \n",
       "MSFT      0.000000    0.000000    0.000000    0.000000    0.000000  ...   \n",
       "NCLH      0.000000    0.000000    0.000000    0.000000    0.000000  ...   \n",
       "NFLX      0.000000    0.000000    0.000000    0.000000    0.000000  ...   \n",
       "NKE       0.000000    0.000000    0.000000    0.000000    0.000000  ...   \n",
       "ORCL      0.000000    0.000000    0.000000    0.000000    0.000000  ...   \n",
       "RCL       0.000000    0.000000    0.000000    0.000000    0.000000  ...   \n",
       "TSLA      0.000000    0.000000    0.000000    0.000000    0.000000  ...   \n",
       "TWX       0.000000    0.000000    0.000000    0.000000    0.000000  ...   \n",
       "UA        0.000000    0.000000    0.000000    0.000000    0.000000  ...   \n",
       "WFC       0.000000    0.000000    0.000000    0.000000    0.000000  ...   \n",
       "WM        0.000000    0.000000    0.000000    0.000000    0.000000  ...   \n",
       "WMT       0.000000    0.000000    0.000000    0.000000    0.000000  ...   \n",
       "WWE       0.000000    0.000000    0.000000    0.000000    0.000000  ...   \n",
       "XOM       0.000000    0.000000    0.000000    0.000000    0.000000  ...   \n",
       "\n",
       "Date    2018-03-14  2018-03-15  2018-03-16  2018-03-19  2018-03-20  \\\n",
       "Ticker                                                               \n",
       "AAL            NaN         NaN         NaN         NaN         NaN   \n",
       "AAP       1.117583    1.122530    1.105235    1.121384    1.065257   \n",
       "AAPL      0.524346    0.525619    0.526365    0.512902    0.533829   \n",
       "AMZN      7.916162    7.857095    7.828671    7.813063    8.053355   \n",
       "BAC      -0.979799   -0.979713   -0.979531   -0.979300   -0.979843   \n",
       "CCL       1.083385    1.078816    1.079888    1.114759    1.121639   \n",
       "CI        1.492234    1.501124    1.520849    1.461038    1.431835   \n",
       "DIS      -0.377397   -0.381426   -0.390111   -0.390291   -0.385758   \n",
       "F        -0.893936   -0.892774   -0.891611   -0.891506   -0.891564   \n",
       "FB       15.714156   15.608853   15.600000   14.673025   14.300273   \n",
       "FOX      -0.797872   -0.800392   -0.802150   -0.789928   -0.784835   \n",
       "GCI       0.000000    0.000000    0.000000    0.000000    0.000000   \n",
       "GOOG     29.875369   30.323706   30.013927   29.339862   29.340243   \n",
       "HD       -0.845662   -0.845100   -0.842427   -0.838974   -0.837698   \n",
       "IBM      -0.108731   -0.103667   -0.104493   -0.111519   -0.123260   \n",
       "LUV      -0.622945   -0.624460   -0.619993   -0.614871   -0.611460   \n",
       "MSFT      0.574136    0.571238    0.553366    0.532838    0.534520   \n",
       "NCLH     -0.403836   -0.412402   -0.406765   -0.403380   -0.401697   \n",
       "NFLX      4.747096    4.802132    4.674448    4.656442    4.698134   \n",
       "NKE      -0.794122   -0.793236   -0.793029   -0.790385   -0.789606   \n",
       "ORCL     -0.209668   -0.211176   -0.206949   -0.209405   -0.295659   \n",
       "RCL       1.401185    1.380179    1.386646    1.394995    1.653773   \n",
       "TSLA      1.599936    1.612114    1.575952    1.520174    1.487186   \n",
       "TWX      -0.704865   -0.702457   -0.700389   -0.696868   -0.693512   \n",
       "UA       -0.854564   -0.857246   -0.853760   -0.851973   -0.852805   \n",
       "WFC       3.039230    3.109183    2.970170    2.943141    2.918630   \n",
       "WM        0.525870    0.517684    0.545438    0.546503    0.571403   \n",
       "WMT       0.014582    0.014609    0.032180    0.019231    0.019474   \n",
       "WWE      -0.574085   -0.576048   -0.585287   -0.582847   -0.585105   \n",
       "XOM       0.971077    1.005930    1.031368    1.032621    1.027679   \n",
       "\n",
       "Date    2018-03-21  2018-03-22  2018-03-23  2018-03-26  2018-03-27  \n",
       "Ticker                                                              \n",
       "AAL            NaN         NaN         NaN         NaN         NaN  \n",
       "AAP       1.130523    1.135538    1.172907    1.213074    1.259528  \n",
       "AAPL      0.486203    0.511458    0.488091    0.505359    0.463699  \n",
       "AMZN      8.236060    8.145074    8.067297    8.005383    7.893014  \n",
       "BAC      -0.979853   -0.980215   -0.980496   -0.980435   -0.980281  \n",
       "CCL       1.104173    1.166939    1.208091    1.161629    1.226626  \n",
       "CI        1.491053    1.497583    1.546188    1.563526    1.518485  \n",
       "DIS      -0.390482   -0.391557   -0.399146   -0.403308   -0.399783  \n",
       "F        -0.890984   -0.893141   -0.892835   -0.892399   -0.891002  \n",
       "FB       14.260360   14.338605   14.093750   13.779317   13.052632  \n",
       "FOX      -0.785702   -0.780581   -0.777590   -0.771461   -0.762928  \n",
       "GCI       0.000000    0.000000    0.000000    0.000000    0.000000  \n",
       "GOOG     29.051791   27.996130   27.817207   27.791963   26.857539  \n",
       "HD       -0.836811   -0.832911   -0.831827   -0.832531   -0.826206  \n",
       "IBM      -0.119818   -0.132352   -0.133353   -0.130457   -0.130353  \n",
       "LUV      -0.631246   -0.625222   -0.619048   -0.624503   -0.626819  \n",
       "MSFT      0.600554    0.575263    0.537024    0.628408    0.578232  \n",
       "NCLH     -0.414252   -0.412964   -0.410415   -0.440819   -0.409076  \n",
       "NFLX      4.842348    4.818630    4.854864    5.108886    4.687346  \n",
       "NKE      -0.790350   -0.789958   -0.785240   -0.794287   -0.779939  \n",
       "ORCL     -0.291334   -0.287644   -0.306978   -0.294689   -0.314191  \n",
       "RCL       1.623777    1.618871    1.613083    1.580034    1.606875  \n",
       "TSLA      1.565697    1.571975    1.576384    1.536524    1.359932  \n",
       "TWX      -0.698954   -0.695050   -0.693009   -0.691005   -0.662583  \n",
       "UA       -0.852345   -0.854551   -0.851788   -0.846154   -0.847983  \n",
       "WFC       2.894101    2.831510    2.715743    2.616183    2.568436  \n",
       "WM        0.568169    0.603655    0.626128    0.608912    0.629941  \n",
       "WMT       0.026304    0.034425    0.030398    0.040057    0.033137  \n",
       "WWE      -0.588342   -0.588019   -0.580660   -0.578286   -0.579547  \n",
       "XOM       1.067218    1.047354    1.034897    1.005420    1.037037  \n",
       "\n",
       "[30 rows x 14156 columns]"
      ]
     },
     "execution_count": 67,
     "metadata": {},
     "output_type": "execute_result"
    }
   ],
   "source": [
    "acquisition().pipe((concat_pivot, 'df'), \n",
    "                   values='Adj. Close', \n",
    "                   columns='Date', \n",
    "                   rows='Ticker').pipe(compute_pct_change)"
   ]
  },
  {
   "cell_type": "code",
   "execution_count": null,
   "metadata": {
    "hidden": true
   },
   "outputs": [],
   "source": [
    "#difficult to read, not recommended\n",
    "compute_pct_change(concat_pivot(acquisition(), columns='Date', rows='Adj. Close'))"
   ]
  },
  {
   "cell_type": "code",
   "execution_count": null,
   "metadata": {
    "hidden": true
   },
   "outputs": [],
   "source": []
  },
  {
   "cell_type": "markdown",
   "metadata": {},
   "source": [
    "# Error Handling"
   ]
  },
  {
   "cell_type": "code",
   "execution_count": 68,
   "metadata": {},
   "outputs": [
    {
     "data": {
      "text/plain": [
       "<Response [200]>"
      ]
     },
     "execution_count": 68,
     "metadata": {},
     "output_type": "execute_result"
    }
   ],
   "source": [
    "url='https://s3-eu-west-1.amazonaws.com/ih-materials/uploads/data-static/documents/the-html5-breakfast-site.html'\n",
    "r.get(url)"
   ]
  },
  {
   "cell_type": "code",
   "execution_count": 69,
   "metadata": {},
   "outputs": [
    {
     "data": {
      "text/plain": [
       "<Response [403]>"
      ]
     },
     "execution_count": 69,
     "metadata": {},
     "output_type": "execute_result"
    }
   ],
   "source": [
    "url='https://s3-eu-west-1.amazonaws.com/ih-materials/uploads/data-static/documents/forbidden'\n",
    "r.get(url)"
   ]
  },
  {
   "cell_type": "code",
   "execution_count": 71,
   "metadata": {},
   "outputs": [],
   "source": [
    "url='http://google.com'\n",
    "response=r.get(url)"
   ]
  },
  {
   "cell_type": "code",
   "execution_count": 72,
   "metadata": {},
   "outputs": [
    {
     "data": {
      "text/plain": [
       "<Response [200]>"
      ]
     },
     "execution_count": 72,
     "metadata": {},
     "output_type": "execute_result"
    }
   ],
   "source": [
    "response"
   ]
  },
  {
   "cell_type": "code",
   "execution_count": 73,
   "metadata": {},
   "outputs": [
    {
     "data": {
      "text/plain": [
       "[<Response [301]>]"
      ]
     },
     "execution_count": 73,
     "metadata": {},
     "output_type": "execute_result"
    }
   ],
   "source": [
    "response.history"
   ]
  },
  {
   "cell_type": "code",
   "execution_count": 76,
   "metadata": {},
   "outputs": [
    {
     "data": {
      "text/plain": [
       "b'<HTML><HEAD><meta http-equiv=\"content-type\" content=\"text/html;charset=utf-8\">\\n<TITLE>301 Moved</TITLE></HEAD><BODY>\\n<H1>301 Moved</H1>\\nThe document has moved\\n<A HREF=\"http://www.google.com/\">here</A>.\\r\\n</BODY></HTML>\\r\\n'"
      ]
     },
     "execution_count": 76,
     "metadata": {},
     "output_type": "execute_result"
    }
   ],
   "source": [
    "response.history[0].content"
   ]
  },
  {
   "cell_type": "code",
   "execution_count": 77,
   "metadata": {},
   "outputs": [],
   "source": [
    "response=r.get('http://fb.com')"
   ]
  },
  {
   "cell_type": "code",
   "execution_count": 79,
   "metadata": {},
   "outputs": [
    {
     "data": {
      "text/plain": [
       "[<Response [301]>, <Response [301]>]"
      ]
     },
     "execution_count": 79,
     "metadata": {},
     "output_type": "execute_result"
    }
   ],
   "source": [
    "response.history"
   ]
  },
  {
   "cell_type": "code",
   "execution_count": 83,
   "metadata": {},
   "outputs": [
    {
     "data": {
      "text/plain": [
       "'http://fb.com/'"
      ]
     },
     "execution_count": 83,
     "metadata": {},
     "output_type": "execute_result"
    }
   ],
   "source": [
    "response.history[0].url"
   ]
  },
  {
   "cell_type": "code",
   "execution_count": 86,
   "metadata": {},
   "outputs": [
    {
     "data": {
      "text/plain": [
       "'https://fb.com/'"
      ]
     },
     "execution_count": 86,
     "metadata": {},
     "output_type": "execute_result"
    }
   ],
   "source": [
    "response.history[1].url"
   ]
  },
  {
   "cell_type": "code",
   "execution_count": 87,
   "metadata": {},
   "outputs": [
    {
     "data": {
      "text/plain": [
       "'https://www.facebook.com/'"
      ]
     },
     "execution_count": 87,
     "metadata": {},
     "output_type": "execute_result"
    }
   ],
   "source": [
    "response.url"
   ]
  },
  {
   "cell_type": "code",
   "execution_count": 88,
   "metadata": {},
   "outputs": [],
   "source": [
    "def func(url, headers={}):\n",
    "    resp=r.get(url, headers=headers)\n",
    "    if resp:\n",
    "        return resp.content\n",
    "    else:\n",
    "        print('Sorry, there is an error:',resp.status_code, 'somewhere')\n",
    "        return None"
   ]
  },
  {
   "cell_type": "code",
   "execution_count": 89,
   "metadata": {},
   "outputs": [
    {
     "data": {
      "text/plain": [
       "b'<!DOCTYPE html>\\n<html>\\n  <head>\\n    <title>The HTML5 Breakfast Site</title>\\n    <meta charset=\"UTF-8\">\\n\\n    <style>\\n      body {\\n        background-color: limegreen;\\n        margin: 40px;\\n      } \\n    </style>\\n  </head>\\n  <body>\\n    <div id=\"container\">\\n\\n      <nav id=\"topnav\">\\n        <a href=\"https://www.ironhack.com\" target=\"_blank\">HOME</a> |\\n        <a href=\"https://www.ironhack.com/en/team\" target=\"_blank\">ABOUT US</a> |\\n        <a href=\"https://www.ironhack.com/en/contact\" target=\"_blank\">CONTACT US</a>\\n      </nav>\\n\\n      <section id=\"content\">\\n        <h1>The Ironhack Breakfast Place</h1>\\n        <p>Here you will find all sorts of delicious treats</p>\\n        <figure>\\n          <img src=\"breakfast.jpg\" width=\"400\" alt=\"healthy breakfast\">\\n          <figcaption>CC Image courtesy of Ruth Hartnup on Flickr</figcaption>\\n        </figure>\\n      </section>\\n\\n      <footer>\\n        <p class=\"love\">Made with love by Ironhack</p>\\n      </footer>\\n\\n    </div>\\n  </body>\\n</html>\\n'"
      ]
     },
     "execution_count": 89,
     "metadata": {},
     "output_type": "execute_result"
    }
   ],
   "source": [
    "func('https://s3-eu-west-1.amazonaws.com/ih-materials/uploads/data-static/documents/the-html5-breakfast-site.html')"
   ]
  },
  {
   "cell_type": "code",
   "execution_count": 90,
   "metadata": {},
   "outputs": [
    {
     "name": "stdout",
     "output_type": "stream",
     "text": [
      "Sorry, there is an error: 403 somewhere\n"
     ]
    }
   ],
   "source": [
    "func('https://s3-eu-west-1.amazonaws.com/ih-materials/uploads/data-static/documents/forbidden')"
   ]
  },
  {
   "cell_type": "markdown",
   "metadata": {},
   "source": [
    "## Types of erros we can meet"
   ]
  },
  {
   "cell_type": "markdown",
   "metadata": {},
   "source": [
    "1. Too many redirects\n",
    "2. Timeout Error\n",
    "3. SSL Error\n",
    "4. OS Error\n",
    "5. Rate Limitations"
   ]
  },
  {
   "cell_type": "code",
   "execution_count": 91,
   "metadata": {},
   "outputs": [],
   "source": [
    "from requests.exceptions import SSLError, Timeout, TooManyRedirects, RequestException\n",
    "from contextlib import closing\n",
    "from IPython.display import Markdown, display\n",
    "import warnings\n",
    "\n",
    "warnings.filterwarnings('ignore')"
   ]
  },
  {
   "cell_type": "code",
   "execution_count": 126,
   "metadata": {},
   "outputs": [],
   "source": [
    "url='https://www.geographics.cz/'"
   ]
  },
  {
   "cell_type": "code",
   "execution_count": 135,
   "metadata": {},
   "outputs": [],
   "source": [
    "timeout_glob=0.05\n",
    "verify_glob=True\n",
    "allow_glob=False"
   ]
  },
  {
   "cell_type": "code",
   "execution_count": 97,
   "metadata": {},
   "outputs": [],
   "source": [
    "def printmd(string):\n",
    "    display(Markdown('**'+string+'**'))"
   ]
  },
  {
   "cell_type": "code",
   "execution_count": 99,
   "metadata": {},
   "outputs": [
    {
     "data": {
      "text/markdown": [
       "**dfghj**"
      ],
      "text/plain": [
       "<IPython.core.display.Markdown object>"
      ]
     },
     "metadata": {},
     "output_type": "display_data"
    }
   ],
   "source": [
    "printmd('dfghj')"
   ]
  },
  {
   "cell_type": "code",
   "execution_count": 105,
   "metadata": {},
   "outputs": [],
   "source": [
    "def is_good_response(x):\n",
    "    \"\"\"\n",
    "    Returns True if the response seems to be an HTML, False otherwise\n",
    "    x is response\n",
    "    \"\"\"\n",
    "    \n",
    "    content_type=x.headers['Content-Type'].lower()\n",
    "    \n",
    "    return ((x.status_code==200 and content_type is not None and content_type.find('html')>1), x.status_code)"
   ]
  },
  {
   "cell_type": "code",
   "execution_count": 111,
   "metadata": {},
   "outputs": [],
   "source": [
    "def log_error(e):\n",
    "    print(e)"
   ]
  },
  {
   "cell_type": "code",
   "execution_count": 113,
   "metadata": {},
   "outputs": [],
   "source": [
    "def status_handler(status):\n",
    "    if status<300:\n",
    "        print('Alles gut!')\n",
    "    elif status>=400 and status<500:\n",
    "        print('request has failed due to you mistake bro. Check the link, headers, server and whether you have an access to this page.')\n",
    "    else:\n",
    "        print('Yoooo, I have no clue what has happened. But you are stuck, since you didnt receive any output from server')\n",
    "    return None"
   ]
  },
  {
   "cell_type": "code",
   "execution_count": 124,
   "metadata": {},
   "outputs": [
    {
     "data": {
      "text/plain": [
       "0.1"
      ]
     },
     "execution_count": 124,
     "metadata": {},
     "output_type": "execute_result"
    }
   ],
   "source": [
    "timeout_glob"
   ]
  },
  {
   "cell_type": "code",
   "execution_count": 140,
   "metadata": {},
   "outputs": [],
   "source": [
    "def adaptive_scraping(url, timeout=timeout_glob, verify=verify_glob):\n",
    "    global timeout_glob\n",
    "    global verify_glob\n",
    "    global allow_glob\n",
    "    import requests as r\n",
    "    \n",
    "    try:\n",
    "        with closing(r.get(url, stream=True, timeout=timeout_glob, verify=verify_glob, allow_redirects=allow_glob)) as resp:\n",
    "            test1=is_good_response(resp)\n",
    "            print(resp)\n",
    "            if test1[0]:\n",
    "                return resp.content\n",
    "            else:\n",
    "                return status_handler(test[1])\n",
    "    except Timeout as e:\n",
    "        log_error(f'Error during request to {url}: {str(e)}')\n",
    "        printmd('We can increase response waiting time. Do you want to continue?')\n",
    "        ans=input('\\n[Yes|No]\\t')\n",
    "        if ans.lower()=='yes':\n",
    "            timeout_glob*=2\n",
    "            return adaptive_scraping(url)\n",
    "        else:\n",
    "            return None\n",
    "    except SSLError as e:\n",
    "        log_error(f'Error during request to {url}: {str(e)}')\n",
    "        printmd('We can skip verification test. Do you want to continue?')\n",
    "        ans=input('\\n[Yes|No]\\t')\n",
    "        if ans.lower()=='yes':\n",
    "            verify_glob=False\n",
    "            return adaptive_scraping(url)\n",
    "        else:\n",
    "            return None\n",
    "    except TooManyRedirects as e:\n",
    "        log_error(f'Error during request to {url}: {str(e)}')\n",
    "        printmd('We can increase the number of allowed redirects. Do you want to continue?')\n",
    "        ans=input('\\n[Yes|No]\\t')\n",
    "        if ans.lower()=='yes':\n",
    "            allow_glob=True\n",
    "            return adaptive_scraping(url)\n",
    "        else:\n",
    "            return None\n",
    "    except RequestException as e:\n",
    "        log_error(f'Error during request to {url}: {str(e)}')\n",
    "        printmd('Unfortunately, we have no clue what to do.  Please try again later. ')\n",
    "        return None\n",
    "        "
   ]
  },
  {
   "cell_type": "code",
   "execution_count": 141,
   "metadata": {},
   "outputs": [
    {
     "name": "stdout",
     "output_type": "stream",
     "text": [
      "<Response [200]>\n"
     ]
    },
    {
     "data": {
      "text/plain": [
       "b'<!DOCTYPE html>\\n<html>\\n  <head>\\n    <title>The HTML5 Breakfast Site</title>\\n    <meta charset=\"UTF-8\">\\n\\n    <style>\\n      body {\\n        background-color: limegreen;\\n        margin: 40px;\\n      } \\n    </style>\\n  </head>\\n  <body>\\n    <div id=\"container\">\\n\\n      <nav id=\"topnav\">\\n        <a href=\"https://www.ironhack.com\" target=\"_blank\">HOME</a> |\\n        <a href=\"https://www.ironhack.com/en/team\" target=\"_blank\">ABOUT US</a> |\\n        <a href=\"https://www.ironhack.com/en/contact\" target=\"_blank\">CONTACT US</a>\\n      </nav>\\n\\n      <section id=\"content\">\\n        <h1>The Ironhack Breakfast Place</h1>\\n        <p>Here you will find all sorts of delicious treats</p>\\n        <figure>\\n          <img src=\"breakfast.jpg\" width=\"400\" alt=\"healthy breakfast\">\\n          <figcaption>CC Image courtesy of Ruth Hartnup on Flickr</figcaption>\\n        </figure>\\n      </section>\\n\\n      <footer>\\n        <p class=\"love\">Made with love by Ironhack</p>\\n      </footer>\\n\\n    </div>\\n  </body>\\n</html>\\n'"
      ]
     },
     "execution_count": 141,
     "metadata": {},
     "output_type": "execute_result"
    }
   ],
   "source": [
    "adaptive_scraping('https://s3-eu-west-1.amazonaws.com/ih-materials/uploads/data-static/documents/the-html5-breakfast-site.html')"
   ]
  },
  {
   "cell_type": "code",
   "execution_count": 142,
   "metadata": {},
   "outputs": [
    {
     "name": "stdout",
     "output_type": "stream",
     "text": [
      "<Response [200]>\n"
     ]
    },
    {
     "data": {
      "text/plain": [
       "b'<!DOCTYPE html>\\n<html lang=\"en-US\">\\n\\n<head>\\n\\t<meta http-equiv=\"Content-Type\" content=\"text/html; charset=UTF-8\" />\\n\\t<title>Geographics.cz </title>\\n\\t<meta name=\"viewport\" content=\"width=device-width, initial-scale = 1.0, maximum-scale=1.0, user-scalable=no\" />\\n\\t\\n\\t<link rel=\"stylesheet\" type=\"text/css\" href=\"wp-content/themes/custom/css/fonts.css\" />\\n\\t<link rel=\"stylesheet\" type=\"text/css\" href=\"wp-content/themes/custom/css/custom.css\" />\\n\\n\\t<link rel=\"stylesheet\" type=\"text/css\" href=\"http://fonts.googleapis.com/css?family=Droid+Sans:regular,bold\" />\\n\\t<link rel=\"stylesheet\" type=\"text/css\" href=\"http://fonts.googleapis.com/css?family=Droid+Serif:regular,bold\" />\\n\\t<link href=\\'http://fonts.googleapis.com/css?family=Source+Sans+Pro\\' rel=\\'stylesheet\\' type=\\'text/css\\'>\\n\\n\\t\\t\\t\\t\\t\\t\\n\\t\\t\\n\\t\\t\\t\\n\\t<link rel=\"stylesheet\" href=\"https://www.geographics.cz/wp-content/themes/herothemetrust-child/style.css\" type=\"text/css\" media=\"screen\" />\\n\\t<link rel=\"alternate\" type=\"application/rss+xml\" title=\"Geographics.cz RSS Feed\" href=\"https://www.geographics.cz/feed/\" />\\n\\t<link rel=\"alternate\" type=\"application/atom+xml\" title=\"Geographics.cz Atom Feed\" href=\"https://www.geographics.cz/feed/atom/\" />\\n\\t<link rel=\"pingback\" href=\"https://www.geographics.cz/xmlrpc.php\" />\\n\\t\\n\\t\\t\\t<link rel=\"shortcut icon\" href=\"http://www.geographics.cz/wp-content/uploads/favicon21.png\" />\\n\\t\\t\\n\\t\\t\\n\\t<link rel=\"alternate\" type=\"application/rss+xml\" title=\"Geographics.cz &raquo; Work Comments Feed\" href=\"https://www.geographics.cz/home-page/feed/\" />\\n\\t\\t<script type=\"text/javascript\">\\n\\t\\t\\twindow._wpemojiSettings = {\"baseUrl\":\"https:\\\\/\\\\/s.w.org\\\\/images\\\\/core\\\\/emoji\\\\/72x72\\\\/\",\"ext\":\".png\",\"source\":{\"concatemoji\":\"https:\\\\/\\\\/www.geographics.cz\\\\/wp-includes\\\\/js\\\\/wp-emoji-release.min.js?ver=4.3.24\"}};\\n\\t\\t\\t!function(a,b,c){function d(a){var c=b.createElement(\"canvas\"),d=c.getContext&&c.getContext(\"2d\");return d&&d.fillText?(d.textBaseline=\"top\",d.font=\"600 32px Arial\",\"flag\"===a?(d.fillText(String.fromCharCode(55356,56812,55356,56807),0,0),c.toDataURL().length>3e3):(d.fillText(String.fromCharCode(55357,56835),0,0),0!==d.getImageData(16,16,1,1).data[0])):!1}function e(a){var c=b.createElement(\"script\");c.src=a,c.type=\"text/javascript\",b.getElementsByTagName(\"head\")[0].appendChild(c)}var f,g;c.supports={simple:d(\"simple\"),flag:d(\"flag\")},c.DOMReady=!1,c.readyCallback=function(){c.DOMReady=!0},c.supports.simple&&c.supports.flag||(g=function(){c.readyCallback()},b.addEventListener?(b.addEventListener(\"DOMContentLoaded\",g,!1),a.addEventListener(\"load\",g,!1)):(a.attachEvent(\"onload\",g),b.attachEvent(\"onreadystatechange\",function(){\"complete\"===b.readyState&&c.readyCallback()})),f=c.source||{},f.concatemoji?e(f.concatemoji):f.wpemoji&&f.twemoji&&(e(f.twemoji),e(f.wpemoji)))}(window,document,window._wpemojiSettings);\\n\\t\\t</script>\\n\\t\\t<style type=\"text/css\">\\nimg.wp-smiley,\\nimg.emoji {\\n\\tdisplay: inline !important;\\n\\tborder: none !important;\\n\\tbox-shadow: none !important;\\n\\theight: 1em !important;\\n\\twidth: 1em !important;\\n\\tmargin: 0 .07em !important;\\n\\tvertical-align: -0.1em !important;\\n\\tbackground: none !important;\\n\\tpadding: 0 !important;\\n}\\n</style>\\n<link rel=\\'stylesheet\\' id=\\'superfish-css\\'  href=\\'https://www.geographics.cz/wp-content/themes/herothemetrust/css/superfish.css?ver=1.4.8\\' type=\\'text/css\\' media=\\'all\\' />\\n<link rel=\\'stylesheet\\' id=\\'slideshow-css\\'  href=\\'https://www.geographics.cz/wp-content/themes/herothemetrust/css/flexslider.css?ver=1.8\\' type=\\'text/css\\' media=\\'all\\' />\\n<script type=\\'text/javascript\\' src=\\'https://www.geographics.cz/wp-includes/js/jquery/jquery.js?ver=1.11.3\\'></script>\\n<script type=\\'text/javascript\\' src=\\'https://www.geographics.cz/wp-includes/js/jquery/jquery-migrate.min.js?ver=1.2.1\\'></script>\\n<meta name=\"generator\" content=\"WordPress 4.3.24\" />\\n<link rel=\\'canonical\\' href=\\'https://www.geographics.cz/\\' />\\n<link rel=\\'shortlink\\' href=\\'https://www.geographics.cz/\\' />\\n<meta name=\"generator\" content=\" \" />\\n\\n<style type=\"text/css\" media=\"screen\">\\n\\n\\n\\t#bannerText { top: 195px; }\\n\\n\\tblockquote, address {\\n\\t\\tborder-left: 5px solid #ccb676;\\n\\t}\\t\\n\\t#filterNav .selected, #filterNav a.selected:hover, #content .project.small .inside {\\n\\t\\tbackground-color: #ccb676;\\n\\t}\\t\\n\\n#mainNav ul a, #mainNav ul li.sfHover ul a { color: #8f8f8f !important;\\t}\\n\\t#mainNav ul li.current a,\\n\\t#mainNav ul li.current-cat a,\\n\\t#mainNav ul li.current_page_item a,\\n\\t#mainNav ul li.current-menu-item a,\\n\\t#mainNav ul li.current-post-ancestor a,\\t\\n\\t.single-post #mainNav ul li.current_page_parent a,\\n\\t#mainNav ul li.current-category-parent a,\\n\\t#mainNav ul li.current-category-ancestor a,\\n\\t#mainNav ul li.current-portfolio-ancestor a,\\n\\t#mainNav ul li.current-projects-ancestor a {\\n\\t\\tcolor: #2e2e2e !important;\\t\\t\\n\\t}\\n\\t#mainNav ul li.sfHover a,\\n\\t#mainNav ul li a:hover,\\n\\t#mainNav ul li:hover {\\n\\t\\tcolor: #2e2e2e !important;\\t\\n\\t}\\n\\t#mainNav ul li.sfHover ul a:hover { color: #2e2e2e !important;}\\t\\n\\na { color: #999999;}\\na:hover {color: #1B1B1B;}\\n.button, #searchsubmit, input[type=\"submit\"] {background-color: #757575 !important;}\\n.button:hover, #searchsubmit:hover, input[type=\"submit\"]:hover {background-color: #595959 !important;}\\n\\n\\t#homeBanner {\\n\\t\\tbackground-color: #787878;\\n\\t}\\t\\n\\n\\t#homeBanner {\\n\\t\\tbackground-image: url(http://www.geographics.cz/wp-content/uploads/hory_bw.jpg);\\t\\t\\n\\t\\tbackground-repeat:no-repeat;\\n\\t\\tbackground-attachment:fixed;\\n\\t\\tbackground-position:center top;\\t\\t\\t\\n\\t}\\n\\n\\n</style>\\n\\n<!--[if IE 7]>\\n<link rel=\"stylesheet\" href=\"https://www.geographics.cz/wp-content/themes/herothemetrust/css/ie7.css\" type=\"text/css\" media=\"screen\" />\\n<![endif]-->\\n<!--[if IE 8]>\\n<link rel=\"stylesheet\" href=\"https://www.geographics.cz/wp-content/themes/herothemetrust/css/ie8.css\" type=\"text/css\" media=\"screen\" />\\n<![endif]-->\\n<!--[if IE]><script src=\"http://html5shiv.googlecode.com/svn/trunk/html5.js\"></script><![endif]-->\\n\\n\\n\\n\\n\\t<style type=\"text/css\">.recentcomments a{display:inline !important;padding:0 !important;margin:0 !important;}</style>\\n\\t\\n</head>\\n\\n<body class=\"home page page-id-11 page-template page-template-page-home page-template-page-home-php \" >\\n\\n<div id=\"container\">\\t\\n<div id=\"header\">\\n\\t<div class=\"inside clearfix\">\\n\\t\\t\\t\\t\\t\\t\\t\\n\\t\\t\\t\\t<div id=\"logo\">\\n\\t\\t\\t\\t\\t\\t\\n\\t\\t\\t<h1 class=\"logo\"><a href=\"https://www.geographics.cz\"><img src=\"http://www.geographics.cz/wp-content/uploads/logo.png\" alt=\"Geographics.cz\" /></a></h1>\\n\\t\\t\\t\\n\\t\\t</div>\\n\\t\\t\\n\\t\\t<div id=\"mainNav\" class=\"clearfix\">\\t\\t\\t\\t\\t\\t\\t\\n\\t\\t\\t<div class=\"menu-menu-1-container\"><ul id=\"menu-menu-1\" class=\"sf-menu\"><li id=\"menu-item-468\" class=\"menu-item menu-item-type-post_type menu-item-object-page current-menu-item page_item page-item-11 current_page_item menu-item-468\"><a href=\"https://www.geographics.cz/\">Work</a></li>\\n<li id=\"menu-item-470\" class=\"menu-item menu-item-type-post_type menu-item-object-page menu-item-470\"><a href=\"https://www.geographics.cz/about/\">Contact</a></li>\\n</ul></div>\\t\\t\\t\\n\\t\\t</div>\\t\\t\\t\\n\\t</div>\\t\\n\\t\\t\\t\\n\\t\\t<div id=\"homeBanner\">\\t\\n\\t\\t\\t<div id=\"bannerText\">\\n\\t\\t\\t\\t<h2>We Design Information</h2>\\n\\t\\t\\t\\t<p></p>\\n\\t\\t\\t</div>\\t\\t\\n\\t\\t</div>\\t\\n\\t\\t\\n\\t\\t\\n</div>\\n\\n<div class=\"wrap\">\\n<div id=\"main\" class=\"clearfix\">\\n\\t<div id=\"content\" class=\"full grid\">\\n\\n\\t\\n<div id=\"projects\" class=\"full homeSection clearfix\">\\t\\t\\t\\n\\t<h3><span>Recent Projects</span></h3>\\t\\t\\n\\t\\t\\t\\n\\t\\t\\t\\t\\t\\n\\t<div class=\"thumbs clearfix\">\\t\\t\\t\\n\\t\\t\\t\\t\\t\\n\\t\\t\\t<div class=\"project small 11\" id=\"project-czech-crime\">\\n\\t<div class=\"inside\">\\n\\t<a href=\"https://www.geographics.cz/project/czech-crime/\" rel=\"bookmark\" >\\t\\n\\t\\t<img width=\"300\" height=\"175\" src=\"https://www.geographics.cz/wp-content/uploads/06_krimi1-300x175.jpg\" class=\"thumb wp-post-image\" alt=\"Czech Crime\" title=\"Czech Crime\" />\\t\\t<span class=\"title\"><span>Czech Crime</span></span>\\n\\t</a>\\n\\t</div>\\t\\t\\t\\t\\t\\t\\t\\t\\t\\t\\t\\t\\t\\t\\t\\t\\t\\t\\t\\t\\t\\t\\t\\t\\t\\t\\t\\t\\t\\t\\t\\t\\n</div>\\t\\t\\t\\t\\t\\n\\t\\t\\t<div class=\"project small 11\" id=\"project-hic-sunt-leones\">\\n\\t<div class=\"inside\">\\n\\t<a href=\"https://www.geographics.cz/project/hic-sunt-leones/\" rel=\"bookmark\" >\\t\\n\\t\\t<img width=\"300\" height=\"175\" src=\"https://www.geographics.cz/wp-content/uploads/07_leones-300x175.jpg\" class=\"thumb wp-post-image\" alt=\"Hic Sunt Leones\" title=\"Hic Sunt Leones\" />\\t\\t<span class=\"title\"><span>Hic Sunt Leones</span></span>\\n\\t</a>\\n\\t</div>\\t\\t\\t\\t\\t\\t\\t\\t\\t\\t\\t\\t\\t\\t\\t\\t\\t\\t\\t\\t\\t\\t\\t\\t\\t\\t\\t\\t\\t\\t\\t\\t\\n</div>\\t\\t\\t\\t\\t\\n\\t\\t\\t<div class=\"project small 11\" id=\"project-nacis\">\\n\\t<div class=\"inside\">\\n\\t<a href=\"https://www.geographics.cz/project/nacis/\" rel=\"bookmark\" >\\t\\n\\t\\t<img width=\"300\" height=\"175\" src=\"https://www.geographics.cz/wp-content/uploads/09_nacis-300x175.jpg\" class=\"thumb wp-post-image\" alt=\"NACIS\" title=\"NACIS\" />\\t\\t<span class=\"title\"><span>NACIS</span></span>\\n\\t</a>\\n\\t</div>\\t\\t\\t\\t\\t\\t\\t\\t\\t\\t\\t\\t\\t\\t\\t\\t\\t\\t\\t\\t\\t\\t\\t\\t\\t\\t\\t\\t\\t\\t\\t\\t\\n</div>\\t\\t\\t\\t\\t\\n\\t\\t\\t<div class=\"project small 11\" id=\"project-invisible-night-sky\">\\n\\t<div class=\"inside\">\\n\\t<a href=\"https://www.geographics.cz/project/invisible-night-sky/\" rel=\"bookmark\" >\\t\\n\\t\\t<img width=\"300\" height=\"175\" src=\"https://www.geographics.cz/wp-content/uploads/08_nightsky-300x175.jpg\" class=\"thumb wp-post-image\" alt=\"(In)Visible Night Sky\" title=\"(In)Visible Night Sky\" />\\t\\t<span class=\"title\"><span>(In)Visible Night Sky</span></span>\\n\\t</a>\\n\\t</div>\\t\\t\\t\\t\\t\\t\\t\\t\\t\\t\\t\\t\\t\\t\\t\\t\\t\\t\\t\\t\\t\\t\\t\\t\\t\\t\\t\\t\\t\\t\\t\\t\\n</div>\\t\\t\\t\\t\\t\\n\\t\\t\\t<div class=\"project small 11\" id=\"project-world-of-religion\">\\n\\t<div class=\"inside\">\\n\\t<a href=\"https://www.geographics.cz/project/world-of-religion/\" rel=\"bookmark\" >\\t\\n\\t\\t<img width=\"300\" height=\"175\" src=\"https://www.geographics.cz/wp-content/uploads/04_relig-300x175.jpg\" class=\"thumb wp-post-image\" alt=\"World of Religions\" title=\"World of Religions\" />\\t\\t<span class=\"title\"><span>World of Religions</span></span>\\n\\t</a>\\n\\t</div>\\t\\t\\t\\t\\t\\t\\t\\t\\t\\t\\t\\t\\t\\t\\t\\t\\t\\t\\t\\t\\t\\t\\t\\t\\t\\t\\t\\t\\t\\t\\t\\t\\n</div>\\t\\t\\t\\t\\t\\n\\t\\t\\t<div class=\"project small 11\" id=\"project-largest-cities\">\\n\\t<div class=\"inside\">\\n\\t<a href=\"https://www.geographics.cz/project/largest-cities/\" rel=\"bookmark\" >\\t\\n\\t\\t<img width=\"300\" height=\"175\" src=\"https://www.geographics.cz/wp-content/uploads/05_urban-300x175.jpg\" class=\"thumb wp-post-image\" alt=\"Largest Cities\" title=\"Largest Cities\" />\\t\\t<span class=\"title\"><span>Largest Cities</span></span>\\n\\t</a>\\n\\t</div>\\t\\t\\t\\t\\t\\t\\t\\t\\t\\t\\t\\t\\t\\t\\t\\t\\t\\t\\t\\t\\t\\t\\t\\t\\t\\t\\t\\t\\t\\t\\t\\t\\n</div>\\t\\t\\t\\t\\t\\n\\t\\t\\t<div class=\"project small 11\" id=\"project-european-pie\">\\n\\t<div class=\"inside\">\\n\\t<a href=\"https://www.geographics.cz/project/european-pie/\" rel=\"bookmark\" >\\t\\n\\t\\t<img width=\"300\" height=\"175\" src=\"https://www.geographics.cz/wp-content/uploads/03_europe-300x175.jpg\" class=\"thumb wp-post-image\" alt=\"European Pie\" title=\"European Pie\" />\\t\\t<span class=\"title\"><span>European Pie</span></span>\\n\\t</a>\\n\\t</div>\\t\\t\\t\\t\\t\\t\\t\\t\\t\\t\\t\\t\\t\\t\\t\\t\\t\\t\\t\\t\\t\\t\\t\\t\\t\\t\\t\\t\\t\\t\\t\\t\\n</div>\\t\\t\\t\\t\\t\\n\\t\\t\\t<div class=\"project small 11\" id=\"project-placebook\">\\n\\t<div class=\"inside\">\\n\\t<a href=\"https://www.geographics.cz/project/placebook/\" rel=\"bookmark\" >\\t\\n\\t\\t<img width=\"300\" height=\"175\" src=\"https://www.geographics.cz/wp-content/uploads/02_placebook-300x175.jpg\" class=\"thumb wp-post-image\" alt=\"Placebook\" title=\"Placebook\" />\\t\\t<span class=\"title\"><span>Placebook</span></span>\\n\\t</a>\\n\\t</div>\\t\\t\\t\\t\\t\\t\\t\\t\\t\\t\\t\\t\\t\\t\\t\\t\\t\\t\\t\\t\\t\\t\\t\\t\\t\\t\\t\\t\\t\\t\\t\\t\\n</div>\\t\\t\\t\\t\\t\\n\\t\\t\\t<div class=\"project small 11\" id=\"project-family-budget\">\\n\\t<div class=\"inside\">\\n\\t<a href=\"https://www.geographics.cz/project/family-budget/\" rel=\"bookmark\" >\\t\\n\\t\\t<img width=\"300\" height=\"175\" src=\"https://www.geographics.cz/wp-content/uploads/01_opendata-300x175.jpg\" class=\"thumb wp-post-image\" alt=\"Family Budget\" title=\"Family Budget\" />\\t\\t<span class=\"title\"><span>Family Budget</span></span>\\n\\t</a>\\n\\t</div>\\t\\t\\t\\t\\t\\t\\t\\t\\t\\t\\t\\t\\t\\t\\t\\t\\t\\t\\t\\t\\t\\t\\t\\t\\t\\t\\t\\t\\t\\t\\t\\t\\n</div>\\t\\t\\t\\t\\t\\t\\n\\t</div>\\n</div>\\n\\n<div id=\"featuredPages\" class=\"full homeSection clearfix\">\\t\\t\\t\\n\\t<h3><span>Our Services</span></h3>\\t\\t\\n\\t\\t<div class=\"thumbs3 clearfix\">\\n\\t\\t\\t\\t    \\n\\t\\t<div class=\"small post-50 page type-page status-publish has-post-thumbnail hentry\">\\t\\n\\t\\t\\t<div class=\"thumb\" href=\"https://www.geographics.cz/cartography/\" rel=\"bookmark\" ><img width=\"166\" height=\"166\" src=\"https://www.geographics.cz/wp-content/uploads/icon-data.png\" class=\"thumb wp-post-image\" alt=\"Data visualization\" title=\"Data visualization\" /></div>\\t\\t\\t\\n\\t\\t\\t<h2>Data visualization</h2>\\t\\t\\t\\n\\t\\t\\t\\n\\t\\t\\t<p>Have some interesting data trapped in a spreadsheet or database? It&#8217;s a shame to keep them hidden from the world. Let us help you to make your data speak and set them free.</p>\\n\\t\\t\\t\\t\\t\\n\\t\\t</div>\\n\\t\\t\\t\\t    \\n\\t\\t<div class=\"small post-48 page type-page status-publish has-post-thumbnail hentry\">\\t\\n\\t\\t\\t<div class=\"thumb\" href=\"https://www.geographics.cz/information-design/\" rel=\"bookmark\" ><img width=\"166\" height=\"166\" src=\"https://www.geographics.cz/wp-content/uploads/information_design1.png\" class=\"thumb wp-post-image\" alt=\"Information design\" title=\"Information design\" /></div>\\t\\t\\t\\n\\t\\t\\t<h2>Information design</h2>\\t\\t\\t\\n\\t\\t\\t\\n\\t\\t\\t<p>Telling a story but the key message just does not make it through the good old PowerPoint slides? Move few leaps further and let us retell your story in a beautiful and meaningful way.</p>\\n\\t\\t\\t\\t\\t\\n\\t\\t</div>\\n\\t\\t\\t\\t    \\n\\t\\t<div class=\"small post-46 page type-page status-publish has-post-thumbnail hentry\">\\t\\n\\t\\t\\t<div class=\"thumb\" href=\"https://www.geographics.cz/data-visualization/\" rel=\"bookmark\" ><img width=\"166\" height=\"166\" src=\"https://www.geographics.cz/wp-content/uploads/icon-map.png\" class=\"thumb wp-post-image\" alt=\"Cartography\" title=\"Cartography\" /></div>\\t\\t\\t\\n\\t\\t\\t<h2>Cartography</h2>\\t\\t\\t\\n\\t\\t\\t\\n\\t\\t\\t<p>Need to deal with a problem so complex that you just don&#8217;t know where to start? Have you tried putting it on a map? We love maps and we&#8217;re gonna make you love them too.</p>\\n\\t\\t\\t\\t\\t\\n\\t\\t</div>\\n\\t\\t\\t</div>\\n</div>\\n\\n</div>\\n\\n\\t</div>\\n\\t</div>\\t\\n</div>\\n\\t<div id=\"footer\" >\\n\\t\\t<div class=\"inside\">\\t\\t\\n\\t\\t\\t<div class=\"main clearfix\">\\n\\t\\t\\t\\t<div class=\"right\"><a href=\"mailto:hello@geographics.cz\" title=\"hello@geographics.cz\">hello@geographics.cz</a></div>\\t\\t\\t\\n\\t\\t\\t</div><!-- end footer secondary-->\\t\\t\\n\\t\\t</div><!-- end footer inside-->\\t\\t\\n\\t</div><!-- end footer -->\\n\\t<script type=\"text/javascript\">\\nWebFontConfig = { fontdeck: { id: \\'50558\\' } };\\n\\n(function() {\\n  var wf = document.createElement(\\'script\\');\\n  wf.src = (\\'https:\\' == document.location.protocol ? \\'https\\' : \\'http\\') +\\n  \\'://ajax.googleapis.com/ajax/libs/webfont/1/webfont.js\\';\\n  wf.type = \\'text/javascript\\';\\n  wf.async = \\'true\\';\\n  var s = document.getElementsByTagName(\\'script\\')[0];\\n  s.parentNode.insertBefore(wf, s);\\n})();\\n</script>\\n<script>\\n  (function(i,s,o,g,r,a,m){i[\\'GoogleAnalyticsObject\\']=r;i[r]=i[r]||function(){\\n  (i[r].q=i[r].q||[]).push(arguments)},i[r].l=1*new Date();a=s.createElement(o),\\n  m=s.getElementsByTagName(o)[0];a.async=1;a.src=g;m.parentNode.insertBefore(a,m)\\n  })(window,document,\\'script\\',\\'//www.google-analytics.com/analytics.js\\',\\'ga\\');\\n\\n  ga(\\'create\\', \\'UA-4625786-2\\', \\'auto\\');\\n  ga(\\'send\\', \\'pageview\\');\\n\\n</script>\\n<script type=\\'text/javascript\\' src=\\'https://www.geographics.cz/wp-includes/js/comment-reply.min.js?ver=4.3.24\\'></script>\\n<script type=\\'text/javascript\\' src=\\'https://www.geographics.cz/wp-content/themes/herothemetrust/js/superfish.js?ver=1.4.8\\'></script>\\n<script type=\\'text/javascript\\' src=\\'https://www.geographics.cz/wp-content/themes/herothemetrust/js/jquery.fitvids.js?ver=1.0\\'></script>\\n<script type=\\'text/javascript\\' src=\\'https://www.geographics.cz/wp-content/themes/herothemetrust/js/jquery.fittext.js?ver=1.0\\'></script>\\n<script type=\\'text/javascript\\' src=\\'https://www.geographics.cz/wp-content/themes/herothemetrust/js/jquery.flexslider-min.js?ver=1.8\\'></script>\\n<script type=\\'text/javascript\\' src=\\'https://www.geographics.cz/wp-content/themes/herothemetrust/js/theme_trust.js?ver=1.0\\'></script>\\n</body>\\n</html>\\n\\n\\t'"
      ]
     },
     "execution_count": 142,
     "metadata": {},
     "output_type": "execute_result"
    }
   ],
   "source": [
    "adaptive_scraping(url)"
   ]
  },
  {
   "cell_type": "code",
   "execution_count": 150,
   "metadata": {},
   "outputs": [],
   "source": [
    "from requests.exceptions import SSLError, Timeout, TooManyRedirects, RequestException\n",
    "from contextlib import closing\n",
    "from IPython.display import Markdown, display\n",
    "import warnings\n",
    "\n",
    "warnings.filterwarnings('ignore')\n",
    "\n",
    "\n",
    "timeout_glob=0.05\n",
    "verify_glob=True\n",
    "allow_glob=False\n",
    "\n",
    "def printmd(string):\n",
    "    display(Markdown('**'+string+'**'))\n",
    "    \n",
    "def is_good_response(x):\n",
    "    \"\"\"\n",
    "    Returns True if the response seems to be an HTML, False otherwise\n",
    "    x is response\n",
    "    \"\"\"\n",
    "    \n",
    "    content_type=x.headers['Content-Type'].lower()\n",
    "    \n",
    "    return ((x.status_code==200 and content_type is not None and content_type.find('html')>1), x.status_code)\n",
    "\n",
    "def log_error(e):\n",
    "    print(e)\n",
    "    \n",
    "    \n",
    "def status_handler(status):\n",
    "    if status<300:\n",
    "        print('Alles gut!')\n",
    "    elif status>=400 and status<500:\n",
    "        print('request has failed due to you mistake bro. Check the link, headers, server and whether you have an access to this page.')\n",
    "    else:\n",
    "        print('Yoooo, I have no clue what has happened. But you are stuck, since you didnt receive any output from server')\n",
    "    return None\n",
    "\n",
    "\n",
    "def adaptive_scraping(url, timeout=timeout_glob, verify=verify_glob):\n",
    "    global timeout_glob\n",
    "    global verify_glob\n",
    "    global allow_glob\n",
    "    import requests as r\n",
    "    \n",
    "    try:\n",
    "        with closing(r.get(url, stream=True, timeout=timeout_glob, verify=verify_glob, allow_redirects=allow_glob)) as resp:\n",
    "            test1=is_good_response(resp)\n",
    "            print(resp)\n",
    "            if test1[0]:\n",
    "                return resp.content\n",
    "            else:\n",
    "                return status_handler(test1[1])\n",
    "    except Timeout as e:\n",
    "        log_error(f'Error during request to {url}: {str(e)}')\n",
    "        printmd('We can increase response waiting time. Do you want to continue?')\n",
    "        ans=input('\\n[Yes|No]\\t')\n",
    "        if ans.lower()=='yes':\n",
    "            timeout_glob*=2\n",
    "            return adaptive_scraping(url)\n",
    "        else:\n",
    "            return None\n",
    "    except SSLError as e:\n",
    "        log_error(f'Error during request to {url}: {str(e)}')\n",
    "        printmd('We can skip verification test. Do you want to continue?')\n",
    "        ans=input('\\n[Yes|No]\\t')\n",
    "        if ans.lower()=='yes':\n",
    "            verify_glob=False\n",
    "            return adaptive_scraping(url)\n",
    "        else:\n",
    "            return None\n",
    "    except TooManyRedirects as e:\n",
    "        log_error(f'Error during request to {url}: {str(e)}')\n",
    "        printmd('We can increase the number of allowed redirects. Do you want to continue?')\n",
    "        ans=input('\\n[Yes|No]\\t')\n",
    "        if ans.lower()=='yes':\n",
    "            allow_glob=True\n",
    "            return adaptive_scraping(url)\n",
    "        else:\n",
    "            return None\n",
    "    except RequestException as e:\n",
    "        log_error(f'Error during request to {url}: {str(e)}')\n",
    "        printmd('Unfortunately, we have no clue what to do.  Please try again later. ')\n",
    "        return None\n",
    "        "
   ]
  },
  {
   "cell_type": "code",
   "execution_count": 153,
   "metadata": {},
   "outputs": [],
   "source": [
    "import adaptive"
   ]
  },
  {
   "cell_type": "code",
   "execution_count": 154,
   "metadata": {},
   "outputs": [
    {
     "name": "stdout",
     "output_type": "stream",
     "text": [
      "Error during request to https://banana.com: HTTPSConnectionPool(host='banana.com', port=443): Max retries exceeded with url: / (Caused by ConnectTimeoutError(<urllib3.connection.VerifiedHTTPSConnection object at 0x7f57dec10a90>, 'Connection to banana.com timed out. (connect timeout=0.05)'))\n"
     ]
    },
    {
     "data": {
      "text/markdown": [
       "**We can increase response waiting time. Do you want to continue?**"
      ],
      "text/plain": [
       "<IPython.core.display.Markdown object>"
      ]
     },
     "metadata": {},
     "output_type": "display_data"
    },
    {
     "name": "stdout",
     "output_type": "stream",
     "text": [
      "\n",
      "[Yes|No]\tyes\n",
      "Error during request to https://banana.com: HTTPSConnectionPool(host='banana.com', port=443): Max retries exceeded with url: / (Caused by ConnectTimeoutError(<urllib3.connection.VerifiedHTTPSConnection object at 0x7f57debf22d0>, 'Connection to banana.com timed out. (connect timeout=0.1)'))\n"
     ]
    },
    {
     "data": {
      "text/markdown": [
       "**We can increase response waiting time. Do you want to continue?**"
      ],
      "text/plain": [
       "<IPython.core.display.Markdown object>"
      ]
     },
     "metadata": {},
     "output_type": "display_data"
    },
    {
     "name": "stdout",
     "output_type": "stream",
     "text": [
      "\n",
      "[Yes|No]\tyes\n",
      "Error during request to https://banana.com: HTTPSConnectionPool(host='banana.com', port=443): Max retries exceeded with url: / (Caused by ConnectTimeoutError(<urllib3.connection.VerifiedHTTPSConnection object at 0x7f57dec10350>, 'Connection to banana.com timed out. (connect timeout=0.2)'))\n"
     ]
    },
    {
     "data": {
      "text/markdown": [
       "**We can increase response waiting time. Do you want to continue?**"
      ],
      "text/plain": [
       "<IPython.core.display.Markdown object>"
      ]
     },
     "metadata": {},
     "output_type": "display_data"
    },
    {
     "name": "stdout",
     "output_type": "stream",
     "text": [
      "\n",
      "[Yes|No]\tyes\n",
      "Error during request to https://banana.com: HTTPSConnectionPool(host='banana.com', port=443): Max retries exceeded with url: / (Caused by SSLError(SSLError(\"bad handshake: Error([('SSL routines', 'tls_process_server_certificate', 'certificate verify failed')])\")))\n"
     ]
    },
    {
     "data": {
      "text/markdown": [
       "**We can skip verification test. Do you want to continue?**"
      ],
      "text/plain": [
       "<IPython.core.display.Markdown object>"
      ]
     },
     "metadata": {},
     "output_type": "display_data"
    },
    {
     "name": "stdout",
     "output_type": "stream",
     "text": [
      "\n",
      "[Yes|No]\tno\n"
     ]
    }
   ],
   "source": [
    "adaptive.adaptive_scraping(url)"
   ]
  },
  {
   "cell_type": "code",
   "execution_count": 147,
   "metadata": {
    "collapsed": true
   },
   "outputs": [
    {
     "name": "stdout",
     "output_type": "stream",
     "text": [
      "Error during request to https://www.geographics.cz/: HTTPSConnectionPool(host='www.geographics.cz', port=443): Max retries exceeded with url: / (Caused by SSLError(SSLCertVerificationError(\"hostname 'www.geographics.cz' doesn't match either of '*.ebola.cz', 'ebola.cz'\")))\n"
     ]
    },
    {
     "data": {
      "text/markdown": [
       "**We can skip verification test. Do you want to continue?**"
      ],
      "text/plain": [
       "<IPython.core.display.Markdown object>"
      ]
     },
     "metadata": {},
     "output_type": "display_data"
    },
    {
     "name": "stdout",
     "output_type": "stream",
     "text": [
      "\n",
      "[Yes|No]\tyes\n",
      "Error during request to https://www.geographics.cz/: HTTPSConnectionPool(host='www.geographics.cz', port=443): Read timed out. (read timeout=0.05)\n"
     ]
    },
    {
     "data": {
      "text/markdown": [
       "**We can increase response waiting time. Do you want to continue?**"
      ],
      "text/plain": [
       "<IPython.core.display.Markdown object>"
      ]
     },
     "metadata": {},
     "output_type": "display_data"
    },
    {
     "name": "stdout",
     "output_type": "stream",
     "text": [
      "\n",
      "[Yes|No]\tyes\n",
      "Error during request to https://www.geographics.cz/: HTTPSConnectionPool(host='www.geographics.cz', port=443): Read timed out. (read timeout=0.1)\n"
     ]
    },
    {
     "data": {
      "text/markdown": [
       "**We can increase response waiting time. Do you want to continue?**"
      ],
      "text/plain": [
       "<IPython.core.display.Markdown object>"
      ]
     },
     "metadata": {},
     "output_type": "display_data"
    },
    {
     "name": "stdout",
     "output_type": "stream",
     "text": [
      "\n",
      "[Yes|No]\tyes\n",
      "<Response [200]>\n"
     ]
    },
    {
     "data": {
      "text/plain": [
       "b'<!DOCTYPE html>\\n<html lang=\"en-US\">\\n\\n<head>\\n\\t<meta http-equiv=\"Content-Type\" content=\"text/html; charset=UTF-8\" />\\n\\t<title>Geographics.cz </title>\\n\\t<meta name=\"viewport\" content=\"width=device-width, initial-scale = 1.0, maximum-scale=1.0, user-scalable=no\" />\\n\\t\\n\\t<link rel=\"stylesheet\" type=\"text/css\" href=\"wp-content/themes/custom/css/fonts.css\" />\\n\\t<link rel=\"stylesheet\" type=\"text/css\" href=\"wp-content/themes/custom/css/custom.css\" />\\n\\n\\t<link rel=\"stylesheet\" type=\"text/css\" href=\"http://fonts.googleapis.com/css?family=Droid+Sans:regular,bold\" />\\n\\t<link rel=\"stylesheet\" type=\"text/css\" href=\"http://fonts.googleapis.com/css?family=Droid+Serif:regular,bold\" />\\n\\t<link href=\\'http://fonts.googleapis.com/css?family=Source+Sans+Pro\\' rel=\\'stylesheet\\' type=\\'text/css\\'>\\n\\n\\t\\t\\t\\t\\t\\t\\n\\t\\t\\n\\t\\t\\t\\n\\t<link rel=\"stylesheet\" href=\"https://www.geographics.cz/wp-content/themes/herothemetrust-child/style.css\" type=\"text/css\" media=\"screen\" />\\n\\t<link rel=\"alternate\" type=\"application/rss+xml\" title=\"Geographics.cz RSS Feed\" href=\"https://www.geographics.cz/feed/\" />\\n\\t<link rel=\"alternate\" type=\"application/atom+xml\" title=\"Geographics.cz Atom Feed\" href=\"https://www.geographics.cz/feed/atom/\" />\\n\\t<link rel=\"pingback\" href=\"https://www.geographics.cz/xmlrpc.php\" />\\n\\t\\n\\t\\t\\t<link rel=\"shortcut icon\" href=\"http://www.geographics.cz/wp-content/uploads/favicon21.png\" />\\n\\t\\t\\n\\t\\t\\n\\t<link rel=\"alternate\" type=\"application/rss+xml\" title=\"Geographics.cz &raquo; Work Comments Feed\" href=\"https://www.geographics.cz/home-page/feed/\" />\\n\\t\\t<script type=\"text/javascript\">\\n\\t\\t\\twindow._wpemojiSettings = {\"baseUrl\":\"https:\\\\/\\\\/s.w.org\\\\/images\\\\/core\\\\/emoji\\\\/72x72\\\\/\",\"ext\":\".png\",\"source\":{\"concatemoji\":\"https:\\\\/\\\\/www.geographics.cz\\\\/wp-includes\\\\/js\\\\/wp-emoji-release.min.js?ver=4.3.24\"}};\\n\\t\\t\\t!function(a,b,c){function d(a){var c=b.createElement(\"canvas\"),d=c.getContext&&c.getContext(\"2d\");return d&&d.fillText?(d.textBaseline=\"top\",d.font=\"600 32px Arial\",\"flag\"===a?(d.fillText(String.fromCharCode(55356,56812,55356,56807),0,0),c.toDataURL().length>3e3):(d.fillText(String.fromCharCode(55357,56835),0,0),0!==d.getImageData(16,16,1,1).data[0])):!1}function e(a){var c=b.createElement(\"script\");c.src=a,c.type=\"text/javascript\",b.getElementsByTagName(\"head\")[0].appendChild(c)}var f,g;c.supports={simple:d(\"simple\"),flag:d(\"flag\")},c.DOMReady=!1,c.readyCallback=function(){c.DOMReady=!0},c.supports.simple&&c.supports.flag||(g=function(){c.readyCallback()},b.addEventListener?(b.addEventListener(\"DOMContentLoaded\",g,!1),a.addEventListener(\"load\",g,!1)):(a.attachEvent(\"onload\",g),b.attachEvent(\"onreadystatechange\",function(){\"complete\"===b.readyState&&c.readyCallback()})),f=c.source||{},f.concatemoji?e(f.concatemoji):f.wpemoji&&f.twemoji&&(e(f.twemoji),e(f.wpemoji)))}(window,document,window._wpemojiSettings);\\n\\t\\t</script>\\n\\t\\t<style type=\"text/css\">\\nimg.wp-smiley,\\nimg.emoji {\\n\\tdisplay: inline !important;\\n\\tborder: none !important;\\n\\tbox-shadow: none !important;\\n\\theight: 1em !important;\\n\\twidth: 1em !important;\\n\\tmargin: 0 .07em !important;\\n\\tvertical-align: -0.1em !important;\\n\\tbackground: none !important;\\n\\tpadding: 0 !important;\\n}\\n</style>\\n<link rel=\\'stylesheet\\' id=\\'superfish-css\\'  href=\\'https://www.geographics.cz/wp-content/themes/herothemetrust/css/superfish.css?ver=1.4.8\\' type=\\'text/css\\' media=\\'all\\' />\\n<link rel=\\'stylesheet\\' id=\\'slideshow-css\\'  href=\\'https://www.geographics.cz/wp-content/themes/herothemetrust/css/flexslider.css?ver=1.8\\' type=\\'text/css\\' media=\\'all\\' />\\n<script type=\\'text/javascript\\' src=\\'https://www.geographics.cz/wp-includes/js/jquery/jquery.js?ver=1.11.3\\'></script>\\n<script type=\\'text/javascript\\' src=\\'https://www.geographics.cz/wp-includes/js/jquery/jquery-migrate.min.js?ver=1.2.1\\'></script>\\n<meta name=\"generator\" content=\"WordPress 4.3.24\" />\\n<link rel=\\'canonical\\' href=\\'https://www.geographics.cz/\\' />\\n<link rel=\\'shortlink\\' href=\\'https://www.geographics.cz/\\' />\\n<meta name=\"generator\" content=\" \" />\\n\\n<style type=\"text/css\" media=\"screen\">\\n\\n\\n\\t#bannerText { top: 195px; }\\n\\n\\tblockquote, address {\\n\\t\\tborder-left: 5px solid #ccb676;\\n\\t}\\t\\n\\t#filterNav .selected, #filterNav a.selected:hover, #content .project.small .inside {\\n\\t\\tbackground-color: #ccb676;\\n\\t}\\t\\n\\n#mainNav ul a, #mainNav ul li.sfHover ul a { color: #8f8f8f !important;\\t}\\n\\t#mainNav ul li.current a,\\n\\t#mainNav ul li.current-cat a,\\n\\t#mainNav ul li.current_page_item a,\\n\\t#mainNav ul li.current-menu-item a,\\n\\t#mainNav ul li.current-post-ancestor a,\\t\\n\\t.single-post #mainNav ul li.current_page_parent a,\\n\\t#mainNav ul li.current-category-parent a,\\n\\t#mainNav ul li.current-category-ancestor a,\\n\\t#mainNav ul li.current-portfolio-ancestor a,\\n\\t#mainNav ul li.current-projects-ancestor a {\\n\\t\\tcolor: #2e2e2e !important;\\t\\t\\n\\t}\\n\\t#mainNav ul li.sfHover a,\\n\\t#mainNav ul li a:hover,\\n\\t#mainNav ul li:hover {\\n\\t\\tcolor: #2e2e2e !important;\\t\\n\\t}\\n\\t#mainNav ul li.sfHover ul a:hover { color: #2e2e2e !important;}\\t\\n\\na { color: #999999;}\\na:hover {color: #1B1B1B;}\\n.button, #searchsubmit, input[type=\"submit\"] {background-color: #757575 !important;}\\n.button:hover, #searchsubmit:hover, input[type=\"submit\"]:hover {background-color: #595959 !important;}\\n\\n\\t#homeBanner {\\n\\t\\tbackground-color: #787878;\\n\\t}\\t\\n\\n\\t#homeBanner {\\n\\t\\tbackground-image: url(http://www.geographics.cz/wp-content/uploads/hory_bw.jpg);\\t\\t\\n\\t\\tbackground-repeat:no-repeat;\\n\\t\\tbackground-attachment:fixed;\\n\\t\\tbackground-position:center top;\\t\\t\\t\\n\\t}\\n\\n\\n</style>\\n\\n<!--[if IE 7]>\\n<link rel=\"stylesheet\" href=\"https://www.geographics.cz/wp-content/themes/herothemetrust/css/ie7.css\" type=\"text/css\" media=\"screen\" />\\n<![endif]-->\\n<!--[if IE 8]>\\n<link rel=\"stylesheet\" href=\"https://www.geographics.cz/wp-content/themes/herothemetrust/css/ie8.css\" type=\"text/css\" media=\"screen\" />\\n<![endif]-->\\n<!--[if IE]><script src=\"http://html5shiv.googlecode.com/svn/trunk/html5.js\"></script><![endif]-->\\n\\n\\n\\n\\n\\t<style type=\"text/css\">.recentcomments a{display:inline !important;padding:0 !important;margin:0 !important;}</style>\\n\\t\\n</head>\\n\\n<body class=\"home page page-id-11 page-template page-template-page-home page-template-page-home-php \" >\\n\\n<div id=\"container\">\\t\\n<div id=\"header\">\\n\\t<div class=\"inside clearfix\">\\n\\t\\t\\t\\t\\t\\t\\t\\n\\t\\t\\t\\t<div id=\"logo\">\\n\\t\\t\\t\\t\\t\\t\\n\\t\\t\\t<h1 class=\"logo\"><a href=\"https://www.geographics.cz\"><img src=\"http://www.geographics.cz/wp-content/uploads/logo.png\" alt=\"Geographics.cz\" /></a></h1>\\n\\t\\t\\t\\n\\t\\t</div>\\n\\t\\t\\n\\t\\t<div id=\"mainNav\" class=\"clearfix\">\\t\\t\\t\\t\\t\\t\\t\\n\\t\\t\\t<div class=\"menu-menu-1-container\"><ul id=\"menu-menu-1\" class=\"sf-menu\"><li id=\"menu-item-468\" class=\"menu-item menu-item-type-post_type menu-item-object-page current-menu-item page_item page-item-11 current_page_item menu-item-468\"><a href=\"https://www.geographics.cz/\">Work</a></li>\\n<li id=\"menu-item-470\" class=\"menu-item menu-item-type-post_type menu-item-object-page menu-item-470\"><a href=\"https://www.geographics.cz/about/\">Contact</a></li>\\n</ul></div>\\t\\t\\t\\n\\t\\t</div>\\t\\t\\t\\n\\t</div>\\t\\n\\t\\t\\t\\n\\t\\t<div id=\"homeBanner\">\\t\\n\\t\\t\\t<div id=\"bannerText\">\\n\\t\\t\\t\\t<h2>We Design Information</h2>\\n\\t\\t\\t\\t<p></p>\\n\\t\\t\\t</div>\\t\\t\\n\\t\\t</div>\\t\\n\\t\\t\\n\\t\\t\\n</div>\\n\\n<div class=\"wrap\">\\n<div id=\"main\" class=\"clearfix\">\\n\\t<div id=\"content\" class=\"full grid\">\\n\\n\\t\\n<div id=\"projects\" class=\"full homeSection clearfix\">\\t\\t\\t\\n\\t<h3><span>Recent Projects</span></h3>\\t\\t\\n\\t\\t\\t\\n\\t\\t\\t\\t\\t\\n\\t<div class=\"thumbs clearfix\">\\t\\t\\t\\n\\t\\t\\t\\t\\t\\n\\t\\t\\t<div class=\"project small 11\" id=\"project-czech-crime\">\\n\\t<div class=\"inside\">\\n\\t<a href=\"https://www.geographics.cz/project/czech-crime/\" rel=\"bookmark\" >\\t\\n\\t\\t<img width=\"300\" height=\"175\" src=\"https://www.geographics.cz/wp-content/uploads/06_krimi1-300x175.jpg\" class=\"thumb wp-post-image\" alt=\"Czech Crime\" title=\"Czech Crime\" />\\t\\t<span class=\"title\"><span>Czech Crime</span></span>\\n\\t</a>\\n\\t</div>\\t\\t\\t\\t\\t\\t\\t\\t\\t\\t\\t\\t\\t\\t\\t\\t\\t\\t\\t\\t\\t\\t\\t\\t\\t\\t\\t\\t\\t\\t\\t\\t\\n</div>\\t\\t\\t\\t\\t\\n\\t\\t\\t<div class=\"project small 11\" id=\"project-hic-sunt-leones\">\\n\\t<div class=\"inside\">\\n\\t<a href=\"https://www.geographics.cz/project/hic-sunt-leones/\" rel=\"bookmark\" >\\t\\n\\t\\t<img width=\"300\" height=\"175\" src=\"https://www.geographics.cz/wp-content/uploads/07_leones-300x175.jpg\" class=\"thumb wp-post-image\" alt=\"Hic Sunt Leones\" title=\"Hic Sunt Leones\" />\\t\\t<span class=\"title\"><span>Hic Sunt Leones</span></span>\\n\\t</a>\\n\\t</div>\\t\\t\\t\\t\\t\\t\\t\\t\\t\\t\\t\\t\\t\\t\\t\\t\\t\\t\\t\\t\\t\\t\\t\\t\\t\\t\\t\\t\\t\\t\\t\\t\\n</div>\\t\\t\\t\\t\\t\\n\\t\\t\\t<div class=\"project small 11\" id=\"project-nacis\">\\n\\t<div class=\"inside\">\\n\\t<a href=\"https://www.geographics.cz/project/nacis/\" rel=\"bookmark\" >\\t\\n\\t\\t<img width=\"300\" height=\"175\" src=\"https://www.geographics.cz/wp-content/uploads/09_nacis-300x175.jpg\" class=\"thumb wp-post-image\" alt=\"NACIS\" title=\"NACIS\" />\\t\\t<span class=\"title\"><span>NACIS</span></span>\\n\\t</a>\\n\\t</div>\\t\\t\\t\\t\\t\\t\\t\\t\\t\\t\\t\\t\\t\\t\\t\\t\\t\\t\\t\\t\\t\\t\\t\\t\\t\\t\\t\\t\\t\\t\\t\\t\\n</div>\\t\\t\\t\\t\\t\\n\\t\\t\\t<div class=\"project small 11\" id=\"project-invisible-night-sky\">\\n\\t<div class=\"inside\">\\n\\t<a href=\"https://www.geographics.cz/project/invisible-night-sky/\" rel=\"bookmark\" >\\t\\n\\t\\t<img width=\"300\" height=\"175\" src=\"https://www.geographics.cz/wp-content/uploads/08_nightsky-300x175.jpg\" class=\"thumb wp-post-image\" alt=\"(In)Visible Night Sky\" title=\"(In)Visible Night Sky\" />\\t\\t<span class=\"title\"><span>(In)Visible Night Sky</span></span>\\n\\t</a>\\n\\t</div>\\t\\t\\t\\t\\t\\t\\t\\t\\t\\t\\t\\t\\t\\t\\t\\t\\t\\t\\t\\t\\t\\t\\t\\t\\t\\t\\t\\t\\t\\t\\t\\t\\n</div>\\t\\t\\t\\t\\t\\n\\t\\t\\t<div class=\"project small 11\" id=\"project-world-of-religion\">\\n\\t<div class=\"inside\">\\n\\t<a href=\"https://www.geographics.cz/project/world-of-religion/\" rel=\"bookmark\" >\\t\\n\\t\\t<img width=\"300\" height=\"175\" src=\"https://www.geographics.cz/wp-content/uploads/04_relig-300x175.jpg\" class=\"thumb wp-post-image\" alt=\"World of Religions\" title=\"World of Religions\" />\\t\\t<span class=\"title\"><span>World of Religions</span></span>\\n\\t</a>\\n\\t</div>\\t\\t\\t\\t\\t\\t\\t\\t\\t\\t\\t\\t\\t\\t\\t\\t\\t\\t\\t\\t\\t\\t\\t\\t\\t\\t\\t\\t\\t\\t\\t\\t\\n</div>\\t\\t\\t\\t\\t\\n\\t\\t\\t<div class=\"project small 11\" id=\"project-largest-cities\">\\n\\t<div class=\"inside\">\\n\\t<a href=\"https://www.geographics.cz/project/largest-cities/\" rel=\"bookmark\" >\\t\\n\\t\\t<img width=\"300\" height=\"175\" src=\"https://www.geographics.cz/wp-content/uploads/05_urban-300x175.jpg\" class=\"thumb wp-post-image\" alt=\"Largest Cities\" title=\"Largest Cities\" />\\t\\t<span class=\"title\"><span>Largest Cities</span></span>\\n\\t</a>\\n\\t</div>\\t\\t\\t\\t\\t\\t\\t\\t\\t\\t\\t\\t\\t\\t\\t\\t\\t\\t\\t\\t\\t\\t\\t\\t\\t\\t\\t\\t\\t\\t\\t\\t\\n</div>\\t\\t\\t\\t\\t\\n\\t\\t\\t<div class=\"project small 11\" id=\"project-european-pie\">\\n\\t<div class=\"inside\">\\n\\t<a href=\"https://www.geographics.cz/project/european-pie/\" rel=\"bookmark\" >\\t\\n\\t\\t<img width=\"300\" height=\"175\" src=\"https://www.geographics.cz/wp-content/uploads/03_europe-300x175.jpg\" class=\"thumb wp-post-image\" alt=\"European Pie\" title=\"European Pie\" />\\t\\t<span class=\"title\"><span>European Pie</span></span>\\n\\t</a>\\n\\t</div>\\t\\t\\t\\t\\t\\t\\t\\t\\t\\t\\t\\t\\t\\t\\t\\t\\t\\t\\t\\t\\t\\t\\t\\t\\t\\t\\t\\t\\t\\t\\t\\t\\n</div>\\t\\t\\t\\t\\t\\n\\t\\t\\t<div class=\"project small 11\" id=\"project-placebook\">\\n\\t<div class=\"inside\">\\n\\t<a href=\"https://www.geographics.cz/project/placebook/\" rel=\"bookmark\" >\\t\\n\\t\\t<img width=\"300\" height=\"175\" src=\"https://www.geographics.cz/wp-content/uploads/02_placebook-300x175.jpg\" class=\"thumb wp-post-image\" alt=\"Placebook\" title=\"Placebook\" />\\t\\t<span class=\"title\"><span>Placebook</span></span>\\n\\t</a>\\n\\t</div>\\t\\t\\t\\t\\t\\t\\t\\t\\t\\t\\t\\t\\t\\t\\t\\t\\t\\t\\t\\t\\t\\t\\t\\t\\t\\t\\t\\t\\t\\t\\t\\t\\n</div>\\t\\t\\t\\t\\t\\n\\t\\t\\t<div class=\"project small 11\" id=\"project-family-budget\">\\n\\t<div class=\"inside\">\\n\\t<a href=\"https://www.geographics.cz/project/family-budget/\" rel=\"bookmark\" >\\t\\n\\t\\t<img width=\"300\" height=\"175\" src=\"https://www.geographics.cz/wp-content/uploads/01_opendata-300x175.jpg\" class=\"thumb wp-post-image\" alt=\"Family Budget\" title=\"Family Budget\" />\\t\\t<span class=\"title\"><span>Family Budget</span></span>\\n\\t</a>\\n\\t</div>\\t\\t\\t\\t\\t\\t\\t\\t\\t\\t\\t\\t\\t\\t\\t\\t\\t\\t\\t\\t\\t\\t\\t\\t\\t\\t\\t\\t\\t\\t\\t\\t\\n</div>\\t\\t\\t\\t\\t\\t\\n\\t</div>\\n</div>\\n\\n<div id=\"featuredPages\" class=\"full homeSection clearfix\">\\t\\t\\t\\n\\t<h3><span>Our Services</span></h3>\\t\\t\\n\\t\\t<div class=\"thumbs3 clearfix\">\\n\\t\\t\\t\\t    \\n\\t\\t<div class=\"small post-50 page type-page status-publish has-post-thumbnail hentry\">\\t\\n\\t\\t\\t<div class=\"thumb\" href=\"https://www.geographics.cz/cartography/\" rel=\"bookmark\" ><img width=\"166\" height=\"166\" src=\"https://www.geographics.cz/wp-content/uploads/icon-data.png\" class=\"thumb wp-post-image\" alt=\"Data visualization\" title=\"Data visualization\" /></div>\\t\\t\\t\\n\\t\\t\\t<h2>Data visualization</h2>\\t\\t\\t\\n\\t\\t\\t\\n\\t\\t\\t<p>Have some interesting data trapped in a spreadsheet or database? It&#8217;s a shame to keep them hidden from the world. Let us help you to make your data speak and set them free.</p>\\n\\t\\t\\t\\t\\t\\n\\t\\t</div>\\n\\t\\t\\t\\t    \\n\\t\\t<div class=\"small post-48 page type-page status-publish has-post-thumbnail hentry\">\\t\\n\\t\\t\\t<div class=\"thumb\" href=\"https://www.geographics.cz/information-design/\" rel=\"bookmark\" ><img width=\"166\" height=\"166\" src=\"https://www.geographics.cz/wp-content/uploads/information_design1.png\" class=\"thumb wp-post-image\" alt=\"Information design\" title=\"Information design\" /></div>\\t\\t\\t\\n\\t\\t\\t<h2>Information design</h2>\\t\\t\\t\\n\\t\\t\\t\\n\\t\\t\\t<p>Telling a story but the key message just does not make it through the good old PowerPoint slides? Move few leaps further and let us retell your story in a beautiful and meaningful way.</p>\\n\\t\\t\\t\\t\\t\\n\\t\\t</div>\\n\\t\\t\\t\\t    \\n\\t\\t<div class=\"small post-46 page type-page status-publish has-post-thumbnail hentry\">\\t\\n\\t\\t\\t<div class=\"thumb\" href=\"https://www.geographics.cz/data-visualization/\" rel=\"bookmark\" ><img width=\"166\" height=\"166\" src=\"https://www.geographics.cz/wp-content/uploads/icon-map.png\" class=\"thumb wp-post-image\" alt=\"Cartography\" title=\"Cartography\" /></div>\\t\\t\\t\\n\\t\\t\\t<h2>Cartography</h2>\\t\\t\\t\\n\\t\\t\\t\\n\\t\\t\\t<p>Need to deal with a problem so complex that you just don&#8217;t know where to start? Have you tried putting it on a map? We love maps and we&#8217;re gonna make you love them too.</p>\\n\\t\\t\\t\\t\\t\\n\\t\\t</div>\\n\\t\\t\\t</div>\\n</div>\\n\\n</div>\\n\\n\\t</div>\\n\\t</div>\\t\\n</div>\\n\\t<div id=\"footer\" >\\n\\t\\t<div class=\"inside\">\\t\\t\\n\\t\\t\\t<div class=\"main clearfix\">\\n\\t\\t\\t\\t<div class=\"right\"><a href=\"mailto:hello@geographics.cz\" title=\"hello@geographics.cz\">hello@geographics.cz</a></div>\\t\\t\\t\\n\\t\\t\\t</div><!-- end footer secondary-->\\t\\t\\n\\t\\t</div><!-- end footer inside-->\\t\\t\\n\\t</div><!-- end footer -->\\n\\t<script type=\"text/javascript\">\\nWebFontConfig = { fontdeck: { id: \\'50558\\' } };\\n\\n(function() {\\n  var wf = document.createElement(\\'script\\');\\n  wf.src = (\\'https:\\' == document.location.protocol ? \\'https\\' : \\'http\\') +\\n  \\'://ajax.googleapis.com/ajax/libs/webfont/1/webfont.js\\';\\n  wf.type = \\'text/javascript\\';\\n  wf.async = \\'true\\';\\n  var s = document.getElementsByTagName(\\'script\\')[0];\\n  s.parentNode.insertBefore(wf, s);\\n})();\\n</script>\\n<script>\\n  (function(i,s,o,g,r,a,m){i[\\'GoogleAnalyticsObject\\']=r;i[r]=i[r]||function(){\\n  (i[r].q=i[r].q||[]).push(arguments)},i[r].l=1*new Date();a=s.createElement(o),\\n  m=s.getElementsByTagName(o)[0];a.async=1;a.src=g;m.parentNode.insertBefore(a,m)\\n  })(window,document,\\'script\\',\\'//www.google-analytics.com/analytics.js\\',\\'ga\\');\\n\\n  ga(\\'create\\', \\'UA-4625786-2\\', \\'auto\\');\\n  ga(\\'send\\', \\'pageview\\');\\n\\n</script>\\n<script type=\\'text/javascript\\' src=\\'https://www.geographics.cz/wp-includes/js/comment-reply.min.js?ver=4.3.24\\'></script>\\n<script type=\\'text/javascript\\' src=\\'https://www.geographics.cz/wp-content/themes/herothemetrust/js/superfish.js?ver=1.4.8\\'></script>\\n<script type=\\'text/javascript\\' src=\\'https://www.geographics.cz/wp-content/themes/herothemetrust/js/jquery.fitvids.js?ver=1.0\\'></script>\\n<script type=\\'text/javascript\\' src=\\'https://www.geographics.cz/wp-content/themes/herothemetrust/js/jquery.fittext.js?ver=1.0\\'></script>\\n<script type=\\'text/javascript\\' src=\\'https://www.geographics.cz/wp-content/themes/herothemetrust/js/jquery.flexslider-min.js?ver=1.8\\'></script>\\n<script type=\\'text/javascript\\' src=\\'https://www.geographics.cz/wp-content/themes/herothemetrust/js/theme_trust.js?ver=1.0\\'></script>\\n</body>\\n</html>\\n\\n\\t'"
      ]
     },
     "execution_count": 147,
     "metadata": {},
     "output_type": "execute_result"
    }
   ],
   "source": [
    "url='https://www.geographics.cz/'\n",
    "adaptive_scraping(url)"
   ]
  },
  {
   "cell_type": "code",
   "execution_count": 151,
   "metadata": {},
   "outputs": [
    {
     "name": "stdout",
     "output_type": "stream",
     "text": [
      "Error during request to https://banana.com: HTTPSConnectionPool(host='banana.com', port=443): Max retries exceeded with url: / (Caused by ConnectTimeoutError(<urllib3.connection.VerifiedHTTPSConnection object at 0x7f57debf6690>, 'Connection to banana.com timed out. (connect timeout=0.05)'))\n"
     ]
    },
    {
     "data": {
      "text/markdown": [
       "**We can increase response waiting time. Do you want to continue?**"
      ],
      "text/plain": [
       "<IPython.core.display.Markdown object>"
      ]
     },
     "metadata": {},
     "output_type": "display_data"
    },
    {
     "name": "stdout",
     "output_type": "stream",
     "text": [
      "\n",
      "[Yes|No]\tyes\n",
      "Error during request to https://banana.com: HTTPSConnectionPool(host='banana.com', port=443): Max retries exceeded with url: / (Caused by ConnectTimeoutError(<urllib3.connection.VerifiedHTTPSConnection object at 0x7f57deffef50>, 'Connection to banana.com timed out. (connect timeout=0.1)'))\n"
     ]
    },
    {
     "data": {
      "text/markdown": [
       "**We can increase response waiting time. Do you want to continue?**"
      ],
      "text/plain": [
       "<IPython.core.display.Markdown object>"
      ]
     },
     "metadata": {},
     "output_type": "display_data"
    },
    {
     "name": "stdout",
     "output_type": "stream",
     "text": [
      "\n",
      "[Yes|No]\tyes\n",
      "Error during request to https://banana.com: HTTPSConnectionPool(host='banana.com', port=443): Max retries exceeded with url: / (Caused by ConnectTimeoutError(<urllib3.connection.VerifiedHTTPSConnection object at 0x7f57dec08b50>, 'Connection to banana.com timed out. (connect timeout=0.2)'))\n"
     ]
    },
    {
     "data": {
      "text/markdown": [
       "**We can increase response waiting time. Do you want to continue?**"
      ],
      "text/plain": [
       "<IPython.core.display.Markdown object>"
      ]
     },
     "metadata": {},
     "output_type": "display_data"
    },
    {
     "name": "stdout",
     "output_type": "stream",
     "text": [
      "\n",
      "[Yes|No]\tyes\n",
      "Error during request to https://banana.com: HTTPSConnectionPool(host='banana.com', port=443): Max retries exceeded with url: / (Caused by SSLError(SSLError(\"bad handshake: Error([('SSL routines', 'tls_process_server_certificate', 'certificate verify failed')])\")))\n"
     ]
    },
    {
     "data": {
      "text/markdown": [
       "**We can skip verification test. Do you want to continue?**"
      ],
      "text/plain": [
       "<IPython.core.display.Markdown object>"
      ]
     },
     "metadata": {},
     "output_type": "display_data"
    },
    {
     "name": "stdout",
     "output_type": "stream",
     "text": [
      "\n",
      "[Yes|No]\tyes\n",
      "<Response [404]>\n",
      "request has failed due to you mistake bro. Check the link, headers, server and whether you have an access to this page.\n"
     ]
    }
   ],
   "source": [
    "url='https://banana.com'\n",
    "adaptive_scraping(url)"
   ]
  },
  {
   "cell_type": "code",
   "execution_count": null,
   "metadata": {},
   "outputs": [],
   "source": []
  }
 ],
 "metadata": {
  "kernelspec": {
   "display_name": "Python 3",
   "language": "python",
   "name": "python3"
  },
  "language_info": {
   "codemirror_mode": {
    "name": "ipython",
    "version": 3
   },
   "file_extension": ".py",
   "mimetype": "text/x-python",
   "name": "python",
   "nbconvert_exporter": "python",
   "pygments_lexer": "ipython3",
   "version": "3.7.6"
  },
  "toc": {
   "base_numbering": 1,
   "nav_menu": {},
   "number_sections": true,
   "sideBar": true,
   "skip_h1_title": false,
   "title_cell": "Table of Contents",
   "title_sidebar": "Contents",
   "toc_cell": true,
   "toc_position": {},
   "toc_section_display": true,
   "toc_window_display": false
  }
 },
 "nbformat": 4,
 "nbformat_minor": 4
}
