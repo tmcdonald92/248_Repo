{
 "cells": [
  {
   "cell_type": "markdown",
   "metadata": {},
   "source": [
    "# Functional Programming"
   ]
  },
  {
   "cell_type": "markdown",
   "metadata": {},
   "source": [
    "```python\n",
    "def function_name(mandatory_argument1,mandatory_argument2,optional_argument1=default_value,optional_argument2=default_value):\n",
    "    the body of your function\n",
    "    return something\n",
    "```"
   ]
  },
  {
   "cell_type": "code",
   "execution_count": 1,
   "metadata": {},
   "outputs": [],
   "source": [
    "def foo():\n",
    "    pass"
   ]
  },
  {
   "cell_type": "code",
   "execution_count": 2,
   "metadata": {},
   "outputs": [],
   "source": [
    "foo()"
   ]
  },
  {
   "cell_type": "code",
   "execution_count": 3,
   "metadata": {},
   "outputs": [],
   "source": [
    "def foo():\n",
    "    return 'something'"
   ]
  },
  {
   "cell_type": "code",
   "execution_count": 4,
   "metadata": {},
   "outputs": [
    {
     "data": {
      "text/plain": [
       "'something'"
      ]
     },
     "execution_count": 4,
     "metadata": {},
     "output_type": "execute_result"
    }
   ],
   "source": [
    "foo()"
   ]
  },
  {
   "cell_type": "code",
   "execution_count": 5,
   "metadata": {},
   "outputs": [],
   "source": [
    "x=foo()"
   ]
  },
  {
   "cell_type": "code",
   "execution_count": 6,
   "metadata": {},
   "outputs": [
    {
     "data": {
      "text/plain": [
       "'something'"
      ]
     },
     "execution_count": 6,
     "metadata": {},
     "output_type": "execute_result"
    }
   ],
   "source": [
    "x"
   ]
  },
  {
   "cell_type": "code",
   "execution_count": 7,
   "metadata": {},
   "outputs": [],
   "source": [
    "def foo():\n",
    "    print('something')"
   ]
  },
  {
   "cell_type": "code",
   "execution_count": 8,
   "metadata": {},
   "outputs": [
    {
     "name": "stdout",
     "output_type": "stream",
     "text": [
      "something\n"
     ]
    }
   ],
   "source": [
    "foo()"
   ]
  },
  {
   "cell_type": "code",
   "execution_count": 9,
   "metadata": {},
   "outputs": [
    {
     "name": "stdout",
     "output_type": "stream",
     "text": [
      "something\n"
     ]
    }
   ],
   "source": [
    "x=foo()"
   ]
  },
  {
   "cell_type": "code",
   "execution_count": 10,
   "metadata": {},
   "outputs": [],
   "source": [
    "x"
   ]
  },
  {
   "cell_type": "code",
   "execution_count": 11,
   "metadata": {},
   "outputs": [],
   "source": [
    "def power(x,order):\n",
    "    return x**order"
   ]
  },
  {
   "cell_type": "code",
   "execution_count": 14,
   "metadata": {},
   "outputs": [
    {
     "data": {
      "text/plain": [
       "27"
      ]
     },
     "execution_count": 14,
     "metadata": {},
     "output_type": "execute_result"
    }
   ],
   "source": [
    "power(3,3)"
   ]
  },
  {
   "cell_type": "code",
   "execution_count": 15,
   "metadata": {},
   "outputs": [],
   "source": [
    "def power(x,order=2):\n",
    "    return x**order"
   ]
  },
  {
   "cell_type": "code",
   "execution_count": 16,
   "metadata": {},
   "outputs": [
    {
     "data": {
      "text/plain": [
       "36"
      ]
     },
     "execution_count": 16,
     "metadata": {},
     "output_type": "execute_result"
    }
   ],
   "source": [
    "power(6)"
   ]
  },
  {
   "cell_type": "code",
   "execution_count": 17,
   "metadata": {},
   "outputs": [
    {
     "data": {
      "text/plain": [
       "1296"
      ]
     },
     "execution_count": 17,
     "metadata": {},
     "output_type": "execute_result"
    }
   ],
   "source": [
    "power(6,4)"
   ]
  },
  {
   "cell_type": "code",
   "execution_count": 18,
   "metadata": {},
   "outputs": [],
   "source": [
    "def foo(x,a=2,b=3):\n",
    "    return x**a+b"
   ]
  },
  {
   "cell_type": "code",
   "execution_count": 19,
   "metadata": {},
   "outputs": [
    {
     "data": {
      "text/plain": [
       "19"
      ]
     },
     "execution_count": 19,
     "metadata": {},
     "output_type": "execute_result"
    }
   ],
   "source": [
    "foo(4)"
   ]
  },
  {
   "cell_type": "code",
   "execution_count": 20,
   "metadata": {},
   "outputs": [
    {
     "data": {
      "text/plain": [
       "7"
      ]
     },
     "execution_count": 20,
     "metadata": {},
     "output_type": "execute_result"
    }
   ],
   "source": [
    "foo(4,1)"
   ]
  },
  {
   "cell_type": "code",
   "execution_count": 21,
   "metadata": {},
   "outputs": [
    {
     "data": {
      "text/plain": [
       "5"
      ]
     },
     "execution_count": 21,
     "metadata": {},
     "output_type": "execute_result"
    }
   ],
   "source": [
    "foo(4,1,1)"
   ]
  },
  {
   "cell_type": "code",
   "execution_count": 22,
   "metadata": {},
   "outputs": [
    {
     "ename": "SyntaxError",
     "evalue": "invalid syntax (<ipython-input-22-60678a060e0b>, line 1)",
     "output_type": "error",
     "traceback": [
      "\u001b[1;36m  File \u001b[1;32m\"<ipython-input-22-60678a060e0b>\"\u001b[1;36m, line \u001b[1;32m1\u001b[0m\n\u001b[1;33m    foo(4,,3)\u001b[0m\n\u001b[1;37m          ^\u001b[0m\n\u001b[1;31mSyntaxError\u001b[0m\u001b[1;31m:\u001b[0m invalid syntax\n"
     ]
    }
   ],
   "source": [
    "foo(4,,3)"
   ]
  },
  {
   "cell_type": "code",
   "execution_count": 24,
   "metadata": {},
   "outputs": [
    {
     "data": {
      "text/plain": [
       "21"
      ]
     },
     "execution_count": 24,
     "metadata": {},
     "output_type": "execute_result"
    }
   ],
   "source": [
    "foo(4,b=5)"
   ]
  },
  {
   "cell_type": "code",
   "execution_count": 25,
   "metadata": {},
   "outputs": [
    {
     "data": {
      "text/plain": [
       "6"
      ]
     },
     "execution_count": 25,
     "metadata": {},
     "output_type": "execute_result"
    }
   ],
   "source": [
    "foo(b=5,a=4,x=1)"
   ]
  },
  {
   "cell_type": "code",
   "execution_count": 27,
   "metadata": {},
   "outputs": [],
   "source": [
    "?len"
   ]
  },
  {
   "cell_type": "code",
   "execution_count": 28,
   "metadata": {},
   "outputs": [],
   "source": [
    "?foo"
   ]
  },
  {
   "cell_type": "code",
   "execution_count": 29,
   "metadata": {},
   "outputs": [],
   "source": [
    "def power(X,order=2):\n",
    "    \n",
    "    \"\"\"\n",
    "    This function is calculating the value of a X^order.\n",
    "    Default value of order is 2.\n",
    "    \n",
    "    X - integer/float\n",
    "    power - integer/float\n",
    "    \"\"\"\n",
    "    \n",
    "    return X**order"
   ]
  },
  {
   "cell_type": "code",
   "execution_count": 30,
   "metadata": {},
   "outputs": [
    {
     "data": {
      "text/plain": [
       "441"
      ]
     },
     "execution_count": 30,
     "metadata": {},
     "output_type": "execute_result"
    }
   ],
   "source": [
    "power(21)"
   ]
  },
  {
   "cell_type": "code",
   "execution_count": 31,
   "metadata": {},
   "outputs": [],
   "source": [
    "?power"
   ]
  },
  {
   "cell_type": "markdown",
   "metadata": {},
   "source": [
    "# Programming paradigmas"
   ]
  },
  {
   "cell_type": "markdown",
   "metadata": {},
   "source": [
    "- Imperative\n",
    "    - Procedural\n",
    "    - OOP\n",
    "- Declarative\n",
    "    - Functional\n",
    "    - OOP"
   ]
  },
  {
   "cell_type": "markdown",
   "metadata": {},
   "source": [
    "## Imperative Programming\n",
    "\n",
    "Example:\n",
    "\n",
    "In a medium bowl, beat eggs until no whites remain, then season with salt, pepper, and a pinch red pepper flakes.  \n",
    "In a medium non-stick skillet over medium heat, melt butter. Pour in eggs and tilt pan so eggs fully cover the entire pan. As eggs start to set, use a rubber spatula to drag cooked edges into center of pan. Tilt pan to let uncooked egg fall to the edge of the pan.  \n",
    "Once the bottom is set, but top is still a little wet, sprinkle cheese and chives on one half of omelet. Fold other side over cheese and slide omelet onto a plate."
   ]
  },
  {
   "cell_type": "code",
   "execution_count": 32,
   "metadata": {},
   "outputs": [
    {
     "name": "stdout",
     "output_type": "stream",
     "text": [
      "8\n"
     ]
    }
   ],
   "source": [
    "word = 'computer'\n",
    "length = 0\n",
    "\n",
    "for i in word:\n",
    "    length+=1\n",
    "print(length)"
   ]
  },
  {
   "cell_type": "code",
   "execution_count": 33,
   "metadata": {},
   "outputs": [
    {
     "ename": "IndentationError",
     "evalue": "unexpected indent (<ipython-input-33-95135411ec10>, line 3)",
     "output_type": "error",
     "traceback": [
      "\u001b[1;36m  File \u001b[1;32m\"<ipython-input-33-95135411ec10>\"\u001b[1;36m, line \u001b[1;32m3\u001b[0m\n\u001b[1;33m    length+=1\u001b[0m\n\u001b[1;37m    ^\u001b[0m\n\u001b[1;31mIndentationError\u001b[0m\u001b[1;31m:\u001b[0m unexpected indent\n"
     ]
    }
   ],
   "source": [
    "word = 'computer'\n",
    "length = 0\n",
    "    length+=1\n",
    "for i in word:\n",
    "\n",
    "print(length)"
   ]
  },
  {
   "cell_type": "code",
   "execution_count": 2,
   "metadata": {},
   "outputs": [
    {
     "name": "stdout",
     "output_type": "stream",
     "text": [
      "8\n"
     ]
    }
   ],
   "source": [
    "word = 'computer'\n",
    "length = 0\n",
    "\n",
    "for i in word:\n",
    "    length+=1\n",
    "print(length)"
   ]
  },
  {
   "cell_type": "code",
   "execution_count": 3,
   "metadata": {},
   "outputs": [
    {
     "name": "stdout",
     "output_type": "stream",
     "text": [
      "6\n"
     ]
    }
   ],
   "source": [
    "word='laptop'\n",
    "length = 0\n",
    "\n",
    "for i in word:\n",
    "    length+=1\n",
    "print(length)"
   ]
  },
  {
   "cell_type": "code",
   "execution_count": 4,
   "metadata": {},
   "outputs": [
    {
     "name": "stdout",
     "output_type": "stream",
     "text": [
      "4\n"
     ]
    }
   ],
   "source": [
    "word='word'\n",
    "length = 0\n",
    "\n",
    "for i in word:\n",
    "    length+=1\n",
    "print(length)"
   ]
  },
  {
   "cell_type": "markdown",
   "metadata": {},
   "source": [
    "<img src='https://camo.githubusercontent.com/ead4a8eb203672f60f9e5614e3a155124768ba61/68747470733a2f2f75706c6f61642e77696b696d656469612e6f72672f77696b6970656469612f636f6d6d6f6e732f7468756d622f622f62312f4b6f70696d697a6d2e7376672f32323070782d4b6f70696d697a6d2e7376672e706e67'>"
   ]
  },
  {
   "cell_type": "markdown",
   "metadata": {},
   "source": [
    "## Declarative Programming"
   ]
  },
  {
   "cell_type": "code",
   "execution_count": 5,
   "metadata": {
    "code_folding": [
     0
    ]
   },
   "outputs": [],
   "source": [
    "def func(x,y):\n",
    "    return 'boo'"
   ]
  },
  {
   "cell_type": "code",
   "execution_count": 8,
   "metadata": {},
   "outputs": [],
   "source": [
    "def length_of_the_word(word):\n",
    "    length = 0\n",
    "\n",
    "    for i in word:\n",
    "        length+=1\n",
    "    return length"
   ]
  },
  {
   "cell_type": "code",
   "execution_count": 9,
   "metadata": {},
   "outputs": [
    {
     "data": {
      "text/plain": [
       "6"
      ]
     },
     "execution_count": 9,
     "metadata": {},
     "output_type": "execute_result"
    }
   ],
   "source": [
    "length_of_the_word('blaaaa')"
   ]
  },
  {
   "cell_type": "code",
   "execution_count": 10,
   "metadata": {},
   "outputs": [
    {
     "data": {
      "text/plain": [
       "5"
      ]
     },
     "execution_count": 10,
     "metadata": {},
     "output_type": "execute_result"
    }
   ],
   "source": [
    "length_of_the_word('Barak')"
   ]
  },
  {
   "cell_type": "markdown",
   "metadata": {},
   "source": [
    "# Scrooge's Phone"
   ]
  },
  {
   "cell_type": "markdown",
   "metadata": {},
   "source": [
    "## Functional programming"
   ]
  },
  {
   "cell_type": "code",
   "execution_count": 11,
   "metadata": {},
   "outputs": [],
   "source": [
    "# List of attributes\n",
    "\n",
    "contact_list={'Huey':33761111111, 'Dewey':3376222222,'Louie':33763333333}\n",
    "received_calls=[]\n",
    "made_calls=[]\n",
    "received_sms={}\n",
    "sent_sms={}\n",
    "library_of_photos=[]"
   ]
  },
  {
   "cell_type": "code",
   "execution_count": 22,
   "metadata": {},
   "outputs": [],
   "source": [
    "# List of functions for our phone\n",
    "\n",
    "def add_contact(name, number, contact_list=contact_list):\n",
    "    if name in contact_list.keys():\n",
    "        print('Sorry, this name is already occupied. Please Choose a different name')\n",
    "    else:\n",
    "        contact_list[name]=number\n",
    "    return contact_list"
   ]
  },
  {
   "cell_type": "code",
   "execution_count": 23,
   "metadata": {},
   "outputs": [
    {
     "name": "stdout",
     "output_type": "stream",
     "text": [
      "{'Huey': 33761111111, 'Dewey': 3376222222, 'Louie': 33763333333}\n",
      "{'Huey': 33761111111, 'Dewey': 3376222222, 'Louie': 33763333333, 'Launchpad McQuack': 33764444444}\n"
     ]
    }
   ],
   "source": [
    "print(contact_list)\n",
    "contact_list=add_contact('Launchpad McQuack', 33764444444)\n",
    "print(contact_list)"
   ]
  },
  {
   "cell_type": "code",
   "execution_count": 24,
   "metadata": {},
   "outputs": [
    {
     "name": "stdout",
     "output_type": "stream",
     "text": [
      "Sorry, this name is already occupied. Please Choose a different name\n",
      "{'Huey': 33761111111, 'Dewey': 3376222222, 'Louie': 33763333333, 'Launchpad McQuack': 33764444444}\n"
     ]
    }
   ],
   "source": [
    "contact_list=add_contact('Launchpad McQuack', 33764444444)\n",
    "print(contact_list)"
   ]
  },
  {
   "cell_type": "code",
   "execution_count": 25,
   "metadata": {},
   "outputs": [],
   "source": [
    "def unfriend(name, contact_list=contact_list):\n",
    "    if name in contact_list:\n",
    "        del contact_list[name]\n",
    "    else:\n",
    "        print('Sorry, you don\\'t know this person. I can\\'t perform the operation')\n",
    "    return contact_list"
   ]
  },
  {
   "cell_type": "code",
   "execution_count": 26,
   "metadata": {},
   "outputs": [
    {
     "name": "stdout",
     "output_type": "stream",
     "text": [
      "{'Huey': 33761111111, 'Dewey': 3376222222, 'Louie': 33763333333, 'Launchpad McQuack': 33764444444}\n"
     ]
    }
   ],
   "source": [
    "print(contact_list)\n",
    "contact_list=unfriend('Launchpad McQuack')"
   ]
  },
  {
   "cell_type": "code",
   "execution_count": 27,
   "metadata": {},
   "outputs": [
    {
     "name": "stdout",
     "output_type": "stream",
     "text": [
      "{'Huey': 33761111111, 'Dewey': 3376222222, 'Louie': 33763333333}\n"
     ]
    }
   ],
   "source": [
    "print(contact_list)"
   ]
  },
  {
   "cell_type": "code",
   "execution_count": 28,
   "metadata": {},
   "outputs": [
    {
     "name": "stdout",
     "output_type": "stream",
     "text": [
      "Sorry, you don't know this person. I can't perform the operation\n",
      "{'Huey': 33761111111, 'Dewey': 3376222222, 'Louie': 33763333333}\n"
     ]
    }
   ],
   "source": [
    "contact_list=unfriend('Launchpad McQuack')\n",
    "print(contact_list)"
   ]
  },
  {
   "cell_type": "code",
   "execution_count": 30,
   "metadata": {},
   "outputs": [],
   "source": [
    "def make_a_call(number, made_calls=made_calls, contact_list=contact_list):\n",
    "    import time\n",
    "    if number in contact_list.values():\n",
    "        name=[x for x in contact_list.keys() if number==contact_list[x]][0]\n",
    "    else:\n",
    "        name=str(number)\n",
    "    print('Dialing',name+'...')\n",
    "    time.sleep(2)\n",
    "    \n",
    "    made_calls.append(name)\n",
    "    return made_calls"
   ]
  },
  {
   "cell_type": "code",
   "execution_count": 33,
   "metadata": {},
   "outputs": [
    {
     "name": "stdout",
     "output_type": "stream",
     "text": [
      "['33762222222']\n",
      "Dialing Dewey...\n",
      "['33762222222', 'Dewey']\n"
     ]
    }
   ],
   "source": [
    "print(made_calls)\n",
    "made_calls=make_a_call(3376222222)\n",
    "print(made_calls)"
   ]
  },
  {
   "cell_type": "code",
   "execution_count": 32,
   "metadata": {},
   "outputs": [
    {
     "data": {
      "text/plain": [
       "{'Huey': 33761111111, 'Dewey': 3376222222, 'Louie': 33763333333}"
      ]
     },
     "execution_count": 32,
     "metadata": {},
     "output_type": "execute_result"
    }
   ],
   "source": [
    "contact_list"
   ]
  },
  {
   "cell_type": "code",
   "execution_count": 34,
   "metadata": {},
   "outputs": [],
   "source": [
    "def recieve_a_call(number, received_calls=received_calls, contact_list=contact_list):\n",
    "    import time\n",
    "    if number in contact_list.values():\n",
    "        name=[x for x in contact_list.keys() if number==contact_list[x]][0]\n",
    "    else:\n",
    "        name=str(number)\n",
    "    print(name,'is calling...')\n",
    "    time.sleep(2)\n",
    "    \n",
    "    received_calls.append(name)\n",
    "    return received_calls"
   ]
  },
  {
   "cell_type": "code",
   "execution_count": 36,
   "metadata": {},
   "outputs": [
    {
     "name": "stdout",
     "output_type": "stream",
     "text": [
      "['[]']\n",
      "Huey is calling...\n",
      "['[]', 'Huey']\n"
     ]
    }
   ],
   "source": [
    "print(received_calls)\n",
    "received_calls=recieve_a_call(33761111111)\n",
    "print(received_calls)"
   ]
  },
  {
   "cell_type": "code",
   "execution_count": 44,
   "metadata": {},
   "outputs": [],
   "source": [
    "def send_an_sms(number, text, sent_sms=sent_sms, contact_list=contact_list):\n",
    "    import time\n",
    "    from datetime import datetime\n",
    "\n",
    "    if number in contact_list.values():\n",
    "        name=[x for x in contact_list.keys() if number==contact_list[x]][0]\n",
    "    else:\n",
    "        name=str(number)\n",
    "    print(f'Sending an SMS to {name}...')\n",
    "    time.sleep(2)\n",
    "    \n",
    "    \n",
    "    now = datetime.now().strftime(\"%d_%m_%Y_%H_%M_%S\")\n",
    "\n",
    "    sent_sms[name+'_'+now]=text\n",
    "    return sent_sms"
   ]
  },
  {
   "cell_type": "code",
   "execution_count": 45,
   "metadata": {},
   "outputs": [
    {
     "name": "stdout",
     "output_type": "stream",
     "text": [
      "{}\n",
      "Sending an SMS to Louie...\n"
     ]
    }
   ],
   "source": [
    "print(sent_sms)\n",
    "sent_sms=send_an_sms(33763333333, 'Hi Louie! How are you doing? Lets grab some beer')"
   ]
  },
  {
   "cell_type": "code",
   "execution_count": 46,
   "metadata": {},
   "outputs": [
    {
     "name": "stdout",
     "output_type": "stream",
     "text": [
      "{'Louie_27_08_2020_12_36_18': 'Hi Louie! How are you doing? Lets grab some beer'}\n"
     ]
    }
   ],
   "source": [
    "print(sent_sms)"
   ]
  },
  {
   "cell_type": "code",
   "execution_count": 49,
   "metadata": {},
   "outputs": [],
   "source": [
    "def receive_an_sms(number, rs=received_sms, cl=contact_list):\n",
    "    import time\n",
    "    from datetime import datetime\n",
    "\n",
    "    if number in cl.values():\n",
    "        name=[x for x in cl.keys() if number==cl[x]][0]\n",
    "    else:\n",
    "        name=str(number)\n",
    "    print(f'Receiving an SMS from {name}...')\n",
    "    time.sleep(2)\n",
    "    \n",
    "    \n",
    "    now = datetime.now().strftime(\"%d_%m_%Y_%H_%M_%S\")\n",
    "\n",
    "    rs[name+'_'+now]='Dear Uncle Scrooge...'\n",
    "    return rs"
   ]
  },
  {
   "cell_type": "code",
   "execution_count": 51,
   "metadata": {},
   "outputs": [
    {
     "name": "stdout",
     "output_type": "stream",
     "text": [
      "Receiving an SMS from Huey...\n"
     ]
    }
   ],
   "source": [
    "received_sms=receive_an_sms(33761111111)"
   ]
  },
  {
   "cell_type": "code",
   "execution_count": 52,
   "metadata": {},
   "outputs": [
    {
     "data": {
      "text/plain": [
       "{'Huey_27_08_2020_12_38_07': 'Dear Uncle Scrooge...',\n",
       " 'Huey_27_08_2020_12_38_27': 'Dear Uncle Scrooge...',\n",
       " 'Huey_27_08_2020_12_38_38': 'Dear Uncle Scrooge...'}"
      ]
     },
     "execution_count": 52,
     "metadata": {},
     "output_type": "execute_result"
    }
   ],
   "source": [
    "received_sms"
   ]
  },
  {
   "cell_type": "code",
   "execution_count": 58,
   "metadata": {},
   "outputs": [],
   "source": [
    "# no arguments are provided. In order to include the library of photos into the function we will use global variables\n",
    "def make_a_photo():\n",
    "    global library_of_photos\n",
    "    from datetime import datetime\n",
    "    now = datetime.now().strftime(\"%d_%m_%Y_%H_%M\")\n",
    "    library_of_photos.append(f'{now}.jpeg')\n",
    "    return None"
   ]
  },
  {
   "cell_type": "code",
   "execution_count": 54,
   "metadata": {},
   "outputs": [
    {
     "name": "stdout",
     "output_type": "stream",
     "text": [
      "[]\n"
     ]
    }
   ],
   "source": [
    "print(library_of_photos)"
   ]
  },
  {
   "cell_type": "code",
   "execution_count": 55,
   "metadata": {},
   "outputs": [
    {
     "name": "stdout",
     "output_type": "stream",
     "text": [
      "['27_08_2020_12_43_03.jpeg']\n"
     ]
    }
   ],
   "source": [
    "make_a_photo()\n",
    "print(library_of_photos)"
   ]
  },
  {
   "cell_type": "code",
   "execution_count": 56,
   "metadata": {},
   "outputs": [
    {
     "name": "stdout",
     "output_type": "stream",
     "text": [
      "['27_08_2020_12_43_03.jpeg', '27_08_2020_12_43_04.jpeg']\n"
     ]
    }
   ],
   "source": [
    "make_a_photo()\n",
    "print(library_of_photos)"
   ]
  },
  {
   "cell_type": "code",
   "execution_count": 57,
   "metadata": {},
   "outputs": [
    {
     "name": "stdout",
     "output_type": "stream",
     "text": [
      "['27_08_2020_12_43_03.jpeg', '27_08_2020_12_43_04.jpeg', '27_08_2020_12_43_05.jpeg']\n"
     ]
    }
   ],
   "source": [
    "make_a_photo()\n",
    "print(library_of_photos)"
   ]
  },
  {
   "cell_type": "code",
   "execution_count": 59,
   "metadata": {},
   "outputs": [
    {
     "name": "stdout",
     "output_type": "stream",
     "text": [
      "['27_08_2020_12_43_03.jpeg', '27_08_2020_12_43_04.jpeg', '27_08_2020_12_43_05.jpeg', '27_08_2020_12_44.jpeg']\n"
     ]
    }
   ],
   "source": [
    "make_a_photo()\n",
    "print(library_of_photos)"
   ]
  },
  {
   "cell_type": "code",
   "execution_count": 60,
   "metadata": {},
   "outputs": [
    {
     "ename": "NameError",
     "evalue": "name 'name' is not defined",
     "output_type": "error",
     "traceback": [
      "\u001b[1;31m---------------------------------------------------------------------------\u001b[0m",
      "\u001b[1;31mNameError\u001b[0m                                 Traceback (most recent call last)",
      "\u001b[1;32m<ipython-input-60-9bc0cb2ed6de>\u001b[0m in \u001b[0;36m<module>\u001b[1;34m\u001b[0m\n\u001b[1;32m----> 1\u001b[1;33m \u001b[0mname\u001b[0m\u001b[1;33m\u001b[0m\u001b[1;33m\u001b[0m\u001b[0m\n\u001b[0m",
      "\u001b[1;31mNameError\u001b[0m: name 'name' is not defined"
     ]
    }
   ],
   "source": [
    "name"
   ]
  },
  {
   "cell_type": "code",
   "execution_count": 61,
   "metadata": {},
   "outputs": [
    {
     "ename": "NameError",
     "evalue": "name 'time' is not defined",
     "output_type": "error",
     "traceback": [
      "\u001b[1;31m---------------------------------------------------------------------------\u001b[0m",
      "\u001b[1;31mNameError\u001b[0m                                 Traceback (most recent call last)",
      "\u001b[1;32m<ipython-input-61-5e5a84322b49>\u001b[0m in \u001b[0;36m<module>\u001b[1;34m\u001b[0m\n\u001b[1;32m----> 1\u001b[1;33m \u001b[0mtime\u001b[0m\u001b[1;33m.\u001b[0m\u001b[0msleep\u001b[0m\u001b[1;33m(\u001b[0m\u001b[1;36m1\u001b[0m\u001b[1;33m)\u001b[0m\u001b[1;33m\u001b[0m\u001b[1;33m\u001b[0m\u001b[0m\n\u001b[0m",
      "\u001b[1;31mNameError\u001b[0m: name 'time' is not defined"
     ]
    }
   ],
   "source": [
    "time.sleep(1)"
   ]
  },
  {
   "cell_type": "markdown",
   "metadata": {},
   "source": [
    "## Object-Oriented Programming (OOP)"
   ]
  },
  {
   "cell_type": "markdown",
   "metadata": {},
   "source": [
    "```python\n",
    "class class_name:\n",
    "    \n",
    "    definition of global attributes\n",
    "    \n",
    "    def __init__(self, mandatory_argument1,mandatory_argument2, optional_argument1=default_value):\n",
    "        There goes the initialization of the object. All local attributes of the object should be specified here.\n",
    "        You could notice the 'self' argument in the function. It indicates the object itself.\n",
    "        It is not required to return anything in classes\n",
    "    \n",
    "    def all_the_other_functions(self,arguments):\n",
    "        body of the function\n",
    "        \n",
    "```"
   ]
  },
  {
   "cell_type": "code",
   "execution_count": 62,
   "metadata": {},
   "outputs": [],
   "source": [
    "class MobilePhone:\n",
    "    # global attributes\n",
    "    \n",
    "    operating_system='DuckOS'\n",
    "    brand='McDuck Inc.'"
   ]
  },
  {
   "cell_type": "code",
   "execution_count": 63,
   "metadata": {},
   "outputs": [],
   "source": [
    "Phone1=MobilePhone()"
   ]
  },
  {
   "cell_type": "code",
   "execution_count": 65,
   "metadata": {},
   "outputs": [
    {
     "data": {
      "text/plain": [
       "'McDuck Inc.'"
      ]
     },
     "execution_count": 65,
     "metadata": {},
     "output_type": "execute_result"
    }
   ],
   "source": [
    "Phone1.brand"
   ]
  },
  {
   "cell_type": "code",
   "execution_count": 66,
   "metadata": {},
   "outputs": [
    {
     "data": {
      "text/plain": [
       "'DuckOS'"
      ]
     },
     "execution_count": 66,
     "metadata": {},
     "output_type": "execute_result"
    }
   ],
   "source": [
    "Phone1.operating_system"
   ]
  },
  {
   "cell_type": "code",
   "execution_count": 67,
   "metadata": {},
   "outputs": [
    {
     "data": {
      "text/plain": [
       "'DuckOS'"
      ]
     },
     "execution_count": 67,
     "metadata": {},
     "output_type": "execute_result"
    }
   ],
   "source": [
    "Phone2=MobilePhone()\n",
    "Phone2.operating_system"
   ]
  },
  {
   "cell_type": "code",
   "execution_count": 79,
   "metadata": {},
   "outputs": [],
   "source": [
    "class MobilePhone:\n",
    "    # global attributes\n",
    "    \n",
    "    operating_system='DuckOS'\n",
    "    brand='McDuck Inc.'\n",
    "    \n",
    "    def __init__(self,owners_name, phone_number):\n",
    "        self.owner=owners_name\n",
    "        self.number=phone_number\n",
    "        self.contact_list=dict()\n",
    "        self.received_calls=list()\n",
    "        self.made_calls=list()\n",
    "        self.received_sms=dict()\n",
    "        self.sent_sms=dict()\n",
    "        self.library_of_photos=list()\n",
    "        "
   ]
  },
  {
   "cell_type": "code",
   "execution_count": 80,
   "metadata": {},
   "outputs": [
    {
     "data": {
      "text/plain": [
       "'Scrooge McDuck'"
      ]
     },
     "execution_count": 80,
     "metadata": {},
     "output_type": "execute_result"
    }
   ],
   "source": [
    "Phone1=MobilePhone('Scrooge McDuck',33760000000)\n",
    "Phone1.owner"
   ]
  },
  {
   "cell_type": "code",
   "execution_count": 81,
   "metadata": {},
   "outputs": [
    {
     "data": {
      "text/plain": [
       "33760000000"
      ]
     },
     "execution_count": 81,
     "metadata": {},
     "output_type": "execute_result"
    }
   ],
   "source": [
    "Phone1.number"
   ]
  },
  {
   "cell_type": "code",
   "execution_count": 82,
   "metadata": {},
   "outputs": [
    {
     "data": {
      "text/plain": [
       "'DuckOS'"
      ]
     },
     "execution_count": 82,
     "metadata": {},
     "output_type": "execute_result"
    }
   ],
   "source": [
    "Phone1.operating_system"
   ]
  },
  {
   "cell_type": "code",
   "execution_count": 83,
   "metadata": {},
   "outputs": [],
   "source": [
    "Phone2=MobilePhone('Huey',33761111111)"
   ]
  },
  {
   "cell_type": "code",
   "execution_count": 84,
   "metadata": {},
   "outputs": [
    {
     "data": {
      "text/plain": [
       "'Huey'"
      ]
     },
     "execution_count": 84,
     "metadata": {},
     "output_type": "execute_result"
    }
   ],
   "source": [
    "Phone2.owner"
   ]
  },
  {
   "cell_type": "code",
   "execution_count": 85,
   "metadata": {},
   "outputs": [
    {
     "data": {
      "text/plain": [
       "'Scrooge McDuck'"
      ]
     },
     "execution_count": 85,
     "metadata": {},
     "output_type": "execute_result"
    }
   ],
   "source": [
    "Phone1.owner"
   ]
  },
  {
   "cell_type": "code",
   "execution_count": 86,
   "metadata": {},
   "outputs": [],
   "source": [
    "class MobilePhone:\n",
    "    # global attributes\n",
    "    \n",
    "    operating_system='DuckOS'\n",
    "    brand='McDuck Inc.'\n",
    "    \n",
    "    def __init__(self,owners_name, phone_number):\n",
    "        self.owner=owners_name\n",
    "        self.number=phone_number\n",
    "        self.contact_list=dict()\n",
    "        self.received_calls=list()\n",
    "        self.made_calls=list()\n",
    "        self.received_sms=dict()\n",
    "        self.sent_sms=dict()\n",
    "        self.library_of_photos=list()\n",
    "    \n",
    "    def add_contact(self,recipient):\n",
    "        if recipient.owner in self.contact_list.keys():\n",
    "            print('Sorry, this name is already occupied. Please Choose a different name')\n",
    "        else:\n",
    "            self.contact_list[recipient.owner]=recipient.number\n",
    "        print('Operation is finished')"
   ]
  },
  {
   "cell_type": "code",
   "execution_count": 87,
   "metadata": {},
   "outputs": [],
   "source": [
    "Phone1=MobilePhone('Scrooge McDuck',33760000000)\n",
    "Phone2=MobilePhone('Huey',33761111111)"
   ]
  },
  {
   "cell_type": "code",
   "execution_count": 88,
   "metadata": {},
   "outputs": [
    {
     "name": "stdout",
     "output_type": "stream",
     "text": [
      "Operation is finished\n"
     ]
    }
   ],
   "source": [
    "Phone1.add_contact(Phone2)"
   ]
  },
  {
   "cell_type": "code",
   "execution_count": 89,
   "metadata": {
    "scrolled": true
   },
   "outputs": [
    {
     "data": {
      "text/plain": [
       "{'Huey': 33761111111}"
      ]
     },
     "execution_count": 89,
     "metadata": {},
     "output_type": "execute_result"
    }
   ],
   "source": [
    "Phone1.contact_list"
   ]
  },
  {
   "cell_type": "code",
   "execution_count": 92,
   "metadata": {},
   "outputs": [
    {
     "data": {
      "text/plain": [
       "{}"
      ]
     },
     "execution_count": 92,
     "metadata": {},
     "output_type": "execute_result"
    }
   ],
   "source": [
    "Phone2.contact_list"
   ]
  },
  {
   "cell_type": "code",
   "execution_count": 93,
   "metadata": {},
   "outputs": [],
   "source": [
    "class MobilePhone:\n",
    "    # global attributes\n",
    "    \n",
    "    operating_system='DuckOS'\n",
    "    brand='McDuck Inc.'\n",
    "    \n",
    "    def __init__(self,owners_name, phone_number):\n",
    "        self.owner=owners_name\n",
    "        self.number=phone_number\n",
    "        self.contact_list=dict()\n",
    "        self.received_calls=list()\n",
    "        self.made_calls=list()\n",
    "        self.received_sms=dict()\n",
    "        self.sent_sms=dict()\n",
    "        self.library_of_photos=list()\n",
    "    \n",
    "    def add_contact(self,recipient):\n",
    "        if recipient.owner in self.contact_list.keys():\n",
    "            print('Sorry, this name is already occupied. Please Choose a different name')\n",
    "        else:\n",
    "            self.contact_list[recipient.owner]=recipient.number\n",
    "        print('Operation is finished')\n",
    "    \n",
    "    def unfriend(self,recipient):\n",
    "        if recipient.owner in self.contact_list:\n",
    "            del self.contact_list[recipient.owner]\n",
    "        else:\n",
    "            print('Sorry, you don\\'t know this person. I can\\'t perform the operation')\n",
    "        print('Operation is finished')\n",
    "    "
   ]
  },
  {
   "cell_type": "code",
   "execution_count": 94,
   "metadata": {},
   "outputs": [],
   "source": [
    "Phone1=MobilePhone('Scrooge McDuck',33760000000)\n",
    "Phone2=MobilePhone('Huey',33761111111)"
   ]
  },
  {
   "cell_type": "code",
   "execution_count": 95,
   "metadata": {},
   "outputs": [
    {
     "name": "stdout",
     "output_type": "stream",
     "text": [
      "Operation is finished\n"
     ]
    }
   ],
   "source": [
    "Phone1.add_contact(Phone2)"
   ]
  },
  {
   "cell_type": "code",
   "execution_count": 96,
   "metadata": {},
   "outputs": [
    {
     "data": {
      "text/plain": [
       "{'Huey': 33761111111}"
      ]
     },
     "execution_count": 96,
     "metadata": {},
     "output_type": "execute_result"
    }
   ],
   "source": [
    "Phone1.contact_list"
   ]
  },
  {
   "cell_type": "code",
   "execution_count": 97,
   "metadata": {},
   "outputs": [
    {
     "name": "stdout",
     "output_type": "stream",
     "text": [
      "Operation is finished\n"
     ]
    }
   ],
   "source": [
    "Phone1.unfriend(Phone2)"
   ]
  },
  {
   "cell_type": "code",
   "execution_count": 98,
   "metadata": {},
   "outputs": [
    {
     "data": {
      "text/plain": [
       "{}"
      ]
     },
     "execution_count": 98,
     "metadata": {},
     "output_type": "execute_result"
    }
   ],
   "source": [
    "Phone1.contact_list"
   ]
  },
  {
   "cell_type": "code",
   "execution_count": 99,
   "metadata": {},
   "outputs": [
    {
     "name": "stdout",
     "output_type": "stream",
     "text": [
      "Sorry, you don't know this person. I can't perform the operation\n",
      "Operation is finished\n"
     ]
    }
   ],
   "source": [
    "Phone1.unfriend(Phone2)"
   ]
  },
  {
   "cell_type": "code",
   "execution_count": 100,
   "metadata": {},
   "outputs": [],
   "source": [
    "class MobilePhone:\n",
    "    # global attributes\n",
    "    \n",
    "    operating_system='DuckOS'\n",
    "    brand='McDuck Inc.'\n",
    "    \n",
    "    def __init__(self,owners_name, phone_number):\n",
    "        self.owner=owners_name\n",
    "        self.number=phone_number\n",
    "        self.contact_list=dict()\n",
    "        self.received_calls=list()\n",
    "        self.made_calls=list()\n",
    "        self.received_sms=dict()\n",
    "        self.sent_sms=dict()\n",
    "        self.library_of_photos=list()\n",
    "    \n",
    "    def add_contact(self,recipient):\n",
    "        if recipient.owner in self.contact_list.keys():\n",
    "            print('Sorry, this name is already occupied. Please Choose a different name')\n",
    "        else:\n",
    "            self.contact_list[recipient.owner]=recipient.number\n",
    "        print('Operation is finished')\n",
    "    \n",
    "    def unfriend(self,recipient):\n",
    "        if recipient.owner in self.contact_list:\n",
    "            del self.contact_list[recipient.owner]\n",
    "        else:\n",
    "            print('Sorry, you don\\'t know this person. I can\\'t perform the operation')\n",
    "        print('Operation is finished')\n",
    "    \n",
    "    def make_a_call(self,recipient):\n",
    "        if recipient.number in self.contact_list.values():\n",
    "            name=recipient.owner\n",
    "        else:\n",
    "            name=str(recipient.number)\n",
    "        print('Dialing', name+'...')\n",
    "        self.made_calls.append(name)\n",
    "        \n",
    "        if self.number in recipient.contact_list.values():\n",
    "            name_r=self.owner\n",
    "        else:\n",
    "            name_r=str(self.number)\n",
    "        recipient.received_calls.append(name_r)"
   ]
  },
  {
   "cell_type": "code",
   "execution_count": 101,
   "metadata": {},
   "outputs": [],
   "source": [
    "Phone1=MobilePhone('Scrooge McDuck',33760000000)\n",
    "Phone2=MobilePhone('Huey',33761111111)"
   ]
  },
  {
   "cell_type": "code",
   "execution_count": 102,
   "metadata": {},
   "outputs": [
    {
     "data": {
      "text/plain": [
       "[]"
      ]
     },
     "execution_count": 102,
     "metadata": {},
     "output_type": "execute_result"
    }
   ],
   "source": [
    "Phone1.made_calls"
   ]
  },
  {
   "cell_type": "code",
   "execution_count": 103,
   "metadata": {},
   "outputs": [
    {
     "data": {
      "text/plain": [
       "[]"
      ]
     },
     "execution_count": 103,
     "metadata": {},
     "output_type": "execute_result"
    }
   ],
   "source": [
    "Phone2.received_calls"
   ]
  },
  {
   "cell_type": "code",
   "execution_count": 104,
   "metadata": {},
   "outputs": [
    {
     "name": "stdout",
     "output_type": "stream",
     "text": [
      "Dialing 33761111111...\n"
     ]
    }
   ],
   "source": [
    "Phone1.make_a_call(Phone2)"
   ]
  },
  {
   "cell_type": "code",
   "execution_count": 105,
   "metadata": {},
   "outputs": [
    {
     "data": {
      "text/plain": [
       "['33761111111']"
      ]
     },
     "execution_count": 105,
     "metadata": {},
     "output_type": "execute_result"
    }
   ],
   "source": [
    "Phone1.made_calls"
   ]
  },
  {
   "cell_type": "code",
   "execution_count": 106,
   "metadata": {},
   "outputs": [
    {
     "data": {
      "text/plain": [
       "['33760000000']"
      ]
     },
     "execution_count": 106,
     "metadata": {},
     "output_type": "execute_result"
    }
   ],
   "source": [
    "Phone2.received_calls"
   ]
  },
  {
   "cell_type": "code",
   "execution_count": 107,
   "metadata": {},
   "outputs": [],
   "source": [
    "class MobilePhone:\n",
    "    # global attributes\n",
    "    \n",
    "    operating_system='DuckOS'\n",
    "    brand='McDuck Inc.'\n",
    "    \n",
    "    def __init__(self,owners_name, phone_number):\n",
    "        self.owner=owners_name\n",
    "        self.number=phone_number\n",
    "        self.contact_list=dict()\n",
    "        self.received_calls=list()\n",
    "        self.made_calls=list()\n",
    "        self.received_sms=dict()\n",
    "        self.sent_sms=dict()\n",
    "        self.library_of_photos=list()\n",
    "    \n",
    "    def add_contact(self,recipient):\n",
    "        if recipient.owner in self.contact_list.keys():\n",
    "            print('Sorry, this name is already occupied. Please Choose a different name')\n",
    "        else:\n",
    "            self.contact_list[recipient.owner]=recipient.number\n",
    "        print('Operation is finished')\n",
    "    \n",
    "    def unfriend(self,recipient):\n",
    "        if recipient.owner in self.contact_list:\n",
    "            del self.contact_list[recipient.owner]\n",
    "        else:\n",
    "            print('Sorry, you don\\'t know this person. I can\\'t perform the operation')\n",
    "        print('Operation is finished')\n",
    "    \n",
    "    def make_a_call(self,recipient):\n",
    "        if recipient.number in self.contact_list.values():\n",
    "            name=recipient.owner\n",
    "        else:\n",
    "            name=str(recipient.number)\n",
    "        print('Dialing', name+'...')\n",
    "        self.made_calls.append(name)\n",
    "        \n",
    "        if self.number in recipient.contact_list.values():\n",
    "            name_r=self.owner\n",
    "        else:\n",
    "            name_r=str(self.number)\n",
    "        recipient.received_calls.append(name_r)\n",
    "        \n",
    "    def send_an_sms(self,recipient, text):\n",
    "        from datetime import datetime\n",
    "        \n",
    "        if recipient.number in self.contact_list.values():\n",
    "            name=recipient.owner\n",
    "        else:\n",
    "            name=str(recipient.number)\n",
    "        print('Sending an SMS to', name+'...')\n",
    "        \n",
    "        now = datetime.now().strftime(\"%d_%m_%Y_%H_%M_%S\")      \n",
    "        self.sent_sms[name+'_'+now]=text\n",
    "        \n",
    "        if self.number in recipient.contact_list.values():\n",
    "            name_r=self.owner\n",
    "        else:\n",
    "            name_r=str(self.number)\n",
    "        recipient.received_sms[name_r+'_'+now]=text"
   ]
  },
  {
   "cell_type": "code",
   "execution_count": 108,
   "metadata": {},
   "outputs": [],
   "source": [
    "Phone1=MobilePhone('Scrooge McDuck',33760000000)\n",
    "Phone2=MobilePhone('Huey',33761111111)"
   ]
  },
  {
   "cell_type": "code",
   "execution_count": 109,
   "metadata": {},
   "outputs": [
    {
     "name": "stdout",
     "output_type": "stream",
     "text": [
      "Operation is finished\n"
     ]
    }
   ],
   "source": [
    "Phone1.add_contact(Phone2)"
   ]
  },
  {
   "cell_type": "code",
   "execution_count": 110,
   "metadata": {},
   "outputs": [
    {
     "name": "stdout",
     "output_type": "stream",
     "text": [
      "Sending an SMS to Huey...\n"
     ]
    }
   ],
   "source": [
    "Phone1.send_an_sms(Phone2, 'Hi dear Huey! How are you doing? Any plans for the next July? I found a trasure hunt map recently and I want to invite you to join my crew!')"
   ]
  },
  {
   "cell_type": "code",
   "execution_count": 111,
   "metadata": {},
   "outputs": [
    {
     "data": {
      "text/plain": [
       "{'Huey_27_08_2020_15_06_23': 'Hi dear Huey! How are you doing? Any plans for the next July? I found a trasure hunt map recently and I want to invite you to join my crew!'}"
      ]
     },
     "execution_count": 111,
     "metadata": {},
     "output_type": "execute_result"
    }
   ],
   "source": [
    "Phone1.sent_sms"
   ]
  },
  {
   "cell_type": "code",
   "execution_count": 112,
   "metadata": {},
   "outputs": [
    {
     "data": {
      "text/plain": [
       "{'33760000000_27_08_2020_15_06_23': 'Hi dear Huey! How are you doing? Any plans for the next July? I found a trasure hunt map recently and I want to invite you to join my crew!'}"
      ]
     },
     "execution_count": 112,
     "metadata": {},
     "output_type": "execute_result"
    }
   ],
   "source": [
    "Phone2.received_sms"
   ]
  },
  {
   "cell_type": "code",
   "execution_count": null,
   "metadata": {},
   "outputs": [],
   "source": []
  },
  {
   "cell_type": "code",
   "execution_count": 129,
   "metadata": {},
   "outputs": [],
   "source": [
    "class CameraPhone(MobilePhone):\n",
    "    \n",
    "    OSVersion=2.0\n",
    "    name='Quack Quack 3000'\n",
    "    \n",
    "    def make_a_photo(self):\n",
    "        from datetime import datetime\n",
    "        now=datetime.now().strftime(\"%d_%m_%Y_%H_%M_%S\")\n",
    "        \n",
    "        self.library_of_photos.append(f'{now}.jpeg')"
   ]
  },
  {
   "cell_type": "code",
   "execution_count": 120,
   "metadata": {},
   "outputs": [
    {
     "data": {
      "text/plain": [
       "'Scrooge McDuck'"
      ]
     },
     "execution_count": 120,
     "metadata": {},
     "output_type": "execute_result"
    }
   ],
   "source": [
    "Phone1.owner"
   ]
  },
  {
   "cell_type": "code",
   "execution_count": 130,
   "metadata": {},
   "outputs": [],
   "source": [
    "Phone3=CameraPhone('Dewey',33762222222)"
   ]
  },
  {
   "cell_type": "code",
   "execution_count": 131,
   "metadata": {},
   "outputs": [
    {
     "data": {
      "text/plain": [
       "'Dewey'"
      ]
     },
     "execution_count": 131,
     "metadata": {},
     "output_type": "execute_result"
    }
   ],
   "source": [
    "Phone3.owner"
   ]
  },
  {
   "cell_type": "code",
   "execution_count": 132,
   "metadata": {},
   "outputs": [
    {
     "data": {
      "text/plain": [
       "'DuckOS'"
      ]
     },
     "execution_count": 132,
     "metadata": {},
     "output_type": "execute_result"
    }
   ],
   "source": [
    "Phone3.operating_system"
   ]
  },
  {
   "cell_type": "code",
   "execution_count": 133,
   "metadata": {},
   "outputs": [
    {
     "data": {
      "text/plain": [
       "2.0"
      ]
     },
     "execution_count": 133,
     "metadata": {},
     "output_type": "execute_result"
    }
   ],
   "source": [
    "Phone3.OSVersion"
   ]
  },
  {
   "cell_type": "code",
   "execution_count": 134,
   "metadata": {},
   "outputs": [
    {
     "ename": "AttributeError",
     "evalue": "'MobilePhone' object has no attribute 'OSVersion'",
     "output_type": "error",
     "traceback": [
      "\u001b[1;31m---------------------------------------------------------------------------\u001b[0m",
      "\u001b[1;31mAttributeError\u001b[0m                            Traceback (most recent call last)",
      "\u001b[1;32m<ipython-input-134-08bfff299a4f>\u001b[0m in \u001b[0;36m<module>\u001b[1;34m\u001b[0m\n\u001b[1;32m----> 1\u001b[1;33m \u001b[0mPhone1\u001b[0m\u001b[1;33m.\u001b[0m\u001b[0mOSVersion\u001b[0m\u001b[1;33m\u001b[0m\u001b[1;33m\u001b[0m\u001b[0m\n\u001b[0m",
      "\u001b[1;31mAttributeError\u001b[0m: 'MobilePhone' object has no attribute 'OSVersion'"
     ]
    }
   ],
   "source": [
    "Phone1.OSVersion"
   ]
  },
  {
   "cell_type": "code",
   "execution_count": 135,
   "metadata": {},
   "outputs": [
    {
     "data": {
      "text/plain": [
       "[]"
      ]
     },
     "execution_count": 135,
     "metadata": {},
     "output_type": "execute_result"
    }
   ],
   "source": [
    "Phone3.library_of_photos"
   ]
  },
  {
   "cell_type": "code",
   "execution_count": 136,
   "metadata": {},
   "outputs": [],
   "source": [
    "Phone3.make_a_photo()"
   ]
  },
  {
   "cell_type": "code",
   "execution_count": 137,
   "metadata": {},
   "outputs": [
    {
     "data": {
      "text/plain": [
       "['27_08_2020_15_17_01.jpeg']"
      ]
     },
     "execution_count": 137,
     "metadata": {},
     "output_type": "execute_result"
    }
   ],
   "source": [
    "Phone3.library_of_photos"
   ]
  },
  {
   "cell_type": "code",
   "execution_count": 138,
   "metadata": {},
   "outputs": [
    {
     "ename": "AttributeError",
     "evalue": "'MobilePhone' object has no attribute 'make_a_photo'",
     "output_type": "error",
     "traceback": [
      "\u001b[1;31m---------------------------------------------------------------------------\u001b[0m",
      "\u001b[1;31mAttributeError\u001b[0m                            Traceback (most recent call last)",
      "\u001b[1;32m<ipython-input-138-73f2a1a1deca>\u001b[0m in \u001b[0;36m<module>\u001b[1;34m\u001b[0m\n\u001b[1;32m----> 1\u001b[1;33m \u001b[0mPhone1\u001b[0m\u001b[1;33m.\u001b[0m\u001b[0mmake_a_photo\u001b[0m\u001b[1;33m(\u001b[0m\u001b[1;33m)\u001b[0m\u001b[1;33m\u001b[0m\u001b[1;33m\u001b[0m\u001b[0m\n\u001b[0m",
      "\u001b[1;31mAttributeError\u001b[0m: 'MobilePhone' object has no attribute 'make_a_photo'"
     ]
    }
   ],
   "source": [
    "Phone1.make_a_photo()"
   ]
  },
  {
   "cell_type": "code",
   "execution_count": 139,
   "metadata": {},
   "outputs": [
    {
     "name": "stdout",
     "output_type": "stream",
     "text": [
      "Operation is finished\n"
     ]
    }
   ],
   "source": [
    "Phone1.add_contact(Phone3)"
   ]
  },
  {
   "cell_type": "code",
   "execution_count": 140,
   "metadata": {},
   "outputs": [
    {
     "data": {
      "text/plain": [
       "{'Huey': 33761111111, 'Dewey': 33762222222}"
      ]
     },
     "execution_count": 140,
     "metadata": {},
     "output_type": "execute_result"
    }
   ],
   "source": [
    "Phone1.contact_list"
   ]
  },
  {
   "cell_type": "code",
   "execution_count": null,
   "metadata": {},
   "outputs": [],
   "source": []
  }
 ],
 "metadata": {
  "kernelspec": {
   "display_name": "Python 3",
   "language": "python",
   "name": "python3"
  },
  "language_info": {
   "codemirror_mode": {
    "name": "ipython",
    "version": 3
   },
   "file_extension": ".py",
   "mimetype": "text/x-python",
   "name": "python",
   "nbconvert_exporter": "python",
   "pygments_lexer": "ipython3",
   "version": "3.7.6"
  },
  "varInspector": {
   "cols": {
    "lenName": 16,
    "lenType": 16,
    "lenVar": 40
   },
   "kernels_config": {
    "python": {
     "delete_cmd_postfix": "",
     "delete_cmd_prefix": "del ",
     "library": "var_list.py",
     "varRefreshCmd": "print(var_dic_list())"
    },
    "r": {
     "delete_cmd_postfix": ") ",
     "delete_cmd_prefix": "rm(",
     "library": "var_list.r",
     "varRefreshCmd": "cat(var_dic_list()) "
    }
   },
   "types_to_exclude": [
    "module",
    "function",
    "builtin_function_or_method",
    "instance",
    "_Feature"
   ],
   "window_display": false
  }
 },
 "nbformat": 4,
 "nbformat_minor": 2
}
