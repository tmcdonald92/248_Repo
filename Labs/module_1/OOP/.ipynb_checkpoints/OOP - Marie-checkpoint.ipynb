{
 "cells": [
  {
   "cell_type": "code",
   "execution_count": 3,
   "metadata": {},
   "outputs": [],
   "source": [
    "class restaurant:\n",
    "    brand = 'SARL Capito'\n",
    "    place = 'Paris'\n",
    "\n",
    "    def __init__(self, restaurant_name):\n",
    "        self.storefront=restaurant_name\n",
    "        self.sent_pasta = dict()\n",
    "        self.received_pasta = dict()\n",
    "        \n",
    "    def send_pasta(self, recipient, why):\n",
    "        from datetime import datetime\n",
    "        name=recipient.storefront\n",
    "        print('sending pasta to', name)\n",
    "\n",
    "        now = datetime.now().strftime(\"%d_%m_%Y_%H_%M_%S\")\n",
    "        self.sent_pasta[name + '_' + now] = why\n",
    "        name_r = self.storefront\n",
    "        recipient.received_pasta[name_r + '_' + now] = why\n",
    "        "
   ]
  },
  {
   "cell_type": "code",
   "execution_count": 4,
   "metadata": {},
   "outputs": [
    {
     "data": {
      "text/plain": [
       "'Il Farniente'"
      ]
     },
     "execution_count": 4,
     "metadata": {},
     "output_type": "execute_result"
    }
   ],
   "source": [
    "Place1=restaurant('Il Farniente')\n",
    "Place1.storefront"
   ]
  },
  {
   "cell_type": "code",
   "execution_count": 5,
   "metadata": {},
   "outputs": [
    {
     "data": {
      "text/plain": [
       "'Il Tartufo'"
      ]
     },
     "execution_count": 5,
     "metadata": {},
     "output_type": "execute_result"
    }
   ],
   "source": [
    "Place2=restaurant('Il Tartufo')\n",
    "Place2.storefront"
   ]
  },
  {
   "cell_type": "code",
   "execution_count": 6,
   "metadata": {},
   "outputs": [
    {
     "name": "stdout",
     "output_type": "stream",
     "text": [
      "sending pasta to Il Tartufo\n"
     ]
    }
   ],
   "source": [
    "Place1.send_pasta(Place2, \"too much pasta, don't want to waste\")"
   ]
  },
  {
   "cell_type": "code",
   "execution_count": 7,
   "metadata": {},
   "outputs": [
    {
     "data": {
      "text/plain": [
       "{'Il Tartufo_27_08_2020_16_49_39': \"too much pasta, don't want to waste\"}"
      ]
     },
     "execution_count": 7,
     "metadata": {},
     "output_type": "execute_result"
    }
   ],
   "source": [
    "Place1.sent_pasta"
   ]
  },
  {
   "cell_type": "code",
   "execution_count": 8,
   "metadata": {},
   "outputs": [
    {
     "data": {
      "text/plain": [
       "{'Il Farniente_27_08_2020_16_49_39': \"too much pasta, don't want to waste\"}"
      ]
     },
     "execution_count": 8,
     "metadata": {},
     "output_type": "execute_result"
    }
   ],
   "source": [
    "Place2.received_pasta"
   ]
  },
  {
   "cell_type": "code",
   "execution_count": null,
   "metadata": {},
   "outputs": [],
   "source": []
  }
 ],
 "metadata": {
  "kernelspec": {
   "display_name": "Python 3",
   "language": "python",
   "name": "python3"
  },
  "language_info": {
   "codemirror_mode": {
    "name": "ipython",
    "version": 3
   },
   "file_extension": ".py",
   "mimetype": "text/x-python",
   "name": "python",
   "nbconvert_exporter": "python",
   "pygments_lexer": "ipython3",
   "version": "3.7.6"
  }
 },
 "nbformat": 4,
 "nbformat_minor": 4
}
