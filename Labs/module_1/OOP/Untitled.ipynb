{
 "cells": [
  {
   "cell_type": "code",
   "execution_count": 44,
   "metadata": {},
   "outputs": [],
   "source": [
    "class Client:\n",
    "    \n",
    "    def __init__(self,name,phone_number):\n",
    "        self.number=phone_number\n",
    "        self.client=name\n",
    "        self.orders_made=[]\n",
    "        self.total_amount=[]\n",
    "        self.menu=[]\n",
    "    \n",
    "    def call_restaurant(self,restaurant):\n",
    "        print('Calling'+' '+restaurant.name)\n",
    "        self.make_order(restaurant)\n",
    "    \n",
    "    def make_order(self,restaurant):\n",
    "        order=input('Please choose an item: ')\n",
    "        if order in restaurant.menu.keys():\n",
    "            self.orders_made.append(order)\n",
    "            self.total_amount.append(restaurant.menu[order])\n",
    "            print('Good choice.Your meal will be delivered in '+str(restaurant.time[order])+' minutes')\n",
    "        else:\n",
    "            print('Sorry but that item is not on the menu. Please choose one from the menu')\n",
    "            \n",
    "class Restaurant:\n",
    "    type_restaurant = 'Online'\n",
    "    Location='Everywhere'\n",
    "    \n",
    "    def __init__(self,name, phone_number,menu,time_of_delivery):\n",
    "        self.name=name\n",
    "        self.number=phone_number\n",
    "        self.menu=menu\n",
    "        self.time=time_of_delivery\n",
    "        self.deliveries=dict()\n",
    "        self.total_amount=[]\n",
    "    \n",
    "    def add_menu(self,item,price):\n",
    "        if item in self.menu.keys():\n",
    "            change = input('That item already exists in the menu. Do you want to change its price? ')\n",
    "            if change == 'Yes':\n",
    "                self.change_price\n",
    "                print('The price of the '+item+' has been changed to '+str(price))\n",
    "            else:\n",
    "                print('Then add another item please')\n",
    "        else:\n",
    "            self.menu[item]=price\n",
    "    \n",
    "    def change_price(self,item,price):\n",
    "        self.menu[item]=price"
   ]
  },
  {
   "cell_type": "code",
   "execution_count": 45,
   "metadata": {},
   "outputs": [],
   "source": [
    "restaurant1=Restaurant('Take it away',2917398891,{'Marguerita':7,'Lasagna':10,'Valentina':8},{'Margerita':15,'Lasagna':25,'Valentina':20})"
   ]
  },
  {
   "cell_type": "code",
   "execution_count": 46,
   "metadata": {},
   "outputs": [
    {
     "data": {
      "text/plain": [
       "{'Marguerita': 7, 'Lasagna': 10, 'Valentina': 8}"
      ]
     },
     "execution_count": 46,
     "metadata": {},
     "output_type": "execute_result"
    }
   ],
   "source": [
    "restaurant1.menu"
   ]
  },
  {
   "cell_type": "code",
   "execution_count": 47,
   "metadata": {},
   "outputs": [
    {
     "name": "stdout",
     "output_type": "stream",
     "text": [
      "That item already exists in the menu. Do you want to change its price? Yes\n",
      "The price of the Lasagna has been changed to 12\n"
     ]
    }
   ],
   "source": [
    "restaurant1.add_menu('Lasagna',12)"
   ]
  },
  {
   "cell_type": "code",
   "execution_count": 11,
   "metadata": {},
   "outputs": [],
   "source": [
    "client1=Client('Maria',79898552)"
   ]
  },
  {
   "cell_type": "code",
   "execution_count": 12,
   "metadata": {},
   "outputs": [
    {
     "name": "stdout",
     "output_type": "stream",
     "text": [
      "Calling Take it away\n",
      "Please choose an item: Valentina\n",
      "Good choice.Your meal will be delivered in 20 minutes\n"
     ]
    }
   ],
   "source": [
    "client1.call_restaurant(restaurant1)"
   ]
  },
  {
   "cell_type": "code",
   "execution_count": null,
   "metadata": {},
   "outputs": [],
   "source": [
    "{'Marguerita':{'price':7,'time':15}, 'Lasagna'}"
   ]
  },
  {
   "cell_type": "code",
   "execution_count": 13,
   "metadata": {},
   "outputs": [
    {
     "data": {
      "text/plain": [
       "[8]"
      ]
     },
     "execution_count": 13,
     "metadata": {},
     "output_type": "execute_result"
    }
   ],
   "source": [
    "client1.total_amount"
   ]
  },
  {
   "cell_type": "code",
   "execution_count": 34,
   "metadata": {},
   "outputs": [
    {
     "ename": "AttributeError",
     "evalue": "'restaurant' object has no attribute 'client'",
     "output_type": "error",
     "traceback": [
      "\u001b[1;31m---------------------------------------------------------------------------\u001b[0m",
      "\u001b[1;31mAttributeError\u001b[0m                            Traceback (most recent call last)",
      "\u001b[1;32m<ipython-input-34-923aa741810e>\u001b[0m in \u001b[0;36m<module>\u001b[1;34m\u001b[0m\n\u001b[1;32m----> 1\u001b[1;33m \u001b[0mrestaurant1\u001b[0m\u001b[1;33m.\u001b[0m\u001b[0mmake_delivery\u001b[0m\u001b[1;33m(\u001b[0m\u001b[1;33m)\u001b[0m\u001b[1;33m\u001b[0m\u001b[1;33m\u001b[0m\u001b[0m\n\u001b[0m",
      "\u001b[1;32m<ipython-input-28-5de3405e53ae>\u001b[0m in \u001b[0;36mmake_delivery\u001b[1;34m(client)\u001b[0m\n\u001b[0;32m     33\u001b[0m \u001b[1;33m\u001b[0m\u001b[0m\n\u001b[0;32m     34\u001b[0m     \u001b[1;32mdef\u001b[0m \u001b[0mmake_delivery\u001b[0m\u001b[1;33m(\u001b[0m\u001b[0mclient\u001b[0m\u001b[1;33m)\u001b[0m\u001b[1;33m:\u001b[0m\u001b[1;33m\u001b[0m\u001b[1;33m\u001b[0m\u001b[0m\n\u001b[1;32m---> 35\u001b[1;33m         \u001b[0mself\u001b[0m\u001b[1;33m.\u001b[0m\u001b[0mdeliveries\u001b[0m\u001b[1;33m[\u001b[0m\u001b[0mclient\u001b[0m\u001b[1;33m.\u001b[0m\u001b[0morder\u001b[0m\u001b[1;33m]\u001b[0m \u001b[1;33m=\u001b[0m \u001b[0mclient\u001b[0m\u001b[1;33m.\u001b[0m\u001b[0mclient\u001b[0m\u001b[1;33m\u001b[0m\u001b[1;33m\u001b[0m\u001b[0m\n\u001b[0m",
      "\u001b[1;31mAttributeError\u001b[0m: 'restaurant' object has no attribute 'client'"
     ]
    }
   ],
   "source": [
    "restaurant1.make_delivery()"
   ]
  }
 ],
 "metadata": {
  "kernelspec": {
   "display_name": "Python 3",
   "language": "python",
   "name": "python3"
  },
  "language_info": {
   "codemirror_mode": {
    "name": "ipython",
    "version": 3
   },
   "file_extension": ".py",
   "mimetype": "text/x-python",
   "name": "python",
   "nbconvert_exporter": "python",
   "pygments_lexer": "ipython3",
   "version": "3.8.5"
  }
 },
 "nbformat": 4,
 "nbformat_minor": 4
}
