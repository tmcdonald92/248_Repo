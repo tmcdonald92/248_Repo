{
 "cells": [
  {
   "cell_type": "markdown",
   "metadata": {
    "toc": true
   },
   "source": [
    "<h1>Table of Contents<span class=\"tocSkip\"></span></h1>\n",
    "<div class=\"toc\"><ul class=\"toc-item\"><li><span><a href=\"#Download-audio\" data-toc-modified-id=\"Download-audio-1\"><span class=\"toc-item-num\">1&nbsp;&nbsp;</span>Download audio</a></span></li><li><span><a href=\"#Streaming-content\" data-toc-modified-id=\"Streaming-content-2\"><span class=\"toc-item-num\">2&nbsp;&nbsp;</span>Streaming content</a></span></li><li><span><a href=\"#Video\" data-toc-modified-id=\"Video-3\"><span class=\"toc-item-num\">3&nbsp;&nbsp;</span>Video</a></span></li><li><span><a href=\"#HTML-+-CSS\" data-toc-modified-id=\"HTML-+-CSS-4\"><span class=\"toc-item-num\">4&nbsp;&nbsp;</span>HTML + CSS</a></span></li></ul></div>"
   ]
  },
  {
   "cell_type": "markdown",
   "metadata": {},
   "source": [
    "# Download audio"
   ]
  },
  {
   "cell_type": "code",
   "execution_count": 1,
   "metadata": {},
   "outputs": [],
   "source": [
    "import requests as r"
   ]
  },
  {
   "cell_type": "code",
   "execution_count": 2,
   "metadata": {},
   "outputs": [],
   "source": [
    "response=r.get('https://freesound.org/data/previews/519/519352_11204368-lq.mp3', stream=True)"
   ]
  },
  {
   "cell_type": "code",
   "execution_count": 5,
   "metadata": {},
   "outputs": [],
   "source": [
    "with open('new_audio_bcn.mp3', 'wb') as f:\n",
    "    f.write(response.content)"
   ]
  },
  {
   "cell_type": "code",
   "execution_count": 6,
   "metadata": {},
   "outputs": [
    {
     "name": "stdout",
     "output_type": "stream",
     "text": [
      "Requirement already satisfied: pydub in /home/mauritian/yes/lib/python3.7/site-packages (0.24.1)\r\n"
     ]
    }
   ],
   "source": [
    "!pip install pydub"
   ]
  },
  {
   "cell_type": "code",
   "execution_count": 7,
   "metadata": {},
   "outputs": [],
   "source": [
    "from pydub import AudioSegment\n",
    "from pydub.playback import play\n",
    "import io"
   ]
  },
  {
   "cell_type": "code",
   "execution_count": 9,
   "metadata": {},
   "outputs": [],
   "source": [
    "song=AudioSegment.from_file(io.BytesIO(response.content), format='mp3') #reading the respose.content as audio file\n",
    "play(song) #play it in Python"
   ]
  },
  {
   "cell_type": "markdown",
   "metadata": {},
   "source": [
    "# Streaming content"
   ]
  },
  {
   "cell_type": "code",
   "execution_count": 10,
   "metadata": {},
   "outputs": [],
   "source": [
    "resp=r.get('http://listen.rba.co.rw:8000/;?listening-from-radio-garden=1599638790267', stream=True)"
   ]
  },
  {
   "cell_type": "code",
   "execution_count": 13,
   "metadata": {},
   "outputs": [],
   "source": [
    "resp=r.get('http://listen.rba.co.rw:8000/;?listening-from-radio-garden=1599638790267', stream=True)\n",
    "\n",
    "with open('rwanda_radio.mp3', 'wb') as f:\n",
    "    try:\n",
    "        for block in resp.iter_content(1024*1024):\n",
    "            f.write(block)\n",
    "    except KeyboardInterrupt:\n",
    "        pass"
   ]
  },
  {
   "cell_type": "markdown",
   "metadata": {},
   "source": [
    "# Video"
   ]
  },
  {
   "cell_type": "code",
   "execution_count": 14,
   "metadata": {},
   "outputs": [],
   "source": [
    "url='http://data-sub.datalock.ru/fi2lm/fa8f4e93e3e57b19341f62c21f08ea32/sub/7f_11.22.63.s01e06.BDRip.720p.a1.04.01.17.mp4'"
   ]
  },
  {
   "cell_type": "code",
   "execution_count": 15,
   "metadata": {},
   "outputs": [],
   "source": [
    "def download_video(url):\n",
    "    local_filename=url.split('/')[-1]\n",
    "    with r.get(url, stream=True) as resp:\n",
    "        resp.raise_for_status()\n",
    "        with open(local_filename, 'wb') as f:\n",
    "            for chunk in resp.iter_content(chunk_size=1024*1024*50):\n",
    "                f.write(chunk)\n",
    "    return local_filename"
   ]
  },
  {
   "cell_type": "code",
   "execution_count": 16,
   "metadata": {},
   "outputs": [
    {
     "data": {
      "text/plain": [
       "'7f_11.22.63.s01e06.BDRip.720p.a1.04.01.17.mp4'"
      ]
     },
     "execution_count": 16,
     "metadata": {},
     "output_type": "execute_result"
    }
   ],
   "source": [
    "download_video(url)"
   ]
  },
  {
   "cell_type": "code",
   "execution_count": 21,
   "metadata": {},
   "outputs": [],
   "source": [
    "?resp.iter_content"
   ]
  },
  {
   "cell_type": "markdown",
   "metadata": {},
   "source": [
    "# HTML + CSS"
   ]
  },
  {
   "cell_type": "code",
   "execution_count": 26,
   "metadata": {
    "scrolled": false
   },
   "outputs": [],
   "source": [
    "html=r.get('https://www.reuters.com/article/us-health-coronavirus-usa-food/from-deliveries-in-arizona-to-fish-markets-in-california-coronavirus-changes-how-we-buy-our-food-idUSKBN21Q1AS').content"
   ]
  },
  {
   "cell_type": "code",
   "execution_count": 27,
   "metadata": {},
   "outputs": [
    {
     "data": {
      "text/plain": [
       "b'<!--[if !IE]> This has NOT been served from cache <![endif]-->\\n<!--[if !IE]> Request served from apa'"
      ]
     },
     "execution_count": 27,
     "metadata": {},
     "output_type": "execute_result"
    }
   ],
   "source": [
    "html[:100]"
   ]
  },
  {
   "cell_type": "code",
   "execution_count": 28,
   "metadata": {},
   "outputs": [],
   "source": [
    "import re"
   ]
  },
  {
   "cell_type": "code",
   "execution_count": 36,
   "metadata": {},
   "outputs": [
    {
     "data": {
      "text/plain": [
       "'From deliveries in Arizona to fish markets in California, coronavirus changes how we buy our food - Reuters'"
      ]
     },
     "execution_count": 36,
     "metadata": {},
     "output_type": "execute_result"
    }
   ],
   "source": [
    "re.findall(r'<title>(.*?)<', str(html))[0].strip(r'\\n ')"
   ]
  },
  {
   "cell_type": "code",
   "execution_count": 37,
   "metadata": {},
   "outputs": [],
   "source": [
    "from bs4 import BeautifulSoup"
   ]
  },
  {
   "cell_type": "code",
   "execution_count": 38,
   "metadata": {},
   "outputs": [],
   "source": [
    "soup=BeautifulSoup(html)"
   ]
  },
  {
   "cell_type": "code",
   "execution_count": 46,
   "metadata": {
    "scrolled": false
   },
   "outputs": [
    {
     "data": {
      "text/plain": [
       "'\\n                From deliveries in Arizona to fish markets in California, coronavirus changes how we buy our food - Reuters'"
      ]
     },
     "execution_count": 46,
     "metadata": {},
     "output_type": "execute_result"
    }
   ],
   "source": [
    "soup.select('title')[0].text"
   ]
  },
  {
   "cell_type": "code",
   "execution_count": 49,
   "metadata": {},
   "outputs": [
    {
     "data": {
      "text/plain": [
       "'From deliveries in Arizona to fish markets in California, coronavirus changes how we buy our food'"
      ]
     },
     "execution_count": 49,
     "metadata": {},
     "output_type": "execute_result"
    }
   ],
   "source": [
    "soup.select('h1')[0].text"
   ]
  },
  {
   "cell_type": "code",
   "execution_count": 52,
   "metadata": {},
   "outputs": [],
   "source": [
    "list_of_tags=[f'h{i}' for i in range(1,8)]+['p']"
   ]
  },
  {
   "cell_type": "code",
   "execution_count": 53,
   "metadata": {},
   "outputs": [
    {
     "data": {
      "text/plain": [
       "['h1', 'h2', 'h3', 'h4', 'h5', 'h6', 'h7', 'p']"
      ]
     },
     "execution_count": 53,
     "metadata": {},
     "output_type": "execute_result"
    }
   ],
   "source": [
    "list_of_tags"
   ]
  },
  {
   "cell_type": "code",
   "execution_count": 58,
   "metadata": {},
   "outputs": [
    {
     "name": "stdout",
     "output_type": "stream",
     "text": [
      "From deliveries in Arizona to fish markets in California, coronavirus changes how we buy our food\n",
      "4 Min Read\n",
      "(Reuters) - Eric Cohn used to wear a respirator mask, goggles and gloves only to protect against mold and asbestos as he restored homes in Tucson, Arizona. Now he dons the same gear in his new job - shopping for quarantined customers.  \n",
      "“People ask me where I get this mask every day,” the 34-year-old said. “They say: you look good! I say I’m not trying to look good. I’m trying to be safe.” \n",
      "With over 90% of the U.S. population under orders to stay home to slow the spread of the coronavirus, Cohn is among a new class of front-line workers delivering food to people’s houses. \n",
      "These workers risk their own health every time they touch doors to enter supermarkets and restaurants, or approach homes where someone inside could be sick. But - with a record 10 million Americans filing claims for unemployment benefits in the last two weeks of March - many feel they have little choice if they want to pay their bills. \n",
      "Cohn said he often feels vulnerable in the supermarket checkout line as other customers get closer to him than the recommended 6 feet (1.8 meters). Once safely back in his car, he disinfects his gloved hands, steering wheel, door handles and phone. He often works 14 hours with a goal of making $200 a day. \n",
      "“If I didn’t have my own PPE, I don’t know if I would be OK with doing this,” he said, referring to personal protective equipment. \n",
      "Concerns about staff safety led a family in New York’s Brooklyn neighborhood to decide to close their three restaurants. Last week, Ix (pronounced “eesh”) made its last free deliveries of Guatemalan food to police, firefighters, doctors and nurses.  \n",
      "“This was our baby. It was the dream come true. It’s hard to say goodbye to that,” said Ana Prince, one of the owners of Ix, which opened over three years ago.  \n",
      "“I feel like I want to cry because you never want to see your business closing,” she said. “But everyone is healthy and we don’t want them to get sick. It could get worse. So for the health of everybody, we made the decision (to close), but it wasn’t easy at all,” said Prince. \n",
      "With restaurants closing and so many people ordering food from their homes, many Americans have found delivery slots at grocery stores evaporating. \n",
      "Some providers have tried to get around that by going direct to the consumer. \n",
      "In Lodi, Ohio, farmers have created a website offering weekly deliveries of vegetables, meats, cheeses and other fresh items. \n",
      "“It’s nice for us using the online order forms,” said Jimmy Myers, 33, one of the owners of Front 9 Farm. “We know that everything we harvest is going to be sold. There’s very little waste... We sell out of eggs within about two hours of loading the order form.”  \n",
      "In California, Jordyn Kastlunger, who fishes commercially with her father Martin Kastlunger, sometimes sells the catches at the Tuna Harbor Dockside Market in San Diego. About 300 people recently lined up to buy fish at the market, standing on tape markers 6 feet apart. Police later asked them to increase the spacing to 12 feet.  \n",
      "“My dad fishes for a variety of things so the only thing that’s really been impacted is crab, since processors don’t have as much bait to give,” Kastlunger said. “We’ve been doing OK. It’s definitely slower and harder.”  \n",
      "Reporting by Cheney Orr in Tucson, Arizona; Bing Gaun in San Diego; Dane Rhys in Akron, Ohio and Anna Watts in New York; Writing by Lisa Shumaker; Editing by Rosalba O'Brien\n",
      "All quotes delayed a minimum of 15 minutes. See here for a complete list of exchanges and delays.\n",
      "© 2020 Reuters. All Rights Reserved.\n"
     ]
    }
   ],
   "source": [
    "print('\\n'.join([i.text for i in soup.find_all(list_of_tags)]))"
   ]
  },
  {
   "cell_type": "code",
   "execution_count": 63,
   "metadata": {},
   "outputs": [
    {
     "data": {
      "text/plain": [
       "['4 Min Read',\n",
       " '(Reuters) - Eric Cohn used to wear a respirator mask, goggles and gloves only to protect against mold and asbestos as he restored homes in Tucson, Arizona. Now he dons the same gear in his new job - shopping for quarantined customers.  ',\n",
       " '“People ask me where I get this mask every day,” the 34-year-old said. “They say: you look good! I say I’m not trying to look good. I’m trying to be safe.” ',\n",
       " 'With over 90% of the U.S. population under orders to stay home to slow the spread of the coronavirus, Cohn is among a new class of front-line workers delivering food to people’s houses. ',\n",
       " 'These workers risk their own health every time they touch doors to enter supermarkets and restaurants, or approach homes where someone inside could be sick. But - with a record 10 million Americans filing claims for unemployment benefits in the last two weeks of March - many feel they have little choice if they want to pay their bills. ',\n",
       " 'Cohn said he often feels vulnerable in the supermarket checkout line as other customers get closer to him than the recommended 6 feet (1.8 meters). Once safely back in his car, he disinfects his gloved hands, steering wheel, door handles and phone. He often works 14 hours with a goal of making $200 a day. ',\n",
       " '“If I didn’t have my own PPE, I don’t know if I would be OK with doing this,” he said, referring to personal protective equipment. ',\n",
       " 'Concerns about staff safety led a family in New York’s Brooklyn neighborhood to decide to close their three restaurants. Last week, Ix (pronounced “eesh”) made its last free deliveries of Guatemalan food to police, firefighters, doctors and nurses.  ',\n",
       " '“This was our baby. It was the dream come true. It’s hard to say goodbye to that,” said Ana Prince, one of the owners of Ix, which opened over three years ago.  ',\n",
       " '“I feel like I want to cry because you never want to see your business closing,” she said. “But everyone is healthy and we don’t want them to get sick. It could get worse. So for the health of everybody, we made the decision (to close), but it wasn’t easy at all,” said Prince. ',\n",
       " 'With restaurants closing and so many people ordering food from their homes, many Americans have found delivery slots at grocery stores evaporating. ',\n",
       " 'Some providers have tried to get around that by going direct to the consumer. ',\n",
       " 'In Lodi, Ohio, farmers have created a website offering weekly deliveries of vegetables, meats, cheeses and other fresh items. ',\n",
       " '“It’s nice for us using the online order forms,” said Jimmy Myers, 33, one of the owners of Front 9 Farm. “We know that everything we harvest is going to be sold. There’s very little waste... We sell out of eggs within about two hours of loading the order form.”  ',\n",
       " 'In California, Jordyn Kastlunger, who fishes commercially with her father Martin Kastlunger, sometimes sells the catches at the Tuna Harbor Dockside Market in San Diego. About 300 people recently lined up to buy fish at the market, standing on tape markers 6 feet apart. Police later asked them to increase the spacing to 12 feet.  ',\n",
       " '“My dad fishes for a variety of things so the only thing that’s really been impacted is crab, since processors don’t have as much bait to give,” Kastlunger said. “We’ve been doing OK. It’s definitely slower and harder.”  ',\n",
       " \"Reporting by Cheney Orr in Tucson, Arizona; Bing Gaun in San Diego; Dane Rhys in Akron, Ohio and Anna Watts in New York; Writing by Lisa Shumaker; Editing by Rosalba O'Brien\",\n",
       " 'All quotes delayed a minimum of 15 minutes. See here for a complete list of exchanges and delays.',\n",
       " '© 2020 Reuters. All Rights Reserved.']"
      ]
     },
     "execution_count": 63,
     "metadata": {},
     "output_type": "execute_result"
    }
   ],
   "source": [
    "[i.text for i in soup.find_all('p')]"
   ]
  },
  {
   "cell_type": "code",
   "execution_count": 64,
   "metadata": {},
   "outputs": [
    {
     "data": {
      "text/plain": [
       "\"4 Min Read\\n(Reuters) - Eric Cohn used to wear a respirator mask, goggles and gloves only to protect against mold and asbestos as he restored homes in Tucson, Arizona. Now he dons the same gear in his new job - shopping for quarantined customers.  \\n“People ask me where I get this mask every day,” the 34-year-old said. “They say: you look good! I say I’m not trying to look good. I’m trying to be safe.” \\nWith over 90% of the U.S. population under orders to stay home to slow the spread of the coronavirus, Cohn is among a new class of front-line workers delivering food to people’s houses. \\nThese workers risk their own health every time they touch doors to enter supermarkets and restaurants, or approach homes where someone inside could be sick. But - with a record 10 million Americans filing claims for unemployment benefits in the last two weeks of March - many feel they have little choice if they want to pay their bills. \\nCohn said he often feels vulnerable in the supermarket checkout line as other customers get closer to him than the recommended 6 feet (1.8 meters). Once safely back in his car, he disinfects his gloved hands, steering wheel, door handles and phone. He often works 14 hours with a goal of making $200 a day. \\n“If I didn’t have my own PPE, I don’t know if I would be OK with doing this,” he said, referring to personal protective equipment. \\nConcerns about staff safety led a family in New York’s Brooklyn neighborhood to decide to close their three restaurants. Last week, Ix (pronounced “eesh”) made its last free deliveries of Guatemalan food to police, firefighters, doctors and nurses.  \\n“This was our baby. It was the dream come true. It’s hard to say goodbye to that,” said Ana Prince, one of the owners of Ix, which opened over three years ago.  \\n“I feel like I want to cry because you never want to see your business closing,” she said. “But everyone is healthy and we don’t want them to get sick. It could get worse. So for the health of everybody, we made the decision (to close), but it wasn’t easy at all,” said Prince. \\nWith restaurants closing and so many people ordering food from their homes, many Americans have found delivery slots at grocery stores evaporating. \\nSome providers have tried to get around that by going direct to the consumer. \\nIn Lodi, Ohio, farmers have created a website offering weekly deliveries of vegetables, meats, cheeses and other fresh items. \\n“It’s nice for us using the online order forms,” said Jimmy Myers, 33, one of the owners of Front 9 Farm. “We know that everything we harvest is going to be sold. There’s very little waste... We sell out of eggs within about two hours of loading the order form.”  \\nIn California, Jordyn Kastlunger, who fishes commercially with her father Martin Kastlunger, sometimes sells the catches at the Tuna Harbor Dockside Market in San Diego. About 300 people recently lined up to buy fish at the market, standing on tape markers 6 feet apart. Police later asked them to increase the spacing to 12 feet.  \\n“My dad fishes for a variety of things so the only thing that’s really been impacted is crab, since processors don’t have as much bait to give,” Kastlunger said. “We’ve been doing OK. It’s definitely slower and harder.”  \\nReporting by Cheney Orr in Tucson, Arizona; Bing Gaun in San Diego; Dane Rhys in Akron, Ohio and Anna Watts in New York; Writing by Lisa Shumaker; Editing by Rosalba O'Brien\\nAll quotes delayed a minimum of 15 minutes. See here for a complete list of exchanges and delays.\\n© 2020 Reuters. All Rights Reserved.\""
      ]
     },
     "execution_count": 64,
     "metadata": {},
     "output_type": "execute_result"
    }
   ],
   "source": [
    "'\\n'.join([i.text for i in soup.find_all('p')])"
   ]
  },
  {
   "cell_type": "code",
   "execution_count": 65,
   "metadata": {},
   "outputs": [
    {
     "name": "stdout",
     "output_type": "stream",
     "text": [
      "4 Min Read\n",
      "(Reuters) - Eric Cohn used to wear a respirator mask, goggles and gloves only to protect against mold and asbestos as he restored homes in Tucson, Arizona. Now he dons the same gear in his new job - shopping for quarantined customers.  \n",
      "“People ask me where I get this mask every day,” the 34-year-old said. “They say: you look good! I say I’m not trying to look good. I’m trying to be safe.” \n",
      "With over 90% of the U.S. population under orders to stay home to slow the spread of the coronavirus, Cohn is among a new class of front-line workers delivering food to people’s houses. \n",
      "These workers risk their own health every time they touch doors to enter supermarkets and restaurants, or approach homes where someone inside could be sick. But - with a record 10 million Americans filing claims for unemployment benefits in the last two weeks of March - many feel they have little choice if they want to pay their bills. \n",
      "Cohn said he often feels vulnerable in the supermarket checkout line as other customers get closer to him than the recommended 6 feet (1.8 meters). Once safely back in his car, he disinfects his gloved hands, steering wheel, door handles and phone. He often works 14 hours with a goal of making $200 a day. \n",
      "“If I didn’t have my own PPE, I don’t know if I would be OK with doing this,” he said, referring to personal protective equipment. \n",
      "Concerns about staff safety led a family in New York’s Brooklyn neighborhood to decide to close their three restaurants. Last week, Ix (pronounced “eesh”) made its last free deliveries of Guatemalan food to police, firefighters, doctors and nurses.  \n",
      "“This was our baby. It was the dream come true. It’s hard to say goodbye to that,” said Ana Prince, one of the owners of Ix, which opened over three years ago.  \n",
      "“I feel like I want to cry because you never want to see your business closing,” she said. “But everyone is healthy and we don’t want them to get sick. It could get worse. So for the health of everybody, we made the decision (to close), but it wasn’t easy at all,” said Prince. \n",
      "With restaurants closing and so many people ordering food from their homes, many Americans have found delivery slots at grocery stores evaporating. \n",
      "Some providers have tried to get around that by going direct to the consumer. \n",
      "In Lodi, Ohio, farmers have created a website offering weekly deliveries of vegetables, meats, cheeses and other fresh items. \n",
      "“It’s nice for us using the online order forms,” said Jimmy Myers, 33, one of the owners of Front 9 Farm. “We know that everything we harvest is going to be sold. There’s very little waste... We sell out of eggs within about two hours of loading the order form.”  \n",
      "In California, Jordyn Kastlunger, who fishes commercially with her father Martin Kastlunger, sometimes sells the catches at the Tuna Harbor Dockside Market in San Diego. About 300 people recently lined up to buy fish at the market, standing on tape markers 6 feet apart. Police later asked them to increase the spacing to 12 feet.  \n",
      "“My dad fishes for a variety of things so the only thing that’s really been impacted is crab, since processors don’t have as much bait to give,” Kastlunger said. “We’ve been doing OK. It’s definitely slower and harder.”  \n",
      "Reporting by Cheney Orr in Tucson, Arizona; Bing Gaun in San Diego; Dane Rhys in Akron, Ohio and Anna Watts in New York; Writing by Lisa Shumaker; Editing by Rosalba O'Brien\n",
      "All quotes delayed a minimum of 15 minutes. See here for a complete list of exchanges and delays.\n",
      "© 2020 Reuters. All Rights Reserved.\n"
     ]
    }
   ],
   "source": [
    "print('\\n'.join([i.text for i in soup.find_all('p')]))"
   ]
  },
  {
   "cell_type": "code",
   "execution_count": 66,
   "metadata": {},
   "outputs": [],
   "source": [
    "url='https://en.wikipedia.org/wiki/List_of_European_countries_by_life_expectancy'"
   ]
  },
  {
   "cell_type": "code",
   "execution_count": 67,
   "metadata": {},
   "outputs": [],
   "source": [
    "html=r.get(url).content"
   ]
  },
  {
   "cell_type": "code",
   "execution_count": 68,
   "metadata": {},
   "outputs": [],
   "source": [
    "soup=BeautifulSoup(html)"
   ]
  },
  {
   "cell_type": "code",
   "execution_count": 72,
   "metadata": {},
   "outputs": [],
   "source": [
    "table=soup.select('table.sortable')[0]"
   ]
  },
  {
   "cell_type": "code",
   "execution_count": 75,
   "metadata": {},
   "outputs": [],
   "source": [
    "rows=table.find_all('tr')"
   ]
  },
  {
   "cell_type": "code",
   "execution_count": 87,
   "metadata": {},
   "outputs": [
    {
     "data": {
      "text/html": [
       "<div>\n",
       "<style scoped>\n",
       "    .dataframe tbody tr th:only-of-type {\n",
       "        vertical-align: middle;\n",
       "    }\n",
       "\n",
       "    .dataframe tbody tr th {\n",
       "        vertical-align: top;\n",
       "    }\n",
       "\n",
       "    .dataframe thead th {\n",
       "        text-align: right;\n",
       "    }\n",
       "</style>\n",
       "<table border=\"1\" class=\"dataframe\">\n",
       "  <thead>\n",
       "    <tr style=\"text-align: right;\">\n",
       "      <th></th>\n",
       "      <th>Rank</th>\n",
       "      <th>Country</th>\n",
       "      <th>Life expectancy[1]</th>\n",
       "    </tr>\n",
       "  </thead>\n",
       "  <tbody>\n",
       "    <tr>\n",
       "      <th>0</th>\n",
       "      <td>1</td>\n",
       "      <td>Monaco[2]</td>\n",
       "      <td>89.4</td>\n",
       "    </tr>\n",
       "    <tr>\n",
       "      <th>1</th>\n",
       "      <td>2</td>\n",
       "      <td>San Marino[3]</td>\n",
       "      <td>83.4</td>\n",
       "    </tr>\n",
       "    <tr>\n",
       "      <th>2</th>\n",
       "      <td>3</td>\n",
       "      <td>Switzerland</td>\n",
       "      <td>83.0</td>\n",
       "    </tr>\n",
       "    <tr>\n",
       "      <th>3</th>\n",
       "      <td>4</td>\n",
       "      <td>Spain</td>\n",
       "      <td>82.8</td>\n",
       "    </tr>\n",
       "    <tr>\n",
       "      <th>4</th>\n",
       "      <td>5</td>\n",
       "      <td>Liechtenstein</td>\n",
       "      <td>82.7</td>\n",
       "    </tr>\n",
       "    <tr>\n",
       "      <th>5</th>\n",
       "      <td>6</td>\n",
       "      <td>Italy</td>\n",
       "      <td>82.7</td>\n",
       "    </tr>\n",
       "    <tr>\n",
       "      <th>6</th>\n",
       "      <td>7</td>\n",
       "      <td>Norway</td>\n",
       "      <td>82.5</td>\n",
       "    </tr>\n",
       "    <tr>\n",
       "      <th>7</th>\n",
       "      <td>8</td>\n",
       "      <td>Iceland</td>\n",
       "      <td>82.5</td>\n",
       "    </tr>\n",
       "    <tr>\n",
       "      <th>8</th>\n",
       "      <td>9</td>\n",
       "      <td>Luxembourg</td>\n",
       "      <td>82.3</td>\n",
       "    </tr>\n",
       "    <tr>\n",
       "      <th>9</th>\n",
       "      <td>10</td>\n",
       "      <td>France</td>\n",
       "      <td>82.3</td>\n",
       "    </tr>\n",
       "    <tr>\n",
       "      <th>10</th>\n",
       "      <td>11</td>\n",
       "      <td>Sweden</td>\n",
       "      <td>82.2</td>\n",
       "    </tr>\n",
       "    <tr>\n",
       "      <th>11</th>\n",
       "      <td>12</td>\n",
       "      <td>Malta</td>\n",
       "      <td>81.8</td>\n",
       "    </tr>\n",
       "    <tr>\n",
       "      <th>12</th>\n",
       "      <td>13</td>\n",
       "      <td>Finland</td>\n",
       "      <td>81.8</td>\n",
       "    </tr>\n",
       "    <tr>\n",
       "      <th>13</th>\n",
       "      <td>14</td>\n",
       "      <td>Ireland</td>\n",
       "      <td>81.6</td>\n",
       "    </tr>\n",
       "    <tr>\n",
       "      <th>14</th>\n",
       "      <td>15</td>\n",
       "      <td>Netherlands</td>\n",
       "      <td>81.5</td>\n",
       "    </tr>\n",
       "    <tr>\n",
       "      <th>15</th>\n",
       "      <td>16</td>\n",
       "      <td>Portugal</td>\n",
       "      <td>81.1</td>\n",
       "    </tr>\n",
       "    <tr>\n",
       "      <th>16</th>\n",
       "      <td>17</td>\n",
       "      <td>Greece</td>\n",
       "      <td>81.0</td>\n",
       "    </tr>\n",
       "    <tr>\n",
       "      <th>17</th>\n",
       "      <td>18</td>\n",
       "      <td>United Kingdom</td>\n",
       "      <td>81.0</td>\n",
       "    </tr>\n",
       "    <tr>\n",
       "      <th>18</th>\n",
       "      <td>19</td>\n",
       "      <td>Belgium</td>\n",
       "      <td>81.0</td>\n",
       "    </tr>\n",
       "    <tr>\n",
       "      <th>19</th>\n",
       "      <td>20</td>\n",
       "      <td>Austria</td>\n",
       "      <td>80.9</td>\n",
       "    </tr>\n",
       "    <tr>\n",
       "      <th>20</th>\n",
       "      <td>21</td>\n",
       "      <td>Slovenia</td>\n",
       "      <td>80.8</td>\n",
       "    </tr>\n",
       "    <tr>\n",
       "      <th>21</th>\n",
       "      <td>22</td>\n",
       "      <td>Denmark</td>\n",
       "      <td>80.7</td>\n",
       "    </tr>\n",
       "    <tr>\n",
       "      <th>22</th>\n",
       "      <td>23</td>\n",
       "      <td>Germany</td>\n",
       "      <td>80.6</td>\n",
       "    </tr>\n",
       "    <tr>\n",
       "      <th>23</th>\n",
       "      <td>24</td>\n",
       "      <td>Cyprus</td>\n",
       "      <td>80.5</td>\n",
       "    </tr>\n",
       "    <tr>\n",
       "      <th>24</th>\n",
       "      <td>25</td>\n",
       "      <td>Albania</td>\n",
       "      <td>78.3</td>\n",
       "    </tr>\n",
       "    <tr>\n",
       "      <th>25</th>\n",
       "      <td>26</td>\n",
       "      <td>Czech Republic</td>\n",
       "      <td>78.3</td>\n",
       "    </tr>\n",
       "    <tr>\n",
       "      <th>26</th>\n",
       "      <td>27</td>\n",
       "      <td>Croatia</td>\n",
       "      <td>78.0</td>\n",
       "    </tr>\n",
       "    <tr>\n",
       "      <th>27</th>\n",
       "      <td>28</td>\n",
       "      <td>Estonia</td>\n",
       "      <td>77.7</td>\n",
       "    </tr>\n",
       "    <tr>\n",
       "      <th>28</th>\n",
       "      <td>29</td>\n",
       "      <td>Poland</td>\n",
       "      <td>77.5</td>\n",
       "    </tr>\n",
       "    <tr>\n",
       "      <th>29</th>\n",
       "      <td>30</td>\n",
       "      <td>Montenegro</td>\n",
       "      <td>77.1</td>\n",
       "    </tr>\n",
       "    <tr>\n",
       "      <th>30</th>\n",
       "      <td>31</td>\n",
       "      <td>Bosnia and Herzegovina</td>\n",
       "      <td>76.9</td>\n",
       "    </tr>\n",
       "    <tr>\n",
       "      <th>31</th>\n",
       "      <td>32</td>\n",
       "      <td>Slovakia</td>\n",
       "      <td>76.6</td>\n",
       "    </tr>\n",
       "    <tr>\n",
       "      <th>32</th>\n",
       "      <td>33</td>\n",
       "      <td>Turkey</td>\n",
       "      <td>75.8</td>\n",
       "    </tr>\n",
       "    <tr>\n",
       "      <th>33</th>\n",
       "      <td>34</td>\n",
       "      <td>North Macedonia</td>\n",
       "      <td>75.7</td>\n",
       "    </tr>\n",
       "    <tr>\n",
       "      <th>34</th>\n",
       "      <td>35</td>\n",
       "      <td>Hungary</td>\n",
       "      <td>75.6</td>\n",
       "    </tr>\n",
       "    <tr>\n",
       "      <th>35</th>\n",
       "      <td>36</td>\n",
       "      <td>Serbia</td>\n",
       "      <td>75.2</td>\n",
       "    </tr>\n",
       "    <tr>\n",
       "      <th>36</th>\n",
       "      <td>37</td>\n",
       "      <td>Romania</td>\n",
       "      <td>75.0</td>\n",
       "    </tr>\n",
       "    <tr>\n",
       "      <th>37</th>\n",
       "      <td>38</td>\n",
       "      <td>Bulgaria</td>\n",
       "      <td>74.6</td>\n",
       "    </tr>\n",
       "    <tr>\n",
       "      <th>38</th>\n",
       "      <td>39</td>\n",
       "      <td>Latvia</td>\n",
       "      <td>74.5</td>\n",
       "    </tr>\n",
       "    <tr>\n",
       "      <th>39</th>\n",
       "      <td>40</td>\n",
       "      <td>Lithuania</td>\n",
       "      <td>74.3</td>\n",
       "    </tr>\n",
       "    <tr>\n",
       "      <th>40</th>\n",
       "      <td>41</td>\n",
       "      <td>Belarus</td>\n",
       "      <td>73.8</td>\n",
       "    </tr>\n",
       "    <tr>\n",
       "      <th>41</th>\n",
       "      <td>42</td>\n",
       "      <td>Kazakhstan</td>\n",
       "      <td>72.3</td>\n",
       "    </tr>\n",
       "    <tr>\n",
       "      <th>42</th>\n",
       "      <td>43</td>\n",
       "      <td>Moldova</td>\n",
       "      <td>71.6</td>\n",
       "    </tr>\n",
       "    <tr>\n",
       "      <th>43</th>\n",
       "      <td>44</td>\n",
       "      <td>Russia</td>\n",
       "      <td>71.6</td>\n",
       "    </tr>\n",
       "    <tr>\n",
       "      <th>44</th>\n",
       "      <td>45</td>\n",
       "      <td>Ukraine</td>\n",
       "      <td>71.5</td>\n",
       "    </tr>\n",
       "  </tbody>\n",
       "</table>\n",
       "</div>"
      ],
      "text/plain": [
       "   Rank                 Country Life expectancy[1]\n",
       "0     1               Monaco[2]               89.4\n",
       "1     2           San Marino[3]               83.4\n",
       "2     3             Switzerland               83.0\n",
       "3     4                   Spain               82.8\n",
       "4     5           Liechtenstein               82.7\n",
       "5     6                   Italy               82.7\n",
       "6     7                  Norway               82.5\n",
       "7     8                 Iceland               82.5\n",
       "8     9              Luxembourg               82.3\n",
       "9    10                  France               82.3\n",
       "10   11                  Sweden               82.2\n",
       "11   12                   Malta               81.8\n",
       "12   13                 Finland               81.8\n",
       "13   14                 Ireland               81.6\n",
       "14   15             Netherlands               81.5\n",
       "15   16                Portugal               81.1\n",
       "16   17                  Greece               81.0\n",
       "17   18          United Kingdom               81.0\n",
       "18   19                 Belgium               81.0\n",
       "19   20                 Austria               80.9\n",
       "20   21                Slovenia               80.8\n",
       "21   22                 Denmark               80.7\n",
       "22   23                 Germany               80.6\n",
       "23   24                  Cyprus               80.5\n",
       "24   25                 Albania               78.3\n",
       "25   26          Czech Republic               78.3\n",
       "26   27                 Croatia               78.0\n",
       "27   28                 Estonia               77.7\n",
       "28   29                  Poland               77.5\n",
       "29   30              Montenegro               77.1\n",
       "30   31  Bosnia and Herzegovina               76.9\n",
       "31   32                Slovakia               76.6\n",
       "32   33                  Turkey               75.8\n",
       "33   34         North Macedonia               75.7\n",
       "34   35                 Hungary               75.6\n",
       "35   36                  Serbia               75.2\n",
       "36   37                 Romania               75.0\n",
       "37   38                Bulgaria               74.6\n",
       "38   39                  Latvia               74.5\n",
       "39   40               Lithuania               74.3\n",
       "40   41                 Belarus               73.8\n",
       "41   42              Kazakhstan               72.3\n",
       "42   43                 Moldova               71.6\n",
       "43   44                  Russia               71.6\n",
       "44   45                 Ukraine               71.5"
      ]
     },
     "execution_count": 87,
     "metadata": {},
     "output_type": "execute_result"
    }
   ],
   "source": [
    "import pandas as pd\n",
    "\n",
    "table=[[cell.strip() for cell in i.text.strip().split('\\n') if cell!=''] for i in rows]\n",
    "\n",
    "pd.DataFrame(table[1:], columns=table[0])"
   ]
  },
  {
   "cell_type": "code",
   "execution_count": 93,
   "metadata": {},
   "outputs": [
    {
     "data": {
      "text/plain": [
       "'https://en.wikipedia.org/wiki/List_of_European_countries_by_life_expectancy'"
      ]
     },
     "execution_count": 93,
     "metadata": {},
     "output_type": "execute_result"
    }
   ],
   "source": [
    "url"
   ]
  },
  {
   "cell_type": "code",
   "execution_count": 92,
   "metadata": {
    "collapsed": true
   },
   "outputs": [
    {
     "data": {
      "text/html": [
       "<div>\n",
       "<style scoped>\n",
       "    .dataframe tbody tr th:only-of-type {\n",
       "        vertical-align: middle;\n",
       "    }\n",
       "\n",
       "    .dataframe tbody tr th {\n",
       "        vertical-align: top;\n",
       "    }\n",
       "\n",
       "    .dataframe thead th {\n",
       "        text-align: right;\n",
       "    }\n",
       "</style>\n",
       "<table border=\"1\" class=\"dataframe\">\n",
       "  <thead>\n",
       "    <tr style=\"text-align: right;\">\n",
       "      <th></th>\n",
       "      <th>Rank</th>\n",
       "      <th>Country</th>\n",
       "      <th>Life expectancy[1]</th>\n",
       "    </tr>\n",
       "  </thead>\n",
       "  <tbody>\n",
       "    <tr>\n",
       "      <th>0</th>\n",
       "      <td>1</td>\n",
       "      <td>Monaco[2]</td>\n",
       "      <td>89.4</td>\n",
       "    </tr>\n",
       "    <tr>\n",
       "      <th>1</th>\n",
       "      <td>2</td>\n",
       "      <td>San Marino[3]</td>\n",
       "      <td>83.4</td>\n",
       "    </tr>\n",
       "    <tr>\n",
       "      <th>2</th>\n",
       "      <td>3</td>\n",
       "      <td>Switzerland</td>\n",
       "      <td>83.0</td>\n",
       "    </tr>\n",
       "    <tr>\n",
       "      <th>3</th>\n",
       "      <td>4</td>\n",
       "      <td>Spain</td>\n",
       "      <td>82.8</td>\n",
       "    </tr>\n",
       "    <tr>\n",
       "      <th>4</th>\n",
       "      <td>5</td>\n",
       "      <td>Liechtenstein</td>\n",
       "      <td>82.7</td>\n",
       "    </tr>\n",
       "    <tr>\n",
       "      <th>5</th>\n",
       "      <td>6</td>\n",
       "      <td>Italy</td>\n",
       "      <td>82.7</td>\n",
       "    </tr>\n",
       "    <tr>\n",
       "      <th>6</th>\n",
       "      <td>7</td>\n",
       "      <td>Norway</td>\n",
       "      <td>82.5</td>\n",
       "    </tr>\n",
       "    <tr>\n",
       "      <th>7</th>\n",
       "      <td>8</td>\n",
       "      <td>Iceland</td>\n",
       "      <td>82.5</td>\n",
       "    </tr>\n",
       "    <tr>\n",
       "      <th>8</th>\n",
       "      <td>9</td>\n",
       "      <td>Luxembourg</td>\n",
       "      <td>82.3</td>\n",
       "    </tr>\n",
       "    <tr>\n",
       "      <th>9</th>\n",
       "      <td>10</td>\n",
       "      <td>France</td>\n",
       "      <td>82.3</td>\n",
       "    </tr>\n",
       "    <tr>\n",
       "      <th>10</th>\n",
       "      <td>11</td>\n",
       "      <td>Sweden</td>\n",
       "      <td>82.2</td>\n",
       "    </tr>\n",
       "    <tr>\n",
       "      <th>11</th>\n",
       "      <td>12</td>\n",
       "      <td>Malta</td>\n",
       "      <td>81.8</td>\n",
       "    </tr>\n",
       "    <tr>\n",
       "      <th>12</th>\n",
       "      <td>13</td>\n",
       "      <td>Finland</td>\n",
       "      <td>81.8</td>\n",
       "    </tr>\n",
       "    <tr>\n",
       "      <th>13</th>\n",
       "      <td>14</td>\n",
       "      <td>Ireland</td>\n",
       "      <td>81.6</td>\n",
       "    </tr>\n",
       "    <tr>\n",
       "      <th>14</th>\n",
       "      <td>15</td>\n",
       "      <td>Netherlands</td>\n",
       "      <td>81.5</td>\n",
       "    </tr>\n",
       "    <tr>\n",
       "      <th>15</th>\n",
       "      <td>16</td>\n",
       "      <td>Portugal</td>\n",
       "      <td>81.1</td>\n",
       "    </tr>\n",
       "    <tr>\n",
       "      <th>16</th>\n",
       "      <td>17</td>\n",
       "      <td>Greece</td>\n",
       "      <td>81.0</td>\n",
       "    </tr>\n",
       "    <tr>\n",
       "      <th>17</th>\n",
       "      <td>18</td>\n",
       "      <td>United Kingdom</td>\n",
       "      <td>81.0</td>\n",
       "    </tr>\n",
       "    <tr>\n",
       "      <th>18</th>\n",
       "      <td>19</td>\n",
       "      <td>Belgium</td>\n",
       "      <td>81.0</td>\n",
       "    </tr>\n",
       "    <tr>\n",
       "      <th>19</th>\n",
       "      <td>20</td>\n",
       "      <td>Austria</td>\n",
       "      <td>80.9</td>\n",
       "    </tr>\n",
       "    <tr>\n",
       "      <th>20</th>\n",
       "      <td>21</td>\n",
       "      <td>Slovenia</td>\n",
       "      <td>80.8</td>\n",
       "    </tr>\n",
       "    <tr>\n",
       "      <th>21</th>\n",
       "      <td>22</td>\n",
       "      <td>Denmark</td>\n",
       "      <td>80.7</td>\n",
       "    </tr>\n",
       "    <tr>\n",
       "      <th>22</th>\n",
       "      <td>23</td>\n",
       "      <td>Germany</td>\n",
       "      <td>80.6</td>\n",
       "    </tr>\n",
       "    <tr>\n",
       "      <th>23</th>\n",
       "      <td>24</td>\n",
       "      <td>Cyprus</td>\n",
       "      <td>80.5</td>\n",
       "    </tr>\n",
       "    <tr>\n",
       "      <th>24</th>\n",
       "      <td>25</td>\n",
       "      <td>Albania</td>\n",
       "      <td>78.3</td>\n",
       "    </tr>\n",
       "    <tr>\n",
       "      <th>25</th>\n",
       "      <td>26</td>\n",
       "      <td>Czech Republic</td>\n",
       "      <td>78.3</td>\n",
       "    </tr>\n",
       "    <tr>\n",
       "      <th>26</th>\n",
       "      <td>27</td>\n",
       "      <td>Croatia</td>\n",
       "      <td>78.0</td>\n",
       "    </tr>\n",
       "    <tr>\n",
       "      <th>27</th>\n",
       "      <td>28</td>\n",
       "      <td>Estonia</td>\n",
       "      <td>77.7</td>\n",
       "    </tr>\n",
       "    <tr>\n",
       "      <th>28</th>\n",
       "      <td>29</td>\n",
       "      <td>Poland</td>\n",
       "      <td>77.5</td>\n",
       "    </tr>\n",
       "    <tr>\n",
       "      <th>29</th>\n",
       "      <td>30</td>\n",
       "      <td>Montenegro</td>\n",
       "      <td>77.1</td>\n",
       "    </tr>\n",
       "    <tr>\n",
       "      <th>30</th>\n",
       "      <td>31</td>\n",
       "      <td>Bosnia and Herzegovina</td>\n",
       "      <td>76.9</td>\n",
       "    </tr>\n",
       "    <tr>\n",
       "      <th>31</th>\n",
       "      <td>32</td>\n",
       "      <td>Slovakia</td>\n",
       "      <td>76.6</td>\n",
       "    </tr>\n",
       "    <tr>\n",
       "      <th>32</th>\n",
       "      <td>33</td>\n",
       "      <td>Turkey</td>\n",
       "      <td>75.8</td>\n",
       "    </tr>\n",
       "    <tr>\n",
       "      <th>33</th>\n",
       "      <td>34</td>\n",
       "      <td>North Macedonia</td>\n",
       "      <td>75.7</td>\n",
       "    </tr>\n",
       "    <tr>\n",
       "      <th>34</th>\n",
       "      <td>35</td>\n",
       "      <td>Hungary</td>\n",
       "      <td>75.6</td>\n",
       "    </tr>\n",
       "    <tr>\n",
       "      <th>35</th>\n",
       "      <td>36</td>\n",
       "      <td>Serbia</td>\n",
       "      <td>75.2</td>\n",
       "    </tr>\n",
       "    <tr>\n",
       "      <th>36</th>\n",
       "      <td>37</td>\n",
       "      <td>Romania</td>\n",
       "      <td>75.0</td>\n",
       "    </tr>\n",
       "    <tr>\n",
       "      <th>37</th>\n",
       "      <td>38</td>\n",
       "      <td>Bulgaria</td>\n",
       "      <td>74.6</td>\n",
       "    </tr>\n",
       "    <tr>\n",
       "      <th>38</th>\n",
       "      <td>39</td>\n",
       "      <td>Latvia</td>\n",
       "      <td>74.5</td>\n",
       "    </tr>\n",
       "    <tr>\n",
       "      <th>39</th>\n",
       "      <td>40</td>\n",
       "      <td>Lithuania</td>\n",
       "      <td>74.3</td>\n",
       "    </tr>\n",
       "    <tr>\n",
       "      <th>40</th>\n",
       "      <td>41</td>\n",
       "      <td>Belarus</td>\n",
       "      <td>73.8</td>\n",
       "    </tr>\n",
       "    <tr>\n",
       "      <th>41</th>\n",
       "      <td>42</td>\n",
       "      <td>Kazakhstan</td>\n",
       "      <td>72.3</td>\n",
       "    </tr>\n",
       "    <tr>\n",
       "      <th>42</th>\n",
       "      <td>43</td>\n",
       "      <td>Moldova</td>\n",
       "      <td>71.6</td>\n",
       "    </tr>\n",
       "    <tr>\n",
       "      <th>43</th>\n",
       "      <td>44</td>\n",
       "      <td>Russia</td>\n",
       "      <td>71.6</td>\n",
       "    </tr>\n",
       "    <tr>\n",
       "      <th>44</th>\n",
       "      <td>45</td>\n",
       "      <td>Ukraine</td>\n",
       "      <td>71.5</td>\n",
       "    </tr>\n",
       "  </tbody>\n",
       "</table>\n",
       "</div>"
      ],
      "text/plain": [
       "    Rank                 Country  Life expectancy[1]\n",
       "0      1               Monaco[2]                89.4\n",
       "1      2           San Marino[3]                83.4\n",
       "2      3             Switzerland                83.0\n",
       "3      4                   Spain                82.8\n",
       "4      5           Liechtenstein                82.7\n",
       "5      6                   Italy                82.7\n",
       "6      7                  Norway                82.5\n",
       "7      8                 Iceland                82.5\n",
       "8      9              Luxembourg                82.3\n",
       "9     10                  France                82.3\n",
       "10    11                  Sweden                82.2\n",
       "11    12                   Malta                81.8\n",
       "12    13                 Finland                81.8\n",
       "13    14                 Ireland                81.6\n",
       "14    15             Netherlands                81.5\n",
       "15    16                Portugal                81.1\n",
       "16    17                  Greece                81.0\n",
       "17    18          United Kingdom                81.0\n",
       "18    19                 Belgium                81.0\n",
       "19    20                 Austria                80.9\n",
       "20    21                Slovenia                80.8\n",
       "21    22                 Denmark                80.7\n",
       "22    23                 Germany                80.6\n",
       "23    24                  Cyprus                80.5\n",
       "24    25                 Albania                78.3\n",
       "25    26          Czech Republic                78.3\n",
       "26    27                 Croatia                78.0\n",
       "27    28                 Estonia                77.7\n",
       "28    29                  Poland                77.5\n",
       "29    30              Montenegro                77.1\n",
       "30    31  Bosnia and Herzegovina                76.9\n",
       "31    32                Slovakia                76.6\n",
       "32    33                  Turkey                75.8\n",
       "33    34         North Macedonia                75.7\n",
       "34    35                 Hungary                75.6\n",
       "35    36                  Serbia                75.2\n",
       "36    37                 Romania                75.0\n",
       "37    38                Bulgaria                74.6\n",
       "38    39                  Latvia                74.5\n",
       "39    40               Lithuania                74.3\n",
       "40    41                 Belarus                73.8\n",
       "41    42              Kazakhstan                72.3\n",
       "42    43                 Moldova                71.6\n",
       "43    44                  Russia                71.6\n",
       "44    45                 Ukraine                71.5"
      ]
     },
     "execution_count": 92,
     "metadata": {},
     "output_type": "execute_result"
    }
   ],
   "source": [
    "pd.read_html(url)[0]"
   ]
  },
  {
   "cell_type": "code",
   "execution_count": 94,
   "metadata": {},
   "outputs": [],
   "source": [
    "url='https://en.wikipedia.org/wiki/List_of_countries_and_dependencies_by_population_density'"
   ]
  },
  {
   "cell_type": "code",
   "execution_count": 95,
   "metadata": {},
   "outputs": [],
   "source": [
    "html=r.get(url).content\n",
    "soup=BeautifulSoup(html)"
   ]
  },
  {
   "cell_type": "code",
   "execution_count": 100,
   "metadata": {},
   "outputs": [],
   "source": [
    "table=soup.select('div+p+table.sortable')"
   ]
  },
  {
   "cell_type": "code",
   "execution_count": 101,
   "metadata": {},
   "outputs": [
    {
     "data": {
      "text/plain": [
       "1"
      ]
     },
     "execution_count": 101,
     "metadata": {},
     "output_type": "execute_result"
    }
   ],
   "source": [
    "len(table)"
   ]
  },
  {
   "cell_type": "code",
   "execution_count": 102,
   "metadata": {},
   "outputs": [],
   "source": [
    "rows=table[0].find_all('tr')"
   ]
  },
  {
   "cell_type": "code",
   "execution_count": 103,
   "metadata": {},
   "outputs": [
    {
     "ename": "ValueError",
     "evalue": "7 columns passed, passed data had 9 columns",
     "output_type": "error",
     "traceback": [
      "\u001b[0;31m---------------------------------------------------------------------------\u001b[0m",
      "\u001b[0;31mAssertionError\u001b[0m                            Traceback (most recent call last)",
      "\u001b[0;32m~/yes/lib/python3.7/site-packages/pandas/core/internals/construction.py\u001b[0m in \u001b[0;36m_list_to_arrays\u001b[0;34m(data, columns, coerce_float, dtype)\u001b[0m\n\u001b[1;32m    496\u001b[0m         result = _convert_object_array(\n\u001b[0;32m--> 497\u001b[0;31m             \u001b[0mcontent\u001b[0m\u001b[0;34m,\u001b[0m \u001b[0mcolumns\u001b[0m\u001b[0;34m,\u001b[0m \u001b[0mdtype\u001b[0m\u001b[0;34m=\u001b[0m\u001b[0mdtype\u001b[0m\u001b[0;34m,\u001b[0m \u001b[0mcoerce_float\u001b[0m\u001b[0;34m=\u001b[0m\u001b[0mcoerce_float\u001b[0m\u001b[0;34m\u001b[0m\u001b[0;34m\u001b[0m\u001b[0m\n\u001b[0m\u001b[1;32m    498\u001b[0m         )\n",
      "\u001b[0;32m~/yes/lib/python3.7/site-packages/pandas/core/internals/construction.py\u001b[0m in \u001b[0;36m_convert_object_array\u001b[0;34m(content, columns, coerce_float, dtype)\u001b[0m\n\u001b[1;32m    580\u001b[0m             raise AssertionError(\n\u001b[0;32m--> 581\u001b[0;31m                 \u001b[0;34mf\"{len(columns)} columns passed, passed data had \"\u001b[0m\u001b[0;34m\u001b[0m\u001b[0;34m\u001b[0m\u001b[0m\n\u001b[0m\u001b[1;32m    582\u001b[0m                 \u001b[0;34mf\"{len(content)} columns\"\u001b[0m\u001b[0;34m\u001b[0m\u001b[0;34m\u001b[0m\u001b[0m\n",
      "\u001b[0;31mAssertionError\u001b[0m: 7 columns passed, passed data had 9 columns",
      "\nThe above exception was the direct cause of the following exception:\n",
      "\u001b[0;31mValueError\u001b[0m                                Traceback (most recent call last)",
      "\u001b[0;32m<ipython-input-103-e728562b6ae2>\u001b[0m in \u001b[0;36m<module>\u001b[0;34m\u001b[0m\n\u001b[1;32m      1\u001b[0m \u001b[0mtable\u001b[0m\u001b[0;34m=\u001b[0m\u001b[0;34m[\u001b[0m\u001b[0;34m[\u001b[0m\u001b[0mcell\u001b[0m\u001b[0;34m.\u001b[0m\u001b[0mstrip\u001b[0m\u001b[0;34m(\u001b[0m\u001b[0;34m)\u001b[0m \u001b[0;32mfor\u001b[0m \u001b[0mcell\u001b[0m \u001b[0;32min\u001b[0m \u001b[0mi\u001b[0m\u001b[0;34m.\u001b[0m\u001b[0mtext\u001b[0m\u001b[0;34m.\u001b[0m\u001b[0mstrip\u001b[0m\u001b[0;34m(\u001b[0m\u001b[0;34m)\u001b[0m\u001b[0;34m.\u001b[0m\u001b[0msplit\u001b[0m\u001b[0;34m(\u001b[0m\u001b[0;34m'\\n'\u001b[0m\u001b[0;34m)\u001b[0m \u001b[0;32mif\u001b[0m \u001b[0mcell\u001b[0m\u001b[0;34m!=\u001b[0m\u001b[0;34m''\u001b[0m\u001b[0;34m]\u001b[0m \u001b[0;32mfor\u001b[0m \u001b[0mi\u001b[0m \u001b[0;32min\u001b[0m \u001b[0mrows\u001b[0m\u001b[0;34m]\u001b[0m\u001b[0;34m\u001b[0m\u001b[0;34m\u001b[0m\u001b[0m\n\u001b[1;32m      2\u001b[0m \u001b[0;34m\u001b[0m\u001b[0m\n\u001b[0;32m----> 3\u001b[0;31m \u001b[0mpd\u001b[0m\u001b[0;34m.\u001b[0m\u001b[0mDataFrame\u001b[0m\u001b[0;34m(\u001b[0m\u001b[0mtable\u001b[0m\u001b[0;34m[\u001b[0m\u001b[0;36m1\u001b[0m\u001b[0;34m:\u001b[0m\u001b[0;34m]\u001b[0m\u001b[0;34m,\u001b[0m \u001b[0mcolumns\u001b[0m\u001b[0;34m=\u001b[0m\u001b[0mtable\u001b[0m\u001b[0;34m[\u001b[0m\u001b[0;36m0\u001b[0m\u001b[0;34m]\u001b[0m\u001b[0;34m)\u001b[0m\u001b[0;34m\u001b[0m\u001b[0;34m\u001b[0m\u001b[0m\n\u001b[0m",
      "\u001b[0;32m~/yes/lib/python3.7/site-packages/pandas/core/frame.py\u001b[0m in \u001b[0;36m__init__\u001b[0;34m(self, data, index, columns, dtype, copy)\u001b[0m\n\u001b[1;32m    472\u001b[0m                     \u001b[0;32mif\u001b[0m \u001b[0mis_named_tuple\u001b[0m\u001b[0;34m(\u001b[0m\u001b[0mdata\u001b[0m\u001b[0;34m[\u001b[0m\u001b[0;36m0\u001b[0m\u001b[0;34m]\u001b[0m\u001b[0;34m)\u001b[0m \u001b[0;32mand\u001b[0m \u001b[0mcolumns\u001b[0m \u001b[0;32mis\u001b[0m \u001b[0;32mNone\u001b[0m\u001b[0;34m:\u001b[0m\u001b[0;34m\u001b[0m\u001b[0;34m\u001b[0m\u001b[0m\n\u001b[1;32m    473\u001b[0m                         \u001b[0mcolumns\u001b[0m \u001b[0;34m=\u001b[0m \u001b[0mdata\u001b[0m\u001b[0;34m[\u001b[0m\u001b[0;36m0\u001b[0m\u001b[0;34m]\u001b[0m\u001b[0;34m.\u001b[0m\u001b[0m_fields\u001b[0m\u001b[0;34m\u001b[0m\u001b[0;34m\u001b[0m\u001b[0m\n\u001b[0;32m--> 474\u001b[0;31m                     \u001b[0marrays\u001b[0m\u001b[0;34m,\u001b[0m \u001b[0mcolumns\u001b[0m \u001b[0;34m=\u001b[0m \u001b[0mto_arrays\u001b[0m\u001b[0;34m(\u001b[0m\u001b[0mdata\u001b[0m\u001b[0;34m,\u001b[0m \u001b[0mcolumns\u001b[0m\u001b[0;34m,\u001b[0m \u001b[0mdtype\u001b[0m\u001b[0;34m=\u001b[0m\u001b[0mdtype\u001b[0m\u001b[0;34m)\u001b[0m\u001b[0;34m\u001b[0m\u001b[0;34m\u001b[0m\u001b[0m\n\u001b[0m\u001b[1;32m    475\u001b[0m                     \u001b[0mcolumns\u001b[0m \u001b[0;34m=\u001b[0m \u001b[0mensure_index\u001b[0m\u001b[0;34m(\u001b[0m\u001b[0mcolumns\u001b[0m\u001b[0;34m)\u001b[0m\u001b[0;34m\u001b[0m\u001b[0;34m\u001b[0m\u001b[0m\n\u001b[1;32m    476\u001b[0m \u001b[0;34m\u001b[0m\u001b[0m\n",
      "\u001b[0;32m~/yes/lib/python3.7/site-packages/pandas/core/internals/construction.py\u001b[0m in \u001b[0;36mto_arrays\u001b[0;34m(data, columns, coerce_float, dtype)\u001b[0m\n\u001b[1;32m    459\u001b[0m         \u001b[0;32mreturn\u001b[0m \u001b[0;34m[\u001b[0m\u001b[0;34m]\u001b[0m\u001b[0;34m,\u001b[0m \u001b[0;34m[\u001b[0m\u001b[0;34m]\u001b[0m  \u001b[0;31m# columns if columns is not None else []\u001b[0m\u001b[0;34m\u001b[0m\u001b[0;34m\u001b[0m\u001b[0m\n\u001b[1;32m    460\u001b[0m     \u001b[0;32mif\u001b[0m \u001b[0misinstance\u001b[0m\u001b[0;34m(\u001b[0m\u001b[0mdata\u001b[0m\u001b[0;34m[\u001b[0m\u001b[0;36m0\u001b[0m\u001b[0;34m]\u001b[0m\u001b[0;34m,\u001b[0m \u001b[0;34m(\u001b[0m\u001b[0mlist\u001b[0m\u001b[0;34m,\u001b[0m \u001b[0mtuple\u001b[0m\u001b[0;34m)\u001b[0m\u001b[0;34m)\u001b[0m\u001b[0;34m:\u001b[0m\u001b[0;34m\u001b[0m\u001b[0;34m\u001b[0m\u001b[0m\n\u001b[0;32m--> 461\u001b[0;31m         \u001b[0;32mreturn\u001b[0m \u001b[0m_list_to_arrays\u001b[0m\u001b[0;34m(\u001b[0m\u001b[0mdata\u001b[0m\u001b[0;34m,\u001b[0m \u001b[0mcolumns\u001b[0m\u001b[0;34m,\u001b[0m \u001b[0mcoerce_float\u001b[0m\u001b[0;34m=\u001b[0m\u001b[0mcoerce_float\u001b[0m\u001b[0;34m,\u001b[0m \u001b[0mdtype\u001b[0m\u001b[0;34m=\u001b[0m\u001b[0mdtype\u001b[0m\u001b[0;34m)\u001b[0m\u001b[0;34m\u001b[0m\u001b[0;34m\u001b[0m\u001b[0m\n\u001b[0m\u001b[1;32m    462\u001b[0m     \u001b[0;32melif\u001b[0m \u001b[0misinstance\u001b[0m\u001b[0;34m(\u001b[0m\u001b[0mdata\u001b[0m\u001b[0;34m[\u001b[0m\u001b[0;36m0\u001b[0m\u001b[0;34m]\u001b[0m\u001b[0;34m,\u001b[0m \u001b[0mabc\u001b[0m\u001b[0;34m.\u001b[0m\u001b[0mMapping\u001b[0m\u001b[0;34m)\u001b[0m\u001b[0;34m:\u001b[0m\u001b[0;34m\u001b[0m\u001b[0;34m\u001b[0m\u001b[0m\n\u001b[1;32m    463\u001b[0m         return _list_of_dict_to_arrays(\n",
      "\u001b[0;32m~/yes/lib/python3.7/site-packages/pandas/core/internals/construction.py\u001b[0m in \u001b[0;36m_list_to_arrays\u001b[0;34m(data, columns, coerce_float, dtype)\u001b[0m\n\u001b[1;32m    498\u001b[0m         )\n\u001b[1;32m    499\u001b[0m     \u001b[0;32mexcept\u001b[0m \u001b[0mAssertionError\u001b[0m \u001b[0;32mas\u001b[0m \u001b[0me\u001b[0m\u001b[0;34m:\u001b[0m\u001b[0;34m\u001b[0m\u001b[0;34m\u001b[0m\u001b[0m\n\u001b[0;32m--> 500\u001b[0;31m         \u001b[0;32mraise\u001b[0m \u001b[0mValueError\u001b[0m\u001b[0;34m(\u001b[0m\u001b[0me\u001b[0m\u001b[0;34m)\u001b[0m \u001b[0;32mfrom\u001b[0m \u001b[0me\u001b[0m\u001b[0;34m\u001b[0m\u001b[0;34m\u001b[0m\u001b[0m\n\u001b[0m\u001b[1;32m    501\u001b[0m     \u001b[0;32mreturn\u001b[0m \u001b[0mresult\u001b[0m\u001b[0;34m\u001b[0m\u001b[0;34m\u001b[0m\u001b[0m\n\u001b[1;32m    502\u001b[0m \u001b[0;34m\u001b[0m\u001b[0m\n",
      "\u001b[0;31mValueError\u001b[0m: 7 columns passed, passed data had 9 columns"
     ]
    }
   ],
   "source": [
    "table=[[cell.strip() for cell in i.text.strip().split('\\n') if cell!=''] for i in rows]\n",
    "\n",
    "pd.DataFrame(table[1:], columns=table[0])"
   ]
  },
  {
   "cell_type": "code",
   "execution_count": 106,
   "metadata": {},
   "outputs": [
    {
     "data": {
      "text/html": [
       "<div>\n",
       "<style scoped>\n",
       "    .dataframe tbody tr th:only-of-type {\n",
       "        vertical-align: middle;\n",
       "    }\n",
       "\n",
       "    .dataframe tbody tr th {\n",
       "        vertical-align: top;\n",
       "    }\n",
       "\n",
       "    .dataframe thead tr th {\n",
       "        text-align: left;\n",
       "    }\n",
       "</style>\n",
       "<table border=\"1\" class=\"dataframe\">\n",
       "  <thead>\n",
       "    <tr>\n",
       "      <th></th>\n",
       "      <th>Rank</th>\n",
       "      <th>Country (or dependent territory)</th>\n",
       "      <th colspan=\"2\" halign=\"left\">Area</th>\n",
       "      <th>Population</th>\n",
       "      <th colspan=\"2\" halign=\"left\">Density</th>\n",
       "      <th>Date</th>\n",
       "      <th>Population source</th>\n",
       "    </tr>\n",
       "    <tr>\n",
       "      <th></th>\n",
       "      <th>Rank</th>\n",
       "      <th>Country (or dependent territory)</th>\n",
       "      <th>km2</th>\n",
       "      <th>mi2</th>\n",
       "      <th>Population</th>\n",
       "      <th>pop./km2</th>\n",
       "      <th>pop./mi2</th>\n",
       "      <th>Date</th>\n",
       "      <th>Population source</th>\n",
       "    </tr>\n",
       "  </thead>\n",
       "  <tbody>\n",
       "    <tr>\n",
       "      <th>0</th>\n",
       "      <td>1</td>\n",
       "      <td>Bangladesh</td>\n",
       "      <td>143998</td>\n",
       "      <td>55598</td>\n",
       "      <td>169260828</td>\n",
       "      <td>1175</td>\n",
       "      <td>3044</td>\n",
       "      <td>September 7, 2020</td>\n",
       "      <td>Official population clock</td>\n",
       "    </tr>\n",
       "    <tr>\n",
       "      <th>1</th>\n",
       "      <td>-</td>\n",
       "      <td>Taiwan</td>\n",
       "      <td>36197</td>\n",
       "      <td>13976</td>\n",
       "      <td>23604265</td>\n",
       "      <td>652</td>\n",
       "      <td>1689</td>\n",
       "      <td>January 31, 2020</td>\n",
       "      <td>Monthly official estimate</td>\n",
       "    </tr>\n",
       "    <tr>\n",
       "      <th>2</th>\n",
       "      <td>2</td>\n",
       "      <td>South Korea</td>\n",
       "      <td>100210</td>\n",
       "      <td>38691</td>\n",
       "      <td>51780579</td>\n",
       "      <td>517</td>\n",
       "      <td>1339</td>\n",
       "      <td>July 1, 2020</td>\n",
       "      <td>Official Annual projection</td>\n",
       "    </tr>\n",
       "    <tr>\n",
       "      <th>3</th>\n",
       "      <td>3</td>\n",
       "      <td>Rwanda</td>\n",
       "      <td>26338</td>\n",
       "      <td>10169</td>\n",
       "      <td>12374397</td>\n",
       "      <td>470</td>\n",
       "      <td>1217</td>\n",
       "      <td>July 1, 2019</td>\n",
       "      <td>Official projection</td>\n",
       "    </tr>\n",
       "    <tr>\n",
       "      <th>4</th>\n",
       "      <td>4</td>\n",
       "      <td>Netherlands</td>\n",
       "      <td>41526</td>\n",
       "      <td>16033</td>\n",
       "      <td>17506331</td>\n",
       "      <td>422</td>\n",
       "      <td>1092</td>\n",
       "      <td>September 7, 2020</td>\n",
       "      <td>Official population clock</td>\n",
       "    </tr>\n",
       "    <tr>\n",
       "      <th>...</th>\n",
       "      <td>...</td>\n",
       "      <td>...</td>\n",
       "      <td>...</td>\n",
       "      <td>...</td>\n",
       "      <td>...</td>\n",
       "      <td>...</td>\n",
       "      <td>...</td>\n",
       "      <td>...</td>\n",
       "      <td>...</td>\n",
       "    </tr>\n",
       "    <tr>\n",
       "      <th>98</th>\n",
       "      <td>98</td>\n",
       "      <td>Kazakhstan</td>\n",
       "      <td>2724900</td>\n",
       "      <td>1052090</td>\n",
       "      <td>18232000</td>\n",
       "      <td>7</td>\n",
       "      <td>18</td>\n",
       "      <td>May 1, 2018</td>\n",
       "      <td>Official monthly estimate</td>\n",
       "    </tr>\n",
       "    <tr>\n",
       "      <th>99</th>\n",
       "      <td>99</td>\n",
       "      <td>Canada</td>\n",
       "      <td>9984670</td>\n",
       "      <td>3855103</td>\n",
       "      <td>38163906</td>\n",
       "      <td>4</td>\n",
       "      <td>10</td>\n",
       "      <td>September 7, 2020</td>\n",
       "      <td>Official estimate</td>\n",
       "    </tr>\n",
       "    <tr>\n",
       "      <th>100</th>\n",
       "      <td>100</td>\n",
       "      <td>Australia</td>\n",
       "      <td>7692024</td>\n",
       "      <td>2969907</td>\n",
       "      <td>25659797</td>\n",
       "      <td>3</td>\n",
       "      <td>9</td>\n",
       "      <td>September 7, 2020</td>\n",
       "      <td>Official estimate</td>\n",
       "    </tr>\n",
       "    <tr>\n",
       "      <th>101</th>\n",
       "      <td>Rank</td>\n",
       "      <td>Country (or dependent territory)</td>\n",
       "      <td>km2</td>\n",
       "      <td>mi2</td>\n",
       "      <td>Population</td>\n",
       "      <td>pop./km2</td>\n",
       "      <td>pop./mi2</td>\n",
       "      <td>Date</td>\n",
       "      <td>Population source</td>\n",
       "    </tr>\n",
       "    <tr>\n",
       "      <th>102</th>\n",
       "      <td>Rank</td>\n",
       "      <td>Country (or dependent territory)</td>\n",
       "      <td>Area</td>\n",
       "      <td>Area</td>\n",
       "      <td>Population</td>\n",
       "      <td>Density</td>\n",
       "      <td>Density</td>\n",
       "      <td>Date</td>\n",
       "      <td>Population source</td>\n",
       "    </tr>\n",
       "  </tbody>\n",
       "</table>\n",
       "<p>103 rows × 9 columns</p>\n",
       "</div>"
      ],
      "text/plain": [
       "     Rank  Country (or dependent territory)     Area           Population  \\\n",
       "     Rank  Country (or dependent territory)      km2      mi2  Population   \n",
       "0       1                        Bangladesh   143998    55598   169260828   \n",
       "1       -                            Taiwan    36197    13976    23604265   \n",
       "2       2                       South Korea   100210    38691    51780579   \n",
       "3       3                            Rwanda    26338    10169    12374397   \n",
       "4       4                       Netherlands    41526    16033    17506331   \n",
       "..    ...                               ...      ...      ...         ...   \n",
       "98     98                        Kazakhstan  2724900  1052090    18232000   \n",
       "99     99                            Canada  9984670  3855103    38163906   \n",
       "100   100                         Australia  7692024  2969907    25659797   \n",
       "101  Rank  Country (or dependent territory)      km2      mi2  Population   \n",
       "102  Rank  Country (or dependent territory)     Area     Area  Population   \n",
       "\n",
       "      Density                         Date           Population source  \n",
       "     pop./km2  pop./mi2               Date           Population source  \n",
       "0        1175      3044  September 7, 2020   Official population clock  \n",
       "1         652      1689   January 31, 2020   Monthly official estimate  \n",
       "2         517      1339       July 1, 2020  Official Annual projection  \n",
       "3         470      1217       July 1, 2019         Official projection  \n",
       "4         422      1092  September 7, 2020   Official population clock  \n",
       "..        ...       ...                ...                         ...  \n",
       "98          7        18        May 1, 2018   Official monthly estimate  \n",
       "99          4        10  September 7, 2020           Official estimate  \n",
       "100         3         9  September 7, 2020           Official estimate  \n",
       "101  pop./km2  pop./mi2               Date           Population source  \n",
       "102   Density   Density               Date           Population source  \n",
       "\n",
       "[103 rows x 9 columns]"
      ]
     },
     "execution_count": 106,
     "metadata": {},
     "output_type": "execute_result"
    }
   ],
   "source": [
    "pd.read_html(url)[1]"
   ]
  },
  {
   "cell_type": "code",
   "execution_count": null,
   "metadata": {},
   "outputs": [],
   "source": []
  },
  {
   "cell_type": "code",
   "execution_count": 107,
   "metadata": {},
   "outputs": [],
   "source": [
    "url='https://www.vivino.com/chateau-palmer-margaux-grand-cru-classe/w/9220?year=2012&price_id=336422'"
   ]
  },
  {
   "cell_type": "code",
   "execution_count": 109,
   "metadata": {},
   "outputs": [
    {
     "data": {
      "text/plain": [
       "b\"Your IP address (195.134.167.217) has been temporarily blocked for exceeding bulk request limits. If you believe this was done in error or you have legitimate needs to access our pages and data above and beyond these limits please contact admin@vivino.com with the subject 'Requests Blocked' and we'll try and resolve the issue.\""
      ]
     },
     "execution_count": 109,
     "metadata": {},
     "output_type": "execute_result"
    }
   ],
   "source": [
    "r.get(url).content"
   ]
  },
  {
   "cell_type": "code",
   "execution_count": 110,
   "metadata": {},
   "outputs": [],
   "source": [
    "headers=\"\"\"accept: text/html,application/xhtml+xml,application/xml;q=0.9,image/avif,image/webp,image/apng,*/*;q=0.8,application/signed-exchange;v=b3;q=0.9\n",
    "accept-encoding: gzip, deflate, br\n",
    "accept-language: en-US,en;q=0.9\n",
    "cache-control: no-cache\n",
    "cookie: first_time_visit=cHppTlA1VVE5RG8xcTJtR2hqWkdsdz09LS1oVElKc1BXZUxBYnl6MlBaMHQ0dGdRPT0%3D--ea23614aff82d4f50f3eb4f53254fe19960a35ed; __auc=8ffce659174456bdd0f2ec6c9cd; client_cache_key=WlNGeGpsMnhjSG11TCsvQm55Y2ZEK1NSQTdFRURpSVVxelJ3dEZmeFd4TT0tLXppcEk2b2tWc05RNEpveitFQmNtQkE9PQ%3D%3D--c00b1de1e3d67502e99db23819ef0713425ad3a1; __asc=c33a88b717472c1f4f1a7e98cd7; deal_merchant_context=bERvV01ISHBFc2d4MSszT09RMXN4Zz09LS0rOHZWWWx5RnpXYVk2SWhXaC96R01RPT0%3D--e932ebf3d7bb716664ece38cf4f45d8c09c4d847; recently_viewed=Qnk1ZDNyaDljcDBKUjJXblFia1dUczc0eU0xdzE2Q1ZvSStOVnlEeXVqbUI3ZElRWXBpV2svV3QwQjVXOEthazRDc3MxUkpxRG0zM1p6MkRjSDZNMUtYR2hMdnVJRjFpdXF6RXJaeUZETWk2bVBvVzFtcENkMVFQZ2l4d2svRnY2TzlXSEg2STZKampVQkxJbXFGQUxpZmlqZE9TZU5aSW1qVFVqV2hOYzRzN0lmZXU5WmR4M3JhYWw2VjNRN1VTd1pPY3YwVkN5U3VYZjI2ZHIySFRQc25GQXFLVEF3dHk4K3dsR1J0WmVXWTZrV1NkRFRaM0tEOWk0Sk4xT0MxaU1hbUFpSDhzaVU0WTEwOWUzOGZySzJHcDVCalhRMHF6UGtOSVkrVnZTTm5kQXJWV2JZRW16Ri9meVV1ZlRGOUZmUnBPdTlRZHAyNXByMHFENWo3MGc0UGJvK0J5c1NMQURZVmdkR3hpZ29peHlMYXdlWmpCMFRjYjl1elQ3Z0Y3RlJSOHlMbnR3dENTVzh6REdxMTRjRDl0N21wQzUrakdjd21IcFArVXhYRDBXYjArYUtZcHREcityenlGZzlhdjExSTd5WFRUa3hHK2d6Z0wyVFhWQWkyRTAxaTRHak16a2FkTkx2aElaWUpmdlNzanUzQ2tWUnRVSnVPeWdlV0RBRXJUNVRhNHB4UFllUHdlM0QyL0dIY0txdHc1YjhwSjJqV2V4Y2JTU1dwT1NMcjdTVmRvcmI1cTdubTR5UHMxSHVwVFNZcDlkRHlZZGNRVnpWamMyN2xWbWJEWGlxTGVlYVhyODcvMGVaY0p4QXJrekxzYmtRc1VxNkIvaUlDTy0tUHVXTWZjVGN1RGV3T2JtU0FHRytxZz09--18b080db5927ecfac177281b036e664836445e29; _ruby-web_session=ODNiMFlQUUdDeVhwK3RmN1ZZS2lRTlZPUndsR3R5aDlhMkQyaW9YV1VPVUoxMEI2K2hleVJudkNYZG90Z3NuL2ZadDJwOW5jWmY1UlFKL0F5Qm1GU3Jpb1RSYnhoSTVSWGI5WVJ1MVNDdXJYNUtuQkdxV09uZnJwQmRZdWRhSmFmREljemcrR1YvWVNJSCsrc20xVkRMUm9GVENRRkNTZEhMUmx1SFVNZmRGUVh4MzFIZlMzNUpla1g3VC94czZNL1h0VGN3RlIzekxjUm1CbWsvd0ljd2k3WmQ5cllmRi92ZVhxODRxQzhJVWluQm5NQlprQzBWaEpsb04wN1NXc29rVDZ5dzBBZUpmNjFrTTFDRnFHV2c9PS0tVWhvcmdHdSt5cDgrQkphMUUyczBQZz09--62b245014f8a3ff4e0998d627f10240e101ce8b2\n",
    "pragma: no-cache\n",
    "sec-fetch-dest: document\n",
    "sec-fetch-mode: navigate\n",
    "sec-fetch-site: none\n",
    "sec-fetch-user: ?1\n",
    "upgrade-insecure-requests: 1\n",
    "user-agent: Mozilla/5.0 (X11; Linux x86_64) AppleWebKit/537.36 (KHTML, like Gecko) Chrome/85.0.4183.84 Safari/537.36\"\"\""
   ]
  },
  {
   "cell_type": "code",
   "execution_count": 114,
   "metadata": {},
   "outputs": [],
   "source": [
    "headers=dict(i.split(': ') for i in headers.split('\\n'))"
   ]
  },
  {
   "cell_type": "code",
   "execution_count": 116,
   "metadata": {},
   "outputs": [],
   "source": [
    "response=r.get(url, headers=headers)"
   ]
  },
  {
   "cell_type": "code",
   "execution_count": 119,
   "metadata": {},
   "outputs": [],
   "source": [
    "soup=BeautifulSoup(response.content)"
   ]
  },
  {
   "cell_type": "code",
   "execution_count": 126,
   "metadata": {
    "scrolled": false
   },
   "outputs": [
    {
     "data": {
      "text/plain": [
       "'Margaux (Grand Cru Classé) 2012'"
      ]
     },
     "execution_count": 126,
     "metadata": {},
     "output_type": "execute_result"
    }
   ],
   "source": [
    "soup.select('span.vintage')[0].text.strip()"
   ]
  },
  {
   "cell_type": "code",
   "execution_count": 132,
   "metadata": {},
   "outputs": [
    {
     "data": {
      "text/plain": [
       "[<div class=\"row location\">\n",
       " <div class=\"mobile-column-6 tablet-column-12 desktop-column-12\" id=\"wine-location-header\"></div>\n",
       " </div>]"
      ]
     },
     "execution_count": 132,
     "metadata": {},
     "output_type": "execute_result"
    }
   ],
   "source": [
    "soup.select('div.row.location')"
   ]
  },
  {
   "cell_type": "code",
   "execution_count": 139,
   "metadata": {},
   "outputs": [],
   "source": [
    "script=soup.select('#vintage-page-app+script')[0].text"
   ]
  },
  {
   "cell_type": "code",
   "execution_count": 146,
   "metadata": {},
   "outputs": [],
   "source": [
    "script=script.split('window.__PRELOADED_STATE__.vintagePageInformation = ')[-1].split(';\\n  window.__PRELOADED_STATE__.merchantId')[0]"
   ]
  },
  {
   "cell_type": "code",
   "execution_count": 149,
   "metadata": {},
   "outputs": [],
   "source": [
    "import json\n",
    "script=json.loads(script)"
   ]
  },
  {
   "cell_type": "code",
   "execution_count": 151,
   "metadata": {},
   "outputs": [
    {
     "data": {
      "text/plain": [
       "dict_keys(['vintage', 'price', 'highlights', 'merchant', 'shipping_message', 'sold_out', 'available_vintage_year', 'carts', 'prices_and_availability', 'basic_user_vintage', 'price_range', 'is_deal_page'])"
      ]
     },
     "execution_count": 151,
     "metadata": {},
     "output_type": "execute_result"
    }
   ],
   "source": [
    "script.keys()"
   ]
  },
  {
   "cell_type": "code",
   "execution_count": 152,
   "metadata": {
    "scrolled": true
   },
   "outputs": [
    {
     "data": {
      "text/plain": [
       "dict_keys(['id', 'seo_name', 'name', 'statistics', 'organic_certification_id', 'certified_biodynamic', 'image', 'wine', 'description', 'expert_reviews', 'wine_critic_reviews', 'awards', 'ratings_distribution', 'ranking', 'wine_facts', 'winemaker', 'wine_maker', 'grape_composition', 'year', 'grapes', 'has_valid_ratings'])"
      ]
     },
     "execution_count": 152,
     "metadata": {},
     "output_type": "execute_result"
    }
   ],
   "source": [
    "script['vintage'].keys()"
   ]
  },
  {
   "cell_type": "code",
   "execution_count": 153,
   "metadata": {
    "collapsed": true
   },
   "outputs": [
    {
     "data": {
      "text/plain": [
       "{'id': 336422,\n",
       " 'vintage_id': 1687137,\n",
       " 'amount': 256.67,\n",
       " 'currency': {'code': 'EUR', 'name': 'Euros', 'prefix': '€', 'suffix': None},\n",
       " 'bottle_type_id': 1,\n",
       " 'inventory_bottles_count': 1836,\n",
       " 'url': 'https://www.millesima.fr/chateau-palmer-2012-c-cb-6.html?declinaison=c_cb_6&utm_campaign=generique&utm_content=ready for delivery&utm_medium=pref-cpc&utm_source=vivino-ppc&utm_term=chateau palmer 2012 c cb 6',\n",
       " 'message': 'Prix par bouteille, caisse de 6 bouteilles - Autres tailles disponibles',\n",
       " 'producer_address': None,\n",
       " 'importer_address': None,\n",
       " 'discounted_from': None,\n",
       " 'bottle_type': {'id': 1,\n",
       "  'name': 'Bouteille (75cl)',\n",
       "  'short_name': 'bouteille',\n",
       "  'short_name_plural': 'bouteilles',\n",
       "  'volume_ml': 750}}"
      ]
     },
     "execution_count": 153,
     "metadata": {},
     "output_type": "execute_result"
    }
   ],
   "source": [
    "script['price']"
   ]
  },
  {
   "cell_type": "code",
   "execution_count": 158,
   "metadata": {
    "collapsed": true
   },
   "outputs": [
    {
     "data": {
      "text/plain": [
       "{'merchant': {'id': 1216,\n",
       "  'name': 'Gourmet Hunters',\n",
       "  'seo_name': 'gourmet-hunters',\n",
       "  'legal_name': None,\n",
       "  'description': 'Mobile-friendly checkout. No minimum order.',\n",
       "  'country': {'code': 'es',\n",
       "   'name': 'Espagne',\n",
       "   'native_name': 'España',\n",
       "   'seo_name': 'spain',\n",
       "   'currency': {'code': 'EUR', 'name': 'Euros', 'prefix': '€', 'suffix': None},\n",
       "   'regions_count': 149,\n",
       "   'users_count': 1769877,\n",
       "   'wines_count': 116232,\n",
       "   'wineries_count': 16608,\n",
       "   'most_used_grapes': [{'id': 19,\n",
       "     'name': 'Tempranillo',\n",
       "     'seo_name': 'tempranillo',\n",
       "     'has_detailed_info': True,\n",
       "     'wines_count': 143378},\n",
       "    {'id': 142,\n",
       "     'name': 'Garnacha',\n",
       "     'seo_name': 'garnacha',\n",
       "     'has_detailed_info': True,\n",
       "     'wines_count': 47850},\n",
       "    {'id': 2,\n",
       "     'name': 'Cabernet Sauvignon',\n",
       "     'seo_name': 'cabernet-sauvignon',\n",
       "     'has_detailed_info': True,\n",
       "     'wines_count': 662792}]},\n",
       "  'state': None,\n",
       "  'status': 0,\n",
       "  'image': None,\n",
       "  'shipping_estimate': 'Livraison avant le lun., 14 sept.',\n",
       "  'impressum_url': None,\n",
       "  'tos_url': None,\n",
       "  'hidden': False},\n",
       " 'prices': [{'id': 5361204,\n",
       "   'vintage_id': 1687137,\n",
       "   'amount': 310.5,\n",
       "   'currency': {'code': 'EUR', 'name': 'Euros', 'prefix': '€', 'suffix': None},\n",
       "   'bottle_type_id': 1,\n",
       "   'inventory_bottles_count': None,\n",
       "   'url': 'https://www.gourmethunters.com/en_US/Château Palmer 2012?utm_medium=pref-cpc&utm_source=vivino-ppc',\n",
       "   'message': '',\n",
       "   'producer_address': None,\n",
       "   'importer_address': None,\n",
       "   'discounted_from': None,\n",
       "   'bottle_type': {'id': 1,\n",
       "    'name': 'Bouteille (75cl)',\n",
       "    'short_name': 'bouteille',\n",
       "    'short_name_plural': 'bouteilles',\n",
       "    'volume_ml': 750}}]}"
      ]
     },
     "execution_count": 158,
     "metadata": {},
     "output_type": "execute_result"
    }
   ],
   "source": [
    "script['prices_and_availability']['merchants_with_prices'][-1]"
   ]
  }
 ],
 "metadata": {
  "kernelspec": {
   "display_name": "Python 3",
   "language": "python",
   "name": "python3"
  },
  "language_info": {
   "codemirror_mode": {
    "name": "ipython",
    "version": 3
   },
   "file_extension": ".py",
   "mimetype": "text/x-python",
   "name": "python",
   "nbconvert_exporter": "python",
   "pygments_lexer": "ipython3",
   "version": "3.7.6"
  },
  "toc": {
   "base_numbering": 1,
   "nav_menu": {},
   "number_sections": true,
   "sideBar": true,
   "skip_h1_title": false,
   "title_cell": "Table of Contents",
   "title_sidebar": "Contents",
   "toc_cell": true,
   "toc_position": {},
   "toc_section_display": true,
   "toc_window_display": false
  }
 },
 "nbformat": 4,
 "nbformat_minor": 4
}
