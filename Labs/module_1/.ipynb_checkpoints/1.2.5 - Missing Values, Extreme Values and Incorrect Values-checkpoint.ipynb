{
 "cells": [
  {
   "cell_type": "markdown",
   "metadata": {
    "toc": true
   },
   "source": [
    "<h1>Table of Contents<span class=\"tocSkip\"></span></h1>\n",
    "<div class=\"toc\"><ul class=\"toc-item\"><li><span><a href=\"#Core-problems-of-Data\" data-toc-modified-id=\"Core-problems-of-Data-1\"><span class=\"toc-item-num\">1&nbsp;&nbsp;</span>Core problems of Data</a></span></li><li><span><a href=\"#Missing-data\" data-toc-modified-id=\"Missing-data-2\"><span class=\"toc-item-num\">2&nbsp;&nbsp;</span>Missing data</a></span><ul class=\"toc-item\"><li><span><a href=\"#Fillna\" data-toc-modified-id=\"Fillna-2.1\"><span class=\"toc-item-num\">2.1&nbsp;&nbsp;</span>Fillna</a></span></li><li><span><a href=\"#Drop-based-on-threshold\" data-toc-modified-id=\"Drop-based-on-threshold-2.2\"><span class=\"toc-item-num\">2.2&nbsp;&nbsp;</span>Drop based on threshold</a></span></li><li><span><a href=\"#Interpolation\" data-toc-modified-id=\"Interpolation-2.3\"><span class=\"toc-item-num\">2.3&nbsp;&nbsp;</span>Interpolation</a></span></li></ul></li><li><span><a href=\"#Incorrect-data\" data-toc-modified-id=\"Incorrect-data-3\"><span class=\"toc-item-num\">3&nbsp;&nbsp;</span>Incorrect data</a></span></li><li><span><a href=\"#Extreme-Values\" data-toc-modified-id=\"Extreme-Values-4\"><span class=\"toc-item-num\">4&nbsp;&nbsp;</span>Extreme Values</a></span><ul class=\"toc-item\"><li><span><a href=\"#Detection\" data-toc-modified-id=\"Detection-4.1\"><span class=\"toc-item-num\">4.1&nbsp;&nbsp;</span>Detection</a></span><ul class=\"toc-item\"><li><span><a href=\"#Boxplot\" data-toc-modified-id=\"Boxplot-4.1.1\"><span class=\"toc-item-num\">4.1.1&nbsp;&nbsp;</span>Boxplot</a></span></li><li><span><a href=\"#IQR\" data-toc-modified-id=\"IQR-4.1.2\"><span class=\"toc-item-num\">4.1.2&nbsp;&nbsp;</span>IQR</a></span></li><li><span><a href=\"#Z-Score\" data-toc-modified-id=\"Z-Score-4.1.3\"><span class=\"toc-item-num\">4.1.3&nbsp;&nbsp;</span>Z-Score</a></span></li></ul></li><li><span><a href=\"#Fix---Winsorize\" data-toc-modified-id=\"Fix---Winsorize-4.2\"><span class=\"toc-item-num\">4.2&nbsp;&nbsp;</span>Fix - Winsorize</a></span></li></ul></li></ul></div>"
   ]
  },
  {
   "cell_type": "markdown",
   "metadata": {
    "heading_collapsed": true
   },
   "source": [
    "# Core problems of Data"
   ]
  },
  {
   "cell_type": "markdown",
   "metadata": {
    "hidden": true
   },
   "source": [
    "* Missing data\n",
    "* Incorrect data\n",
    "* Extreme values (outliers)\n",
    "* Wrong data type\n",
    "* Text cleaning\n",
    "* Duplicates\n",
    "* Low variance data"
   ]
  },
  {
   "cell_type": "code",
   "execution_count": 1,
   "metadata": {
    "hidden": true
   },
   "outputs": [],
   "source": [
    "#relocate myself to the file\n",
    "import os\n",
    "os.chdir(r'/home/mauritian/Downloads/vehicles')"
   ]
  },
  {
   "cell_type": "code",
   "execution_count": 56,
   "metadata": {
    "hidden": true
   },
   "outputs": [
    {
     "name": "stderr",
     "output_type": "stream",
     "text": [
      "/home/mauritian/yes/lib/python3.7/site-packages/IPython/core/interactiveshell.py:3063: DtypeWarning: Columns (70,71,72,73,74,76,79) have mixed types.Specify dtype option on import or set low_memory=False.\n",
      "  interactivity=interactivity, compiler=compiler, result=result)\n"
     ]
    }
   ],
   "source": [
    "import pandas as pd\n",
    "df=pd.read_csv('vehicles_messy.csv')"
   ]
  },
  {
   "cell_type": "code",
   "execution_count": 3,
   "metadata": {
    "hidden": true
   },
   "outputs": [
    {
     "data": {
      "text/plain": [
       "(37843, 83)"
      ]
     },
     "execution_count": 3,
     "metadata": {},
     "output_type": "execute_result"
    }
   ],
   "source": [
    "df.shape"
   ]
  },
  {
   "cell_type": "markdown",
   "metadata": {
    "hidden": true
   },
   "source": [
    "So, we have 83 columns and 37843 observations"
   ]
  },
  {
   "cell_type": "code",
   "execution_count": 5,
   "metadata": {
    "hidden": true
   },
   "outputs": [
    {
     "name": "stdout",
     "output_type": "stream",
     "text": [
      "<class 'pandas.core.frame.DataFrame'>\n",
      "RangeIndex: 37843 entries, 0 to 37842\n",
      "Data columns (total 83 columns):\n",
      " #   Column           Non-Null Count  Dtype  \n",
      "---  ------           --------------  -----  \n",
      " 0   barrels08        37843 non-null  float64\n",
      " 1   barrelsA08       37843 non-null  float64\n",
      " 2   charge120        37843 non-null  float64\n",
      " 3   charge240        37843 non-null  float64\n",
      " 4   city08           37843 non-null  int64  \n",
      " 5   city08U          37843 non-null  float64\n",
      " 6   cityA08          37843 non-null  int64  \n",
      " 7   cityA08U         37843 non-null  float64\n",
      " 8   cityCD           37843 non-null  float64\n",
      " 9   cityE            37843 non-null  float64\n",
      " 10  cityUF           37843 non-null  float64\n",
      " 11  co2              37843 non-null  int64  \n",
      " 12  co2A             37843 non-null  int64  \n",
      " 13  co2TailpipeAGpm  37843 non-null  float64\n",
      " 14  co2TailpipeGpm   37843 non-null  float64\n",
      " 15  comb08           37843 non-null  int64  \n",
      " 16  comb08U          37843 non-null  float64\n",
      " 17  combA08          37843 non-null  int64  \n",
      " 18  combA08U         37843 non-null  float64\n",
      " 19  combE            37843 non-null  float64\n",
      " 20  combinedCD       37843 non-null  float64\n",
      " 21  combinedUF       37843 non-null  float64\n",
      " 22  cylinders        37720 non-null  float64\n",
      " 23  displ            37723 non-null  float64\n",
      " 24  drive            36654 non-null  object \n",
      " 25  engId            37843 non-null  int64  \n",
      " 26  eng_dscr         22440 non-null  object \n",
      " 27  feScore          37843 non-null  int64  \n",
      " 28  fuelCost08       37843 non-null  int64  \n",
      " 29  fuelCostA08      37843 non-null  int64  \n",
      " 30  fuelType         37843 non-null  object \n",
      " 31  fuelType1        37843 non-null  object \n",
      " 32  ghgScore         37843 non-null  int64  \n",
      " 33  ghgScoreA        37843 non-null  int64  \n",
      " 34  highway08        37843 non-null  int64  \n",
      " 35  highway08U       37843 non-null  float64\n",
      " 36  highwayA08       37843 non-null  int64  \n",
      " 37  highwayA08U      37843 non-null  float64\n",
      " 38  highwayCD        37843 non-null  float64\n",
      " 39  highwayE         37843 non-null  float64\n",
      " 40  highwayUF        37843 non-null  float64\n",
      " 41  hlv              37843 non-null  int64  \n",
      " 42  hpv              37843 non-null  int64  \n",
      " 43  id               37843 non-null  int64  \n",
      " 44  lv2              37843 non-null  int64  \n",
      " 45  lv4              37843 non-null  int64  \n",
      " 46  make             37843 non-null  object \n",
      " 47  model            37843 non-null  object \n",
      " 48  mpgData          37843 non-null  object \n",
      " 49  phevBlended      37843 non-null  bool   \n",
      " 50  pv2              37843 non-null  int64  \n",
      " 51  pv4              37843 non-null  int64  \n",
      " 52  range            37843 non-null  int64  \n",
      " 53  rangeCity        37843 non-null  float64\n",
      " 54  rangeCityA       37843 non-null  float64\n",
      " 55  rangeHwy         37843 non-null  float64\n",
      " 56  rangeHwyA        37843 non-null  float64\n",
      " 57  trany            37832 non-null  object \n",
      " 58  UCity            37843 non-null  float64\n",
      " 59  UCityA           37843 non-null  float64\n",
      " 60  UHighway         37843 non-null  float64\n",
      " 61  UHighwayA        37843 non-null  float64\n",
      " 62  VClass           37843 non-null  object \n",
      " 63  year             37843 non-null  int64  \n",
      " 64  youSaveSpend     37843 non-null  int64  \n",
      " 65  guzzler          2281 non-null   object \n",
      " 66  trans_dscr       15047 non-null  object \n",
      " 67  tCharger         5186 non-null   object \n",
      " 68  sCharger         666 non-null    object \n",
      " 69  atvType          3072 non-null   object \n",
      " 70  fuelType2        1408 non-null   object \n",
      " 71  rangeA           1403 non-null   object \n",
      " 72  evMotor          562 non-null    object \n",
      " 73  mfrCode          7025 non-null   object \n",
      " 74  c240Dscr         37 non-null     object \n",
      " 75  charge240b       37843 non-null  float64\n",
      " 76  c240bDscr        36 non-null     object \n",
      " 77  createdOn        37843 non-null  object \n",
      " 78  modifiedOn       37843 non-null  object \n",
      " 79  startStop        6138 non-null   object \n",
      " 80  phevCity         37843 non-null  int64  \n",
      " 81  phevHwy          37843 non-null  int64  \n",
      " 82  phevComb         37843 non-null  int64  \n",
      "dtypes: bool(1), float64(32), int64(27), object(23)\n",
      "memory usage: 23.7+ MB\n"
     ]
    }
   ],
   "source": [
    "df.info()"
   ]
  },
  {
   "cell_type": "code",
   "execution_count": 6,
   "metadata": {
    "hidden": true
   },
   "outputs": [
    {
     "data": {
      "text/html": [
       "<div>\n",
       "<style scoped>\n",
       "    .dataframe tbody tr th:only-of-type {\n",
       "        vertical-align: middle;\n",
       "    }\n",
       "\n",
       "    .dataframe tbody tr th {\n",
       "        vertical-align: top;\n",
       "    }\n",
       "\n",
       "    .dataframe thead th {\n",
       "        text-align: right;\n",
       "    }\n",
       "</style>\n",
       "<table border=\"1\" class=\"dataframe\">\n",
       "  <thead>\n",
       "    <tr style=\"text-align: right;\">\n",
       "      <th></th>\n",
       "      <th>barrels08</th>\n",
       "      <th>barrelsA08</th>\n",
       "      <th>charge120</th>\n",
       "      <th>charge240</th>\n",
       "      <th>city08</th>\n",
       "      <th>city08U</th>\n",
       "      <th>cityA08</th>\n",
       "      <th>cityA08U</th>\n",
       "      <th>cityCD</th>\n",
       "      <th>cityE</th>\n",
       "      <th>...</th>\n",
       "      <th>mfrCode</th>\n",
       "      <th>c240Dscr</th>\n",
       "      <th>charge240b</th>\n",
       "      <th>c240bDscr</th>\n",
       "      <th>createdOn</th>\n",
       "      <th>modifiedOn</th>\n",
       "      <th>startStop</th>\n",
       "      <th>phevCity</th>\n",
       "      <th>phevHwy</th>\n",
       "      <th>phevComb</th>\n",
       "    </tr>\n",
       "  </thead>\n",
       "  <tbody>\n",
       "    <tr>\n",
       "      <th>0</th>\n",
       "      <td>15.695714</td>\n",
       "      <td>0.0</td>\n",
       "      <td>0.0</td>\n",
       "      <td>0.0</td>\n",
       "      <td>19</td>\n",
       "      <td>0.0</td>\n",
       "      <td>0</td>\n",
       "      <td>0.0</td>\n",
       "      <td>0.0</td>\n",
       "      <td>0.0</td>\n",
       "      <td>...</td>\n",
       "      <td>NaN</td>\n",
       "      <td>NaN</td>\n",
       "      <td>0.0</td>\n",
       "      <td>NaN</td>\n",
       "      <td>Tue Jan 01 00:00:00 EST 2013</td>\n",
       "      <td>Tue Jan 01 00:00:00 EST 2013</td>\n",
       "      <td>NaN</td>\n",
       "      <td>0</td>\n",
       "      <td>0</td>\n",
       "      <td>0</td>\n",
       "    </tr>\n",
       "    <tr>\n",
       "      <th>1</th>\n",
       "      <td>29.964545</td>\n",
       "      <td>0.0</td>\n",
       "      <td>0.0</td>\n",
       "      <td>0.0</td>\n",
       "      <td>9</td>\n",
       "      <td>0.0</td>\n",
       "      <td>0</td>\n",
       "      <td>0.0</td>\n",
       "      <td>0.0</td>\n",
       "      <td>0.0</td>\n",
       "      <td>...</td>\n",
       "      <td>NaN</td>\n",
       "      <td>NaN</td>\n",
       "      <td>0.0</td>\n",
       "      <td>NaN</td>\n",
       "      <td>Tue Jan 01 00:00:00 EST 2013</td>\n",
       "      <td>Tue Jan 01 00:00:00 EST 2013</td>\n",
       "      <td>NaN</td>\n",
       "      <td>0</td>\n",
       "      <td>0</td>\n",
       "      <td>0</td>\n",
       "    </tr>\n",
       "    <tr>\n",
       "      <th>2</th>\n",
       "      <td>12.207778</td>\n",
       "      <td>0.0</td>\n",
       "      <td>0.0</td>\n",
       "      <td>0.0</td>\n",
       "      <td>23</td>\n",
       "      <td>0.0</td>\n",
       "      <td>0</td>\n",
       "      <td>0.0</td>\n",
       "      <td>0.0</td>\n",
       "      <td>0.0</td>\n",
       "      <td>...</td>\n",
       "      <td>NaN</td>\n",
       "      <td>NaN</td>\n",
       "      <td>0.0</td>\n",
       "      <td>NaN</td>\n",
       "      <td>Tue Jan 01 00:00:00 EST 2013</td>\n",
       "      <td>Tue Jan 01 00:00:00 EST 2013</td>\n",
       "      <td>NaN</td>\n",
       "      <td>0</td>\n",
       "      <td>0</td>\n",
       "      <td>0</td>\n",
       "    </tr>\n",
       "    <tr>\n",
       "      <th>3</th>\n",
       "      <td>29.964545</td>\n",
       "      <td>0.0</td>\n",
       "      <td>0.0</td>\n",
       "      <td>0.0</td>\n",
       "      <td>10</td>\n",
       "      <td>0.0</td>\n",
       "      <td>0</td>\n",
       "      <td>0.0</td>\n",
       "      <td>0.0</td>\n",
       "      <td>0.0</td>\n",
       "      <td>...</td>\n",
       "      <td>NaN</td>\n",
       "      <td>NaN</td>\n",
       "      <td>0.0</td>\n",
       "      <td>NaN</td>\n",
       "      <td>Tue Jan 01 00:00:00 EST 2013</td>\n",
       "      <td>Tue Jan 01 00:00:00 EST 2013</td>\n",
       "      <td>NaN</td>\n",
       "      <td>0</td>\n",
       "      <td>0</td>\n",
       "      <td>0</td>\n",
       "    </tr>\n",
       "    <tr>\n",
       "      <th>4</th>\n",
       "      <td>17.347895</td>\n",
       "      <td>0.0</td>\n",
       "      <td>0.0</td>\n",
       "      <td>0.0</td>\n",
       "      <td>17</td>\n",
       "      <td>0.0</td>\n",
       "      <td>0</td>\n",
       "      <td>0.0</td>\n",
       "      <td>0.0</td>\n",
       "      <td>0.0</td>\n",
       "      <td>...</td>\n",
       "      <td>NaN</td>\n",
       "      <td>NaN</td>\n",
       "      <td>0.0</td>\n",
       "      <td>NaN</td>\n",
       "      <td>Tue Jan 01 00:00:00 EST 2013</td>\n",
       "      <td>Tue Jan 01 00:00:00 EST 2013</td>\n",
       "      <td>NaN</td>\n",
       "      <td>0</td>\n",
       "      <td>0</td>\n",
       "      <td>0</td>\n",
       "    </tr>\n",
       "  </tbody>\n",
       "</table>\n",
       "<p>5 rows × 83 columns</p>\n",
       "</div>"
      ],
      "text/plain": [
       "   barrels08  barrelsA08  charge120  charge240  city08  city08U  cityA08  \\\n",
       "0  15.695714         0.0        0.0        0.0      19      0.0        0   \n",
       "1  29.964545         0.0        0.0        0.0       9      0.0        0   \n",
       "2  12.207778         0.0        0.0        0.0      23      0.0        0   \n",
       "3  29.964545         0.0        0.0        0.0      10      0.0        0   \n",
       "4  17.347895         0.0        0.0        0.0      17      0.0        0   \n",
       "\n",
       "   cityA08U  cityCD  cityE  ...  mfrCode  c240Dscr  charge240b  c240bDscr  \\\n",
       "0       0.0     0.0    0.0  ...      NaN       NaN         0.0        NaN   \n",
       "1       0.0     0.0    0.0  ...      NaN       NaN         0.0        NaN   \n",
       "2       0.0     0.0    0.0  ...      NaN       NaN         0.0        NaN   \n",
       "3       0.0     0.0    0.0  ...      NaN       NaN         0.0        NaN   \n",
       "4       0.0     0.0    0.0  ...      NaN       NaN         0.0        NaN   \n",
       "\n",
       "                      createdOn                    modifiedOn  startStop  \\\n",
       "0  Tue Jan 01 00:00:00 EST 2013  Tue Jan 01 00:00:00 EST 2013        NaN   \n",
       "1  Tue Jan 01 00:00:00 EST 2013  Tue Jan 01 00:00:00 EST 2013        NaN   \n",
       "2  Tue Jan 01 00:00:00 EST 2013  Tue Jan 01 00:00:00 EST 2013        NaN   \n",
       "3  Tue Jan 01 00:00:00 EST 2013  Tue Jan 01 00:00:00 EST 2013        NaN   \n",
       "4  Tue Jan 01 00:00:00 EST 2013  Tue Jan 01 00:00:00 EST 2013        NaN   \n",
       "\n",
       "   phevCity  phevHwy  phevComb  \n",
       "0         0        0         0  \n",
       "1         0        0         0  \n",
       "2         0        0         0  \n",
       "3         0        0         0  \n",
       "4         0        0         0  \n",
       "\n",
       "[5 rows x 83 columns]"
      ]
     },
     "execution_count": 6,
     "metadata": {},
     "output_type": "execute_result"
    }
   ],
   "source": [
    "df.head()"
   ]
  },
  {
   "cell_type": "code",
   "execution_count": 7,
   "metadata": {
    "hidden": true
   },
   "outputs": [
    {
     "data": {
      "text/html": [
       "<div>\n",
       "<style scoped>\n",
       "    .dataframe tbody tr th:only-of-type {\n",
       "        vertical-align: middle;\n",
       "    }\n",
       "\n",
       "    .dataframe tbody tr th {\n",
       "        vertical-align: top;\n",
       "    }\n",
       "\n",
       "    .dataframe thead th {\n",
       "        text-align: right;\n",
       "    }\n",
       "</style>\n",
       "<table border=\"1\" class=\"dataframe\">\n",
       "  <thead>\n",
       "    <tr style=\"text-align: right;\">\n",
       "      <th></th>\n",
       "      <th>barrels08</th>\n",
       "      <th>barrelsA08</th>\n",
       "      <th>charge120</th>\n",
       "      <th>charge240</th>\n",
       "      <th>city08</th>\n",
       "      <th>city08U</th>\n",
       "      <th>cityA08</th>\n",
       "      <th>cityA08U</th>\n",
       "      <th>cityCD</th>\n",
       "      <th>cityE</th>\n",
       "      <th>...</th>\n",
       "      <th>mfrCode</th>\n",
       "      <th>c240Dscr</th>\n",
       "      <th>charge240b</th>\n",
       "      <th>c240bDscr</th>\n",
       "      <th>createdOn</th>\n",
       "      <th>modifiedOn</th>\n",
       "      <th>startStop</th>\n",
       "      <th>phevCity</th>\n",
       "      <th>phevHwy</th>\n",
       "      <th>phevComb</th>\n",
       "    </tr>\n",
       "  </thead>\n",
       "  <tbody>\n",
       "    <tr>\n",
       "      <th>31617</th>\n",
       "      <td>12.677308</td>\n",
       "      <td>0.0</td>\n",
       "      <td>0.0</td>\n",
       "      <td>0.0</td>\n",
       "      <td>23</td>\n",
       "      <td>0.0000</td>\n",
       "      <td>0</td>\n",
       "      <td>0.0</td>\n",
       "      <td>0.0</td>\n",
       "      <td>0.0</td>\n",
       "      <td>...</td>\n",
       "      <td>NaN</td>\n",
       "      <td>NaN</td>\n",
       "      <td>0.0</td>\n",
       "      <td>NaN</td>\n",
       "      <td>Tue Jan 01 00:00:00 EST 2013</td>\n",
       "      <td>Tue Jan 01 00:00:00 EST 2013</td>\n",
       "      <td>NaN</td>\n",
       "      <td>0</td>\n",
       "      <td>0</td>\n",
       "      <td>0</td>\n",
       "    </tr>\n",
       "    <tr>\n",
       "      <th>23047</th>\n",
       "      <td>16.480500</td>\n",
       "      <td>0.0</td>\n",
       "      <td>0.0</td>\n",
       "      <td>0.0</td>\n",
       "      <td>18</td>\n",
       "      <td>0.0000</td>\n",
       "      <td>0</td>\n",
       "      <td>0.0</td>\n",
       "      <td>0.0</td>\n",
       "      <td>0.0</td>\n",
       "      <td>...</td>\n",
       "      <td>NaN</td>\n",
       "      <td>NaN</td>\n",
       "      <td>0.0</td>\n",
       "      <td>NaN</td>\n",
       "      <td>Tue Jan 01 00:00:00 EST 2013</td>\n",
       "      <td>Thu Jul 07 00:00:00 EDT 2016</td>\n",
       "      <td>NaN</td>\n",
       "      <td>0</td>\n",
       "      <td>0</td>\n",
       "      <td>0</td>\n",
       "    </tr>\n",
       "    <tr>\n",
       "      <th>26372</th>\n",
       "      <td>15.695714</td>\n",
       "      <td>0.0</td>\n",
       "      <td>0.0</td>\n",
       "      <td>0.0</td>\n",
       "      <td>18</td>\n",
       "      <td>18.1585</td>\n",
       "      <td>0</td>\n",
       "      <td>0.0</td>\n",
       "      <td>0.0</td>\n",
       "      <td>0.0</td>\n",
       "      <td>...</td>\n",
       "      <td>NSX</td>\n",
       "      <td>NaN</td>\n",
       "      <td>0.0</td>\n",
       "      <td>NaN</td>\n",
       "      <td>Tue Jan 01 00:00:00 EST 2013</td>\n",
       "      <td>Mon Jan 13 00:00:00 EST 2014</td>\n",
       "      <td>N</td>\n",
       "      <td>0</td>\n",
       "      <td>0</td>\n",
       "      <td>0</td>\n",
       "    </tr>\n",
       "    <tr>\n",
       "      <th>8488</th>\n",
       "      <td>14.330870</td>\n",
       "      <td>0.0</td>\n",
       "      <td>0.0</td>\n",
       "      <td>0.0</td>\n",
       "      <td>20</td>\n",
       "      <td>0.0000</td>\n",
       "      <td>0</td>\n",
       "      <td>0.0</td>\n",
       "      <td>0.0</td>\n",
       "      <td>0.0</td>\n",
       "      <td>...</td>\n",
       "      <td>NaN</td>\n",
       "      <td>NaN</td>\n",
       "      <td>0.0</td>\n",
       "      <td>NaN</td>\n",
       "      <td>Tue Jan 01 00:00:00 EST 2013</td>\n",
       "      <td>Tue Jan 01 00:00:00 EST 2013</td>\n",
       "      <td>NaN</td>\n",
       "      <td>0</td>\n",
       "      <td>0</td>\n",
       "      <td>0</td>\n",
       "    </tr>\n",
       "    <tr>\n",
       "      <th>33348</th>\n",
       "      <td>19.388824</td>\n",
       "      <td>0.0</td>\n",
       "      <td>0.0</td>\n",
       "      <td>0.0</td>\n",
       "      <td>16</td>\n",
       "      <td>0.0000</td>\n",
       "      <td>0</td>\n",
       "      <td>0.0</td>\n",
       "      <td>0.0</td>\n",
       "      <td>0.0</td>\n",
       "      <td>...</td>\n",
       "      <td>NaN</td>\n",
       "      <td>NaN</td>\n",
       "      <td>0.0</td>\n",
       "      <td>NaN</td>\n",
       "      <td>Tue Jan 01 00:00:00 EST 2013</td>\n",
       "      <td>Tue Jan 01 00:00:00 EST 2013</td>\n",
       "      <td>NaN</td>\n",
       "      <td>0</td>\n",
       "      <td>0</td>\n",
       "      <td>0</td>\n",
       "    </tr>\n",
       "  </tbody>\n",
       "</table>\n",
       "<p>5 rows × 83 columns</p>\n",
       "</div>"
      ],
      "text/plain": [
       "       barrels08  barrelsA08  charge120  charge240  city08  city08U  cityA08  \\\n",
       "31617  12.677308         0.0        0.0        0.0      23   0.0000        0   \n",
       "23047  16.480500         0.0        0.0        0.0      18   0.0000        0   \n",
       "26372  15.695714         0.0        0.0        0.0      18  18.1585        0   \n",
       "8488   14.330870         0.0        0.0        0.0      20   0.0000        0   \n",
       "33348  19.388824         0.0        0.0        0.0      16   0.0000        0   \n",
       "\n",
       "       cityA08U  cityCD  cityE  ...  mfrCode  c240Dscr  charge240b  c240bDscr  \\\n",
       "31617       0.0     0.0    0.0  ...      NaN       NaN         0.0        NaN   \n",
       "23047       0.0     0.0    0.0  ...      NaN       NaN         0.0        NaN   \n",
       "26372       0.0     0.0    0.0  ...      NSX       NaN         0.0        NaN   \n",
       "8488        0.0     0.0    0.0  ...      NaN       NaN         0.0        NaN   \n",
       "33348       0.0     0.0    0.0  ...      NaN       NaN         0.0        NaN   \n",
       "\n",
       "                          createdOn                    modifiedOn  startStop  \\\n",
       "31617  Tue Jan 01 00:00:00 EST 2013  Tue Jan 01 00:00:00 EST 2013        NaN   \n",
       "23047  Tue Jan 01 00:00:00 EST 2013  Thu Jul 07 00:00:00 EDT 2016        NaN   \n",
       "26372  Tue Jan 01 00:00:00 EST 2013  Mon Jan 13 00:00:00 EST 2014          N   \n",
       "8488   Tue Jan 01 00:00:00 EST 2013  Tue Jan 01 00:00:00 EST 2013        NaN   \n",
       "33348  Tue Jan 01 00:00:00 EST 2013  Tue Jan 01 00:00:00 EST 2013        NaN   \n",
       "\n",
       "       phevCity  phevHwy  phevComb  \n",
       "31617         0        0         0  \n",
       "23047         0        0         0  \n",
       "26372         0        0         0  \n",
       "8488          0        0         0  \n",
       "33348         0        0         0  \n",
       "\n",
       "[5 rows x 83 columns]"
      ]
     },
     "execution_count": 7,
     "metadata": {},
     "output_type": "execute_result"
    }
   ],
   "source": [
    "df.sample(5)"
   ]
  },
  {
   "cell_type": "code",
   "execution_count": 8,
   "metadata": {
    "hidden": true
   },
   "outputs": [
    {
     "data": {
      "text/html": [
       "<div>\n",
       "<style scoped>\n",
       "    .dataframe tbody tr th:only-of-type {\n",
       "        vertical-align: middle;\n",
       "    }\n",
       "\n",
       "    .dataframe tbody tr th {\n",
       "        vertical-align: top;\n",
       "    }\n",
       "\n",
       "    .dataframe thead th {\n",
       "        text-align: right;\n",
       "    }\n",
       "</style>\n",
       "<table border=\"1\" class=\"dataframe\">\n",
       "  <thead>\n",
       "    <tr style=\"text-align: right;\">\n",
       "      <th></th>\n",
       "      <th>barrels08</th>\n",
       "      <th>barrelsA08</th>\n",
       "      <th>charge120</th>\n",
       "      <th>charge240</th>\n",
       "      <th>city08</th>\n",
       "      <th>city08U</th>\n",
       "      <th>cityA08</th>\n",
       "      <th>cityA08U</th>\n",
       "      <th>cityCD</th>\n",
       "      <th>cityE</th>\n",
       "      <th>...</th>\n",
       "      <th>mfrCode</th>\n",
       "      <th>c240Dscr</th>\n",
       "      <th>charge240b</th>\n",
       "      <th>c240bDscr</th>\n",
       "      <th>createdOn</th>\n",
       "      <th>modifiedOn</th>\n",
       "      <th>startStop</th>\n",
       "      <th>phevCity</th>\n",
       "      <th>phevHwy</th>\n",
       "      <th>phevComb</th>\n",
       "    </tr>\n",
       "  </thead>\n",
       "  <tbody>\n",
       "    <tr>\n",
       "      <th>37838</th>\n",
       "      <td>14.982273</td>\n",
       "      <td>0.0</td>\n",
       "      <td>0.0</td>\n",
       "      <td>0.0</td>\n",
       "      <td>19</td>\n",
       "      <td>0.0</td>\n",
       "      <td>0</td>\n",
       "      <td>0.0</td>\n",
       "      <td>0.0</td>\n",
       "      <td>0.0</td>\n",
       "      <td>...</td>\n",
       "      <td>NaN</td>\n",
       "      <td>NaN</td>\n",
       "      <td>0.0</td>\n",
       "      <td>NaN</td>\n",
       "      <td>Tue Jan 01 00:00:00 EST 2013</td>\n",
       "      <td>Tue Jan 01 00:00:00 EST 2013</td>\n",
       "      <td>NaN</td>\n",
       "      <td>0</td>\n",
       "      <td>0</td>\n",
       "      <td>0</td>\n",
       "    </tr>\n",
       "    <tr>\n",
       "      <th>37839</th>\n",
       "      <td>14.330870</td>\n",
       "      <td>0.0</td>\n",
       "      <td>0.0</td>\n",
       "      <td>0.0</td>\n",
       "      <td>20</td>\n",
       "      <td>0.0</td>\n",
       "      <td>0</td>\n",
       "      <td>0.0</td>\n",
       "      <td>0.0</td>\n",
       "      <td>0.0</td>\n",
       "      <td>...</td>\n",
       "      <td>NaN</td>\n",
       "      <td>NaN</td>\n",
       "      <td>0.0</td>\n",
       "      <td>NaN</td>\n",
       "      <td>Tue Jan 01 00:00:00 EST 2013</td>\n",
       "      <td>Tue Jan 01 00:00:00 EST 2013</td>\n",
       "      <td>NaN</td>\n",
       "      <td>0</td>\n",
       "      <td>0</td>\n",
       "      <td>0</td>\n",
       "    </tr>\n",
       "    <tr>\n",
       "      <th>37840</th>\n",
       "      <td>15.695714</td>\n",
       "      <td>0.0</td>\n",
       "      <td>0.0</td>\n",
       "      <td>0.0</td>\n",
       "      <td>18</td>\n",
       "      <td>0.0</td>\n",
       "      <td>0</td>\n",
       "      <td>0.0</td>\n",
       "      <td>0.0</td>\n",
       "      <td>0.0</td>\n",
       "      <td>...</td>\n",
       "      <td>NaN</td>\n",
       "      <td>NaN</td>\n",
       "      <td>0.0</td>\n",
       "      <td>NaN</td>\n",
       "      <td>Tue Jan 01 00:00:00 EST 2013</td>\n",
       "      <td>Tue Jan 01 00:00:00 EST 2013</td>\n",
       "      <td>NaN</td>\n",
       "      <td>0</td>\n",
       "      <td>0</td>\n",
       "      <td>0</td>\n",
       "    </tr>\n",
       "    <tr>\n",
       "      <th>37841</th>\n",
       "      <td>15.695714</td>\n",
       "      <td>0.0</td>\n",
       "      <td>0.0</td>\n",
       "      <td>0.0</td>\n",
       "      <td>18</td>\n",
       "      <td>0.0</td>\n",
       "      <td>0</td>\n",
       "      <td>0.0</td>\n",
       "      <td>0.0</td>\n",
       "      <td>0.0</td>\n",
       "      <td>...</td>\n",
       "      <td>NaN</td>\n",
       "      <td>NaN</td>\n",
       "      <td>0.0</td>\n",
       "      <td>NaN</td>\n",
       "      <td>Tue Jan 01 00:00:00 EST 2013</td>\n",
       "      <td>Tue Jan 01 00:00:00 EST 2013</td>\n",
       "      <td>NaN</td>\n",
       "      <td>0</td>\n",
       "      <td>0</td>\n",
       "      <td>0</td>\n",
       "    </tr>\n",
       "    <tr>\n",
       "      <th>37842</th>\n",
       "      <td>18.311667</td>\n",
       "      <td>0.0</td>\n",
       "      <td>0.0</td>\n",
       "      <td>0.0</td>\n",
       "      <td>16</td>\n",
       "      <td>0.0</td>\n",
       "      <td>0</td>\n",
       "      <td>0.0</td>\n",
       "      <td>0.0</td>\n",
       "      <td>0.0</td>\n",
       "      <td>...</td>\n",
       "      <td>NaN</td>\n",
       "      <td>NaN</td>\n",
       "      <td>0.0</td>\n",
       "      <td>NaN</td>\n",
       "      <td>Tue Jan 01 00:00:00 EST 2013</td>\n",
       "      <td>Tue Jan 01 00:00:00 EST 2013</td>\n",
       "      <td>NaN</td>\n",
       "      <td>0</td>\n",
       "      <td>0</td>\n",
       "      <td>0</td>\n",
       "    </tr>\n",
       "  </tbody>\n",
       "</table>\n",
       "<p>5 rows × 83 columns</p>\n",
       "</div>"
      ],
      "text/plain": [
       "       barrels08  barrelsA08  charge120  charge240  city08  city08U  cityA08  \\\n",
       "37838  14.982273         0.0        0.0        0.0      19      0.0        0   \n",
       "37839  14.330870         0.0        0.0        0.0      20      0.0        0   \n",
       "37840  15.695714         0.0        0.0        0.0      18      0.0        0   \n",
       "37841  15.695714         0.0        0.0        0.0      18      0.0        0   \n",
       "37842  18.311667         0.0        0.0        0.0      16      0.0        0   \n",
       "\n",
       "       cityA08U  cityCD  cityE  ...  mfrCode  c240Dscr  charge240b  c240bDscr  \\\n",
       "37838       0.0     0.0    0.0  ...      NaN       NaN         0.0        NaN   \n",
       "37839       0.0     0.0    0.0  ...      NaN       NaN         0.0        NaN   \n",
       "37840       0.0     0.0    0.0  ...      NaN       NaN         0.0        NaN   \n",
       "37841       0.0     0.0    0.0  ...      NaN       NaN         0.0        NaN   \n",
       "37842       0.0     0.0    0.0  ...      NaN       NaN         0.0        NaN   \n",
       "\n",
       "                          createdOn                    modifiedOn  startStop  \\\n",
       "37838  Tue Jan 01 00:00:00 EST 2013  Tue Jan 01 00:00:00 EST 2013        NaN   \n",
       "37839  Tue Jan 01 00:00:00 EST 2013  Tue Jan 01 00:00:00 EST 2013        NaN   \n",
       "37840  Tue Jan 01 00:00:00 EST 2013  Tue Jan 01 00:00:00 EST 2013        NaN   \n",
       "37841  Tue Jan 01 00:00:00 EST 2013  Tue Jan 01 00:00:00 EST 2013        NaN   \n",
       "37842  Tue Jan 01 00:00:00 EST 2013  Tue Jan 01 00:00:00 EST 2013        NaN   \n",
       "\n",
       "       phevCity  phevHwy  phevComb  \n",
       "37838         0        0         0  \n",
       "37839         0        0         0  \n",
       "37840         0        0         0  \n",
       "37841         0        0         0  \n",
       "37842         0        0         0  \n",
       "\n",
       "[5 rows x 83 columns]"
      ]
     },
     "execution_count": 8,
     "metadata": {},
     "output_type": "execute_result"
    }
   ],
   "source": [
    "df.tail()"
   ]
  },
  {
   "cell_type": "code",
   "execution_count": 9,
   "metadata": {
    "hidden": true
   },
   "outputs": [
    {
     "data": {
      "text/html": [
       "<div>\n",
       "<style scoped>\n",
       "    .dataframe tbody tr th:only-of-type {\n",
       "        vertical-align: middle;\n",
       "    }\n",
       "\n",
       "    .dataframe tbody tr th {\n",
       "        vertical-align: top;\n",
       "    }\n",
       "\n",
       "    .dataframe thead th {\n",
       "        text-align: right;\n",
       "    }\n",
       "</style>\n",
       "<table border=\"1\" class=\"dataframe\">\n",
       "  <thead>\n",
       "    <tr style=\"text-align: right;\">\n",
       "      <th></th>\n",
       "      <th>barrels08</th>\n",
       "      <th>barrelsA08</th>\n",
       "      <th>charge120</th>\n",
       "      <th>charge240</th>\n",
       "      <th>city08</th>\n",
       "      <th>city08U</th>\n",
       "      <th>cityA08</th>\n",
       "      <th>cityA08U</th>\n",
       "      <th>cityCD</th>\n",
       "      <th>cityE</th>\n",
       "      <th>...</th>\n",
       "      <th>UCity</th>\n",
       "      <th>UCityA</th>\n",
       "      <th>UHighway</th>\n",
       "      <th>UHighwayA</th>\n",
       "      <th>year</th>\n",
       "      <th>youSaveSpend</th>\n",
       "      <th>charge240b</th>\n",
       "      <th>phevCity</th>\n",
       "      <th>phevHwy</th>\n",
       "      <th>phevComb</th>\n",
       "    </tr>\n",
       "  </thead>\n",
       "  <tbody>\n",
       "    <tr>\n",
       "      <th>count</th>\n",
       "      <td>37843.000000</td>\n",
       "      <td>37843.000000</td>\n",
       "      <td>37843.0</td>\n",
       "      <td>37843.000000</td>\n",
       "      <td>37843.000000</td>\n",
       "      <td>37843.000000</td>\n",
       "      <td>37843.000000</td>\n",
       "      <td>37843.000000</td>\n",
       "      <td>37843.000000</td>\n",
       "      <td>37843.000000</td>\n",
       "      <td>...</td>\n",
       "      <td>37843.000000</td>\n",
       "      <td>37843.000000</td>\n",
       "      <td>37843.000000</td>\n",
       "      <td>37843.000000</td>\n",
       "      <td>37843.000000</td>\n",
       "      <td>37843.000000</td>\n",
       "      <td>37843.000000</td>\n",
       "      <td>37843.000000</td>\n",
       "      <td>37843.000000</td>\n",
       "      <td>37843.000000</td>\n",
       "    </tr>\n",
       "    <tr>\n",
       "      <th>mean</th>\n",
       "      <td>17.532506</td>\n",
       "      <td>0.216169</td>\n",
       "      <td>0.0</td>\n",
       "      <td>0.023531</td>\n",
       "      <td>17.941389</td>\n",
       "      <td>4.042737</td>\n",
       "      <td>0.520149</td>\n",
       "      <td>0.327163</td>\n",
       "      <td>0.000406</td>\n",
       "      <td>0.184790</td>\n",
       "      <td>...</td>\n",
       "      <td>22.587229</td>\n",
       "      <td>0.652380</td>\n",
       "      <td>33.619221</td>\n",
       "      <td>0.933845</td>\n",
       "      <td>2000.064398</td>\n",
       "      <td>-2658.999022</td>\n",
       "      <td>0.004360</td>\n",
       "      <td>0.069313</td>\n",
       "      <td>0.068203</td>\n",
       "      <td>0.068573</td>\n",
       "    </tr>\n",
       "    <tr>\n",
       "      <th>std</th>\n",
       "      <td>4.575950</td>\n",
       "      <td>1.141527</td>\n",
       "      <td>0.0</td>\n",
       "      <td>0.427647</td>\n",
       "      <td>6.660360</td>\n",
       "      <td>9.645820</td>\n",
       "      <td>3.837874</td>\n",
       "      <td>3.542596</td>\n",
       "      <td>0.039918</td>\n",
       "      <td>2.904558</td>\n",
       "      <td>...</td>\n",
       "      <td>9.350163</td>\n",
       "      <td>5.284547</td>\n",
       "      <td>10.048326</td>\n",
       "      <td>6.059456</td>\n",
       "      <td>10.390588</td>\n",
       "      <td>2553.098329</td>\n",
       "      <td>0.142776</td>\n",
       "      <td>1.966806</td>\n",
       "      <td>1.871986</td>\n",
       "      <td>1.913647</td>\n",
       "    </tr>\n",
       "    <tr>\n",
       "      <th>min</th>\n",
       "      <td>0.060000</td>\n",
       "      <td>0.000000</td>\n",
       "      <td>0.0</td>\n",
       "      <td>0.000000</td>\n",
       "      <td>6.000000</td>\n",
       "      <td>0.000000</td>\n",
       "      <td>0.000000</td>\n",
       "      <td>0.000000</td>\n",
       "      <td>0.000000</td>\n",
       "      <td>0.000000</td>\n",
       "      <td>...</td>\n",
       "      <td>0.000000</td>\n",
       "      <td>0.000000</td>\n",
       "      <td>0.000000</td>\n",
       "      <td>0.000000</td>\n",
       "      <td>1984.000000</td>\n",
       "      <td>-22250.000000</td>\n",
       "      <td>0.000000</td>\n",
       "      <td>0.000000</td>\n",
       "      <td>0.000000</td>\n",
       "      <td>0.000000</td>\n",
       "    </tr>\n",
       "    <tr>\n",
       "      <th>25%</th>\n",
       "      <td>14.330870</td>\n",
       "      <td>0.000000</td>\n",
       "      <td>0.0</td>\n",
       "      <td>0.000000</td>\n",
       "      <td>15.000000</td>\n",
       "      <td>0.000000</td>\n",
       "      <td>0.000000</td>\n",
       "      <td>0.000000</td>\n",
       "      <td>0.000000</td>\n",
       "      <td>0.000000</td>\n",
       "      <td>...</td>\n",
       "      <td>18.000000</td>\n",
       "      <td>0.000000</td>\n",
       "      <td>27.100000</td>\n",
       "      <td>0.000000</td>\n",
       "      <td>1990.000000</td>\n",
       "      <td>-4250.000000</td>\n",
       "      <td>0.000000</td>\n",
       "      <td>0.000000</td>\n",
       "      <td>0.000000</td>\n",
       "      <td>0.000000</td>\n",
       "    </tr>\n",
       "    <tr>\n",
       "      <th>50%</th>\n",
       "      <td>17.347895</td>\n",
       "      <td>0.000000</td>\n",
       "      <td>0.0</td>\n",
       "      <td>0.000000</td>\n",
       "      <td>17.000000</td>\n",
       "      <td>0.000000</td>\n",
       "      <td>0.000000</td>\n",
       "      <td>0.000000</td>\n",
       "      <td>0.000000</td>\n",
       "      <td>0.000000</td>\n",
       "      <td>...</td>\n",
       "      <td>21.000000</td>\n",
       "      <td>0.000000</td>\n",
       "      <td>33.000000</td>\n",
       "      <td>0.000000</td>\n",
       "      <td>2001.000000</td>\n",
       "      <td>-2500.000000</td>\n",
       "      <td>0.000000</td>\n",
       "      <td>0.000000</td>\n",
       "      <td>0.000000</td>\n",
       "      <td>0.000000</td>\n",
       "    </tr>\n",
       "    <tr>\n",
       "      <th>75%</th>\n",
       "      <td>20.600625</td>\n",
       "      <td>0.000000</td>\n",
       "      <td>0.0</td>\n",
       "      <td>0.000000</td>\n",
       "      <td>20.000000</td>\n",
       "      <td>0.000000</td>\n",
       "      <td>0.000000</td>\n",
       "      <td>0.000000</td>\n",
       "      <td>0.000000</td>\n",
       "      <td>0.000000</td>\n",
       "      <td>...</td>\n",
       "      <td>25.139300</td>\n",
       "      <td>0.000000</td>\n",
       "      <td>38.109600</td>\n",
       "      <td>0.000000</td>\n",
       "      <td>2009.000000</td>\n",
       "      <td>-750.000000</td>\n",
       "      <td>0.000000</td>\n",
       "      <td>0.000000</td>\n",
       "      <td>0.000000</td>\n",
       "      <td>0.000000</td>\n",
       "    </tr>\n",
       "    <tr>\n",
       "      <th>max</th>\n",
       "      <td>47.087143</td>\n",
       "      <td>18.311667</td>\n",
       "      <td>0.0</td>\n",
       "      <td>12.000000</td>\n",
       "      <td>138.000000</td>\n",
       "      <td>138.304000</td>\n",
       "      <td>127.000000</td>\n",
       "      <td>127.093000</td>\n",
       "      <td>5.350000</td>\n",
       "      <td>122.000000</td>\n",
       "      <td>...</td>\n",
       "      <td>197.577100</td>\n",
       "      <td>181.560900</td>\n",
       "      <td>159.100000</td>\n",
       "      <td>152.187800</td>\n",
       "      <td>2017.000000</td>\n",
       "      <td>4000.000000</td>\n",
       "      <td>7.000000</td>\n",
       "      <td>97.000000</td>\n",
       "      <td>79.000000</td>\n",
       "      <td>88.000000</td>\n",
       "    </tr>\n",
       "  </tbody>\n",
       "</table>\n",
       "<p>8 rows × 59 columns</p>\n",
       "</div>"
      ],
      "text/plain": [
       "          barrels08    barrelsA08  charge120     charge240        city08  \\\n",
       "count  37843.000000  37843.000000    37843.0  37843.000000  37843.000000   \n",
       "mean      17.532506      0.216169        0.0      0.023531     17.941389   \n",
       "std        4.575950      1.141527        0.0      0.427647      6.660360   \n",
       "min        0.060000      0.000000        0.0      0.000000      6.000000   \n",
       "25%       14.330870      0.000000        0.0      0.000000     15.000000   \n",
       "50%       17.347895      0.000000        0.0      0.000000     17.000000   \n",
       "75%       20.600625      0.000000        0.0      0.000000     20.000000   \n",
       "max       47.087143     18.311667        0.0     12.000000    138.000000   \n",
       "\n",
       "            city08U       cityA08      cityA08U        cityCD         cityE  \\\n",
       "count  37843.000000  37843.000000  37843.000000  37843.000000  37843.000000   \n",
       "mean       4.042737      0.520149      0.327163      0.000406      0.184790   \n",
       "std        9.645820      3.837874      3.542596      0.039918      2.904558   \n",
       "min        0.000000      0.000000      0.000000      0.000000      0.000000   \n",
       "25%        0.000000      0.000000      0.000000      0.000000      0.000000   \n",
       "50%        0.000000      0.000000      0.000000      0.000000      0.000000   \n",
       "75%        0.000000      0.000000      0.000000      0.000000      0.000000   \n",
       "max      138.304000    127.000000    127.093000      5.350000    122.000000   \n",
       "\n",
       "       ...         UCity        UCityA      UHighway     UHighwayA  \\\n",
       "count  ...  37843.000000  37843.000000  37843.000000  37843.000000   \n",
       "mean   ...     22.587229      0.652380     33.619221      0.933845   \n",
       "std    ...      9.350163      5.284547     10.048326      6.059456   \n",
       "min    ...      0.000000      0.000000      0.000000      0.000000   \n",
       "25%    ...     18.000000      0.000000     27.100000      0.000000   \n",
       "50%    ...     21.000000      0.000000     33.000000      0.000000   \n",
       "75%    ...     25.139300      0.000000     38.109600      0.000000   \n",
       "max    ...    197.577100    181.560900    159.100000    152.187800   \n",
       "\n",
       "               year  youSaveSpend    charge240b      phevCity       phevHwy  \\\n",
       "count  37843.000000  37843.000000  37843.000000  37843.000000  37843.000000   \n",
       "mean    2000.064398  -2658.999022      0.004360      0.069313      0.068203   \n",
       "std       10.390588   2553.098329      0.142776      1.966806      1.871986   \n",
       "min     1984.000000 -22250.000000      0.000000      0.000000      0.000000   \n",
       "25%     1990.000000  -4250.000000      0.000000      0.000000      0.000000   \n",
       "50%     2001.000000  -2500.000000      0.000000      0.000000      0.000000   \n",
       "75%     2009.000000   -750.000000      0.000000      0.000000      0.000000   \n",
       "max     2017.000000   4000.000000      7.000000     97.000000     79.000000   \n",
       "\n",
       "           phevComb  \n",
       "count  37843.000000  \n",
       "mean       0.068573  \n",
       "std        1.913647  \n",
       "min        0.000000  \n",
       "25%        0.000000  \n",
       "50%        0.000000  \n",
       "75%        0.000000  \n",
       "max       88.000000  \n",
       "\n",
       "[8 rows x 59 columns]"
      ]
     },
     "execution_count": 9,
     "metadata": {},
     "output_type": "execute_result"
    }
   ],
   "source": [
    "#description of data\n",
    "df.describe()"
   ]
  },
  {
   "cell_type": "code",
   "execution_count": 11,
   "metadata": {
    "hidden": true
   },
   "outputs": [
    {
     "data": {
      "text/plain": [
       "Index(['barrels08', 'barrelsA08', 'charge120', 'charge240', 'city08',\n",
       "       'city08U', 'cityA08', 'cityA08U', 'cityCD', 'cityE', 'cityUF', 'co2',\n",
       "       'co2A', 'co2TailpipeAGpm', 'co2TailpipeGpm', 'comb08', 'comb08U',\n",
       "       'combA08', 'combA08U', 'combE', 'combinedCD', 'combinedUF', 'cylinders',\n",
       "       'displ', 'drive', 'engId', 'eng_dscr', 'feScore', 'fuelCost08',\n",
       "       'fuelCostA08', 'fuelType', 'fuelType1', 'ghgScore', 'ghgScoreA',\n",
       "       'highway08', 'highway08U', 'highwayA08', 'highwayA08U', 'highwayCD',\n",
       "       'highwayE', 'highwayUF', 'hlv', 'hpv', 'id', 'lv2', 'lv4', 'make',\n",
       "       'model', 'mpgData', 'phevBlended', 'pv2', 'pv4', 'range', 'rangeCity',\n",
       "       'rangeCityA', 'rangeHwy', 'rangeHwyA', 'trany', 'UCity', 'UCityA',\n",
       "       'UHighway', 'UHighwayA', 'VClass', 'year', 'youSaveSpend', 'guzzler',\n",
       "       'trans_dscr', 'tCharger', 'sCharger', 'atvType', 'fuelType2', 'rangeA',\n",
       "       'evMotor', 'mfrCode', 'c240Dscr', 'charge240b', 'c240bDscr',\n",
       "       'createdOn', 'modifiedOn', 'startStop', 'phevCity', 'phevHwy',\n",
       "       'phevComb'],\n",
       "      dtype='object')"
      ]
     },
     "execution_count": 11,
     "metadata": {},
     "output_type": "execute_result"
    }
   ],
   "source": [
    "df.columns"
   ]
  },
  {
   "cell_type": "markdown",
   "metadata": {
    "hidden": true
   },
   "source": [
    "AFter seeing the putputs of these tables we can conclude:\n",
    "1. 37843 rows vs 83 columns. ENough data, but too much columns probably. Could be useful to drop some.\n",
    "2. head() or sample() showed us that we have lots of missing values, zeros, different datatypes (such as datatime)\n",
    "3. describe showed us that we have lots of columns with 75% of data being 0. Not good.\n",
    "4. Lots of columns start similarly. Probably they describe the same info. Could be dummied. Not sure."
   ]
  },
  {
   "cell_type": "markdown",
   "metadata": {
    "hidden": true
   },
   "source": [
    "<img src='https://camo.githubusercontent.com/7b01624589d5d296257c8cd560403866eb06c900/68747470733a2f2f73746174696330312e6e79742e636f6d2f696d616765732f323031312f31302f32352f63726f7373776f7264732f4e505f6a6b5f747572746c65732f4e505f6a6b5f747572746c65732d626c6f673438302e6a7067'>"
   ]
  },
  {
   "cell_type": "markdown",
   "metadata": {
    "hidden": true
   },
   "source": [
    "1. Data - Make data be friendly\n",
    "2. Logic - Reach the goal of analysis\n",
    "3. Interface - Make the results be friendly"
   ]
  },
  {
   "cell_type": "markdown",
   "metadata": {
    "heading_collapsed": true
   },
   "source": [
    "# Missing data"
   ]
  },
  {
   "cell_type": "markdown",
   "metadata": {
    "hidden": true
   },
   "source": [
    "<img src='https://camo.githubusercontent.com/c70f98561414c98492b70982fdef653beed733b6/68747470733a2f2f7374617469632e626f72656470616e64612e636f6d2f626c6f672f77702d636f6e74656e742f75706c6f6164732f323032302f30342f352d356561376465313565633561635f5f3730302e6a7067'>"
   ]
  },
  {
   "cell_type": "markdown",
   "metadata": {
    "hidden": true
   },
   "source": [
    "How do we deal with it?\n",
    "1. Detect the missing rate in each column\n",
    "2. Select the solution:\n",
    "    * Drop column with missing rate higher than thershold\n",
    "    * Drop the row\n",
    "    * Interpolate\n",
    "    * Null the value and create a flag column\n",
    "3. No more missing value. **PROFIT!**"
   ]
  },
  {
   "cell_type": "markdown",
   "metadata": {
    "heading_collapsed": true,
    "hidden": true
   },
   "source": [
    "## Fillna"
   ]
  },
  {
   "cell_type": "code",
   "execution_count": 57,
   "metadata": {
    "hidden": true
   },
   "outputs": [
    {
     "data": {
      "text/plain": [
       "cylinders      0.33\n",
       "displ          0.32\n",
       "drive          3.14\n",
       "eng_dscr      40.70\n",
       "trany          0.03\n",
       "guzzler       93.97\n",
       "trans_dscr    60.24\n",
       "tCharger      86.30\n",
       "sCharger      98.24\n",
       "atvType       91.88\n",
       "fuelType2     96.28\n",
       "rangeA        96.29\n",
       "evMotor       98.51\n",
       "mfrCode       81.44\n",
       "c240Dscr      99.90\n",
       "c240bDscr     99.90\n",
       "startStop     83.78\n",
       "dtype: float64"
      ]
     },
     "execution_count": 57,
     "metadata": {},
     "output_type": "execute_result"
    }
   ],
   "source": [
    "# What columns have missing values?\n",
    "missing_data=(df.isna().sum()/df.shape[0]*100).round(2)\n",
    "\n",
    "missing_data[missing_data>0]"
   ]
  },
  {
   "cell_type": "code",
   "execution_count": 58,
   "metadata": {
    "hidden": true,
    "scrolled": false
   },
   "outputs": [
    {
     "data": {
      "text/html": [
       "<div>\n",
       "<style scoped>\n",
       "    .dataframe tbody tr th:only-of-type {\n",
       "        vertical-align: middle;\n",
       "    }\n",
       "\n",
       "    .dataframe tbody tr th {\n",
       "        vertical-align: top;\n",
       "    }\n",
       "\n",
       "    .dataframe thead th {\n",
       "        text-align: right;\n",
       "    }\n",
       "</style>\n",
       "<table border=\"1\" class=\"dataframe\">\n",
       "  <thead>\n",
       "    <tr style=\"text-align: right;\">\n",
       "      <th></th>\n",
       "      <th>make</th>\n",
       "      <th>model</th>\n",
       "    </tr>\n",
       "  </thead>\n",
       "  <tbody>\n",
       "    <tr>\n",
       "      <th>25683</th>\n",
       "      <td>Tesla</td>\n",
       "      <td>Model S (60 kW-hr battery pack)</td>\n",
       "    </tr>\n",
       "    <tr>\n",
       "      <th>25684</th>\n",
       "      <td>Tesla</td>\n",
       "      <td>Model S (85 kW-hr battery pack)</td>\n",
       "    </tr>\n",
       "    <tr>\n",
       "      <th>25895</th>\n",
       "      <td>Nissan</td>\n",
       "      <td>Leaf</td>\n",
       "    </tr>\n",
       "    <tr>\n",
       "      <th>25955</th>\n",
       "      <td>Tesla</td>\n",
       "      <td>Model S (40 kW-hr battery pack)</td>\n",
       "    </tr>\n",
       "    <tr>\n",
       "      <th>27142</th>\n",
       "      <td>Nissan</td>\n",
       "      <td>Leaf</td>\n",
       "    </tr>\n",
       "    <tr>\n",
       "      <th>27226</th>\n",
       "      <td>Tesla</td>\n",
       "      <td>Model S (85 kW-hr battery pack)</td>\n",
       "    </tr>\n",
       "    <tr>\n",
       "      <th>27227</th>\n",
       "      <td>Tesla</td>\n",
       "      <td>Model S (60 kW-hr battery pack)</td>\n",
       "    </tr>\n",
       "    <tr>\n",
       "      <th>27384</th>\n",
       "      <td>Nissan</td>\n",
       "      <td>Leaf</td>\n",
       "    </tr>\n",
       "    <tr>\n",
       "      <th>28560</th>\n",
       "      <td>Tesla</td>\n",
       "      <td>Model S (85 kW-hr battery pack)</td>\n",
       "    </tr>\n",
       "    <tr>\n",
       "      <th>28575</th>\n",
       "      <td>Tesla</td>\n",
       "      <td>Model S AWD (85 kW-hr battery pack)</td>\n",
       "    </tr>\n",
       "    <tr>\n",
       "      <th>28591</th>\n",
       "      <td>Tesla</td>\n",
       "      <td>Model S AWD - P85D</td>\n",
       "    </tr>\n",
       "    <tr>\n",
       "      <th>28592</th>\n",
       "      <td>Tesla</td>\n",
       "      <td>Model S AWD - 85D</td>\n",
       "    </tr>\n",
       "    <tr>\n",
       "      <th>28600</th>\n",
       "      <td>Tesla</td>\n",
       "      <td>Model S (60 kW-hr battery pack)</td>\n",
       "    </tr>\n",
       "    <tr>\n",
       "      <th>28720</th>\n",
       "      <td>Tesla</td>\n",
       "      <td>Model S AWD - 70D</td>\n",
       "    </tr>\n",
       "    <tr>\n",
       "      <th>29443</th>\n",
       "      <td>Tesla</td>\n",
       "      <td>Model S AWD - 90D</td>\n",
       "    </tr>\n",
       "    <tr>\n",
       "      <th>29444</th>\n",
       "      <td>Tesla</td>\n",
       "      <td>Model S AWD - P90D</td>\n",
       "    </tr>\n",
       "    <tr>\n",
       "      <th>29497</th>\n",
       "      <td>Volkswagen</td>\n",
       "      <td>e-Golf</td>\n",
       "    </tr>\n",
       "    <tr>\n",
       "      <th>29652</th>\n",
       "      <td>Tesla</td>\n",
       "      <td>Model X AWD - 90D</td>\n",
       "    </tr>\n",
       "    <tr>\n",
       "      <th>29654</th>\n",
       "      <td>Tesla</td>\n",
       "      <td>Model X AWD - P90D</td>\n",
       "    </tr>\n",
       "    <tr>\n",
       "      <th>29750</th>\n",
       "      <td>Nissan</td>\n",
       "      <td>Leaf (24 kW-hr battery pack)</td>\n",
       "    </tr>\n",
       "    <tr>\n",
       "      <th>29751</th>\n",
       "      <td>Nissan</td>\n",
       "      <td>Leaf (30 kW-hr battery pack)</td>\n",
       "    </tr>\n",
       "    <tr>\n",
       "      <th>29933</th>\n",
       "      <td>Tesla</td>\n",
       "      <td>Model S (70 kW-hr battery pack)</td>\n",
       "    </tr>\n",
       "    <tr>\n",
       "      <th>29934</th>\n",
       "      <td>Tesla</td>\n",
       "      <td>Model S (85 kW-hr battery pack)</td>\n",
       "    </tr>\n",
       "    <tr>\n",
       "      <th>29935</th>\n",
       "      <td>Tesla</td>\n",
       "      <td>Model S (90 kW-hr battery pack)</td>\n",
       "    </tr>\n",
       "    <tr>\n",
       "      <th>29936</th>\n",
       "      <td>Tesla</td>\n",
       "      <td>Model S (90 kW-hr battery pack)</td>\n",
       "    </tr>\n",
       "    <tr>\n",
       "      <th>29938</th>\n",
       "      <td>Tesla</td>\n",
       "      <td>Model S AWD - 70D</td>\n",
       "    </tr>\n",
       "    <tr>\n",
       "      <th>29939</th>\n",
       "      <td>Tesla</td>\n",
       "      <td>Model S AWD - 85D</td>\n",
       "    </tr>\n",
       "    <tr>\n",
       "      <th>29941</th>\n",
       "      <td>Tesla</td>\n",
       "      <td>Model S AWD - 90D</td>\n",
       "    </tr>\n",
       "    <tr>\n",
       "      <th>29942</th>\n",
       "      <td>Tesla</td>\n",
       "      <td>Model S AWD - P85D</td>\n",
       "    </tr>\n",
       "    <tr>\n",
       "      <th>29943</th>\n",
       "      <td>Tesla</td>\n",
       "      <td>Model S AWD - P90D</td>\n",
       "    </tr>\n",
       "    <tr>\n",
       "      <th>30141</th>\n",
       "      <td>Tesla</td>\n",
       "      <td>Model S (75 kW-hr battery pack)</td>\n",
       "    </tr>\n",
       "    <tr>\n",
       "      <th>30142</th>\n",
       "      <td>Tesla</td>\n",
       "      <td>Model S AWD - 75D</td>\n",
       "    </tr>\n",
       "    <tr>\n",
       "      <th>30143</th>\n",
       "      <td>Tesla</td>\n",
       "      <td>Model X AWD - 75D</td>\n",
       "    </tr>\n",
       "    <tr>\n",
       "      <th>30972</th>\n",
       "      <td>Tesla</td>\n",
       "      <td>Model S (60 kW-hr battery pack)</td>\n",
       "    </tr>\n",
       "    <tr>\n",
       "      <th>30973</th>\n",
       "      <td>Tesla</td>\n",
       "      <td>Model S AWD - 60D</td>\n",
       "    </tr>\n",
       "    <tr>\n",
       "      <th>30974</th>\n",
       "      <td>Tesla</td>\n",
       "      <td>Model S AWD - P100D</td>\n",
       "    </tr>\n",
       "    <tr>\n",
       "      <th>30975</th>\n",
       "      <td>Tesla</td>\n",
       "      <td>Model X AWD - 60D</td>\n",
       "    </tr>\n",
       "  </tbody>\n",
       "</table>\n",
       "</div>"
      ],
      "text/plain": [
       "             make                                model\n",
       "25683       Tesla      Model S (60 kW-hr battery pack)\n",
       "25684       Tesla      Model S (85 kW-hr battery pack)\n",
       "25895      Nissan                                 Leaf\n",
       "25955       Tesla      Model S (40 kW-hr battery pack)\n",
       "27142      Nissan                                 Leaf\n",
       "27226       Tesla      Model S (85 kW-hr battery pack)\n",
       "27227       Tesla      Model S (60 kW-hr battery pack)\n",
       "27384      Nissan                                 Leaf\n",
       "28560       Tesla      Model S (85 kW-hr battery pack)\n",
       "28575       Tesla  Model S AWD (85 kW-hr battery pack)\n",
       "28591       Tesla                   Model S AWD - P85D\n",
       "28592       Tesla                    Model S AWD - 85D\n",
       "28600       Tesla      Model S (60 kW-hr battery pack)\n",
       "28720       Tesla                    Model S AWD - 70D\n",
       "29443       Tesla                    Model S AWD - 90D\n",
       "29444       Tesla                   Model S AWD - P90D\n",
       "29497  Volkswagen                               e-Golf\n",
       "29652       Tesla                    Model X AWD - 90D\n",
       "29654       Tesla                   Model X AWD - P90D\n",
       "29750      Nissan         Leaf (24 kW-hr battery pack)\n",
       "29751      Nissan         Leaf (30 kW-hr battery pack)\n",
       "29933       Tesla      Model S (70 kW-hr battery pack)\n",
       "29934       Tesla      Model S (85 kW-hr battery pack)\n",
       "29935       Tesla      Model S (90 kW-hr battery pack)\n",
       "29936       Tesla      Model S (90 kW-hr battery pack)\n",
       "29938       Tesla                    Model S AWD - 70D\n",
       "29939       Tesla                    Model S AWD - 85D\n",
       "29941       Tesla                    Model S AWD - 90D\n",
       "29942       Tesla                   Model S AWD - P85D\n",
       "29943       Tesla                   Model S AWD - P90D\n",
       "30141       Tesla      Model S (75 kW-hr battery pack)\n",
       "30142       Tesla                    Model S AWD - 75D\n",
       "30143       Tesla                    Model X AWD - 75D\n",
       "30972       Tesla      Model S (60 kW-hr battery pack)\n",
       "30973       Tesla                    Model S AWD - 60D\n",
       "30974       Tesla                  Model S AWD - P100D\n",
       "30975       Tesla                    Model X AWD - 60D"
      ]
     },
     "execution_count": 58,
     "metadata": {},
     "output_type": "execute_result"
    }
   ],
   "source": [
    "df[['make','model']][df.c240Dscr.notna()]"
   ]
  },
  {
   "cell_type": "markdown",
   "metadata": {
    "hidden": true
   },
   "source": [
    "From the table above we see that the only rows that have some data in the columns c240Dscr and c240bDscr are electric. That means, that it is fine to have missing data - it simply tells us that the cars are not electric. Fillna!"
   ]
  },
  {
   "cell_type": "code",
   "execution_count": 59,
   "metadata": {
    "hidden": true
   },
   "outputs": [],
   "source": [
    "df[['c240Dscr','c240bDscr']]=df[['c240Dscr','c240bDscr']].fillna('Not Applicable')"
   ]
  },
  {
   "cell_type": "code",
   "execution_count": 60,
   "metadata": {
    "hidden": true
   },
   "outputs": [
    {
     "data": {
      "text/plain": [
       "cylinders      0.33\n",
       "displ          0.32\n",
       "drive          3.14\n",
       "eng_dscr      40.70\n",
       "trany          0.03\n",
       "guzzler       93.97\n",
       "trans_dscr    60.24\n",
       "tCharger      86.30\n",
       "sCharger      98.24\n",
       "atvType       91.88\n",
       "fuelType2     96.28\n",
       "rangeA        96.29\n",
       "evMotor       98.51\n",
       "mfrCode       81.44\n",
       "startStop     83.78\n",
       "dtype: float64"
      ]
     },
     "execution_count": 60,
     "metadata": {},
     "output_type": "execute_result"
    }
   ],
   "source": [
    "# What columns have missing values?\n",
    "missing_data=(df.isna().sum()/df.shape[0]*100).round(2)\n",
    "\n",
    "missing_data[missing_data>0]"
   ]
  },
  {
   "cell_type": "code",
   "execution_count": 39,
   "metadata": {
    "hidden": true
   },
   "outputs": [
    {
     "data": {
      "text/plain": [
       "array([nan, 'T'], dtype=object)"
      ]
     },
     "execution_count": 39,
     "metadata": {},
     "output_type": "execute_result"
    }
   ],
   "source": [
    "df.tCharger.unique()"
   ]
  },
  {
   "cell_type": "code",
   "execution_count": 40,
   "metadata": {
    "hidden": true
   },
   "outputs": [
    {
     "data": {
      "text/plain": [
       "array([nan, 'S'], dtype=object)"
      ]
     },
     "execution_count": 40,
     "metadata": {},
     "output_type": "execute_result"
    }
   ],
   "source": [
    "df.sCharger.unique()"
   ]
  },
  {
   "cell_type": "code",
   "execution_count": 45,
   "metadata": {
    "hidden": true
   },
   "outputs": [
    {
     "data": {
      "text/plain": [
       "array([2, 1, 0])"
      ]
     },
     "execution_count": 45,
     "metadata": {},
     "output_type": "execute_result"
    }
   ],
   "source": [
    "df[['tCharger','sCharger']].isna().sum(axis=1).unique()"
   ]
  },
  {
   "cell_type": "markdown",
   "metadata": {
    "hidden": true
   },
   "source": [
    "Here we see 2 columns with only 1 value possible. We tested it they are dummies of 1 original column, but since they may have both columns being non-empty we can't consider them as just dummies. It is multiple-answer question."
   ]
  },
  {
   "cell_type": "markdown",
   "metadata": {
    "heading_collapsed": true,
    "hidden": true
   },
   "source": [
    "## Drop based on threshold"
   ]
  },
  {
   "cell_type": "markdown",
   "metadata": {
    "hidden": true
   },
   "source": [
    "This approach is harsh, you lose a lot of data (that you actually paid for), it is highly not recommended. But why not?"
   ]
  },
  {
   "cell_type": "code",
   "execution_count": 61,
   "metadata": {
    "hidden": true
   },
   "outputs": [
    {
     "data": {
      "text/plain": [
       "cylinders      0.33\n",
       "displ          0.32\n",
       "drive          3.14\n",
       "eng_dscr      40.70\n",
       "trany          0.03\n",
       "guzzler       93.97\n",
       "trans_dscr    60.24\n",
       "tCharger      86.30\n",
       "sCharger      98.24\n",
       "atvType       91.88\n",
       "fuelType2     96.28\n",
       "rangeA        96.29\n",
       "evMotor       98.51\n",
       "mfrCode       81.44\n",
       "startStop     83.78\n",
       "dtype: float64"
      ]
     },
     "execution_count": 61,
     "metadata": {},
     "output_type": "execute_result"
    }
   ],
   "source": [
    "# What columns have missing values?\n",
    "missing_data=(df.isna().sum()/df.shape[0]*100).round(2)\n",
    "\n",
    "missing_data[missing_data>0]"
   ]
  },
  {
   "cell_type": "markdown",
   "metadata": {
    "hidden": true
   },
   "source": [
    "I need to define the threshold level. "
   ]
  },
  {
   "cell_type": "code",
   "execution_count": 62,
   "metadata": {
    "hidden": true
   },
   "outputs": [],
   "source": [
    "threshold=70\n",
    "\n",
    "columns_to_drop=missing_data[missing_data>threshold].index"
   ]
  },
  {
   "cell_type": "code",
   "execution_count": 96,
   "metadata": {
    "hidden": true
   },
   "outputs": [],
   "source": [
    "df1=df.drop(columns_to_drop, axis=1).copy()"
   ]
  },
  {
   "cell_type": "code",
   "execution_count": 64,
   "metadata": {
    "hidden": true
   },
   "outputs": [
    {
     "data": {
      "text/plain": [
       "(37843, 74)"
      ]
     },
     "execution_count": 64,
     "metadata": {},
     "output_type": "execute_result"
    }
   ],
   "source": [
    "df1.shape"
   ]
  },
  {
   "cell_type": "markdown",
   "metadata": {
    "hidden": true
   },
   "source": [
    "## Interpolation"
   ]
  },
  {
   "cell_type": "markdown",
   "metadata": {
    "hidden": true
   },
   "source": [
    "[1,2,3,4,5,?,7]   -   linear trend\n",
    "\n",
    "\n",
    "[0,1,4,9,?,25,36] -   quadratic trend\n",
    "\n",
    "[[1,2,?],  \n",
    " [7,8,9],         -   linear trend within the range  \n",
    " [13,14,15]]\n",
    " \n",
    " \n",
    "[1,2,3,7,8,?,13,14,15] - linear trend within the range"
   ]
  },
  {
   "cell_type": "code",
   "execution_count": 97,
   "metadata": {
    "hidden": true
   },
   "outputs": [],
   "source": [
    "data_numeric=df1._get_numeric_data()\n",
    "\n",
    "# What columns have missing values?\n",
    "missing_data=(data_numeric.isna().sum()/data_numeric.shape[0]*100).round(2)\n",
    "\n",
    "cols_to_interpolate=missing_data[missing_data>0].index"
   ]
  },
  {
   "cell_type": "code",
   "execution_count": 109,
   "metadata": {
    "hidden": true
   },
   "outputs": [],
   "source": [
    "data_numeric[cols_to_interpolate]=data_numeric[cols_to_interpolate].interpolate(method='linear')"
   ]
  },
  {
   "cell_type": "code",
   "execution_count": 107,
   "metadata": {
    "collapsed": true,
    "hidden": true
   },
   "outputs": [
    {
     "data": {
      "text/plain": [
       "Int64Index([ 7138,  7139,  8143,  8144,  8146,  8147,  9212,  9213, 10329,\n",
       "            21413,\n",
       "            ...\n",
       "            30557, 30561, 30784, 30785, 30786, 30969, 30972, 30973, 30974,\n",
       "            30975],\n",
       "           dtype='int64', length=123)"
      ]
     },
     "execution_count": 107,
     "metadata": {},
     "output_type": "execute_result"
    }
   ],
   "source": [
    "data_numeric[cols_to_interpolate][data_numeric[cols_to_interpolate].isna().sum(axis=1)>0].index"
   ]
  },
  {
   "cell_type": "code",
   "execution_count": 82,
   "metadata": {
    "hidden": true
   },
   "outputs": [],
   "source": [
    "rows_with_missingdata=data_numeric[cols_to_interpolate][data_numeric[cols_to_interpolate].isna().sum(axis=1)>0].index"
   ]
  },
  {
   "cell_type": "code",
   "execution_count": 110,
   "metadata": {
    "collapsed": true,
    "hidden": true
   },
   "outputs": [
    {
     "data": {
      "text/html": [
       "<div>\n",
       "<style scoped>\n",
       "    .dataframe tbody tr th:only-of-type {\n",
       "        vertical-align: middle;\n",
       "    }\n",
       "\n",
       "    .dataframe tbody tr th {\n",
       "        vertical-align: top;\n",
       "    }\n",
       "\n",
       "    .dataframe thead th {\n",
       "        text-align: right;\n",
       "    }\n",
       "</style>\n",
       "<table border=\"1\" class=\"dataframe\">\n",
       "  <thead>\n",
       "    <tr style=\"text-align: right;\">\n",
       "      <th></th>\n",
       "      <th>cylinders</th>\n",
       "      <th>displ</th>\n",
       "    </tr>\n",
       "  </thead>\n",
       "  <tbody>\n",
       "    <tr>\n",
       "      <th>7138</th>\n",
       "      <td>6.000000</td>\n",
       "      <td>3.200000</td>\n",
       "    </tr>\n",
       "    <tr>\n",
       "      <th>7139</th>\n",
       "      <td>6.000000</td>\n",
       "      <td>3.100000</td>\n",
       "    </tr>\n",
       "    <tr>\n",
       "      <th>8143</th>\n",
       "      <td>4.666667</td>\n",
       "      <td>2.633333</td>\n",
       "    </tr>\n",
       "    <tr>\n",
       "      <th>8144</th>\n",
       "      <td>3.333333</td>\n",
       "      <td>1.966667</td>\n",
       "    </tr>\n",
       "    <tr>\n",
       "      <th>8146</th>\n",
       "      <td>3.333333</td>\n",
       "      <td>1.866667</td>\n",
       "    </tr>\n",
       "    <tr>\n",
       "      <th>...</th>\n",
       "      <td>...</td>\n",
       "      <td>...</td>\n",
       "    </tr>\n",
       "    <tr>\n",
       "      <th>30969</th>\n",
       "      <td>5.000000</td>\n",
       "      <td>2.750000</td>\n",
       "    </tr>\n",
       "    <tr>\n",
       "      <th>30972</th>\n",
       "      <td>6.000000</td>\n",
       "      <td>2.800000</td>\n",
       "    </tr>\n",
       "    <tr>\n",
       "      <th>30973</th>\n",
       "      <td>6.000000</td>\n",
       "      <td>2.800000</td>\n",
       "    </tr>\n",
       "    <tr>\n",
       "      <th>30974</th>\n",
       "      <td>6.000000</td>\n",
       "      <td>2.800000</td>\n",
       "    </tr>\n",
       "    <tr>\n",
       "      <th>30975</th>\n",
       "      <td>6.000000</td>\n",
       "      <td>2.800000</td>\n",
       "    </tr>\n",
       "  </tbody>\n",
       "</table>\n",
       "<p>123 rows × 2 columns</p>\n",
       "</div>"
      ],
      "text/plain": [
       "       cylinders     displ\n",
       "7138    6.000000  3.200000\n",
       "7139    6.000000  3.100000\n",
       "8143    4.666667  2.633333\n",
       "8144    3.333333  1.966667\n",
       "8146    3.333333  1.866667\n",
       "...          ...       ...\n",
       "30969   5.000000  2.750000\n",
       "30972   6.000000  2.800000\n",
       "30973   6.000000  2.800000\n",
       "30974   6.000000  2.800000\n",
       "30975   6.000000  2.800000\n",
       "\n",
       "[123 rows x 2 columns]"
      ]
     },
     "execution_count": 110,
     "metadata": {},
     "output_type": "execute_result"
    }
   ],
   "source": [
    "data_numeric.loc[rows_with_missingdata,cols_to_interpolate]"
   ]
  },
  {
   "cell_type": "code",
   "execution_count": 112,
   "metadata": {
    "hidden": true
   },
   "outputs": [
    {
     "data": {
      "text/plain": [
       "drive          3.14\n",
       "eng_dscr      40.70\n",
       "trany          0.03\n",
       "trans_dscr    60.24\n",
       "dtype: float64"
      ]
     },
     "execution_count": 112,
     "metadata": {},
     "output_type": "execute_result"
    }
   ],
   "source": [
    "missing_data=(df1.isna().sum()/df1.shape[0]*100).round(2)\n",
    "\n",
    "missing_data[missing_data>0]"
   ]
  },
  {
   "cell_type": "code",
   "execution_count": 113,
   "metadata": {
    "hidden": true
   },
   "outputs": [
    {
     "data": {
      "text/plain": [
       "0                  Rear-Wheel Drive\n",
       "1                  Rear-Wheel Drive\n",
       "2                 Front-Wheel Drive\n",
       "3                  Rear-Wheel Drive\n",
       "4        4-Wheel or All-Wheel Drive\n",
       "                    ...            \n",
       "37838             Front-Wheel Drive\n",
       "37839             Front-Wheel Drive\n",
       "37840    4-Wheel or All-Wheel Drive\n",
       "37841    4-Wheel or All-Wheel Drive\n",
       "37842    4-Wheel or All-Wheel Drive\n",
       "Name: drive, Length: 37843, dtype: object"
      ]
     },
     "execution_count": 113,
     "metadata": {},
     "output_type": "execute_result"
    }
   ],
   "source": [
    "df1.drive"
   ]
  },
  {
   "cell_type": "markdown",
   "metadata": {
    "hidden": true
   },
   "source": [
    "What can be done here?\n",
    "1. Fillna with 'Unknown'\n",
    "2. Randomly select the value from the list of values based on probability of having the value\n",
    "3. bfill, ffill\n",
    "4. fillna with the mode (most common value)"
   ]
  },
  {
   "cell_type": "code",
   "execution_count": 114,
   "metadata": {
    "hidden": true
   },
   "outputs": [
    {
     "data": {
      "text/plain": [
       "Front-Wheel Drive             13286\n",
       "Rear-Wheel Drive              12931\n",
       "4-Wheel or All-Wheel Drive     6648\n",
       "All-Wheel Drive                2057\n",
       "4-Wheel Drive                  1065\n",
       "2-Wheel Drive                   507\n",
       "Part-time 4-Wheel Drive         159\n",
       "2-Wheel Drive, Front              1\n",
       "Name: drive, dtype: int64"
      ]
     },
     "execution_count": 114,
     "metadata": {},
     "output_type": "execute_result"
    }
   ],
   "source": [
    "df.drive.value_counts()"
   ]
  },
  {
   "cell_type": "code",
   "execution_count": 120,
   "metadata": {
    "hidden": true
   },
   "outputs": [],
   "source": [
    "df1.drive.fillna(df1.drive.mode()[0], inplace=True)"
   ]
  },
  {
   "cell_type": "code",
   "execution_count": 123,
   "metadata": {
    "hidden": true
   },
   "outputs": [
    {
     "data": {
      "text/plain": [
       "Index(['eng_dscr', 'trany', 'trans_dscr'], dtype='object')"
      ]
     },
     "execution_count": 123,
     "metadata": {},
     "output_type": "execute_result"
    }
   ],
   "source": [
    "missing_data=(df1.isna().sum()/df1.shape[0]*100).round(2)\n",
    "\n",
    "missing_data[missing_data>0].index"
   ]
  },
  {
   "cell_type": "code",
   "execution_count": 130,
   "metadata": {
    "hidden": true
   },
   "outputs": [],
   "source": [
    "df1[missing_data[missing_data>0].index]=df1[missing_data[missing_data>0].index].fillna('missing')"
   ]
  },
  {
   "cell_type": "code",
   "execution_count": 131,
   "metadata": {
    "hidden": true
   },
   "outputs": [
    {
     "data": {
      "text/plain": [
       "Series([], dtype: float64)"
      ]
     },
     "execution_count": 131,
     "metadata": {},
     "output_type": "execute_result"
    }
   ],
   "source": [
    "missing_data=(df1.isna().sum()/df1.shape[0]*100).round(2)\n",
    "\n",
    "missing_data[missing_data>0]"
   ]
  },
  {
   "cell_type": "markdown",
   "metadata": {
    "hidden": true
   },
   "source": [
    "**No more missing values! PROFIT!**"
   ]
  },
  {
   "cell_type": "markdown",
   "metadata": {
    "heading_collapsed": true
   },
   "source": [
    "# Incorrect data"
   ]
  },
  {
   "cell_type": "markdown",
   "metadata": {
    "hidden": true
   },
   "source": [
    "<img src='https://camo.githubusercontent.com/02733f6c0eba6d03e2790502ff4b832421887bed/68747470733a2f2f656c69746564617461736369656e63652e636f6d2f77702d636f6e74656e742f75706c6f6164732f323031372f30362f4f6c697665722d7468652d4f776c2e706e67'>"
   ]
  },
  {
   "cell_type": "markdown",
   "metadata": {
    "hidden": true
   },
   "source": [
    "1. Define all possible errors\n",
    "2. Write down the rules that will allow you to detect those errors\n",
    "3. For rule in rules:\n",
    "    * Search for mistake\n",
    "    * If a mistake is found and can be fixed:\n",
    "        * Define the rule to fix the error\n",
    "        * Correct them\n",
    "    * Else:\n",
    "        * First check for other mistakes. May be this value is just an outlier\n",
    "        * If everything else is ok - try to access the true data (get the questionnaire for survey, call the respondent, etc.)\n",
    "        * If actual data is unknown and/or unreachable - drop the row."
   ]
  },
  {
   "cell_type": "code",
   "execution_count": 133,
   "metadata": {
    "hidden": true
   },
   "outputs": [
    {
     "data": {
      "text/plain": [
       "Index(['barrels08', 'barrelsA08', 'charge120', 'charge240', 'city08',\n",
       "       'city08U', 'cityA08', 'cityA08U', 'cityCD', 'cityE', 'cityUF', 'co2',\n",
       "       'co2A', 'co2TailpipeAGpm', 'co2TailpipeGpm', 'comb08', 'comb08U',\n",
       "       'combA08', 'combA08U', 'combE', 'combinedCD', 'combinedUF', 'cylinders',\n",
       "       'displ', 'drive', 'engId', 'eng_dscr', 'feScore', 'fuelCost08',\n",
       "       'fuelCostA08', 'fuelType', 'fuelType1', 'ghgScore', 'ghgScoreA',\n",
       "       'highway08', 'highway08U', 'highwayA08', 'highwayA08U', 'highwayCD',\n",
       "       'highwayE', 'highwayUF', 'hlv', 'hpv', 'id', 'lv2', 'lv4', 'make',\n",
       "       'model', 'mpgData', 'phevBlended', 'pv2', 'pv4', 'range', 'rangeCity',\n",
       "       'rangeCityA', 'rangeHwy', 'rangeHwyA', 'trany', 'UCity', 'UCityA',\n",
       "       'UHighway', 'UHighwayA', 'VClass', 'year', 'youSaveSpend', 'guzzler',\n",
       "       'trans_dscr', 'tCharger', 'sCharger', 'atvType', 'fuelType2', 'rangeA',\n",
       "       'evMotor', 'mfrCode', 'c240Dscr', 'charge240b', 'c240bDscr',\n",
       "       'createdOn', 'modifiedOn', 'startStop', 'phevCity', 'phevHwy',\n",
       "       'phevComb'],\n",
       "      dtype='object')"
      ]
     },
     "execution_count": 133,
     "metadata": {},
     "output_type": "execute_result"
    }
   ],
   "source": [
    "df.columns"
   ]
  },
  {
   "cell_type": "markdown",
   "metadata": {
    "hidden": true
   },
   "source": [
    "I know that there cant be a car with a certain displacement and without cylinders "
   ]
  },
  {
   "cell_type": "code",
   "execution_count": 151,
   "metadata": {
    "hidden": true
   },
   "outputs": [
    {
     "data": {
      "text/html": [
       "<div>\n",
       "<style scoped>\n",
       "    .dataframe tbody tr th:only-of-type {\n",
       "        vertical-align: middle;\n",
       "    }\n",
       "\n",
       "    .dataframe tbody tr th {\n",
       "        vertical-align: top;\n",
       "    }\n",
       "\n",
       "    .dataframe thead th {\n",
       "        text-align: right;\n",
       "    }\n",
       "</style>\n",
       "<table border=\"1\" class=\"dataframe\">\n",
       "  <thead>\n",
       "    <tr style=\"text-align: right;\">\n",
       "      <th></th>\n",
       "      <th>year</th>\n",
       "      <th>make</th>\n",
       "      <th>model</th>\n",
       "      <th>trany</th>\n",
       "      <th>drive</th>\n",
       "      <th>fuelType</th>\n",
       "      <th>cylinders</th>\n",
       "      <th>displ</th>\n",
       "    </tr>\n",
       "  </thead>\n",
       "  <tbody>\n",
       "    <tr>\n",
       "      <th>21506</th>\n",
       "      <td>1986</td>\n",
       "      <td>Mazda</td>\n",
       "      <td>RX-7</td>\n",
       "      <td>Manual 5-spd</td>\n",
       "      <td>Rear-Wheel Drive</td>\n",
       "      <td>Regular</td>\n",
       "      <td>NaN</td>\n",
       "      <td>1.3</td>\n",
       "    </tr>\n",
       "  </tbody>\n",
       "</table>\n",
       "</div>"
      ],
      "text/plain": [
       "       year   make model         trany             drive fuelType  cylinders  \\\n",
       "21506  1986  Mazda  RX-7  Manual 5-spd  Rear-Wheel Drive  Regular        NaN   \n",
       "\n",
       "       displ  \n",
       "21506    1.3  "
      ]
     },
     "execution_count": 151,
     "metadata": {},
     "output_type": "execute_result"
    }
   ],
   "source": [
    "df.loc[((df.cylinders.isna()) | (df.cylinders==0)) & ((df.displ!=0) & (df.displ.notna())), ['year', 'make', 'model', 'trany', 'drive','fuelType','cylinders', 'displ']]"
   ]
  },
  {
   "cell_type": "code",
   "execution_count": 152,
   "metadata": {
    "hidden": true
   },
   "outputs": [],
   "source": [
    "df.loc[((df.cylinders.isna()) | (df.cylinders==0)) & ((df.displ!=0) & (df.displ.notna())), 'cylinders']=4"
   ]
  },
  {
   "cell_type": "code",
   "execution_count": 153,
   "metadata": {
    "hidden": true
   },
   "outputs": [
    {
     "data": {
      "text/html": [
       "<div>\n",
       "<style scoped>\n",
       "    .dataframe tbody tr th:only-of-type {\n",
       "        vertical-align: middle;\n",
       "    }\n",
       "\n",
       "    .dataframe tbody tr th {\n",
       "        vertical-align: top;\n",
       "    }\n",
       "\n",
       "    .dataframe thead th {\n",
       "        text-align: right;\n",
       "    }\n",
       "</style>\n",
       "<table border=\"1\" class=\"dataframe\">\n",
       "  <thead>\n",
       "    <tr style=\"text-align: right;\">\n",
       "      <th></th>\n",
       "      <th>year</th>\n",
       "      <th>make</th>\n",
       "      <th>model</th>\n",
       "      <th>trany</th>\n",
       "      <th>drive</th>\n",
       "      <th>fuelType</th>\n",
       "      <th>cylinders</th>\n",
       "      <th>displ</th>\n",
       "    </tr>\n",
       "  </thead>\n",
       "  <tbody>\n",
       "  </tbody>\n",
       "</table>\n",
       "</div>"
      ],
      "text/plain": [
       "Empty DataFrame\n",
       "Columns: [year, make, model, trany, drive, fuelType, cylinders, displ]\n",
       "Index: []"
      ]
     },
     "execution_count": 153,
     "metadata": {},
     "output_type": "execute_result"
    }
   ],
   "source": [
    "df.loc[((df.cylinders.isna()) | (df.cylinders==0)) & ((df.displ!=0) & (df.displ.notna())), ['year', 'make', 'model', 'trany', 'drive','fuelType','cylinders', 'displ']]"
   ]
  },
  {
   "cell_type": "code",
   "execution_count": 154,
   "metadata": {
    "hidden": true
   },
   "outputs": [
    {
     "data": {
      "text/plain": [
       "4.0"
      ]
     },
     "execution_count": 154,
     "metadata": {},
     "output_type": "execute_result"
    }
   ],
   "source": [
    "df.loc[21506, 'cylinders']"
   ]
  },
  {
   "cell_type": "markdown",
   "metadata": {},
   "source": [
    "# Extreme Values"
   ]
  },
  {
   "cell_type": "markdown",
   "metadata": {},
   "source": [
    "<img src='https://camo.githubusercontent.com/c9b81bac876b0d9929e37e019603eb9ad2e4b715/68747470733a2f2f656c69746564617461736369656e63652e636f6d2f77702d636f6e74656e742f75706c6f6164732f323031372f30362f496e6e6f63656e742d556e74696c2d50726f76656e2d4775696c74792e706e67'>"
   ]
  },
  {
   "cell_type": "code",
   "execution_count": 155,
   "metadata": {},
   "outputs": [
    {
     "data": {
      "text/plain": [
       "25.0"
      ]
     },
     "execution_count": 155,
     "metadata": {},
     "output_type": "execute_result"
    }
   ],
   "source": [
    "import numpy as np\n",
    "\n",
    "np.mean([25,25,25,25])"
   ]
  },
  {
   "cell_type": "code",
   "execution_count": 158,
   "metadata": {},
   "outputs": [
    {
     "data": {
      "text/plain": [
       "25.0"
      ]
     },
     "execution_count": 158,
     "metadata": {},
     "output_type": "execute_result"
    }
   ],
   "source": [
    "np.mean([97,1,1,1])"
   ]
  },
  {
   "cell_type": "markdown",
   "metadata": {},
   "source": [
    "1. Detect them\n",
    "    * Boxplot\n",
    "    * IQR / Z-score\n",
    "    * Any Machine Learning technics that works with outliers or anomaly detection\n",
    "2. Fix them:\n",
    "    * Drop them\n",
    "    * Limit values by 5th and 95th percentiles, aka winsorizing\n",
    "    * Fix them if possible\n",
    "    * Leave them as they are"
   ]
  },
  {
   "cell_type": "markdown",
   "metadata": {
    "heading_collapsed": true
   },
   "source": [
    "## Detection"
   ]
  },
  {
   "cell_type": "markdown",
   "metadata": {
    "heading_collapsed": true,
    "hidden": true
   },
   "source": [
    "### Boxplot"
   ]
  },
  {
   "cell_type": "code",
   "execution_count": 159,
   "metadata": {
    "hidden": true
   },
   "outputs": [],
   "source": [
    "import seaborn as sns\n",
    "import matplotlib.pyplot as plt\n",
    "%matplotlib inline\n",
    "sns.set()"
   ]
  },
  {
   "cell_type": "code",
   "execution_count": 161,
   "metadata": {
    "hidden": true
   },
   "outputs": [
    {
     "data": {
      "text/plain": [
       "<matplotlib.axes._subplots.AxesSubplot at 0x7ff18ec2c590>"
      ]
     },
     "execution_count": 161,
     "metadata": {},
     "output_type": "execute_result"
    },
    {
     "data": {
      "image/png": "[encoded data removed]",
      "text/plain": [
       "<Figure size 432x288 with 1 Axes>"
      ]
     },
     "metadata": {},
     "output_type": "display_data"
    }
   ],
   "source": [
    "sns.boxplot(df.barrels08)"
   ]
  },
  {
   "cell_type": "code",
   "execution_count": 167,
   "metadata": {
    "hidden": true
   },
   "outputs": [
    {
     "data": {
      "text/plain": [
       "Index(['barrels08', 'barrelsA08', 'charge120', 'charge240', 'city08',\n",
       "       'city08U', 'cityA08', 'cityA08U', 'cityCD', 'cityE', 'cityUF', 'co2',\n",
       "       'co2A', 'co2TailpipeAGpm', 'co2TailpipeGpm', 'comb08', 'comb08U',\n",
       "       'combA08', 'combA08U', 'combE', 'combinedCD', 'combinedUF', 'cylinders',\n",
       "       'displ', 'engId', 'feScore', 'fuelCost08', 'fuelCostA08', 'ghgScore',\n",
       "       'ghgScoreA', 'highway08', 'highway08U', 'highwayA08', 'highwayA08U',\n",
       "       'highwayCD', 'highwayE', 'highwayUF', 'hlv', 'hpv', 'id', 'lv2', 'lv4',\n",
       "       'phevBlended', 'pv2', 'pv4', 'range', 'rangeCity', 'rangeCityA',\n",
       "       'rangeHwy', 'rangeHwyA', 'UCity', 'UCityA', 'UHighway', 'UHighwayA',\n",
       "       'year', 'youSaveSpend', 'charge240b', 'phevCity', 'phevHwy',\n",
       "       'phevComb'],\n",
       "      dtype='object')"
      ]
     },
     "execution_count": 167,
     "metadata": {},
     "output_type": "execute_result"
    }
   ],
   "source": [
    "df._get_numeric_data().columns"
   ]
  },
  {
   "cell_type": "code",
   "execution_count": 172,
   "metadata": {
    "hidden": true
   },
   "outputs": [
    {
     "data": {
      "text/plain": [
       "<matplotlib.axes._subplots.AxesSubplot at 0x7ff1a329be50>"
      ]
     },
     "execution_count": 172,
     "metadata": {},
     "output_type": "execute_result"
    },
    {
     "data": {
      "image/png": "[encoded data removed]",
      "text/plain": [
       "<Figure size 432x288 with 1 Axes>"
      ]
     },
     "metadata": {},
     "output_type": "display_data"
    }
   ],
   "source": [
    "df.fuelCost08.plot.box()"
   ]
  },
  {
   "cell_type": "markdown",
   "metadata": {
    "heading_collapsed": true,
    "hidden": true
   },
   "source": [
    "### IQR"
   ]
  },
  {
   "cell_type": "code",
   "execution_count": 162,
   "metadata": {
    "hidden": true
   },
   "outputs": [
    {
     "data": {
      "text/html": [
       "<div>\n",
       "<style scoped>\n",
       "    .dataframe tbody tr th:only-of-type {\n",
       "        vertical-align: middle;\n",
       "    }\n",
       "\n",
       "    .dataframe tbody tr th {\n",
       "        vertical-align: top;\n",
       "    }\n",
       "\n",
       "    .dataframe thead th {\n",
       "        text-align: right;\n",
       "    }\n",
       "</style>\n",
       "<table border=\"1\" class=\"dataframe\">\n",
       "  <thead>\n",
       "    <tr style=\"text-align: right;\">\n",
       "      <th></th>\n",
       "      <th>barrels08</th>\n",
       "      <th>barrelsA08</th>\n",
       "      <th>charge120</th>\n",
       "      <th>charge240</th>\n",
       "      <th>city08</th>\n",
       "      <th>city08U</th>\n",
       "      <th>cityA08</th>\n",
       "      <th>cityA08U</th>\n",
       "      <th>cityCD</th>\n",
       "      <th>cityE</th>\n",
       "      <th>...</th>\n",
       "      <th>UCity</th>\n",
       "      <th>UCityA</th>\n",
       "      <th>UHighway</th>\n",
       "      <th>UHighwayA</th>\n",
       "      <th>year</th>\n",
       "      <th>youSaveSpend</th>\n",
       "      <th>charge240b</th>\n",
       "      <th>phevCity</th>\n",
       "      <th>phevHwy</th>\n",
       "      <th>phevComb</th>\n",
       "    </tr>\n",
       "  </thead>\n",
       "  <tbody>\n",
       "    <tr>\n",
       "      <th>count</th>\n",
       "      <td>37843.000000</td>\n",
       "      <td>37843.000000</td>\n",
       "      <td>37843.0</td>\n",
       "      <td>37843.000000</td>\n",
       "      <td>37843.000000</td>\n",
       "      <td>37843.000000</td>\n",
       "      <td>37843.000000</td>\n",
       "      <td>37843.000000</td>\n",
       "      <td>37843.000000</td>\n",
       "      <td>37843.000000</td>\n",
       "      <td>...</td>\n",
       "      <td>37843.000000</td>\n",
       "      <td>37843.000000</td>\n",
       "      <td>37843.000000</td>\n",
       "      <td>37843.000000</td>\n",
       "      <td>37843.000000</td>\n",
       "      <td>37843.000000</td>\n",
       "      <td>37843.000000</td>\n",
       "      <td>37843.000000</td>\n",
       "      <td>37843.000000</td>\n",
       "      <td>37843.000000</td>\n",
       "    </tr>\n",
       "    <tr>\n",
       "      <th>mean</th>\n",
       "      <td>17.532506</td>\n",
       "      <td>0.216169</td>\n",
       "      <td>0.0</td>\n",
       "      <td>0.023531</td>\n",
       "      <td>17.941389</td>\n",
       "      <td>4.042737</td>\n",
       "      <td>0.520149</td>\n",
       "      <td>0.327163</td>\n",
       "      <td>0.000406</td>\n",
       "      <td>0.184790</td>\n",
       "      <td>...</td>\n",
       "      <td>22.587229</td>\n",
       "      <td>0.652380</td>\n",
       "      <td>33.619221</td>\n",
       "      <td>0.933845</td>\n",
       "      <td>2000.064398</td>\n",
       "      <td>-2658.999022</td>\n",
       "      <td>0.004360</td>\n",
       "      <td>0.069313</td>\n",
       "      <td>0.068203</td>\n",
       "      <td>0.068573</td>\n",
       "    </tr>\n",
       "    <tr>\n",
       "      <th>std</th>\n",
       "      <td>4.575950</td>\n",
       "      <td>1.141527</td>\n",
       "      <td>0.0</td>\n",
       "      <td>0.427647</td>\n",
       "      <td>6.660360</td>\n",
       "      <td>9.645820</td>\n",
       "      <td>3.837874</td>\n",
       "      <td>3.542596</td>\n",
       "      <td>0.039918</td>\n",
       "      <td>2.904558</td>\n",
       "      <td>...</td>\n",
       "      <td>9.350163</td>\n",
       "      <td>5.284547</td>\n",
       "      <td>10.048326</td>\n",
       "      <td>6.059456</td>\n",
       "      <td>10.390588</td>\n",
       "      <td>2553.098329</td>\n",
       "      <td>0.142776</td>\n",
       "      <td>1.966806</td>\n",
       "      <td>1.871986</td>\n",
       "      <td>1.913647</td>\n",
       "    </tr>\n",
       "    <tr>\n",
       "      <th>min</th>\n",
       "      <td>0.060000</td>\n",
       "      <td>0.000000</td>\n",
       "      <td>0.0</td>\n",
       "      <td>0.000000</td>\n",
       "      <td>6.000000</td>\n",
       "      <td>0.000000</td>\n",
       "      <td>0.000000</td>\n",
       "      <td>0.000000</td>\n",
       "      <td>0.000000</td>\n",
       "      <td>0.000000</td>\n",
       "      <td>...</td>\n",
       "      <td>0.000000</td>\n",
       "      <td>0.000000</td>\n",
       "      <td>0.000000</td>\n",
       "      <td>0.000000</td>\n",
       "      <td>1984.000000</td>\n",
       "      <td>-22250.000000</td>\n",
       "      <td>0.000000</td>\n",
       "      <td>0.000000</td>\n",
       "      <td>0.000000</td>\n",
       "      <td>0.000000</td>\n",
       "    </tr>\n",
       "    <tr>\n",
       "      <th>25%</th>\n",
       "      <td>14.330870</td>\n",
       "      <td>0.000000</td>\n",
       "      <td>0.0</td>\n",
       "      <td>0.000000</td>\n",
       "      <td>15.000000</td>\n",
       "      <td>0.000000</td>\n",
       "      <td>0.000000</td>\n",
       "      <td>0.000000</td>\n",
       "      <td>0.000000</td>\n",
       "      <td>0.000000</td>\n",
       "      <td>...</td>\n",
       "      <td>18.000000</td>\n",
       "      <td>0.000000</td>\n",
       "      <td>27.100000</td>\n",
       "      <td>0.000000</td>\n",
       "      <td>1990.000000</td>\n",
       "      <td>-4250.000000</td>\n",
       "      <td>0.000000</td>\n",
       "      <td>0.000000</td>\n",
       "      <td>0.000000</td>\n",
       "      <td>0.000000</td>\n",
       "    </tr>\n",
       "    <tr>\n",
       "      <th>50%</th>\n",
       "      <td>17.347895</td>\n",
       "      <td>0.000000</td>\n",
       "      <td>0.0</td>\n",
       "      <td>0.000000</td>\n",
       "      <td>17.000000</td>\n",
       "      <td>0.000000</td>\n",
       "      <td>0.000000</td>\n",
       "      <td>0.000000</td>\n",
       "      <td>0.000000</td>\n",
       "      <td>0.000000</td>\n",
       "      <td>...</td>\n",
       "      <td>21.000000</td>\n",
       "      <td>0.000000</td>\n",
       "      <td>33.000000</td>\n",
       "      <td>0.000000</td>\n",
       "      <td>2001.000000</td>\n",
       "      <td>-2500.000000</td>\n",
       "      <td>0.000000</td>\n",
       "      <td>0.000000</td>\n",
       "      <td>0.000000</td>\n",
       "      <td>0.000000</td>\n",
       "    </tr>\n",
       "    <tr>\n",
       "      <th>75%</th>\n",
       "      <td>20.600625</td>\n",
       "      <td>0.000000</td>\n",
       "      <td>0.0</td>\n",
       "      <td>0.000000</td>\n",
       "      <td>20.000000</td>\n",
       "      <td>0.000000</td>\n",
       "      <td>0.000000</td>\n",
       "      <td>0.000000</td>\n",
       "      <td>0.000000</td>\n",
       "      <td>0.000000</td>\n",
       "      <td>...</td>\n",
       "      <td>25.139300</td>\n",
       "      <td>0.000000</td>\n",
       "      <td>38.109600</td>\n",
       "      <td>0.000000</td>\n",
       "      <td>2009.000000</td>\n",
       "      <td>-750.000000</td>\n",
       "      <td>0.000000</td>\n",
       "      <td>0.000000</td>\n",
       "      <td>0.000000</td>\n",
       "      <td>0.000000</td>\n",
       "    </tr>\n",
       "    <tr>\n",
       "      <th>max</th>\n",
       "      <td>47.087143</td>\n",
       "      <td>18.311667</td>\n",
       "      <td>0.0</td>\n",
       "      <td>12.000000</td>\n",
       "      <td>138.000000</td>\n",
       "      <td>138.304000</td>\n",
       "      <td>127.000000</td>\n",
       "      <td>127.093000</td>\n",
       "      <td>5.350000</td>\n",
       "      <td>122.000000</td>\n",
       "      <td>...</td>\n",
       "      <td>197.577100</td>\n",
       "      <td>181.560900</td>\n",
       "      <td>159.100000</td>\n",
       "      <td>152.187800</td>\n",
       "      <td>2017.000000</td>\n",
       "      <td>4000.000000</td>\n",
       "      <td>7.000000</td>\n",
       "      <td>97.000000</td>\n",
       "      <td>79.000000</td>\n",
       "      <td>88.000000</td>\n",
       "    </tr>\n",
       "  </tbody>\n",
       "</table>\n",
       "<p>8 rows × 59 columns</p>\n",
       "</div>"
      ],
      "text/plain": [
       "          barrels08    barrelsA08  charge120     charge240        city08  \\\n",
       "count  37843.000000  37843.000000    37843.0  37843.000000  37843.000000   \n",
       "mean      17.532506      0.216169        0.0      0.023531     17.941389   \n",
       "std        4.575950      1.141527        0.0      0.427647      6.660360   \n",
       "min        0.060000      0.000000        0.0      0.000000      6.000000   \n",
       "25%       14.330870      0.000000        0.0      0.000000     15.000000   \n",
       "50%       17.347895      0.000000        0.0      0.000000     17.000000   \n",
       "75%       20.600625      0.000000        0.0      0.000000     20.000000   \n",
       "max       47.087143     18.311667        0.0     12.000000    138.000000   \n",
       "\n",
       "            city08U       cityA08      cityA08U        cityCD         cityE  \\\n",
       "count  37843.000000  37843.000000  37843.000000  37843.000000  37843.000000   \n",
       "mean       4.042737      0.520149      0.327163      0.000406      0.184790   \n",
       "std        9.645820      3.837874      3.542596      0.039918      2.904558   \n",
       "min        0.000000      0.000000      0.000000      0.000000      0.000000   \n",
       "25%        0.000000      0.000000      0.000000      0.000000      0.000000   \n",
       "50%        0.000000      0.000000      0.000000      0.000000      0.000000   \n",
       "75%        0.000000      0.000000      0.000000      0.000000      0.000000   \n",
       "max      138.304000    127.000000    127.093000      5.350000    122.000000   \n",
       "\n",
       "       ...         UCity        UCityA      UHighway     UHighwayA  \\\n",
       "count  ...  37843.000000  37843.000000  37843.000000  37843.000000   \n",
       "mean   ...     22.587229      0.652380     33.619221      0.933845   \n",
       "std    ...      9.350163      5.284547     10.048326      6.059456   \n",
       "min    ...      0.000000      0.000000      0.000000      0.000000   \n",
       "25%    ...     18.000000      0.000000     27.100000      0.000000   \n",
       "50%    ...     21.000000      0.000000     33.000000      0.000000   \n",
       "75%    ...     25.139300      0.000000     38.109600      0.000000   \n",
       "max    ...    197.577100    181.560900    159.100000    152.187800   \n",
       "\n",
       "               year  youSaveSpend    charge240b      phevCity       phevHwy  \\\n",
       "count  37843.000000  37843.000000  37843.000000  37843.000000  37843.000000   \n",
       "mean    2000.064398  -2658.999022      0.004360      0.069313      0.068203   \n",
       "std       10.390588   2553.098329      0.142776      1.966806      1.871986   \n",
       "min     1984.000000 -22250.000000      0.000000      0.000000      0.000000   \n",
       "25%     1990.000000  -4250.000000      0.000000      0.000000      0.000000   \n",
       "50%     2001.000000  -2500.000000      0.000000      0.000000      0.000000   \n",
       "75%     2009.000000   -750.000000      0.000000      0.000000      0.000000   \n",
       "max     2017.000000   4000.000000      7.000000     97.000000     79.000000   \n",
       "\n",
       "           phevComb  \n",
       "count  37843.000000  \n",
       "mean       0.068573  \n",
       "std        1.913647  \n",
       "min        0.000000  \n",
       "25%        0.000000  \n",
       "50%        0.000000  \n",
       "75%        0.000000  \n",
       "max       88.000000  \n",
       "\n",
       "[8 rows x 59 columns]"
      ]
     },
     "execution_count": 162,
     "metadata": {},
     "output_type": "execute_result"
    }
   ],
   "source": [
    "df.describe()"
   ]
  },
  {
   "cell_type": "markdown",
   "metadata": {
    "hidden": true
   },
   "source": [
    "IQR stands for InterQuartile Range. \n",
    "\n",
    "1. Calculate 75%\n",
    "2. Calculate 25%\n",
    "3. Calculate difference #1 - #2 (IQR)\n",
    "4. Calculate the acceptable range IQR*1.7\n",
    "5. Calculate left whisker: #2 - #4\n",
    "6. Calculate right whisker: #1 + #4\n",
    "7. Everything that is outside the range (#5;#6) is outlier"
   ]
  },
  {
   "cell_type": "code",
   "execution_count": 173,
   "metadata": {
    "hidden": true
   },
   "outputs": [
    {
     "data": {
      "text/plain": [
       "<matplotlib.axes._subplots.AxesSubplot at 0x7ff1a3271510>"
      ]
     },
     "execution_count": 173,
     "metadata": {},
     "output_type": "execute_result"
    },
    {
     "data": {
      "image/png": "[encoded data removed]",
      "text/plain": [
       "<Figure size 432x288 with 1 Axes>"
      ]
     },
     "metadata": {},
     "output_type": "display_data"
    }
   ],
   "source": [
    "sns.boxplot(df.barrels08)"
   ]
  },
  {
   "cell_type": "code",
   "execution_count": 174,
   "metadata": {
    "hidden": true
   },
   "outputs": [],
   "source": [
    "summary=df.describe().T"
   ]
  },
  {
   "cell_type": "code",
   "execution_count": 183,
   "metadata": {
    "collapsed": true,
    "hidden": true
   },
   "outputs": [
    {
     "data": {
      "text/html": [
       "<div>\n",
       "<style scoped>\n",
       "    .dataframe tbody tr th:only-of-type {\n",
       "        vertical-align: middle;\n",
       "    }\n",
       "\n",
       "    .dataframe tbody tr th {\n",
       "        vertical-align: top;\n",
       "    }\n",
       "\n",
       "    .dataframe thead th {\n",
       "        text-align: right;\n",
       "    }\n",
       "</style>\n",
       "<table border=\"1\" class=\"dataframe\">\n",
       "  <thead>\n",
       "    <tr style=\"text-align: right;\">\n",
       "      <th></th>\n",
       "      <th>count</th>\n",
       "      <th>mean</th>\n",
       "      <th>std</th>\n",
       "      <th>min</th>\n",
       "      <th>25%</th>\n",
       "      <th>50%</th>\n",
       "      <th>75%</th>\n",
       "      <th>max</th>\n",
       "      <th>IQR</th>\n",
       "      <th>cutoff</th>\n",
       "      <th>left</th>\n",
       "      <th>right</th>\n",
       "    </tr>\n",
       "  </thead>\n",
       "  <tbody>\n",
       "    <tr>\n",
       "      <th>barrels08</th>\n",
       "      <td>37843.0</td>\n",
       "      <td>17.532506</td>\n",
       "      <td>4.575950</td>\n",
       "      <td>0.06</td>\n",
       "      <td>14.33087</td>\n",
       "      <td>17.347895</td>\n",
       "      <td>20.600625</td>\n",
       "      <td>47.087143</td>\n",
       "      <td>6.269755</td>\n",
       "      <td>10.658584</td>\n",
       "      <td>3.672285</td>\n",
       "      <td>31.259209</td>\n",
       "    </tr>\n",
       "    <tr>\n",
       "      <th>barrelsA08</th>\n",
       "      <td>37843.0</td>\n",
       "      <td>0.216169</td>\n",
       "      <td>1.141527</td>\n",
       "      <td>0.00</td>\n",
       "      <td>0.00000</td>\n",
       "      <td>0.000000</td>\n",
       "      <td>0.000000</td>\n",
       "      <td>18.311667</td>\n",
       "      <td>0.000000</td>\n",
       "      <td>0.000000</td>\n",
       "      <td>0.000000</td>\n",
       "      <td>0.000000</td>\n",
       "    </tr>\n",
       "    <tr>\n",
       "      <th>charge120</th>\n",
       "      <td>37843.0</td>\n",
       "      <td>0.000000</td>\n",
       "      <td>0.000000</td>\n",
       "      <td>0.00</td>\n",
       "      <td>0.00000</td>\n",
       "      <td>0.000000</td>\n",
       "      <td>0.000000</td>\n",
       "      <td>0.000000</td>\n",
       "      <td>0.000000</td>\n",
       "      <td>0.000000</td>\n",
       "      <td>0.000000</td>\n",
       "      <td>0.000000</td>\n",
       "    </tr>\n",
       "    <tr>\n",
       "      <th>charge240</th>\n",
       "      <td>37843.0</td>\n",
       "      <td>0.023531</td>\n",
       "      <td>0.427647</td>\n",
       "      <td>0.00</td>\n",
       "      <td>0.00000</td>\n",
       "      <td>0.000000</td>\n",
       "      <td>0.000000</td>\n",
       "      <td>12.000000</td>\n",
       "      <td>0.000000</td>\n",
       "      <td>0.000000</td>\n",
       "      <td>0.000000</td>\n",
       "      <td>0.000000</td>\n",
       "    </tr>\n",
       "    <tr>\n",
       "      <th>city08</th>\n",
       "      <td>37843.0</td>\n",
       "      <td>17.941389</td>\n",
       "      <td>6.660360</td>\n",
       "      <td>6.00</td>\n",
       "      <td>15.00000</td>\n",
       "      <td>17.000000</td>\n",
       "      <td>20.000000</td>\n",
       "      <td>138.000000</td>\n",
       "      <td>5.000000</td>\n",
       "      <td>8.500000</td>\n",
       "      <td>6.500000</td>\n",
       "      <td>28.500000</td>\n",
       "    </tr>\n",
       "    <tr>\n",
       "      <th>city08U</th>\n",
       "      <td>37843.0</td>\n",
       "      <td>4.042737</td>\n",
       "      <td>9.645820</td>\n",
       "      <td>0.00</td>\n",
       "      <td>0.00000</td>\n",
       "      <td>0.000000</td>\n",
       "      <td>0.000000</td>\n",
       "      <td>138.304000</td>\n",
       "      <td>0.000000</td>\n",
       "      <td>0.000000</td>\n",
       "      <td>0.000000</td>\n",
       "      <td>0.000000</td>\n",
       "    </tr>\n",
       "    <tr>\n",
       "      <th>cityA08</th>\n",
       "      <td>37843.0</td>\n",
       "      <td>0.520149</td>\n",
       "      <td>3.837874</td>\n",
       "      <td>0.00</td>\n",
       "      <td>0.00000</td>\n",
       "      <td>0.000000</td>\n",
       "      <td>0.000000</td>\n",
       "      <td>127.000000</td>\n",
       "      <td>0.000000</td>\n",
       "      <td>0.000000</td>\n",
       "      <td>0.000000</td>\n",
       "      <td>0.000000</td>\n",
       "    </tr>\n",
       "    <tr>\n",
       "      <th>cityA08U</th>\n",
       "      <td>37843.0</td>\n",
       "      <td>0.327163</td>\n",
       "      <td>3.542596</td>\n",
       "      <td>0.00</td>\n",
       "      <td>0.00000</td>\n",
       "      <td>0.000000</td>\n",
       "      <td>0.000000</td>\n",
       "      <td>127.093000</td>\n",
       "      <td>0.000000</td>\n",
       "      <td>0.000000</td>\n",
       "      <td>0.000000</td>\n",
       "      <td>0.000000</td>\n",
       "    </tr>\n",
       "    <tr>\n",
       "      <th>cityCD</th>\n",
       "      <td>37843.0</td>\n",
       "      <td>0.000406</td>\n",
       "      <td>0.039918</td>\n",
       "      <td>0.00</td>\n",
       "      <td>0.00000</td>\n",
       "      <td>0.000000</td>\n",
       "      <td>0.000000</td>\n",
       "      <td>5.350000</td>\n",
       "      <td>0.000000</td>\n",
       "      <td>0.000000</td>\n",
       "      <td>0.000000</td>\n",
       "      <td>0.000000</td>\n",
       "    </tr>\n",
       "    <tr>\n",
       "      <th>cityE</th>\n",
       "      <td>37843.0</td>\n",
       "      <td>0.184790</td>\n",
       "      <td>2.904558</td>\n",
       "      <td>0.00</td>\n",
       "      <td>0.00000</td>\n",
       "      <td>0.000000</td>\n",
       "      <td>0.000000</td>\n",
       "      <td>122.000000</td>\n",
       "      <td>0.000000</td>\n",
       "      <td>0.000000</td>\n",
       "      <td>0.000000</td>\n",
       "      <td>0.000000</td>\n",
       "    </tr>\n",
       "    <tr>\n",
       "      <th>cityUF</th>\n",
       "      <td>37843.0</td>\n",
       "      <td>0.000706</td>\n",
       "      <td>0.019458</td>\n",
       "      <td>0.00</td>\n",
       "      <td>0.00000</td>\n",
       "      <td>0.000000</td>\n",
       "      <td>0.000000</td>\n",
       "      <td>0.849000</td>\n",
       "      <td>0.000000</td>\n",
       "      <td>0.000000</td>\n",
       "      <td>0.000000</td>\n",
       "      <td>0.000000</td>\n",
       "    </tr>\n",
       "    <tr>\n",
       "      <th>co2</th>\n",
       "      <td>37843.0</td>\n",
       "      <td>61.503713</td>\n",
       "      <td>153.387715</td>\n",
       "      <td>-1.00</td>\n",
       "      <td>-1.00000</td>\n",
       "      <td>-1.000000</td>\n",
       "      <td>-1.000000</td>\n",
       "      <td>847.000000</td>\n",
       "      <td>0.000000</td>\n",
       "      <td>0.000000</td>\n",
       "      <td>-1.000000</td>\n",
       "      <td>-1.000000</td>\n",
       "    </tr>\n",
       "    <tr>\n",
       "      <th>co2A</th>\n",
       "      <td>37843.0</td>\n",
       "      <td>5.349919</td>\n",
       "      <td>55.539497</td>\n",
       "      <td>-1.00</td>\n",
       "      <td>-1.00000</td>\n",
       "      <td>-1.000000</td>\n",
       "      <td>-1.000000</td>\n",
       "      <td>719.000000</td>\n",
       "      <td>0.000000</td>\n",
       "      <td>0.000000</td>\n",
       "      <td>-1.000000</td>\n",
       "      <td>-1.000000</td>\n",
       "    </tr>\n",
       "    <tr>\n",
       "      <th>co2TailpipeAGpm</th>\n",
       "      <td>37843.0</td>\n",
       "      <td>17.771433</td>\n",
       "      <td>94.129283</td>\n",
       "      <td>0.00</td>\n",
       "      <td>0.00000</td>\n",
       "      <td>0.000000</td>\n",
       "      <td>0.000000</td>\n",
       "      <td>719.000000</td>\n",
       "      <td>0.000000</td>\n",
       "      <td>0.000000</td>\n",
       "      <td>0.000000</td>\n",
       "      <td>0.000000</td>\n",
       "    </tr>\n",
       "    <tr>\n",
       "      <th>co2TailpipeGpm</th>\n",
       "      <td>37843.0</td>\n",
       "      <td>473.179736</td>\n",
       "      <td>122.188847</td>\n",
       "      <td>0.00</td>\n",
       "      <td>388.00000</td>\n",
       "      <td>467.736842</td>\n",
       "      <td>555.437500</td>\n",
       "      <td>1269.571429</td>\n",
       "      <td>167.437500</td>\n",
       "      <td>284.643750</td>\n",
       "      <td>103.356250</td>\n",
       "      <td>840.081250</td>\n",
       "    </tr>\n",
       "    <tr>\n",
       "      <th>comb08</th>\n",
       "      <td>37843.0</td>\n",
       "      <td>20.195809</td>\n",
       "      <td>6.623444</td>\n",
       "      <td>7.00</td>\n",
       "      <td>17.00000</td>\n",
       "      <td>19.000000</td>\n",
       "      <td>23.000000</td>\n",
       "      <td>124.000000</td>\n",
       "      <td>6.000000</td>\n",
       "      <td>10.200000</td>\n",
       "      <td>6.800000</td>\n",
       "      <td>33.200000</td>\n",
       "    </tr>\n",
       "    <tr>\n",
       "      <th>comb08U</th>\n",
       "      <td>37843.0</td>\n",
       "      <td>4.549751</td>\n",
       "      <td>10.389994</td>\n",
       "      <td>0.00</td>\n",
       "      <td>0.00000</td>\n",
       "      <td>0.000000</td>\n",
       "      <td>0.000000</td>\n",
       "      <td>124.360100</td>\n",
       "      <td>0.000000</td>\n",
       "      <td>0.000000</td>\n",
       "      <td>0.000000</td>\n",
       "      <td>0.000000</td>\n",
       "    </tr>\n",
       "    <tr>\n",
       "      <th>combA08</th>\n",
       "      <td>37843.0</td>\n",
       "      <td>0.581191</td>\n",
       "      <td>3.966255</td>\n",
       "      <td>0.00</td>\n",
       "      <td>0.00000</td>\n",
       "      <td>0.000000</td>\n",
       "      <td>0.000000</td>\n",
       "      <td>117.000000</td>\n",
       "      <td>0.000000</td>\n",
       "      <td>0.000000</td>\n",
       "      <td>0.000000</td>\n",
       "      <td>0.000000</td>\n",
       "    </tr>\n",
       "    <tr>\n",
       "      <th>combA08U</th>\n",
       "      <td>37843.0</td>\n",
       "      <td>0.359027</td>\n",
       "      <td>3.589260</td>\n",
       "      <td>0.00</td>\n",
       "      <td>0.00000</td>\n",
       "      <td>0.000000</td>\n",
       "      <td>0.000000</td>\n",
       "      <td>116.936400</td>\n",
       "      <td>0.000000</td>\n",
       "      <td>0.000000</td>\n",
       "      <td>0.000000</td>\n",
       "      <td>0.000000</td>\n",
       "    </tr>\n",
       "    <tr>\n",
       "      <th>combE</th>\n",
       "      <td>37843.0</td>\n",
       "      <td>0.190575</td>\n",
       "      <td>2.979567</td>\n",
       "      <td>0.00</td>\n",
       "      <td>0.00000</td>\n",
       "      <td>0.000000</td>\n",
       "      <td>0.000000</td>\n",
       "      <td>121.000000</td>\n",
       "      <td>0.000000</td>\n",
       "      <td>0.000000</td>\n",
       "      <td>0.000000</td>\n",
       "      <td>0.000000</td>\n",
       "    </tr>\n",
       "    <tr>\n",
       "      <th>combinedCD</th>\n",
       "      <td>37843.0</td>\n",
       "      <td>0.000335</td>\n",
       "      <td>0.035284</td>\n",
       "      <td>0.00</td>\n",
       "      <td>0.00000</td>\n",
       "      <td>0.000000</td>\n",
       "      <td>0.000000</td>\n",
       "      <td>4.800000</td>\n",
       "      <td>0.000000</td>\n",
       "      <td>0.000000</td>\n",
       "      <td>0.000000</td>\n",
       "      <td>0.000000</td>\n",
       "    </tr>\n",
       "    <tr>\n",
       "      <th>combinedUF</th>\n",
       "      <td>37843.0</td>\n",
       "      <td>0.000691</td>\n",
       "      <td>0.019049</td>\n",
       "      <td>0.00</td>\n",
       "      <td>0.00000</td>\n",
       "      <td>0.000000</td>\n",
       "      <td>0.000000</td>\n",
       "      <td>0.834000</td>\n",
       "      <td>0.000000</td>\n",
       "      <td>0.000000</td>\n",
       "      <td>0.000000</td>\n",
       "      <td>0.000000</td>\n",
       "    </tr>\n",
       "    <tr>\n",
       "      <th>cylinders</th>\n",
       "      <td>37721.0</td>\n",
       "      <td>5.737944</td>\n",
       "      <td>1.751795</td>\n",
       "      <td>2.00</td>\n",
       "      <td>4.00000</td>\n",
       "      <td>6.000000</td>\n",
       "      <td>6.000000</td>\n",
       "      <td>16.000000</td>\n",
       "      <td>2.000000</td>\n",
       "      <td>3.400000</td>\n",
       "      <td>0.600000</td>\n",
       "      <td>9.400000</td>\n",
       "    </tr>\n",
       "    <tr>\n",
       "      <th>displ</th>\n",
       "      <td>37723.0</td>\n",
       "      <td>3.318180</td>\n",
       "      <td>1.361399</td>\n",
       "      <td>0.00</td>\n",
       "      <td>2.20000</td>\n",
       "      <td>3.000000</td>\n",
       "      <td>4.300000</td>\n",
       "      <td>8.400000</td>\n",
       "      <td>2.100000</td>\n",
       "      <td>3.570000</td>\n",
       "      <td>-1.370000</td>\n",
       "      <td>7.870000</td>\n",
       "    </tr>\n",
       "    <tr>\n",
       "      <th>engId</th>\n",
       "      <td>37843.0</td>\n",
       "      <td>8860.308961</td>\n",
       "      <td>17829.683477</td>\n",
       "      <td>0.00</td>\n",
       "      <td>0.00000</td>\n",
       "      <td>211.000000</td>\n",
       "      <td>4505.000000</td>\n",
       "      <td>69102.000000</td>\n",
       "      <td>4505.000000</td>\n",
       "      <td>7658.500000</td>\n",
       "      <td>-7658.500000</td>\n",
       "      <td>12163.500000</td>\n",
       "    </tr>\n",
       "    <tr>\n",
       "      <th>feScore</th>\n",
       "      <td>37843.0</td>\n",
       "      <td>-0.035145</td>\n",
       "      <td>2.379584</td>\n",
       "      <td>-1.00</td>\n",
       "      <td>-1.00000</td>\n",
       "      <td>-1.000000</td>\n",
       "      <td>-1.000000</td>\n",
       "      <td>10.000000</td>\n",
       "      <td>0.000000</td>\n",
       "      <td>0.000000</td>\n",
       "      <td>-1.000000</td>\n",
       "      <td>-1.000000</td>\n",
       "    </tr>\n",
       "    <tr>\n",
       "      <th>fuelCost08</th>\n",
       "      <td>37843.0</td>\n",
       "      <td>1882.060090</td>\n",
       "      <td>510.280408</td>\n",
       "      <td>550.00</td>\n",
       "      <td>1500.00000</td>\n",
       "      <td>1850.000000</td>\n",
       "      <td>2200.000000</td>\n",
       "      <td>5800.000000</td>\n",
       "      <td>700.000000</td>\n",
       "      <td>1190.000000</td>\n",
       "      <td>310.000000</td>\n",
       "      <td>3390.000000</td>\n",
       "    </tr>\n",
       "    <tr>\n",
       "      <th>fuelCostA08</th>\n",
       "      <td>37843.0</td>\n",
       "      <td>79.070105</td>\n",
       "      <td>417.668580</td>\n",
       "      <td>0.00</td>\n",
       "      <td>0.00000</td>\n",
       "      <td>0.000000</td>\n",
       "      <td>0.000000</td>\n",
       "      <td>3800.000000</td>\n",
       "      <td>0.000000</td>\n",
       "      <td>0.000000</td>\n",
       "      <td>0.000000</td>\n",
       "      <td>0.000000</td>\n",
       "    </tr>\n",
       "    <tr>\n",
       "      <th>ghgScore</th>\n",
       "      <td>37843.0</td>\n",
       "      <td>-0.037206</td>\n",
       "      <td>2.374338</td>\n",
       "      <td>-1.00</td>\n",
       "      <td>-1.00000</td>\n",
       "      <td>-1.000000</td>\n",
       "      <td>-1.000000</td>\n",
       "      <td>10.000000</td>\n",
       "      <td>0.000000</td>\n",
       "      <td>0.000000</td>\n",
       "      <td>-1.000000</td>\n",
       "      <td>-1.000000</td>\n",
       "    </tr>\n",
       "    <tr>\n",
       "      <th>ghgScoreA</th>\n",
       "      <td>37843.0</td>\n",
       "      <td>-0.929630</td>\n",
       "      <td>0.627565</td>\n",
       "      <td>-1.00</td>\n",
       "      <td>-1.00000</td>\n",
       "      <td>-1.000000</td>\n",
       "      <td>-1.000000</td>\n",
       "      <td>8.000000</td>\n",
       "      <td>0.000000</td>\n",
       "      <td>0.000000</td>\n",
       "      <td>-1.000000</td>\n",
       "      <td>-1.000000</td>\n",
       "    </tr>\n",
       "    <tr>\n",
       "      <th>highway08</th>\n",
       "      <td>37843.0</td>\n",
       "      <td>24.104881</td>\n",
       "      <td>6.963192</td>\n",
       "      <td>9.00</td>\n",
       "      <td>20.00000</td>\n",
       "      <td>24.000000</td>\n",
       "      <td>27.000000</td>\n",
       "      <td>111.000000</td>\n",
       "      <td>7.000000</td>\n",
       "      <td>11.900000</td>\n",
       "      <td>8.100000</td>\n",
       "      <td>38.900000</td>\n",
       "    </tr>\n",
       "    <tr>\n",
       "      <th>highway08U</th>\n",
       "      <td>37843.0</td>\n",
       "      <td>5.438467</td>\n",
       "      <td>11.936327</td>\n",
       "      <td>0.00</td>\n",
       "      <td>0.00000</td>\n",
       "      <td>0.000000</td>\n",
       "      <td>0.000000</td>\n",
       "      <td>111.370000</td>\n",
       "      <td>0.000000</td>\n",
       "      <td>0.000000</td>\n",
       "      <td>0.000000</td>\n",
       "      <td>0.000000</td>\n",
       "    </tr>\n",
       "    <tr>\n",
       "      <th>highwayA08</th>\n",
       "      <td>37843.0</td>\n",
       "      <td>0.686891</td>\n",
       "      <td>4.308934</td>\n",
       "      <td>0.00</td>\n",
       "      <td>0.00000</td>\n",
       "      <td>0.000000</td>\n",
       "      <td>0.000000</td>\n",
       "      <td>107.000000</td>\n",
       "      <td>0.000000</td>\n",
       "      <td>0.000000</td>\n",
       "      <td>0.000000</td>\n",
       "      <td>0.000000</td>\n",
       "    </tr>\n",
       "    <tr>\n",
       "      <th>highwayA08U</th>\n",
       "      <td>37843.0</td>\n",
       "      <td>0.418698</td>\n",
       "      <td>3.808877</td>\n",
       "      <td>0.00</td>\n",
       "      <td>0.00000</td>\n",
       "      <td>0.000000</td>\n",
       "      <td>0.000000</td>\n",
       "      <td>106.531000</td>\n",
       "      <td>0.000000</td>\n",
       "      <td>0.000000</td>\n",
       "      <td>0.000000</td>\n",
       "      <td>0.000000</td>\n",
       "    </tr>\n",
       "    <tr>\n",
       "      <th>highwayCD</th>\n",
       "      <td>37843.0</td>\n",
       "      <td>0.000233</td>\n",
       "      <td>0.029564</td>\n",
       "      <td>0.00</td>\n",
       "      <td>0.00000</td>\n",
       "      <td>0.000000</td>\n",
       "      <td>0.000000</td>\n",
       "      <td>4.060000</td>\n",
       "      <td>0.000000</td>\n",
       "      <td>0.000000</td>\n",
       "      <td>0.000000</td>\n",
       "      <td>0.000000</td>\n",
       "    </tr>\n",
       "    <tr>\n",
       "      <th>highwayE</th>\n",
       "      <td>37843.0</td>\n",
       "      <td>0.198247</td>\n",
       "      <td>3.091862</td>\n",
       "      <td>0.00</td>\n",
       "      <td>0.00000</td>\n",
       "      <td>0.000000</td>\n",
       "      <td>0.000000</td>\n",
       "      <td>120.000000</td>\n",
       "      <td>0.000000</td>\n",
       "      <td>0.000000</td>\n",
       "      <td>0.000000</td>\n",
       "      <td>0.000000</td>\n",
       "    </tr>\n",
       "    <tr>\n",
       "      <th>highwayUF</th>\n",
       "      <td>37843.0</td>\n",
       "      <td>0.000673</td>\n",
       "      <td>0.018583</td>\n",
       "      <td>0.00</td>\n",
       "      <td>0.00000</td>\n",
       "      <td>0.000000</td>\n",
       "      <td>0.000000</td>\n",
       "      <td>0.813000</td>\n",
       "      <td>0.000000</td>\n",
       "      <td>0.000000</td>\n",
       "      <td>0.000000</td>\n",
       "      <td>0.000000</td>\n",
       "    </tr>\n",
       "    <tr>\n",
       "      <th>hlv</th>\n",
       "      <td>37843.0</td>\n",
       "      <td>2.026214</td>\n",
       "      <td>5.947989</td>\n",
       "      <td>0.00</td>\n",
       "      <td>0.00000</td>\n",
       "      <td>0.000000</td>\n",
       "      <td>0.000000</td>\n",
       "      <td>49.000000</td>\n",
       "      <td>0.000000</td>\n",
       "      <td>0.000000</td>\n",
       "      <td>0.000000</td>\n",
       "      <td>0.000000</td>\n",
       "    </tr>\n",
       "    <tr>\n",
       "      <th>hpv</th>\n",
       "      <td>37843.0</td>\n",
       "      <td>10.424332</td>\n",
       "      <td>28.148770</td>\n",
       "      <td>0.00</td>\n",
       "      <td>0.00000</td>\n",
       "      <td>0.000000</td>\n",
       "      <td>0.000000</td>\n",
       "      <td>195.000000</td>\n",
       "      <td>0.000000</td>\n",
       "      <td>0.000000</td>\n",
       "      <td>0.000000</td>\n",
       "      <td>0.000000</td>\n",
       "    </tr>\n",
       "    <tr>\n",
       "      <th>id</th>\n",
       "      <td>37843.0</td>\n",
       "      <td>19019.286235</td>\n",
       "      <td>11034.784855</td>\n",
       "      <td>1.00</td>\n",
       "      <td>9461.50000</td>\n",
       "      <td>18923.000000</td>\n",
       "      <td>28570.500000</td>\n",
       "      <td>38173.000000</td>\n",
       "      <td>19109.000000</td>\n",
       "      <td>32485.300000</td>\n",
       "      <td>-23023.800000</td>\n",
       "      <td>61055.800000</td>\n",
       "    </tr>\n",
       "    <tr>\n",
       "      <th>lv2</th>\n",
       "      <td>37843.0</td>\n",
       "      <td>1.849219</td>\n",
       "      <td>4.429983</td>\n",
       "      <td>0.00</td>\n",
       "      <td>0.00000</td>\n",
       "      <td>0.000000</td>\n",
       "      <td>0.000000</td>\n",
       "      <td>41.000000</td>\n",
       "      <td>0.000000</td>\n",
       "      <td>0.000000</td>\n",
       "      <td>0.000000</td>\n",
       "      <td>0.000000</td>\n",
       "    </tr>\n",
       "    <tr>\n",
       "      <th>lv4</th>\n",
       "      <td>37843.0</td>\n",
       "      <td>6.165658</td>\n",
       "      <td>9.743297</td>\n",
       "      <td>0.00</td>\n",
       "      <td>0.00000</td>\n",
       "      <td>0.000000</td>\n",
       "      <td>13.000000</td>\n",
       "      <td>55.000000</td>\n",
       "      <td>13.000000</td>\n",
       "      <td>22.100000</td>\n",
       "      <td>-22.100000</td>\n",
       "      <td>35.100000</td>\n",
       "    </tr>\n",
       "    <tr>\n",
       "      <th>pv2</th>\n",
       "      <td>37843.0</td>\n",
       "      <td>13.696113</td>\n",
       "      <td>31.269930</td>\n",
       "      <td>0.00</td>\n",
       "      <td>0.00000</td>\n",
       "      <td>0.000000</td>\n",
       "      <td>0.000000</td>\n",
       "      <td>194.000000</td>\n",
       "      <td>0.000000</td>\n",
       "      <td>0.000000</td>\n",
       "      <td>0.000000</td>\n",
       "      <td>0.000000</td>\n",
       "    </tr>\n",
       "    <tr>\n",
       "      <th>pv4</th>\n",
       "      <td>37843.0</td>\n",
       "      <td>33.769125</td>\n",
       "      <td>45.914462</td>\n",
       "      <td>0.00</td>\n",
       "      <td>0.00000</td>\n",
       "      <td>0.000000</td>\n",
       "      <td>91.000000</td>\n",
       "      <td>192.000000</td>\n",
       "      <td>91.000000</td>\n",
       "      <td>154.700000</td>\n",
       "      <td>-154.700000</td>\n",
       "      <td>245.700000</td>\n",
       "    </tr>\n",
       "    <tr>\n",
       "      <th>range</th>\n",
       "      <td>37843.0</td>\n",
       "      <td>0.392675</td>\n",
       "      <td>8.251191</td>\n",
       "      <td>0.00</td>\n",
       "      <td>0.00000</td>\n",
       "      <td>0.000000</td>\n",
       "      <td>0.000000</td>\n",
       "      <td>315.000000</td>\n",
       "      <td>0.000000</td>\n",
       "      <td>0.000000</td>\n",
       "      <td>0.000000</td>\n",
       "      <td>0.000000</td>\n",
       "    </tr>\n",
       "    <tr>\n",
       "      <th>rangeCity</th>\n",
       "      <td>37843.0</td>\n",
       "      <td>0.352618</td>\n",
       "      <td>8.049082</td>\n",
       "      <td>0.00</td>\n",
       "      <td>0.00000</td>\n",
       "      <td>0.000000</td>\n",
       "      <td>0.000000</td>\n",
       "      <td>305.900000</td>\n",
       "      <td>0.000000</td>\n",
       "      <td>0.000000</td>\n",
       "      <td>0.000000</td>\n",
       "      <td>0.000000</td>\n",
       "    </tr>\n",
       "    <tr>\n",
       "      <th>rangeCityA</th>\n",
       "      <td>37843.0</td>\n",
       "      <td>0.036800</td>\n",
       "      <td>1.158270</td>\n",
       "      <td>0.00</td>\n",
       "      <td>0.00000</td>\n",
       "      <td>0.000000</td>\n",
       "      <td>0.000000</td>\n",
       "      <td>77.504000</td>\n",
       "      <td>0.000000</td>\n",
       "      <td>0.000000</td>\n",
       "      <td>0.000000</td>\n",
       "      <td>0.000000</td>\n",
       "    </tr>\n",
       "    <tr>\n",
       "      <th>rangeHwy</th>\n",
       "      <td>37843.0</td>\n",
       "      <td>0.343399</td>\n",
       "      <td>8.171939</td>\n",
       "      <td>0.00</td>\n",
       "      <td>0.00000</td>\n",
       "      <td>0.000000</td>\n",
       "      <td>0.000000</td>\n",
       "      <td>346.900000</td>\n",
       "      <td>0.000000</td>\n",
       "      <td>0.000000</td>\n",
       "      <td>0.000000</td>\n",
       "      <td>0.000000</td>\n",
       "    </tr>\n",
       "    <tr>\n",
       "      <th>rangeHwyA</th>\n",
       "      <td>37843.0</td>\n",
       "      <td>0.033475</td>\n",
       "      <td>1.032642</td>\n",
       "      <td>0.00</td>\n",
       "      <td>0.00000</td>\n",
       "      <td>0.000000</td>\n",
       "      <td>0.000000</td>\n",
       "      <td>65.632000</td>\n",
       "      <td>0.000000</td>\n",
       "      <td>0.000000</td>\n",
       "      <td>0.000000</td>\n",
       "      <td>0.000000</td>\n",
       "    </tr>\n",
       "    <tr>\n",
       "      <th>UCity</th>\n",
       "      <td>37843.0</td>\n",
       "      <td>22.587229</td>\n",
       "      <td>9.350163</td>\n",
       "      <td>0.00</td>\n",
       "      <td>18.00000</td>\n",
       "      <td>21.000000</td>\n",
       "      <td>25.139300</td>\n",
       "      <td>197.577100</td>\n",
       "      <td>7.139300</td>\n",
       "      <td>12.136810</td>\n",
       "      <td>5.863190</td>\n",
       "      <td>37.276110</td>\n",
       "    </tr>\n",
       "    <tr>\n",
       "      <th>UCityA</th>\n",
       "      <td>37843.0</td>\n",
       "      <td>0.652380</td>\n",
       "      <td>5.284547</td>\n",
       "      <td>0.00</td>\n",
       "      <td>0.00000</td>\n",
       "      <td>0.000000</td>\n",
       "      <td>0.000000</td>\n",
       "      <td>181.560900</td>\n",
       "      <td>0.000000</td>\n",
       "      <td>0.000000</td>\n",
       "      <td>0.000000</td>\n",
       "      <td>0.000000</td>\n",
       "    </tr>\n",
       "    <tr>\n",
       "      <th>UHighway</th>\n",
       "      <td>37843.0</td>\n",
       "      <td>33.619221</td>\n",
       "      <td>10.048326</td>\n",
       "      <td>0.00</td>\n",
       "      <td>27.10000</td>\n",
       "      <td>33.000000</td>\n",
       "      <td>38.109600</td>\n",
       "      <td>159.100000</td>\n",
       "      <td>11.009600</td>\n",
       "      <td>18.716320</td>\n",
       "      <td>8.383680</td>\n",
       "      <td>56.825920</td>\n",
       "    </tr>\n",
       "    <tr>\n",
       "      <th>UHighwayA</th>\n",
       "      <td>37843.0</td>\n",
       "      <td>0.933845</td>\n",
       "      <td>6.059456</td>\n",
       "      <td>0.00</td>\n",
       "      <td>0.00000</td>\n",
       "      <td>0.000000</td>\n",
       "      <td>0.000000</td>\n",
       "      <td>152.187800</td>\n",
       "      <td>0.000000</td>\n",
       "      <td>0.000000</td>\n",
       "      <td>0.000000</td>\n",
       "      <td>0.000000</td>\n",
       "    </tr>\n",
       "    <tr>\n",
       "      <th>year</th>\n",
       "      <td>37843.0</td>\n",
       "      <td>2000.064398</td>\n",
       "      <td>10.390588</td>\n",
       "      <td>1984.00</td>\n",
       "      <td>1990.00000</td>\n",
       "      <td>2001.000000</td>\n",
       "      <td>2009.000000</td>\n",
       "      <td>2017.000000</td>\n",
       "      <td>19.000000</td>\n",
       "      <td>32.300000</td>\n",
       "      <td>1957.700000</td>\n",
       "      <td>2041.300000</td>\n",
       "    </tr>\n",
       "    <tr>\n",
       "      <th>youSaveSpend</th>\n",
       "      <td>37843.0</td>\n",
       "      <td>-2658.999022</td>\n",
       "      <td>2553.098329</td>\n",
       "      <td>-22250.00</td>\n",
       "      <td>-4250.00000</td>\n",
       "      <td>-2500.000000</td>\n",
       "      <td>-750.000000</td>\n",
       "      <td>4000.000000</td>\n",
       "      <td>3500.000000</td>\n",
       "      <td>5950.000000</td>\n",
       "      <td>-10200.000000</td>\n",
       "      <td>5200.000000</td>\n",
       "    </tr>\n",
       "    <tr>\n",
       "      <th>charge240b</th>\n",
       "      <td>37843.0</td>\n",
       "      <td>0.004360</td>\n",
       "      <td>0.142776</td>\n",
       "      <td>0.00</td>\n",
       "      <td>0.00000</td>\n",
       "      <td>0.000000</td>\n",
       "      <td>0.000000</td>\n",
       "      <td>7.000000</td>\n",
       "      <td>0.000000</td>\n",
       "      <td>0.000000</td>\n",
       "      <td>0.000000</td>\n",
       "      <td>0.000000</td>\n",
       "    </tr>\n",
       "    <tr>\n",
       "      <th>phevCity</th>\n",
       "      <td>37843.0</td>\n",
       "      <td>0.069313</td>\n",
       "      <td>1.966806</td>\n",
       "      <td>0.00</td>\n",
       "      <td>0.00000</td>\n",
       "      <td>0.000000</td>\n",
       "      <td>0.000000</td>\n",
       "      <td>97.000000</td>\n",
       "      <td>0.000000</td>\n",
       "      <td>0.000000</td>\n",
       "      <td>0.000000</td>\n",
       "      <td>0.000000</td>\n",
       "    </tr>\n",
       "    <tr>\n",
       "      <th>phevHwy</th>\n",
       "      <td>37843.0</td>\n",
       "      <td>0.068203</td>\n",
       "      <td>1.871986</td>\n",
       "      <td>0.00</td>\n",
       "      <td>0.00000</td>\n",
       "      <td>0.000000</td>\n",
       "      <td>0.000000</td>\n",
       "      <td>79.000000</td>\n",
       "      <td>0.000000</td>\n",
       "      <td>0.000000</td>\n",
       "      <td>0.000000</td>\n",
       "      <td>0.000000</td>\n",
       "    </tr>\n",
       "    <tr>\n",
       "      <th>phevComb</th>\n",
       "      <td>37843.0</td>\n",
       "      <td>0.068573</td>\n",
       "      <td>1.913647</td>\n",
       "      <td>0.00</td>\n",
       "      <td>0.00000</td>\n",
       "      <td>0.000000</td>\n",
       "      <td>0.000000</td>\n",
       "      <td>88.000000</td>\n",
       "      <td>0.000000</td>\n",
       "      <td>0.000000</td>\n",
       "      <td>0.000000</td>\n",
       "      <td>0.000000</td>\n",
       "    </tr>\n",
       "  </tbody>\n",
       "</table>\n",
       "</div>"
      ],
      "text/plain": [
       "                   count          mean           std       min         25%  \\\n",
       "barrels08        37843.0     17.532506      4.575950      0.06    14.33087   \n",
       "barrelsA08       37843.0      0.216169      1.141527      0.00     0.00000   \n",
       "charge120        37843.0      0.000000      0.000000      0.00     0.00000   \n",
       "charge240        37843.0      0.023531      0.427647      0.00     0.00000   \n",
       "city08           37843.0     17.941389      6.660360      6.00    15.00000   \n",
       "city08U          37843.0      4.042737      9.645820      0.00     0.00000   \n",
       "cityA08          37843.0      0.520149      3.837874      0.00     0.00000   \n",
       "cityA08U         37843.0      0.327163      3.542596      0.00     0.00000   \n",
       "cityCD           37843.0      0.000406      0.039918      0.00     0.00000   \n",
       "cityE            37843.0      0.184790      2.904558      0.00     0.00000   \n",
       "cityUF           37843.0      0.000706      0.019458      0.00     0.00000   \n",
       "co2              37843.0     61.503713    153.387715     -1.00    -1.00000   \n",
       "co2A             37843.0      5.349919     55.539497     -1.00    -1.00000   \n",
       "co2TailpipeAGpm  37843.0     17.771433     94.129283      0.00     0.00000   \n",
       "co2TailpipeGpm   37843.0    473.179736    122.188847      0.00   388.00000   \n",
       "comb08           37843.0     20.195809      6.623444      7.00    17.00000   \n",
       "comb08U          37843.0      4.549751     10.389994      0.00     0.00000   \n",
       "combA08          37843.0      0.581191      3.966255      0.00     0.00000   \n",
       "combA08U         37843.0      0.359027      3.589260      0.00     0.00000   \n",
       "combE            37843.0      0.190575      2.979567      0.00     0.00000   \n",
       "combinedCD       37843.0      0.000335      0.035284      0.00     0.00000   \n",
       "combinedUF       37843.0      0.000691      0.019049      0.00     0.00000   \n",
       "cylinders        37721.0      5.737944      1.751795      2.00     4.00000   \n",
       "displ            37723.0      3.318180      1.361399      0.00     2.20000   \n",
       "engId            37843.0   8860.308961  17829.683477      0.00     0.00000   \n",
       "feScore          37843.0     -0.035145      2.379584     -1.00    -1.00000   \n",
       "fuelCost08       37843.0   1882.060090    510.280408    550.00  1500.00000   \n",
       "fuelCostA08      37843.0     79.070105    417.668580      0.00     0.00000   \n",
       "ghgScore         37843.0     -0.037206      2.374338     -1.00    -1.00000   \n",
       "ghgScoreA        37843.0     -0.929630      0.627565     -1.00    -1.00000   \n",
       "highway08        37843.0     24.104881      6.963192      9.00    20.00000   \n",
       "highway08U       37843.0      5.438467     11.936327      0.00     0.00000   \n",
       "highwayA08       37843.0      0.686891      4.308934      0.00     0.00000   \n",
       "highwayA08U      37843.0      0.418698      3.808877      0.00     0.00000   \n",
       "highwayCD        37843.0      0.000233      0.029564      0.00     0.00000   \n",
       "highwayE         37843.0      0.198247      3.091862      0.00     0.00000   \n",
       "highwayUF        37843.0      0.000673      0.018583      0.00     0.00000   \n",
       "hlv              37843.0      2.026214      5.947989      0.00     0.00000   \n",
       "hpv              37843.0     10.424332     28.148770      0.00     0.00000   \n",
       "id               37843.0  19019.286235  11034.784855      1.00  9461.50000   \n",
       "lv2              37843.0      1.849219      4.429983      0.00     0.00000   \n",
       "lv4              37843.0      6.165658      9.743297      0.00     0.00000   \n",
       "pv2              37843.0     13.696113     31.269930      0.00     0.00000   \n",
       "pv4              37843.0     33.769125     45.914462      0.00     0.00000   \n",
       "range            37843.0      0.392675      8.251191      0.00     0.00000   \n",
       "rangeCity        37843.0      0.352618      8.049082      0.00     0.00000   \n",
       "rangeCityA       37843.0      0.036800      1.158270      0.00     0.00000   \n",
       "rangeHwy         37843.0      0.343399      8.171939      0.00     0.00000   \n",
       "rangeHwyA        37843.0      0.033475      1.032642      0.00     0.00000   \n",
       "UCity            37843.0     22.587229      9.350163      0.00    18.00000   \n",
       "UCityA           37843.0      0.652380      5.284547      0.00     0.00000   \n",
       "UHighway         37843.0     33.619221     10.048326      0.00    27.10000   \n",
       "UHighwayA        37843.0      0.933845      6.059456      0.00     0.00000   \n",
       "year             37843.0   2000.064398     10.390588   1984.00  1990.00000   \n",
       "youSaveSpend     37843.0  -2658.999022   2553.098329 -22250.00 -4250.00000   \n",
       "charge240b       37843.0      0.004360      0.142776      0.00     0.00000   \n",
       "phevCity         37843.0      0.069313      1.966806      0.00     0.00000   \n",
       "phevHwy          37843.0      0.068203      1.871986      0.00     0.00000   \n",
       "phevComb         37843.0      0.068573      1.913647      0.00     0.00000   \n",
       "\n",
       "                          50%           75%           max           IQR  \\\n",
       "barrels08           17.347895     20.600625     47.087143      6.269755   \n",
       "barrelsA08           0.000000      0.000000     18.311667      0.000000   \n",
       "charge120            0.000000      0.000000      0.000000      0.000000   \n",
       "charge240            0.000000      0.000000     12.000000      0.000000   \n",
       "city08              17.000000     20.000000    138.000000      5.000000   \n",
       "city08U              0.000000      0.000000    138.304000      0.000000   \n",
       "cityA08              0.000000      0.000000    127.000000      0.000000   \n",
       "cityA08U             0.000000      0.000000    127.093000      0.000000   \n",
       "cityCD               0.000000      0.000000      5.350000      0.000000   \n",
       "cityE                0.000000      0.000000    122.000000      0.000000   \n",
       "cityUF               0.000000      0.000000      0.849000      0.000000   \n",
       "co2                 -1.000000     -1.000000    847.000000      0.000000   \n",
       "co2A                -1.000000     -1.000000    719.000000      0.000000   \n",
       "co2TailpipeAGpm      0.000000      0.000000    719.000000      0.000000   \n",
       "co2TailpipeGpm     467.736842    555.437500   1269.571429    167.437500   \n",
       "comb08              19.000000     23.000000    124.000000      6.000000   \n",
       "comb08U              0.000000      0.000000    124.360100      0.000000   \n",
       "combA08              0.000000      0.000000    117.000000      0.000000   \n",
       "combA08U             0.000000      0.000000    116.936400      0.000000   \n",
       "combE                0.000000      0.000000    121.000000      0.000000   \n",
       "combinedCD           0.000000      0.000000      4.800000      0.000000   \n",
       "combinedUF           0.000000      0.000000      0.834000      0.000000   \n",
       "cylinders            6.000000      6.000000     16.000000      2.000000   \n",
       "displ                3.000000      4.300000      8.400000      2.100000   \n",
       "engId              211.000000   4505.000000  69102.000000   4505.000000   \n",
       "feScore             -1.000000     -1.000000     10.000000      0.000000   \n",
       "fuelCost08        1850.000000   2200.000000   5800.000000    700.000000   \n",
       "fuelCostA08          0.000000      0.000000   3800.000000      0.000000   \n",
       "ghgScore            -1.000000     -1.000000     10.000000      0.000000   \n",
       "ghgScoreA           -1.000000     -1.000000      8.000000      0.000000   \n",
       "highway08           24.000000     27.000000    111.000000      7.000000   \n",
       "highway08U           0.000000      0.000000    111.370000      0.000000   \n",
       "highwayA08           0.000000      0.000000    107.000000      0.000000   \n",
       "highwayA08U          0.000000      0.000000    106.531000      0.000000   \n",
       "highwayCD            0.000000      0.000000      4.060000      0.000000   \n",
       "highwayE             0.000000      0.000000    120.000000      0.000000   \n",
       "highwayUF            0.000000      0.000000      0.813000      0.000000   \n",
       "hlv                  0.000000      0.000000     49.000000      0.000000   \n",
       "hpv                  0.000000      0.000000    195.000000      0.000000   \n",
       "id               18923.000000  28570.500000  38173.000000  19109.000000   \n",
       "lv2                  0.000000      0.000000     41.000000      0.000000   \n",
       "lv4                  0.000000     13.000000     55.000000     13.000000   \n",
       "pv2                  0.000000      0.000000    194.000000      0.000000   \n",
       "pv4                  0.000000     91.000000    192.000000     91.000000   \n",
       "range                0.000000      0.000000    315.000000      0.000000   \n",
       "rangeCity            0.000000      0.000000    305.900000      0.000000   \n",
       "rangeCityA           0.000000      0.000000     77.504000      0.000000   \n",
       "rangeHwy             0.000000      0.000000    346.900000      0.000000   \n",
       "rangeHwyA            0.000000      0.000000     65.632000      0.000000   \n",
       "UCity               21.000000     25.139300    197.577100      7.139300   \n",
       "UCityA               0.000000      0.000000    181.560900      0.000000   \n",
       "UHighway            33.000000     38.109600    159.100000     11.009600   \n",
       "UHighwayA            0.000000      0.000000    152.187800      0.000000   \n",
       "year              2001.000000   2009.000000   2017.000000     19.000000   \n",
       "youSaveSpend     -2500.000000   -750.000000   4000.000000   3500.000000   \n",
       "charge240b           0.000000      0.000000      7.000000      0.000000   \n",
       "phevCity             0.000000      0.000000     97.000000      0.000000   \n",
       "phevHwy              0.000000      0.000000     79.000000      0.000000   \n",
       "phevComb             0.000000      0.000000     88.000000      0.000000   \n",
       "\n",
       "                       cutoff          left         right  \n",
       "barrels08           10.658584      3.672285     31.259209  \n",
       "barrelsA08           0.000000      0.000000      0.000000  \n",
       "charge120            0.000000      0.000000      0.000000  \n",
       "charge240            0.000000      0.000000      0.000000  \n",
       "city08               8.500000      6.500000     28.500000  \n",
       "city08U              0.000000      0.000000      0.000000  \n",
       "cityA08              0.000000      0.000000      0.000000  \n",
       "cityA08U             0.000000      0.000000      0.000000  \n",
       "cityCD               0.000000      0.000000      0.000000  \n",
       "cityE                0.000000      0.000000      0.000000  \n",
       "cityUF               0.000000      0.000000      0.000000  \n",
       "co2                  0.000000     -1.000000     -1.000000  \n",
       "co2A                 0.000000     -1.000000     -1.000000  \n",
       "co2TailpipeAGpm      0.000000      0.000000      0.000000  \n",
       "co2TailpipeGpm     284.643750    103.356250    840.081250  \n",
       "comb08              10.200000      6.800000     33.200000  \n",
       "comb08U              0.000000      0.000000      0.000000  \n",
       "combA08              0.000000      0.000000      0.000000  \n",
       "combA08U             0.000000      0.000000      0.000000  \n",
       "combE                0.000000      0.000000      0.000000  \n",
       "combinedCD           0.000000      0.000000      0.000000  \n",
       "combinedUF           0.000000      0.000000      0.000000  \n",
       "cylinders            3.400000      0.600000      9.400000  \n",
       "displ                3.570000     -1.370000      7.870000  \n",
       "engId             7658.500000  -7658.500000  12163.500000  \n",
       "feScore              0.000000     -1.000000     -1.000000  \n",
       "fuelCost08        1190.000000    310.000000   3390.000000  \n",
       "fuelCostA08          0.000000      0.000000      0.000000  \n",
       "ghgScore             0.000000     -1.000000     -1.000000  \n",
       "ghgScoreA            0.000000     -1.000000     -1.000000  \n",
       "highway08           11.900000      8.100000     38.900000  \n",
       "highway08U           0.000000      0.000000      0.000000  \n",
       "highwayA08           0.000000      0.000000      0.000000  \n",
       "highwayA08U          0.000000      0.000000      0.000000  \n",
       "highwayCD            0.000000      0.000000      0.000000  \n",
       "highwayE             0.000000      0.000000      0.000000  \n",
       "highwayUF            0.000000      0.000000      0.000000  \n",
       "hlv                  0.000000      0.000000      0.000000  \n",
       "hpv                  0.000000      0.000000      0.000000  \n",
       "id               32485.300000 -23023.800000  61055.800000  \n",
       "lv2                  0.000000      0.000000      0.000000  \n",
       "lv4                 22.100000    -22.100000     35.100000  \n",
       "pv2                  0.000000      0.000000      0.000000  \n",
       "pv4                154.700000   -154.700000    245.700000  \n",
       "range                0.000000      0.000000      0.000000  \n",
       "rangeCity            0.000000      0.000000      0.000000  \n",
       "rangeCityA           0.000000      0.000000      0.000000  \n",
       "rangeHwy             0.000000      0.000000      0.000000  \n",
       "rangeHwyA            0.000000      0.000000      0.000000  \n",
       "UCity               12.136810      5.863190     37.276110  \n",
       "UCityA               0.000000      0.000000      0.000000  \n",
       "UHighway            18.716320      8.383680     56.825920  \n",
       "UHighwayA            0.000000      0.000000      0.000000  \n",
       "year                32.300000   1957.700000   2041.300000  \n",
       "youSaveSpend      5950.000000 -10200.000000   5200.000000  \n",
       "charge240b           0.000000      0.000000      0.000000  \n",
       "phevCity             0.000000      0.000000      0.000000  \n",
       "phevHwy              0.000000      0.000000      0.000000  \n",
       "phevComb             0.000000      0.000000      0.000000  "
      ]
     },
     "execution_count": 183,
     "metadata": {},
     "output_type": "execute_result"
    }
   ],
   "source": [
    "summary['IQR']=summary['75%']-summary['25%']\n",
    "summary['cutoff']=summary.IQR*1.7\n",
    "summary['left']=summary['25%']-summary['cutoff']\n",
    "summary['right']=summary['75%']+summary['cutoff']\n",
    "summary"
   ]
  },
  {
   "cell_type": "code",
   "execution_count": 181,
   "metadata": {
    "hidden": true
   },
   "outputs": [],
   "source": [
    "outliers=pd.DataFrame(columns=df.columns)"
   ]
  },
  {
   "cell_type": "code",
   "execution_count": 182,
   "metadata": {
    "hidden": true
   },
   "outputs": [
    {
     "data": {
      "text/html": [
       "<div>\n",
       "<style scoped>\n",
       "    .dataframe tbody tr th:only-of-type {\n",
       "        vertical-align: middle;\n",
       "    }\n",
       "\n",
       "    .dataframe tbody tr th {\n",
       "        vertical-align: top;\n",
       "    }\n",
       "\n",
       "    .dataframe thead th {\n",
       "        text-align: right;\n",
       "    }\n",
       "</style>\n",
       "<table border=\"1\" class=\"dataframe\">\n",
       "  <thead>\n",
       "    <tr style=\"text-align: right;\">\n",
       "      <th></th>\n",
       "      <th>barrels08</th>\n",
       "      <th>barrelsA08</th>\n",
       "      <th>charge120</th>\n",
       "      <th>charge240</th>\n",
       "      <th>city08</th>\n",
       "      <th>city08U</th>\n",
       "      <th>cityA08</th>\n",
       "      <th>cityA08U</th>\n",
       "      <th>cityCD</th>\n",
       "      <th>cityE</th>\n",
       "      <th>...</th>\n",
       "      <th>mfrCode</th>\n",
       "      <th>c240Dscr</th>\n",
       "      <th>charge240b</th>\n",
       "      <th>c240bDscr</th>\n",
       "      <th>createdOn</th>\n",
       "      <th>modifiedOn</th>\n",
       "      <th>startStop</th>\n",
       "      <th>phevCity</th>\n",
       "      <th>phevHwy</th>\n",
       "      <th>phevComb</th>\n",
       "    </tr>\n",
       "  </thead>\n",
       "  <tbody>\n",
       "  </tbody>\n",
       "</table>\n",
       "<p>0 rows × 83 columns</p>\n",
       "</div>"
      ],
      "text/plain": [
       "Empty DataFrame\n",
       "Columns: [barrels08, barrelsA08, charge120, charge240, city08, city08U, cityA08, cityA08U, cityCD, cityE, cityUF, co2, co2A, co2TailpipeAGpm, co2TailpipeGpm, comb08, comb08U, combA08, combA08U, combE, combinedCD, combinedUF, cylinders, displ, drive, engId, eng_dscr, feScore, fuelCost08, fuelCostA08, fuelType, fuelType1, ghgScore, ghgScoreA, highway08, highway08U, highwayA08, highwayA08U, highwayCD, highwayE, highwayUF, hlv, hpv, id, lv2, lv4, make, model, mpgData, phevBlended, pv2, pv4, range, rangeCity, rangeCityA, rangeHwy, rangeHwyA, trany, UCity, UCityA, UHighway, UHighwayA, VClass, year, youSaveSpend, guzzler, trans_dscr, tCharger, sCharger, atvType, fuelType2, rangeA, evMotor, mfrCode, c240Dscr, charge240b, c240bDscr, createdOn, modifiedOn, startStop, phevCity, phevHwy, phevComb]\n",
       "Index: []\n",
       "\n",
       "[0 rows x 83 columns]"
      ]
     },
     "execution_count": 182,
     "metadata": {},
     "output_type": "execute_result"
    }
   ],
   "source": [
    "outliers"
   ]
  },
  {
   "cell_type": "code",
   "execution_count": 184,
   "metadata": {
    "hidden": true
   },
   "outputs": [],
   "source": [
    "#loop over all the columns to detect outliers in each\n",
    "for col in summary.index:\n",
    "    lower=summary.at[col,'left']\n",
    "    upper=summary.at[col,'right']\n",
    "    \n",
    "    result=df.loc[(df[col]<lower) |\n",
    "                  (df[col]>upper)].copy()\n",
    "    result['Outlier']=col\n",
    "    \n",
    "    outliers=outliers.append(result)"
   ]
  },
  {
   "cell_type": "code",
   "execution_count": 185,
   "metadata": {
    "hidden": true
   },
   "outputs": [
    {
     "data": {
      "text/plain": [
       "(91336, 84)"
      ]
     },
     "execution_count": 185,
     "metadata": {},
     "output_type": "execute_result"
    }
   ],
   "source": [
    "outliers.shape"
   ]
  },
  {
   "cell_type": "code",
   "execution_count": 186,
   "metadata": {
    "hidden": true
   },
   "outputs": [
    {
     "data": {
      "text/plain": [
       "(37843, 83)"
      ]
     },
     "execution_count": 186,
     "metadata": {},
     "output_type": "execute_result"
    }
   ],
   "source": [
    "df.shape"
   ]
  },
  {
   "cell_type": "markdown",
   "metadata": {
    "heading_collapsed": true,
    "hidden": true
   },
   "source": [
    "### Z-Score"
   ]
  },
  {
   "cell_type": "markdown",
   "metadata": {
    "hidden": true
   },
   "source": [
    "1. Calculate the mean\n",
    "2. Calculate the std\n",
    "3. Calculate lower bound - mean - 3std\n",
    "3. Calculate upper bound - mean + 3std"
   ]
  },
  {
   "cell_type": "code",
   "execution_count": null,
   "metadata": {
    "hidden": true
   },
   "outputs": [],
   "source": [
    "summary['left']=summary['mean']-3*summary['std']\n",
    "summary['right']=summary['mean']+3*summary['std']\n",
    "summary"
   ]
  },
  {
   "cell_type": "code",
   "execution_count": null,
   "metadata": {
    "hidden": true
   },
   "outputs": [],
   "source": [
    "#loop over all the columns to detect outliers in each\n",
    "for col in summary.index:\n",
    "    lower=summary.at[col,'left']\n",
    "    upper=summary.at[col,'right']\n",
    "    \n",
    "    result=df.loc[(df[col]<lower) |\n",
    "                  (df[col]>upper)].copy()\n",
    "    result['Outlier']=col\n",
    "    \n",
    "    outliers=outliers.append(result)"
   ]
  },
  {
   "cell_type": "markdown",
   "metadata": {},
   "source": [
    "## Fix - Winsorize"
   ]
  },
  {
   "cell_type": "code",
   "execution_count": 191,
   "metadata": {},
   "outputs": [
    {
     "data": {
      "text/plain": [
       "<matplotlib.axes._subplots.AxesSubplot at 0x7ff1a31f87d0>"
      ]
     },
     "execution_count": 191,
     "metadata": {},
     "output_type": "execute_result"
    },
    {
     "data": {
      "image/png": "[encoded data removed]",
      "text/plain": [
       "<Figure size 432x288 with 1 Axes>"
      ]
     },
     "metadata": {},
     "output_type": "display_data"
    }
   ],
   "source": [
    "df1=df.copy()\n",
    "\n",
    "df1.cylinders.plot.box()"
   ]
  },
  {
   "cell_type": "code",
   "execution_count": 192,
   "metadata": {},
   "outputs": [
    {
     "data": {
      "text/plain": [
       "<matplotlib.axes._subplots.AxesSubplot at 0x7ff1a6d98a50>"
      ]
     },
     "execution_count": 192,
     "metadata": {},
     "output_type": "execute_result"
    },
    {
     "data": {
      "image/png": "[encoded data removed]",
      "text/plain": [
       "<Figure size 432x288 with 1 Axes>"
      ]
     },
     "metadata": {},
     "output_type": "display_data"
    }
   ],
   "source": [
    "df1.cylinders.hist()"
   ]
  },
  {
   "cell_type": "code",
   "execution_count": 193,
   "metadata": {},
   "outputs": [],
   "source": [
    "from scipy.stats.mstats import winsorize"
   ]
  },
  {
   "cell_type": "code",
   "execution_count": null,
   "metadata": {},
   "outputs": [],
   "source": [
    "winsorize(df1.cylinders, limits=[0.05,0.05])"
   ]
  }
 ],
 "metadata": {
  "kernelspec": {
   "display_name": "Python 3",
   "language": "python",
   "name": "python3"
  },
  "language_info": {
   "codemirror_mode": {
    "name": "ipython",
    "version": 3
   },
   "file_extension": ".py",
   "mimetype": "text/x-python",
   "name": "python",
   "nbconvert_exporter": "python",
   "pygments_lexer": "ipython3",
   "version": "3.7.6"
  },
  "toc": {
   "base_numbering": 1,
   "nav_menu": {},
   "number_sections": true,
   "sideBar": true,
   "skip_h1_title": false,
   "title_cell": "Table of Contents",
   "title_sidebar": "Contents",
   "toc_cell": true,
   "toc_position": {},
   "toc_section_display": true,
   "toc_window_display": false
  }
 },
 "nbformat": 4,
 "nbformat_minor": 4
}
