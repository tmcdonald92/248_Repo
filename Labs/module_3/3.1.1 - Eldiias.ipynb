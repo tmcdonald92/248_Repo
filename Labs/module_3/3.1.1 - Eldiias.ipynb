{
 "cells": [
  {
   "cell_type": "markdown",
   "metadata": {
    "id": "hH-7vQ9C3F9N",
    "toc": true
   },
   "source": [
    "<h1>Table of Contents<span class=\"tocSkip\"></span></h1>\n",
    "<div class=\"toc\"><ul class=\"toc-item\"><li><span><a href=\"#Data-Preparation\" data-toc-modified-id=\"Data-Preparation-1\"><span class=\"toc-item-num\">1&nbsp;&nbsp;</span>Data Preparation</a></span></li><li><span><a href=\"#Feature-Selection\" data-toc-modified-id=\"Feature-Selection-2\"><span class=\"toc-item-num\">2&nbsp;&nbsp;</span>Feature Selection</a></span><ul class=\"toc-item\"><li><span><a href=\"#Filters\" data-toc-modified-id=\"Filters-2.1\"><span class=\"toc-item-num\">2.1&nbsp;&nbsp;</span>Filters</a></span></li><li><span><a href=\"#Wrappers\" data-toc-modified-id=\"Wrappers-2.2\"><span class=\"toc-item-num\">2.2&nbsp;&nbsp;</span>Wrappers</a></span><ul class=\"toc-item\"><li><span><a href=\"#RFE\" data-toc-modified-id=\"RFE-2.2.1\"><span class=\"toc-item-num\">2.2.1&nbsp;&nbsp;</span>RFE</a></span></li><li><span><a href=\"#SFS\" data-toc-modified-id=\"SFS-2.2.2\"><span class=\"toc-item-num\">2.2.2&nbsp;&nbsp;</span>SFS</a></span></li></ul></li></ul></li><li><span><a href=\"#Embeded\" data-toc-modified-id=\"Embeded-3\"><span class=\"toc-item-num\">3&nbsp;&nbsp;</span>Embeded</a></span></li></ul></div>"
   ]
  },
  {
   "cell_type": "markdown",
   "metadata": {
    "heading_collapsed": true,
    "id": "ILgJMYqp3F9U"
   },
   "source": [
    "# Data Preparation"
   ]
  },
  {
   "cell_type": "code",
   "execution_count": null,
   "metadata": {
    "hidden": true,
    "id": "qIbRztfT3F9X"
   },
   "outputs": [],
   "source": [
    "import pandas as pd\n",
    "import numpy as np\n",
    "\n",
    "import matplotlib.pyplot as plt\n",
    "%matplotlib inline\n",
    "\n",
    "import seaborn as sns"
   ]
  },
  {
   "cell_type": "code",
   "execution_count": null,
   "metadata": {
    "hidden": true,
    "id": "V5rvZ_jt3F9m"
   },
   "outputs": [],
   "source": [
    "df=pd.read_csv('/home/mauritian/Downloads/acs2015_county_data.csv')"
   ]
  },
  {
   "cell_type": "code",
   "execution_count": null,
   "metadata": {
    "hidden": true,
    "id": "y0EsDSp13F9x",
    "outputId": "587f00a4-7cec-45b5-8b39-f6c054cf0a88"
   },
   "outputs": [
    {
     "data": {
      "text/html": [
       "<div>\n",
       "<style scoped>\n",
       "    .dataframe tbody tr th:only-of-type {\n",
       "        vertical-align: middle;\n",
       "    }\n",
       "\n",
       "    .dataframe tbody tr th {\n",
       "        vertical-align: top;\n",
       "    }\n",
       "\n",
       "    .dataframe thead th {\n",
       "        text-align: right;\n",
       "    }\n",
       "</style>\n",
       "<table border=\"1\" class=\"dataframe\">\n",
       "  <thead>\n",
       "    <tr style=\"text-align: right;\">\n",
       "      <th></th>\n",
       "      <th>CensusId</th>\n",
       "      <th>State</th>\n",
       "      <th>County</th>\n",
       "      <th>TotalPop</th>\n",
       "      <th>Men</th>\n",
       "      <th>Women</th>\n",
       "      <th>Hispanic</th>\n",
       "      <th>White</th>\n",
       "      <th>Black</th>\n",
       "      <th>Native</th>\n",
       "      <th>...</th>\n",
       "      <th>Walk</th>\n",
       "      <th>OtherTransp</th>\n",
       "      <th>WorkAtHome</th>\n",
       "      <th>MeanCommute</th>\n",
       "      <th>Employed</th>\n",
       "      <th>PrivateWork</th>\n",
       "      <th>PublicWork</th>\n",
       "      <th>SelfEmployed</th>\n",
       "      <th>FamilyWork</th>\n",
       "      <th>Unemployment</th>\n",
       "    </tr>\n",
       "  </thead>\n",
       "  <tbody>\n",
       "    <tr>\n",
       "      <th>0</th>\n",
       "      <td>1001</td>\n",
       "      <td>Alabama</td>\n",
       "      <td>Autauga</td>\n",
       "      <td>55221</td>\n",
       "      <td>26745</td>\n",
       "      <td>28476</td>\n",
       "      <td>2.6</td>\n",
       "      <td>75.8</td>\n",
       "      <td>18.5</td>\n",
       "      <td>0.4</td>\n",
       "      <td>...</td>\n",
       "      <td>0.5</td>\n",
       "      <td>1.3</td>\n",
       "      <td>1.8</td>\n",
       "      <td>26.5</td>\n",
       "      <td>23986</td>\n",
       "      <td>73.6</td>\n",
       "      <td>20.9</td>\n",
       "      <td>5.5</td>\n",
       "      <td>0.0</td>\n",
       "      <td>7.6</td>\n",
       "    </tr>\n",
       "    <tr>\n",
       "      <th>1</th>\n",
       "      <td>1003</td>\n",
       "      <td>Alabama</td>\n",
       "      <td>Baldwin</td>\n",
       "      <td>195121</td>\n",
       "      <td>95314</td>\n",
       "      <td>99807</td>\n",
       "      <td>4.5</td>\n",
       "      <td>83.1</td>\n",
       "      <td>9.5</td>\n",
       "      <td>0.6</td>\n",
       "      <td>...</td>\n",
       "      <td>1.0</td>\n",
       "      <td>1.4</td>\n",
       "      <td>3.9</td>\n",
       "      <td>26.4</td>\n",
       "      <td>85953</td>\n",
       "      <td>81.5</td>\n",
       "      <td>12.3</td>\n",
       "      <td>5.8</td>\n",
       "      <td>0.4</td>\n",
       "      <td>7.5</td>\n",
       "    </tr>\n",
       "    <tr>\n",
       "      <th>2</th>\n",
       "      <td>1005</td>\n",
       "      <td>Alabama</td>\n",
       "      <td>Barbour</td>\n",
       "      <td>26932</td>\n",
       "      <td>14497</td>\n",
       "      <td>12435</td>\n",
       "      <td>4.6</td>\n",
       "      <td>46.2</td>\n",
       "      <td>46.7</td>\n",
       "      <td>0.2</td>\n",
       "      <td>...</td>\n",
       "      <td>1.8</td>\n",
       "      <td>1.5</td>\n",
       "      <td>1.6</td>\n",
       "      <td>24.1</td>\n",
       "      <td>8597</td>\n",
       "      <td>71.8</td>\n",
       "      <td>20.8</td>\n",
       "      <td>7.3</td>\n",
       "      <td>0.1</td>\n",
       "      <td>17.6</td>\n",
       "    </tr>\n",
       "    <tr>\n",
       "      <th>3</th>\n",
       "      <td>1007</td>\n",
       "      <td>Alabama</td>\n",
       "      <td>Bibb</td>\n",
       "      <td>22604</td>\n",
       "      <td>12073</td>\n",
       "      <td>10531</td>\n",
       "      <td>2.2</td>\n",
       "      <td>74.5</td>\n",
       "      <td>21.4</td>\n",
       "      <td>0.4</td>\n",
       "      <td>...</td>\n",
       "      <td>0.6</td>\n",
       "      <td>1.5</td>\n",
       "      <td>0.7</td>\n",
       "      <td>28.8</td>\n",
       "      <td>8294</td>\n",
       "      <td>76.8</td>\n",
       "      <td>16.1</td>\n",
       "      <td>6.7</td>\n",
       "      <td>0.4</td>\n",
       "      <td>8.3</td>\n",
       "    </tr>\n",
       "    <tr>\n",
       "      <th>4</th>\n",
       "      <td>1009</td>\n",
       "      <td>Alabama</td>\n",
       "      <td>Blount</td>\n",
       "      <td>57710</td>\n",
       "      <td>28512</td>\n",
       "      <td>29198</td>\n",
       "      <td>8.6</td>\n",
       "      <td>87.9</td>\n",
       "      <td>1.5</td>\n",
       "      <td>0.3</td>\n",
       "      <td>...</td>\n",
       "      <td>0.9</td>\n",
       "      <td>0.4</td>\n",
       "      <td>2.3</td>\n",
       "      <td>34.9</td>\n",
       "      <td>22189</td>\n",
       "      <td>82.0</td>\n",
       "      <td>13.5</td>\n",
       "      <td>4.2</td>\n",
       "      <td>0.4</td>\n",
       "      <td>7.7</td>\n",
       "    </tr>\n",
       "  </tbody>\n",
       "</table>\n",
       "<p>5 rows × 37 columns</p>\n",
       "</div>"
      ],
      "text/plain": [
       "   CensusId    State   County  TotalPop    Men  Women  Hispanic  White  Black  \\\n",
       "0      1001  Alabama  Autauga     55221  26745  28476       2.6   75.8   18.5   \n",
       "1      1003  Alabama  Baldwin    195121  95314  99807       4.5   83.1    9.5   \n",
       "2      1005  Alabama  Barbour     26932  14497  12435       4.6   46.2   46.7   \n",
       "3      1007  Alabama     Bibb     22604  12073  10531       2.2   74.5   21.4   \n",
       "4      1009  Alabama   Blount     57710  28512  29198       8.6   87.9    1.5   \n",
       "\n",
       "   Native  ...  Walk  OtherTransp  WorkAtHome  MeanCommute  Employed  \\\n",
       "0     0.4  ...   0.5          1.3         1.8         26.5     23986   \n",
       "1     0.6  ...   1.0          1.4         3.9         26.4     85953   \n",
       "2     0.2  ...   1.8          1.5         1.6         24.1      8597   \n",
       "3     0.4  ...   0.6          1.5         0.7         28.8      8294   \n",
       "4     0.3  ...   0.9          0.4         2.3         34.9     22189   \n",
       "\n",
       "   PrivateWork  PublicWork  SelfEmployed  FamilyWork  Unemployment  \n",
       "0         73.6        20.9           5.5         0.0           7.6  \n",
       "1         81.5        12.3           5.8         0.4           7.5  \n",
       "2         71.8        20.8           7.3         0.1          17.6  \n",
       "3         76.8        16.1           6.7         0.4           8.3  \n",
       "4         82.0        13.5           4.2         0.4           7.7  \n",
       "\n",
       "[5 rows x 37 columns]"
      ]
     },
     "execution_count": 4,
     "metadata": {
      "tags": []
     },
     "output_type": "execute_result"
    }
   ],
   "source": [
    "df.head()"
   ]
  },
  {
   "cell_type": "code",
   "execution_count": null,
   "metadata": {
    "hidden": true,
    "id": "ckR09Qxh3F-B",
    "outputId": "d83600a0-e8fc-49d0-b2c6-2fe84beff91b"
   },
   "outputs": [
    {
     "data": {
      "text/plain": [
       "Index(['CensusId', 'State', 'County', 'TotalPop', 'Men', 'Women', 'Hispanic',\n",
       "       'White', 'Black', 'Native', 'Asian', 'Pacific', 'Citizen', 'Income',\n",
       "       'IncomeErr', 'IncomePerCap', 'IncomePerCapErr', 'Poverty',\n",
       "       'ChildPoverty', 'Professional', 'Service', 'Office', 'Construction',\n",
       "       'Production', 'Drive', 'Carpool', 'Transit', 'Walk', 'OtherTransp',\n",
       "       'WorkAtHome', 'MeanCommute', 'Employed', 'PrivateWork', 'PublicWork',\n",
       "       'SelfEmployed', 'FamilyWork', 'Unemployment'],\n",
       "      dtype='object')"
      ]
     },
     "execution_count": 5,
     "metadata": {
      "tags": []
     },
     "output_type": "execute_result"
    }
   ],
   "source": [
    "df.columns"
   ]
  },
  {
   "cell_type": "markdown",
   "metadata": {
    "hidden": true,
    "id": "PsJQtG6a3F-O"
   },
   "source": [
    "1. We will predict Unemployment\n",
    "2. CensusId, State, County will be dropped since they dont bring any useful information.\n",
    "3. TotalPopulation is kept, instead we normalize the gender"
   ]
  },
  {
   "cell_type": "code",
   "execution_count": null,
   "metadata": {
    "hidden": true,
    "id": "Gr-meguW3F-R"
   },
   "outputs": [],
   "source": [
    "df.drop(['CensusId', 'State', 'County'], axis=1, inplace=True)"
   ]
  },
  {
   "cell_type": "code",
   "execution_count": null,
   "metadata": {
    "hidden": true,
    "id": "_SzgcTl_3F-d"
   },
   "outputs": [],
   "source": [
    "df.drop('Men', axis=1, inplace=True)"
   ]
  },
  {
   "cell_type": "code",
   "execution_count": null,
   "metadata": {
    "hidden": true,
    "id": "BGXbBCT_3F-o"
   },
   "outputs": [],
   "source": [
    "df.Women=df.Women/df.TotalPop"
   ]
  },
  {
   "cell_type": "code",
   "execution_count": null,
   "metadata": {
    "hidden": true,
    "id": "qcmeXGi83F-3"
   },
   "outputs": [],
   "source": [
    "df.Citizen=df.Citizen/df.TotalPop"
   ]
  },
  {
   "cell_type": "code",
   "execution_count": null,
   "metadata": {
    "hidden": true,
    "id": "Vit8YUGI3F_D"
   },
   "outputs": [],
   "source": [
    "df.Employed=df.Employed/df.TotalPop"
   ]
  },
  {
   "cell_type": "code",
   "execution_count": null,
   "metadata": {
    "collapsed": true,
    "hidden": true,
    "id": "9HolNA3x3F_M",
    "outputId": "2becc76d-f769-469d-c533-8c8225022477"
   },
   "outputs": [
    {
     "data": {
      "text/plain": [
       "TotalPop           0\n",
       "Women              0\n",
       "Hispanic           0\n",
       "White              0\n",
       "Black              0\n",
       "Native             0\n",
       "Asian              0\n",
       "Pacific            0\n",
       "Citizen            0\n",
       "Income             1\n",
       "IncomeErr          1\n",
       "IncomePerCap       0\n",
       "IncomePerCapErr    0\n",
       "Poverty            0\n",
       "ChildPoverty       1\n",
       "Professional       0\n",
       "Service            0\n",
       "Office             0\n",
       "Construction       0\n",
       "Production         0\n",
       "Drive              0\n",
       "Carpool            0\n",
       "Transit            0\n",
       "Walk               0\n",
       "OtherTransp        0\n",
       "WorkAtHome         0\n",
       "MeanCommute        0\n",
       "Employed           0\n",
       "PrivateWork        0\n",
       "PublicWork         0\n",
       "SelfEmployed       0\n",
       "FamilyWork         0\n",
       "Unemployment       0\n",
       "dtype: int64"
      ]
     },
     "execution_count": 15,
     "metadata": {
      "tags": []
     },
     "output_type": "execute_result"
    }
   ],
   "source": [
    "df.isna().sum()"
   ]
  },
  {
   "cell_type": "code",
   "execution_count": null,
   "metadata": {
    "hidden": true,
    "id": "jPD8URQ83F_V",
    "outputId": "0ab8b26f-b652-4911-f231-901fdd52f16c"
   },
   "outputs": [
    {
     "data": {
      "text/plain": [
       "(3220, 33)"
      ]
     },
     "execution_count": 16,
     "metadata": {
      "tags": []
     },
     "output_type": "execute_result"
    }
   ],
   "source": [
    "df.shape"
   ]
  },
  {
   "cell_type": "code",
   "execution_count": null,
   "metadata": {
    "hidden": true,
    "id": "TTGX-R-h3F_g"
   },
   "outputs": [],
   "source": [
    "df.dropna(inplace=True)"
   ]
  },
  {
   "cell_type": "code",
   "execution_count": null,
   "metadata": {
    "hidden": true,
    "id": "bUjsnpcQ3F_p",
    "outputId": "c5d01a97-7ab3-45e8-b62c-d39f37c6707a"
   },
   "outputs": [
    {
     "data": {
      "text/html": [
       "<div>\n",
       "<style scoped>\n",
       "    .dataframe tbody tr th:only-of-type {\n",
       "        vertical-align: middle;\n",
       "    }\n",
       "\n",
       "    .dataframe tbody tr th {\n",
       "        vertical-align: top;\n",
       "    }\n",
       "\n",
       "    .dataframe thead th {\n",
       "        text-align: right;\n",
       "    }\n",
       "</style>\n",
       "<table border=\"1\" class=\"dataframe\">\n",
       "  <thead>\n",
       "    <tr style=\"text-align: right;\">\n",
       "      <th></th>\n",
       "      <th>count</th>\n",
       "      <th>mean</th>\n",
       "      <th>std</th>\n",
       "      <th>min</th>\n",
       "      <th>25%</th>\n",
       "      <th>50%</th>\n",
       "      <th>75%</th>\n",
       "      <th>max</th>\n",
       "    </tr>\n",
       "  </thead>\n",
       "  <tbody>\n",
       "    <tr>\n",
       "      <th>TotalPop</th>\n",
       "      <td>3218.0</td>\n",
       "      <td>99471.07</td>\n",
       "      <td>319395.09</td>\n",
       "      <td>267.00</td>\n",
       "      <td>11225.25</td>\n",
       "      <td>26079.50</td>\n",
       "      <td>66457.50</td>\n",
       "      <td>10038388.00</td>\n",
       "    </tr>\n",
       "    <tr>\n",
       "      <th>Women</th>\n",
       "      <td>3218.0</td>\n",
       "      <td>0.50</td>\n",
       "      <td>0.02</td>\n",
       "      <td>0.27</td>\n",
       "      <td>0.50</td>\n",
       "      <td>0.50</td>\n",
       "      <td>0.51</td>\n",
       "      <td>0.59</td>\n",
       "    </tr>\n",
       "    <tr>\n",
       "      <th>Hispanic</th>\n",
       "      <td>3218.0</td>\n",
       "      <td>11.01</td>\n",
       "      <td>19.24</td>\n",
       "      <td>0.00</td>\n",
       "      <td>1.90</td>\n",
       "      <td>3.90</td>\n",
       "      <td>9.80</td>\n",
       "      <td>99.90</td>\n",
       "    </tr>\n",
       "    <tr>\n",
       "      <th>White</th>\n",
       "      <td>3218.0</td>\n",
       "      <td>75.45</td>\n",
       "      <td>22.92</td>\n",
       "      <td>0.00</td>\n",
       "      <td>64.10</td>\n",
       "      <td>84.10</td>\n",
       "      <td>93.20</td>\n",
       "      <td>99.80</td>\n",
       "    </tr>\n",
       "    <tr>\n",
       "      <th>Black</th>\n",
       "      <td>3218.0</td>\n",
       "      <td>8.67</td>\n",
       "      <td>14.28</td>\n",
       "      <td>0.00</td>\n",
       "      <td>0.50</td>\n",
       "      <td>1.90</td>\n",
       "      <td>9.60</td>\n",
       "      <td>85.90</td>\n",
       "    </tr>\n",
       "    <tr>\n",
       "      <th>Native</th>\n",
       "      <td>3218.0</td>\n",
       "      <td>1.72</td>\n",
       "      <td>7.25</td>\n",
       "      <td>0.00</td>\n",
       "      <td>0.10</td>\n",
       "      <td>0.30</td>\n",
       "      <td>0.60</td>\n",
       "      <td>92.10</td>\n",
       "    </tr>\n",
       "    <tr>\n",
       "      <th>Asian</th>\n",
       "      <td>3218.0</td>\n",
       "      <td>1.22</td>\n",
       "      <td>2.61</td>\n",
       "      <td>0.00</td>\n",
       "      <td>0.20</td>\n",
       "      <td>0.50</td>\n",
       "      <td>1.20</td>\n",
       "      <td>41.60</td>\n",
       "    </tr>\n",
       "    <tr>\n",
       "      <th>Pacific</th>\n",
       "      <td>3218.0</td>\n",
       "      <td>0.07</td>\n",
       "      <td>0.39</td>\n",
       "      <td>0.00</td>\n",
       "      <td>0.00</td>\n",
       "      <td>0.00</td>\n",
       "      <td>0.00</td>\n",
       "      <td>11.10</td>\n",
       "    </tr>\n",
       "    <tr>\n",
       "      <th>Citizen</th>\n",
       "      <td>3218.0</td>\n",
       "      <td>0.75</td>\n",
       "      <td>0.05</td>\n",
       "      <td>0.44</td>\n",
       "      <td>0.73</td>\n",
       "      <td>0.76</td>\n",
       "      <td>0.78</td>\n",
       "      <td>0.92</td>\n",
       "    </tr>\n",
       "    <tr>\n",
       "      <th>Income</th>\n",
       "      <td>3218.0</td>\n",
       "      <td>46123.62</td>\n",
       "      <td>12908.43</td>\n",
       "      <td>10499.00</td>\n",
       "      <td>38191.25</td>\n",
       "      <td>44748.50</td>\n",
       "      <td>52059.00</td>\n",
       "      <td>123453.00</td>\n",
       "    </tr>\n",
       "    <tr>\n",
       "      <th>IncomeErr</th>\n",
       "      <td>3218.0</td>\n",
       "      <td>2848.20</td>\n",
       "      <td>1915.20</td>\n",
       "      <td>270.00</td>\n",
       "      <td>1635.00</td>\n",
       "      <td>2406.00</td>\n",
       "      <td>3444.25</td>\n",
       "      <td>21355.00</td>\n",
       "    </tr>\n",
       "    <tr>\n",
       "      <th>IncomePerCap</th>\n",
       "      <td>3218.0</td>\n",
       "      <td>23974.10</td>\n",
       "      <td>6193.16</td>\n",
       "      <td>5878.00</td>\n",
       "      <td>20235.50</td>\n",
       "      <td>23457.50</td>\n",
       "      <td>27051.00</td>\n",
       "      <td>65600.00</td>\n",
       "    </tr>\n",
       "    <tr>\n",
       "      <th>IncomePerCapErr</th>\n",
       "      <td>3218.0</td>\n",
       "      <td>1358.71</td>\n",
       "      <td>1038.73</td>\n",
       "      <td>113.00</td>\n",
       "      <td>755.00</td>\n",
       "      <td>1096.00</td>\n",
       "      <td>1631.00</td>\n",
       "      <td>15266.00</td>\n",
       "    </tr>\n",
       "    <tr>\n",
       "      <th>Poverty</th>\n",
       "      <td>3218.0</td>\n",
       "      <td>17.49</td>\n",
       "      <td>8.32</td>\n",
       "      <td>1.40</td>\n",
       "      <td>12.10</td>\n",
       "      <td>16.15</td>\n",
       "      <td>20.70</td>\n",
       "      <td>64.20</td>\n",
       "    </tr>\n",
       "    <tr>\n",
       "      <th>ChildPoverty</th>\n",
       "      <td>3218.0</td>\n",
       "      <td>24.19</td>\n",
       "      <td>11.69</td>\n",
       "      <td>0.00</td>\n",
       "      <td>16.30</td>\n",
       "      <td>22.70</td>\n",
       "      <td>30.00</td>\n",
       "      <td>81.60</td>\n",
       "    </tr>\n",
       "    <tr>\n",
       "      <th>Professional</th>\n",
       "      <td>3218.0</td>\n",
       "      <td>30.99</td>\n",
       "      <td>6.37</td>\n",
       "      <td>13.50</td>\n",
       "      <td>26.70</td>\n",
       "      <td>29.90</td>\n",
       "      <td>34.40</td>\n",
       "      <td>74.00</td>\n",
       "    </tr>\n",
       "    <tr>\n",
       "      <th>Service</th>\n",
       "      <td>3218.0</td>\n",
       "      <td>18.34</td>\n",
       "      <td>3.64</td>\n",
       "      <td>5.00</td>\n",
       "      <td>16.00</td>\n",
       "      <td>18.10</td>\n",
       "      <td>20.30</td>\n",
       "      <td>38.20</td>\n",
       "    </tr>\n",
       "    <tr>\n",
       "      <th>Office</th>\n",
       "      <td>3218.0</td>\n",
       "      <td>22.21</td>\n",
       "      <td>3.20</td>\n",
       "      <td>4.10</td>\n",
       "      <td>20.20</td>\n",
       "      <td>22.40</td>\n",
       "      <td>24.40</td>\n",
       "      <td>35.40</td>\n",
       "    </tr>\n",
       "    <tr>\n",
       "      <th>Construction</th>\n",
       "      <td>3218.0</td>\n",
       "      <td>12.72</td>\n",
       "      <td>4.21</td>\n",
       "      <td>1.70</td>\n",
       "      <td>9.80</td>\n",
       "      <td>12.15</td>\n",
       "      <td>14.90</td>\n",
       "      <td>40.30</td>\n",
       "    </tr>\n",
       "    <tr>\n",
       "      <th>Production</th>\n",
       "      <td>3218.0</td>\n",
       "      <td>15.73</td>\n",
       "      <td>5.74</td>\n",
       "      <td>0.00</td>\n",
       "      <td>11.50</td>\n",
       "      <td>15.20</td>\n",
       "      <td>19.38</td>\n",
       "      <td>55.60</td>\n",
       "    </tr>\n",
       "    <tr>\n",
       "      <th>Drive</th>\n",
       "      <td>3218.0</td>\n",
       "      <td>79.20</td>\n",
       "      <td>7.61</td>\n",
       "      <td>5.20</td>\n",
       "      <td>76.70</td>\n",
       "      <td>80.70</td>\n",
       "      <td>83.70</td>\n",
       "      <td>94.60</td>\n",
       "    </tr>\n",
       "    <tr>\n",
       "      <th>Carpool</th>\n",
       "      <td>3218.0</td>\n",
       "      <td>10.28</td>\n",
       "      <td>2.91</td>\n",
       "      <td>0.00</td>\n",
       "      <td>8.40</td>\n",
       "      <td>9.90</td>\n",
       "      <td>11.80</td>\n",
       "      <td>29.90</td>\n",
       "    </tr>\n",
       "    <tr>\n",
       "      <th>Transit</th>\n",
       "      <td>3218.0</td>\n",
       "      <td>0.97</td>\n",
       "      <td>3.06</td>\n",
       "      <td>0.00</td>\n",
       "      <td>0.10</td>\n",
       "      <td>0.40</td>\n",
       "      <td>0.80</td>\n",
       "      <td>61.70</td>\n",
       "    </tr>\n",
       "    <tr>\n",
       "      <th>Walk</th>\n",
       "      <td>3218.0</td>\n",
       "      <td>3.31</td>\n",
       "      <td>3.70</td>\n",
       "      <td>0.00</td>\n",
       "      <td>1.40</td>\n",
       "      <td>2.40</td>\n",
       "      <td>4.00</td>\n",
       "      <td>71.20</td>\n",
       "    </tr>\n",
       "    <tr>\n",
       "      <th>OtherTransp</th>\n",
       "      <td>3218.0</td>\n",
       "      <td>1.61</td>\n",
       "      <td>1.65</td>\n",
       "      <td>0.00</td>\n",
       "      <td>0.90</td>\n",
       "      <td>1.30</td>\n",
       "      <td>1.90</td>\n",
       "      <td>39.10</td>\n",
       "    </tr>\n",
       "    <tr>\n",
       "      <th>WorkAtHome</th>\n",
       "      <td>3218.0</td>\n",
       "      <td>4.63</td>\n",
       "      <td>3.17</td>\n",
       "      <td>0.00</td>\n",
       "      <td>2.70</td>\n",
       "      <td>3.90</td>\n",
       "      <td>5.60</td>\n",
       "      <td>37.20</td>\n",
       "    </tr>\n",
       "    <tr>\n",
       "      <th>MeanCommute</th>\n",
       "      <td>3218.0</td>\n",
       "      <td>23.28</td>\n",
       "      <td>5.60</td>\n",
       "      <td>4.90</td>\n",
       "      <td>19.50</td>\n",
       "      <td>23.00</td>\n",
       "      <td>26.80</td>\n",
       "      <td>44.00</td>\n",
       "    </tr>\n",
       "    <tr>\n",
       "      <th>Employed</th>\n",
       "      <td>3218.0</td>\n",
       "      <td>0.43</td>\n",
       "      <td>0.07</td>\n",
       "      <td>0.17</td>\n",
       "      <td>0.39</td>\n",
       "      <td>0.43</td>\n",
       "      <td>0.48</td>\n",
       "      <td>0.76</td>\n",
       "    </tr>\n",
       "    <tr>\n",
       "      <th>PrivateWork</th>\n",
       "      <td>3218.0</td>\n",
       "      <td>74.24</td>\n",
       "      <td>7.82</td>\n",
       "      <td>29.50</td>\n",
       "      <td>70.50</td>\n",
       "      <td>75.70</td>\n",
       "      <td>79.70</td>\n",
       "      <td>88.30</td>\n",
       "    </tr>\n",
       "    <tr>\n",
       "      <th>PublicWork</th>\n",
       "      <td>3218.0</td>\n",
       "      <td>17.54</td>\n",
       "      <td>6.46</td>\n",
       "      <td>5.80</td>\n",
       "      <td>13.10</td>\n",
       "      <td>16.20</td>\n",
       "      <td>20.50</td>\n",
       "      <td>66.20</td>\n",
       "    </tr>\n",
       "    <tr>\n",
       "      <th>SelfEmployed</th>\n",
       "      <td>3218.0</td>\n",
       "      <td>7.93</td>\n",
       "      <td>3.91</td>\n",
       "      <td>0.00</td>\n",
       "      <td>5.40</td>\n",
       "      <td>6.90</td>\n",
       "      <td>9.40</td>\n",
       "      <td>36.60</td>\n",
       "    </tr>\n",
       "    <tr>\n",
       "      <th>FamilyWork</th>\n",
       "      <td>3218.0</td>\n",
       "      <td>0.29</td>\n",
       "      <td>0.46</td>\n",
       "      <td>0.00</td>\n",
       "      <td>0.10</td>\n",
       "      <td>0.20</td>\n",
       "      <td>0.30</td>\n",
       "      <td>9.80</td>\n",
       "    </tr>\n",
       "    <tr>\n",
       "      <th>Unemployment</th>\n",
       "      <td>3218.0</td>\n",
       "      <td>8.09</td>\n",
       "      <td>4.09</td>\n",
       "      <td>0.00</td>\n",
       "      <td>5.50</td>\n",
       "      <td>7.60</td>\n",
       "      <td>9.90</td>\n",
       "      <td>36.50</td>\n",
       "    </tr>\n",
       "  </tbody>\n",
       "</table>\n",
       "</div>"
      ],
      "text/plain": [
       "                  count      mean        std       min       25%       50%  \\\n",
       "TotalPop         3218.0  99471.07  319395.09    267.00  11225.25  26079.50   \n",
       "Women            3218.0      0.50       0.02      0.27      0.50      0.50   \n",
       "Hispanic         3218.0     11.01      19.24      0.00      1.90      3.90   \n",
       "White            3218.0     75.45      22.92      0.00     64.10     84.10   \n",
       "Black            3218.0      8.67      14.28      0.00      0.50      1.90   \n",
       "Native           3218.0      1.72       7.25      0.00      0.10      0.30   \n",
       "Asian            3218.0      1.22       2.61      0.00      0.20      0.50   \n",
       "Pacific          3218.0      0.07       0.39      0.00      0.00      0.00   \n",
       "Citizen          3218.0      0.75       0.05      0.44      0.73      0.76   \n",
       "Income           3218.0  46123.62   12908.43  10499.00  38191.25  44748.50   \n",
       "IncomeErr        3218.0   2848.20    1915.20    270.00   1635.00   2406.00   \n",
       "IncomePerCap     3218.0  23974.10    6193.16   5878.00  20235.50  23457.50   \n",
       "IncomePerCapErr  3218.0   1358.71    1038.73    113.00    755.00   1096.00   \n",
       "Poverty          3218.0     17.49       8.32      1.40     12.10     16.15   \n",
       "ChildPoverty     3218.0     24.19      11.69      0.00     16.30     22.70   \n",
       "Professional     3218.0     30.99       6.37     13.50     26.70     29.90   \n",
       "Service          3218.0     18.34       3.64      5.00     16.00     18.10   \n",
       "Office           3218.0     22.21       3.20      4.10     20.20     22.40   \n",
       "Construction     3218.0     12.72       4.21      1.70      9.80     12.15   \n",
       "Production       3218.0     15.73       5.74      0.00     11.50     15.20   \n",
       "Drive            3218.0     79.20       7.61      5.20     76.70     80.70   \n",
       "Carpool          3218.0     10.28       2.91      0.00      8.40      9.90   \n",
       "Transit          3218.0      0.97       3.06      0.00      0.10      0.40   \n",
       "Walk             3218.0      3.31       3.70      0.00      1.40      2.40   \n",
       "OtherTransp      3218.0      1.61       1.65      0.00      0.90      1.30   \n",
       "WorkAtHome       3218.0      4.63       3.17      0.00      2.70      3.90   \n",
       "MeanCommute      3218.0     23.28       5.60      4.90     19.50     23.00   \n",
       "Employed         3218.0      0.43       0.07      0.17      0.39      0.43   \n",
       "PrivateWork      3218.0     74.24       7.82     29.50     70.50     75.70   \n",
       "PublicWork       3218.0     17.54       6.46      5.80     13.10     16.20   \n",
       "SelfEmployed     3218.0      7.93       3.91      0.00      5.40      6.90   \n",
       "FamilyWork       3218.0      0.29       0.46      0.00      0.10      0.20   \n",
       "Unemployment     3218.0      8.09       4.09      0.00      5.50      7.60   \n",
       "\n",
       "                      75%          max  \n",
       "TotalPop         66457.50  10038388.00  \n",
       "Women                0.51         0.59  \n",
       "Hispanic             9.80        99.90  \n",
       "White               93.20        99.80  \n",
       "Black                9.60        85.90  \n",
       "Native               0.60        92.10  \n",
       "Asian                1.20        41.60  \n",
       "Pacific              0.00        11.10  \n",
       "Citizen              0.78         0.92  \n",
       "Income           52059.00    123453.00  \n",
       "IncomeErr         3444.25     21355.00  \n",
       "IncomePerCap     27051.00     65600.00  \n",
       "IncomePerCapErr   1631.00     15266.00  \n",
       "Poverty             20.70        64.20  \n",
       "ChildPoverty        30.00        81.60  \n",
       "Professional        34.40        74.00  \n",
       "Service             20.30        38.20  \n",
       "Office              24.40        35.40  \n",
       "Construction        14.90        40.30  \n",
       "Production          19.38        55.60  \n",
       "Drive               83.70        94.60  \n",
       "Carpool             11.80        29.90  \n",
       "Transit              0.80        61.70  \n",
       "Walk                 4.00        71.20  \n",
       "OtherTransp          1.90        39.10  \n",
       "WorkAtHome           5.60        37.20  \n",
       "MeanCommute         26.80        44.00  \n",
       "Employed             0.48         0.76  \n",
       "PrivateWork         79.70        88.30  \n",
       "PublicWork          20.50        66.20  \n",
       "SelfEmployed         9.40        36.60  \n",
       "FamilyWork           0.30         9.80  \n",
       "Unemployment         9.90        36.50  "
      ]
     },
     "execution_count": 20,
     "metadata": {
      "tags": []
     },
     "output_type": "execute_result"
    }
   ],
   "source": [
    "df.describe().T.round(2)"
   ]
  },
  {
   "cell_type": "code",
   "execution_count": null,
   "metadata": {
    "hidden": true,
    "id": "corX3K1A3F_y",
    "outputId": "dcfed1a2-3b2d-4f8d-b675-40824cc67575"
   },
   "outputs": [
    {
     "data": {
      "text/plain": [
       "Employed          -0.698771\n",
       "IncomePerCap      -0.547239\n",
       "White             -0.540146\n",
       "Income            -0.509054\n",
       "WorkAtHome        -0.309747\n",
       "Professional      -0.300318\n",
       "SelfEmployed      -0.293592\n",
       "IncomePerCapErr   -0.251561\n",
       "IncomeErr         -0.226349\n",
       "FamilyWork        -0.123187\n",
       "PrivateWork       -0.104118\n",
       "Construction      -0.091779\n",
       "Walk              -0.080272\n",
       "Asian             -0.055315\n",
       "Pacific           -0.015888\n",
       "Citizen            0.005613\n",
       "TotalPop           0.030313\n",
       "Transit            0.030784\n",
       "Production         0.079907\n",
       "Carpool            0.088236\n",
       "Drive              0.096529\n",
       "Women              0.105154\n",
       "OtherTransp        0.117109\n",
       "Office             0.161331\n",
       "Native             0.187386\n",
       "MeanCommute        0.292585\n",
       "PublicWork         0.312533\n",
       "Hispanic           0.321536\n",
       "Black              0.352943\n",
       "Service            0.365371\n",
       "ChildPoverty       0.678441\n",
       "Poverty            0.712419\n",
       "Unemployment       1.000000\n",
       "Name: Unemployment, dtype: float64"
      ]
     },
     "execution_count": 23,
     "metadata": {
      "tags": []
     },
     "output_type": "execute_result"
    }
   ],
   "source": [
    "df.corr().Unemployment.sort_values()"
   ]
  },
  {
   "cell_type": "code",
   "execution_count": null,
   "metadata": {
    "hidden": true,
    "id": "-EebcNj63F_6",
    "outputId": "56e79548-45b1-4170-810a-b7ba30dd370e"
   },
   "outputs": [
    {
     "data": {
      "text/plain": [
       "<AxesSubplot:>"
      ]
     },
     "execution_count": 26,
     "metadata": {
      "tags": []
     },
     "output_type": "execute_result"
    },
    {
     "data": {
      "image/png": "[encoded data removed]",
      "text/plain": [
       "<Figure size 432x288 with 1 Axes>"
      ]
     },
     "metadata": {
      "needs_background": "light",
      "tags": []
     },
     "output_type": "display_data"
    }
   ],
   "source": [
    "df.TotalPop.hist(bins=100)"
   ]
  },
  {
   "cell_type": "code",
   "execution_count": null,
   "metadata": {
    "hidden": true,
    "id": "c__jsaVH3GAD"
   },
   "outputs": [],
   "source": [
    "df.TotalPop=df.TotalPop.apply(np.log)"
   ]
  },
  {
   "cell_type": "code",
   "execution_count": null,
   "metadata": {
    "hidden": true,
    "id": "eUY0hMJ63GAN",
    "outputId": "a53cf475-fb75-4883-e6be-27f47eb16999"
   },
   "outputs": [
    {
     "data": {
      "text/plain": [
       "<AxesSubplot:>"
      ]
     },
     "execution_count": 32,
     "metadata": {
      "tags": []
     },
     "output_type": "execute_result"
    },
    {
     "data": {
      "image/png": "[encoded data removed]",
      "text/plain": [
       "<Figure size 432x288 with 1 Axes>"
      ]
     },
     "metadata": {
      "needs_background": "light",
      "tags": []
     },
     "output_type": "display_data"
    }
   ],
   "source": [
    "df.Unemployment.hist(bins=100)"
   ]
  },
  {
   "cell_type": "code",
   "execution_count": null,
   "metadata": {
    "hidden": true,
    "id": "nfauSOLp3GAV",
    "outputId": "a25d00f0-b117-45b2-d993-93ebd7340778"
   },
   "outputs": [
    {
     "data": {
      "text/plain": [
       "<AxesSubplot:>"
      ]
     },
     "execution_count": 34,
     "metadata": {
      "tags": []
     },
     "output_type": "execute_result"
    },
    {
     "data": {
      "image/png": "[encoded data removed]",
      "text/plain": [
       "<Figure size 432x288 with 1 Axes>"
      ]
     },
     "metadata": {
      "needs_background": "light",
      "tags": []
     },
     "output_type": "display_data"
    }
   ],
   "source": [
    "df.Income.hist(bins=100)"
   ]
  },
  {
   "cell_type": "code",
   "execution_count": null,
   "metadata": {
    "hidden": true,
    "id": "qbv8Vdjx3GAe",
    "outputId": "3c809998-bcd9-4a07-ec85-07f5ca8705cd"
   },
   "outputs": [
    {
     "data": {
      "text/plain": [
       "<AxesSubplot:>"
      ]
     },
     "execution_count": 41,
     "metadata": {
      "tags": []
     },
     "output_type": "execute_result"
    },
    {
     "data": {
      "image/png": "[encoded data removed]",
      "text/plain": [
       "<Figure size 432x288 with 1 Axes>"
      ]
     },
     "metadata": {
      "needs_background": "light",
      "tags": []
     },
     "output_type": "display_data"
    }
   ],
   "source": [
    "((df.Income-df.Income.mean())/df.Income.std()).hist(bins=100)"
   ]
  },
  {
   "cell_type": "code",
   "execution_count": null,
   "metadata": {
    "hidden": true,
    "id": "81EpRbpD3GAk"
   },
   "outputs": [],
   "source": [
    "from sklearn.preprocessing import StandardScaler"
   ]
  },
  {
   "cell_type": "code",
   "execution_count": null,
   "metadata": {
    "hidden": true,
    "id": "dLspxMQn3GAq"
   },
   "outputs": [],
   "source": [
    "scaler=StandardScaler()"
   ]
  },
  {
   "cell_type": "code",
   "execution_count": null,
   "metadata": {
    "hidden": true,
    "id": "IOE9wbxc3GAu",
    "outputId": "cbb937ca-0a77-4a9b-f1a9-c2d087f444d4"
   },
   "outputs": [
    {
     "data": {
      "text/plain": [
       "StandardScaler()"
      ]
     },
     "execution_count": 47,
     "metadata": {
      "tags": []
     },
     "output_type": "execute_result"
    }
   ],
   "source": [
    "scaler.fit(df[['Income']])"
   ]
  },
  {
   "cell_type": "code",
   "execution_count": null,
   "metadata": {
    "hidden": true,
    "id": "5eCaONbr3GAy",
    "outputId": "3f80ec31-3af0-4acc-acc8-355f8fbba522"
   },
   "outputs": [
    {
     "data": {
      "image/png": "[encoded data removed]",
      "text/plain": [
       "<Figure size 432x288 with 1 Axes>"
      ]
     },
     "metadata": {
      "needs_background": "light",
      "tags": []
     },
     "output_type": "display_data"
    }
   ],
   "source": [
    "plt.hist(scaler.transform(df[['Income']]), bins=100);"
   ]
  },
  {
   "cell_type": "code",
   "execution_count": null,
   "metadata": {
    "hidden": true,
    "id": "wLoqd7kA3GA2"
   },
   "outputs": [],
   "source": [
    "scaler=StandardScaler()"
   ]
  },
  {
   "cell_type": "code",
   "execution_count": null,
   "metadata": {
    "hidden": true,
    "id": "eLJSYQ3C3GA6"
   },
   "outputs": [],
   "source": [
    "df.loc[:, 'Income':'IncomePerCapErr']=scaler.fit_transform(df.loc[:, 'Income':'IncomePerCapErr'])"
   ]
  },
  {
   "cell_type": "code",
   "execution_count": null,
   "metadata": {
    "collapsed": true,
    "hidden": true,
    "id": "HG_Mh8TG3GA_",
    "outputId": "368e3ee8-1a5c-4dfb-c389-1ae609029ae6"
   },
   "outputs": [
    {
     "data": {
      "text/html": [
       "<div>\n",
       "<style scoped>\n",
       "    .dataframe tbody tr th:only-of-type {\n",
       "        vertical-align: middle;\n",
       "    }\n",
       "\n",
       "    .dataframe tbody tr th {\n",
       "        vertical-align: top;\n",
       "    }\n",
       "\n",
       "    .dataframe thead th {\n",
       "        text-align: right;\n",
       "    }\n",
       "</style>\n",
       "<table border=\"1\" class=\"dataframe\">\n",
       "  <thead>\n",
       "    <tr style=\"text-align: right;\">\n",
       "      <th></th>\n",
       "      <th>count</th>\n",
       "      <th>mean</th>\n",
       "      <th>std</th>\n",
       "      <th>min</th>\n",
       "      <th>25%</th>\n",
       "      <th>50%</th>\n",
       "      <th>75%</th>\n",
       "      <th>max</th>\n",
       "    </tr>\n",
       "  </thead>\n",
       "  <tbody>\n",
       "    <tr>\n",
       "      <th>TotalPop</th>\n",
       "      <td>3218.0</td>\n",
       "      <td>1.027683e+01</td>\n",
       "      <td>1.457344</td>\n",
       "      <td>5.587249</td>\n",
       "      <td>9.325921</td>\n",
       "      <td>10.168904</td>\n",
       "      <td>11.104318</td>\n",
       "      <td>16.121927</td>\n",
       "    </tr>\n",
       "    <tr>\n",
       "      <th>Women</th>\n",
       "      <td>3218.0</td>\n",
       "      <td>4.999030e-01</td>\n",
       "      <td>0.023886</td>\n",
       "      <td>0.267775</td>\n",
       "      <td>0.495354</td>\n",
       "      <td>0.504656</td>\n",
       "      <td>0.511789</td>\n",
       "      <td>0.594210</td>\n",
       "    </tr>\n",
       "    <tr>\n",
       "      <th>Hispanic</th>\n",
       "      <td>3218.0</td>\n",
       "      <td>1.100603e+01</td>\n",
       "      <td>19.242390</td>\n",
       "      <td>0.000000</td>\n",
       "      <td>1.900000</td>\n",
       "      <td>3.900000</td>\n",
       "      <td>9.800000</td>\n",
       "      <td>99.900000</td>\n",
       "    </tr>\n",
       "    <tr>\n",
       "      <th>White</th>\n",
       "      <td>3218.0</td>\n",
       "      <td>7.545124e+01</td>\n",
       "      <td>22.922274</td>\n",
       "      <td>0.000000</td>\n",
       "      <td>64.100000</td>\n",
       "      <td>84.100000</td>\n",
       "      <td>93.200000</td>\n",
       "      <td>99.800000</td>\n",
       "    </tr>\n",
       "    <tr>\n",
       "      <th>Black</th>\n",
       "      <td>3218.0</td>\n",
       "      <td>8.670883e+00</td>\n",
       "      <td>14.281924</td>\n",
       "      <td>0.000000</td>\n",
       "      <td>0.500000</td>\n",
       "      <td>1.900000</td>\n",
       "      <td>9.600000</td>\n",
       "      <td>85.900000</td>\n",
       "    </tr>\n",
       "    <tr>\n",
       "      <th>Native</th>\n",
       "      <td>3218.0</td>\n",
       "      <td>1.720603e+00</td>\n",
       "      <td>7.252676</td>\n",
       "      <td>0.000000</td>\n",
       "      <td>0.100000</td>\n",
       "      <td>0.300000</td>\n",
       "      <td>0.600000</td>\n",
       "      <td>92.100000</td>\n",
       "    </tr>\n",
       "    <tr>\n",
       "      <th>Asian</th>\n",
       "      <td>3218.0</td>\n",
       "      <td>1.223244e+00</td>\n",
       "      <td>2.610159</td>\n",
       "      <td>0.000000</td>\n",
       "      <td>0.200000</td>\n",
       "      <td>0.500000</td>\n",
       "      <td>1.200000</td>\n",
       "      <td>41.600000</td>\n",
       "    </tr>\n",
       "    <tr>\n",
       "      <th>Pacific</th>\n",
       "      <td>3218.0</td>\n",
       "      <td>7.181479e-02</td>\n",
       "      <td>0.393455</td>\n",
       "      <td>0.000000</td>\n",
       "      <td>0.000000</td>\n",
       "      <td>0.000000</td>\n",
       "      <td>0.000000</td>\n",
       "      <td>11.100000</td>\n",
       "    </tr>\n",
       "    <tr>\n",
       "      <th>Citizen</th>\n",
       "      <td>3218.0</td>\n",
       "      <td>7.471945e-01</td>\n",
       "      <td>0.052651</td>\n",
       "      <td>0.442472</td>\n",
       "      <td>0.729423</td>\n",
       "      <td>0.757548</td>\n",
       "      <td>0.778628</td>\n",
       "      <td>0.919509</td>\n",
       "    </tr>\n",
       "    <tr>\n",
       "      <th>Income</th>\n",
       "      <td>3218.0</td>\n",
       "      <td>-2.691032e-17</td>\n",
       "      <td>1.000155</td>\n",
       "      <td>-2.760224</td>\n",
       "      <td>-0.614606</td>\n",
       "      <td>-0.106545</td>\n",
       "      <td>0.459878</td>\n",
       "      <td>5.991542</td>\n",
       "    </tr>\n",
       "    <tr>\n",
       "      <th>IncomeErr</th>\n",
       "      <td>3218.0</td>\n",
       "      <td>1.209239e-16</td>\n",
       "      <td>1.000155</td>\n",
       "      <td>-1.346388</td>\n",
       "      <td>-0.633558</td>\n",
       "      <td>-0.230927</td>\n",
       "      <td>0.311268</td>\n",
       "      <td>9.664616</td>\n",
       "    </tr>\n",
       "    <tr>\n",
       "      <th>IncomePerCap</th>\n",
       "      <td>3218.0</td>\n",
       "      <td>1.707080e-16</td>\n",
       "      <td>1.000155</td>\n",
       "      <td>-2.922406</td>\n",
       "      <td>-0.603760</td>\n",
       "      <td>-0.083428</td>\n",
       "      <td>0.496900</td>\n",
       "      <td>6.722319</td>\n",
       "    </tr>\n",
       "    <tr>\n",
       "      <th>IncomePerCapErr</th>\n",
       "      <td>3218.0</td>\n",
       "      <td>2.183876e-17</td>\n",
       "      <td>1.000155</td>\n",
       "      <td>-1.199447</td>\n",
       "      <td>-0.581288</td>\n",
       "      <td>-0.252951</td>\n",
       "      <td>0.262181</td>\n",
       "      <td>13.390839</td>\n",
       "    </tr>\n",
       "    <tr>\n",
       "      <th>Poverty</th>\n",
       "      <td>3218.0</td>\n",
       "      <td>1.749043e+01</td>\n",
       "      <td>8.317939</td>\n",
       "      <td>1.400000</td>\n",
       "      <td>12.100000</td>\n",
       "      <td>16.150000</td>\n",
       "      <td>20.700000</td>\n",
       "      <td>64.200000</td>\n",
       "    </tr>\n",
       "    <tr>\n",
       "      <th>ChildPoverty</th>\n",
       "      <td>3218.0</td>\n",
       "      <td>2.418832e+01</td>\n",
       "      <td>11.692375</td>\n",
       "      <td>0.000000</td>\n",
       "      <td>16.300000</td>\n",
       "      <td>22.700000</td>\n",
       "      <td>30.000000</td>\n",
       "      <td>81.600000</td>\n",
       "    </tr>\n",
       "    <tr>\n",
       "      <th>Professional</th>\n",
       "      <td>3218.0</td>\n",
       "      <td>3.099313e+01</td>\n",
       "      <td>6.368637</td>\n",
       "      <td>13.500000</td>\n",
       "      <td>26.700000</td>\n",
       "      <td>29.900000</td>\n",
       "      <td>34.400000</td>\n",
       "      <td>74.000000</td>\n",
       "    </tr>\n",
       "    <tr>\n",
       "      <th>Service</th>\n",
       "      <td>3218.0</td>\n",
       "      <td>1.834351e+01</td>\n",
       "      <td>3.635028</td>\n",
       "      <td>5.000000</td>\n",
       "      <td>16.000000</td>\n",
       "      <td>18.100000</td>\n",
       "      <td>20.300000</td>\n",
       "      <td>38.200000</td>\n",
       "    </tr>\n",
       "    <tr>\n",
       "      <th>Office</th>\n",
       "      <td>3218.0</td>\n",
       "      <td>2.221277e+01</td>\n",
       "      <td>3.195728</td>\n",
       "      <td>4.100000</td>\n",
       "      <td>20.200000</td>\n",
       "      <td>22.400000</td>\n",
       "      <td>24.400000</td>\n",
       "      <td>35.400000</td>\n",
       "    </tr>\n",
       "    <tr>\n",
       "      <th>Construction</th>\n",
       "      <td>3218.0</td>\n",
       "      <td>1.271905e+01</td>\n",
       "      <td>4.213415</td>\n",
       "      <td>1.700000</td>\n",
       "      <td>9.800000</td>\n",
       "      <td>12.150000</td>\n",
       "      <td>14.900000</td>\n",
       "      <td>40.300000</td>\n",
       "    </tr>\n",
       "    <tr>\n",
       "      <th>Production</th>\n",
       "      <td>3218.0</td>\n",
       "      <td>1.573182e+01</td>\n",
       "      <td>5.737731</td>\n",
       "      <td>0.000000</td>\n",
       "      <td>11.500000</td>\n",
       "      <td>15.200000</td>\n",
       "      <td>19.375000</td>\n",
       "      <td>55.600000</td>\n",
       "    </tr>\n",
       "    <tr>\n",
       "      <th>Drive</th>\n",
       "      <td>3218.0</td>\n",
       "      <td>7.920044e+01</td>\n",
       "      <td>7.614951</td>\n",
       "      <td>5.200000</td>\n",
       "      <td>76.700000</td>\n",
       "      <td>80.700000</td>\n",
       "      <td>83.700000</td>\n",
       "      <td>94.600000</td>\n",
       "    </tr>\n",
       "    <tr>\n",
       "      <th>Carpool</th>\n",
       "      <td>3218.0</td>\n",
       "      <td>1.027930e+01</td>\n",
       "      <td>2.908332</td>\n",
       "      <td>0.000000</td>\n",
       "      <td>8.400000</td>\n",
       "      <td>9.900000</td>\n",
       "      <td>11.800000</td>\n",
       "      <td>29.900000</td>\n",
       "    </tr>\n",
       "    <tr>\n",
       "      <th>Transit</th>\n",
       "      <td>3218.0</td>\n",
       "      <td>9.724363e-01</td>\n",
       "      <td>3.059874</td>\n",
       "      <td>0.000000</td>\n",
       "      <td>0.100000</td>\n",
       "      <td>0.400000</td>\n",
       "      <td>0.800000</td>\n",
       "      <td>61.700000</td>\n",
       "    </tr>\n",
       "    <tr>\n",
       "      <th>Walk</th>\n",
       "      <td>3218.0</td>\n",
       "      <td>3.310534e+00</td>\n",
       "      <td>3.699291</td>\n",
       "      <td>0.000000</td>\n",
       "      <td>1.400000</td>\n",
       "      <td>2.400000</td>\n",
       "      <td>4.000000</td>\n",
       "      <td>71.200000</td>\n",
       "    </tr>\n",
       "    <tr>\n",
       "      <th>OtherTransp</th>\n",
       "      <td>3218.0</td>\n",
       "      <td>1.609105e+00</td>\n",
       "      <td>1.654761</td>\n",
       "      <td>0.000000</td>\n",
       "      <td>0.900000</td>\n",
       "      <td>1.300000</td>\n",
       "      <td>1.900000</td>\n",
       "      <td>39.100000</td>\n",
       "    </tr>\n",
       "    <tr>\n",
       "      <th>WorkAtHome</th>\n",
       "      <td>3218.0</td>\n",
       "      <td>4.628713e+00</td>\n",
       "      <td>3.173193</td>\n",
       "      <td>0.000000</td>\n",
       "      <td>2.700000</td>\n",
       "      <td>3.900000</td>\n",
       "      <td>5.600000</td>\n",
       "      <td>37.200000</td>\n",
       "    </tr>\n",
       "    <tr>\n",
       "      <th>MeanCommute</th>\n",
       "      <td>3218.0</td>\n",
       "      <td>2.328247e+01</td>\n",
       "      <td>5.596578</td>\n",
       "      <td>4.900000</td>\n",
       "      <td>19.500000</td>\n",
       "      <td>23.000000</td>\n",
       "      <td>26.800000</td>\n",
       "      <td>44.000000</td>\n",
       "    </tr>\n",
       "    <tr>\n",
       "      <th>Employed</th>\n",
       "      <td>3218.0</td>\n",
       "      <td>4.296523e-01</td>\n",
       "      <td>0.069569</td>\n",
       "      <td>0.165677</td>\n",
       "      <td>0.386575</td>\n",
       "      <td>0.434661</td>\n",
       "      <td>0.480582</td>\n",
       "      <td>0.762409</td>\n",
       "    </tr>\n",
       "    <tr>\n",
       "      <th>PrivateWork</th>\n",
       "      <td>3218.0</td>\n",
       "      <td>7.423564e+01</td>\n",
       "      <td>7.817393</td>\n",
       "      <td>29.500000</td>\n",
       "      <td>70.500000</td>\n",
       "      <td>75.700000</td>\n",
       "      <td>79.700000</td>\n",
       "      <td>88.300000</td>\n",
       "    </tr>\n",
       "    <tr>\n",
       "      <th>PublicWork</th>\n",
       "      <td>3218.0</td>\n",
       "      <td>1.754335e+01</td>\n",
       "      <td>6.458126</td>\n",
       "      <td>5.800000</td>\n",
       "      <td>13.100000</td>\n",
       "      <td>16.200000</td>\n",
       "      <td>20.500000</td>\n",
       "      <td>66.200000</td>\n",
       "    </tr>\n",
       "    <tr>\n",
       "      <th>SelfEmployed</th>\n",
       "      <td>3218.0</td>\n",
       "      <td>7.932846e+00</td>\n",
       "      <td>3.914249</td>\n",
       "      <td>0.000000</td>\n",
       "      <td>5.400000</td>\n",
       "      <td>6.900000</td>\n",
       "      <td>9.400000</td>\n",
       "      <td>36.600000</td>\n",
       "    </tr>\n",
       "    <tr>\n",
       "      <th>FamilyWork</th>\n",
       "      <td>3218.0</td>\n",
       "      <td>2.882846e-01</td>\n",
       "      <td>0.455222</td>\n",
       "      <td>0.000000</td>\n",
       "      <td>0.100000</td>\n",
       "      <td>0.200000</td>\n",
       "      <td>0.300000</td>\n",
       "      <td>9.800000</td>\n",
       "    </tr>\n",
       "    <tr>\n",
       "      <th>Unemployment</th>\n",
       "      <td>3218.0</td>\n",
       "      <td>8.094779e+00</td>\n",
       "      <td>4.093038</td>\n",
       "      <td>0.000000</td>\n",
       "      <td>5.500000</td>\n",
       "      <td>7.600000</td>\n",
       "      <td>9.900000</td>\n",
       "      <td>36.500000</td>\n",
       "    </tr>\n",
       "  </tbody>\n",
       "</table>\n",
       "</div>"
      ],
      "text/plain": [
       "                  count          mean        std        min        25%  \\\n",
       "TotalPop         3218.0  1.027683e+01   1.457344   5.587249   9.325921   \n",
       "Women            3218.0  4.999030e-01   0.023886   0.267775   0.495354   \n",
       "Hispanic         3218.0  1.100603e+01  19.242390   0.000000   1.900000   \n",
       "White            3218.0  7.545124e+01  22.922274   0.000000  64.100000   \n",
       "Black            3218.0  8.670883e+00  14.281924   0.000000   0.500000   \n",
       "Native           3218.0  1.720603e+00   7.252676   0.000000   0.100000   \n",
       "Asian            3218.0  1.223244e+00   2.610159   0.000000   0.200000   \n",
       "Pacific          3218.0  7.181479e-02   0.393455   0.000000   0.000000   \n",
       "Citizen          3218.0  7.471945e-01   0.052651   0.442472   0.729423   \n",
       "Income           3218.0 -2.691032e-17   1.000155  -2.760224  -0.614606   \n",
       "IncomeErr        3218.0  1.209239e-16   1.000155  -1.346388  -0.633558   \n",
       "IncomePerCap     3218.0  1.707080e-16   1.000155  -2.922406  -0.603760   \n",
       "IncomePerCapErr  3218.0  2.183876e-17   1.000155  -1.199447  -0.581288   \n",
       "Poverty          3218.0  1.749043e+01   8.317939   1.400000  12.100000   \n",
       "ChildPoverty     3218.0  2.418832e+01  11.692375   0.000000  16.300000   \n",
       "Professional     3218.0  3.099313e+01   6.368637  13.500000  26.700000   \n",
       "Service          3218.0  1.834351e+01   3.635028   5.000000  16.000000   \n",
       "Office           3218.0  2.221277e+01   3.195728   4.100000  20.200000   \n",
       "Construction     3218.0  1.271905e+01   4.213415   1.700000   9.800000   \n",
       "Production       3218.0  1.573182e+01   5.737731   0.000000  11.500000   \n",
       "Drive            3218.0  7.920044e+01   7.614951   5.200000  76.700000   \n",
       "Carpool          3218.0  1.027930e+01   2.908332   0.000000   8.400000   \n",
       "Transit          3218.0  9.724363e-01   3.059874   0.000000   0.100000   \n",
       "Walk             3218.0  3.310534e+00   3.699291   0.000000   1.400000   \n",
       "OtherTransp      3218.0  1.609105e+00   1.654761   0.000000   0.900000   \n",
       "WorkAtHome       3218.0  4.628713e+00   3.173193   0.000000   2.700000   \n",
       "MeanCommute      3218.0  2.328247e+01   5.596578   4.900000  19.500000   \n",
       "Employed         3218.0  4.296523e-01   0.069569   0.165677   0.386575   \n",
       "PrivateWork      3218.0  7.423564e+01   7.817393  29.500000  70.500000   \n",
       "PublicWork       3218.0  1.754335e+01   6.458126   5.800000  13.100000   \n",
       "SelfEmployed     3218.0  7.932846e+00   3.914249   0.000000   5.400000   \n",
       "FamilyWork       3218.0  2.882846e-01   0.455222   0.000000   0.100000   \n",
       "Unemployment     3218.0  8.094779e+00   4.093038   0.000000   5.500000   \n",
       "\n",
       "                       50%        75%        max  \n",
       "TotalPop         10.168904  11.104318  16.121927  \n",
       "Women             0.504656   0.511789   0.594210  \n",
       "Hispanic          3.900000   9.800000  99.900000  \n",
       "White            84.100000  93.200000  99.800000  \n",
       "Black             1.900000   9.600000  85.900000  \n",
       "Native            0.300000   0.600000  92.100000  \n",
       "Asian             0.500000   1.200000  41.600000  \n",
       "Pacific           0.000000   0.000000  11.100000  \n",
       "Citizen           0.757548   0.778628   0.919509  \n",
       "Income           -0.106545   0.459878   5.991542  \n",
       "IncomeErr        -0.230927   0.311268   9.664616  \n",
       "IncomePerCap     -0.083428   0.496900   6.722319  \n",
       "IncomePerCapErr  -0.252951   0.262181  13.390839  \n",
       "Poverty          16.150000  20.700000  64.200000  \n",
       "ChildPoverty     22.700000  30.000000  81.600000  \n",
       "Professional     29.900000  34.400000  74.000000  \n",
       "Service          18.100000  20.300000  38.200000  \n",
       "Office           22.400000  24.400000  35.400000  \n",
       "Construction     12.150000  14.900000  40.300000  \n",
       "Production       15.200000  19.375000  55.600000  \n",
       "Drive            80.700000  83.700000  94.600000  \n",
       "Carpool           9.900000  11.800000  29.900000  \n",
       "Transit           0.400000   0.800000  61.700000  \n",
       "Walk              2.400000   4.000000  71.200000  \n",
       "OtherTransp       1.300000   1.900000  39.100000  \n",
       "WorkAtHome        3.900000   5.600000  37.200000  \n",
       "MeanCommute      23.000000  26.800000  44.000000  \n",
       "Employed          0.434661   0.480582   0.762409  \n",
       "PrivateWork      75.700000  79.700000  88.300000  \n",
       "PublicWork       16.200000  20.500000  66.200000  \n",
       "SelfEmployed      6.900000   9.400000  36.600000  \n",
       "FamilyWork        0.200000   0.300000   9.800000  \n",
       "Unemployment      7.600000   9.900000  36.500000  "
      ]
     },
     "execution_count": 57,
     "metadata": {
      "tags": []
     },
     "output_type": "execute_result"
    }
   ],
   "source": [
    "df.describe().T"
   ]
  },
  {
   "cell_type": "markdown",
   "metadata": {
    "id": "DTpNwY1b3GBE"
   },
   "source": [
    "# Feature Selection"
   ]
  },
  {
   "cell_type": "markdown",
   "metadata": {
    "id": "0Cmo9DZa3GBF"
   },
   "source": [
    "## Filters"
   ]
  },
  {
   "cell_type": "code",
   "execution_count": null,
   "metadata": {
    "id": "O0oevqFP3GBF"
   },
   "outputs": [],
   "source": [
    "from sklearn.feature_selection import SelectKBest, f_regression"
   ]
  },
  {
   "cell_type": "code",
   "execution_count": null,
   "metadata": {
    "id": "XicQ6JmJ3GBJ"
   },
   "outputs": [],
   "source": [
    "y=df.Unemployment\n",
    "X=df.drop('Unemployment', axis=1)"
   ]
  },
  {
   "cell_type": "code",
   "execution_count": null,
   "metadata": {
    "id": "iHiQ86xr3GBM",
    "outputId": "e60ca693-3177-4905-dbd2-202e1e81d197"
   },
   "outputs": [
    {
     "data": {
      "text/plain": [
       "(3218, 32)"
      ]
     },
     "execution_count": 60,
     "metadata": {
      "tags": []
     },
     "output_type": "execute_result"
    }
   ],
   "source": [
    "X.shape"
   ]
  },
  {
   "cell_type": "code",
   "execution_count": null,
   "metadata": {
    "id": "56jmEkBq3GBQ"
   },
   "outputs": [],
   "source": [
    "selector=SelectKBest(f_regression, k=6) #I selected 6 columns out of 32 from X"
   ]
  },
  {
   "cell_type": "code",
   "execution_count": null,
   "metadata": {
    "id": "IgEiJmYb3GBU"
   },
   "outputs": [],
   "source": [
    "selection=selector.fit_transform(X,y)"
   ]
  },
  {
   "cell_type": "code",
   "execution_count": null,
   "metadata": {
    "id": "YHgQqAo13GBY",
    "outputId": "41061e54-fe00-4000-b2fe-d0b130d5fd79"
   },
   "outputs": [
    {
     "data": {
      "text/html": [
       "<div>\n",
       "<style scoped>\n",
       "    .dataframe tbody tr th:only-of-type {\n",
       "        vertical-align: middle;\n",
       "    }\n",
       "\n",
       "    .dataframe tbody tr th {\n",
       "        vertical-align: top;\n",
       "    }\n",
       "\n",
       "    .dataframe thead th {\n",
       "        text-align: right;\n",
       "    }\n",
       "</style>\n",
       "<table border=\"1\" class=\"dataframe\">\n",
       "  <thead>\n",
       "    <tr style=\"text-align: right;\">\n",
       "      <th></th>\n",
       "      <th>0</th>\n",
       "      <th>1</th>\n",
       "      <th>2</th>\n",
       "      <th>3</th>\n",
       "      <th>4</th>\n",
       "      <th>5</th>\n",
       "    </tr>\n",
       "  </thead>\n",
       "  <tbody>\n",
       "    <tr>\n",
       "      <th>0</th>\n",
       "      <td>75.8</td>\n",
       "      <td>0.399598</td>\n",
       "      <td>0.161477</td>\n",
       "      <td>12.9</td>\n",
       "      <td>18.6</td>\n",
       "      <td>0.434364</td>\n",
       "    </tr>\n",
       "    <tr>\n",
       "      <th>1</th>\n",
       "      <td>83.1</td>\n",
       "      <td>0.320025</td>\n",
       "      <td>0.539857</td>\n",
       "      <td>13.4</td>\n",
       "      <td>19.2</td>\n",
       "      <td>0.440511</td>\n",
       "    </tr>\n",
       "    <tr>\n",
       "      <th>2</th>\n",
       "      <td>46.2</td>\n",
       "      <td>-1.019618</td>\n",
       "      <td>-1.154696</td>\n",
       "      <td>26.7</td>\n",
       "      <td>45.3</td>\n",
       "      <td>0.319211</td>\n",
       "    </tr>\n",
       "    <tr>\n",
       "      <th>3</th>\n",
       "      <td>74.5</td>\n",
       "      <td>-0.576892</td>\n",
       "      <td>-0.895176</td>\n",
       "      <td>16.8</td>\n",
       "      <td>27.9</td>\n",
       "      <td>0.366926</td>\n",
       "    </tr>\n",
       "    <tr>\n",
       "      <th>4</th>\n",
       "      <td>87.9</td>\n",
       "      <td>-0.024067</td>\n",
       "      <td>-0.555878</td>\n",
       "      <td>16.7</td>\n",
       "      <td>27.2</td>\n",
       "      <td>0.384491</td>\n",
       "    </tr>\n",
       "  </tbody>\n",
       "</table>\n",
       "</div>"
      ],
      "text/plain": [
       "      0         1         2     3     4         5\n",
       "0  75.8  0.399598  0.161477  12.9  18.6  0.434364\n",
       "1  83.1  0.320025  0.539857  13.4  19.2  0.440511\n",
       "2  46.2 -1.019618 -1.154696  26.7  45.3  0.319211\n",
       "3  74.5 -0.576892 -0.895176  16.8  27.9  0.366926\n",
       "4  87.9 -0.024067 -0.555878  16.7  27.2  0.384491"
      ]
     },
     "execution_count": 66,
     "metadata": {
      "tags": []
     },
     "output_type": "execute_result"
    }
   ],
   "source": [
    "pd.DataFrame(selection).head()"
   ]
  },
  {
   "cell_type": "code",
   "execution_count": null,
   "metadata": {
    "collapsed": true,
    "id": "qx7WC-6Y3GBc",
    "outputId": "c1f7a346-2820-4004-a7f4-b2dfa99dede2"
   },
   "outputs": [
    {
     "data": {
      "text/html": [
       "<div>\n",
       "<style scoped>\n",
       "    .dataframe tbody tr th:only-of-type {\n",
       "        vertical-align: middle;\n",
       "    }\n",
       "\n",
       "    .dataframe tbody tr th {\n",
       "        vertical-align: top;\n",
       "    }\n",
       "\n",
       "    .dataframe thead th {\n",
       "        text-align: right;\n",
       "    }\n",
       "</style>\n",
       "<table border=\"1\" class=\"dataframe\">\n",
       "  <thead>\n",
       "    <tr style=\"text-align: right;\">\n",
       "      <th></th>\n",
       "      <th>TotalPop</th>\n",
       "      <th>Women</th>\n",
       "      <th>Hispanic</th>\n",
       "      <th>White</th>\n",
       "      <th>Black</th>\n",
       "      <th>Native</th>\n",
       "      <th>Asian</th>\n",
       "      <th>Pacific</th>\n",
       "      <th>Citizen</th>\n",
       "      <th>Income</th>\n",
       "      <th>...</th>\n",
       "      <th>Transit</th>\n",
       "      <th>Walk</th>\n",
       "      <th>OtherTransp</th>\n",
       "      <th>WorkAtHome</th>\n",
       "      <th>MeanCommute</th>\n",
       "      <th>Employed</th>\n",
       "      <th>PrivateWork</th>\n",
       "      <th>PublicWork</th>\n",
       "      <th>SelfEmployed</th>\n",
       "      <th>FamilyWork</th>\n",
       "    </tr>\n",
       "  </thead>\n",
       "  <tbody>\n",
       "    <tr>\n",
       "      <th>0</th>\n",
       "      <td>10.919099</td>\n",
       "      <td>0.515673</td>\n",
       "      <td>2.6</td>\n",
       "      <td>75.8</td>\n",
       "      <td>18.5</td>\n",
       "      <td>0.4</td>\n",
       "      <td>1.0</td>\n",
       "      <td>0.0</td>\n",
       "      <td>0.737491</td>\n",
       "      <td>0.399598</td>\n",
       "      <td>...</td>\n",
       "      <td>0.1</td>\n",
       "      <td>0.5</td>\n",
       "      <td>1.3</td>\n",
       "      <td>1.8</td>\n",
       "      <td>26.5</td>\n",
       "      <td>0.434364</td>\n",
       "      <td>73.6</td>\n",
       "      <td>20.9</td>\n",
       "      <td>5.5</td>\n",
       "      <td>0.0</td>\n",
       "    </tr>\n",
       "    <tr>\n",
       "      <th>1</th>\n",
       "      <td>12.181375</td>\n",
       "      <td>0.511513</td>\n",
       "      <td>4.5</td>\n",
       "      <td>83.1</td>\n",
       "      <td>9.5</td>\n",
       "      <td>0.6</td>\n",
       "      <td>0.7</td>\n",
       "      <td>0.0</td>\n",
       "      <td>0.756941</td>\n",
       "      <td>0.320025</td>\n",
       "      <td>...</td>\n",
       "      <td>0.1</td>\n",
       "      <td>1.0</td>\n",
       "      <td>1.4</td>\n",
       "      <td>3.9</td>\n",
       "      <td>26.4</td>\n",
       "      <td>0.440511</td>\n",
       "      <td>81.5</td>\n",
       "      <td>12.3</td>\n",
       "      <td>5.8</td>\n",
       "      <td>0.4</td>\n",
       "    </tr>\n",
       "    <tr>\n",
       "      <th>2</th>\n",
       "      <td>10.201070</td>\n",
       "      <td>0.461718</td>\n",
       "      <td>4.6</td>\n",
       "      <td>46.2</td>\n",
       "      <td>46.7</td>\n",
       "      <td>0.2</td>\n",
       "      <td>0.4</td>\n",
       "      <td>0.0</td>\n",
       "      <td>0.769122</td>\n",
       "      <td>-1.019618</td>\n",
       "      <td>...</td>\n",
       "      <td>0.4</td>\n",
       "      <td>1.8</td>\n",
       "      <td>1.5</td>\n",
       "      <td>1.6</td>\n",
       "      <td>24.1</td>\n",
       "      <td>0.319211</td>\n",
       "      <td>71.8</td>\n",
       "      <td>20.8</td>\n",
       "      <td>7.3</td>\n",
       "      <td>0.1</td>\n",
       "    </tr>\n",
       "    <tr>\n",
       "      <th>3</th>\n",
       "      <td>10.025882</td>\n",
       "      <td>0.465891</td>\n",
       "      <td>2.2</td>\n",
       "      <td>74.5</td>\n",
       "      <td>21.4</td>\n",
       "      <td>0.4</td>\n",
       "      <td>0.1</td>\n",
       "      <td>0.0</td>\n",
       "      <td>0.773978</td>\n",
       "      <td>-0.576892</td>\n",
       "      <td>...</td>\n",
       "      <td>0.5</td>\n",
       "      <td>0.6</td>\n",
       "      <td>1.5</td>\n",
       "      <td>0.7</td>\n",
       "      <td>28.8</td>\n",
       "      <td>0.366926</td>\n",
       "      <td>76.8</td>\n",
       "      <td>16.1</td>\n",
       "      <td>6.7</td>\n",
       "      <td>0.4</td>\n",
       "    </tr>\n",
       "    <tr>\n",
       "      <th>4</th>\n",
       "      <td>10.963186</td>\n",
       "      <td>0.505944</td>\n",
       "      <td>8.6</td>\n",
       "      <td>87.9</td>\n",
       "      <td>1.5</td>\n",
       "      <td>0.3</td>\n",
       "      <td>0.1</td>\n",
       "      <td>0.0</td>\n",
       "      <td>0.733755</td>\n",
       "      <td>-0.024067</td>\n",
       "      <td>...</td>\n",
       "      <td>0.4</td>\n",
       "      <td>0.9</td>\n",
       "      <td>0.4</td>\n",
       "      <td>2.3</td>\n",
       "      <td>34.9</td>\n",
       "      <td>0.384491</td>\n",
       "      <td>82.0</td>\n",
       "      <td>13.5</td>\n",
       "      <td>4.2</td>\n",
       "      <td>0.4</td>\n",
       "    </tr>\n",
       "  </tbody>\n",
       "</table>\n",
       "<p>5 rows × 32 columns</p>\n",
       "</div>"
      ],
      "text/plain": [
       "    TotalPop     Women  Hispanic  White  Black  Native  Asian  Pacific  \\\n",
       "0  10.919099  0.515673       2.6   75.8   18.5     0.4    1.0      0.0   \n",
       "1  12.181375  0.511513       4.5   83.1    9.5     0.6    0.7      0.0   \n",
       "2  10.201070  0.461718       4.6   46.2   46.7     0.2    0.4      0.0   \n",
       "3  10.025882  0.465891       2.2   74.5   21.4     0.4    0.1      0.0   \n",
       "4  10.963186  0.505944       8.6   87.9    1.5     0.3    0.1      0.0   \n",
       "\n",
       "    Citizen    Income  ...  Transit  Walk  OtherTransp  WorkAtHome  \\\n",
       "0  0.737491  0.399598  ...      0.1   0.5          1.3         1.8   \n",
       "1  0.756941  0.320025  ...      0.1   1.0          1.4         3.9   \n",
       "2  0.769122 -1.019618  ...      0.4   1.8          1.5         1.6   \n",
       "3  0.773978 -0.576892  ...      0.5   0.6          1.5         0.7   \n",
       "4  0.733755 -0.024067  ...      0.4   0.9          0.4         2.3   \n",
       "\n",
       "   MeanCommute  Employed  PrivateWork  PublicWork  SelfEmployed  FamilyWork  \n",
       "0         26.5  0.434364         73.6        20.9           5.5         0.0  \n",
       "1         26.4  0.440511         81.5        12.3           5.8         0.4  \n",
       "2         24.1  0.319211         71.8        20.8           7.3         0.1  \n",
       "3         28.8  0.366926         76.8        16.1           6.7         0.4  \n",
       "4         34.9  0.384491         82.0        13.5           4.2         0.4  \n",
       "\n",
       "[5 rows x 32 columns]"
      ]
     },
     "execution_count": 67,
     "metadata": {
      "tags": []
     },
     "output_type": "execute_result"
    }
   ],
   "source": [
    "X.head()"
   ]
  },
  {
   "cell_type": "code",
   "execution_count": null,
   "metadata": {
    "collapsed": true,
    "id": "fowok8e93GBh",
    "outputId": "f38eb97b-3341-4ed3-b89a-824c9e227e59"
   },
   "outputs": [
    {
     "data": {
      "text/plain": [
       "TotalPop           10.919099\n",
       "Women               0.515673\n",
       "Hispanic            2.600000\n",
       "White              75.800000\n",
       "Black              18.500000\n",
       "Native              0.400000\n",
       "Asian               1.000000\n",
       "Pacific             0.000000\n",
       "Citizen             0.737491\n",
       "Income              0.399598\n",
       "IncomeErr          -0.238760\n",
       "IncomePerCap        0.161477\n",
       "IncomePerCapErr    -0.268357\n",
       "Poverty            12.900000\n",
       "ChildPoverty       18.600000\n",
       "Professional       33.200000\n",
       "Service            17.000000\n",
       "Office             24.200000\n",
       "Construction        8.600000\n",
       "Production         17.100000\n",
       "Drive              87.500000\n",
       "Carpool             8.800000\n",
       "Transit             0.100000\n",
       "Walk                0.500000\n",
       "OtherTransp         1.300000\n",
       "WorkAtHome          1.800000\n",
       "MeanCommute        26.500000\n",
       "Employed            0.434364\n",
       "PrivateWork        73.600000\n",
       "PublicWork         20.900000\n",
       "SelfEmployed        5.500000\n",
       "FamilyWork          0.000000\n",
       "Name: 0, dtype: float64"
      ]
     },
     "execution_count": 68,
     "metadata": {
      "tags": []
     },
     "output_type": "execute_result"
    }
   ],
   "source": [
    "X.loc[0]"
   ]
  },
  {
   "cell_type": "markdown",
   "metadata": {
    "id": "HCSO6Nxz3GBl"
   },
   "source": [
    "This selection selected White, Income, Incomepercap, employed, poverty, childpoverty"
   ]
  },
  {
   "cell_type": "code",
   "execution_count": null,
   "metadata": {
    "id": "LvkRskVw3GBm",
    "outputId": "6b255d24-d15a-401e-a4fa-8c9306b1d68e"
   },
   "outputs": [
    {
     "data": {
      "text/plain": [
       "Income          0.509054\n",
       "White           0.540146\n",
       "IncomePerCap    0.547239\n",
       "ChildPoverty    0.678441\n",
       "Employed        0.698771\n",
       "Poverty         0.712419\n",
       "Unemployment    1.000000\n",
       "Name: Unemployment, dtype: float64"
      ]
     },
     "execution_count": 73,
     "metadata": {
      "tags": []
     },
     "output_type": "execute_result"
    }
   ],
   "source": [
    "df.corr().Unemployment.map(abs).sort_values().tail(7)"
   ]
  },
  {
   "cell_type": "code",
   "execution_count": null,
   "metadata": {
    "id": "BTbENScD3GBr"
   },
   "outputs": [],
   "source": [
    "from statsmodels.api import OLS, add_constant"
   ]
  },
  {
   "cell_type": "code",
   "execution_count": null,
   "metadata": {
    "id": "ztk8LPjr3GBu",
    "outputId": "4f2b745d-152d-4629-fd8c-817e85af89a8"
   },
   "outputs": [
    {
     "data": {
      "text/html": [
       "<table class=\"simpletable\">\n",
       "<caption>OLS Regression Results</caption>\n",
       "<tr>\n",
       "  <th>Dep. Variable:</th>      <td>Unemployment</td>   <th>  R-squared:         </th> <td>   0.603</td> \n",
       "</tr>\n",
       "<tr>\n",
       "  <th>Model:</th>                   <td>OLS</td>       <th>  Adj. R-squared:    </th> <td>   0.602</td> \n",
       "</tr>\n",
       "<tr>\n",
       "  <th>Method:</th>             <td>Least Squares</td>  <th>  F-statistic:       </th> <td>   813.6</td> \n",
       "</tr>\n",
       "<tr>\n",
       "  <th>Date:</th>             <td>Tue, 06 Oct 2020</td> <th>  Prob (F-statistic):</th>  <td>  0.00</td>  \n",
       "</tr>\n",
       "<tr>\n",
       "  <th>Time:</th>                 <td>12:50:12</td>     <th>  Log-Likelihood:    </th> <td> -7613.4</td> \n",
       "</tr>\n",
       "<tr>\n",
       "  <th>No. Observations:</th>      <td>  3218</td>      <th>  AIC:               </th> <td>1.524e+04</td>\n",
       "</tr>\n",
       "<tr>\n",
       "  <th>Df Residuals:</th>          <td>  3211</td>      <th>  BIC:               </th> <td>1.528e+04</td>\n",
       "</tr>\n",
       "<tr>\n",
       "  <th>Df Model:</th>              <td>     6</td>      <th>                     </th>     <td> </td>    \n",
       "</tr>\n",
       "<tr>\n",
       "  <th>Covariance Type:</th>      <td>nonrobust</td>    <th>                     </th>     <td> </td>    \n",
       "</tr>\n",
       "</table>\n",
       "<table class=\"simpletable\">\n",
       "<tr>\n",
       "    <td></td>       <th>coef</th>     <th>std err</th>      <th>t</th>      <th>P>|t|</th>  <th>[0.025</th>    <th>0.975]</th>  \n",
       "</tr>\n",
       "<tr>\n",
       "  <th>const</th> <td>   17.4132</td> <td>    0.653</td> <td>   26.684</td> <td> 0.000</td> <td>   16.134</td> <td>   18.693</td>\n",
       "</tr>\n",
       "<tr>\n",
       "  <th>x1</th>    <td>   -0.0209</td> <td>    0.003</td> <td>   -7.440</td> <td> 0.000</td> <td>   -0.026</td> <td>   -0.015</td>\n",
       "</tr>\n",
       "<tr>\n",
       "  <th>x2</th>    <td>    0.5813</td> <td>    0.114</td> <td>    5.086</td> <td> 0.000</td> <td>    0.357</td> <td>    0.805</td>\n",
       "</tr>\n",
       "<tr>\n",
       "  <th>x3</th>    <td>    0.2835</td> <td>    0.111</td> <td>    2.556</td> <td> 0.011</td> <td>    0.066</td> <td>    0.501</td>\n",
       "</tr>\n",
       "<tr>\n",
       "  <th>x4</th>    <td>    0.2337</td> <td>    0.017</td> <td>   13.432</td> <td> 0.000</td> <td>    0.200</td> <td>    0.268</td>\n",
       "</tr>\n",
       "<tr>\n",
       "  <th>x5</th>    <td>   -0.0058</td> <td>    0.011</td> <td>   -0.516</td> <td> 0.606</td> <td>   -0.028</td> <td>    0.016</td>\n",
       "</tr>\n",
       "<tr>\n",
       "  <th>x6</th>    <td>  -27.2099</td> <td>    1.120</td> <td>  -24.304</td> <td> 0.000</td> <td>  -29.405</td> <td>  -25.015</td>\n",
       "</tr>\n",
       "</table>\n",
       "<table class=\"simpletable\">\n",
       "<tr>\n",
       "  <th>Omnibus:</th>       <td>310.476</td> <th>  Durbin-Watson:     </th> <td>   1.655</td>\n",
       "</tr>\n",
       "<tr>\n",
       "  <th>Prob(Omnibus):</th> <td> 0.000</td>  <th>  Jarque-Bera (JB):  </th> <td>1940.676</td>\n",
       "</tr>\n",
       "<tr>\n",
       "  <th>Skew:</th>          <td>-0.215</td>  <th>  Prob(JB):          </th> <td>    0.00</td>\n",
       "</tr>\n",
       "<tr>\n",
       "  <th>Kurtosis:</th>      <td> 6.780</td>  <th>  Cond. No.          </th> <td>2.29e+03</td>\n",
       "</tr>\n",
       "</table><br/><br/>Notes:<br/>[1] Standard Errors assume that the covariance matrix of the errors is correctly specified.<br/>[2] The condition number is large, 2.29e+03. This might indicate that there are<br/>strong multicollinearity or other numerical problems."
      ],
      "text/plain": [
       "<class 'statsmodels.iolib.summary.Summary'>\n",
       "\"\"\"\n",
       "                            OLS Regression Results                            \n",
       "==============================================================================\n",
       "Dep. Variable:           Unemployment   R-squared:                       0.603\n",
       "Model:                            OLS   Adj. R-squared:                  0.602\n",
       "Method:                 Least Squares   F-statistic:                     813.6\n",
       "Date:                Tue, 06 Oct 2020   Prob (F-statistic):               0.00\n",
       "Time:                        12:50:12   Log-Likelihood:                -7613.4\n",
       "No. Observations:                3218   AIC:                         1.524e+04\n",
       "Df Residuals:                    3211   BIC:                         1.528e+04\n",
       "Df Model:                           6                                         \n",
       "Covariance Type:            nonrobust                                         \n",
       "==============================================================================\n",
       "                 coef    std err          t      P>|t|      [0.025      0.975]\n",
       "------------------------------------------------------------------------------\n",
       "const         17.4132      0.653     26.684      0.000      16.134      18.693\n",
       "x1            -0.0209      0.003     -7.440      0.000      -0.026      -0.015\n",
       "x2             0.5813      0.114      5.086      0.000       0.357       0.805\n",
       "x3             0.2835      0.111      2.556      0.011       0.066       0.501\n",
       "x4             0.2337      0.017     13.432      0.000       0.200       0.268\n",
       "x5            -0.0058      0.011     -0.516      0.606      -0.028       0.016\n",
       "x6           -27.2099      1.120    -24.304      0.000     -29.405     -25.015\n",
       "==============================================================================\n",
       "Omnibus:                      310.476   Durbin-Watson:                   1.655\n",
       "Prob(Omnibus):                  0.000   Jarque-Bera (JB):             1940.676\n",
       "Skew:                          -0.215   Prob(JB):                         0.00\n",
       "Kurtosis:                       6.780   Cond. No.                     2.29e+03\n",
       "==============================================================================\n",
       "\n",
       "Notes:\n",
       "[1] Standard Errors assume that the covariance matrix of the errors is correctly specified.\n",
       "[2] The condition number is large, 2.29e+03. This might indicate that there are\n",
       "strong multicollinearity or other numerical problems.\n",
       "\"\"\""
      ]
     },
     "execution_count": 169,
     "metadata": {
      "tags": []
     },
     "output_type": "execute_result"
    }
   ],
   "source": [
    "model0=OLS(y, add_constant(selection)).fit()\n",
    "model0.summary()"
   ]
  },
  {
   "cell_type": "markdown",
   "metadata": {
    "id": "zrNwl-4p3GBy"
   },
   "source": [
    "## Wrappers"
   ]
  },
  {
   "cell_type": "code",
   "execution_count": null,
   "metadata": {
    "collapsed": true,
    "id": "sBMBKiEa3GBz",
    "outputId": "252f32bc-09e7-4da8-e720-ae0d89863701"
   },
   "outputs": [
    {
     "name": "stdout",
     "output_type": "stream",
     "text": [
      "Requirement already up-to-date: mlxtend in /home/mauritian/yes/lib/python3.7/site-packages (0.17.3)\n",
      "Requirement already satisfied, skipping upgrade: setuptools in /home/mauritian/yes/lib/python3.7/site-packages (from mlxtend) (50.3.0)\n",
      "Requirement already satisfied, skipping upgrade: scikit-learn>=0.20.3 in /home/mauritian/yes/lib/python3.7/site-packages (from mlxtend) (0.23.2)\n",
      "Requirement already satisfied, skipping upgrade: scipy>=1.2.1 in /home/mauritian/yes/lib/python3.7/site-packages (from mlxtend) (1.5.2)\n",
      "Requirement already satisfied, skipping upgrade: matplotlib>=3.0.0 in /home/mauritian/yes/lib/python3.7/site-packages (from mlxtend) (3.3.2)\n",
      "Requirement already satisfied, skipping upgrade: pandas>=0.24.2 in /home/mauritian/yes/lib/python3.7/site-packages (from mlxtend) (1.1.2)\n",
      "Requirement already satisfied, skipping upgrade: joblib>=0.13.2 in /home/mauritian/yes/lib/python3.7/site-packages (from mlxtend) (0.16.0)\n",
      "Requirement already satisfied, skipping upgrade: numpy>=1.16.2 in /home/mauritian/yes/lib/python3.7/site-packages (from mlxtend) (1.19.2)\n",
      "Requirement already satisfied, skipping upgrade: threadpoolctl>=2.0.0 in /home/mauritian/yes/lib/python3.7/site-packages (from scikit-learn>=0.20.3->mlxtend) (2.1.0)\n",
      "Requirement already satisfied, skipping upgrade: pillow>=6.2.0 in /home/mauritian/yes/lib/python3.7/site-packages (from matplotlib>=3.0.0->mlxtend) (7.2.0)\n",
      "Requirement already satisfied, skipping upgrade: cycler>=0.10 in /home/mauritian/yes/lib/python3.7/site-packages (from matplotlib>=3.0.0->mlxtend) (0.10.0)\n",
      "Requirement already satisfied, skipping upgrade: kiwisolver>=1.0.1 in /home/mauritian/yes/lib/python3.7/site-packages (from matplotlib>=3.0.0->mlxtend) (1.2.0)\n",
      "Requirement already satisfied, skipping upgrade: pyparsing!=2.0.4,!=2.1.2,!=2.1.6,>=2.0.3 in /home/mauritian/yes/lib/python3.7/site-packages (from matplotlib>=3.0.0->mlxtend) (2.4.7)\n",
      "Requirement already satisfied, skipping upgrade: python-dateutil>=2.1 in /home/mauritian/yes/lib/python3.7/site-packages (from matplotlib>=3.0.0->mlxtend) (2.8.1)\n",
      "Requirement already satisfied, skipping upgrade: certifi>=2020.06.20 in /home/mauritian/yes/lib/python3.7/site-packages (from matplotlib>=3.0.0->mlxtend) (2020.6.20)\n",
      "Requirement already satisfied, skipping upgrade: pytz>=2017.2 in /home/mauritian/yes/lib/python3.7/site-packages (from pandas>=0.24.2->mlxtend) (2020.1)\n",
      "Requirement already satisfied, skipping upgrade: six in /home/mauritian/yes/lib/python3.7/site-packages (from cycler>=0.10->matplotlib>=3.0.0->mlxtend) (1.15.0)\n"
     ]
    }
   ],
   "source": [
    "!pip install --upgrade mlxtend"
   ]
  },
  {
   "cell_type": "markdown",
   "metadata": {
    "id": "sB2Hoo153GB2"
   },
   "source": [
    "### RFE"
   ]
  },
  {
   "cell_type": "code",
   "execution_count": null,
   "metadata": {
    "id": "jOyVHZzT3GB3"
   },
   "outputs": [],
   "source": [
    "from sklearn.feature_selection import RFE\n",
    "from mlxtend.feature_selection import SequentialFeatureSelector as sfs"
   ]
  },
  {
   "cell_type": "code",
   "execution_count": null,
   "metadata": {
    "id": "jvJs-0I23GB8"
   },
   "outputs": [],
   "source": [
    "from sklearn.linear_model import LinearRegression"
   ]
  },
  {
   "cell_type": "code",
   "execution_count": null,
   "metadata": {
    "id": "DAMVWJPu3GB_"
   },
   "outputs": [],
   "source": [
    "estimator=LinearRegression()\n",
    "selector_w1=RFE(estimator, n_features_to_select=6)\n",
    "selector_w1.fit(X,y)"
   ]
  },
  {
   "cell_type": "code",
   "execution_count": null,
   "metadata": {
    "id": "VCDF34fF3GCE",
    "outputId": "e4cf42b8-e19d-44fe-c81f-8a1fd7a9a2a7"
   },
   "outputs": [
    {
     "data": {
      "text/plain": [
       "array([ 1,  1, 24, 27, 23, 21, 26, 25,  1,  1, 19, 17, 18,  5, 22, 16, 14,\n",
       "       12, 15, 13,  6,  9,  7, 10, 11,  8, 20,  1,  3,  4,  1,  2])"
      ]
     },
     "execution_count": 82,
     "metadata": {
      "tags": []
     },
     "output_type": "execute_result"
    }
   ],
   "source": [
    "selector_w1.ranking_"
   ]
  },
  {
   "cell_type": "code",
   "execution_count": null,
   "metadata": {
    "id": "eUD7Uso_3GCJ",
    "outputId": "2313decb-e36b-4614-b505-c2372153b2a2"
   },
   "outputs": [
    {
     "data": {
      "text/plain": [
       "array([ True,  True, False, False, False, False, False, False,  True,\n",
       "        True, False, False, False, False, False, False, False, False,\n",
       "       False, False, False, False, False, False, False, False, False,\n",
       "        True, False, False,  True, False])"
      ]
     },
     "execution_count": 83,
     "metadata": {
      "tags": []
     },
     "output_type": "execute_result"
    }
   ],
   "source": [
    "selector_w1.support_"
   ]
  },
  {
   "cell_type": "code",
   "execution_count": null,
   "metadata": {
    "id": "PvmYqmzp3GCO"
   },
   "outputs": [],
   "source": [
    "selection_2=X.columns[selector_w1.support_]"
   ]
  },
  {
   "cell_type": "code",
   "execution_count": null,
   "metadata": {
    "id": "BiuJMbGL3GCV",
    "outputId": "b9d2a217-aca7-4a94-930c-738237340b78"
   },
   "outputs": [
    {
     "data": {
      "text/html": [
       "<table class=\"simpletable\">\n",
       "<caption>OLS Regression Results</caption>\n",
       "<tr>\n",
       "  <th>Dep. Variable:</th>      <td>Unemployment</td>   <th>  R-squared:         </th> <td>   0.579</td> \n",
       "</tr>\n",
       "<tr>\n",
       "  <th>Model:</th>                   <td>OLS</td>       <th>  Adj. R-squared:    </th> <td>   0.578</td> \n",
       "</tr>\n",
       "<tr>\n",
       "  <th>Method:</th>             <td>Least Squares</td>  <th>  F-statistic:       </th> <td>   736.4</td> \n",
       "</tr>\n",
       "<tr>\n",
       "  <th>Date:</th>             <td>Tue, 06 Oct 2020</td> <th>  Prob (F-statistic):</th>  <td>  0.00</td>  \n",
       "</tr>\n",
       "<tr>\n",
       "  <th>Time:</th>                 <td>12:49:47</td>     <th>  Log-Likelihood:    </th> <td> -7708.2</td> \n",
       "</tr>\n",
       "<tr>\n",
       "  <th>No. Observations:</th>      <td>  3218</td>      <th>  AIC:               </th> <td>1.543e+04</td>\n",
       "</tr>\n",
       "<tr>\n",
       "  <th>Df Residuals:</th>          <td>  3211</td>      <th>  BIC:               </th> <td>1.547e+04</td>\n",
       "</tr>\n",
       "<tr>\n",
       "  <th>Df Model:</th>              <td>     6</td>      <th>                     </th>     <td> </td>    \n",
       "</tr>\n",
       "<tr>\n",
       "  <th>Covariance Type:</th>      <td>nonrobust</td>    <th>                     </th>     <td> </td>    \n",
       "</tr>\n",
       "</table>\n",
       "<table class=\"simpletable\">\n",
       "<tr>\n",
       "        <td></td>          <th>coef</th>     <th>std err</th>      <th>t</th>      <th>P>|t|</th>  <th>[0.025</th>    <th>0.975]</th>  \n",
       "</tr>\n",
       "<tr>\n",
       "  <th>const</th>        <td>    8.8500</td> <td>    1.271</td> <td>    6.966</td> <td> 0.000</td> <td>    6.359</td> <td>   11.341</td>\n",
       "</tr>\n",
       "<tr>\n",
       "  <th>TotalPop</th>     <td>    0.5124</td> <td>    0.043</td> <td>   11.853</td> <td> 0.000</td> <td>    0.428</td> <td>    0.597</td>\n",
       "</tr>\n",
       "<tr>\n",
       "  <th>Women</th>        <td>   24.3809</td> <td>    2.148</td> <td>   11.352</td> <td> 0.000</td> <td>   20.170</td> <td>   28.592</td>\n",
       "</tr>\n",
       "<tr>\n",
       "  <th>Citizen</th>      <td>   -1.3783</td> <td>    0.934</td> <td>   -1.475</td> <td> 0.140</td> <td>   -3.211</td> <td>    0.454</td>\n",
       "</tr>\n",
       "<tr>\n",
       "  <th>Income</th>       <td>   -0.4448</td> <td>    0.076</td> <td>   -5.862</td> <td> 0.000</td> <td>   -0.594</td> <td>   -0.296</td>\n",
       "</tr>\n",
       "<tr>\n",
       "  <th>Employed</th>     <td>  -38.3847</td> <td>    1.050</td> <td>  -36.566</td> <td> 0.000</td> <td>  -40.443</td> <td>  -36.326</td>\n",
       "</tr>\n",
       "<tr>\n",
       "  <th>SelfEmployed</th> <td>   -0.0867</td> <td>    0.015</td> <td>   -5.800</td> <td> 0.000</td> <td>   -0.116</td> <td>   -0.057</td>\n",
       "</tr>\n",
       "</table>\n",
       "<table class=\"simpletable\">\n",
       "<tr>\n",
       "  <th>Omnibus:</th>       <td>1028.037</td> <th>  Durbin-Watson:     </th> <td>   1.607</td>\n",
       "</tr>\n",
       "<tr>\n",
       "  <th>Prob(Omnibus):</th>  <td> 0.000</td>  <th>  Jarque-Bera (JB):  </th> <td>7112.695</td>\n",
       "</tr>\n",
       "<tr>\n",
       "  <th>Skew:</th>           <td> 1.337</td>  <th>  Prob(JB):          </th> <td>    0.00</td>\n",
       "</tr>\n",
       "<tr>\n",
       "  <th>Kurtosis:</th>       <td> 9.775</td>  <th>  Cond. No.          </th> <td>    664.</td>\n",
       "</tr>\n",
       "</table><br/><br/>Notes:<br/>[1] Standard Errors assume that the covariance matrix of the errors is correctly specified."
      ],
      "text/plain": [
       "<class 'statsmodels.iolib.summary.Summary'>\n",
       "\"\"\"\n",
       "                            OLS Regression Results                            \n",
       "==============================================================================\n",
       "Dep. Variable:           Unemployment   R-squared:                       0.579\n",
       "Model:                            OLS   Adj. R-squared:                  0.578\n",
       "Method:                 Least Squares   F-statistic:                     736.4\n",
       "Date:                Tue, 06 Oct 2020   Prob (F-statistic):               0.00\n",
       "Time:                        12:49:47   Log-Likelihood:                -7708.2\n",
       "No. Observations:                3218   AIC:                         1.543e+04\n",
       "Df Residuals:                    3211   BIC:                         1.547e+04\n",
       "Df Model:                           6                                         \n",
       "Covariance Type:            nonrobust                                         \n",
       "================================================================================\n",
       "                   coef    std err          t      P>|t|      [0.025      0.975]\n",
       "--------------------------------------------------------------------------------\n",
       "const            8.8500      1.271      6.966      0.000       6.359      11.341\n",
       "TotalPop         0.5124      0.043     11.853      0.000       0.428       0.597\n",
       "Women           24.3809      2.148     11.352      0.000      20.170      28.592\n",
       "Citizen         -1.3783      0.934     -1.475      0.140      -3.211       0.454\n",
       "Income          -0.4448      0.076     -5.862      0.000      -0.594      -0.296\n",
       "Employed       -38.3847      1.050    -36.566      0.000     -40.443     -36.326\n",
       "SelfEmployed    -0.0867      0.015     -5.800      0.000      -0.116      -0.057\n",
       "==============================================================================\n",
       "Omnibus:                     1028.037   Durbin-Watson:                   1.607\n",
       "Prob(Omnibus):                  0.000   Jarque-Bera (JB):             7112.695\n",
       "Skew:                           1.337   Prob(JB):                         0.00\n",
       "Kurtosis:                       9.775   Cond. No.                         664.\n",
       "==============================================================================\n",
       "\n",
       "Notes:\n",
       "[1] Standard Errors assume that the covariance matrix of the errors is correctly specified.\n",
       "\"\"\""
      ]
     },
     "execution_count": 167,
     "metadata": {
      "tags": []
     },
     "output_type": "execute_result"
    }
   ],
   "source": [
    "model1=OLS(y, add_constant(X[selection_2])).fit()\n",
    "model1.summary()"
   ]
  },
  {
   "cell_type": "markdown",
   "metadata": {
    "id": "MfybgtC33GCb"
   },
   "source": [
    "### SFS"
   ]
  },
  {
   "cell_type": "code",
   "execution_count": null,
   "metadata": {
    "id": "GVF9OVzj3GCc"
   },
   "outputs": [],
   "source": [
    "estimator=LinearRegression()\n",
    "sfs1=sfs(estimator, \n",
    "         k_features=6,\n",
    "         forward=True,\n",
    "         floating=False,\n",
    "         scoring='neg_mean_squared_error', #default - R2\n",
    "        )"
   ]
  },
  {
   "cell_type": "code",
   "execution_count": null,
   "metadata": {
    "id": "l1vCC8hO3GCf",
    "outputId": "555cd5dc-ada0-4bd4-d10b-9fb58086e5c9"
   },
   "outputs": [
    {
     "data": {
      "text/plain": [
       "SequentialFeatureSelector(estimator=LinearRegression(), k_features=6,\n",
       "                          scoring='neg_mean_squared_error')"
      ]
     },
     "execution_count": 97,
     "metadata": {
      "tags": []
     },
     "output_type": "execute_result"
    }
   ],
   "source": [
    "sfs1.fit(X,y)"
   ]
  },
  {
   "cell_type": "code",
   "execution_count": null,
   "metadata": {
    "id": "-rzLIMax3GCi",
    "outputId": "4eeee898-ad27-45b0-cf9b-0db27f3fa523"
   },
   "outputs": [
    {
     "data": {
      "text/plain": [
       "{1: {'feature_idx': (13,),\n",
       "  'cv_scores': array([-10.35341613,  -4.78443041,  -8.1074134 ,  -7.84937545,\n",
       "         -11.27085145]),\n",
       "  'avg_score': -8.473097368177344,\n",
       "  'feature_names': ('Poverty',),\n",
       "  'ci_bound': 2.902142738630842,\n",
       "  'std_dev': 2.2579656459821114,\n",
       "  'std_err': 1.128982822991056},\n",
       " 2: {'feature_idx': (13, 27),\n",
       "  'cv_scores': array([ -8.6057062 ,  -3.98359448,  -6.48919243,  -6.80429779,\n",
       "         -10.70745268]),\n",
       "  'avg_score': -7.3180487172668975,\n",
       "  'feature_names': ('Poverty', 'Employed'),\n",
       "  'ci_bound': 2.8863667304168494,\n",
       "  'std_dev': 2.245691375628776,\n",
       "  'std_err': 1.1228456878143878},\n",
       " 3: {'feature_idx': (0, 13, 27),\n",
       "  'cv_scores': array([ -8.15512306,  -3.20630653,  -5.0489789 ,  -5.68453784,\n",
       "         -10.19491027]),\n",
       "  'avg_score': -6.457971318338669,\n",
       "  'feature_names': ('TotalPop', 'Poverty', 'Employed'),\n",
       "  'ci_bound': 3.148402397066505,\n",
       "  'std_dev': 2.4495640264950373,\n",
       "  'std_err': 1.2247820132475187},\n",
       " 4: {'feature_idx': (0, 5, 13, 27),\n",
       "  'cv_scores': array([ -7.55522414,  -3.13691447,  -5.12150355,  -5.60344859,\n",
       "         -10.26959416]),\n",
       "  'avg_score': -6.3373369829840245,\n",
       "  'feature_names': ('TotalPop', 'Native', 'Poverty', 'Employed'),\n",
       "  'ci_bound': 3.1063353275281558,\n",
       "  'std_dev': 2.4168344172375877,\n",
       "  'std_err': 1.2084172086187939},\n",
       " 5: {'feature_idx': (0, 5, 13, 26, 27),\n",
       "  'cv_scores': array([-7.58978657, -3.09342982, -4.90325045, -5.38914412, -9.75481512]),\n",
       "  'avg_score': -6.146085218380838,\n",
       "  'feature_names': ('TotalPop',\n",
       "   'Native',\n",
       "   'Poverty',\n",
       "   'MeanCommute',\n",
       "   'Employed'),\n",
       "  'ci_bound': 2.961389945644419,\n",
       "  'std_dev': 2.304061985861025,\n",
       "  'std_err': 1.1520309929305126},\n",
       " 6: {'feature_idx': (0, 5, 13, 24, 26, 27),\n",
       "  'cv_scores': array([-7.32684721, -3.20885038, -4.87185587, -5.15006366, -9.72125297]),\n",
       "  'avg_score': -6.055774018024157,\n",
       "  'feature_names': ('TotalPop',\n",
       "   'Native',\n",
       "   'Poverty',\n",
       "   'OtherTransp',\n",
       "   'MeanCommute',\n",
       "   'Employed'),\n",
       "  'ci_bound': 2.895661493123759,\n",
       "  'std_dev': 2.25292301678839,\n",
       "  'std_err': 1.126461508394195}}"
      ]
     },
     "execution_count": 98,
     "metadata": {
      "tags": []
     },
     "output_type": "execute_result"
    }
   ],
   "source": [
    "sfs1.get_metric_dict()"
   ]
  },
  {
   "cell_type": "code",
   "execution_count": null,
   "metadata": {
    "id": "7I7bj1wO3GCo"
   },
   "outputs": [],
   "source": [
    "from mlxtend.plotting import plot_sequential_feature_selection as plot_sfs"
   ]
  },
  {
   "cell_type": "code",
   "execution_count": null,
   "metadata": {
    "id": "QhDfku-x3GCr",
    "outputId": "a955cd8c-06c8-4d92-a063-197008f5532a"
   },
   "outputs": [
    {
     "data": {
      "image/png": "[encoded data removed]",
      "text/plain": [
       "<Figure size 432x288 with 1 Axes>"
      ]
     },
     "metadata": {
      "needs_background": "light",
      "tags": []
     },
     "output_type": "display_data"
    }
   ],
   "source": [
    "fig=plot_sfs(sfs1.get_metric_dict(), kind='std_err')\n",
    "plt.title('Sequential Forward Selection (w. StandardError)')\n",
    "plt.show()"
   ]
  },
  {
   "cell_type": "code",
   "execution_count": null,
   "metadata": {
    "id": "q34az-Qx3GCz",
    "outputId": "58347b0c-b115-4eaf-ae6d-42b05093d868"
   },
   "outputs": [
    {
     "data": {
      "text/plain": [
       "(0, 5, 13, 24, 26, 27)"
      ]
     },
     "execution_count": 102,
     "metadata": {
      "tags": []
     },
     "output_type": "execute_result"
    }
   ],
   "source": [
    "sfs1.k_feature_idx_"
   ]
  },
  {
   "cell_type": "code",
   "execution_count": null,
   "metadata": {
    "id": "fgX22rVC3GC2",
    "outputId": "a700e5c5-054a-412a-8eef-8d337b2300cd"
   },
   "outputs": [
    {
     "data": {
      "text/plain": [
       "('TotalPop', 'Native', 'Poverty', 'OtherTransp', 'MeanCommute', 'Employed')"
      ]
     },
     "execution_count": 103,
     "metadata": {
      "tags": []
     },
     "output_type": "execute_result"
    }
   ],
   "source": [
    "sfs1.k_feature_names_"
   ]
  },
  {
   "cell_type": "code",
   "execution_count": null,
   "metadata": {
    "id": "SFjm2L7c3GC6",
    "outputId": "69e35d9a-d39d-40ab-d92c-9f321cdf9c46"
   },
   "outputs": [
    {
     "data": {
      "text/plain": [
       "-6.055774018024157"
      ]
     },
     "execution_count": 104,
     "metadata": {
      "tags": []
     },
     "output_type": "execute_result"
    }
   ],
   "source": [
    "sfs1.k_score_"
   ]
  },
  {
   "cell_type": "code",
   "execution_count": null,
   "metadata": {
    "id": "Cw5d1b1l3GC9",
    "outputId": "50011dfd-5d1c-46c8-fc88-45cd8b20927c"
   },
   "outputs": [
    {
     "data": {
      "text/html": [
       "<table class=\"simpletable\">\n",
       "<caption>OLS Regression Results</caption>\n",
       "<tr>\n",
       "  <th>Dep. Variable:</th>      <td>Unemployment</td>   <th>  R-squared:         </th> <td>   0.649</td> \n",
       "</tr>\n",
       "<tr>\n",
       "  <th>Model:</th>                   <td>OLS</td>       <th>  Adj. R-squared:    </th> <td>   0.649</td> \n",
       "</tr>\n",
       "<tr>\n",
       "  <th>Method:</th>             <td>Least Squares</td>  <th>  F-statistic:       </th> <td>   990.8</td> \n",
       "</tr>\n",
       "<tr>\n",
       "  <th>Date:</th>             <td>Tue, 06 Oct 2020</td> <th>  Prob (F-statistic):</th>  <td>  0.00</td>  \n",
       "</tr>\n",
       "<tr>\n",
       "  <th>Time:</th>                 <td>12:49:11</td>     <th>  Log-Likelihood:    </th> <td> -7414.9</td> \n",
       "</tr>\n",
       "<tr>\n",
       "  <th>No. Observations:</th>      <td>  3218</td>      <th>  AIC:               </th> <td>1.484e+04</td>\n",
       "</tr>\n",
       "<tr>\n",
       "  <th>Df Residuals:</th>          <td>  3211</td>      <th>  BIC:               </th> <td>1.489e+04</td>\n",
       "</tr>\n",
       "<tr>\n",
       "  <th>Df Model:</th>              <td>     6</td>      <th>                     </th>     <td> </td>    \n",
       "</tr>\n",
       "<tr>\n",
       "  <th>Covariance Type:</th>      <td>nonrobust</td>    <th>                     </th>     <td> </td>    \n",
       "</tr>\n",
       "</table>\n",
       "<table class=\"simpletable\">\n",
       "<tr>\n",
       "       <td></td>          <th>coef</th>     <th>std err</th>      <th>t</th>      <th>P>|t|</th>  <th>[0.025</th>    <th>0.975]</th>  \n",
       "</tr>\n",
       "<tr>\n",
       "  <th>const</th>       <td>    2.6802</td> <td>    0.983</td> <td>    2.725</td> <td> 0.006</td> <td>    0.752</td> <td>    4.608</td>\n",
       "</tr>\n",
       "<tr>\n",
       "  <th>TotalPop</th>    <td>    0.5934</td> <td>    0.032</td> <td>   18.267</td> <td> 0.000</td> <td>    0.530</td> <td>    0.657</td>\n",
       "</tr>\n",
       "<tr>\n",
       "  <th>Native</th>      <td>    0.0806</td> <td>    0.006</td> <td>   12.927</td> <td> 0.000</td> <td>    0.068</td> <td>    0.093</td>\n",
       "</tr>\n",
       "<tr>\n",
       "  <th>Citizen</th>     <td>    3.2698</td> <td>    0.863</td> <td>    3.791</td> <td> 0.000</td> <td>    1.579</td> <td>    4.961</td>\n",
       "</tr>\n",
       "<tr>\n",
       "  <th>Poverty</th>     <td>    0.2075</td> <td>    0.008</td> <td>   26.576</td> <td> 0.000</td> <td>    0.192</td> <td>    0.223</td>\n",
       "</tr>\n",
       "<tr>\n",
       "  <th>MeanCommute</th> <td>    0.0939</td> <td>    0.009</td> <td>   10.874</td> <td> 0.000</td> <td>    0.077</td> <td>    0.111</td>\n",
       "</tr>\n",
       "<tr>\n",
       "  <th>Employed</th>    <td>  -21.1363</td> <td>    0.975</td> <td>  -21.680</td> <td> 0.000</td> <td>  -23.048</td> <td>  -19.225</td>\n",
       "</tr>\n",
       "</table>\n",
       "<table class=\"simpletable\">\n",
       "<tr>\n",
       "  <th>Omnibus:</th>       <td>424.389</td> <th>  Durbin-Watson:     </th> <td>   1.749</td>\n",
       "</tr>\n",
       "<tr>\n",
       "  <th>Prob(Omnibus):</th> <td> 0.000</td>  <th>  Jarque-Bera (JB):  </th> <td>3385.297</td>\n",
       "</tr>\n",
       "<tr>\n",
       "  <th>Skew:</th>          <td> 0.360</td>  <th>  Prob(JB):          </th> <td>    0.00</td>\n",
       "</tr>\n",
       "<tr>\n",
       "  <th>Kurtosis:</th>      <td> 7.973</td>  <th>  Cond. No.          </th> <td>    998.</td>\n",
       "</tr>\n",
       "</table><br/><br/>Notes:<br/>[1] Standard Errors assume that the covariance matrix of the errors is correctly specified."
      ],
      "text/plain": [
       "<class 'statsmodels.iolib.summary.Summary'>\n",
       "\"\"\"\n",
       "                            OLS Regression Results                            \n",
       "==============================================================================\n",
       "Dep. Variable:           Unemployment   R-squared:                       0.649\n",
       "Model:                            OLS   Adj. R-squared:                  0.649\n",
       "Method:                 Least Squares   F-statistic:                     990.8\n",
       "Date:                Tue, 06 Oct 2020   Prob (F-statistic):               0.00\n",
       "Time:                        12:49:11   Log-Likelihood:                -7414.9\n",
       "No. Observations:                3218   AIC:                         1.484e+04\n",
       "Df Residuals:                    3211   BIC:                         1.489e+04\n",
       "Df Model:                           6                                         \n",
       "Covariance Type:            nonrobust                                         \n",
       "===============================================================================\n",
       "                  coef    std err          t      P>|t|      [0.025      0.975]\n",
       "-------------------------------------------------------------------------------\n",
       "const           2.6802      0.983      2.725      0.006       0.752       4.608\n",
       "TotalPop        0.5934      0.032     18.267      0.000       0.530       0.657\n",
       "Native          0.0806      0.006     12.927      0.000       0.068       0.093\n",
       "Citizen         3.2698      0.863      3.791      0.000       1.579       4.961\n",
       "Poverty         0.2075      0.008     26.576      0.000       0.192       0.223\n",
       "MeanCommute     0.0939      0.009     10.874      0.000       0.077       0.111\n",
       "Employed      -21.1363      0.975    -21.680      0.000     -23.048     -19.225\n",
       "==============================================================================\n",
       "Omnibus:                      424.389   Durbin-Watson:                   1.749\n",
       "Prob(Omnibus):                  0.000   Jarque-Bera (JB):             3385.297\n",
       "Skew:                           0.360   Prob(JB):                         0.00\n",
       "Kurtosis:                       7.973   Cond. No.                         998.\n",
       "==============================================================================\n",
       "\n",
       "Notes:\n",
       "[1] Standard Errors assume that the covariance matrix of the errors is correctly specified.\n",
       "\"\"\""
      ]
     },
     "execution_count": 165,
     "metadata": {
      "tags": []
     },
     "output_type": "execute_result"
    }
   ],
   "source": [
    "model2=OLS(y, add_constant(X[list(sfs1.k_feature_names_)])).fit()\n",
    "model2.summary()"
   ]
  },
  {
   "cell_type": "code",
   "execution_count": null,
   "metadata": {
    "id": "-o7Ok5qx3GDA"
   },
   "outputs": [],
   "source": [
    "estimator=LinearRegression()\n",
    "sfs1=sfs(estimator, \n",
    "         k_features=6,\n",
    "         forward=False,\n",
    "         floating=True,\n",
    "         scoring='neg_mean_squared_error', #default - R2\n",
    "        )"
   ]
  },
  {
   "cell_type": "code",
   "execution_count": null,
   "metadata": {
    "id": "mmrQCy393GDF",
    "outputId": "674f331b-cd52-44b8-f505-07e89f722cbe"
   },
   "outputs": [
    {
     "data": {
      "text/plain": [
       "{32: {'feature_idx': (0,\n",
       "   1,\n",
       "   2,\n",
       "   3,\n",
       "   4,\n",
       "   5,\n",
       "   6,\n",
       "   7,\n",
       "   8,\n",
       "   9,\n",
       "   10,\n",
       "   11,\n",
       "   12,\n",
       "   13,\n",
       "   14,\n",
       "   15,\n",
       "   16,\n",
       "   17,\n",
       "   18,\n",
       "   19,\n",
       "   20,\n",
       "   21,\n",
       "   22,\n",
       "   23,\n",
       "   24,\n",
       "   25,\n",
       "   26,\n",
       "   27,\n",
       "   28,\n",
       "   29,\n",
       "   30,\n",
       "   31),\n",
       "  'cv_scores': array([-7.07269207, -2.99266026, -4.65470015, -5.33752378, -9.90275559]),\n",
       "  'avg_score': -5.992066370464889,\n",
       "  'feature_names': ('TotalPop',\n",
       "   'Women',\n",
       "   'Hispanic',\n",
       "   'White',\n",
       "   'Black',\n",
       "   'Native',\n",
       "   'Asian',\n",
       "   'Pacific',\n",
       "   'Citizen',\n",
       "   'Income',\n",
       "   'IncomeErr',\n",
       "   'IncomePerCap',\n",
       "   'IncomePerCapErr',\n",
       "   'Poverty',\n",
       "   'ChildPoverty',\n",
       "   'Professional',\n",
       "   'Service',\n",
       "   'Office',\n",
       "   'Construction',\n",
       "   'Production',\n",
       "   'Drive',\n",
       "   'Carpool',\n",
       "   'Transit',\n",
       "   'Walk',\n",
       "   'OtherTransp',\n",
       "   'WorkAtHome',\n",
       "   'MeanCommute',\n",
       "   'Employed',\n",
       "   'PrivateWork',\n",
       "   'PublicWork',\n",
       "   'SelfEmployed',\n",
       "   'FamilyWork'),\n",
       "  'ci_bound': 3.0238311259115274,\n",
       "  'std_dev': 2.352643345440955,\n",
       "  'std_err': 1.1763216727204775},\n",
       " 31: {'feature_idx': (0,\n",
       "   1,\n",
       "   2,\n",
       "   4,\n",
       "   5,\n",
       "   6,\n",
       "   7,\n",
       "   8,\n",
       "   9,\n",
       "   10,\n",
       "   11,\n",
       "   12,\n",
       "   13,\n",
       "   14,\n",
       "   15,\n",
       "   16,\n",
       "   17,\n",
       "   18,\n",
       "   19,\n",
       "   20,\n",
       "   21,\n",
       "   22,\n",
       "   23,\n",
       "   24,\n",
       "   25,\n",
       "   26,\n",
       "   27,\n",
       "   28,\n",
       "   29,\n",
       "   30,\n",
       "   31),\n",
       "  'cv_scores': array([-6.88076642, -2.98530404, -4.65290735, -4.6669881 , -9.83974123]),\n",
       "  'avg_score': -5.80514143003201,\n",
       "  'feature_names': ('TotalPop',\n",
       "   'Women',\n",
       "   'Hispanic',\n",
       "   'Black',\n",
       "   'Native',\n",
       "   'Asian',\n",
       "   'Pacific',\n",
       "   'Citizen',\n",
       "   'Income',\n",
       "   'IncomeErr',\n",
       "   'IncomePerCap',\n",
       "   'IncomePerCapErr',\n",
       "   'Poverty',\n",
       "   'ChildPoverty',\n",
       "   'Professional',\n",
       "   'Service',\n",
       "   'Office',\n",
       "   'Construction',\n",
       "   'Production',\n",
       "   'Drive',\n",
       "   'Carpool',\n",
       "   'Transit',\n",
       "   'Walk',\n",
       "   'OtherTransp',\n",
       "   'WorkAtHome',\n",
       "   'MeanCommute',\n",
       "   'Employed',\n",
       "   'PrivateWork',\n",
       "   'PublicWork',\n",
       "   'SelfEmployed',\n",
       "   'FamilyWork'),\n",
       "  'ci_bound': 3.042068510536798,\n",
       "  'std_dev': 2.366832650263312,\n",
       "  'std_err': 1.183416325131656},\n",
       " 30: {'feature_idx': (0,\n",
       "   1,\n",
       "   2,\n",
       "   4,\n",
       "   5,\n",
       "   6,\n",
       "   7,\n",
       "   8,\n",
       "   9,\n",
       "   11,\n",
       "   12,\n",
       "   13,\n",
       "   14,\n",
       "   15,\n",
       "   16,\n",
       "   17,\n",
       "   18,\n",
       "   19,\n",
       "   20,\n",
       "   21,\n",
       "   22,\n",
       "   23,\n",
       "   24,\n",
       "   25,\n",
       "   26,\n",
       "   27,\n",
       "   28,\n",
       "   29,\n",
       "   30,\n",
       "   31),\n",
       "  'cv_scores': array([-6.86646505, -2.97727847, -4.67213651, -4.6718341 , -9.7777832 ]),\n",
       "  'avg_score': -5.793099463406916,\n",
       "  'feature_names': ('TotalPop',\n",
       "   'Women',\n",
       "   'Hispanic',\n",
       "   'Black',\n",
       "   'Native',\n",
       "   'Asian',\n",
       "   'Pacific',\n",
       "   'Citizen',\n",
       "   'Income',\n",
       "   'IncomePerCap',\n",
       "   'IncomePerCapErr',\n",
       "   'Poverty',\n",
       "   'ChildPoverty',\n",
       "   'Professional',\n",
       "   'Service',\n",
       "   'Office',\n",
       "   'Construction',\n",
       "   'Production',\n",
       "   'Drive',\n",
       "   'Carpool',\n",
       "   'Transit',\n",
       "   'Walk',\n",
       "   'OtherTransp',\n",
       "   'WorkAtHome',\n",
       "   'MeanCommute',\n",
       "   'Employed',\n",
       "   'PrivateWork',\n",
       "   'PublicWork',\n",
       "   'SelfEmployed',\n",
       "   'FamilyWork'),\n",
       "  'ci_bound': 3.0127646822140677,\n",
       "  'std_dev': 2.3440332762808667,\n",
       "  'std_err': 1.1720166381404333},\n",
       " 29: {'feature_idx': (0,\n",
       "   1,\n",
       "   2,\n",
       "   4,\n",
       "   5,\n",
       "   7,\n",
       "   8,\n",
       "   9,\n",
       "   11,\n",
       "   12,\n",
       "   13,\n",
       "   14,\n",
       "   15,\n",
       "   16,\n",
       "   17,\n",
       "   18,\n",
       "   19,\n",
       "   20,\n",
       "   21,\n",
       "   22,\n",
       "   23,\n",
       "   24,\n",
       "   25,\n",
       "   26,\n",
       "   27,\n",
       "   28,\n",
       "   29,\n",
       "   30,\n",
       "   31),\n",
       "  'cv_scores': array([-6.82935951, -2.97714189, -4.66950396, -4.67168438, -9.77389907]),\n",
       "  'avg_score': -5.784317760856629,\n",
       "  'feature_names': ('TotalPop',\n",
       "   'Women',\n",
       "   'Hispanic',\n",
       "   'Black',\n",
       "   'Native',\n",
       "   'Pacific',\n",
       "   'Citizen',\n",
       "   'Income',\n",
       "   'IncomePerCap',\n",
       "   'IncomePerCapErr',\n",
       "   'Poverty',\n",
       "   'ChildPoverty',\n",
       "   'Professional',\n",
       "   'Service',\n",
       "   'Office',\n",
       "   'Construction',\n",
       "   'Production',\n",
       "   'Drive',\n",
       "   'Carpool',\n",
       "   'Transit',\n",
       "   'Walk',\n",
       "   'OtherTransp',\n",
       "   'WorkAtHome',\n",
       "   'MeanCommute',\n",
       "   'Employed',\n",
       "   'PrivateWork',\n",
       "   'PublicWork',\n",
       "   'SelfEmployed',\n",
       "   'FamilyWork'),\n",
       "  'ci_bound': 3.007134185664129,\n",
       "  'std_dev': 2.339652558678541,\n",
       "  'std_err': 1.1698262793392704},\n",
       " 28: {'feature_idx': (0,\n",
       "   1,\n",
       "   2,\n",
       "   4,\n",
       "   5,\n",
       "   8,\n",
       "   9,\n",
       "   11,\n",
       "   12,\n",
       "   13,\n",
       "   14,\n",
       "   15,\n",
       "   16,\n",
       "   17,\n",
       "   18,\n",
       "   19,\n",
       "   20,\n",
       "   21,\n",
       "   22,\n",
       "   23,\n",
       "   24,\n",
       "   25,\n",
       "   26,\n",
       "   27,\n",
       "   28,\n",
       "   29,\n",
       "   30,\n",
       "   31),\n",
       "  'cv_scores': array([-6.82798889, -2.97707159, -4.6694488 , -4.67038098, -9.74006695]),\n",
       "  'avg_score': -5.776991442438928,\n",
       "  'feature_names': ('TotalPop',\n",
       "   'Women',\n",
       "   'Hispanic',\n",
       "   'Black',\n",
       "   'Native',\n",
       "   'Citizen',\n",
       "   'Income',\n",
       "   'IncomePerCap',\n",
       "   'IncomePerCapErr',\n",
       "   'Poverty',\n",
       "   'ChildPoverty',\n",
       "   'Professional',\n",
       "   'Service',\n",
       "   'Office',\n",
       "   'Construction',\n",
       "   'Production',\n",
       "   'Drive',\n",
       "   'Carpool',\n",
       "   'Transit',\n",
       "   'Walk',\n",
       "   'OtherTransp',\n",
       "   'WorkAtHome',\n",
       "   'MeanCommute',\n",
       "   'Employed',\n",
       "   'PrivateWork',\n",
       "   'PublicWork',\n",
       "   'SelfEmployed',\n",
       "   'FamilyWork'),\n",
       "  'ci_bound': 2.992346717222378,\n",
       "  'std_dev': 2.328147405851954,\n",
       "  'std_err': 1.1640737029259767},\n",
       " 27: {'feature_idx': (0,\n",
       "   1,\n",
       "   2,\n",
       "   4,\n",
       "   5,\n",
       "   8,\n",
       "   9,\n",
       "   11,\n",
       "   12,\n",
       "   13,\n",
       "   14,\n",
       "   15,\n",
       "   16,\n",
       "   17,\n",
       "   18,\n",
       "   19,\n",
       "   20,\n",
       "   21,\n",
       "   23,\n",
       "   24,\n",
       "   25,\n",
       "   26,\n",
       "   27,\n",
       "   28,\n",
       "   29,\n",
       "   30,\n",
       "   31),\n",
       "  'cv_scores': array([-6.81575303, -2.97772095, -4.67009657, -4.66537262, -9.73169996]),\n",
       "  'avg_score': -5.77212862570309,\n",
       "  'feature_names': ('TotalPop',\n",
       "   'Women',\n",
       "   'Hispanic',\n",
       "   'Black',\n",
       "   'Native',\n",
       "   'Citizen',\n",
       "   'Income',\n",
       "   'IncomePerCap',\n",
       "   'IncomePerCapErr',\n",
       "   'Poverty',\n",
       "   'ChildPoverty',\n",
       "   'Professional',\n",
       "   'Service',\n",
       "   'Office',\n",
       "   'Construction',\n",
       "   'Production',\n",
       "   'Drive',\n",
       "   'Carpool',\n",
       "   'Walk',\n",
       "   'OtherTransp',\n",
       "   'WorkAtHome',\n",
       "   'MeanCommute',\n",
       "   'Employed',\n",
       "   'PrivateWork',\n",
       "   'PublicWork',\n",
       "   'SelfEmployed',\n",
       "   'FamilyWork'),\n",
       "  'ci_bound': 2.987600881177459,\n",
       "  'std_dev': 2.3244549841773585,\n",
       "  'std_err': 1.162227492088679},\n",
       " 26: {'feature_idx': (0,\n",
       "   1,\n",
       "   2,\n",
       "   4,\n",
       "   5,\n",
       "   8,\n",
       "   9,\n",
       "   11,\n",
       "   12,\n",
       "   13,\n",
       "   14,\n",
       "   15,\n",
       "   16,\n",
       "   17,\n",
       "   18,\n",
       "   19,\n",
       "   21,\n",
       "   23,\n",
       "   24,\n",
       "   25,\n",
       "   26,\n",
       "   27,\n",
       "   28,\n",
       "   29,\n",
       "   30,\n",
       "   31),\n",
       "  'cv_scores': array([-6.77573187, -2.97644897, -4.47689914, -4.6604557 , -9.72161575]),\n",
       "  'avg_score': -5.722230284750623,\n",
       "  'feature_names': ('TotalPop',\n",
       "   'Women',\n",
       "   'Hispanic',\n",
       "   'Black',\n",
       "   'Native',\n",
       "   'Citizen',\n",
       "   'Income',\n",
       "   'IncomePerCap',\n",
       "   'IncomePerCapErr',\n",
       "   'Poverty',\n",
       "   'ChildPoverty',\n",
       "   'Professional',\n",
       "   'Service',\n",
       "   'Office',\n",
       "   'Construction',\n",
       "   'Production',\n",
       "   'Carpool',\n",
       "   'Walk',\n",
       "   'OtherTransp',\n",
       "   'WorkAtHome',\n",
       "   'MeanCommute',\n",
       "   'Employed',\n",
       "   'PrivateWork',\n",
       "   'PublicWork',\n",
       "   'SelfEmployed',\n",
       "   'FamilyWork'),\n",
       "  'ci_bound': 3.004529635409766,\n",
       "  'std_dev': 2.3376261300955137,\n",
       "  'std_err': 1.1688130650477568},\n",
       " 25: {'feature_idx': (0,\n",
       "   1,\n",
       "   2,\n",
       "   4,\n",
       "   5,\n",
       "   8,\n",
       "   9,\n",
       "   11,\n",
       "   12,\n",
       "   13,\n",
       "   14,\n",
       "   15,\n",
       "   16,\n",
       "   17,\n",
       "   18,\n",
       "   19,\n",
       "   21,\n",
       "   23,\n",
       "   24,\n",
       "   26,\n",
       "   27,\n",
       "   28,\n",
       "   29,\n",
       "   30,\n",
       "   31),\n",
       "  'cv_scores': array([-6.78435836, -2.95663884, -4.48517666, -4.69249869, -9.53286985]),\n",
       "  'avg_score': -5.690308480244617,\n",
       "  'feature_names': ('TotalPop',\n",
       "   'Women',\n",
       "   'Hispanic',\n",
       "   'Black',\n",
       "   'Native',\n",
       "   'Citizen',\n",
       "   'Income',\n",
       "   'IncomePerCap',\n",
       "   'IncomePerCapErr',\n",
       "   'Poverty',\n",
       "   'ChildPoverty',\n",
       "   'Professional',\n",
       "   'Service',\n",
       "   'Office',\n",
       "   'Construction',\n",
       "   'Production',\n",
       "   'Carpool',\n",
       "   'Walk',\n",
       "   'OtherTransp',\n",
       "   'MeanCommute',\n",
       "   'Employed',\n",
       "   'PrivateWork',\n",
       "   'PublicWork',\n",
       "   'SelfEmployed',\n",
       "   'FamilyWork'),\n",
       "  'ci_bound': 2.924320145540893,\n",
       "  'std_dev': 2.2752204219975347,\n",
       "  'std_err': 1.1376102109987674},\n",
       " 24: {'feature_idx': (0,\n",
       "   1,\n",
       "   2,\n",
       "   4,\n",
       "   5,\n",
       "   8,\n",
       "   9,\n",
       "   11,\n",
       "   12,\n",
       "   13,\n",
       "   14,\n",
       "   15,\n",
       "   16,\n",
       "   17,\n",
       "   18,\n",
       "   19,\n",
       "   21,\n",
       "   23,\n",
       "   24,\n",
       "   26,\n",
       "   27,\n",
       "   28,\n",
       "   29,\n",
       "   30),\n",
       "  'cv_scores': array([-6.78469978, -2.95757783, -4.48591771, -4.69076704, -9.51675611]),\n",
       "  'avg_score': -5.687143692676537,\n",
       "  'feature_names': ('TotalPop',\n",
       "   'Women',\n",
       "   'Hispanic',\n",
       "   'Black',\n",
       "   'Native',\n",
       "   'Citizen',\n",
       "   'Income',\n",
       "   'IncomePerCap',\n",
       "   'IncomePerCapErr',\n",
       "   'Poverty',\n",
       "   'ChildPoverty',\n",
       "   'Professional',\n",
       "   'Service',\n",
       "   'Office',\n",
       "   'Construction',\n",
       "   'Production',\n",
       "   'Carpool',\n",
       "   'Walk',\n",
       "   'OtherTransp',\n",
       "   'MeanCommute',\n",
       "   'Employed',\n",
       "   'PrivateWork',\n",
       "   'PublicWork',\n",
       "   'SelfEmployed'),\n",
       "  'ci_bound': 2.9171744134017006,\n",
       "  'std_dev': 2.2696607996292366,\n",
       "  'std_err': 1.1348303998146183},\n",
       " 23: {'feature_idx': (0,\n",
       "   1,\n",
       "   2,\n",
       "   4,\n",
       "   5,\n",
       "   8,\n",
       "   9,\n",
       "   11,\n",
       "   12,\n",
       "   13,\n",
       "   14,\n",
       "   15,\n",
       "   16,\n",
       "   17,\n",
       "   18,\n",
       "   19,\n",
       "   21,\n",
       "   23,\n",
       "   24,\n",
       "   26,\n",
       "   27,\n",
       "   28,\n",
       "   30),\n",
       "  'cv_scores': array([-6.76484835, -2.96139509, -4.39947335, -4.67520967, -9.48702679]),\n",
       "  'avg_score': -5.657590652441532,\n",
       "  'feature_names': ('TotalPop',\n",
       "   'Women',\n",
       "   'Hispanic',\n",
       "   'Black',\n",
       "   'Native',\n",
       "   'Citizen',\n",
       "   'Income',\n",
       "   'IncomePerCap',\n",
       "   'IncomePerCapErr',\n",
       "   'Poverty',\n",
       "   'ChildPoverty',\n",
       "   'Professional',\n",
       "   'Service',\n",
       "   'Office',\n",
       "   'Construction',\n",
       "   'Production',\n",
       "   'Carpool',\n",
       "   'Walk',\n",
       "   'OtherTransp',\n",
       "   'MeanCommute',\n",
       "   'Employed',\n",
       "   'PrivateWork',\n",
       "   'SelfEmployed'),\n",
       "  'ci_bound': 2.9144097171162477,\n",
       "  'std_dev': 2.2675097719933346,\n",
       "  'std_err': 1.1337548859966673},\n",
       " 22: {'feature_idx': (0,\n",
       "   1,\n",
       "   2,\n",
       "   4,\n",
       "   5,\n",
       "   8,\n",
       "   9,\n",
       "   11,\n",
       "   12,\n",
       "   13,\n",
       "   14,\n",
       "   15,\n",
       "   16,\n",
       "   17,\n",
       "   18,\n",
       "   19,\n",
       "   21,\n",
       "   23,\n",
       "   24,\n",
       "   26,\n",
       "   27,\n",
       "   30),\n",
       "  'cv_scores': array([-6.76103176, -2.92064327, -4.38507167, -4.66601511, -9.47819819]),\n",
       "  'avg_score': -5.6421920012432984,\n",
       "  'feature_names': ('TotalPop',\n",
       "   'Women',\n",
       "   'Hispanic',\n",
       "   'Black',\n",
       "   'Native',\n",
       "   'Citizen',\n",
       "   'Income',\n",
       "   'IncomePerCap',\n",
       "   'IncomePerCapErr',\n",
       "   'Poverty',\n",
       "   'ChildPoverty',\n",
       "   'Professional',\n",
       "   'Service',\n",
       "   'Office',\n",
       "   'Construction',\n",
       "   'Production',\n",
       "   'Carpool',\n",
       "   'Walk',\n",
       "   'OtherTransp',\n",
       "   'MeanCommute',\n",
       "   'Employed',\n",
       "   'SelfEmployed'),\n",
       "  'ci_bound': 2.92565903152036,\n",
       "  'std_dev': 2.2762621207759177,\n",
       "  'std_err': 1.1381310603879589},\n",
       " 21: {'feature_idx': (0,\n",
       "   1,\n",
       "   2,\n",
       "   4,\n",
       "   5,\n",
       "   8,\n",
       "   9,\n",
       "   12,\n",
       "   13,\n",
       "   14,\n",
       "   15,\n",
       "   16,\n",
       "   17,\n",
       "   18,\n",
       "   19,\n",
       "   21,\n",
       "   23,\n",
       "   24,\n",
       "   26,\n",
       "   27,\n",
       "   30),\n",
       "  'cv_scores': array([-6.8264076 , -2.92855736, -4.36298537, -4.57632631, -9.48777604]),\n",
       "  'avg_score': -5.6364105377261025,\n",
       "  'feature_names': ('TotalPop',\n",
       "   'Women',\n",
       "   'Hispanic',\n",
       "   'Black',\n",
       "   'Native',\n",
       "   'Citizen',\n",
       "   'Income',\n",
       "   'IncomePerCapErr',\n",
       "   'Poverty',\n",
       "   'ChildPoverty',\n",
       "   'Professional',\n",
       "   'Service',\n",
       "   'Office',\n",
       "   'Construction',\n",
       "   'Production',\n",
       "   'Carpool',\n",
       "   'Walk',\n",
       "   'OtherTransp',\n",
       "   'MeanCommute',\n",
       "   'Employed',\n",
       "   'SelfEmployed'),\n",
       "  'ci_bound': 2.949285813354299,\n",
       "  'std_dev': 2.294644559722155,\n",
       "  'std_err': 1.1473222798610776},\n",
       " 20: {'feature_idx': (0,\n",
       "   1,\n",
       "   3,\n",
       "   5,\n",
       "   8,\n",
       "   9,\n",
       "   10,\n",
       "   11,\n",
       "   12,\n",
       "   13,\n",
       "   14,\n",
       "   15,\n",
       "   16,\n",
       "   18,\n",
       "   21,\n",
       "   23,\n",
       "   24,\n",
       "   26,\n",
       "   27,\n",
       "   30),\n",
       "  'cv_scores': array([-6.66194927, -2.82159185, -4.4380816 , -4.76561638, -9.30897158]),\n",
       "  'avg_score': -5.5992421373273285,\n",
       "  'feature_names': ('TotalPop',\n",
       "   'Women',\n",
       "   'White',\n",
       "   'Native',\n",
       "   'Citizen',\n",
       "   'Income',\n",
       "   'IncomeErr',\n",
       "   'IncomePerCap',\n",
       "   'IncomePerCapErr',\n",
       "   'Poverty',\n",
       "   'ChildPoverty',\n",
       "   'Professional',\n",
       "   'Service',\n",
       "   'Construction',\n",
       "   'Carpool',\n",
       "   'Walk',\n",
       "   'OtherTransp',\n",
       "   'MeanCommute',\n",
       "   'Employed',\n",
       "   'SelfEmployed'),\n",
       "  'ci_bound': 2.853809305622651,\n",
       "  'std_dev': 2.2203605930561623,\n",
       "  'std_err': 1.1101802965280811},\n",
       " 19: {'feature_idx': (0,\n",
       "   1,\n",
       "   3,\n",
       "   5,\n",
       "   8,\n",
       "   10,\n",
       "   11,\n",
       "   12,\n",
       "   13,\n",
       "   14,\n",
       "   15,\n",
       "   16,\n",
       "   18,\n",
       "   21,\n",
       "   23,\n",
       "   24,\n",
       "   26,\n",
       "   27,\n",
       "   30),\n",
       "  'cv_scores': array([-6.66419401, -2.82253548, -4.43304738, -4.76679388, -9.25267683]),\n",
       "  'avg_score': -5.587849514734942,\n",
       "  'feature_names': ('TotalPop',\n",
       "   'Women',\n",
       "   'White',\n",
       "   'Native',\n",
       "   'Citizen',\n",
       "   'IncomeErr',\n",
       "   'IncomePerCap',\n",
       "   'IncomePerCapErr',\n",
       "   'Poverty',\n",
       "   'ChildPoverty',\n",
       "   'Professional',\n",
       "   'Service',\n",
       "   'Construction',\n",
       "   'Carpool',\n",
       "   'Walk',\n",
       "   'OtherTransp',\n",
       "   'MeanCommute',\n",
       "   'Employed',\n",
       "   'SelfEmployed'),\n",
       "  'ci_bound': 2.8302175359380364,\n",
       "  'std_dev': 2.202005394751577,\n",
       "  'std_err': 1.1010026973757885},\n",
       " 18: {'feature_idx': (0,\n",
       "   1,\n",
       "   3,\n",
       "   5,\n",
       "   8,\n",
       "   11,\n",
       "   12,\n",
       "   13,\n",
       "   14,\n",
       "   15,\n",
       "   16,\n",
       "   18,\n",
       "   21,\n",
       "   23,\n",
       "   24,\n",
       "   26,\n",
       "   27,\n",
       "   30),\n",
       "  'cv_scores': array([-6.65860805, -2.80700845, -4.45074358, -4.77981315, -9.23971876]),\n",
       "  'avg_score': -5.587178397469293,\n",
       "  'feature_names': ('TotalPop',\n",
       "   'Women',\n",
       "   'White',\n",
       "   'Native',\n",
       "   'Citizen',\n",
       "   'IncomePerCap',\n",
       "   'IncomePerCapErr',\n",
       "   'Poverty',\n",
       "   'ChildPoverty',\n",
       "   'Professional',\n",
       "   'Service',\n",
       "   'Construction',\n",
       "   'Carpool',\n",
       "   'Walk',\n",
       "   'OtherTransp',\n",
       "   'MeanCommute',\n",
       "   'Employed',\n",
       "   'SelfEmployed'),\n",
       "  'ci_bound': 2.8254004061602975,\n",
       "  'std_dev': 2.198257504130765,\n",
       "  'std_err': 1.0991287520653825},\n",
       " 17: {'feature_idx': (0,\n",
       "   1,\n",
       "   3,\n",
       "   5,\n",
       "   8,\n",
       "   11,\n",
       "   12,\n",
       "   13,\n",
       "   14,\n",
       "   15,\n",
       "   18,\n",
       "   21,\n",
       "   23,\n",
       "   24,\n",
       "   26,\n",
       "   27,\n",
       "   30),\n",
       "  'cv_scores': array([-6.70311172, -2.79896193, -4.45368312, -4.78182058, -9.22464629]),\n",
       "  'avg_score': -5.592444727166992,\n",
       "  'feature_names': ('TotalPop',\n",
       "   'Women',\n",
       "   'White',\n",
       "   'Native',\n",
       "   'Citizen',\n",
       "   'IncomePerCap',\n",
       "   'IncomePerCapErr',\n",
       "   'Poverty',\n",
       "   'ChildPoverty',\n",
       "   'Professional',\n",
       "   'Construction',\n",
       "   'Carpool',\n",
       "   'Walk',\n",
       "   'OtherTransp',\n",
       "   'MeanCommute',\n",
       "   'Employed',\n",
       "   'SelfEmployed'),\n",
       "  'ci_bound': 2.8266995542192963,\n",
       "  'std_dev': 2.1992682854569954,\n",
       "  'std_err': 1.0996341427284977},\n",
       " 16: {'feature_idx': (0,\n",
       "   1,\n",
       "   3,\n",
       "   5,\n",
       "   8,\n",
       "   11,\n",
       "   12,\n",
       "   13,\n",
       "   15,\n",
       "   18,\n",
       "   21,\n",
       "   23,\n",
       "   24,\n",
       "   26,\n",
       "   27,\n",
       "   30),\n",
       "  'cv_scores': array([-6.74276726, -2.7864298 , -4.42468076, -4.75527918, -9.27891321]),\n",
       "  'avg_score': -5.59761403989331,\n",
       "  'feature_names': ('TotalPop',\n",
       "   'Women',\n",
       "   'White',\n",
       "   'Native',\n",
       "   'Citizen',\n",
       "   'IncomePerCap',\n",
       "   'IncomePerCapErr',\n",
       "   'Poverty',\n",
       "   'Professional',\n",
       "   'Construction',\n",
       "   'Carpool',\n",
       "   'Walk',\n",
       "   'OtherTransp',\n",
       "   'MeanCommute',\n",
       "   'Employed',\n",
       "   'SelfEmployed'),\n",
       "  'ci_bound': 2.8654434287209636,\n",
       "  'std_dev': 2.2294123360760496,\n",
       "  'std_err': 1.1147061680380246},\n",
       " 15: {'feature_idx': (0, 1, 3, 5, 8, 11, 12, 13, 15, 18, 23, 24, 26, 27, 30),\n",
       "  'cv_scores': array([-6.76550419, -2.76593776, -4.45865172, -4.72915185, -9.30943865]),\n",
       "  'avg_score': -5.6057368342637215,\n",
       "  'feature_names': ('TotalPop',\n",
       "   'Women',\n",
       "   'White',\n",
       "   'Native',\n",
       "   'Citizen',\n",
       "   'IncomePerCap',\n",
       "   'IncomePerCapErr',\n",
       "   'Poverty',\n",
       "   'Professional',\n",
       "   'Construction',\n",
       "   'Walk',\n",
       "   'OtherTransp',\n",
       "   'MeanCommute',\n",
       "   'Employed',\n",
       "   'SelfEmployed'),\n",
       "  'ci_bound': 2.8861081911304707,\n",
       "  'std_dev': 2.2454902232805436,\n",
       "  'std_err': 1.1227451116402718},\n",
       " 14: {'feature_idx': (0, 1, 3, 5, 8, 9, 13, 15, 18, 23, 24, 26, 27, 30),\n",
       "  'cv_scores': array([-6.77249318, -2.78118033, -4.44924597, -4.6691887 , -9.41603226]),\n",
       "  'avg_score': -5.617628088336877,\n",
       "  'feature_names': ('TotalPop',\n",
       "   'Women',\n",
       "   'White',\n",
       "   'Native',\n",
       "   'Citizen',\n",
       "   'Income',\n",
       "   'Poverty',\n",
       "   'Professional',\n",
       "   'Construction',\n",
       "   'Walk',\n",
       "   'OtherTransp',\n",
       "   'MeanCommute',\n",
       "   'Employed',\n",
       "   'SelfEmployed'),\n",
       "  'ci_bound': 2.9349514748412666,\n",
       "  'std_dev': 2.283491957374424,\n",
       "  'std_err': 1.141745978687212},\n",
       " 13: {'feature_idx': (0, 1, 3, 5, 8, 13, 15, 18, 23, 24, 26, 27, 30),\n",
       "  'cv_scores': array([-6.86457011, -2.7846796 , -4.49577236, -4.65154957, -9.38286107]),\n",
       "  'avg_score': -5.635886544102893,\n",
       "  'feature_names': ('TotalPop',\n",
       "   'Women',\n",
       "   'White',\n",
       "   'Native',\n",
       "   'Citizen',\n",
       "   'Poverty',\n",
       "   'Professional',\n",
       "   'Construction',\n",
       "   'Walk',\n",
       "   'OtherTransp',\n",
       "   'MeanCommute',\n",
       "   'Employed',\n",
       "   'SelfEmployed'),\n",
       "  'ci_bound': 2.927961663283813,\n",
       "  'std_dev': 2.2780536465158536,\n",
       "  'std_err': 1.1390268232579266},\n",
       " 12: {'feature_idx': (0, 1, 3, 5, 8, 13, 15, 18, 23, 26, 27, 30),\n",
       "  'cv_scores': array([-7.04183479, -2.74514759, -4.51306825, -4.67540943, -9.42767266]),\n",
       "  'avg_score': -5.680626543802534,\n",
       "  'feature_names': ('TotalPop',\n",
       "   'Women',\n",
       "   'White',\n",
       "   'Native',\n",
       "   'Citizen',\n",
       "   'Poverty',\n",
       "   'Professional',\n",
       "   'Construction',\n",
       "   'Walk',\n",
       "   'MeanCommute',\n",
       "   'Employed',\n",
       "   'SelfEmployed'),\n",
       "  'ci_bound': 2.9803195965599403,\n",
       "  'std_dev': 2.3187898973757584,\n",
       "  'std_err': 1.1593949486878792},\n",
       " 11: {'feature_idx': (0, 1, 3, 5, 13, 15, 18, 23, 26, 27, 30),\n",
       "  'cv_scores': array([-7.03435314, -2.76251931, -4.57201898, -4.63622946, -9.59945658]),\n",
       "  'avg_score': -5.720915492448164,\n",
       "  'feature_names': ('TotalPop',\n",
       "   'Women',\n",
       "   'White',\n",
       "   'Native',\n",
       "   'Poverty',\n",
       "   'Professional',\n",
       "   'Construction',\n",
       "   'Walk',\n",
       "   'MeanCommute',\n",
       "   'Employed',\n",
       "   'SelfEmployed'),\n",
       "  'ci_bound': 3.04246655548737,\n",
       "  'std_dev': 2.3671423427577523,\n",
       "  'std_err': 1.1835711713788761},\n",
       " 10: {'feature_idx': (0, 3, 5, 8, 13, 19, 24, 26, 27, 30),\n",
       "  'cv_scores': array([-6.68690872, -2.99168498, -4.62883813, -4.95764734, -9.5181463 ]),\n",
       "  'avg_score': -5.756645093604581,\n",
       "  'feature_names': ('TotalPop',\n",
       "   'White',\n",
       "   'Native',\n",
       "   'Citizen',\n",
       "   'Poverty',\n",
       "   'Production',\n",
       "   'OtherTransp',\n",
       "   'MeanCommute',\n",
       "   'Employed',\n",
       "   'SelfEmployed'),\n",
       "  'ci_bound': 2.849152948152569,\n",
       "  'std_dev': 2.216737788752672,\n",
       "  'std_err': 1.1083688943763357},\n",
       " 9: {'feature_idx': (0, 3, 5, 8, 13, 19, 24, 26, 27),\n",
       "  'cv_scores': array([-6.73370265, -3.0127579 , -4.67620173, -5.01684226, -9.5276993 ]),\n",
       "  'avg_score': -5.793440768506803,\n",
       "  'feature_names': ('TotalPop',\n",
       "   'White',\n",
       "   'Native',\n",
       "   'Citizen',\n",
       "   'Poverty',\n",
       "   'Production',\n",
       "   'OtherTransp',\n",
       "   'MeanCommute',\n",
       "   'Employed'),\n",
       "  'ci_bound': 2.8400162693665196,\n",
       "  'std_dev': 2.209629142254117,\n",
       "  'std_err': 1.1048145711270585},\n",
       " 8: {'feature_idx': (0, 3, 5, 8, 13, 19, 26, 27),\n",
       "  'cv_scores': array([-7.06946597, -2.92802046, -4.70567114, -5.19984155, -9.57744072]),\n",
       "  'avg_score': -5.896087970355824,\n",
       "  'feature_names': ('TotalPop',\n",
       "   'White',\n",
       "   'Native',\n",
       "   'Citizen',\n",
       "   'Poverty',\n",
       "   'Production',\n",
       "   'MeanCommute',\n",
       "   'Employed'),\n",
       "  'ci_bound': 2.9105781084048354,\n",
       "  'std_dev': 2.2645286502435145,\n",
       "  'std_err': 1.1322643251217572},\n",
       " 7: {'feature_idx': (0, 3, 5, 8, 13, 26, 27),\n",
       "  'cv_scores': array([-7.16950134, -3.03922188, -4.80330188, -5.3310699 , -9.67267061]),\n",
       "  'avg_score': -6.0031531190921985,\n",
       "  'feature_names': ('TotalPop',\n",
       "   'White',\n",
       "   'Native',\n",
       "   'Citizen',\n",
       "   'Poverty',\n",
       "   'MeanCommute',\n",
       "   'Employed'),\n",
       "  'ci_bound': 2.902706770167833,\n",
       "  'std_dev': 2.258404481679896,\n",
       "  'std_err': 1.129202240839948},\n",
       " 6: {'feature_idx': (0, 5, 8, 13, 26, 27),\n",
       "  'cv_scores': array([-7.63017483, -3.07916574, -4.92852698, -5.36468053, -9.6709979 ]),\n",
       "  'avg_score': -6.134709195950906,\n",
       "  'feature_names': ('TotalPop',\n",
       "   'Native',\n",
       "   'Citizen',\n",
       "   'Poverty',\n",
       "   'MeanCommute',\n",
       "   'Employed'),\n",
       "  'ci_bound': 2.9380030322014346,\n",
       "  'std_dev': 2.285866172672068,\n",
       "  'std_err': 1.1429330863360339}}"
      ]
     },
     "execution_count": 113,
     "metadata": {
      "tags": []
     },
     "output_type": "execute_result"
    }
   ],
   "source": [
    "sfs1.fit(X,y)\n",
    "sfs1.get_metric_dict()"
   ]
  },
  {
   "cell_type": "code",
   "execution_count": null,
   "metadata": {
    "id": "xnW7Mr0T3GDJ",
    "outputId": "c925293f-71ca-432e-87b0-a250b07e4bfc"
   },
   "outputs": [
    {
     "data": {
      "image/png": "[encoded data removed]",
      "text/plain": [
       "<Figure size 432x288 with 1 Axes>"
      ]
     },
     "metadata": {
      "needs_background": "light",
      "tags": []
     },
     "output_type": "display_data"
    }
   ],
   "source": [
    "fig=plot_sfs(sfs1.get_metric_dict(), kind='std_err')\n",
    "plt.title('Sequential Backward Floating Selection (w. StandardError)')\n",
    "plt.show()"
   ]
  },
  {
   "cell_type": "code",
   "execution_count": null,
   "metadata": {
    "id": "BF5sx8g23GDO",
    "outputId": "5eadcb56-3f80-4974-af66-bd6e2742525c"
   },
   "outputs": [
    {
     "data": {
      "text/plain": [
       "('TotalPop', 'Native', 'Citizen', 'Poverty', 'MeanCommute', 'Employed')"
      ]
     },
     "execution_count": 115,
     "metadata": {
      "tags": []
     },
     "output_type": "execute_result"
    }
   ],
   "source": [
    "sfs1.k_feature_names_"
   ]
  },
  {
   "cell_type": "code",
   "execution_count": null,
   "metadata": {
    "id": "DKvU_6n73GDS",
    "outputId": "e73fee38-eefb-4e2f-8435-8eaf9c5bb0a4"
   },
   "outputs": [
    {
     "data": {
      "text/html": [
       "<table class=\"simpletable\">\n",
       "<caption>OLS Regression Results</caption>\n",
       "<tr>\n",
       "  <th>Dep. Variable:</th>      <td>Unemployment</td>   <th>  R-squared:         </th> <td>   0.649</td> \n",
       "</tr>\n",
       "<tr>\n",
       "  <th>Model:</th>                   <td>OLS</td>       <th>  Adj. R-squared:    </th> <td>   0.649</td> \n",
       "</tr>\n",
       "<tr>\n",
       "  <th>Method:</th>             <td>Least Squares</td>  <th>  F-statistic:       </th> <td>   990.8</td> \n",
       "</tr>\n",
       "<tr>\n",
       "  <th>Date:</th>             <td>Tue, 06 Oct 2020</td> <th>  Prob (F-statistic):</th>  <td>  0.00</td>  \n",
       "</tr>\n",
       "<tr>\n",
       "  <th>Time:</th>                 <td>12:47:44</td>     <th>  Log-Likelihood:    </th> <td> -7414.9</td> \n",
       "</tr>\n",
       "<tr>\n",
       "  <th>No. Observations:</th>      <td>  3218</td>      <th>  AIC:               </th> <td>1.484e+04</td>\n",
       "</tr>\n",
       "<tr>\n",
       "  <th>Df Residuals:</th>          <td>  3211</td>      <th>  BIC:               </th> <td>1.489e+04</td>\n",
       "</tr>\n",
       "<tr>\n",
       "  <th>Df Model:</th>              <td>     6</td>      <th>                     </th>     <td> </td>    \n",
       "</tr>\n",
       "<tr>\n",
       "  <th>Covariance Type:</th>      <td>nonrobust</td>    <th>                     </th>     <td> </td>    \n",
       "</tr>\n",
       "</table>\n",
       "<table class=\"simpletable\">\n",
       "<tr>\n",
       "       <td></td>          <th>coef</th>     <th>std err</th>      <th>t</th>      <th>P>|t|</th>  <th>[0.025</th>    <th>0.975]</th>  \n",
       "</tr>\n",
       "<tr>\n",
       "  <th>const</th>       <td>    2.6802</td> <td>    0.983</td> <td>    2.725</td> <td> 0.006</td> <td>    0.752</td> <td>    4.608</td>\n",
       "</tr>\n",
       "<tr>\n",
       "  <th>TotalPop</th>    <td>    0.5934</td> <td>    0.032</td> <td>   18.267</td> <td> 0.000</td> <td>    0.530</td> <td>    0.657</td>\n",
       "</tr>\n",
       "<tr>\n",
       "  <th>Native</th>      <td>    0.0806</td> <td>    0.006</td> <td>   12.927</td> <td> 0.000</td> <td>    0.068</td> <td>    0.093</td>\n",
       "</tr>\n",
       "<tr>\n",
       "  <th>Citizen</th>     <td>    3.2698</td> <td>    0.863</td> <td>    3.791</td> <td> 0.000</td> <td>    1.579</td> <td>    4.961</td>\n",
       "</tr>\n",
       "<tr>\n",
       "  <th>Poverty</th>     <td>    0.2075</td> <td>    0.008</td> <td>   26.576</td> <td> 0.000</td> <td>    0.192</td> <td>    0.223</td>\n",
       "</tr>\n",
       "<tr>\n",
       "  <th>MeanCommute</th> <td>    0.0939</td> <td>    0.009</td> <td>   10.874</td> <td> 0.000</td> <td>    0.077</td> <td>    0.111</td>\n",
       "</tr>\n",
       "<tr>\n",
       "  <th>Employed</th>    <td>  -21.1363</td> <td>    0.975</td> <td>  -21.680</td> <td> 0.000</td> <td>  -23.048</td> <td>  -19.225</td>\n",
       "</tr>\n",
       "</table>\n",
       "<table class=\"simpletable\">\n",
       "<tr>\n",
       "  <th>Omnibus:</th>       <td>424.389</td> <th>  Durbin-Watson:     </th> <td>   1.749</td>\n",
       "</tr>\n",
       "<tr>\n",
       "  <th>Prob(Omnibus):</th> <td> 0.000</td>  <th>  Jarque-Bera (JB):  </th> <td>3385.297</td>\n",
       "</tr>\n",
       "<tr>\n",
       "  <th>Skew:</th>          <td> 0.360</td>  <th>  Prob(JB):          </th> <td>    0.00</td>\n",
       "</tr>\n",
       "<tr>\n",
       "  <th>Kurtosis:</th>      <td> 7.973</td>  <th>  Cond. No.          </th> <td>    998.</td>\n",
       "</tr>\n",
       "</table><br/><br/>Notes:<br/>[1] Standard Errors assume that the covariance matrix of the errors is correctly specified."
      ],
      "text/plain": [
       "<class 'statsmodels.iolib.summary.Summary'>\n",
       "\"\"\"\n",
       "                            OLS Regression Results                            \n",
       "==============================================================================\n",
       "Dep. Variable:           Unemployment   R-squared:                       0.649\n",
       "Model:                            OLS   Adj. R-squared:                  0.649\n",
       "Method:                 Least Squares   F-statistic:                     990.8\n",
       "Date:                Tue, 06 Oct 2020   Prob (F-statistic):               0.00\n",
       "Time:                        12:47:44   Log-Likelihood:                -7414.9\n",
       "No. Observations:                3218   AIC:                         1.484e+04\n",
       "Df Residuals:                    3211   BIC:                         1.489e+04\n",
       "Df Model:                           6                                         \n",
       "Covariance Type:            nonrobust                                         \n",
       "===============================================================================\n",
       "                  coef    std err          t      P>|t|      [0.025      0.975]\n",
       "-------------------------------------------------------------------------------\n",
       "const           2.6802      0.983      2.725      0.006       0.752       4.608\n",
       "TotalPop        0.5934      0.032     18.267      0.000       0.530       0.657\n",
       "Native          0.0806      0.006     12.927      0.000       0.068       0.093\n",
       "Citizen         3.2698      0.863      3.791      0.000       1.579       4.961\n",
       "Poverty         0.2075      0.008     26.576      0.000       0.192       0.223\n",
       "MeanCommute     0.0939      0.009     10.874      0.000       0.077       0.111\n",
       "Employed      -21.1363      0.975    -21.680      0.000     -23.048     -19.225\n",
       "==============================================================================\n",
       "Omnibus:                      424.389   Durbin-Watson:                   1.749\n",
       "Prob(Omnibus):                  0.000   Jarque-Bera (JB):             3385.297\n",
       "Skew:                           0.360   Prob(JB):                         0.00\n",
       "Kurtosis:                       7.973   Cond. No.                         998.\n",
       "==============================================================================\n",
       "\n",
       "Notes:\n",
       "[1] Standard Errors assume that the covariance matrix of the errors is correctly specified.\n",
       "\"\"\""
      ]
     },
     "execution_count": 159,
     "metadata": {
      "tags": []
     },
     "output_type": "execute_result"
    }
   ],
   "source": [
    "model_3=OLS(y, add_constant(X[list(sfs1.k_feature_names_)])).fit()\n",
    "model_3.summary()"
   ]
  },
  {
   "cell_type": "markdown",
   "metadata": {
    "id": "QoTbQlSs3GDV"
   },
   "source": [
    "# Embeded"
   ]
  },
  {
   "cell_type": "code",
   "execution_count": null,
   "metadata": {
    "id": "jnhmiRsU3GDW"
   },
   "outputs": [],
   "source": [
    "from sklearn.linear_model import RidgeCV, LassoCV"
   ]
  },
  {
   "cell_type": "code",
   "execution_count": null,
   "metadata": {
    "id": "CqBC4Ysm3GDZ",
    "outputId": "692e0000-f1aa-4981-a728-e010732a4701"
   },
   "outputs": [
    {
     "data": {
      "text/plain": [
       "LassoCV()"
      ]
     },
     "execution_count": 141,
     "metadata": {
      "tags": []
     },
     "output_type": "execute_result"
    }
   ],
   "source": [
    "selector4=LassoCV()\n",
    "selector4.fit(X,y)"
   ]
  },
  {
   "cell_type": "code",
   "execution_count": null,
   "metadata": {
    "id": "LgI2MaT43GDc",
    "outputId": "4373782b-91ee-4c4a-f786-2196d5c392c5"
   },
   "outputs": [
    {
     "name": "stdout",
     "output_type": "stream",
     "text": [
      "best alpha is 0.09493082767478582\n",
      "best R2 is 0.6333230887766529\n"
     ]
    }
   ],
   "source": [
    "print('best alpha is', selector4.alpha_)\n",
    "print('best R2 is', selector4.score(X,y))"
   ]
  },
  {
   "cell_type": "code",
   "execution_count": null,
   "metadata": {
    "id": "gX6pUPz13GDf"
   },
   "outputs": [],
   "source": [
    "coef=pd.Series(selector4.coef_, index=X.columns)"
   ]
  },
  {
   "cell_type": "code",
   "execution_count": null,
   "metadata": {
    "id": "4CJtoTme3GDi"
   },
   "outputs": [],
   "source": [
    "sns.set()"
   ]
  },
  {
   "cell_type": "code",
   "execution_count": null,
   "metadata": {
    "id": "4kkkeVvA3GDk",
    "outputId": "22c2965a-d598-4b55-f4d0-a153a0c74fde"
   },
   "outputs": [
    {
     "data": {
      "text/plain": [
       "<AxesSubplot:>"
      ]
     },
     "execution_count": 140,
     "metadata": {
      "tags": []
     },
     "output_type": "execute_result"
    },
    {
     "data": {
      "image/png": "[encoded data removed]",
      "text/plain": [
       "<Figure size 864x864 with 1 Axes>"
      ]
     },
     "metadata": {
      "tags": []
     },
     "output_type": "display_data"
    }
   ],
   "source": [
    "coef.sort_values().plot.barh(figsize=(12,12))"
   ]
  },
  {
   "cell_type": "code",
   "execution_count": null,
   "metadata": {
    "id": "PvpPQ8bS3GDn",
    "outputId": "929249e0-57de-4a33-d74c-c06b6279b0de"
   },
   "outputs": [
    {
     "data": {
      "text/plain": [
       "-0.0"
      ]
     },
     "execution_count": 146,
     "metadata": {
      "tags": []
     },
     "output_type": "execute_result"
    }
   ],
   "source": [
    "coef.Pacific"
   ]
  },
  {
   "cell_type": "code",
   "execution_count": null,
   "metadata": {
    "id": "K6s8Fzxn3GDq"
   },
   "outputs": [],
   "source": [
    "selector5=RidgeCV()"
   ]
  },
  {
   "cell_type": "code",
   "execution_count": null,
   "metadata": {
    "id": "TNLI65_23GDt",
    "outputId": "da1f4d81-1cdb-4b88-81ef-04541d1e1efa"
   },
   "outputs": [
    {
     "data": {
      "text/plain": [
       "RidgeCV(alphas=array([ 0.1,  1. , 10. ]))"
      ]
     },
     "execution_count": 148,
     "metadata": {
      "tags": []
     },
     "output_type": "execute_result"
    }
   ],
   "source": [
    "selector5.fit(X,y)"
   ]
  },
  {
   "cell_type": "code",
   "execution_count": null,
   "metadata": {
    "id": "i1FDNYIs3GDy",
    "outputId": "88d1ba56-74f0-4857-d846-218a75768895"
   },
   "outputs": [
    {
     "name": "stdout",
     "output_type": "stream",
     "text": [
      "best alpha is 0.1\n",
      "best R2 is 0.6888126632027125\n"
     ]
    }
   ],
   "source": [
    "print('best alpha is', selector5.alpha_)\n",
    "print('best R2 is', selector5.score(X,y))"
   ]
  },
  {
   "cell_type": "code",
   "execution_count": null,
   "metadata": {
    "id": "QQvIOtUe3GD1",
    "outputId": "5dcb3f67-2ec0-4579-9f08-616eca53ef8c"
   },
   "outputs": [
    {
     "data": {
      "text/plain": [
       "<AxesSubplot:>"
      ]
     },
     "execution_count": 150,
     "metadata": {
      "tags": []
     },
     "output_type": "execute_result"
    },
    {
     "data": {
      "image/png": "[encoded data removed]",
      "text/plain": [
       "<Figure size 864x864 with 1 Axes>"
      ]
     },
     "metadata": {
      "tags": []
     },
     "output_type": "display_data"
    }
   ],
   "source": [
    "coef=pd.Series(selector5.coef_, index=X.columns)\n",
    "coef.sort_values().plot.barh(figsize=(12,12))"
   ]
  },
  {
   "cell_type": "code",
   "execution_count": null,
   "metadata": {
    "id": "YbCHetut3GD4",
    "outputId": "8716102f-16f6-40c7-afa3-6c863615eccb"
   },
   "outputs": [
    {
     "data": {
      "text/plain": [
       "<matplotlib.collections.PathCollection at 0x7f0b27f37410>"
      ]
     },
     "execution_count": 153,
     "metadata": {
      "tags": []
     },
     "output_type": "execute_result"
    },
    {
     "data": {
      "image/png": "[encoded data removed]",
      "text/plain": [
       "<Figure size 432x288 with 1 Axes>"
      ]
     },
     "metadata": {
      "tags": []
     },
     "output_type": "display_data"
    }
   ],
   "source": [
    "plt.scatter(y,selector5.predict(X))"
   ]
  },
  {
   "cell_type": "code",
   "execution_count": null,
   "metadata": {
    "id": "KS31YnuR3GD7",
    "outputId": "3bf8327a-4301-42f1-c420-ef9d08b1c177"
   },
   "outputs": [
    {
     "data": {
      "text/plain": [
       "<matplotlib.collections.PathCollection at 0x7f0b28312a50>"
      ]
     },
     "execution_count": 154,
     "metadata": {
      "tags": []
     },
     "output_type": "execute_result"
    },
    {
     "data": {
      "image/png": "[encoded data removed]",
      "text/plain": [
       "<Figure size 432x288 with 1 Axes>"
      ]
     },
     "metadata": {
      "tags": []
     },
     "output_type": "display_data"
    }
   ],
   "source": [
    "plt.scatter(y,selector4.predict(X))"
   ]
  },
  {
   "cell_type": "code",
   "execution_count": null,
   "metadata": {
    "id": "nVXEm7TR3GD_"
   },
   "outputs": [],
   "source": [
    "def rmse(actual, pred):\n",
    "    return ((actual-pred)**2).mean()**0.5"
   ]
  },
  {
   "cell_type": "code",
   "execution_count": null,
   "metadata": {
    "id": "9Zp5KDQd3GEC",
    "outputId": "55caa966-412e-4b1e-d0d8-bd60cf2a39ad"
   },
   "outputs": [
    {
     "data": {
      "text/plain": [
       "2.478107079544109"
      ]
     },
     "execution_count": 156,
     "metadata": {
      "tags": []
     },
     "output_type": "execute_result"
    }
   ],
   "source": [
    "rmse(y,selector4.predict(X))"
   ]
  },
  {
   "cell_type": "code",
   "execution_count": null,
   "metadata": {
    "id": "X3kq1KTs3GEG",
    "outputId": "bf3ba5a4-3005-47d4-ed32-093ffaa6293f"
   },
   "outputs": [
    {
     "data": {
      "text/plain": [
       "2.2829123848694888"
      ]
     },
     "execution_count": 157,
     "metadata": {
      "tags": []
     },
     "output_type": "execute_result"
    }
   ],
   "source": [
    "rmse(y,selector5.predict(X))"
   ]
  },
  {
   "cell_type": "code",
   "execution_count": null,
   "metadata": {
    "id": "XuBkl1E93GEJ",
    "outputId": "dc812c29-d781-466a-b3e0-78b8d682bf7e"
   },
   "outputs": [
    {
     "data": {
      "text/plain": [
       "2.4235799233599473"
      ]
     },
     "execution_count": 164,
     "metadata": {
      "tags": []
     },
     "output_type": "execute_result"
    }
   ],
   "source": [
    "rmse(y,model_3.predict())"
   ]
  },
  {
   "cell_type": "code",
   "execution_count": null,
   "metadata": {
    "id": "mg2hy0Qm3GEN",
    "outputId": "b6203c22-41f6-40b7-c866-4c0a81592245"
   },
   "outputs": [
    {
     "data": {
      "text/plain": [
       "2.4235799233599473"
      ]
     },
     "execution_count": 166,
     "metadata": {
      "tags": []
     },
     "output_type": "execute_result"
    }
   ],
   "source": [
    "rmse(y, model2.predict())"
   ]
  },
  {
   "cell_type": "code",
   "execution_count": null,
   "metadata": {
    "id": "Q2Yd0F7Y3GEQ",
    "outputId": "985d6c67-0cbb-42ea-a924-8e3319a18aea"
   },
   "outputs": [
    {
     "data": {
      "text/plain": [
       "2.6549054819571136"
      ]
     },
     "execution_count": 168,
     "metadata": {
      "tags": []
     },
     "output_type": "execute_result"
    }
   ],
   "source": [
    "rmse(y, model1.predict())"
   ]
  },
  {
   "cell_type": "code",
   "execution_count": null,
   "metadata": {
    "id": "8toZuBv-3GET",
    "outputId": "e8ae1769-0f63-486a-a072-e5a06ec52631"
   },
   "outputs": [
    {
     "data": {
      "text/plain": [
       "2.5778049169758486"
      ]
     },
     "execution_count": 170,
     "metadata": {
      "tags": []
     },
     "output_type": "execute_result"
    }
   ],
   "source": [
    "rmse(y, model0.predict())"
   ]
  }
 ],
 "metadata": {
  "colab": {
   "name": "3.1.1.ipynb",
   "provenance": []
  },
  "kernelspec": {
   "display_name": "Python 3",
   "language": "python",
   "name": "python3"
  },
  "language_info": {
   "codemirror_mode": {
    "name": "ipython",
    "version": 3
   },
   "file_extension": ".py",
   "mimetype": "text/x-python",
   "name": "python",
   "nbconvert_exporter": "python",
   "pygments_lexer": "ipython3",
   "version": "3.8.5"
  },
  "toc": {
   "base_numbering": 1,
   "nav_menu": {},
   "number_sections": true,
   "sideBar": true,
   "skip_h1_title": false,
   "title_cell": "Table of Contents",
   "title_sidebar": "Contents",
   "toc_cell": true,
   "toc_position": {},
   "toc_section_display": true,
   "toc_window_display": false
  }
 },
 "nbformat": 4,
 "nbformat_minor": 1
}
